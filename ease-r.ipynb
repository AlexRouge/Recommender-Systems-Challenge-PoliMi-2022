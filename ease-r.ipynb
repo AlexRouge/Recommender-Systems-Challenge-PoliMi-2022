{
 "cells": [
  {
   "cell_type": "code",
   "execution_count": 1,
   "id": "2e4f2c14",
   "metadata": {
    "_cell_guid": "b1076dfc-b9ad-4769-8c92-a6c4dae69d19",
    "_uuid": "8f2839f25d086af736a60e9eeb907d3b93b6e0e5",
    "execution": {
     "iopub.execute_input": "2022-11-30T21:14:05.245316Z",
     "iopub.status.busy": "2022-11-30T21:14:05.244826Z",
     "iopub.status.idle": "2022-11-30T21:14:11.214024Z",
     "shell.execute_reply": "2022-11-30T21:14:11.212686Z"
    },
    "papermill": {
     "duration": 5.986983,
     "end_time": "2022-11-30T21:14:11.216929",
     "exception": false,
     "start_time": "2022-11-30T21:14:05.229946",
     "status": "completed"
    },
    "tags": []
   },
   "outputs": [],
   "source": [
    "!cp -r ../input/recsys-repo/RecSys_Course_AT_PoliMi-master/* ./\n",
    "%config Completer.use_jedi = False\n",
    "\n",
    "import pandas as pd\n",
    "import numpy as np\n",
    "from scipy import sparse as sps\n",
    "from Recommenders.EASE_R.EASE_R_Recommender import EASE_R_Recommender\n",
    "from Evaluation.Evaluator import EvaluatorHoldout\n",
    "from Data_manager.split_functions.split_train_validation_random_holdout import split_train_in_two_percentage_global_sample\n",
    "from Recommenders.BaseRecommender import BaseRecommender"
   ]
  },
  {
   "cell_type": "code",
   "execution_count": 2,
   "id": "dce746b1",
   "metadata": {
    "execution": {
     "iopub.execute_input": "2022-11-30T21:14:11.231572Z",
     "iopub.status.busy": "2022-11-30T21:14:11.231157Z",
     "iopub.status.idle": "2022-11-30T21:14:11.807248Z",
     "shell.execute_reply": "2022-11-30T21:14:11.805746Z"
    },
    "papermill": {
     "duration": 0.587244,
     "end_time": "2022-11-30T21:14:11.810412",
     "exception": false,
     "start_time": "2022-11-30T21:14:11.223168",
     "status": "completed"
    },
    "tags": []
   },
   "outputs": [],
   "source": [
    "def get_URM():\n",
    "    return pd.read_csv('/kaggle/input/urm-true-binary/URM_True_Binary.csv')\n",
    "URM_all_dataframe = get_URM()"
   ]
  },
  {
   "cell_type": "code",
   "execution_count": 3,
   "id": "9b08826c",
   "metadata": {
    "execution": {
     "iopub.execute_input": "2022-11-30T21:14:11.824331Z",
     "iopub.status.busy": "2022-11-30T21:14:11.823930Z",
     "iopub.status.idle": "2022-11-30T21:14:12.195960Z",
     "shell.execute_reply": "2022-11-30T21:14:12.194984Z"
    },
    "papermill": {
     "duration": 0.382253,
     "end_time": "2022-11-30T21:14:12.198902",
     "exception": false,
     "start_time": "2022-11-30T21:14:11.816649",
     "status": "completed"
    },
    "tags": []
   },
   "outputs": [],
   "source": [
    "URM_path = \"../input/urm-true-binary/URM_True_Binary.csv\"\n",
    "URM_all_dataframe = pd.read_csv(filepath_or_buffer=URM_path, \n",
    "                                sep=\",\",\n",
    "                                dtype={0:int, 1:int, 2:float},\n",
    "                                header=0)\n",
    "URM_all_dataframe.columns = [\"UserID\", \"ItemID\", \"Data\"]\n",
    "URM_all = sps.coo_matrix((URM_all_dataframe[\"Data\"].values, \n",
    "                          (URM_all_dataframe[\"UserID\"].values, URM_all_dataframe[\"ItemID\"].values)))\n",
    "URM_all = URM_all.tocsr() # to obtain fast access to rows (users)"
   ]
  },
  {
   "cell_type": "code",
   "execution_count": 4,
   "id": "ffb3caea",
   "metadata": {
    "execution": {
     "iopub.execute_input": "2022-11-30T21:14:12.213103Z",
     "iopub.status.busy": "2022-11-30T21:14:12.212678Z",
     "iopub.status.idle": "2022-11-30T21:14:15.117437Z",
     "shell.execute_reply": "2022-11-30T21:14:15.116060Z"
    },
    "papermill": {
     "duration": 2.915468,
     "end_time": "2022-11-30T21:14:15.120509",
     "exception": false,
     "start_time": "2022-11-30T21:14:12.205041",
     "status": "completed"
    },
    "tags": []
   },
   "outputs": [
    {
     "name": "stdout",
     "output_type": "stream",
     "text": [
      "Warning: 298 (0.72 %) of 41629 users have no sampled items\n"
     ]
    }
   ],
   "source": [
    "from Data_manager.split_functions.split_train_validation_random_holdout import split_train_in_two_percentage_global_sample\n",
    "\n",
    "# split data into train and validation data 80/20\n",
    "URM_train, URM_valid = split_train_in_two_percentage_global_sample(URM_all, train_percentage = 0.80)"
   ]
  },
  {
   "cell_type": "code",
   "execution_count": null,
   "id": "2c385f55",
   "metadata": {
    "papermill": {
     "duration": 0.005882,
     "end_time": "2022-11-30T21:14:15.132502",
     "exception": false,
     "start_time": "2022-11-30T21:14:15.126620",
     "status": "completed"
    },
    "tags": []
   },
   "outputs": [],
   "source": []
  },
  {
   "cell_type": "code",
   "execution_count": 5,
   "id": "4ea5cb87",
   "metadata": {
    "execution": {
     "iopub.execute_input": "2022-11-30T21:14:15.146986Z",
     "iopub.status.busy": "2022-11-30T21:14:15.145729Z",
     "iopub.status.idle": "2022-11-30T21:14:15.183916Z",
     "shell.execute_reply": "2022-11-30T21:14:15.182802Z"
    },
    "papermill": {
     "duration": 0.048075,
     "end_time": "2022-11-30T21:14:15.186552",
     "exception": false,
     "start_time": "2022-11-30T21:14:15.138477",
     "status": "completed"
    },
    "tags": []
   },
   "outputs": [],
   "source": [
    "rec = EASE_R_Recommender(URM_train)"
   ]
  },
  {
   "cell_type": "code",
   "execution_count": 6,
   "id": "a94be5ae",
   "metadata": {
    "execution": {
     "iopub.execute_input": "2022-11-30T21:14:15.200531Z",
     "iopub.status.busy": "2022-11-30T21:14:15.200056Z",
     "iopub.status.idle": "2022-11-30T21:24:51.607488Z",
     "shell.execute_reply": "2022-11-30T21:24:51.606227Z"
    },
    "papermill": {
     "duration": 636.417644,
     "end_time": "2022-11-30T21:24:51.610278",
     "exception": false,
     "start_time": "2022-11-30T21:14:15.192634",
     "status": "completed"
    },
    "tags": []
   },
   "outputs": [
    {
     "name": "stdout",
     "output_type": "stream",
     "text": [
      "EASE_R_Recommender: Fitting model... \n",
      "EASE_R_Recommender: Fitting model... done in 10.59 min\n"
     ]
    }
   ],
   "source": [
    "rec.fit()"
   ]
  },
  {
   "cell_type": "code",
   "execution_count": 7,
   "id": "b2a2ff64",
   "metadata": {
    "execution": {
     "iopub.execute_input": "2022-11-30T21:24:51.625090Z",
     "iopub.status.busy": "2022-11-30T21:24:51.624338Z",
     "iopub.status.idle": "2022-11-30T21:24:51.649923Z",
     "shell.execute_reply": "2022-11-30T21:24:51.648572Z"
    },
    "papermill": {
     "duration": 0.036065,
     "end_time": "2022-11-30T21:24:51.652617",
     "exception": false,
     "start_time": "2022-11-30T21:24:51.616552",
     "status": "completed"
    },
    "tags": []
   },
   "outputs": [
    {
     "name": "stdout",
     "output_type": "stream",
     "text": [
      "EvaluatorHoldout: Ignoring 298 ( 0.7%) Users that have less than 1 test interactions\n"
     ]
    }
   ],
   "source": [
    "evaluator_validation = EvaluatorHoldout(URM_valid, cutoff_list=[10])"
   ]
  },
  {
   "cell_type": "code",
   "execution_count": 8,
   "id": "94f08c42",
   "metadata": {
    "execution": {
     "iopub.execute_input": "2022-11-30T21:24:51.666896Z",
     "iopub.status.busy": "2022-11-30T21:24:51.666439Z",
     "iopub.status.idle": "2022-11-30T21:25:47.268701Z",
     "shell.execute_reply": "2022-11-30T21:25:47.267084Z"
    },
    "papermill": {
     "duration": 55.613096,
     "end_time": "2022-11-30T21:25:47.272076",
     "exception": false,
     "start_time": "2022-11-30T21:24:51.658980",
     "status": "completed"
    },
    "tags": []
   },
   "outputs": [
    {
     "name": "stdout",
     "output_type": "stream",
     "text": [
      "EvaluatorHoldout: Processed 41331 (100.0%) in 55.55 sec. Users per second: 744\n"
     ]
    },
    {
     "data": {
      "text/html": [
       "<div>\n",
       "<style scoped>\n",
       "    .dataframe tbody tr th:only-of-type {\n",
       "        vertical-align: middle;\n",
       "    }\n",
       "\n",
       "    .dataframe tbody tr th {\n",
       "        vertical-align: top;\n",
       "    }\n",
       "\n",
       "    .dataframe thead th {\n",
       "        text-align: right;\n",
       "    }\n",
       "</style>\n",
       "<table border=\"1\" class=\"dataframe\">\n",
       "  <thead>\n",
       "    <tr style=\"text-align: right;\">\n",
       "      <th></th>\n",
       "      <th>PRECISION</th>\n",
       "      <th>PRECISION_RECALL_MIN_DEN</th>\n",
       "      <th>RECALL</th>\n",
       "      <th>MAP</th>\n",
       "      <th>MAP_MIN_DEN</th>\n",
       "      <th>MRR</th>\n",
       "      <th>NDCG</th>\n",
       "      <th>F1</th>\n",
       "      <th>HIT_RATE</th>\n",
       "      <th>ARHR_ALL_HITS</th>\n",
       "      <th>...</th>\n",
       "      <th>COVERAGE_USER</th>\n",
       "      <th>COVERAGE_USER_HIT</th>\n",
       "      <th>USERS_IN_GT</th>\n",
       "      <th>DIVERSITY_GINI</th>\n",
       "      <th>SHANNON_ENTROPY</th>\n",
       "      <th>RATIO_DIVERSITY_HERFINDAHL</th>\n",
       "      <th>RATIO_DIVERSITY_GINI</th>\n",
       "      <th>RATIO_SHANNON_ENTROPY</th>\n",
       "      <th>RATIO_AVERAGE_POPULARITY</th>\n",
       "      <th>RATIO_NOVELTY</th>\n",
       "    </tr>\n",
       "    <tr>\n",
       "      <th>cutoff</th>\n",
       "      <th></th>\n",
       "      <th></th>\n",
       "      <th></th>\n",
       "      <th></th>\n",
       "      <th></th>\n",
       "      <th></th>\n",
       "      <th></th>\n",
       "      <th></th>\n",
       "      <th></th>\n",
       "      <th></th>\n",
       "      <th></th>\n",
       "      <th></th>\n",
       "      <th></th>\n",
       "      <th></th>\n",
       "      <th></th>\n",
       "      <th></th>\n",
       "      <th></th>\n",
       "      <th></th>\n",
       "      <th></th>\n",
       "      <th></th>\n",
       "      <th></th>\n",
       "    </tr>\n",
       "  </thead>\n",
       "  <tbody>\n",
       "    <tr>\n",
       "      <th>10</th>\n",
       "      <td>0.064475</td>\n",
       "      <td>0.088531</td>\n",
       "      <td>0.07705</td>\n",
       "      <td>0.032111</td>\n",
       "      <td>0.04351</td>\n",
       "      <td>0.201352</td>\n",
       "      <td>0.091128</td>\n",
       "      <td>0.070204</td>\n",
       "      <td>0.398781</td>\n",
       "      <td>0.251765</td>\n",
       "      <td>...</td>\n",
       "      <td>0.992842</td>\n",
       "      <td>0.395926</td>\n",
       "      <td>0.992842</td>\n",
       "      <td>0.008679</td>\n",
       "      <td>7.773179</td>\n",
       "      <td>0.988591</td>\n",
       "      <td>0.017092</td>\n",
       "      <td>0.576091</td>\n",
       "      <td>5.311766</td>\n",
       "      <td>0.244134</td>\n",
       "    </tr>\n",
       "  </tbody>\n",
       "</table>\n",
       "<p>1 rows × 27 columns</p>\n",
       "</div>"
      ],
      "text/plain": [
       "       PRECISION PRECISION_RECALL_MIN_DEN   RECALL       MAP MAP_MIN_DEN  \\\n",
       "cutoff                                                                     \n",
       "10      0.064475                 0.088531  0.07705  0.032111     0.04351   \n",
       "\n",
       "             MRR      NDCG        F1  HIT_RATE ARHR_ALL_HITS  ...  \\\n",
       "cutoff                                                        ...   \n",
       "10      0.201352  0.091128  0.070204  0.398781      0.251765  ...   \n",
       "\n",
       "       COVERAGE_USER COVERAGE_USER_HIT USERS_IN_GT DIVERSITY_GINI  \\\n",
       "cutoff                                                              \n",
       "10          0.992842          0.395926    0.992842       0.008679   \n",
       "\n",
       "       SHANNON_ENTROPY RATIO_DIVERSITY_HERFINDAHL RATIO_DIVERSITY_GINI  \\\n",
       "cutoff                                                                   \n",
       "10            7.773179                   0.988591             0.017092   \n",
       "\n",
       "       RATIO_SHANNON_ENTROPY RATIO_AVERAGE_POPULARITY RATIO_NOVELTY  \n",
       "cutoff                                                               \n",
       "10                  0.576091                 5.311766      0.244134  \n",
       "\n",
       "[1 rows x 27 columns]"
      ]
     },
     "execution_count": 8,
     "metadata": {},
     "output_type": "execute_result"
    }
   ],
   "source": [
    "result_df, _ = evaluator_validation.evaluateRecommender(rec)\n",
    "result_df"
   ]
  },
  {
   "cell_type": "code",
   "execution_count": 9,
   "id": "eb4a0adc",
   "metadata": {
    "execution": {
     "iopub.execute_input": "2022-11-30T21:25:47.287883Z",
     "iopub.status.busy": "2022-11-30T21:25:47.287429Z",
     "iopub.status.idle": "2022-11-30T21:25:47.328662Z",
     "shell.execute_reply": "2022-11-30T21:25:47.327407Z"
    },
    "papermill": {
     "duration": 0.052828,
     "end_time": "2022-11-30T21:25:47.331638",
     "exception": false,
     "start_time": "2022-11-30T21:25:47.278810",
     "status": "completed"
    },
    "tags": []
   },
   "outputs": [
    {
     "data": {
      "text/html": [
       "<div>\n",
       "<style scoped>\n",
       "    .dataframe tbody tr th:only-of-type {\n",
       "        vertical-align: middle;\n",
       "    }\n",
       "\n",
       "    .dataframe tbody tr th {\n",
       "        vertical-align: top;\n",
       "    }\n",
       "\n",
       "    .dataframe thead th {\n",
       "        text-align: right;\n",
       "    }\n",
       "</style>\n",
       "<table border=\"1\" class=\"dataframe\">\n",
       "  <thead>\n",
       "    <tr style=\"text-align: right;\">\n",
       "      <th></th>\n",
       "      <th>user_id</th>\n",
       "    </tr>\n",
       "  </thead>\n",
       "  <tbody>\n",
       "    <tr>\n",
       "      <th>0</th>\n",
       "      <td>0</td>\n",
       "    </tr>\n",
       "    <tr>\n",
       "      <th>1</th>\n",
       "      <td>1</td>\n",
       "    </tr>\n",
       "    <tr>\n",
       "      <th>2</th>\n",
       "      <td>2</td>\n",
       "    </tr>\n",
       "    <tr>\n",
       "      <th>3</th>\n",
       "      <td>3</td>\n",
       "    </tr>\n",
       "    <tr>\n",
       "      <th>4</th>\n",
       "      <td>4</td>\n",
       "    </tr>\n",
       "    <tr>\n",
       "      <th>...</th>\n",
       "      <td>...</td>\n",
       "    </tr>\n",
       "    <tr>\n",
       "      <th>41111</th>\n",
       "      <td>41624</td>\n",
       "    </tr>\n",
       "    <tr>\n",
       "      <th>41112</th>\n",
       "      <td>41625</td>\n",
       "    </tr>\n",
       "    <tr>\n",
       "      <th>41113</th>\n",
       "      <td>41626</td>\n",
       "    </tr>\n",
       "    <tr>\n",
       "      <th>41114</th>\n",
       "      <td>41627</td>\n",
       "    </tr>\n",
       "    <tr>\n",
       "      <th>41115</th>\n",
       "      <td>41628</td>\n",
       "    </tr>\n",
       "  </tbody>\n",
       "</table>\n",
       "<p>41116 rows × 1 columns</p>\n",
       "</div>"
      ],
      "text/plain": [
       "       user_id\n",
       "0            0\n",
       "1            1\n",
       "2            2\n",
       "3            3\n",
       "4            4\n",
       "...        ...\n",
       "41111    41624\n",
       "41112    41625\n",
       "41113    41626\n",
       "41114    41627\n",
       "41115    41628\n",
       "\n",
       "[41116 rows x 1 columns]"
      ]
     },
     "execution_count": 9,
     "metadata": {},
     "output_type": "execute_result"
    }
   ],
   "source": [
    "test_users = pd.read_csv('/kaggle/input/competition-data/data_target_users_test.csv')\n",
    "test_users"
   ]
  },
  {
   "cell_type": "code",
   "execution_count": 10,
   "id": "43dbaa9a",
   "metadata": {
    "execution": {
     "iopub.execute_input": "2022-11-30T21:25:47.347595Z",
     "iopub.status.busy": "2022-11-30T21:25:47.346913Z",
     "iopub.status.idle": "2022-11-30T21:26:29.685156Z",
     "shell.execute_reply": "2022-11-30T21:26:29.683833Z"
    },
    "papermill": {
     "duration": 42.349413,
     "end_time": "2022-11-30T21:26:29.688250",
     "exception": false,
     "start_time": "2022-11-30T21:25:47.338837",
     "status": "completed"
    },
    "tags": []
   },
   "outputs": [],
   "source": [
    "user_id = test_users['user_id']\n",
    "recommendations = []\n",
    "for user in user_id:\n",
    "    recommendations.append(rec.recommend(user,cutoff = 10,remove_seen_flag = True))\n",
    "for index in range(len(recommendations)):\n",
    "    recommendations[index]=np.array(recommendations[index])\n",
    "    \n",
    "test_users['item_list']= recommendations\n",
    "test_users['item_list'] = pd.DataFrame([str(line).strip('[').strip(']').replace(\"'\",\"\") for line in test_users['item_list']])\n",
    "test_users.to_csv('submissionR_NoDup.csv', index=False)"
   ]
  },
  {
   "cell_type": "code",
   "execution_count": 11,
   "id": "d7d9277a",
   "metadata": {
    "execution": {
     "iopub.execute_input": "2022-11-30T21:26:29.705445Z",
     "iopub.status.busy": "2022-11-30T21:26:29.704719Z",
     "iopub.status.idle": "2022-11-30T21:26:29.740054Z",
     "shell.execute_reply": "2022-11-30T21:26:29.738816Z"
    },
    "papermill": {
     "duration": 0.046667,
     "end_time": "2022-11-30T21:26:29.742701",
     "exception": false,
     "start_time": "2022-11-30T21:26:29.696034",
     "status": "completed"
    },
    "tags": []
   },
   "outputs": [
    {
     "data": {
      "text/html": [
       "<div>\n",
       "<style scoped>\n",
       "    .dataframe tbody tr th:only-of-type {\n",
       "        vertical-align: middle;\n",
       "    }\n",
       "\n",
       "    .dataframe tbody tr th {\n",
       "        vertical-align: top;\n",
       "    }\n",
       "\n",
       "    .dataframe thead th {\n",
       "        text-align: right;\n",
       "    }\n",
       "</style>\n",
       "<table border=\"1\" class=\"dataframe\">\n",
       "  <thead>\n",
       "    <tr style=\"text-align: right;\">\n",
       "      <th></th>\n",
       "      <th>item_id</th>\n",
       "      <th>feature_id</th>\n",
       "      <th>data</th>\n",
       "    </tr>\n",
       "  </thead>\n",
       "  <tbody>\n",
       "    <tr>\n",
       "      <th>0</th>\n",
       "      <td>0</td>\n",
       "      <td>1</td>\n",
       "      <td>1</td>\n",
       "    </tr>\n",
       "    <tr>\n",
       "      <th>1</th>\n",
       "      <td>1</td>\n",
       "      <td>3</td>\n",
       "      <td>1</td>\n",
       "    </tr>\n",
       "    <tr>\n",
       "      <th>2</th>\n",
       "      <td>2</td>\n",
       "      <td>4</td>\n",
       "      <td>1</td>\n",
       "    </tr>\n",
       "    <tr>\n",
       "      <th>3</th>\n",
       "      <td>3</td>\n",
       "      <td>1</td>\n",
       "      <td>1</td>\n",
       "    </tr>\n",
       "    <tr>\n",
       "      <th>4</th>\n",
       "      <td>4</td>\n",
       "      <td>3</td>\n",
       "      <td>1</td>\n",
       "    </tr>\n",
       "    <tr>\n",
       "      <th>...</th>\n",
       "      <td>...</td>\n",
       "      <td>...</td>\n",
       "      <td>...</td>\n",
       "    </tr>\n",
       "    <tr>\n",
       "      <th>23086</th>\n",
       "      <td>27963</td>\n",
       "      <td>1</td>\n",
       "      <td>1</td>\n",
       "    </tr>\n",
       "    <tr>\n",
       "      <th>23087</th>\n",
       "      <td>27964</td>\n",
       "      <td>2</td>\n",
       "      <td>1</td>\n",
       "    </tr>\n",
       "    <tr>\n",
       "      <th>23088</th>\n",
       "      <td>27965</td>\n",
       "      <td>1</td>\n",
       "      <td>1</td>\n",
       "    </tr>\n",
       "    <tr>\n",
       "      <th>23089</th>\n",
       "      <td>27966</td>\n",
       "      <td>1</td>\n",
       "      <td>1</td>\n",
       "    </tr>\n",
       "    <tr>\n",
       "      <th>23090</th>\n",
       "      <td>27967</td>\n",
       "      <td>4</td>\n",
       "      <td>1</td>\n",
       "    </tr>\n",
       "  </tbody>\n",
       "</table>\n",
       "<p>23091 rows × 3 columns</p>\n",
       "</div>"
      ],
      "text/plain": [
       "       item_id  feature_id  data\n",
       "0            0           1     1\n",
       "1            1           3     1\n",
       "2            2           4     1\n",
       "3            3           1     1\n",
       "4            4           3     1\n",
       "...        ...         ...   ...\n",
       "23086    27963           1     1\n",
       "23087    27964           2     1\n",
       "23088    27965           1     1\n",
       "23089    27966           1     1\n",
       "23090    27967           4     1\n",
       "\n",
       "[23091 rows x 3 columns]"
      ]
     },
     "execution_count": 11,
     "metadata": {},
     "output_type": "execute_result"
    }
   ],
   "source": [
    "ICM_type_df = pd.read_csv(\"/kaggle/input/competition-data/data_ICM_type.csv\")\n",
    "ICM_type_df"
   ]
  },
  {
   "cell_type": "code",
   "execution_count": 12,
   "id": "b52567ed",
   "metadata": {
    "execution": {
     "iopub.execute_input": "2022-11-30T21:26:29.758433Z",
     "iopub.status.busy": "2022-11-30T21:26:29.758017Z",
     "iopub.status.idle": "2022-11-30T21:26:29.769767Z",
     "shell.execute_reply": "2022-11-30T21:26:29.768702Z"
    },
    "papermill": {
     "duration": 0.022818,
     "end_time": "2022-11-30T21:26:29.772561",
     "exception": false,
     "start_time": "2022-11-30T21:26:29.749743",
     "status": "completed"
    },
    "tags": []
   },
   "outputs": [
    {
     "data": {
      "text/plain": [
       "(27968, 8)"
      ]
     },
     "execution_count": 12,
     "metadata": {},
     "output_type": "execute_result"
    }
   ],
   "source": [
    "items = ICM_type_df.item_id\n",
    "features = ICM_type_df.feature_id\n",
    "data = ICM_type_df.data\n",
    "ICM_type = sps.csr_matrix((data, (items, features)))\n",
    "ICM_type = ICM_type.astype(dtype = np.int32)\n",
    "ICM_type.shape"
   ]
  },
  {
   "cell_type": "code",
   "execution_count": 13,
   "id": "f28835ae",
   "metadata": {
    "execution": {
     "iopub.execute_input": "2022-11-30T21:26:29.788933Z",
     "iopub.status.busy": "2022-11-30T21:26:29.788506Z",
     "iopub.status.idle": "2022-11-30T21:26:30.166012Z",
     "shell.execute_reply": "2022-11-30T21:26:30.164532Z"
    },
    "papermill": {
     "duration": 0.389657,
     "end_time": "2022-11-30T21:26:30.169482",
     "exception": false,
     "start_time": "2022-11-30T21:26:29.779825",
     "status": "completed"
    },
    "tags": []
   },
   "outputs": [],
   "source": [
    "n_users = 41629\n",
    "n_itemsFromICM = ICM_type.shape[0]\n",
    "URM_path = \"../input/urm-true-binary/URM_True_Binary.csv\"\n",
    "URM_all_dataframe = pd.read_csv(filepath_or_buffer=URM_path, \n",
    "                                sep=\",\",\n",
    "                                dtype={0:int, 1:int, 2:float},\n",
    "                                header=0)\n",
    "URM_all_dataframe.columns = [\"UserID\", \"ItemID\", \"Data\"]\n",
    "URM_all = sps.coo_matrix((URM_all_dataframe[\"Data\"].values, \n",
    "                          (URM_all_dataframe[\"UserID\"].values, URM_all_dataframe[\"ItemID\"].values)), shape=(n_users,n_itemsFromICM))\n",
    "URM_all = URM_all.tocsr() # to obtain fast access to rows (users)"
   ]
  },
  {
   "cell_type": "code",
   "execution_count": 14,
   "id": "c4224218",
   "metadata": {
    "execution": {
     "iopub.execute_input": "2022-11-30T21:26:30.193699Z",
     "iopub.status.busy": "2022-11-30T21:26:30.192451Z",
     "iopub.status.idle": "2022-11-30T21:26:30.262292Z",
     "shell.execute_reply": "2022-11-30T21:26:30.261084Z"
    },
    "papermill": {
     "duration": 0.084711,
     "end_time": "2022-11-30T21:26:30.264948",
     "exception": false,
     "start_time": "2022-11-30T21:26:30.180237",
     "status": "completed"
    },
    "tags": []
   },
   "outputs": [
    {
     "data": {
      "text/plain": [
       "<41637x27968 sparse matrix of type '<class 'numpy.float64'>'\n",
       "\twith 1577731 stored elements in Compressed Sparse Row format>"
      ]
     },
     "execution_count": 14,
     "metadata": {},
     "output_type": "execute_result"
    }
   ],
   "source": [
    "stacked_URM_type = sps.vstack([URM_all, ICM_type.T])\n",
    "stacked_URM_type = sps.csr_matrix(stacked_URM_type)\n",
    "stacked_URM_type"
   ]
  },
  {
   "cell_type": "code",
   "execution_count": 15,
   "id": "1ada6d57",
   "metadata": {
    "execution": {
     "iopub.execute_input": "2022-11-30T21:26:30.283533Z",
     "iopub.status.busy": "2022-11-30T21:26:30.282657Z",
     "iopub.status.idle": "2022-11-30T21:26:30.312739Z",
     "shell.execute_reply": "2022-11-30T21:26:30.311503Z"
    },
    "papermill": {
     "duration": 0.043134,
     "end_time": "2022-11-30T21:26:30.316135",
     "exception": false,
     "start_time": "2022-11-30T21:26:30.273001",
     "status": "completed"
    },
    "tags": []
   },
   "outputs": [
    {
     "data": {
      "text/html": [
       "<div>\n",
       "<style scoped>\n",
       "    .dataframe tbody tr th:only-of-type {\n",
       "        vertical-align: middle;\n",
       "    }\n",
       "\n",
       "    .dataframe tbody tr th {\n",
       "        vertical-align: top;\n",
       "    }\n",
       "\n",
       "    .dataframe thead th {\n",
       "        text-align: right;\n",
       "    }\n",
       "</style>\n",
       "<table border=\"1\" class=\"dataframe\">\n",
       "  <thead>\n",
       "    <tr style=\"text-align: right;\">\n",
       "      <th></th>\n",
       "      <th>item_id</th>\n",
       "      <th>feature_id</th>\n",
       "      <th>data</th>\n",
       "    </tr>\n",
       "  </thead>\n",
       "  <tbody>\n",
       "    <tr>\n",
       "      <th>0</th>\n",
       "      <td>0</td>\n",
       "      <td>0</td>\n",
       "      <td>1</td>\n",
       "    </tr>\n",
       "    <tr>\n",
       "      <th>1</th>\n",
       "      <td>1</td>\n",
       "      <td>0</td>\n",
       "      <td>1</td>\n",
       "    </tr>\n",
       "    <tr>\n",
       "      <th>2</th>\n",
       "      <td>2</td>\n",
       "      <td>0</td>\n",
       "      <td>21</td>\n",
       "    </tr>\n",
       "    <tr>\n",
       "      <th>3</th>\n",
       "      <td>3</td>\n",
       "      <td>0</td>\n",
       "      <td>1</td>\n",
       "    </tr>\n",
       "    <tr>\n",
       "      <th>4</th>\n",
       "      <td>4</td>\n",
       "      <td>0</td>\n",
       "      <td>1</td>\n",
       "    </tr>\n",
       "    <tr>\n",
       "      <th>...</th>\n",
       "      <td>...</td>\n",
       "      <td>...</td>\n",
       "      <td>...</td>\n",
       "    </tr>\n",
       "    <tr>\n",
       "      <th>23086</th>\n",
       "      <td>27963</td>\n",
       "      <td>0</td>\n",
       "      <td>1</td>\n",
       "    </tr>\n",
       "    <tr>\n",
       "      <th>23087</th>\n",
       "      <td>27964</td>\n",
       "      <td>0</td>\n",
       "      <td>1</td>\n",
       "    </tr>\n",
       "    <tr>\n",
       "      <th>23088</th>\n",
       "      <td>27965</td>\n",
       "      <td>0</td>\n",
       "      <td>1</td>\n",
       "    </tr>\n",
       "    <tr>\n",
       "      <th>23089</th>\n",
       "      <td>27966</td>\n",
       "      <td>0</td>\n",
       "      <td>1</td>\n",
       "    </tr>\n",
       "    <tr>\n",
       "      <th>23090</th>\n",
       "      <td>27967</td>\n",
       "      <td>0</td>\n",
       "      <td>2</td>\n",
       "    </tr>\n",
       "  </tbody>\n",
       "</table>\n",
       "<p>23091 rows × 3 columns</p>\n",
       "</div>"
      ],
      "text/plain": [
       "       item_id  feature_id  data\n",
       "0            0           0     1\n",
       "1            1           0     1\n",
       "2            2           0    21\n",
       "3            3           0     1\n",
       "4            4           0     1\n",
       "...        ...         ...   ...\n",
       "23086    27963           0     1\n",
       "23087    27964           0     1\n",
       "23088    27965           0     1\n",
       "23089    27966           0     1\n",
       "23090    27967           0     2\n",
       "\n",
       "[23091 rows x 3 columns]"
      ]
     },
     "execution_count": 15,
     "metadata": {},
     "output_type": "execute_result"
    }
   ],
   "source": [
    "ICM_length_df = pd.read_csv(\"/kaggle/input/competition-data/data_ICM_length.csv\")\n",
    "ICM_length_df"
   ]
  },
  {
   "cell_type": "code",
   "execution_count": 16,
   "id": "5f40495e",
   "metadata": {
    "execution": {
     "iopub.execute_input": "2022-11-30T21:26:30.335188Z",
     "iopub.status.busy": "2022-11-30T21:26:30.334809Z",
     "iopub.status.idle": "2022-11-30T21:26:30.345514Z",
     "shell.execute_reply": "2022-11-30T21:26:30.344327Z"
    },
    "papermill": {
     "duration": 0.021956,
     "end_time": "2022-11-30T21:26:30.348278",
     "exception": false,
     "start_time": "2022-11-30T21:26:30.326322",
     "status": "completed"
    },
    "tags": []
   },
   "outputs": [
    {
     "data": {
      "text/plain": [
       "(27968, 1)"
      ]
     },
     "execution_count": 16,
     "metadata": {},
     "output_type": "execute_result"
    }
   ],
   "source": [
    "items = ICM_length_df.item_id\n",
    "features = ICM_length_df.feature_id\n",
    "data = ICM_length_df.data\n",
    "ICM_length = sps.csr_matrix((data, (items, features)))\n",
    "ICM_length = ICM_length.astype(dtype = np.int32)\n",
    "ICM_length.shape"
   ]
  },
  {
   "cell_type": "code",
   "execution_count": 17,
   "id": "7687f26d",
   "metadata": {
    "execution": {
     "iopub.execute_input": "2022-11-30T21:26:30.365837Z",
     "iopub.status.busy": "2022-11-30T21:26:30.365453Z",
     "iopub.status.idle": "2022-11-30T21:26:30.432144Z",
     "shell.execute_reply": "2022-11-30T21:26:30.430610Z"
    },
    "papermill": {
     "duration": 0.080462,
     "end_time": "2022-11-30T21:26:30.436116",
     "exception": false,
     "start_time": "2022-11-30T21:26:30.355654",
     "status": "completed"
    },
    "tags": []
   },
   "outputs": [
    {
     "data": {
      "text/plain": [
       "<41638x27968 sparse matrix of type '<class 'numpy.float64'>'\n",
       "\twith 1600822 stored elements in Compressed Sparse Row format>"
      ]
     },
     "execution_count": 17,
     "metadata": {},
     "output_type": "execute_result"
    }
   ],
   "source": [
    "stacked_URM_all = sps.vstack([stacked_URM_type, ICM_length.T])\n",
    "stacked_URM_all = sps.csr_matrix(stacked_URM_all)\n",
    "stacked_URM_all"
   ]
  },
  {
   "cell_type": "code",
   "execution_count": 18,
   "id": "b0f47f1d",
   "metadata": {
    "execution": {
     "iopub.execute_input": "2022-11-30T21:26:30.458059Z",
     "iopub.status.busy": "2022-11-30T21:26:30.457408Z",
     "iopub.status.idle": "2022-11-30T21:26:33.473376Z",
     "shell.execute_reply": "2022-11-30T21:26:33.472119Z"
    },
    "papermill": {
     "duration": 3.030288,
     "end_time": "2022-11-30T21:26:33.476608",
     "exception": false,
     "start_time": "2022-11-30T21:26:30.446320",
     "status": "completed"
    },
    "tags": []
   },
   "outputs": [
    {
     "name": "stdout",
     "output_type": "stream",
     "text": [
      "Warning: 3 (0.01 %) of 41638 users have no train items\n",
      "Warning: 350 (0.84 %) of 41638 users have no sampled items\n"
     ]
    }
   ],
   "source": [
    "stacked_URM_train, stacked_URM_validation = split_train_in_two_percentage_global_sample(stacked_URM_all, train_percentage = 0.8)"
   ]
  },
  {
   "cell_type": "code",
   "execution_count": 19,
   "id": "e6846e22",
   "metadata": {
    "execution": {
     "iopub.execute_input": "2022-11-30T21:26:33.495418Z",
     "iopub.status.busy": "2022-11-30T21:26:33.494947Z",
     "iopub.status.idle": "2022-11-30T21:26:33.535188Z",
     "shell.execute_reply": "2022-11-30T21:26:33.533848Z"
    },
    "papermill": {
     "duration": 0.052557,
     "end_time": "2022-11-30T21:26:33.537798",
     "exception": false,
     "start_time": "2022-11-30T21:26:33.485241",
     "status": "completed"
    },
    "tags": []
   },
   "outputs": [
    {
     "name": "stdout",
     "output_type": "stream",
     "text": [
      "EASE_R_Recommender: URM Detected 3 ( 0.0%) users with no interactions.\n",
      "EASE_R_Recommender: URM Detected 130 ( 0.5%) items with no interactions.\n"
     ]
    }
   ],
   "source": [
    "recStacked = EASE_R_Recommender(stacked_URM_train)"
   ]
  },
  {
   "cell_type": "code",
   "execution_count": 20,
   "id": "7d40cec1",
   "metadata": {
    "execution": {
     "iopub.execute_input": "2022-11-30T21:26:33.555269Z",
     "iopub.status.busy": "2022-11-30T21:26:33.554863Z",
     "iopub.status.idle": "2022-11-30T21:42:41.789849Z",
     "shell.execute_reply": "2022-11-30T21:42:41.787304Z"
    },
    "papermill": {
     "duration": 968.247738,
     "end_time": "2022-11-30T21:42:41.793423",
     "exception": false,
     "start_time": "2022-11-30T21:26:33.545685",
     "status": "completed"
    },
    "tags": []
   },
   "outputs": [
    {
     "name": "stdout",
     "output_type": "stream",
     "text": [
      "EASE_R_Recommender: Fitting model... \n",
      "EASE_R_Recommender: Fitting model... done in 16.11 min\n"
     ]
    }
   ],
   "source": [
    "recStacked.fit()"
   ]
  },
  {
   "cell_type": "code",
   "execution_count": 21,
   "id": "667970d8",
   "metadata": {
    "execution": {
     "iopub.execute_input": "2022-11-30T21:42:41.814493Z",
     "iopub.status.busy": "2022-11-30T21:42:41.813950Z",
     "iopub.status.idle": "2022-11-30T21:42:41.843044Z",
     "shell.execute_reply": "2022-11-30T21:42:41.841966Z"
    },
    "papermill": {
     "duration": 0.043736,
     "end_time": "2022-11-30T21:42:41.845673",
     "exception": false,
     "start_time": "2022-11-30T21:42:41.801937",
     "status": "completed"
    },
    "tags": []
   },
   "outputs": [
    {
     "name": "stdout",
     "output_type": "stream",
     "text": [
      "EvaluatorHoldout: Ignoring 350 ( 0.8%) Users that have less than 1 test interactions\n"
     ]
    }
   ],
   "source": [
    "evaluator_validation = EvaluatorHoldout(stacked_URM_validation, cutoff_list=[10])"
   ]
  },
  {
   "cell_type": "code",
   "execution_count": 22,
   "id": "528589c3",
   "metadata": {
    "execution": {
     "iopub.execute_input": "2022-11-30T21:42:41.863462Z",
     "iopub.status.busy": "2022-11-30T21:42:41.863058Z",
     "iopub.status.idle": "2022-11-30T21:43:39.271461Z",
     "shell.execute_reply": "2022-11-30T21:43:39.270251Z"
    },
    "papermill": {
     "duration": 57.420566,
     "end_time": "2022-11-30T21:43:39.274280",
     "exception": false,
     "start_time": "2022-11-30T21:42:41.853714",
     "status": "completed"
    },
    "tags": []
   },
   "outputs": [
    {
     "name": "stdout",
     "output_type": "stream",
     "text": [
      "EvaluatorHoldout: Processed 41288 (100.0%) in 57.37 sec. Users per second: 720\n"
     ]
    },
    {
     "name": "stderr",
     "output_type": "stream",
     "text": [
      "/kaggle/working/Evaluation/metrics.py:276: RuntimeWarning: overflow encountered in power\n",
      "  return np.sum(np.divide(np.power(2, scores) - 1, np.log2(np.arange(scores.shape[0], dtype=np.float64) + 2)),\n"
     ]
    },
    {
     "data": {
      "text/html": [
       "<div>\n",
       "<style scoped>\n",
       "    .dataframe tbody tr th:only-of-type {\n",
       "        vertical-align: middle;\n",
       "    }\n",
       "\n",
       "    .dataframe tbody tr th {\n",
       "        vertical-align: top;\n",
       "    }\n",
       "\n",
       "    .dataframe thead th {\n",
       "        text-align: right;\n",
       "    }\n",
       "</style>\n",
       "<table border=\"1\" class=\"dataframe\">\n",
       "  <thead>\n",
       "    <tr style=\"text-align: right;\">\n",
       "      <th></th>\n",
       "      <th>PRECISION</th>\n",
       "      <th>PRECISION_RECALL_MIN_DEN</th>\n",
       "      <th>RECALL</th>\n",
       "      <th>MAP</th>\n",
       "      <th>MAP_MIN_DEN</th>\n",
       "      <th>MRR</th>\n",
       "      <th>NDCG</th>\n",
       "      <th>F1</th>\n",
       "      <th>HIT_RATE</th>\n",
       "      <th>ARHR_ALL_HITS</th>\n",
       "      <th>...</th>\n",
       "      <th>COVERAGE_USER</th>\n",
       "      <th>COVERAGE_USER_HIT</th>\n",
       "      <th>USERS_IN_GT</th>\n",
       "      <th>DIVERSITY_GINI</th>\n",
       "      <th>SHANNON_ENTROPY</th>\n",
       "      <th>RATIO_DIVERSITY_HERFINDAHL</th>\n",
       "      <th>RATIO_DIVERSITY_GINI</th>\n",
       "      <th>RATIO_SHANNON_ENTROPY</th>\n",
       "      <th>RATIO_AVERAGE_POPULARITY</th>\n",
       "      <th>RATIO_NOVELTY</th>\n",
       "    </tr>\n",
       "    <tr>\n",
       "      <th>cutoff</th>\n",
       "      <th></th>\n",
       "      <th></th>\n",
       "      <th></th>\n",
       "      <th></th>\n",
       "      <th></th>\n",
       "      <th></th>\n",
       "      <th></th>\n",
       "      <th></th>\n",
       "      <th></th>\n",
       "      <th></th>\n",
       "      <th></th>\n",
       "      <th></th>\n",
       "      <th></th>\n",
       "      <th></th>\n",
       "      <th></th>\n",
       "      <th></th>\n",
       "      <th></th>\n",
       "      <th></th>\n",
       "      <th></th>\n",
       "      <th></th>\n",
       "      <th></th>\n",
       "    </tr>\n",
       "  </thead>\n",
       "  <tbody>\n",
       "    <tr>\n",
       "      <th>10</th>\n",
       "      <td>0.065254</td>\n",
       "      <td>0.089647</td>\n",
       "      <td>0.078055</td>\n",
       "      <td>0.032785</td>\n",
       "      <td>0.044367</td>\n",
       "      <td>0.204479</td>\n",
       "      <td>0.092511</td>\n",
       "      <td>0.071083</td>\n",
       "      <td>0.403144</td>\n",
       "      <td>0.256247</td>\n",
       "      <td>...</td>\n",
       "      <td>0.991594</td>\n",
       "      <td>0.399755</td>\n",
       "      <td>0.991594</td>\n",
       "      <td>0.007985</td>\n",
       "      <td>7.83433</td>\n",
       "      <td>0.989068</td>\n",
       "      <td>0.017313</td>\n",
       "      <td>0.577467</td>\n",
       "      <td>5.203801</td>\n",
       "      <td>0.237901</td>\n",
       "    </tr>\n",
       "  </tbody>\n",
       "</table>\n",
       "<p>1 rows × 27 columns</p>\n",
       "</div>"
      ],
      "text/plain": [
       "       PRECISION PRECISION_RECALL_MIN_DEN    RECALL       MAP MAP_MIN_DEN  \\\n",
       "cutoff                                                                      \n",
       "10      0.065254                 0.089647  0.078055  0.032785    0.044367   \n",
       "\n",
       "             MRR      NDCG        F1  HIT_RATE ARHR_ALL_HITS  ...  \\\n",
       "cutoff                                                        ...   \n",
       "10      0.204479  0.092511  0.071083  0.403144      0.256247  ...   \n",
       "\n",
       "       COVERAGE_USER COVERAGE_USER_HIT USERS_IN_GT DIVERSITY_GINI  \\\n",
       "cutoff                                                              \n",
       "10          0.991594          0.399755    0.991594       0.007985   \n",
       "\n",
       "       SHANNON_ENTROPY RATIO_DIVERSITY_HERFINDAHL RATIO_DIVERSITY_GINI  \\\n",
       "cutoff                                                                   \n",
       "10             7.83433                   0.989068             0.017313   \n",
       "\n",
       "       RATIO_SHANNON_ENTROPY RATIO_AVERAGE_POPULARITY RATIO_NOVELTY  \n",
       "cutoff                                                               \n",
       "10                  0.577467                 5.203801      0.237901  \n",
       "\n",
       "[1 rows x 27 columns]"
      ]
     },
     "execution_count": 22,
     "metadata": {},
     "output_type": "execute_result"
    }
   ],
   "source": [
    "result_df, _ = evaluator_validation.evaluateRecommender(recStacked)\n",
    "result_df"
   ]
  }
 ],
 "metadata": {
  "kernelspec": {
   "display_name": "Python 3",
   "language": "python",
   "name": "python3"
  },
  "language_info": {
   "codemirror_mode": {
    "name": "ipython",
    "version": 3
   },
   "file_extension": ".py",
   "mimetype": "text/x-python",
   "name": "python",
   "nbconvert_exporter": "python",
   "pygments_lexer": "ipython3",
   "version": "3.7.12"
  },
  "papermill": {
   "default_parameters": {},
   "duration": 1784.497286,
   "end_time": "2022-11-30T21:43:40.514032",
   "environment_variables": {},
   "exception": null,
   "input_path": "__notebook__.ipynb",
   "output_path": "__notebook__.ipynb",
   "parameters": {},
   "start_time": "2022-11-30T21:13:56.016746",
   "version": "2.3.4"
  }
 },
 "nbformat": 4,
 "nbformat_minor": 5
}
