{
 "cells": [
  {
   "cell_type": "code",
   "execution_count": 1,
   "id": "db3a7a76",
   "metadata": {
    "_cell_guid": "b1076dfc-b9ad-4769-8c92-a6c4dae69d19",
    "_uuid": "8f2839f25d086af736a60e9eeb907d3b93b6e0e5",
    "execution": {
     "iopub.execute_input": "2022-11-27T11:36:27.346224Z",
     "iopub.status.busy": "2022-11-27T11:36:27.345376Z",
     "iopub.status.idle": "2022-11-27T11:36:31.664855Z",
     "shell.execute_reply": "2022-11-27T11:36:31.663814Z"
    },
    "papermill": {
     "duration": 4.328651,
     "end_time": "2022-11-27T11:36:31.666682",
     "exception": false,
     "start_time": "2022-11-27T11:36:27.338031",
     "status": "completed"
    },
    "tags": []
   },
   "outputs": [
    {
     "data": {
      "text/html": [
       "<div>\n",
       "<style scoped>\n",
       "    .dataframe tbody tr th:only-of-type {\n",
       "        vertical-align: middle;\n",
       "    }\n",
       "\n",
       "    .dataframe tbody tr th {\n",
       "        vertical-align: top;\n",
       "    }\n",
       "\n",
       "    .dataframe thead th {\n",
       "        text-align: right;\n",
       "    }\n",
       "</style>\n",
       "<table border=\"1\" class=\"dataframe\">\n",
       "  <thead>\n",
       "    <tr style=\"text-align: right;\">\n",
       "      <th></th>\n",
       "      <th>item_id</th>\n",
       "      <th>feature_id</th>\n",
       "      <th>data</th>\n",
       "    </tr>\n",
       "  </thead>\n",
       "  <tbody>\n",
       "    <tr>\n",
       "      <th>0</th>\n",
       "      <td>0</td>\n",
       "      <td>0</td>\n",
       "      <td>1</td>\n",
       "    </tr>\n",
       "    <tr>\n",
       "      <th>1</th>\n",
       "      <td>1</td>\n",
       "      <td>0</td>\n",
       "      <td>1</td>\n",
       "    </tr>\n",
       "    <tr>\n",
       "      <th>2</th>\n",
       "      <td>2</td>\n",
       "      <td>0</td>\n",
       "      <td>21</td>\n",
       "    </tr>\n",
       "    <tr>\n",
       "      <th>3</th>\n",
       "      <td>3</td>\n",
       "      <td>0</td>\n",
       "      <td>1</td>\n",
       "    </tr>\n",
       "    <tr>\n",
       "      <th>4</th>\n",
       "      <td>4</td>\n",
       "      <td>0</td>\n",
       "      <td>1</td>\n",
       "    </tr>\n",
       "    <tr>\n",
       "      <th>...</th>\n",
       "      <td>...</td>\n",
       "      <td>...</td>\n",
       "      <td>...</td>\n",
       "    </tr>\n",
       "    <tr>\n",
       "      <th>23086</th>\n",
       "      <td>27963</td>\n",
       "      <td>0</td>\n",
       "      <td>1</td>\n",
       "    </tr>\n",
       "    <tr>\n",
       "      <th>23087</th>\n",
       "      <td>27964</td>\n",
       "      <td>0</td>\n",
       "      <td>1</td>\n",
       "    </tr>\n",
       "    <tr>\n",
       "      <th>23088</th>\n",
       "      <td>27965</td>\n",
       "      <td>0</td>\n",
       "      <td>1</td>\n",
       "    </tr>\n",
       "    <tr>\n",
       "      <th>23089</th>\n",
       "      <td>27966</td>\n",
       "      <td>0</td>\n",
       "      <td>1</td>\n",
       "    </tr>\n",
       "    <tr>\n",
       "      <th>23090</th>\n",
       "      <td>27967</td>\n",
       "      <td>0</td>\n",
       "      <td>2</td>\n",
       "    </tr>\n",
       "  </tbody>\n",
       "</table>\n",
       "<p>23091 rows × 3 columns</p>\n",
       "</div>"
      ],
      "text/plain": [
       "       item_id  feature_id  data\n",
       "0            0           0     1\n",
       "1            1           0     1\n",
       "2            2           0    21\n",
       "3            3           0     1\n",
       "4            4           0     1\n",
       "...        ...         ...   ...\n",
       "23086    27963           0     1\n",
       "23087    27964           0     1\n",
       "23088    27965           0     1\n",
       "23089    27966           0     1\n",
       "23090    27967           0     2\n",
       "\n",
       "[23091 rows x 3 columns]"
      ]
     },
     "execution_count": 1,
     "metadata": {},
     "output_type": "execute_result"
    }
   ],
   "source": [
    "!cp -r ../input/recsys-repo/RecSys_Course_AT_PoliMi-master/* ./\n",
    "\n",
    "import numpy as np # linear algebra\n",
    "import pandas as pd # data processing, CSV file I/O (e.g. pd.read_csv)\n",
    "from urllib.request import urlretrieve\n",
    "import zipfile, os\n",
    "import scipy.sparse as sps\n",
    "import matplotlib.pyplot as pyplot\n",
    "from Evaluation.Evaluator import EvaluatorHoldout\n",
    "from Data_manager.split_functions.split_train_validation_random_holdout import split_train_in_two_percentage_global_sample\n",
    "## In order to evaluate put it in a recommender class\n",
    "from Recommenders.BaseRecommender import BaseRecommender\n",
    "from lightfm import LightFM\n",
    "URM_path = \"../input/urm-true-binary/URM_True_Binary.csv\"\n",
    "ICM_type = \"/kaggle/input/competition-data/data_ICM_length.csv\"\n",
    "\n",
    "ICM_type_df = pd.read_csv(\"../input/competition-data/data_ICM_length.csv\")\n",
    "ICM_type_df\n",
    "\n"
   ]
  },
  {
   "cell_type": "code",
   "execution_count": 2,
   "id": "b245503c",
   "metadata": {
    "execution": {
     "iopub.execute_input": "2022-11-27T11:36:31.677771Z",
     "iopub.status.busy": "2022-11-27T11:36:31.676418Z",
     "iopub.status.idle": "2022-11-27T11:36:31.695665Z",
     "shell.execute_reply": "2022-11-27T11:36:31.694401Z"
    },
    "papermill": {
     "duration": 0.027084,
     "end_time": "2022-11-27T11:36:31.698074",
     "exception": false,
     "start_time": "2022-11-27T11:36:31.670990",
     "status": "completed"
    },
    "tags": []
   },
   "outputs": [
    {
     "data": {
      "text/plain": [
       "(27968, 1)"
      ]
     },
     "execution_count": 2,
     "metadata": {},
     "output_type": "execute_result"
    }
   ],
   "source": [
    "items = ICM_type_df.item_id\n",
    "features = ICM_type_df.feature_id\n",
    "data = ICM_type_df.data\n",
    "ICM_type = sps.csr_matrix((data, (items, features)))\n",
    "ICM_type = ICM_type.astype(dtype = np.int32)\n",
    "ICM_type.shape"
   ]
  },
  {
   "cell_type": "code",
   "execution_count": 3,
   "id": "112f662a",
   "metadata": {
    "execution": {
     "iopub.execute_input": "2022-11-27T11:36:31.708248Z",
     "iopub.status.busy": "2022-11-27T11:36:31.707930Z",
     "iopub.status.idle": "2022-11-27T11:36:32.266112Z",
     "shell.execute_reply": "2022-11-27T11:36:32.264717Z"
    },
    "papermill": {
     "duration": 0.566091,
     "end_time": "2022-11-27T11:36:32.268602",
     "exception": false,
     "start_time": "2022-11-27T11:36:31.702511",
     "status": "completed"
    },
    "tags": []
   },
   "outputs": [],
   "source": [
    "n_users = 41629\n",
    "n_itemsFromICM = ICM_type.shape[0]\n",
    "\n",
    "URM_all_dataframe = pd.read_csv(filepath_or_buffer=URM_path, \n",
    "                                sep=\",\",\n",
    "                                dtype={0:int, 1:int, 2:float},\n",
    "                                header=0)\n",
    "URM_all_dataframe.columns = [\"UserID\", \"ItemID\", \"Data\"]\n",
    "URM_all = sps.coo_matrix((URM_all_dataframe[\"Data\"].values, \n",
    "                          (URM_all_dataframe[\"UserID\"].values, URM_all_dataframe[\"ItemID\"].values)), shape=(n_users,n_itemsFromICM))\n",
    "URM_all = URM_all.tocsr() # to obtain fast access to rows (users)\n"
   ]
  },
  {
   "cell_type": "code",
   "execution_count": null,
   "id": "fa1a7dd2",
   "metadata": {
    "execution": {
     "iopub.execute_input": "2022-11-27T11:24:07.116557Z",
     "iopub.status.busy": "2022-11-27T11:24:07.115431Z",
     "iopub.status.idle": "2022-11-27T11:24:07.132566Z",
     "shell.execute_reply": "2022-11-27T11:24:07.131221Z",
     "shell.execute_reply.started": "2022-11-27T11:24:07.116514Z"
    },
    "papermill": {
     "duration": 0.003811,
     "end_time": "2022-11-27T11:36:32.276750",
     "exception": false,
     "start_time": "2022-11-27T11:36:32.272939",
     "status": "completed"
    },
    "tags": []
   },
   "outputs": [],
   "source": []
  },
  {
   "cell_type": "code",
   "execution_count": 4,
   "id": "d0ca5948",
   "metadata": {
    "execution": {
     "iopub.execute_input": "2022-11-27T11:36:32.286693Z",
     "iopub.status.busy": "2022-11-27T11:36:32.286352Z",
     "iopub.status.idle": "2022-11-27T11:36:32.295171Z",
     "shell.execute_reply": "2022-11-27T11:36:32.294209Z"
    },
    "papermill": {
     "duration": 0.016305,
     "end_time": "2022-11-27T11:36:32.297271",
     "exception": false,
     "start_time": "2022-11-27T11:36:32.280966",
     "status": "completed"
    },
    "tags": []
   },
   "outputs": [],
   "source": [
    "class LightFMCBFRecommender(BaseRecommender):\n",
    "    \"\"\"LightFMCBFRecommender\"\"\"\n",
    "\n",
    "    RECOMMENDER_NAME = \"LightFMCBFRecommender\"\n",
    "\n",
    "    def __init__(self, URM_train, ICM_train):\n",
    "        super(LightFMCBFRecommender, self).__init__(URM_train)\n",
    "        \n",
    "        self.ICM_train = ICM_train.copy()\n",
    "\n",
    "\n",
    "    def fit(self, epochs = 300, alpha = 1e-6, n_factors = 10, n_threads = 4):\n",
    "        \n",
    "        # Let's fit a WARP model\n",
    "        self.lightFM_model = LightFM(loss='warp',\n",
    "                                     item_alpha=alpha,\n",
    "                                     no_components=n_factors)\n",
    "\n",
    "        self.lightFM_model = self.lightFM_model.fit(URM_train, \n",
    "                                       item_features=self.ICM_train, \n",
    "                                       epochs=epochs, \n",
    "                                       num_threads=n_threads)\n",
    "\n",
    "\n",
    "    def _compute_item_score(self, user_id_array, items_to_compute = None):\n",
    "        \n",
    "        # Create a single (n_items, ) array with the item score, then copy it for every user\n",
    "        items_to_compute = np.arange(self.n_items)\n",
    "        \n",
    "        item_scores = - np.ones((len(user_id_array), self.n_items)) * np.inf\n",
    "\n",
    "        for user_index, user_id in enumerate(user_id_array):\n",
    "            item_scores[user_index] = self.lightFM_model.predict(int(user_id), \n",
    "                                                                 items_to_compute,\n",
    "                                                                 item_features = self.ICM_train)\n",
    "\n",
    "        return item_scores"
   ]
  },
  {
   "cell_type": "code",
   "execution_count": 5,
   "id": "23db4aa3",
   "metadata": {
    "execution": {
     "iopub.execute_input": "2022-11-27T11:36:32.308581Z",
     "iopub.status.busy": "2022-11-27T11:36:32.308216Z",
     "iopub.status.idle": "2022-11-27T11:36:32.314642Z",
     "shell.execute_reply": "2022-11-27T11:36:32.313236Z"
    },
    "papermill": {
     "duration": 0.015193,
     "end_time": "2022-11-27T11:36:32.317259",
     "exception": false,
     "start_time": "2022-11-27T11:36:32.302066",
     "status": "completed"
    },
    "tags": []
   },
   "outputs": [],
   "source": [
    "import scipy.sparse as sps\n",
    "\n",
    "class LightFMItemHybridRecommender(LightFMCBFRecommender):\n",
    "    \"\"\"LightFMItemHybridRecommender\"\"\"\n",
    "\n",
    "    RECOMMENDER_NAME = \"LightFMItemHybridRecommender\"\n",
    "\n",
    "    def __init__(self, URM_train, ICM_train):\n",
    "        super(LightFMItemHybridRecommender, self).__init__(URM_train, ICM_train)\n",
    "\n",
    "        # Need to hstack item_features to ensure each ItemIDs are present in the model\n",
    "        eye = sps.eye(self.n_items, self.n_items).tocsr()\n",
    "        self.ICM_train = sps.hstack((eye, self.ICM_train)).tocsr()"
   ]
  },
  {
   "cell_type": "code",
   "execution_count": 6,
   "id": "54cff835",
   "metadata": {
    "execution": {
     "iopub.execute_input": "2022-11-27T11:36:32.327994Z",
     "iopub.status.busy": "2022-11-27T11:36:32.327659Z",
     "iopub.status.idle": "2022-11-27T11:36:36.681760Z",
     "shell.execute_reply": "2022-11-27T11:36:36.680182Z"
    },
    "papermill": {
     "duration": 4.363827,
     "end_time": "2022-11-27T11:36:36.685506",
     "exception": false,
     "start_time": "2022-11-27T11:36:32.321679",
     "status": "completed"
    },
    "tags": []
   },
   "outputs": [
    {
     "name": "stdout",
     "output_type": "stream",
     "text": [
      "Warning: 331 (0.80 %) of 41629 users have no sampled items\n",
      "Warning: 729 (1.75 %) of 41629 users have no sampled items\n",
      "EvaluatorHoldout: Ignoring 729 ( 1.8%) Users that have less than 1 test interactions\n",
      "EvaluatorHoldout: Ignoring 331 ( 0.8%) Users that have less than 1 test interactions\n"
     ]
    }
   ],
   "source": [
    "URM_train_validation, URM_test = split_train_in_two_percentage_global_sample(URM_all, train_percentage = 0.8)\n",
    "URM_train, URM_validation = split_train_in_two_percentage_global_sample(URM_train_validation, train_percentage = 0.8)\n",
    "\n",
    "evaluator_validation = EvaluatorHoldout(URM_validation, cutoff_list=[10])\n",
    "evaluator_test = EvaluatorHoldout(URM_test, cutoff_list=[10])\n"
   ]
  },
  {
   "cell_type": "code",
   "execution_count": 7,
   "id": "4a209b92",
   "metadata": {
    "execution": {
     "iopub.execute_input": "2022-11-27T11:36:36.696671Z",
     "iopub.status.busy": "2022-11-27T11:36:36.696331Z",
     "iopub.status.idle": "2022-11-27T11:38:27.208773Z",
     "shell.execute_reply": "2022-11-27T11:38:27.207618Z"
    },
    "papermill": {
     "duration": 110.520497,
     "end_time": "2022-11-27T11:38:27.210730",
     "exception": false,
     "start_time": "2022-11-27T11:36:36.690233",
     "status": "completed"
    },
    "tags": []
   },
   "outputs": [
    {
     "name": "stdout",
     "output_type": "stream",
     "text": [
      "LightFMItemHybridRecommender: URM Detected 3461 (12.4%) items with no interactions.\n",
      "EvaluatorHoldout: Processed 40900 (100.0%) in 1.65 min. Users per second: 413\n"
     ]
    },
    {
     "data": {
      "text/html": [
       "<div>\n",
       "<style scoped>\n",
       "    .dataframe tbody tr th:only-of-type {\n",
       "        vertical-align: middle;\n",
       "    }\n",
       "\n",
       "    .dataframe tbody tr th {\n",
       "        vertical-align: top;\n",
       "    }\n",
       "\n",
       "    .dataframe thead th {\n",
       "        text-align: right;\n",
       "    }\n",
       "</style>\n",
       "<table border=\"1\" class=\"dataframe\">\n",
       "  <thead>\n",
       "    <tr style=\"text-align: right;\">\n",
       "      <th></th>\n",
       "      <th>PRECISION</th>\n",
       "      <th>PRECISION_RECALL_MIN_DEN</th>\n",
       "      <th>RECALL</th>\n",
       "      <th>MAP</th>\n",
       "      <th>MAP_MIN_DEN</th>\n",
       "      <th>MRR</th>\n",
       "      <th>NDCG</th>\n",
       "      <th>F1</th>\n",
       "      <th>HIT_RATE</th>\n",
       "      <th>ARHR_ALL_HITS</th>\n",
       "      <th>...</th>\n",
       "      <th>COVERAGE_USER</th>\n",
       "      <th>COVERAGE_USER_HIT</th>\n",
       "      <th>USERS_IN_GT</th>\n",
       "      <th>DIVERSITY_GINI</th>\n",
       "      <th>SHANNON_ENTROPY</th>\n",
       "      <th>RATIO_DIVERSITY_HERFINDAHL</th>\n",
       "      <th>RATIO_DIVERSITY_GINI</th>\n",
       "      <th>RATIO_SHANNON_ENTROPY</th>\n",
       "      <th>RATIO_AVERAGE_POPULARITY</th>\n",
       "      <th>RATIO_NOVELTY</th>\n",
       "    </tr>\n",
       "    <tr>\n",
       "      <th>cutoff</th>\n",
       "      <th></th>\n",
       "      <th></th>\n",
       "      <th></th>\n",
       "      <th></th>\n",
       "      <th></th>\n",
       "      <th></th>\n",
       "      <th></th>\n",
       "      <th></th>\n",
       "      <th></th>\n",
       "      <th></th>\n",
       "      <th></th>\n",
       "      <th></th>\n",
       "      <th></th>\n",
       "      <th></th>\n",
       "      <th></th>\n",
       "      <th></th>\n",
       "      <th></th>\n",
       "      <th></th>\n",
       "      <th></th>\n",
       "      <th></th>\n",
       "      <th></th>\n",
       "    </tr>\n",
       "  </thead>\n",
       "  <tbody>\n",
       "    <tr>\n",
       "      <th>10</th>\n",
       "      <td>0.000328</td>\n",
       "      <td>0.000535</td>\n",
       "      <td>0.00048</td>\n",
       "      <td>0.000117</td>\n",
       "      <td>0.00019</td>\n",
       "      <td>0.001172</td>\n",
       "      <td>0.000486</td>\n",
       "      <td>0.000389</td>\n",
       "      <td>0.003276</td>\n",
       "      <td>0.001172</td>\n",
       "      <td>...</td>\n",
       "      <td>0.982488</td>\n",
       "      <td>0.003219</td>\n",
       "      <td>0.982488</td>\n",
       "      <td>0.000853</td>\n",
       "      <td>4.890824</td>\n",
       "      <td>0.960209</td>\n",
       "      <td>0.001934</td>\n",
       "      <td>0.362628</td>\n",
       "      <td>0.169272</td>\n",
       "      <td>0.430117</td>\n",
       "    </tr>\n",
       "  </tbody>\n",
       "</table>\n",
       "<p>1 rows × 27 columns</p>\n",
       "</div>"
      ],
      "text/plain": [
       "       PRECISION PRECISION_RECALL_MIN_DEN   RECALL       MAP MAP_MIN_DEN  \\\n",
       "cutoff                                                                     \n",
       "10      0.000328                 0.000535  0.00048  0.000117     0.00019   \n",
       "\n",
       "             MRR      NDCG        F1  HIT_RATE ARHR_ALL_HITS  ...  \\\n",
       "cutoff                                                        ...   \n",
       "10      0.001172  0.000486  0.000389  0.003276      0.001172  ...   \n",
       "\n",
       "       COVERAGE_USER COVERAGE_USER_HIT USERS_IN_GT DIVERSITY_GINI  \\\n",
       "cutoff                                                              \n",
       "10          0.982488          0.003219    0.982488       0.000853   \n",
       "\n",
       "       SHANNON_ENTROPY RATIO_DIVERSITY_HERFINDAHL RATIO_DIVERSITY_GINI  \\\n",
       "cutoff                                                                   \n",
       "10            4.890824                   0.960209             0.001934   \n",
       "\n",
       "       RATIO_SHANNON_ENTROPY RATIO_AVERAGE_POPULARITY RATIO_NOVELTY  \n",
       "cutoff                                                               \n",
       "10                  0.362628                 0.169272      0.430117  \n",
       "\n",
       "[1 rows x 27 columns]"
      ]
     },
     "execution_count": 7,
     "metadata": {},
     "output_type": "execute_result"
    }
   ],
   "source": [
    "recommender = LightFMItemHybridRecommender(URM_train, ICM_type)\n",
    "recommender.fit(epochs = 10)\n",
    "\n",
    "result_df, _ = evaluator_validation.evaluateRecommender(recommender)\n",
    "result_df"
   ]
  },
  {
   "cell_type": "code",
   "execution_count": 8,
   "id": "b6159009",
   "metadata": {
    "execution": {
     "iopub.execute_input": "2022-11-27T11:38:27.221105Z",
     "iopub.status.busy": "2022-11-27T11:38:27.220798Z",
     "iopub.status.idle": "2022-11-27T11:38:27.476945Z",
     "shell.execute_reply": "2022-11-27T11:38:27.476035Z"
    },
    "papermill": {
     "duration": 0.263905,
     "end_time": "2022-11-27T11:38:27.479060",
     "exception": false,
     "start_time": "2022-11-27T11:38:27.215155",
     "status": "completed"
    },
    "tags": []
   },
   "outputs": [],
   "source": [
    "URM_all_dataframe = pd.read_csv(filepath_or_buffer=URM_path, \n",
    "                                sep=\",\",\n",
    "                                dtype={0:int, 1:int, 2:float},\n",
    "                                header=0)\n",
    "URM_all_dataframe.columns = [\"UserID\", \"ItemID\", \"Data\"]\n",
    "URM_all = sps.coo_matrix((URM_all_dataframe[\"Data\"].values, \n",
    "                          (URM_all_dataframe[\"UserID\"].values, URM_all_dataframe[\"ItemID\"].values)))\n",
    "URM_all = URM_all.tocsr() # to obtain fast access to rows (users)"
   ]
  },
  {
   "cell_type": "code",
   "execution_count": 9,
   "id": "08440dad",
   "metadata": {
    "execution": {
     "iopub.execute_input": "2022-11-27T11:38:27.490083Z",
     "iopub.status.busy": "2022-11-27T11:38:27.489282Z",
     "iopub.status.idle": "2022-11-27T11:41:43.558849Z",
     "shell.execute_reply": "2022-11-27T11:41:43.557803Z"
    },
    "papermill": {
     "duration": 196.081144,
     "end_time": "2022-11-27T11:41:43.564819",
     "exception": false,
     "start_time": "2022-11-27T11:38:27.483675",
     "status": "completed"
    },
    "tags": []
   },
   "outputs": [
    {
     "name": "stdout",
     "output_type": "stream",
     "text": [
      "Precision all: 0.21\n",
      "AUC all: 0.69\n"
     ]
    }
   ],
   "source": [
    "from lightfm import LightFM\n",
    "from lightfm.evaluation import precision_at_k\n",
    "from lightfm.evaluation import auc_score\n",
    "\n",
    "model = LightFM(learning_rate=0.05, loss='bpr')\n",
    "model.fit(URM_all, epochs=10)\n",
    "\n",
    "train_precision = precision_at_k(model, URM_all, k=10).mean()\n",
    "\n",
    "train_auc = auc_score(model, URM_all).mean()\n",
    "\n",
    "print('Precision all: %.2f' % (train_precision))\n",
    "print('AUC all: %.2f' % (train_auc))"
   ]
  },
  {
   "cell_type": "code",
   "execution_count": 10,
   "id": "93d7ea4d",
   "metadata": {
    "execution": {
     "iopub.execute_input": "2022-11-27T11:41:43.576473Z",
     "iopub.status.busy": "2022-11-27T11:41:43.575242Z",
     "iopub.status.idle": "2022-11-27T11:41:43.604397Z",
     "shell.execute_reply": "2022-11-27T11:41:43.603295Z"
    },
    "papermill": {
     "duration": 0.037311,
     "end_time": "2022-11-27T11:41:43.606693",
     "exception": false,
     "start_time": "2022-11-27T11:41:43.569382",
     "status": "completed"
    },
    "tags": []
   },
   "outputs": [
    {
     "data": {
      "text/html": [
       "<div>\n",
       "<style scoped>\n",
       "    .dataframe tbody tr th:only-of-type {\n",
       "        vertical-align: middle;\n",
       "    }\n",
       "\n",
       "    .dataframe tbody tr th {\n",
       "        vertical-align: top;\n",
       "    }\n",
       "\n",
       "    .dataframe thead th {\n",
       "        text-align: right;\n",
       "    }\n",
       "</style>\n",
       "<table border=\"1\" class=\"dataframe\">\n",
       "  <thead>\n",
       "    <tr style=\"text-align: right;\">\n",
       "      <th></th>\n",
       "      <th>user_id</th>\n",
       "    </tr>\n",
       "  </thead>\n",
       "  <tbody>\n",
       "    <tr>\n",
       "      <th>0</th>\n",
       "      <td>0</td>\n",
       "    </tr>\n",
       "    <tr>\n",
       "      <th>1</th>\n",
       "      <td>1</td>\n",
       "    </tr>\n",
       "    <tr>\n",
       "      <th>2</th>\n",
       "      <td>2</td>\n",
       "    </tr>\n",
       "    <tr>\n",
       "      <th>3</th>\n",
       "      <td>3</td>\n",
       "    </tr>\n",
       "    <tr>\n",
       "      <th>4</th>\n",
       "      <td>4</td>\n",
       "    </tr>\n",
       "    <tr>\n",
       "      <th>...</th>\n",
       "      <td>...</td>\n",
       "    </tr>\n",
       "    <tr>\n",
       "      <th>41111</th>\n",
       "      <td>41624</td>\n",
       "    </tr>\n",
       "    <tr>\n",
       "      <th>41112</th>\n",
       "      <td>41625</td>\n",
       "    </tr>\n",
       "    <tr>\n",
       "      <th>41113</th>\n",
       "      <td>41626</td>\n",
       "    </tr>\n",
       "    <tr>\n",
       "      <th>41114</th>\n",
       "      <td>41627</td>\n",
       "    </tr>\n",
       "    <tr>\n",
       "      <th>41115</th>\n",
       "      <td>41628</td>\n",
       "    </tr>\n",
       "  </tbody>\n",
       "</table>\n",
       "<p>41116 rows × 1 columns</p>\n",
       "</div>"
      ],
      "text/plain": [
       "       user_id\n",
       "0            0\n",
       "1            1\n",
       "2            2\n",
       "3            3\n",
       "4            4\n",
       "...        ...\n",
       "41111    41624\n",
       "41112    41625\n",
       "41113    41626\n",
       "41114    41627\n",
       "41115    41628\n",
       "\n",
       "[41116 rows x 1 columns]"
      ]
     },
     "execution_count": 10,
     "metadata": {},
     "output_type": "execute_result"
    }
   ],
   "source": [
    "test_users = pd.read_csv('/kaggle/input/competition-data/data_target_users_test.csv')\n",
    "test_users"
   ]
  },
  {
   "cell_type": "code",
   "execution_count": 11,
   "id": "7ccf6670",
   "metadata": {
    "execution": {
     "iopub.execute_input": "2022-11-27T11:41:43.618217Z",
     "iopub.status.busy": "2022-11-27T11:41:43.617891Z",
     "iopub.status.idle": "2022-11-27T11:41:43.622395Z",
     "shell.execute_reply": "2022-11-27T11:41:43.621418Z"
    },
    "papermill": {
     "duration": 0.0121,
     "end_time": "2022-11-27T11:41:43.624041",
     "exception": false,
     "start_time": "2022-11-27T11:41:43.611941",
     "status": "completed"
    },
    "tags": []
   },
   "outputs": [],
   "source": [
    "user_ids = test_users['user_id']\n",
    "recommendations = []"
   ]
  },
  {
   "cell_type": "code",
   "execution_count": 12,
   "id": "3afd6db4",
   "metadata": {
    "execution": {
     "iopub.execute_input": "2022-11-27T11:41:43.635274Z",
     "iopub.status.busy": "2022-11-27T11:41:43.634667Z",
     "iopub.status.idle": "2022-11-27T11:41:43.639811Z",
     "shell.execute_reply": "2022-11-27T11:41:43.638850Z"
    },
    "papermill": {
     "duration": 0.012692,
     "end_time": "2022-11-27T11:41:43.641651",
     "exception": false,
     "start_time": "2022-11-27T11:41:43.628959",
     "status": "completed"
    },
    "tags": []
   },
   "outputs": [],
   "source": [
    "def sample_recommendation(model, URM_all, user_ids):\n",
    "    \n",
    "    n_users = URM_all.shape[0]\n",
    "    n_items = URM_all.shape[1]\n",
    "    print(f\"N_users: {n_users}\")\n",
    "    print(f\"N_items: {n_items}\")\n",
    "    \n",
    "    for user_id in user_ids:        \n",
    "        scores = model.predict(user_id, np.arange(n_items))\n",
    "        top_items = np.argsort(-scores)\n",
    "        recommendations.append(top_items[:10])\n",
    "        "
   ]
  },
  {
   "cell_type": "code",
   "execution_count": 13,
   "id": "a171a1d4",
   "metadata": {
    "execution": {
     "iopub.execute_input": "2022-11-27T11:41:43.653141Z",
     "iopub.status.busy": "2022-11-27T11:41:43.652661Z",
     "iopub.status.idle": "2022-11-27T11:44:10.193356Z",
     "shell.execute_reply": "2022-11-27T11:44:10.192214Z"
    },
    "papermill": {
     "duration": 146.55259,
     "end_time": "2022-11-27T11:44:10.199178",
     "exception": false,
     "start_time": "2022-11-27T11:41:43.646588",
     "status": "completed"
    },
    "tags": []
   },
   "outputs": [
    {
     "name": "stdout",
     "output_type": "stream",
     "text": [
      "N_users: 41629\n",
      "N_items: 24507\n",
      "41116\n"
     ]
    }
   ],
   "source": [
    "sample_recommendation(model, URM_all, user_ids) \n",
    "print(len(recommendations))"
   ]
  },
  {
   "cell_type": "code",
   "execution_count": 14,
   "id": "55dd0407",
   "metadata": {
    "execution": {
     "iopub.execute_input": "2022-11-27T11:44:10.210233Z",
     "iopub.status.busy": "2022-11-27T11:44:10.209292Z",
     "iopub.status.idle": "2022-11-27T11:44:12.406444Z",
     "shell.execute_reply": "2022-11-27T11:44:12.405098Z"
    },
    "papermill": {
     "duration": 2.205095,
     "end_time": "2022-11-27T11:44:12.408856",
     "exception": false,
     "start_time": "2022-11-27T11:44:10.203761",
     "status": "completed"
    },
    "tags": []
   },
   "outputs": [],
   "source": [
    "test_users['item_list'] = recommendations #41116\n",
    "test_users['item_list'] = pd.DataFrame([str(line).strip('[').strip(']').replace(\"'\",\"\") for line in test_users['item_list']])\n",
    "test_users.to_csv('submission.csv', index=False)"
   ]
  }
 ],
 "metadata": {
  "kernelspec": {
   "display_name": "Python 3",
   "language": "python",
   "name": "python3"
  },
  "language_info": {
   "codemirror_mode": {
    "name": "ipython",
    "version": 3
   },
   "file_extension": ".py",
   "mimetype": "text/x-python",
   "name": "python",
   "nbconvert_exporter": "python",
   "pygments_lexer": "ipython3",
   "version": "3.7.12"
  },
  "papermill": {
   "default_parameters": {},
   "duration": 475.530268,
   "end_time": "2022-11-27T11:44:13.437538",
   "environment_variables": {},
   "exception": null,
   "input_path": "__notebook__.ipynb",
   "output_path": "__notebook__.ipynb",
   "parameters": {},
   "start_time": "2022-11-27T11:36:17.907270",
   "version": "2.3.4"
  }
 },
 "nbformat": 4,
 "nbformat_minor": 5
}
