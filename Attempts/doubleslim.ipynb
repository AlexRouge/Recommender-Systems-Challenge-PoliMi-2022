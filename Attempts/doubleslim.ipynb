{
 "cells": [
  {
   "cell_type": "code",
   "execution_count": 1,
   "id": "13030a8e",
   "metadata": {
    "_cell_guid": "b1076dfc-b9ad-4769-8c92-a6c4dae69d19",
    "_uuid": "8f2839f25d086af736a60e9eeb907d3b93b6e0e5",
    "execution": {
     "iopub.execute_input": "2023-01-18T09:35:29.375472Z",
     "iopub.status.busy": "2023-01-18T09:35:29.374576Z",
     "iopub.status.idle": "2023-01-18T09:35:34.770433Z",
     "shell.execute_reply": "2023-01-18T09:35:34.768863Z"
    },
    "papermill": {
     "duration": 5.409836,
     "end_time": "2023-01-18T09:35:34.773756",
     "exception": false,
     "start_time": "2023-01-18T09:35:29.363920",
     "status": "completed"
    },
    "tags": []
   },
   "outputs": [],
   "source": [
    "!cp -r ../input/recsys-repo/RecSys_Course_AT_PoliMi-master/* ./\n",
    "%config Completer.use_jedi = False\n",
    "%load_ext Cython\n",
    "import pandas as pd\n",
    "import numpy as np\n",
    "import scipy.sparse as sps\n",
    "import matplotlib.pyplot as pyplot\n",
    "from Data_manager.split_functions.split_train_validation_random_holdout import split_train_in_two_percentage_global_sample\n",
    "from Evaluation.Evaluator import EvaluatorHoldout\n",
    "from Recommenders.GraphBased.RP3betaRecommender import RP3betaRecommender\n",
    "from Recommenders.GraphBased.P3alphaRecommender import P3alphaRecommender\n",
    "from Recommenders.EASE_R.EASE_R_Recommender import EASE_R_Recommender\n",
    "from Recommenders.KNN.ItemKNNCustomSimilarityRecommender import ItemKNNCustomSimilarityRecommender"
   ]
  },
  {
   "cell_type": "code",
   "execution_count": 2,
   "id": "7e07ce21",
   "metadata": {
    "execution": {
     "iopub.execute_input": "2023-01-18T09:35:34.788894Z",
     "iopub.status.busy": "2023-01-18T09:35:34.787652Z",
     "iopub.status.idle": "2023-01-18T09:38:49.421712Z",
     "shell.execute_reply": "2023-01-18T09:38:49.419779Z"
    },
    "papermill": {
     "duration": 194.644612,
     "end_time": "2023-01-18T09:38:49.424879",
     "exception": false,
     "start_time": "2023-01-18T09:35:34.780267",
     "status": "completed"
    },
    "tags": []
   },
   "outputs": [
    {
     "name": "stdout",
     "output_type": "stream",
     "text": [
      "run_compile_all_cython: Found 10 Cython files in 4 folders...\r\n",
      "run_compile_all_cython: All files will be compiled using your current python environment: '/opt/conda/bin/python'\r\n",
      "Compiling [1/10]: MatrixFactorization_Cython_Epoch.pyx... \r\n"
     ]
    },
    {
     "name": "stdout",
     "output_type": "stream",
     "text": [
      "In file included from \u001b[01m\u001b[K/opt/conda/lib/python3.7/site-packages/numpy/core/include/numpy/ndarraytypes.h:1969\u001b[m\u001b[K,\r\n",
      "                 from \u001b[01m\u001b[K/opt/conda/lib/python3.7/site-packages/numpy/core/include/numpy/ndarrayobject.h:12\u001b[m\u001b[K,\r\n",
      "                 from \u001b[01m\u001b[K/opt/conda/lib/python3.7/site-packages/numpy/core/include/numpy/arrayobject.h:4\u001b[m\u001b[K,\r\n",
      "                 from \u001b[01m\u001b[KMatrixFactorization_Cython_Epoch.c:746\u001b[m\u001b[K:\r\n",
      "\u001b[01m\u001b[K/opt/conda/lib/python3.7/site-packages/numpy/core/include/numpy/npy_1_7_deprecated_api.h:17:2:\u001b[m\u001b[K \u001b[01;35m\u001b[Kwarning: \u001b[m\u001b[K#warning \"Using deprecated NumPy API, disable it with \" \"#define NPY_NO_DEPRECATED_API NPY_1_7_API_VERSION\" [\u001b[01;35m\u001b[K-Wcpp\u001b[m\u001b[K]\r\n",
      "   17 | #\u001b[01;35m\u001b[Kwarning\u001b[m\u001b[K \"Using deprecated NumPy API, disable it with \" \\\r\n",
      "      |  \u001b[01;35m\u001b[K^~~~~~~\u001b[m\u001b[K\r\n"
     ]
    },
    {
     "name": "stdout",
     "output_type": "stream",
     "text": [
      "\u001b[01m\u001b[KMatrixFactorization_Cython_Epoch.c:\u001b[m\u001b[K In function ‘\u001b[01m\u001b[K__pyx_pf_32MatrixFactorization_Cython_Epoch_32MatrixFactorization_Cython_Epoch_10epochIteration_Cython_ASY_SVD_SGD\u001b[m\u001b[K’:\r\n",
      "\u001b[01m\u001b[KMatrixFactorization_Cython_Epoch.c:8669:9:\u001b[m\u001b[K \u001b[01;35m\u001b[Kwarning: \u001b[m\u001b[K‘\u001b[01m\u001b[K__pyx_v_end_pos_seen_items\u001b[m\u001b[K’ may be used uninitialized in this function [\u001b[01;35m\u001b[K-Wmaybe-uninitialized\u001b[m\u001b[K]\r\n",
      " 8669 |         \u001b[01;35m\u001b[Kfor\u001b[m\u001b[K (__pyx_t_19 = __pyx_v_start_pos_seen_items; __pyx_t_19 < __pyx_t_18; __pyx_t_19+=1) {\r\n",
      "      |         \u001b[01;35m\u001b[K^~~\u001b[m\u001b[K\r\n",
      "\u001b[01m\u001b[KMatrixFactorization_Cython_Epoch.c:8669:9:\u001b[m\u001b[K \u001b[01;35m\u001b[Kwarning: \u001b[m\u001b[K‘\u001b[01m\u001b[K__pyx_v_start_pos_seen_items\u001b[m\u001b[K’ may be used uninitialized in this function [\u001b[01;35m\u001b[K-Wmaybe-uninitialized\u001b[m\u001b[K]\r\n"
     ]
    },
    {
     "name": "stdout",
     "output_type": "stream",
     "text": [
      "/opt/conda/lib/python3.7/site-packages/Cython/Compiler/Main.py:369: FutureWarning: Cython directive 'language_level' not set, using 2 for now (Py2). This will change in a later release! File: /kaggle/working/Recommenders/MatrixFactorization/Cython/MatrixFactorization_Cython_Epoch.pyx\r\n",
      "  tree = Parsing.p_module(s, pxd, full_module_name)\r\n"
     ]
    },
    {
     "name": "stdout",
     "output_type": "stream",
     "text": [
      "Compiling [1/10]: MatrixFactorization_Cython_Epoch.pyx... PASS\r\n",
      "\r\n",
      "Compiling [2/10]: MatrixFactorizationImpressions_Cython_Epoch.pyx... \r\n"
     ]
    },
    {
     "name": "stdout",
     "output_type": "stream",
     "text": [
      "In file included from \u001b[01m\u001b[K/opt/conda/lib/python3.7/site-packages/numpy/core/include/numpy/ndarraytypes.h:1969\u001b[m\u001b[K,\r\n",
      "                 from \u001b[01m\u001b[K/opt/conda/lib/python3.7/site-packages/numpy/core/include/numpy/ndarrayobject.h:12\u001b[m\u001b[K,\r\n",
      "                 from \u001b[01m\u001b[K/opt/conda/lib/python3.7/site-packages/numpy/core/include/numpy/arrayobject.h:4\u001b[m\u001b[K,\r\n",
      "                 from \u001b[01m\u001b[KMatrixFactorizationImpressions_Cython_Epoch.c:746\u001b[m\u001b[K:\r\n",
      "\u001b[01m\u001b[K/opt/conda/lib/python3.7/site-packages/numpy/core/include/numpy/npy_1_7_deprecated_api.h:17:2:\u001b[m\u001b[K \u001b[01;35m\u001b[Kwarning: \u001b[m\u001b[K#warning \"Using deprecated NumPy API, disable it with \" \"#define NPY_NO_DEPRECATED_API NPY_1_7_API_VERSION\" [\u001b[01;35m\u001b[K-Wcpp\u001b[m\u001b[K]\r\n",
      "   17 | #\u001b[01;35m\u001b[Kwarning\u001b[m\u001b[K \"Using deprecated NumPy API, disable it with \" \\\r\n",
      "      |  \u001b[01;35m\u001b[K^~~~~~~\u001b[m\u001b[K\r\n"
     ]
    },
    {
     "name": "stdout",
     "output_type": "stream",
     "text": [
      "\u001b[01m\u001b[KMatrixFactorizationImpressions_Cython_Epoch.c:\u001b[m\u001b[K In function ‘\u001b[01m\u001b[K__pyx_f_43MatrixFactorizationImpressions_Cython_Epoch_32MatrixFactorization_Cython_Epoch_sampleBPR_Cython\u001b[m\u001b[K’:\r\n",
      "\u001b[01m\u001b[KMatrixFactorizationImpressions_Cython_Epoch.c:12758:17:\u001b[m\u001b[K \u001b[01;35m\u001b[Kwarning: \u001b[m\u001b[K‘\u001b[01m\u001b[K__pyx_v_start_pos_impression_items\u001b[m\u001b[K’ may be used uninitialized in this function [\u001b[01;35m\u001b[K-Wmaybe-uninitialized\u001b[m\u001b[K]\r\n",
      "12758 |       \u001b[01;35m\u001b[K__pyx_t_4 = (__pyx_v_start_pos_impression_items + __pyx_v_index)\u001b[m\u001b[K;\r\n",
      "      |       \u001b[01;35m\u001b[K~~~~~~~~~~^~~~~~~~~~~~~~~~~~~~~~~~~~~~~~~~~~~~~~~~~~~~~~~~~~~~~~\u001b[m\u001b[K\r\n"
     ]
    },
    {
     "name": "stdout",
     "output_type": "stream",
     "text": [
      "\u001b[01m\u001b[KMatrixFactorizationImpressions_Cython_Epoch.c:\u001b[m\u001b[K In function ‘\u001b[01m\u001b[K__pyx_pf_43MatrixFactorizationImpressions_Cython_Epoch_32MatrixFactorization_Cython_Epoch_10epochIteration_Cython_ASY_SVD_SGD\u001b[m\u001b[K’:\r\n",
      "\u001b[01m\u001b[KMatrixFactorizationImpressions_Cython_Epoch.c:8736:7:\u001b[m\u001b[K \u001b[01;35m\u001b[Kwarning: \u001b[m\u001b[K‘\u001b[01m\u001b[K__pyx_v_end_pos_seen_items\u001b[m\u001b[K’ may be used uninitialized in this function [\u001b[01;35m\u001b[K-Wmaybe-uninitialized\u001b[m\u001b[K]\r\n",
      " 8736 |       \u001b[01;35m\u001b[Kfor\u001b[m\u001b[K (__pyx_t_19 = __pyx_v_start_pos_seen_items; __pyx_t_19 < __pyx_t_18; __pyx_t_19+=1) {\r\n",
      "      |       \u001b[01;35m\u001b[K^~~\u001b[m\u001b[K\r\n",
      "\u001b[01m\u001b[KMatrixFactorizationImpressions_Cython_Epoch.c:8736:7:\u001b[m\u001b[K \u001b[01;35m\u001b[Kwarning: \u001b[m\u001b[K‘\u001b[01m\u001b[K__pyx_v_start_pos_seen_items\u001b[m\u001b[K’ may be used uninitialized in this function [\u001b[01;35m\u001b[K-Wmaybe-uninitialized\u001b[m\u001b[K]\r\n"
     ]
    },
    {
     "name": "stdout",
     "output_type": "stream",
     "text": [
      "/opt/conda/lib/python3.7/site-packages/Cython/Compiler/Main.py:369: FutureWarning: Cython directive 'language_level' not set, using 2 for now (Py2). This will change in a later release! File: /kaggle/working/Recommenders/MatrixFactorization/Cython/MatrixFactorizationImpressions_Cython_Epoch.pyx\r\n",
      "  tree = Parsing.p_module(s, pxd, full_module_name)\r\n"
     ]
    },
    {
     "name": "stdout",
     "output_type": "stream",
     "text": [
      "Compiling [2/10]: MatrixFactorizationImpressions_Cython_Epoch.pyx... PASS\r\n",
      "\r\n",
      "Compiling [3/10]: Compute_Similarity_Cython.pyx... \r\n"
     ]
    },
    {
     "name": "stdout",
     "output_type": "stream",
     "text": [
      "In file included from \u001b[01m\u001b[K/opt/conda/lib/python3.7/site-packages/numpy/core/include/numpy/ndarraytypes.h:1969\u001b[m\u001b[K,\r\n",
      "                 from \u001b[01m\u001b[K/opt/conda/lib/python3.7/site-packages/numpy/core/include/numpy/ndarrayobject.h:12\u001b[m\u001b[K,\r\n",
      "                 from \u001b[01m\u001b[K/opt/conda/lib/python3.7/site-packages/numpy/core/include/numpy/arrayobject.h:4\u001b[m\u001b[K,\r\n",
      "                 from \u001b[01m\u001b[KCompute_Similarity_Cython.c:746\u001b[m\u001b[K:\r\n",
      "\u001b[01m\u001b[K/opt/conda/lib/python3.7/site-packages/numpy/core/include/numpy/npy_1_7_deprecated_api.h:17:2:\u001b[m\u001b[K \u001b[01;35m\u001b[Kwarning: \u001b[m\u001b[K#warning \"Using deprecated NumPy API, disable it with \" \"#define NPY_NO_DEPRECATED_API NPY_1_7_API_VERSION\" [\u001b[01;35m\u001b[K-Wcpp\u001b[m\u001b[K]\r\n",
      "   17 | #\u001b[01;35m\u001b[Kwarning\u001b[m\u001b[K \"Using deprecated NumPy API, disable it with \" \\\r\n",
      "      |  \u001b[01;35m\u001b[K^~~~~~~\u001b[m\u001b[K\r\n"
     ]
    },
    {
     "name": "stdout",
     "output_type": "stream",
     "text": [
      "/opt/conda/lib/python3.7/site-packages/Cython/Compiler/Main.py:369: FutureWarning: Cython directive 'language_level' not set, using 2 for now (Py2). This will change in a later release! File: /kaggle/working/Recommenders/Similarity/Cython/Compute_Similarity_Cython.pyx\r\n",
      "  tree = Parsing.p_module(s, pxd, full_module_name)\r\n"
     ]
    },
    {
     "name": "stdout",
     "output_type": "stream",
     "text": [
      "Compiling [3/10]: Compute_Similarity_Cython.pyx... PASS\r\n",
      "\r\n",
      "Compiling [4/10]: Triangular_Matrix.pyx... \r\n"
     ]
    },
    {
     "name": "stdout",
     "output_type": "stream",
     "text": [
      "In file included from \u001b[01m\u001b[K/opt/conda/lib/python3.7/site-packages/numpy/core/include/numpy/ndarraytypes.h:1969\u001b[m\u001b[K,\r\n",
      "                 from \u001b[01m\u001b[K/opt/conda/lib/python3.7/site-packages/numpy/core/include/numpy/ndarrayobject.h:12\u001b[m\u001b[K,\r\n",
      "                 from \u001b[01m\u001b[K/opt/conda/lib/python3.7/site-packages/numpy/core/include/numpy/arrayobject.h:4\u001b[m\u001b[K,\r\n",
      "                 from \u001b[01m\u001b[KTriangular_Matrix.c:746\u001b[m\u001b[K:\r\n",
      "\u001b[01m\u001b[K/opt/conda/lib/python3.7/site-packages/numpy/core/include/numpy/npy_1_7_deprecated_api.h:17:2:\u001b[m\u001b[K \u001b[01;35m\u001b[Kwarning: \u001b[m\u001b[K#warning \"Using deprecated NumPy API, disable it with \" \"#define NPY_NO_DEPRECATED_API NPY_1_7_API_VERSION\" [\u001b[01;35m\u001b[K-Wcpp\u001b[m\u001b[K]\r\n",
      "   17 | #\u001b[01;35m\u001b[Kwarning\u001b[m\u001b[K \"Using deprecated NumPy API, disable it with \" \\\r\n",
      "      |  \u001b[01;35m\u001b[K^~~~~~~\u001b[m\u001b[K\r\n"
     ]
    },
    {
     "name": "stdout",
     "output_type": "stream",
     "text": [
      "/opt/conda/lib/python3.7/site-packages/Cython/Compiler/Main.py:369: FutureWarning: Cython directive 'language_level' not set, using 2 for now (Py2). This will change in a later release! File: /kaggle/working/Recommenders/SLIM/Cython/Triangular_Matrix.pyx\r\n",
      "  tree = Parsing.p_module(s, pxd, full_module_name)\r\n"
     ]
    },
    {
     "name": "stdout",
     "output_type": "stream",
     "text": [
      "Compiling [4/10]: Triangular_Matrix.pyx... PASS\r\n",
      "\r\n",
      "Compiling [5/10]: SLIM_BPR_Cython_Epoch.pyx... \r\n"
     ]
    },
    {
     "name": "stdout",
     "output_type": "stream",
     "text": [
      "warning: SLIM_BPR_Cython_Epoch.pyx:633:34: Non-trivial type declarators in shared declaration (e.g. mix of pointers and values). Each pointer declaration should be on its own line.\r\n",
      "warning: SLIM_BPR_Cython_Epoch.pyx:633:66: Non-trivial type declarators in shared declaration (e.g. mix of pointers and values). Each pointer declaration should be on its own line.\r\n",
      "warning: SLIM_BPR_Cython_Epoch.pyx:818:35: Non-trivial type declarators in shared declaration (e.g. mix of pointers and values). Each pointer declaration should be on its own line.\r\n",
      "warning: SLIM_BPR_Cython_Epoch.pyx:818:52: Non-trivial type declarators in shared declaration (e.g. mix of pointers and values). Each pointer declaration should be on its own line.\r\n",
      "warning: SLIM_BPR_Cython_Epoch.pyx:917:35: Non-trivial type declarators in shared declaration (e.g. mix of pointers and values). Each pointer declaration should be on its own line.\r\n",
      "warning: SLIM_BPR_Cython_Epoch.pyx:917:53: Non-trivial type declarators in shared declaration (e.g. mix of pointers and values). Each pointer declaration should be on its own line.\r\n",
      "warning: SLIM_BPR_Cython_Epoch.pyx:917:69: Non-trivial type declarators in shared declaration (e.g. mix of pointers and values). Each pointer declaration should be on its own line.\r\n",
      "warning: SLIM_BPR_Cython_Epoch.pyx:1052:35: Non-trivial type declarators in shared declaration (e.g. mix of pointers and values). Each pointer declaration should be on its own line.\r\n",
      "warning: SLIM_BPR_Cython_Epoch.pyx:1052:42: Non-trivial type declarators in shared declaration (e.g. mix of pointers and values). Each pointer declaration should be on its own line.\r\n",
      "warning: SLIM_BPR_Cython_Epoch.pyx:1053:35: Non-trivial type declarators in shared declaration (e.g. mix of pointers and values). Each pointer declaration should be on its own line.\r\n",
      "warning: SLIM_BPR_Cython_Epoch.pyx:1053:53: Non-trivial type declarators in shared declaration (e.g. mix of pointers and values). Each pointer declaration should be on its own line.\r\n"
     ]
    },
    {
     "name": "stdout",
     "output_type": "stream",
     "text": [
      "In file included from \u001b[01m\u001b[K/opt/conda/lib/python3.7/site-packages/numpy/core/include/numpy/ndarraytypes.h:1969\u001b[m\u001b[K,\r\n",
      "                 from \u001b[01m\u001b[K/opt/conda/lib/python3.7/site-packages/numpy/core/include/numpy/ndarrayobject.h:12\u001b[m\u001b[K,\r\n",
      "                 from \u001b[01m\u001b[K/opt/conda/lib/python3.7/site-packages/numpy/core/include/numpy/arrayobject.h:4\u001b[m\u001b[K,\r\n",
      "                 from \u001b[01m\u001b[KSLIM_BPR_Cython_Epoch.c:746\u001b[m\u001b[K:\r\n",
      "\u001b[01m\u001b[K/opt/conda/lib/python3.7/site-packages/numpy/core/include/numpy/npy_1_7_deprecated_api.h:17:2:\u001b[m\u001b[K \u001b[01;35m\u001b[Kwarning: \u001b[m\u001b[K#warning \"Using deprecated NumPy API, disable it with \" \"#define NPY_NO_DEPRECATED_API NPY_1_7_API_VERSION\" [\u001b[01;35m\u001b[K-Wcpp\u001b[m\u001b[K]\r\n",
      "   17 | #\u001b[01;35m\u001b[Kwarning\u001b[m\u001b[K \"Using deprecated NumPy API, disable it with \" \\\r\n",
      "      |  \u001b[01;35m\u001b[K^~~~~~~\u001b[m\u001b[K\r\n"
     ]
    },
    {
     "name": "stdout",
     "output_type": "stream",
     "text": [
      "\u001b[01m\u001b[KSLIM_BPR_Cython_Epoch.c:\u001b[m\u001b[K In function ‘\u001b[01m\u001b[K__pyx_f_21SLIM_BPR_Cython_Epoch_22Sparse_Matrix_Tree_CSR_test_list_tee_conversion\u001b[m\u001b[K’:\r\n",
      "\u001b[01m\u001b[KSLIM_BPR_Cython_Epoch.c:10848:15:\u001b[m\u001b[K \u001b[01;35m\u001b[Kwarning: \u001b[m\u001b[K‘\u001b[01m\u001b[K__pyx_v_previous_element\u001b[m\u001b[K’ may be used uninitialized in this function [\u001b[01;35m\u001b[K-Wmaybe-uninitialized\u001b[m\u001b[K]\r\n",
      "10848 |     \u001b[01;35m\u001b[K__pyx_t_7 = __pyx_v_current_element->lower\u001b[m\u001b[K;\r\n",
      "      |     \u001b[01;35m\u001b[K~~~~~~~~~~^~~~~~~~~~~~~~~~~~~~~~~~~~~~~~~~\u001b[m\u001b[K\r\n"
     ]
    },
    {
     "name": "stdout",
     "output_type": "stream",
     "text": [
      "/opt/conda/lib/python3.7/site-packages/Cython/Compiler/Main.py:369: FutureWarning: Cython directive 'language_level' not set, using 2 for now (Py2). This will change in a later release! File: /kaggle/working/Recommenders/SLIM/Cython/SLIM_BPR_Cython_Epoch.pyx\r\n",
      "  tree = Parsing.p_module(s, pxd, full_module_name)\r\n"
     ]
    },
    {
     "name": "stdout",
     "output_type": "stream",
     "text": [
      "warning: SLIM_BPR_Cython_Epoch.pyx:633:34: Non-trivial type declarators in shared declaration (e.g. mix of pointers and values). Each pointer declaration should be on its own line.\r\n",
      "warning: SLIM_BPR_Cython_Epoch.pyx:633:66: Non-trivial type declarators in shared declaration (e.g. mix of pointers and values). Each pointer declaration should be on its own line.\r\n",
      "warning: SLIM_BPR_Cython_Epoch.pyx:818:35: Non-trivial type declarators in shared declaration (e.g. mix of pointers and values). Each pointer declaration should be on its own line.\r\n",
      "warning: SLIM_BPR_Cython_Epoch.pyx:818:52: Non-trivial type declarators in shared declaration (e.g. mix of pointers and values). Each pointer declaration should be on its own line.\r\n",
      "warning: SLIM_BPR_Cython_Epoch.pyx:917:35: Non-trivial type declarators in shared declaration (e.g. mix of pointers and values). Each pointer declaration should be on its own line.\r\n",
      "warning: SLIM_BPR_Cython_Epoch.pyx:917:53: Non-trivial type declarators in shared declaration (e.g. mix of pointers and values). Each pointer declaration should be on its own line.\r\n",
      "warning: SLIM_BPR_Cython_Epoch.pyx:917:69: Non-trivial type declarators in shared declaration (e.g. mix of pointers and values). Each pointer declaration should be on its own line.\r\n",
      "warning: SLIM_BPR_Cython_Epoch.pyx:1052:35: Non-trivial type declarators in shared declaration (e.g. mix of pointers and values). Each pointer declaration should be on its own line.\r\n",
      "warning: SLIM_BPR_Cython_Epoch.pyx:1052:42: Non-trivial type declarators in shared declaration (e.g. mix of pointers and values). Each pointer declaration should be on its own line.\r\n",
      "warning: SLIM_BPR_Cython_Epoch.pyx:1053:35: Non-trivial type declarators in shared declaration (e.g. mix of pointers and values). Each pointer declaration should be on its own line.\r\n",
      "warning: SLIM_BPR_Cython_Epoch.pyx:1053:53: Non-trivial type declarators in shared declaration (e.g. mix of pointers and values). Each pointer declaration should be on its own line.\r\n"
     ]
    },
    {
     "name": "stdout",
     "output_type": "stream",
     "text": [
      "Compiling [5/10]: SLIM_BPR_Cython_Epoch.pyx... PASS\r\n",
      "\r\n",
      "Compiling [6/10]: Sparse_Matrix_Tree_CSR.pyx... \r\n"
     ]
    },
    {
     "name": "stdout",
     "output_type": "stream",
     "text": [
      "warning: Sparse_Matrix_Tree_CSR.pyx:132:34: Non-trivial type declarators in shared declaration (e.g. mix of pointers and values). Each pointer declaration should be on its own line.\r\n",
      "warning: Sparse_Matrix_Tree_CSR.pyx:132:66: Non-trivial type declarators in shared declaration (e.g. mix of pointers and values). Each pointer declaration should be on its own line.\r\n",
      "warning: Sparse_Matrix_Tree_CSR.pyx:343:35: Non-trivial type declarators in shared declaration (e.g. mix of pointers and values). Each pointer declaration should be on its own line.\r\n",
      "warning: Sparse_Matrix_Tree_CSR.pyx:343:52: Non-trivial type declarators in shared declaration (e.g. mix of pointers and values). Each pointer declaration should be on its own line.\r\n",
      "warning: Sparse_Matrix_Tree_CSR.pyx:442:35: Non-trivial type declarators in shared declaration (e.g. mix of pointers and values). Each pointer declaration should be on its own line.\r\n",
      "warning: Sparse_Matrix_Tree_CSR.pyx:442:53: Non-trivial type declarators in shared declaration (e.g. mix of pointers and values). Each pointer declaration should be on its own line.\r\n",
      "warning: Sparse_Matrix_Tree_CSR.pyx:442:69: Non-trivial type declarators in shared declaration (e.g. mix of pointers and values). Each pointer declaration should be on its own line.\r\n",
      "warning: Sparse_Matrix_Tree_CSR.pyx:577:35: Non-trivial type declarators in shared declaration (e.g. mix of pointers and values). Each pointer declaration should be on its own line.\r\n",
      "warning: Sparse_Matrix_Tree_CSR.pyx:577:42: Non-trivial type declarators in shared declaration (e.g. mix of pointers and values). Each pointer declaration should be on its own line.\r\n",
      "warning: Sparse_Matrix_Tree_CSR.pyx:578:35: Non-trivial type declarators in shared declaration (e.g. mix of pointers and values). Each pointer declaration should be on its own line.\r\n",
      "warning: Sparse_Matrix_Tree_CSR.pyx:578:53: Non-trivial type declarators in shared declaration (e.g. mix of pointers and values). Each pointer declaration should be on its own line.\r\n"
     ]
    },
    {
     "name": "stdout",
     "output_type": "stream",
     "text": [
      "In file included from \u001b[01m\u001b[K/opt/conda/lib/python3.7/site-packages/numpy/core/include/numpy/ndarraytypes.h:1969\u001b[m\u001b[K,\r\n",
      "                 from \u001b[01m\u001b[K/opt/conda/lib/python3.7/site-packages/numpy/core/include/numpy/ndarrayobject.h:12\u001b[m\u001b[K,\r\n",
      "                 from \u001b[01m\u001b[K/opt/conda/lib/python3.7/site-packages/numpy/core/include/numpy/arrayobject.h:4\u001b[m\u001b[K,\r\n",
      "                 from \u001b[01m\u001b[KSparse_Matrix_Tree_CSR.c:746\u001b[m\u001b[K:\r\n",
      "\u001b[01m\u001b[K/opt/conda/lib/python3.7/site-packages/numpy/core/include/numpy/npy_1_7_deprecated_api.h:17:2:\u001b[m\u001b[K \u001b[01;35m\u001b[Kwarning: \u001b[m\u001b[K#warning \"Using deprecated NumPy API, disable it with \" \"#define NPY_NO_DEPRECATED_API NPY_1_7_API_VERSION\" [\u001b[01;35m\u001b[K-Wcpp\u001b[m\u001b[K]\r\n",
      "   17 | #\u001b[01;35m\u001b[Kwarning\u001b[m\u001b[K \"Using deprecated NumPy API, disable it with \" \\\r\n",
      "      |  \u001b[01;35m\u001b[K^~~~~~~\u001b[m\u001b[K\r\n"
     ]
    },
    {
     "name": "stdout",
     "output_type": "stream",
     "text": [
      "\u001b[01m\u001b[KSparse_Matrix_Tree_CSR.c:\u001b[m\u001b[K In function ‘\u001b[01m\u001b[K__pyx_f_22Sparse_Matrix_Tree_CSR_22Sparse_Matrix_Tree_CSR_test_list_tree_conversion\u001b[m\u001b[K’:\r\n",
      "\u001b[01m\u001b[KSparse_Matrix_Tree_CSR.c:5844:15:\u001b[m\u001b[K \u001b[01;35m\u001b[Kwarning: \u001b[m\u001b[K‘\u001b[01m\u001b[K__pyx_v_previous_element\u001b[m\u001b[K’ may be used uninitialized in this function [\u001b[01;35m\u001b[K-Wmaybe-uninitialized\u001b[m\u001b[K]\r\n",
      " 5844 |     \u001b[01;35m\u001b[K__pyx_t_7 = __pyx_v_current_element->lower\u001b[m\u001b[K;\r\n",
      "      |     \u001b[01;35m\u001b[K~~~~~~~~~~^~~~~~~~~~~~~~~~~~~~~~~~~~~~~~~~\u001b[m\u001b[K\r\n"
     ]
    },
    {
     "name": "stdout",
     "output_type": "stream",
     "text": [
      "/opt/conda/lib/python3.7/site-packages/Cython/Compiler/Main.py:369: FutureWarning: Cython directive 'language_level' not set, using 2 for now (Py2). This will change in a later release! File: /kaggle/working/Recommenders/SLIM/Cython/Sparse_Matrix_Tree_CSR.pyx\r\n",
      "  tree = Parsing.p_module(s, pxd, full_module_name)\r\n"
     ]
    },
    {
     "name": "stdout",
     "output_type": "stream",
     "text": [
      "warning: Sparse_Matrix_Tree_CSR.pyx:132:34: Non-trivial type declarators in shared declaration (e.g. mix of pointers and values). Each pointer declaration should be on its own line.\r\n",
      "warning: Sparse_Matrix_Tree_CSR.pyx:132:66: Non-trivial type declarators in shared declaration (e.g. mix of pointers and values). Each pointer declaration should be on its own line.\r\n",
      "warning: Sparse_Matrix_Tree_CSR.pyx:343:35: Non-trivial type declarators in shared declaration (e.g. mix of pointers and values). Each pointer declaration should be on its own line.\r\n",
      "warning: Sparse_Matrix_Tree_CSR.pyx:343:52: Non-trivial type declarators in shared declaration (e.g. mix of pointers and values). Each pointer declaration should be on its own line.\r\n",
      "warning: Sparse_Matrix_Tree_CSR.pyx:442:35: Non-trivial type declarators in shared declaration (e.g. mix of pointers and values). Each pointer declaration should be on its own line.\r\n",
      "warning: Sparse_Matrix_Tree_CSR.pyx:442:53: Non-trivial type declarators in shared declaration (e.g. mix of pointers and values). Each pointer declaration should be on its own line.\r\n",
      "warning: Sparse_Matrix_Tree_CSR.pyx:442:69: Non-trivial type declarators in shared declaration (e.g. mix of pointers and values). Each pointer declaration should be on its own line.\r\n",
      "warning: Sparse_Matrix_Tree_CSR.pyx:577:35: Non-trivial type declarators in shared declaration (e.g. mix of pointers and values). Each pointer declaration should be on its own line.\r\n",
      "warning: Sparse_Matrix_Tree_CSR.pyx:577:42: Non-trivial type declarators in shared declaration (e.g. mix of pointers and values). Each pointer declaration should be on its own line.\r\n",
      "warning: Sparse_Matrix_Tree_CSR.pyx:578:35: Non-trivial type declarators in shared declaration (e.g. mix of pointers and values). Each pointer declaration should be on its own line.\r\n",
      "warning: Sparse_Matrix_Tree_CSR.pyx:578:53: Non-trivial type declarators in shared declaration (e.g. mix of pointers and values). Each pointer declaration should be on its own line.\r\n"
     ]
    },
    {
     "name": "stdout",
     "output_type": "stream",
     "text": [
      "Compiling [6/10]: Sparse_Matrix_Tree_CSR.pyx... PASS\r\n",
      "\r\n",
      "Compiling [7/10]: CFW_DVV_Similarity_Cython_SGD.pyx... \r\n"
     ]
    },
    {
     "name": "stdout",
     "output_type": "stream",
     "text": [
      "In file included from \u001b[01m\u001b[K/opt/conda/lib/python3.7/site-packages/numpy/core/include/numpy/ndarraytypes.h:1969\u001b[m\u001b[K,\r\n",
      "                 from \u001b[01m\u001b[K/opt/conda/lib/python3.7/site-packages/numpy/core/include/numpy/ndarrayobject.h:12\u001b[m\u001b[K,\r\n",
      "                 from \u001b[01m\u001b[K/opt/conda/lib/python3.7/site-packages/numpy/core/include/numpy/arrayobject.h:4\u001b[m\u001b[K,\r\n",
      "                 from \u001b[01m\u001b[KCFW_DVV_Similarity_Cython_SGD.c:746\u001b[m\u001b[K:\r\n",
      "\u001b[01m\u001b[K/opt/conda/lib/python3.7/site-packages/numpy/core/include/numpy/npy_1_7_deprecated_api.h:17:2:\u001b[m\u001b[K \u001b[01;35m\u001b[Kwarning: \u001b[m\u001b[K#warning \"Using deprecated NumPy API, disable it with \" \"#define NPY_NO_DEPRECATED_API NPY_1_7_API_VERSION\" [\u001b[01;35m\u001b[K-Wcpp\u001b[m\u001b[K]\r\n",
      "   17 | #\u001b[01;35m\u001b[Kwarning\u001b[m\u001b[K \"Using deprecated NumPy API, disable it with \" \\\r\n",
      "      |  \u001b[01;35m\u001b[K^~~~~~~\u001b[m\u001b[K\r\n"
     ]
    },
    {
     "name": "stdout",
     "output_type": "stream",
     "text": [
      "/opt/conda/lib/python3.7/site-packages/Cython/Compiler/Main.py:369: FutureWarning: Cython directive 'language_level' not set, using 2 for now (Py2). This will change in a later release! File: /kaggle/working/Recommenders/FeatureWeighting/Cython/CFW_DVV_Similarity_Cython_SGD.pyx\r\n",
      "  tree = Parsing.p_module(s, pxd, full_module_name)\r\n"
     ]
    },
    {
     "name": "stdout",
     "output_type": "stream",
     "text": [
      "Compiling [7/10]: CFW_DVV_Similarity_Cython_SGD.pyx... PASS\r\n",
      "\r\n",
      "Compiling [8/10]: HP3_Similarity_Cython_SGD.pyx... \r\n"
     ]
    },
    {
     "name": "stdout",
     "output_type": "stream",
     "text": [
      "warning: HP3_Similarity_Cython_SGD.pyx:113:40: Index should be typed for more efficient access\r\n"
     ]
    },
    {
     "name": "stdout",
     "output_type": "stream",
     "text": [
      "In file included from \u001b[01m\u001b[K/opt/conda/lib/python3.7/site-packages/numpy/core/include/numpy/ndarraytypes.h:1969\u001b[m\u001b[K,\r\n",
      "                 from \u001b[01m\u001b[K/opt/conda/lib/python3.7/site-packages/numpy/core/include/numpy/ndarrayobject.h:12\u001b[m\u001b[K,\r\n",
      "                 from \u001b[01m\u001b[K/opt/conda/lib/python3.7/site-packages/numpy/core/include/numpy/arrayobject.h:4\u001b[m\u001b[K,\r\n",
      "                 from \u001b[01m\u001b[KHP3_Similarity_Cython_SGD.c:746\u001b[m\u001b[K:\r\n",
      "\u001b[01m\u001b[K/opt/conda/lib/python3.7/site-packages/numpy/core/include/numpy/npy_1_7_deprecated_api.h:17:2:\u001b[m\u001b[K \u001b[01;35m\u001b[Kwarning: \u001b[m\u001b[K#warning \"Using deprecated NumPy API, disable it with \" \"#define NPY_NO_DEPRECATED_API NPY_1_7_API_VERSION\" [\u001b[01;35m\u001b[K-Wcpp\u001b[m\u001b[K]\r\n",
      "   17 | #\u001b[01;35m\u001b[Kwarning\u001b[m\u001b[K \"Using deprecated NumPy API, disable it with \" \\\r\n",
      "      |  \u001b[01;35m\u001b[K^~~~~~~\u001b[m\u001b[K\r\n"
     ]
    },
    {
     "name": "stdout",
     "output_type": "stream",
     "text": [
      "\u001b[01m\u001b[KHP3_Similarity_Cython_SGD.c:\u001b[m\u001b[K In function ‘\u001b[01m\u001b[K__pyx_pf_25HP3_Similarity_Cython_SGD_25HP3_Similarity_Cython_SGD_4fit\u001b[m\u001b[K’:\r\n",
      "\u001b[01m\u001b[KHP3_Similarity_Cython_SGD.c:6303:55:\u001b[m\u001b[K \u001b[01;35m\u001b[Kwarning: \u001b[m\u001b[K‘\u001b[01m\u001b[K__pyx_v_sample_num\u001b[m\u001b[K’ may be used uninitialized in this function [\u001b[01;35m\u001b[K-Wmaybe-uninitialized\u001b[m\u001b[K]\r\n",
      " 6303 |   __pyx_t_1 = PyFloat_FromDouble((__pyx_v_cum_loss / \u001b[01;35m\u001b[K((double)__pyx_v_sample_num)\u001b[m\u001b[K)); if (unlikely(!__pyx_t_1)) __PYX_ERR(0, 291, __pyx_L1_error)\r\n",
      "      |                                                      \u001b[01;35m\u001b[K~^~~~~~~~~~~~~~~~~~~~~~~~~~~\u001b[m\u001b[K\r\n"
     ]
    },
    {
     "name": "stdout",
     "output_type": "stream",
     "text": [
      "/opt/conda/lib/python3.7/site-packages/Cython/Compiler/Main.py:369: FutureWarning: Cython directive 'language_level' not set, using 2 for now (Py2). This will change in a later release! File: /kaggle/working/Recommenders/FeatureWeighting/Cython/HP3_Similarity_Cython_SGD.pyx\r\n",
      "  tree = Parsing.p_module(s, pxd, full_module_name)\r\n"
     ]
    },
    {
     "name": "stdout",
     "output_type": "stream",
     "text": [
      "warning: HP3_Similarity_Cython_SGD.pyx:113:40: Index should be typed for more efficient access\r\n"
     ]
    },
    {
     "name": "stdout",
     "output_type": "stream",
     "text": [
      "Compiling [8/10]: HP3_Similarity_Cython_SGD.pyx... PASS\r\n",
      "\r\n",
      "Compiling [9/10]: FBSM_Rating_Cython_SGD.pyx... \r\n"
     ]
    },
    {
     "name": "stdout",
     "output_type": "stream",
     "text": [
      "In file included from \u001b[01m\u001b[K/opt/conda/lib/python3.7/site-packages/numpy/core/include/numpy/ndarraytypes.h:1969\u001b[m\u001b[K,\r\n",
      "                 from \u001b[01m\u001b[K/opt/conda/lib/python3.7/site-packages/numpy/core/include/numpy/ndarrayobject.h:12\u001b[m\u001b[K,\r\n",
      "                 from \u001b[01m\u001b[K/opt/conda/lib/python3.7/site-packages/numpy/core/include/numpy/arrayobject.h:4\u001b[m\u001b[K,\r\n",
      "                 from \u001b[01m\u001b[KFBSM_Rating_Cython_SGD.c:746\u001b[m\u001b[K:\r\n",
      "\u001b[01m\u001b[K/opt/conda/lib/python3.7/site-packages/numpy/core/include/numpy/npy_1_7_deprecated_api.h:17:2:\u001b[m\u001b[K \u001b[01;35m\u001b[Kwarning: \u001b[m\u001b[K#warning \"Using deprecated NumPy API, disable it with \" \"#define NPY_NO_DEPRECATED_API NPY_1_7_API_VERSION\" [\u001b[01;35m\u001b[K-Wcpp\u001b[m\u001b[K]\r\n",
      "   17 | #\u001b[01;35m\u001b[Kwarning\u001b[m\u001b[K \"Using deprecated NumPy API, disable it with \" \\\r\n",
      "      |  \u001b[01;35m\u001b[K^~~~~~~\u001b[m\u001b[K\r\n"
     ]
    },
    {
     "name": "stdout",
     "output_type": "stream",
     "text": [
      "\u001b[01m\u001b[KFBSM_Rating_Cython_SGD.c:\u001b[m\u001b[K In function ‘\u001b[01m\u001b[K__pyx_pf_22FBSM_Rating_Cython_SGD_22FBSM_Rating_Cython_SGD_2fit\u001b[m\u001b[K’:\r\n",
      "\u001b[01m\u001b[KFBSM_Rating_Cython_SGD.c:9031:55:\u001b[m\u001b[K \u001b[01;35m\u001b[Kwarning: \u001b[m\u001b[K‘\u001b[01m\u001b[K__pyx_v_num_sample\u001b[m\u001b[K’ may be used uninitialized in this function [\u001b[01;35m\u001b[K-Wmaybe-uninitialized\u001b[m\u001b[K]\r\n",
      " 9031 |   __pyx_t_5 = PyFloat_FromDouble((__pyx_v_cum_loss / \u001b[01;35m\u001b[K((double)__pyx_v_num_sample)\u001b[m\u001b[K)); if (unlikely(!__pyx_t_5)) __PYX_ERR(0, 551, __pyx_L1_error)\r\n",
      "      |                                                      \u001b[01;35m\u001b[K~^~~~~~~~~~~~~~~~~~~~~~~~~~~\u001b[m\u001b[K\r\n"
     ]
    },
    {
     "name": "stdout",
     "output_type": "stream",
     "text": [
      "/opt/conda/lib/python3.7/site-packages/Cython/Compiler/Main.py:369: FutureWarning: Cython directive 'language_level' not set, using 2 for now (Py2). This will change in a later release! File: /kaggle/working/Recommenders/FeatureWeighting/Cython/FBSM_Rating_Cython_SGD.pyx\r\n",
      "  tree = Parsing.p_module(s, pxd, full_module_name)\r\n"
     ]
    },
    {
     "name": "stdout",
     "output_type": "stream",
     "text": [
      "Compiling [9/10]: FBSM_Rating_Cython_SGD.pyx... PASS\r\n",
      "\r\n",
      "Compiling [10/10]: CFW_D_Similarity_Cython_SGD.pyx... \r\n"
     ]
    },
    {
     "name": "stdout",
     "output_type": "stream",
     "text": [
      "In file included from \u001b[01m\u001b[K/opt/conda/lib/python3.7/site-packages/numpy/core/include/numpy/ndarraytypes.h:1969\u001b[m\u001b[K,\r\n",
      "                 from \u001b[01m\u001b[K/opt/conda/lib/python3.7/site-packages/numpy/core/include/numpy/ndarrayobject.h:12\u001b[m\u001b[K,\r\n",
      "                 from \u001b[01m\u001b[K/opt/conda/lib/python3.7/site-packages/numpy/core/include/numpy/arrayobject.h:4\u001b[m\u001b[K,\r\n",
      "                 from \u001b[01m\u001b[KCFW_D_Similarity_Cython_SGD.c:746\u001b[m\u001b[K:\r\n",
      "\u001b[01m\u001b[K/opt/conda/lib/python3.7/site-packages/numpy/core/include/numpy/npy_1_7_deprecated_api.h:17:2:\u001b[m\u001b[K \u001b[01;35m\u001b[Kwarning: \u001b[m\u001b[K#warning \"Using deprecated NumPy API, disable it with \" \"#define NPY_NO_DEPRECATED_API NPY_1_7_API_VERSION\" [\u001b[01;35m\u001b[K-Wcpp\u001b[m\u001b[K]\r\n",
      "   17 | #\u001b[01;35m\u001b[Kwarning\u001b[m\u001b[K \"Using deprecated NumPy API, disable it with \" \\\r\n",
      "      |  \u001b[01;35m\u001b[K^~~~~~~\u001b[m\u001b[K\r\n"
     ]
    },
    {
     "name": "stdout",
     "output_type": "stream",
     "text": [
      "\u001b[01m\u001b[KCFW_D_Similarity_Cython_SGD.c:\u001b[m\u001b[K In function ‘\u001b[01m\u001b[K__pyx_pf_27CFW_D_Similarity_Cython_SGD_27CFW_D_Similarity_Cython_SGD_6fit\u001b[m\u001b[K’:\r\n",
      "\u001b[01m\u001b[KCFW_D_Similarity_Cython_SGD.c:6056:55:\u001b[m\u001b[K \u001b[01;35m\u001b[Kwarning: \u001b[m\u001b[K‘\u001b[01m\u001b[K__pyx_v_sample_num\u001b[m\u001b[K’ may be used uninitialized in this function [\u001b[01;35m\u001b[K-Wmaybe-uninitialized\u001b[m\u001b[K]\r\n",
      " 6056 |   __pyx_t_3 = PyFloat_FromDouble((__pyx_v_cum_loss / \u001b[01;35m\u001b[K((double)__pyx_v_sample_num)\u001b[m\u001b[K)); if (unlikely(!__pyx_t_3)) __PYX_ERR(0, 290, __pyx_L1_error)\r\n",
      "      |                                                      \u001b[01;35m\u001b[K~^~~~~~~~~~~~~~~~~~~~~~~~~~~\u001b[m\u001b[K\r\n"
     ]
    },
    {
     "name": "stdout",
     "output_type": "stream",
     "text": [
      "/opt/conda/lib/python3.7/site-packages/Cython/Compiler/Main.py:369: FutureWarning: Cython directive 'language_level' not set, using 2 for now (Py2). This will change in a later release! File: /kaggle/working/Recommenders/FeatureWeighting/Cython/CFW_D_Similarity_Cython_SGD.pyx\r\n",
      "  tree = Parsing.p_module(s, pxd, full_module_name)\r\n"
     ]
    },
    {
     "name": "stdout",
     "output_type": "stream",
     "text": [
      "Compiling [10/10]: CFW_D_Similarity_Cython_SGD.pyx... PASS\r\n",
      "\r\n",
      "run_compile_all_cython: Compilation finished. SUCCESS.\r\n",
      "Compilation log can be found here: './result_experiments/run_compile_all_cython.txt'\r\n"
     ]
    }
   ],
   "source": [
    "!python run_compile_all_cython.py"
   ]
  },
  {
   "cell_type": "code",
   "execution_count": 3,
   "id": "377a6657",
   "metadata": {
    "execution": {
     "iopub.execute_input": "2023-01-18T09:38:49.446226Z",
     "iopub.status.busy": "2023-01-18T09:38:49.445760Z",
     "iopub.status.idle": "2023-01-18T09:38:49.499886Z",
     "shell.execute_reply": "2023-01-18T09:38:49.498530Z"
    },
    "papermill": {
     "duration": 0.068683,
     "end_time": "2023-01-18T09:38:49.502900",
     "exception": false,
     "start_time": "2023-01-18T09:38:49.434217",
     "status": "completed"
    },
    "tags": []
   },
   "outputs": [
    {
     "data": {
      "text/plain": [
       "(27968, 8)"
      ]
     },
     "execution_count": 3,
     "metadata": {},
     "output_type": "execute_result"
    }
   ],
   "source": [
    "ICM_type_df = pd.read_csv(\"/kaggle/input/competition-data/data_ICM_type.csv\")\n",
    "ICM_type_df\n",
    "\n",
    "items = ICM_type_df.item_id\n",
    "features = ICM_type_df.feature_id\n",
    "data = ICM_type_df.data\n",
    "ICM_type = sps.csr_matrix((data, (items, features)))\n",
    "ICM_type = ICM_type.astype(dtype = np.int32)\n",
    "\n",
    "n_users = 41629\n",
    "n_itemsFromICM = ICM_type.shape[0]\n",
    "ICM_type.shape"
   ]
  },
  {
   "cell_type": "code",
   "execution_count": 4,
   "id": "01e66f8c",
   "metadata": {
    "execution": {
     "iopub.execute_input": "2023-01-18T09:38:49.524077Z",
     "iopub.status.busy": "2023-01-18T09:38:49.523660Z",
     "iopub.status.idle": "2023-01-18T09:38:49.706245Z",
     "shell.execute_reply": "2023-01-18T09:38:49.704955Z"
    },
    "papermill": {
     "duration": 0.196612,
     "end_time": "2023-01-18T09:38:49.709002",
     "exception": false,
     "start_time": "2023-01-18T09:38:49.512390",
     "status": "completed"
    },
    "tags": []
   },
   "outputs": [
    {
     "data": {
      "text/plain": [
       "<41629x27968 sparse matrix of type '<class 'numpy.float64'>'\n",
       "\twith 1321444 stored elements in Compressed Sparse Row format>"
      ]
     },
     "execution_count": 4,
     "metadata": {},
     "output_type": "execute_result"
    }
   ],
   "source": [
    "URM_train = sps.load_npz(\"/kaggle/input/reeborooba/trainDefault.npz\")\n",
    "URM_train = sps.csr_matrix((URM_train.data, URM_train.indices, URM_train.indptr), shape=(n_users, n_itemsFromICM))\n",
    "URM_train"
   ]
  },
  {
   "cell_type": "code",
   "execution_count": 5,
   "id": "3f6d78e8",
   "metadata": {
    "execution": {
     "iopub.execute_input": "2023-01-18T09:38:49.730941Z",
     "iopub.status.busy": "2023-01-18T09:38:49.730329Z",
     "iopub.status.idle": "2023-01-18T09:38:49.772496Z",
     "shell.execute_reply": "2023-01-18T09:38:49.771190Z"
    },
    "papermill": {
     "duration": 0.056445,
     "end_time": "2023-01-18T09:38:49.775210",
     "exception": false,
     "start_time": "2023-01-18T09:38:49.718765",
     "status": "completed"
    },
    "tags": []
   },
   "outputs": [
    {
     "data": {
      "text/plain": [
       "<41629x27968 sparse matrix of type '<class 'numpy.float64'>'\n",
       "\twith 233196 stored elements in Compressed Sparse Row format>"
      ]
     },
     "execution_count": 5,
     "metadata": {},
     "output_type": "execute_result"
    }
   ],
   "source": [
    "URM_valid = sps.load_npz(\"/kaggle/input/reeborooba/validDefault.npz\")\n",
    "URM_valid = sps.csr_matrix((URM_valid.data, URM_valid.indices, URM_valid.indptr), shape=(n_users, n_itemsFromICM))\n",
    "URM_valid"
   ]
  },
  {
   "cell_type": "code",
   "execution_count": 6,
   "id": "ab4935eb",
   "metadata": {
    "execution": {
     "iopub.execute_input": "2023-01-18T09:38:49.805825Z",
     "iopub.status.busy": "2023-01-18T09:38:49.804758Z",
     "iopub.status.idle": "2023-01-18T09:38:49.891389Z",
     "shell.execute_reply": "2023-01-18T09:38:49.889347Z"
    },
    "papermill": {
     "duration": 0.107449,
     "end_time": "2023-01-18T09:38:49.895562",
     "exception": false,
     "start_time": "2023-01-18T09:38:49.788113",
     "status": "completed"
    },
    "tags": []
   },
   "outputs": [],
   "source": [
    "URM_train_stacked = sps.vstack([URM_train, ICM_type.T])\n",
    "URM_train_stacked = sps.csr_matrix(URM_train_stacked)"
   ]
  },
  {
   "cell_type": "code",
   "execution_count": 7,
   "id": "12bed581",
   "metadata": {
    "execution": {
     "iopub.execute_input": "2023-01-18T09:38:49.926330Z",
     "iopub.status.busy": "2023-01-18T09:38:49.925819Z",
     "iopub.status.idle": "2023-01-18T09:38:49.955636Z",
     "shell.execute_reply": "2023-01-18T09:38:49.954317Z"
    },
    "papermill": {
     "duration": 0.046286,
     "end_time": "2023-01-18T09:38:49.958067",
     "exception": false,
     "start_time": "2023-01-18T09:38:49.911781",
     "status": "completed"
    },
    "tags": []
   },
   "outputs": [
    {
     "name": "stdout",
     "output_type": "stream",
     "text": [
      "EvaluatorHoldout: Ignoring 963 ( 2.3%) Users that have less than 1 test interactions\n"
     ]
    }
   ],
   "source": [
    "#create an evaluator object to evaluate validation set\n",
    "#we will use it for hyperparameter tuning\n",
    "evaluator_valid = EvaluatorHoldout(URM_valid, cutoff_list=[10])"
   ]
  },
  {
   "cell_type": "code",
   "execution_count": 8,
   "id": "e6f8f39d",
   "metadata": {
    "execution": {
     "iopub.execute_input": "2023-01-18T09:38:49.980542Z",
     "iopub.status.busy": "2023-01-18T09:38:49.979729Z",
     "iopub.status.idle": "2023-01-18T09:38:50.178141Z",
     "shell.execute_reply": "2023-01-18T09:38:50.177084Z"
    },
    "papermill": {
     "duration": 0.214161,
     "end_time": "2023-01-18T09:38:50.182308",
     "exception": false,
     "start_time": "2023-01-18T09:38:49.968147",
     "status": "completed"
    },
    "tags": []
   },
   "outputs": [],
   "source": [
    "import implicit\n",
    "from Recommenders.BaseMatrixFactorizationRecommender import BaseMatrixFactorizationRecommender\n",
    "import scipy.sparse as sps\n",
    "class ImplicitALSRecommender(BaseMatrixFactorizationRecommender):\n",
    "    \"\"\"ImplicitALSRecommender recommender\"\"\"\n",
    "\n",
    "    RECOMMENDER_NAME = \"ImplicitALSRecommender\"\n",
    "\n",
    "    def fit(self,\n",
    "            factors=100,\n",
    "            regularization=0.01,\n",
    "            use_native=True, use_cg=True, use_gpu=False,\n",
    "            iterations=15,\n",
    "            calculate_training_loss=False, num_threads=0,\n",
    "            confidence_scaling=None,\n",
    "            icm_coeff = 1,\n",
    "            **confidence_args\n",
    "            ):\n",
    "        self.rec = implicit.als.AlternatingLeastSquares(factors=factors, regularization=regularization,\n",
    "                                                        use_native=use_native, use_cg=use_cg, use_gpu=use_gpu,\n",
    "                                                        iterations=iterations,\n",
    "                                                        calculate_training_loss=calculate_training_loss,\n",
    "                                                        num_threads=num_threads,\n",
    "                                                        random_state=5)\n",
    "        self.rec.fit(confidence_scaling(self.URM_train, **confidence_args), show_progress=self.verbose)\n",
    "\n",
    "        self.USER_factors = self.rec.user_factors\n",
    "        self.ITEM_factors = self.rec.item_factors"
   ]
  },
  {
   "cell_type": "code",
   "execution_count": 9,
   "id": "6f43f69f",
   "metadata": {
    "execution": {
     "iopub.execute_input": "2023-01-18T09:38:50.216045Z",
     "iopub.status.busy": "2023-01-18T09:38:50.215359Z",
     "iopub.status.idle": "2023-01-18T09:38:50.616764Z",
     "shell.execute_reply": "2023-01-18T09:38:50.615773Z"
    },
    "papermill": {
     "duration": 0.416164,
     "end_time": "2023-01-18T09:38:50.619293",
     "exception": false,
     "start_time": "2023-01-18T09:38:50.203129",
     "status": "completed"
    },
    "tags": []
   },
   "outputs": [],
   "source": [
    "import numpy as np\n",
    "import scipy.sparse as sps\n",
    "from Recommenders.Recommender_utils import check_matrix\n",
    "from sklearn.linear_model import ElasticNet\n",
    "from Recommenders.BaseSimilarityMatrixRecommender import BaseItemSimilarityMatrixRecommender\n",
    "from Utils.seconds_to_biggest_unit import seconds_to_biggest_unit\n",
    "import time, sys\n",
    "from tqdm import tqdm\n",
    "from sklearn.utils._testing import ignore_warnings\n",
    "from sklearn.exceptions import ConvergenceWarning\n",
    "\n",
    "# os.environ[\"PYTHONWARNINGS\"] = ('ignore::exceptions.ConvergenceWarning:sklearn.linear_model')\n",
    "# os.environ[\"PYTHONWARNINGS\"] = ('ignore:Objective did not converge:ConvergenceWarning:')\n",
    "\n",
    "class SLIMElasticNetRecommender(BaseItemSimilarityMatrixRecommender):\n",
    "    \"\"\"\n",
    "    Train a Sparse Linear Methods (SLIM) item similarity model.\n",
    "    NOTE: ElasticNet solver is parallel, a single intance of SLIM_ElasticNet will\n",
    "          make use of half the cores available\n",
    "    See:\n",
    "        Efficient Top-N Recommendation by Linear Regression,\n",
    "        M. Levy and K. Jack, LSRS workshop at RecSys 2013.\n",
    "        SLIM: Sparse linear methods for top-n recommender systems,\n",
    "        X. Ning and G. Karypis, ICDM 2011.\n",
    "        http://glaros.dtc.umn.edu/gkhome/fetch/papers/SLIM2011icdm.pdf\n",
    "    \"\"\"\n",
    "\n",
    "    RECOMMENDER_NAME = \"SLIMElasticNetRecommender\"\n",
    "\n",
    "    def __init__(self, URM_train, verbose = True):\n",
    "        super(SLIMElasticNetRecommender, self).__init__(URM_train, verbose = verbose)\n",
    "\n",
    "    @ignore_warnings(category=ConvergenceWarning)\n",
    "    def fit(self, l1_ratio=0.1, alpha = 1.0, positive_only=True, topK = 100,**earlystopping_kwargs):\n",
    "\n",
    "        assert l1_ratio>= 0 and l1_ratio<=1, \"{}: l1_ratio must be between 0 and 1, provided value was {}\".format(self.RECOMMENDER_NAME, l1_ratio)\n",
    "\n",
    "        self.l1_ratio = l1_ratio\n",
    "        self.positive_only = positive_only\n",
    "        self.topK = topK\n",
    "\n",
    "\n",
    "        # initialize the ElasticNet model\n",
    "        self.model = ElasticNet(alpha=alpha,\n",
    "                                l1_ratio=self.l1_ratio,\n",
    "                                positive=self.positive_only,\n",
    "                                fit_intercept=False,\n",
    "                                copy_X=False,\n",
    "                                precompute=True,\n",
    "                                selection='random',\n",
    "                                max_iter=100,\n",
    "                                tol=1e-4)\n",
    "\n",
    "        URM_train = check_matrix(self.URM_train, 'csc', dtype=np.float32)\n",
    "\n",
    "        n_items = URM_train.shape[1]\n",
    "\n",
    "        # Use array as it reduces memory requirements compared to lists\n",
    "        dataBlock = 10000000\n",
    "\n",
    "        rows = np.zeros(dataBlock, dtype=np.int32)\n",
    "        cols = np.zeros(dataBlock, dtype=np.int32)\n",
    "        values = np.zeros(dataBlock, dtype=np.float32)\n",
    "\n",
    "        numCells = 0\n",
    "\n",
    "        start_time = time.time()\n",
    "        start_time_printBatch = start_time\n",
    "\n",
    "        # fit each item's factors sequentially (not in parallel)\n",
    "        for currentItem in range(n_items):\n",
    "\n",
    "            # get the target column\n",
    "            y = URM_train[:, currentItem].toarray()\n",
    "\n",
    "            # set the j-th column of X to zero\n",
    "            start_pos = URM_train.indptr[currentItem]\n",
    "            end_pos = URM_train.indptr[currentItem + 1]\n",
    "\n",
    "            current_item_data_backup = URM_train.data[start_pos: end_pos].copy()\n",
    "            URM_train.data[start_pos: end_pos] = 0.0\n",
    "\n",
    "            # fit one ElasticNet model per column\n",
    "            self.model.fit(URM_train, y)\n",
    "\n",
    "            # self.model.coef_ contains the coefficient of the ElasticNet model\n",
    "            # let's keep only the non-zero values\n",
    "\n",
    "            # Select topK values\n",
    "            # Sorting is done in three steps. Faster then plain np.argsort for higher number of items\n",
    "            # - Partition the data to extract the set of relevant items\n",
    "            # - Sort only the relevant items\n",
    "            # - Get the original item index\n",
    "\n",
    "            nonzero_model_coef_index = self.model.sparse_coef_.indices\n",
    "            nonzero_model_coef_value = self.model.sparse_coef_.data\n",
    "\n",
    "            local_topK = min(len(nonzero_model_coef_value)-1, self.topK)\n",
    "\n",
    "            relevant_items_partition = (-nonzero_model_coef_value).argpartition(local_topK)[0:local_topK]\n",
    "            relevant_items_partition_sorting = np.argsort(-nonzero_model_coef_value[relevant_items_partition])\n",
    "            ranking = relevant_items_partition[relevant_items_partition_sorting]\n",
    "\n",
    "            for index in range(len(ranking)):\n",
    "\n",
    "                if numCells == len(rows):\n",
    "                    rows = np.concatenate((rows, np.zeros(dataBlock, dtype=np.int32)))\n",
    "                    cols = np.concatenate((cols, np.zeros(dataBlock, dtype=np.int32)))\n",
    "                    values = np.concatenate((values, np.zeros(dataBlock, dtype=np.float32)))\n",
    "\n",
    "\n",
    "                rows[numCells] = nonzero_model_coef_index[ranking[index]]\n",
    "                cols[numCells] = currentItem\n",
    "                values[numCells] = nonzero_model_coef_value[ranking[index]]\n",
    "\n",
    "                numCells += 1\n",
    "\n",
    "            # finally, replace the original values of the j-th column\n",
    "            URM_train.data[start_pos:end_pos] = current_item_data_backup\n",
    "\n",
    "            elapsed_time = time.time() - start_time\n",
    "            new_time_value, new_time_unit = seconds_to_biggest_unit(elapsed_time)\n",
    "\n",
    "\n",
    "            if time.time() - start_time_printBatch > 300 or currentItem == n_items-1:\n",
    "                self._print(\"Processed {} ({:4.1f}%) in {:.2f} {}. Items per second: {:.2f}\".format(\n",
    "                    currentItem+1,\n",
    "                    100.0* float(currentItem+1)/n_items,\n",
    "                    new_time_value,\n",
    "                    new_time_unit,\n",
    "                    float(currentItem)/elapsed_time))\n",
    "\n",
    "                sys.stdout.flush()\n",
    "                sys.stderr.flush()\n",
    "\n",
    "                start_time_printBatch = time.time()\n",
    "\n",
    "        # generate the sparse weight matrix\n",
    "        self.W_sparse = sps.csr_matrix((values[:numCells], (rows[:numCells], cols[:numCells])),\n",
    "                                       shape=(n_items, n_items), dtype=np.float32)"
   ]
  },
  {
   "cell_type": "code",
   "execution_count": 10,
   "id": "8e43f293",
   "metadata": {
    "execution": {
     "iopub.execute_input": "2023-01-18T09:38:50.643380Z",
     "iopub.status.busy": "2023-01-18T09:38:50.641820Z",
     "iopub.status.idle": "2023-01-18T09:38:50.654752Z",
     "shell.execute_reply": "2023-01-18T09:38:50.653175Z"
    },
    "papermill": {
     "duration": 0.027994,
     "end_time": "2023-01-18T09:38:50.657802",
     "exception": false,
     "start_time": "2023-01-18T09:38:50.629808",
     "status": "completed"
    },
    "tags": []
   },
   "outputs": [],
   "source": [
    "from Recommenders.BaseMatrixFactorizationRecommender import BaseMatrixFactorizationRecommender\n",
    "from Recommenders.Incremental_Training_Early_Stopping import Incremental_Training_Early_Stopping\n",
    "from Recommenders.Recommender_utils import check_matrix\n",
    "\n",
    "def linear_scaling_confidence(URM_train, alpha):\n",
    "    C = check_matrix(URM_train.T, format=\"csr\", dtype=np.float32)\n",
    "    C.data = 1.0 + alpha * C.data\n",
    "\n",
    "    return C"
   ]
  },
  {
   "cell_type": "code",
   "execution_count": 11,
   "id": "f0806500",
   "metadata": {
    "execution": {
     "iopub.execute_input": "2023-01-18T09:38:50.680357Z",
     "iopub.status.busy": "2023-01-18T09:38:50.679793Z",
     "iopub.status.idle": "2023-01-18T09:38:50.687282Z",
     "shell.execute_reply": "2023-01-18T09:38:50.685874Z"
    },
    "papermill": {
     "duration": 0.022408,
     "end_time": "2023-01-18T09:38:50.690326",
     "exception": false,
     "start_time": "2023-01-18T09:38:50.667918",
     "status": "completed"
    },
    "tags": []
   },
   "outputs": [],
   "source": [
    "import os\n",
    "\n",
    "output_folder_path = \"result_experiments/\"\n",
    "\n",
    "# If directory does not exist, create\n",
    "if not os.path.exists(output_folder_path):\n",
    "    os.makedirs(output_folder_path)"
   ]
  },
  {
   "cell_type": "code",
   "execution_count": 12,
   "id": "4908b103",
   "metadata": {
    "execution": {
     "iopub.execute_input": "2023-01-18T09:38:50.713865Z",
     "iopub.status.busy": "2023-01-18T09:38:50.712898Z",
     "iopub.status.idle": "2023-01-18T09:44:37.116595Z",
     "shell.execute_reply": "2023-01-18T09:44:37.115618Z"
    },
    "papermill": {
     "duration": 346.418959,
     "end_time": "2023-01-18T09:44:37.119714",
     "exception": false,
     "start_time": "2023-01-18T09:38:50.700755",
     "status": "completed"
    },
    "tags": []
   },
   "outputs": [
    {
     "name": "stdout",
     "output_type": "stream",
     "text": [
      "ImplicitALSRecommender: URM Detected 3461 (12.4%) items with no interactions.\n"
     ]
    },
    {
     "data": {
      "application/vnd.jupyter.widget-view+json": {
       "model_id": "6d7e730a6b444b729b8d03f0acef1269",
       "version_major": 2,
       "version_minor": 0
      },
      "text/plain": [
       "  0%|          | 0/111 [00:00<?, ?it/s]"
      ]
     },
     "metadata": {},
     "output_type": "display_data"
    }
   ],
   "source": [
    "recommender_implicitAls = ImplicitALSRecommender(URM_train)\n",
    "recommender_implicitAls.fit(iterations= int(111.5), factors= int(64.3), regularization= 0.0001,use_gpu=False, num_threads=4, confidence_scaling=linear_scaling_confidence,**{\"alpha\":5.988})"
   ]
  },
  {
   "cell_type": "code",
   "execution_count": 13,
   "id": "90753e50",
   "metadata": {
    "execution": {
     "iopub.execute_input": "2023-01-18T09:44:37.155812Z",
     "iopub.status.busy": "2023-01-18T09:44:37.155074Z",
     "iopub.status.idle": "2023-01-18T10:35:08.013250Z",
     "shell.execute_reply": "2023-01-18T10:35:08.011919Z"
    },
    "papermill": {
     "duration": 3030.884172,
     "end_time": "2023-01-18T10:35:08.016226",
     "exception": false,
     "start_time": "2023-01-18T09:44:37.132054",
     "status": "completed"
    },
    "tags": []
   },
   "outputs": [
    {
     "name": "stdout",
     "output_type": "stream",
     "text": [
      "SLIMElasticNetRecommender: URM Detected 3 ( 0.0%) users with no interactions.\n"
     ]
    },
    {
     "name": "stdout",
     "output_type": "stream",
     "text": [
      "SLIMElasticNetRecommender: Processed 2370 ( 8.5%) in 5.00 min. Items per second: 7.90\n"
     ]
    },
    {
     "name": "stdout",
     "output_type": "stream",
     "text": [
      "SLIMElasticNetRecommender: Processed 4924 (17.6%) in 10.00 min. Items per second: 8.20\n"
     ]
    },
    {
     "name": "stdout",
     "output_type": "stream",
     "text": [
      "SLIMElasticNetRecommender: Processed 7524 (26.9%) in 15.00 min. Items per second: 8.36\n"
     ]
    },
    {
     "name": "stdout",
     "output_type": "stream",
     "text": [
      "SLIMElasticNetRecommender: Processed 9934 (35.5%) in 20.00 min. Items per second: 8.28\n"
     ]
    },
    {
     "name": "stdout",
     "output_type": "stream",
     "text": [
      "SLIMElasticNetRecommender: Processed 12311 (44.0%) in 25.00 min. Items per second: 8.21\n"
     ]
    },
    {
     "name": "stdout",
     "output_type": "stream",
     "text": [
      "SLIMElasticNetRecommender: Processed 14765 (52.8%) in 30.01 min. Items per second: 8.20\n"
     ]
    },
    {
     "name": "stdout",
     "output_type": "stream",
     "text": [
      "SLIMElasticNetRecommender: Processed 17284 (61.8%) in 35.01 min. Items per second: 8.23\n"
     ]
    },
    {
     "name": "stdout",
     "output_type": "stream",
     "text": [
      "SLIMElasticNetRecommender: Processed 19807 (70.8%) in 40.01 min. Items per second: 8.25\n"
     ]
    },
    {
     "name": "stdout",
     "output_type": "stream",
     "text": [
      "SLIMElasticNetRecommender: Processed 22283 (79.7%) in 45.01 min. Items per second: 8.25\n"
     ]
    },
    {
     "name": "stdout",
     "output_type": "stream",
     "text": [
      "SLIMElasticNetRecommender: Processed 26534 (94.9%) in 50.01 min. Items per second: 8.84\n"
     ]
    },
    {
     "name": "stdout",
     "output_type": "stream",
     "text": [
      "SLIMElasticNetRecommender: Processed 27968 (100.0%) in 50.51 min. Items per second: 9.23\n"
     ]
    }
   ],
   "source": [
    "recommender_SLIMElasticNet1 = SLIMElasticNetRecommender(URM_train_stacked)\n",
    "recommender_SLIMElasticNet1.fit(l1_ratio= 0.02663352009457766, alpha= 0.0010777130010163724, positive_only= True, topK= 15368)"
   ]
  },
  {
   "cell_type": "code",
   "execution_count": 14,
   "id": "7b59a80a",
   "metadata": {
    "execution": {
     "iopub.execute_input": "2023-01-18T10:35:08.041881Z",
     "iopub.status.busy": "2023-01-18T10:35:08.041416Z",
     "iopub.status.idle": "2023-01-18T11:55:19.983749Z",
     "shell.execute_reply": "2023-01-18T11:55:19.982570Z"
    },
    "papermill": {
     "duration": 4811.958411,
     "end_time": "2023-01-18T11:55:19.986637",
     "exception": false,
     "start_time": "2023-01-18T10:35:08.028226",
     "status": "completed"
    },
    "tags": []
   },
   "outputs": [
    {
     "name": "stdout",
     "output_type": "stream",
     "text": [
      "SLIMElasticNetRecommender: URM Detected 3461 (12.4%) items with no interactions.\n"
     ]
    },
    {
     "name": "stdout",
     "output_type": "stream",
     "text": [
      "SLIMElasticNetRecommender: Processed 2980 (10.7%) in 5.00 min. Items per second: 9.93\n"
     ]
    },
    {
     "name": "stdout",
     "output_type": "stream",
     "text": [
      "SLIMElasticNetRecommender: Processed 6325 (22.6%) in 10.00 min. Items per second: 10.54\n"
     ]
    },
    {
     "name": "stdout",
     "output_type": "stream",
     "text": [
      "SLIMElasticNetRecommender: Processed 9784 (35.0%) in 15.00 min. Items per second: 10.87\n"
     ]
    },
    {
     "name": "stdout",
     "output_type": "stream",
     "text": [
      "SLIMElasticNetRecommender: Processed 13209 (47.2%) in 20.01 min. Items per second: 11.00\n"
     ]
    },
    {
     "name": "stdout",
     "output_type": "stream",
     "text": [
      "SLIMElasticNetRecommender: Processed 16679 (59.6%) in 25.01 min. Items per second: 11.12\n"
     ]
    },
    {
     "name": "stdout",
     "output_type": "stream",
     "text": [
      "SLIMElasticNetRecommender: Processed 19805 (70.8%) in 30.01 min. Items per second: 11.00\n"
     ]
    },
    {
     "name": "stdout",
     "output_type": "stream",
     "text": [
      "SLIMElasticNetRecommender: Processed 22921 (82.0%) in 35.01 min. Items per second: 10.91\n"
     ]
    },
    {
     "name": "stdout",
     "output_type": "stream",
     "text": [
      "SLIMElasticNetRecommender: Processed 24693 (88.3%) in 40.02 min. Items per second: 10.28\n"
     ]
    },
    {
     "name": "stdout",
     "output_type": "stream",
     "text": [
      "SLIMElasticNetRecommender: Processed 25070 (89.6%) in 45.03 min. Items per second: 9.28\n"
     ]
    },
    {
     "name": "stdout",
     "output_type": "stream",
     "text": [
      "SLIMElasticNetRecommender: Processed 25466 (91.1%) in 50.03 min. Items per second: 8.48\n"
     ]
    },
    {
     "name": "stdout",
     "output_type": "stream",
     "text": [
      "SLIMElasticNetRecommender: Processed 25867 (92.5%) in 55.04 min. Items per second: 7.83\n"
     ]
    },
    {
     "name": "stdout",
     "output_type": "stream",
     "text": [
      "SLIMElasticNetRecommender: Processed 26245 (93.8%) in 1.00 hour. Items per second: 7.29\n"
     ]
    },
    {
     "name": "stdout",
     "output_type": "stream",
     "text": [
      "SLIMElasticNetRecommender: Processed 26663 (95.3%) in 1.08 hour. Items per second: 6.83\n"
     ]
    },
    {
     "name": "stdout",
     "output_type": "stream",
     "text": [
      "SLIMElasticNetRecommender: Processed 27096 (96.9%) in 1.17 hour. Items per second: 6.45\n"
     ]
    },
    {
     "name": "stdout",
     "output_type": "stream",
     "text": [
      "SLIMElasticNetRecommender: Processed 27531 (98.4%) in 1.25 hour. Items per second: 6.11\n"
     ]
    },
    {
     "name": "stdout",
     "output_type": "stream",
     "text": [
      "SLIMElasticNetRecommender: Processed 27956 (100.0%) in 1.33 hour. Items per second: 5.82\n"
     ]
    },
    {
     "name": "stdout",
     "output_type": "stream",
     "text": [
      "SLIMElasticNetRecommender: Processed 27968 (100.0%) in 1.34 hour. Items per second: 5.81\n"
     ]
    }
   ],
   "source": [
    "recommender_SLIMElasticNet2 = SLIMElasticNetRecommender(URM_train)\n",
    "recommender_SLIMElasticNet2.fit(l1_ratio= 0.02663352009457766, alpha= 0.0010777130010163724, positive_only= True, topK= 15368)"
   ]
  },
  {
   "cell_type": "code",
   "execution_count": 15,
   "id": "8d2c08a2",
   "metadata": {
    "execution": {
     "iopub.execute_input": "2023-01-18T11:55:20.012314Z",
     "iopub.status.busy": "2023-01-18T11:55:20.011869Z",
     "iopub.status.idle": "2023-01-18T11:55:34.360331Z",
     "shell.execute_reply": "2023-01-18T11:55:34.359002Z"
    },
    "papermill": {
     "duration": 14.364833,
     "end_time": "2023-01-18T11:55:34.363294",
     "exception": false,
     "start_time": "2023-01-18T11:55:19.998461",
     "status": "completed"
    },
    "tags": []
   },
   "outputs": [
    {
     "name": "stdout",
     "output_type": "stream",
     "text": [
      "RP3betaRecommender: URM Detected 3461 (12.4%) items with no interactions.\n"
     ]
    },
    {
     "name": "stdout",
     "output_type": "stream",
     "text": [
      "RP3betaRecommender: Similarity column 27968 (100.0%), 2324.97 column/sec. Elapsed time 12.03 sec\n"
     ]
    }
   ],
   "source": [
    "RP3beta_all = RP3betaRecommender(URM_train)\n",
    "RP3beta_all.fit(alpha= 0.8048209317587374, beta= 0.28523965008406016, topK= 56, implicit= False)"
   ]
  },
  {
   "cell_type": "code",
   "execution_count": 16,
   "id": "13bd633d",
   "metadata": {
    "execution": {
     "iopub.execute_input": "2023-01-18T11:55:34.389818Z",
     "iopub.status.busy": "2023-01-18T11:55:34.389436Z",
     "iopub.status.idle": "2023-01-18T12:13:34.149750Z",
     "shell.execute_reply": "2023-01-18T12:13:34.148406Z"
    },
    "papermill": {
     "duration": 1079.77762,
     "end_time": "2023-01-18T12:13:34.153103",
     "exception": false,
     "start_time": "2023-01-18T11:55:34.375483",
     "status": "completed"
    },
    "tags": []
   },
   "outputs": [
    {
     "name": "stdout",
     "output_type": "stream",
     "text": [
      "EASE_R_Recommender: URM Detected 3 ( 0.0%) users with no interactions.\n",
      "EASE_R_Recommender: Fitting model... \n"
     ]
    },
    {
     "name": "stdout",
     "output_type": "stream",
     "text": [
      "EASE_R_Recommender: Fitting model... done in 16.66 min\n"
     ]
    }
   ],
   "source": [
    "EASE_R = EASE_R_Recommender(URM_train_stacked)\n",
    "#%%\n",
    "EASE_R.fit(topK = 329, l2_norm = 143.45076856759013, normalize_matrix = False)"
   ]
  },
  {
   "cell_type": "code",
   "execution_count": 17,
   "id": "6bdfe0ff",
   "metadata": {
    "execution": {
     "iopub.execute_input": "2023-01-18T12:13:34.181486Z",
     "iopub.status.busy": "2023-01-18T12:13:34.180171Z",
     "iopub.status.idle": "2023-01-18T12:18:21.442246Z",
     "shell.execute_reply": "2023-01-18T12:18:21.440771Z"
    },
    "papermill": {
     "duration": 287.365599,
     "end_time": "2023-01-18T12:18:21.531278",
     "exception": false,
     "start_time": "2023-01-18T12:13:34.165679",
     "status": "completed"
    },
    "tags": []
   },
   "outputs": [
    {
     "name": "stdout",
     "output_type": "stream",
     "text": [
      "SLIM_BPR_Recommender: URM Detected 3 ( 0.0%) users with no interactions.\n",
      "SLIM_BPR_Recommender: Automatic selection of fastest train mode. Available RAM is 27771.00 MB (86.49%) of 32110.00 MB, required is 3128.84 MB. Using dense matrix.\n"
     ]
    },
    {
     "name": "stdout",
     "output_type": "stream",
     "text": [
      "Processed 41637 (100.0%) in 0.37 sec. BPR loss is 2.75E-03. Sample per second: 113916\n"
     ]
    },
    {
     "name": "stdout",
     "output_type": "stream",
     "text": [
      "SLIM_BPR_Recommender: Epoch 1 of 650. Elapsed time 0.30 sec\n"
     ]
    },
    {
     "name": "stdout",
     "output_type": "stream",
     "text": [
      "Processed 41637 (100.0%) in 0.64 sec. BPR loss is 1.59E-02. Sample per second: 65118"
     ]
    },
    {
     "name": "stdout",
     "output_type": "stream",
     "text": [
      "\n"
     ]
    },
    {
     "name": "stdout",
     "output_type": "stream",
     "text": [
      "SLIM_BPR_Recommender: Epoch 2 of 650. Elapsed time 0.57 sec\n"
     ]
    },
    {
     "name": "stdout",
     "output_type": "stream",
     "text": [
      "Processed 41637 (100.0%) in 0.91 sec. BPR loss is 3.89E-02. Sample per second: 45678\n"
     ]
    },
    {
     "name": "stdout",
     "output_type": "stream",
     "text": [
      "SLIM_BPR_Recommender: Epoch 3 of 650. Elapsed time 0.84 sec\n"
     ]
    },
    {
     "name": "stdout",
     "output_type": "stream",
     "text": [
      "Processed 41637 (100.0%) in 1.18 sec. BPR loss is 6.62E-02. Sample per second: 35395\n"
     ]
    },
    {
     "name": "stdout",
     "output_type": "stream",
     "text": [
      "SLIM_BPR_Recommender: Epoch 4 of 650. Elapsed time 1.11 sec\n"
     ]
    },
    {
     "name": "stdout",
     "output_type": "stream",
     "text": [
      "Processed 41637 (100.0%) in 0.44 sec. BPR loss is 9.45E-02. Sample per second: 93891\n"
     ]
    },
    {
     "name": "stdout",
     "output_type": "stream",
     "text": [
      "SLIM_BPR_Recommender: Epoch 5 of 650. Elapsed time 1.37 sec\n"
     ]
    },
    {
     "name": "stdout",
     "output_type": "stream",
     "text": [
      "Processed 41637 (100.0%) in 0.72 sec. BPR loss is 1.16E-01. Sample per second: 57836"
     ]
    },
    {
     "name": "stdout",
     "output_type": "stream",
     "text": [
      "\n"
     ]
    },
    {
     "name": "stdout",
     "output_type": "stream",
     "text": [
      "SLIM_BPR_Recommender: Epoch 6 of 650. Elapsed time 1.65 sec\n"
     ]
    },
    {
     "name": "stdout",
     "output_type": "stream",
     "text": [
      "Processed 41637 (100.0%) in 1.03 sec. BPR loss is 1.59E-01. Sample per second: 40572\n"
     ]
    },
    {
     "name": "stdout",
     "output_type": "stream",
     "text": [
      "SLIM_BPR_Recommender: Epoch 7 of 650. Elapsed time 1.96 sec\n"
     ]
    },
    {
     "name": "stdout",
     "output_type": "stream",
     "text": [
      "Processed 41637 (100.0%) in 0.31 sec. BPR loss is 1.86E-01. Sample per second: 135086\n"
     ]
    },
    {
     "name": "stdout",
     "output_type": "stream",
     "text": [
      "SLIM_BPR_Recommender: Epoch 8 of 650. Elapsed time 2.24 sec\n"
     ]
    },
    {
     "name": "stdout",
     "output_type": "stream",
     "text": [
      "Processed 41637 (100.0%) in 0.59 sec. BPR loss is 2.24E-01. Sample per second: 70746\n"
     ]
    },
    {
     "name": "stdout",
     "output_type": "stream",
     "text": [
      "SLIM_BPR_Recommender: Epoch 9 of 650. Elapsed time 2.52 sec\n"
     ]
    },
    {
     "name": "stdout",
     "output_type": "stream",
     "text": [
      "Processed 41637 (100.0%) in 0.86 sec. BPR loss is 2.84E-01. Sample per second: 48240\n"
     ]
    },
    {
     "name": "stdout",
     "output_type": "stream",
     "text": [
      "SLIM_BPR_Recommender: Epoch 10 of 650. Elapsed time 2.79 sec\n"
     ]
    },
    {
     "name": "stdout",
     "output_type": "stream",
     "text": [
      "Processed 41637 (100.0%) in 1.13 sec. BPR loss is 2.91E-01. Sample per second: 36783\n"
     ]
    },
    {
     "name": "stdout",
     "output_type": "stream",
     "text": [
      "SLIM_BPR_Recommender: Epoch 11 of 650. Elapsed time 3.06 sec\n"
     ]
    },
    {
     "name": "stdout",
     "output_type": "stream",
     "text": [
      "Processed 41637 (100.0%) in 0.40 sec. BPR loss is 3.45E-01. Sample per second: 103805\n"
     ]
    },
    {
     "name": "stdout",
     "output_type": "stream",
     "text": [
      "SLIM_BPR_Recommender: Epoch 12 of 650. Elapsed time 3.33 sec\n"
     ]
    },
    {
     "name": "stdout",
     "output_type": "stream",
     "text": [
      "Processed 41637 (100.0%) in 0.68 sec. BPR loss is 3.71E-01. Sample per second: 61465\n"
     ]
    },
    {
     "name": "stdout",
     "output_type": "stream",
     "text": [
      "SLIM_BPR_Recommender: Epoch 13 of 650. Elapsed time 3.61 sec\n"
     ]
    },
    {
     "name": "stdout",
     "output_type": "stream",
     "text": [
      "Processed 41637 (100.0%) in 0.95 sec. BPR loss is 4.19E-01. Sample per second: 44006"
     ]
    },
    {
     "name": "stdout",
     "output_type": "stream",
     "text": [
      "\n"
     ]
    },
    {
     "name": "stdout",
     "output_type": "stream",
     "text": [
      "SLIM_BPR_Recommender: Epoch 14 of 650. Elapsed time 3.88 sec\n"
     ]
    },
    {
     "name": "stdout",
     "output_type": "stream",
     "text": [
      "Processed 41637 (100.0%) in 1.21 sec. BPR loss is 4.31E-01. Sample per second: 34269\n"
     ]
    },
    {
     "name": "stdout",
     "output_type": "stream",
     "text": [
      "SLIM_BPR_Recommender: Epoch 15 of 650. Elapsed time 4.14 sec\n"
     ]
    },
    {
     "name": "stdout",
     "output_type": "stream",
     "text": [
      "Processed 41637 (100.0%) in 0.49 sec. BPR loss is 4.79E-01. Sample per second: 85311\n"
     ]
    },
    {
     "name": "stdout",
     "output_type": "stream",
     "text": [
      "SLIM_BPR_Recommender: Epoch 16 of 650. Elapsed time 4.42 sec\n"
     ]
    },
    {
     "name": "stdout",
     "output_type": "stream",
     "text": [
      "Processed 41637 (100.0%) in 0.76 sec. BPR loss is 5.18E-01. Sample per second: 54712\n"
     ]
    },
    {
     "name": "stdout",
     "output_type": "stream",
     "text": [
      "SLIM_BPR_Recommender: Epoch 17 of 650. Elapsed time 4.69 sec\n"
     ]
    },
    {
     "name": "stdout",
     "output_type": "stream",
     "text": [
      "Processed 41637 (100.0%) in 1.03 sec. BPR loss is 5.45E-01. Sample per second: 40532"
     ]
    },
    {
     "name": "stdout",
     "output_type": "stream",
     "text": [
      "\n"
     ]
    },
    {
     "name": "stdout",
     "output_type": "stream",
     "text": [
      "SLIM_BPR_Recommender: Epoch 18 of 650. Elapsed time 4.96 sec\n"
     ]
    },
    {
     "name": "stdout",
     "output_type": "stream",
     "text": [
      "Processed 41637 (100.0%) in 0.31 sec. BPR loss is 6.12E-01. Sample per second: 133270\n"
     ]
    },
    {
     "name": "stdout",
     "output_type": "stream",
     "text": [
      "SLIM_BPR_Recommender: Epoch 19 of 650. Elapsed time 5.24 sec\n"
     ]
    },
    {
     "name": "stdout",
     "output_type": "stream",
     "text": [
      "Processed 41637 (100.0%) in 0.59 sec. BPR loss is 5.88E-01. Sample per second: 70826\n"
     ]
    },
    {
     "name": "stdout",
     "output_type": "stream",
     "text": [
      "SLIM_BPR_Recommender: Epoch 20 of 650. Elapsed time 5.52 sec\n"
     ]
    },
    {
     "name": "stdout",
     "output_type": "stream",
     "text": [
      "Processed 41637 (100.0%) in 0.88 sec. BPR loss is 6.70E-01. Sample per second: 47204\n"
     ]
    },
    {
     "name": "stdout",
     "output_type": "stream",
     "text": [
      "SLIM_BPR_Recommender: Epoch 21 of 650. Elapsed time 5.81 sec\n"
     ]
    },
    {
     "name": "stdout",
     "output_type": "stream",
     "text": [
      "Processed 41637 (100.0%) in 1.15 sec. BPR loss is 6.91E-01. Sample per second: 36085\n"
     ]
    },
    {
     "name": "stdout",
     "output_type": "stream",
     "text": [
      "SLIM_BPR_Recommender: Epoch 22 of 650. Elapsed time 6.08 sec\n"
     ]
    },
    {
     "name": "stdout",
     "output_type": "stream",
     "text": [
      "Processed 41637 (100.0%) in 0.43 sec. BPR loss is 7.63E-01. Sample per second: 96645\n"
     ]
    },
    {
     "name": "stdout",
     "output_type": "stream",
     "text": [
      "SLIM_BPR_Recommender: Epoch 23 of 650. Elapsed time 6.36 sec\n"
     ]
    },
    {
     "name": "stdout",
     "output_type": "stream",
     "text": [
      "Processed 41637 (100.0%) in 0.70 sec. BPR loss is 7.59E-01. Sample per second: 59627\n"
     ]
    },
    {
     "name": "stdout",
     "output_type": "stream",
     "text": [
      "SLIM_BPR_Recommender: Epoch 24 of 650. Elapsed time 6.63 sec\n"
     ]
    },
    {
     "name": "stdout",
     "output_type": "stream",
     "text": [
      "Processed 41637 (100.0%) in 0.97 sec. BPR loss is 7.69E-01. Sample per second: 42987\n"
     ]
    },
    {
     "name": "stdout",
     "output_type": "stream",
     "text": [
      "SLIM_BPR_Recommender: Epoch 25 of 650. Elapsed time 6.90 sec\n"
     ]
    },
    {
     "name": "stdout",
     "output_type": "stream",
     "text": [
      "Processed 41637 (100.0%) in 1.23 sec. BPR loss is 8.65E-01. Sample per second: 33887\n"
     ]
    },
    {
     "name": "stdout",
     "output_type": "stream",
     "text": [
      "SLIM_BPR_Recommender: Epoch 26 of 650. Elapsed time 7.16 sec\n"
     ]
    },
    {
     "name": "stdout",
     "output_type": "stream",
     "text": [
      "Processed 41637 (100.0%) in 0.52 sec. BPR loss is 9.13E-01. Sample per second: 80671\n"
     ]
    },
    {
     "name": "stdout",
     "output_type": "stream",
     "text": [
      "SLIM_BPR_Recommender: Epoch 27 of 650. Elapsed time 7.45 sec\n"
     ]
    },
    {
     "name": "stdout",
     "output_type": "stream",
     "text": [
      "Processed 41637 (100.0%) in 0.80 sec. BPR loss is 8.87E-01. Sample per second: 52174\n"
     ]
    },
    {
     "name": "stdout",
     "output_type": "stream",
     "text": [
      "SLIM_BPR_Recommender: Epoch 28 of 650. Elapsed time 7.73 sec\n"
     ]
    },
    {
     "name": "stdout",
     "output_type": "stream",
     "text": [
      "Processed 41637 (100.0%) in 1.07 sec. BPR loss is 9.46E-01. Sample per second: 39043\n"
     ]
    },
    {
     "name": "stdout",
     "output_type": "stream",
     "text": [
      "SLIM_BPR_Recommender: Epoch 29 of 650. Elapsed time 8.00 sec\n"
     ]
    },
    {
     "name": "stdout",
     "output_type": "stream",
     "text": [
      "Processed 41637 (100.0%) in 0.34 sec. BPR loss is 9.87E-01. Sample per second: 121211\n"
     ]
    },
    {
     "name": "stdout",
     "output_type": "stream",
     "text": [
      "SLIM_BPR_Recommender: Epoch 30 of 650. Elapsed time 8.27 sec\n"
     ]
    },
    {
     "name": "stdout",
     "output_type": "stream",
     "text": [
      "Processed 41637 (100.0%) in 0.60 sec. BPR loss is 1.03E+00. Sample per second: 68963\n"
     ]
    },
    {
     "name": "stdout",
     "output_type": "stream",
     "text": [
      "SLIM_BPR_Recommender: Epoch 31 of 650. Elapsed time 8.53 sec\n"
     ]
    },
    {
     "name": "stdout",
     "output_type": "stream",
     "text": [
      "Processed 41637 (100.0%) in 0.87 sec. BPR loss is 1.11E+00. Sample per second: 47574\n"
     ]
    },
    {
     "name": "stdout",
     "output_type": "stream",
     "text": [
      "SLIM_BPR_Recommender: Epoch 32 of 650. Elapsed time 8.80 sec\n"
     ]
    },
    {
     "name": "stdout",
     "output_type": "stream",
     "text": [
      "Processed 41637 (100.0%) in 1.15 sec. BPR loss is 1.07E+00. Sample per second: 36343\n"
     ]
    },
    {
     "name": "stdout",
     "output_type": "stream",
     "text": [
      "SLIM_BPR_Recommender: Epoch 33 of 650. Elapsed time 9.08 sec\n"
     ]
    },
    {
     "name": "stdout",
     "output_type": "stream",
     "text": [
      "Processed 41637 (100.0%) in 0.41 sec. BPR loss is 1.11E+00. Sample per second: 102508\n"
     ]
    },
    {
     "name": "stdout",
     "output_type": "stream",
     "text": [
      "SLIM_BPR_Recommender: Epoch 34 of 650. Elapsed time 9.34 sec\n"
     ]
    },
    {
     "name": "stdout",
     "output_type": "stream",
     "text": [
      "Processed 41637 (100.0%) in 0.68 sec. BPR loss is 1.13E+00. Sample per second: 60812\n"
     ]
    },
    {
     "name": "stdout",
     "output_type": "stream",
     "text": [
      "SLIM_BPR_Recommender: Epoch 35 of 650. Elapsed time 9.61 sec\n"
     ]
    },
    {
     "name": "stdout",
     "output_type": "stream",
     "text": [
      "Processed 41637 (100.0%) in 0.96 sec. BPR loss is 1.23E+00. Sample per second: 43175\n"
     ]
    },
    {
     "name": "stdout",
     "output_type": "stream",
     "text": [
      "SLIM_BPR_Recommender: Epoch 36 of 650. Elapsed time 9.89 sec\n"
     ]
    },
    {
     "name": "stdout",
     "output_type": "stream",
     "text": [
      "Processed 41637 (100.0%) in 1.23 sec. BPR loss is 1.26E+00. Sample per second: 33834\n"
     ]
    },
    {
     "name": "stdout",
     "output_type": "stream",
     "text": [
      "SLIM_BPR_Recommender: Epoch 37 of 650. Elapsed time 10.16 sec\n"
     ]
    },
    {
     "name": "stdout",
     "output_type": "stream",
     "text": [
      "Processed 41637 (100.0%) in 0.78 sec. BPR loss is 1.20E+00. Sample per second: 53213"
     ]
    },
    {
     "name": "stdout",
     "output_type": "stream",
     "text": [
      "\n"
     ]
    },
    {
     "name": "stdout",
     "output_type": "stream",
     "text": [
      "SLIM_BPR_Recommender: Epoch 38 of 650. Elapsed time 10.71 sec\n"
     ]
    },
    {
     "name": "stdout",
     "output_type": "stream",
     "text": [
      "Processed 41637 (100.0%) in 1.51 sec. BPR loss is 1.30E+00. Sample per second: 27485\n"
     ]
    },
    {
     "name": "stdout",
     "output_type": "stream",
     "text": [
      "SLIM_BPR_Recommender: Epoch 39 of 650. Elapsed time 11.45 sec\n"
     ]
    },
    {
     "name": "stdout",
     "output_type": "stream",
     "text": [
      "Processed 41637 (100.0%) in 1.36 sec. BPR loss is 1.32E+00. Sample per second: 30667\n"
     ]
    },
    {
     "name": "stdout",
     "output_type": "stream",
     "text": [
      "SLIM_BPR_Recommender: Epoch 40 of 650. Elapsed time 12.29 sec\n"
     ]
    },
    {
     "name": "stdout",
     "output_type": "stream",
     "text": [
      "Processed 41637 (100.0%) in 1.28 sec. BPR loss is 1.38E+00. Sample per second: 32398\n"
     ]
    },
    {
     "name": "stdout",
     "output_type": "stream",
     "text": [
      "SLIM_BPR_Recommender: Epoch 41 of 650. Elapsed time 13.22 sec\n"
     ]
    },
    {
     "name": "stdout",
     "output_type": "stream",
     "text": [
      "Processed 41637 (100.0%) in 1.11 sec. BPR loss is 1.34E+00. Sample per second: 37563"
     ]
    },
    {
     "name": "stdout",
     "output_type": "stream",
     "text": [
      "\n"
     ]
    },
    {
     "name": "stdout",
     "output_type": "stream",
     "text": [
      "SLIM_BPR_Recommender: Epoch 42 of 650. Elapsed time 14.05 sec\n"
     ]
    },
    {
     "name": "stdout",
     "output_type": "stream",
     "text": [
      "Processed 41637 (100.0%) in 0.94 sec. BPR loss is 1.52E+00. Sample per second: 44222\n"
     ]
    },
    {
     "name": "stdout",
     "output_type": "stream",
     "text": [
      "SLIM_BPR_Recommender: Epoch 43 of 650. Elapsed time 14.87 sec\n"
     ]
    },
    {
     "name": "stdout",
     "output_type": "stream",
     "text": [
      "Processed 41637 (100.0%) in 1.77 sec. BPR loss is 1.47E+00. Sample per second: 23485\n"
     ]
    },
    {
     "name": "stdout",
     "output_type": "stream",
     "text": [
      "SLIM_BPR_Recommender: Epoch 44 of 650. Elapsed time 15.71 sec\n"
     ]
    },
    {
     "name": "stdout",
     "output_type": "stream",
     "text": [
      "Processed 41637 (100.0%) in 1.09 sec. BPR loss is 1.48E+00. Sample per second: 38353\n"
     ]
    },
    {
     "name": "stdout",
     "output_type": "stream",
     "text": [
      "SLIM_BPR_Recommender: Epoch 45 of 650. Elapsed time 16.02 sec\n"
     ]
    },
    {
     "name": "stdout",
     "output_type": "stream",
     "text": [
      "Processed 41637 (100.0%) in 0.35 sec. BPR loss is 1.55E+00. Sample per second: 119091\n"
     ]
    },
    {
     "name": "stdout",
     "output_type": "stream",
     "text": [
      "SLIM_BPR_Recommender: Epoch 46 of 650. Elapsed time 16.28 sec\n"
     ]
    },
    {
     "name": "stdout",
     "output_type": "stream",
     "text": [
      "Processed 41637 (100.0%) in 0.62 sec. BPR loss is 1.58E+00. Sample per second: 67359\n"
     ]
    },
    {
     "name": "stdout",
     "output_type": "stream",
     "text": [
      "SLIM_BPR_Recommender: Epoch 47 of 650. Elapsed time 16.55 sec\n"
     ]
    },
    {
     "name": "stdout",
     "output_type": "stream",
     "text": [
      "Processed 41637 (100.0%) in 0.89 sec. BPR loss is 1.52E+00. Sample per second: 47013\n"
     ]
    },
    {
     "name": "stdout",
     "output_type": "stream",
     "text": [
      "SLIM_BPR_Recommender: Epoch 48 of 650. Elapsed time 16.82 sec\n"
     ]
    },
    {
     "name": "stdout",
     "output_type": "stream",
     "text": [
      "Processed 41637 (100.0%) in 1.16 sec. BPR loss is 1.67E+00. Sample per second: 35947\n"
     ]
    },
    {
     "name": "stdout",
     "output_type": "stream",
     "text": [
      "SLIM_BPR_Recommender: Epoch 49 of 650. Elapsed time 17.09 sec\n"
     ]
    },
    {
     "name": "stdout",
     "output_type": "stream",
     "text": [
      "Processed 41637 (100.0%) in 0.43 sec. BPR loss is 1.74E+00. Sample per second: 95834\n"
     ]
    },
    {
     "name": "stdout",
     "output_type": "stream",
     "text": [
      "SLIM_BPR_Recommender: Epoch 50 of 650. Elapsed time 17.37 sec\n"
     ]
    },
    {
     "name": "stdout",
     "output_type": "stream",
     "text": [
      "Processed 41637 (100.0%) in 0.71 sec. BPR loss is 1.57E+00. Sample per second: 58794\n"
     ]
    },
    {
     "name": "stdout",
     "output_type": "stream",
     "text": [
      "SLIM_BPR_Recommender: Epoch 51 of 650. Elapsed time 17.64 sec\n"
     ]
    },
    {
     "name": "stdout",
     "output_type": "stream",
     "text": [
      "Processed 41637 (100.0%) in 0.98 sec. BPR loss is 1.70E+00. Sample per second: 42451\n"
     ]
    },
    {
     "name": "stdout",
     "output_type": "stream",
     "text": [
      "SLIM_BPR_Recommender: Epoch 52 of 650. Elapsed time 17.91 sec\n"
     ]
    },
    {
     "name": "stdout",
     "output_type": "stream",
     "text": [
      "Processed 41637 (100.0%) in 1.25 sec. BPR loss is 1.67E+00. Sample per second: 33273\n"
     ]
    },
    {
     "name": "stdout",
     "output_type": "stream",
     "text": [
      "SLIM_BPR_Recommender: Epoch 53 of 650. Elapsed time 18.18 sec\n"
     ]
    },
    {
     "name": "stdout",
     "output_type": "stream",
     "text": [
      "Processed 41637 (100.0%) in 0.51 sec. BPR loss is 1.85E+00. Sample per second: 80923\n"
     ]
    },
    {
     "name": "stdout",
     "output_type": "stream",
     "text": [
      "SLIM_BPR_Recommender: Epoch 54 of 650. Elapsed time 18.44 sec\n"
     ]
    },
    {
     "name": "stdout",
     "output_type": "stream",
     "text": [
      "Processed 41637 (100.0%) in 0.78 sec. BPR loss is 1.90E+00. Sample per second: 53081\n"
     ]
    },
    {
     "name": "stdout",
     "output_type": "stream",
     "text": [
      "SLIM_BPR_Recommender: Epoch 55 of 650. Elapsed time 18.71 sec\n"
     ]
    },
    {
     "name": "stdout",
     "output_type": "stream",
     "text": [
      "Processed 41637 (100.0%) in 1.05 sec. BPR loss is 1.86E+00. Sample per second: 39560\n"
     ]
    },
    {
     "name": "stdout",
     "output_type": "stream",
     "text": [
      "SLIM_BPR_Recommender: Epoch 56 of 650. Elapsed time 18.98 sec\n"
     ]
    },
    {
     "name": "stdout",
     "output_type": "stream",
     "text": [
      "Processed 41637 (100.0%) in 0.32 sec. BPR loss is 1.85E+00. Sample per second: 129488\n"
     ]
    },
    {
     "name": "stdout",
     "output_type": "stream",
     "text": [
      "SLIM_BPR_Recommender: Epoch 57 of 650. Elapsed time 19.25 sec\n"
     ]
    },
    {
     "name": "stdout",
     "output_type": "stream",
     "text": [
      "Processed 41637 (100.0%) in 0.60 sec. BPR loss is 1.96E+00. Sample per second: 69925\n"
     ]
    },
    {
     "name": "stdout",
     "output_type": "stream",
     "text": [
      "SLIM_BPR_Recommender: Epoch 58 of 650. Elapsed time 19.53 sec\n"
     ]
    },
    {
     "name": "stdout",
     "output_type": "stream",
     "text": [
      "Processed 41637 (100.0%) in 0.86 sec. BPR loss is 1.95E+00. Sample per second: 48259\n"
     ]
    },
    {
     "name": "stdout",
     "output_type": "stream",
     "text": [
      "SLIM_BPR_Recommender: Epoch 59 of 650. Elapsed time 19.79 sec\n"
     ]
    },
    {
     "name": "stdout",
     "output_type": "stream",
     "text": [
      "Processed 41637 (100.0%) in 1.13 sec. BPR loss is 1.85E+00. Sample per second: 36847\n"
     ]
    },
    {
     "name": "stdout",
     "output_type": "stream",
     "text": [
      "SLIM_BPR_Recommender: Epoch 60 of 650. Elapsed time 20.06 sec\n"
     ]
    },
    {
     "name": "stdout",
     "output_type": "stream",
     "text": [
      "Processed 41637 (100.0%) in 0.41 sec. BPR loss is 1.94E+00. Sample per second: 102313\n"
     ]
    },
    {
     "name": "stdout",
     "output_type": "stream",
     "text": [
      "SLIM_BPR_Recommender: Epoch 61 of 650. Elapsed time 20.34 sec\n"
     ]
    },
    {
     "name": "stdout",
     "output_type": "stream",
     "text": [
      "Processed 41637 (100.0%) in 0.68 sec. BPR loss is 1.89E+00. Sample per second: 60883\n"
     ]
    },
    {
     "name": "stdout",
     "output_type": "stream",
     "text": [
      "SLIM_BPR_Recommender: Epoch 62 of 650. Elapsed time 20.61 sec\n"
     ]
    },
    {
     "name": "stdout",
     "output_type": "stream",
     "text": [
      "Processed 41637 (100.0%) in 0.95 sec. BPR loss is 2.09E+00. Sample per second: 43754\n"
     ]
    },
    {
     "name": "stdout",
     "output_type": "stream",
     "text": [
      "SLIM_BPR_Recommender: Epoch 63 of 650. Elapsed time 20.88 sec\n"
     ]
    },
    {
     "name": "stdout",
     "output_type": "stream",
     "text": [
      "Processed 41637 (100.0%) in 1.23 sec. BPR loss is 2.08E+00. Sample per second: 33980\n"
     ]
    },
    {
     "name": "stdout",
     "output_type": "stream",
     "text": [
      "SLIM_BPR_Recommender: Epoch 64 of 650. Elapsed time 21.15 sec\n"
     ]
    },
    {
     "name": "stdout",
     "output_type": "stream",
     "text": [
      "Processed 41637 (100.0%) in 0.50 sec. BPR loss is 2.22E+00. Sample per second: 83669\n"
     ]
    },
    {
     "name": "stdout",
     "output_type": "stream",
     "text": [
      "SLIM_BPR_Recommender: Epoch 65 of 650. Elapsed time 21.43 sec\n"
     ]
    },
    {
     "name": "stdout",
     "output_type": "stream",
     "text": [
      "Processed 41637 (100.0%) in 0.77 sec. BPR loss is 2.09E+00. Sample per second: 54118\n"
     ]
    },
    {
     "name": "stdout",
     "output_type": "stream",
     "text": [
      "SLIM_BPR_Recommender: Epoch 66 of 650. Elapsed time 21.70 sec\n"
     ]
    },
    {
     "name": "stdout",
     "output_type": "stream",
     "text": [
      "Processed 41637 (100.0%) in 1.04 sec. BPR loss is 2.17E+00. Sample per second: 40106\n"
     ]
    },
    {
     "name": "stdout",
     "output_type": "stream",
     "text": [
      "SLIM_BPR_Recommender: Epoch 67 of 650. Elapsed time 21.97 sec\n"
     ]
    },
    {
     "name": "stdout",
     "output_type": "stream",
     "text": [
      "Processed 41637 (100.0%) in 0.31 sec. BPR loss is 2.19E+00. Sample per second: 134994\n"
     ]
    },
    {
     "name": "stdout",
     "output_type": "stream",
     "text": [
      "SLIM_BPR_Recommender: Epoch 68 of 650. Elapsed time 22.24 sec\n"
     ]
    },
    {
     "name": "stdout",
     "output_type": "stream",
     "text": [
      "Processed 41637 (100.0%) in 0.57 sec. BPR loss is 2.19E+00. Sample per second: 72478\n"
     ]
    },
    {
     "name": "stdout",
     "output_type": "stream",
     "text": [
      "SLIM_BPR_Recommender: Epoch 69 of 650. Elapsed time 22.50 sec\n"
     ]
    },
    {
     "name": "stdout",
     "output_type": "stream",
     "text": [
      "Processed 41637 (100.0%) in 0.83 sec. BPR loss is 2.32E+00. Sample per second: 49854\n"
     ]
    },
    {
     "name": "stdout",
     "output_type": "stream",
     "text": [
      "SLIM_BPR_Recommender: Epoch 70 of 650. Elapsed time 22.76 sec\n"
     ]
    },
    {
     "name": "stdout",
     "output_type": "stream",
     "text": [
      "Processed 41637 (100.0%) in 1.13 sec. BPR loss is 2.30E+00. Sample per second: 36763\n"
     ]
    },
    {
     "name": "stdout",
     "output_type": "stream",
     "text": [
      "SLIM_BPR_Recommender: Epoch 71 of 650. Elapsed time 23.06 sec\n"
     ]
    },
    {
     "name": "stdout",
     "output_type": "stream",
     "text": [
      "Processed 41637 (100.0%) in 0.43 sec. BPR loss is 2.38E+00. Sample per second: 95914\n"
     ]
    },
    {
     "name": "stdout",
     "output_type": "stream",
     "text": [
      "SLIM_BPR_Recommender: Epoch 72 of 650. Elapsed time 23.36 sec\n"
     ]
    },
    {
     "name": "stdout",
     "output_type": "stream",
     "text": [
      "Processed 41637 (100.0%) in 0.70 sec. BPR loss is 2.36E+00. Sample per second: 59522\n"
     ]
    },
    {
     "name": "stdout",
     "output_type": "stream",
     "text": [
      "SLIM_BPR_Recommender: Epoch 73 of 650. Elapsed time 23.63 sec\n"
     ]
    },
    {
     "name": "stdout",
     "output_type": "stream",
     "text": [
      "Processed 41637 (100.0%) in 1.02 sec. BPR loss is 2.46E+00. Sample per second: 40976\n"
     ]
    },
    {
     "name": "stdout",
     "output_type": "stream",
     "text": [
      "SLIM_BPR_Recommender: Epoch 74 of 650. Elapsed time 23.95 sec\n"
     ]
    },
    {
     "name": "stdout",
     "output_type": "stream",
     "text": [
      "Processed 41637 (100.0%) in 0.30 sec. BPR loss is 2.35E+00. Sample per second: 140231\n"
     ]
    },
    {
     "name": "stdout",
     "output_type": "stream",
     "text": [
      "SLIM_BPR_Recommender: Epoch 75 of 650. Elapsed time 24.23 sec\n"
     ]
    },
    {
     "name": "stdout",
     "output_type": "stream",
     "text": [
      "Processed 41637 (100.0%) in 0.57 sec. BPR loss is 2.46E+00. Sample per second: 73605\n"
     ]
    },
    {
     "name": "stdout",
     "output_type": "stream",
     "text": [
      "SLIM_BPR_Recommender: Epoch 76 of 650. Elapsed time 24.50 sec\n"
     ]
    },
    {
     "name": "stdout",
     "output_type": "stream",
     "text": [
      "Processed 41637 (100.0%) in 0.83 sec. BPR loss is 2.53E+00. Sample per second: 50138\n"
     ]
    },
    {
     "name": "stdout",
     "output_type": "stream",
     "text": [
      "SLIM_BPR_Recommender: Epoch 77 of 650. Elapsed time 24.76 sec\n"
     ]
    },
    {
     "name": "stdout",
     "output_type": "stream",
     "text": [
      "Processed 41637 (100.0%) in 1.09 sec. BPR loss is 2.47E+00. Sample per second: 38143\n"
     ]
    },
    {
     "name": "stdout",
     "output_type": "stream",
     "text": [
      "SLIM_BPR_Recommender: Epoch 78 of 650. Elapsed time 25.02 sec\n"
     ]
    },
    {
     "name": "stdout",
     "output_type": "stream",
     "text": [
      "Processed 41637 (100.0%) in 0.36 sec. BPR loss is 2.50E+00. Sample per second: 114792\n"
     ]
    },
    {
     "name": "stdout",
     "output_type": "stream",
     "text": [
      "SLIM_BPR_Recommender: Epoch 79 of 650. Elapsed time 25.29 sec\n"
     ]
    },
    {
     "name": "stdout",
     "output_type": "stream",
     "text": [
      "Processed 41637 (100.0%) in 0.64 sec. BPR loss is 2.68E+00. Sample per second: 65210\n"
     ]
    },
    {
     "name": "stdout",
     "output_type": "stream",
     "text": [
      "SLIM_BPR_Recommender: Epoch 80 of 650. Elapsed time 25.57 sec\n"
     ]
    },
    {
     "name": "stdout",
     "output_type": "stream",
     "text": [
      "Processed 41637 (100.0%) in 0.91 sec. BPR loss is 2.68E+00. Sample per second: 45677\n"
     ]
    },
    {
     "name": "stdout",
     "output_type": "stream",
     "text": [
      "SLIM_BPR_Recommender: Epoch 81 of 650. Elapsed time 25.84 sec\n"
     ]
    },
    {
     "name": "stdout",
     "output_type": "stream",
     "text": [
      "Processed 41637 (100.0%) in 1.18 sec. BPR loss is 2.59E+00. Sample per second: 35174\n"
     ]
    },
    {
     "name": "stdout",
     "output_type": "stream",
     "text": [
      "SLIM_BPR_Recommender: Epoch 82 of 650. Elapsed time 26.11 sec\n"
     ]
    },
    {
     "name": "stdout",
     "output_type": "stream",
     "text": [
      "Processed 41637 (100.0%) in 0.45 sec. BPR loss is 2.59E+00. Sample per second: 93128\n"
     ]
    },
    {
     "name": "stdout",
     "output_type": "stream",
     "text": [
      "SLIM_BPR_Recommender: Epoch 83 of 650. Elapsed time 26.38 sec\n"
     ]
    },
    {
     "name": "stdout",
     "output_type": "stream",
     "text": [
      "Processed 41637 (100.0%) in 0.72 sec. BPR loss is 2.65E+00. Sample per second: 57971\n"
     ]
    },
    {
     "name": "stdout",
     "output_type": "stream",
     "text": [
      "SLIM_BPR_Recommender: Epoch 84 of 650. Elapsed time 26.65 sec\n"
     ]
    },
    {
     "name": "stdout",
     "output_type": "stream",
     "text": [
      "Processed 41637 (100.0%) in 0.99 sec. BPR loss is 2.79E+00. Sample per second: 42143\n"
     ]
    },
    {
     "name": "stdout",
     "output_type": "stream",
     "text": [
      "SLIM_BPR_Recommender: Epoch 85 of 650. Elapsed time 26.92 sec\n"
     ]
    },
    {
     "name": "stdout",
     "output_type": "stream",
     "text": [
      "Processed 41637 (100.0%) in 1.25 sec. BPR loss is 2.77E+00. Sample per second: 33392\n"
     ]
    },
    {
     "name": "stdout",
     "output_type": "stream",
     "text": [
      "SLIM_BPR_Recommender: Epoch 86 of 650. Elapsed time 27.18 sec\n"
     ]
    },
    {
     "name": "stdout",
     "output_type": "stream",
     "text": [
      "Processed 41637 (100.0%) in 0.51 sec. BPR loss is 2.83E+00. Sample per second: 82053\n"
     ]
    },
    {
     "name": "stdout",
     "output_type": "stream",
     "text": [
      "SLIM_BPR_Recommender: Epoch 87 of 650. Elapsed time 27.44 sec\n"
     ]
    },
    {
     "name": "stdout",
     "output_type": "stream",
     "text": [
      "Processed 41637 (100.0%) in 0.77 sec. BPR loss is 2.81E+00. Sample per second: 53788\n"
     ]
    },
    {
     "name": "stdout",
     "output_type": "stream",
     "text": [
      "SLIM_BPR_Recommender: Epoch 88 of 650. Elapsed time 27.70 sec\n"
     ]
    },
    {
     "name": "stdout",
     "output_type": "stream",
     "text": [
      "Processed 41637 (100.0%) in 1.04 sec. BPR loss is 2.85E+00. Sample per second: 39906\n"
     ]
    },
    {
     "name": "stdout",
     "output_type": "stream",
     "text": [
      "SLIM_BPR_Recommender: Epoch 89 of 650. Elapsed time 27.97 sec\n"
     ]
    },
    {
     "name": "stdout",
     "output_type": "stream",
     "text": [
      "Processed 41637 (100.0%) in 0.32 sec. BPR loss is 2.92E+00. Sample per second: 131233\n"
     ]
    },
    {
     "name": "stdout",
     "output_type": "stream",
     "text": [
      "SLIM_BPR_Recommender: Epoch 90 of 650. Elapsed time 28.25 sec\n"
     ]
    },
    {
     "name": "stdout",
     "output_type": "stream",
     "text": [
      "Processed 41637 (100.0%) in 0.59 sec. BPR loss is 2.83E+00. Sample per second: 70392\n"
     ]
    },
    {
     "name": "stdout",
     "output_type": "stream",
     "text": [
      "SLIM_BPR_Recommender: Epoch 91 of 650. Elapsed time 28.52 sec\n"
     ]
    },
    {
     "name": "stdout",
     "output_type": "stream",
     "text": [
      "Processed 41637 (100.0%) in 0.87 sec. BPR loss is 3.01E+00. Sample per second: 47994\n"
     ]
    },
    {
     "name": "stdout",
     "output_type": "stream",
     "text": [
      "SLIM_BPR_Recommender: Epoch 92 of 650. Elapsed time 28.80 sec\n"
     ]
    },
    {
     "name": "stdout",
     "output_type": "stream",
     "text": [
      "Processed 41637 (100.0%) in 1.14 sec. BPR loss is 2.79E+00. Sample per second: 36611\n"
     ]
    },
    {
     "name": "stdout",
     "output_type": "stream",
     "text": [
      "SLIM_BPR_Recommender: Epoch 93 of 650. Elapsed time 29.07 sec\n"
     ]
    },
    {
     "name": "stdout",
     "output_type": "stream",
     "text": [
      "Processed 41637 (100.0%) in 0.40 sec. BPR loss is 2.92E+00. Sample per second: 104005\n"
     ]
    },
    {
     "name": "stdout",
     "output_type": "stream",
     "text": [
      "SLIM_BPR_Recommender: Epoch 94 of 650. Elapsed time 29.33 sec\n"
     ]
    },
    {
     "name": "stdout",
     "output_type": "stream",
     "text": [
      "Processed 41637 (100.0%) in 0.68 sec. BPR loss is 2.99E+00. Sample per second: 61545\n"
     ]
    },
    {
     "name": "stdout",
     "output_type": "stream",
     "text": [
      "SLIM_BPR_Recommender: Epoch 95 of 650. Elapsed time 29.61 sec\n"
     ]
    },
    {
     "name": "stdout",
     "output_type": "stream",
     "text": [
      "Processed 41637 (100.0%) in 0.94 sec. BPR loss is 2.96E+00. Sample per second: 44309\n"
     ]
    },
    {
     "name": "stdout",
     "output_type": "stream",
     "text": [
      "SLIM_BPR_Recommender: Epoch 96 of 650. Elapsed time 29.87 sec\n"
     ]
    },
    {
     "name": "stdout",
     "output_type": "stream",
     "text": [
      "Processed 41637 (100.0%) in 1.21 sec. BPR loss is 3.11E+00. Sample per second: 34494\n"
     ]
    },
    {
     "name": "stdout",
     "output_type": "stream",
     "text": [
      "SLIM_BPR_Recommender: Epoch 97 of 650. Elapsed time 30.14 sec\n"
     ]
    },
    {
     "name": "stdout",
     "output_type": "stream",
     "text": [
      "Processed 41637 (100.0%) in 0.48 sec. BPR loss is 3.12E+00. Sample per second: 87146\n"
     ]
    },
    {
     "name": "stdout",
     "output_type": "stream",
     "text": [
      "SLIM_BPR_Recommender: Epoch 98 of 650. Elapsed time 30.41 sec\n"
     ]
    },
    {
     "name": "stdout",
     "output_type": "stream",
     "text": [
      "Processed 41637 (100.0%) in 0.74 sec. BPR loss is 3.13E+00. Sample per second: 56327\n"
     ]
    },
    {
     "name": "stdout",
     "output_type": "stream",
     "text": [
      "SLIM_BPR_Recommender: Epoch 99 of 650. Elapsed time 30.67 sec\n"
     ]
    },
    {
     "name": "stdout",
     "output_type": "stream",
     "text": [
      "Processed 41637 (100.0%) in 1.00 sec. BPR loss is 3.19E+00. Sample per second: 41554\n"
     ]
    },
    {
     "name": "stdout",
     "output_type": "stream",
     "text": [
      "SLIM_BPR_Recommender: Epoch 100 of 650. Elapsed time 30.93 sec\n"
     ]
    },
    {
     "name": "stdout",
     "output_type": "stream",
     "text": [
      "Processed 41637 (100.0%) in 0.27 sec. BPR loss is 3.21E+00. Sample per second: 152054\n"
     ]
    },
    {
     "name": "stdout",
     "output_type": "stream",
     "text": [
      "SLIM_BPR_Recommender: Epoch 101 of 650. Elapsed time 31.20 sec\n"
     ]
    },
    {
     "name": "stdout",
     "output_type": "stream",
     "text": [
      "Processed 41637 (100.0%) in 0.55 sec. BPR loss is 3.19E+00. Sample per second: 75373\n"
     ]
    },
    {
     "name": "stdout",
     "output_type": "stream",
     "text": [
      "SLIM_BPR_Recommender: Epoch 102 of 650. Elapsed time 31.48 sec\n"
     ]
    },
    {
     "name": "stdout",
     "output_type": "stream",
     "text": [
      "Processed 41637 (100.0%) in 0.82 sec. BPR loss is 3.22E+00. Sample per second: 50884\n"
     ]
    },
    {
     "name": "stdout",
     "output_type": "stream",
     "text": [
      "SLIM_BPR_Recommender: Epoch 103 of 650. Elapsed time 31.75 sec\n"
     ]
    },
    {
     "name": "stdout",
     "output_type": "stream",
     "text": [
      "Processed 41637 (100.0%) in 1.09 sec. BPR loss is 3.22E+00. Sample per second: 38161\n"
     ]
    },
    {
     "name": "stdout",
     "output_type": "stream",
     "text": [
      "SLIM_BPR_Recommender: Epoch 104 of 650. Elapsed time 32.02 sec\n"
     ]
    },
    {
     "name": "stdout",
     "output_type": "stream",
     "text": [
      "Processed 41637 (100.0%) in 0.36 sec. BPR loss is 3.14E+00. Sample per second: 115301\n"
     ]
    },
    {
     "name": "stdout",
     "output_type": "stream",
     "text": [
      "SLIM_BPR_Recommender: Epoch 105 of 650. Elapsed time 32.29 sec\n"
     ]
    },
    {
     "name": "stdout",
     "output_type": "stream",
     "text": [
      "Processed 41637 (100.0%) in 0.64 sec. BPR loss is 3.36E+00. Sample per second: 65310\n"
     ]
    },
    {
     "name": "stdout",
     "output_type": "stream",
     "text": [
      "SLIM_BPR_Recommender: Epoch 106 of 650. Elapsed time 32.57 sec\n"
     ]
    },
    {
     "name": "stdout",
     "output_type": "stream",
     "text": [
      "Processed 41637 (100.0%) in 0.91 sec. BPR loss is 3.36E+00. Sample per second: 45848\n"
     ]
    },
    {
     "name": "stdout",
     "output_type": "stream",
     "text": [
      "SLIM_BPR_Recommender: Epoch 107 of 650. Elapsed time 32.84 sec\n"
     ]
    },
    {
     "name": "stdout",
     "output_type": "stream",
     "text": [
      "Processed 41637 (100.0%) in 1.18 sec. BPR loss is 3.43E+00. Sample per second: 35172\n"
     ]
    },
    {
     "name": "stdout",
     "output_type": "stream",
     "text": [
      "SLIM_BPR_Recommender: Epoch 108 of 650. Elapsed time 33.11 sec\n"
     ]
    },
    {
     "name": "stdout",
     "output_type": "stream",
     "text": [
      "Processed 41637 (100.0%) in 0.45 sec. BPR loss is 3.32E+00. Sample per second: 92050\n"
     ]
    },
    {
     "name": "stdout",
     "output_type": "stream",
     "text": [
      "SLIM_BPR_Recommender: Epoch 109 of 650. Elapsed time 33.38 sec\n"
     ]
    },
    {
     "name": "stdout",
     "output_type": "stream",
     "text": [
      "Processed 41637 (100.0%) in 0.71 sec. BPR loss is 3.29E+00. Sample per second: 58225\n"
     ]
    },
    {
     "name": "stdout",
     "output_type": "stream",
     "text": [
      "SLIM_BPR_Recommender: Epoch 110 of 650. Elapsed time 33.64 sec\n"
     ]
    },
    {
     "name": "stdout",
     "output_type": "stream",
     "text": [
      "Processed 41637 (100.0%) in 0.98 sec. BPR loss is 3.26E+00. Sample per second: 42456\n"
     ]
    },
    {
     "name": "stdout",
     "output_type": "stream",
     "text": [
      "SLIM_BPR_Recommender: Epoch 111 of 650. Elapsed time 33.91 sec\n"
     ]
    },
    {
     "name": "stdout",
     "output_type": "stream",
     "text": [
      "Processed 41637 (100.0%) in 1.25 sec. BPR loss is 3.31E+00. Sample per second: 33227\n"
     ]
    },
    {
     "name": "stdout",
     "output_type": "stream",
     "text": [
      "SLIM_BPR_Recommender: Epoch 112 of 650. Elapsed time 34.18 sec\n"
     ]
    },
    {
     "name": "stdout",
     "output_type": "stream",
     "text": [
      "Processed 41637 (100.0%) in 0.54 sec. BPR loss is 3.31E+00. Sample per second: 77798\n"
     ]
    },
    {
     "name": "stdout",
     "output_type": "stream",
     "text": [
      "SLIM_BPR_Recommender: Epoch 113 of 650. Elapsed time 34.46 sec\n"
     ]
    },
    {
     "name": "stdout",
     "output_type": "stream",
     "text": [
      "Processed 41637 (100.0%) in 0.83 sec. BPR loss is 3.46E+00. Sample per second: 50425\n"
     ]
    },
    {
     "name": "stdout",
     "output_type": "stream",
     "text": [
      "SLIM_BPR_Recommender: Epoch 114 of 650. Elapsed time 34.76 sec\n"
     ]
    },
    {
     "name": "stdout",
     "output_type": "stream",
     "text": [
      "Processed 41637 (100.0%) in 1.11 sec. BPR loss is 3.55E+00. Sample per second: 37655\n"
     ]
    },
    {
     "name": "stdout",
     "output_type": "stream",
     "text": [
      "SLIM_BPR_Recommender: Epoch 115 of 650. Elapsed time 35.04 sec\n"
     ]
    },
    {
     "name": "stdout",
     "output_type": "stream",
     "text": [
      "Processed 41637 (100.0%) in 0.38 sec. BPR loss is 3.51E+00. Sample per second: 109942\n"
     ]
    },
    {
     "name": "stdout",
     "output_type": "stream",
     "text": [
      "SLIM_BPR_Recommender: Epoch 116 of 650. Elapsed time 35.31 sec\n"
     ]
    },
    {
     "name": "stdout",
     "output_type": "stream",
     "text": [
      "Processed 41637 (100.0%) in 0.65 sec. BPR loss is 3.57E+00. Sample per second: 64485\n"
     ]
    },
    {
     "name": "stdout",
     "output_type": "stream",
     "text": [
      "SLIM_BPR_Recommender: Epoch 117 of 650. Elapsed time 35.58 sec\n"
     ]
    },
    {
     "name": "stdout",
     "output_type": "stream",
     "text": [
      "Processed 41637 (100.0%) in 0.93 sec. BPR loss is 3.61E+00. Sample per second: 44894\n"
     ]
    },
    {
     "name": "stdout",
     "output_type": "stream",
     "text": [
      "SLIM_BPR_Recommender: Epoch 118 of 650. Elapsed time 35.86 sec\n"
     ]
    },
    {
     "name": "stdout",
     "output_type": "stream",
     "text": [
      "Processed 41637 (100.0%) in 1.21 sec. BPR loss is 3.68E+00. Sample per second: 34411\n"
     ]
    },
    {
     "name": "stdout",
     "output_type": "stream",
     "text": [
      "SLIM_BPR_Recommender: Epoch 119 of 650. Elapsed time 36.14 sec\n"
     ]
    },
    {
     "name": "stdout",
     "output_type": "stream",
     "text": [
      "Processed 41637 (100.0%) in 0.48 sec. BPR loss is 3.56E+00. Sample per second: 87382"
     ]
    },
    {
     "name": "stdout",
     "output_type": "stream",
     "text": [
      "\n"
     ]
    },
    {
     "name": "stdout",
     "output_type": "stream",
     "text": [
      "SLIM_BPR_Recommender: Epoch 120 of 650. Elapsed time 36.41 sec\n"
     ]
    },
    {
     "name": "stdout",
     "output_type": "stream",
     "text": [
      "Processed 41637 (100.0%) in 0.76 sec. BPR loss is 3.65E+00. Sample per second: 54958\n"
     ]
    },
    {
     "name": "stdout",
     "output_type": "stream",
     "text": [
      "SLIM_BPR_Recommender: Epoch 121 of 650. Elapsed time 36.69 sec\n"
     ]
    },
    {
     "name": "stdout",
     "output_type": "stream",
     "text": [
      "Processed 41637 (100.0%) in 1.03 sec. BPR loss is 3.56E+00. Sample per second: 40539\n"
     ]
    },
    {
     "name": "stdout",
     "output_type": "stream",
     "text": [
      "SLIM_BPR_Recommender: Epoch 122 of 650. Elapsed time 36.96 sec\n"
     ]
    },
    {
     "name": "stdout",
     "output_type": "stream",
     "text": [
      "Processed 41637 (100.0%) in 0.29 sec. BPR loss is 3.73E+00. Sample per second: 142777\n"
     ]
    },
    {
     "name": "stdout",
     "output_type": "stream",
     "text": [
      "SLIM_BPR_Recommender: Epoch 123 of 650. Elapsed time 37.22 sec\n"
     ]
    },
    {
     "name": "stdout",
     "output_type": "stream",
     "text": [
      "Processed 41637 (100.0%) in 0.57 sec. BPR loss is 3.81E+00. Sample per second: 73621\n"
     ]
    },
    {
     "name": "stdout",
     "output_type": "stream",
     "text": [
      "SLIM_BPR_Recommender: Epoch 124 of 650. Elapsed time 37.49 sec\n"
     ]
    },
    {
     "name": "stdout",
     "output_type": "stream",
     "text": [
      "Processed 41637 (100.0%) in 0.83 sec. BPR loss is 3.67E+00. Sample per second: 49866\n"
     ]
    },
    {
     "name": "stdout",
     "output_type": "stream",
     "text": [
      "SLIM_BPR_Recommender: Epoch 125 of 650. Elapsed time 37.76 sec\n"
     ]
    },
    {
     "name": "stdout",
     "output_type": "stream",
     "text": [
      "Processed 41637 (100.0%) in 1.10 sec. BPR loss is 3.77E+00. Sample per second: 38007\n"
     ]
    },
    {
     "name": "stdout",
     "output_type": "stream",
     "text": [
      "SLIM_BPR_Recommender: Epoch 126 of 650. Elapsed time 38.03 sec\n"
     ]
    },
    {
     "name": "stdout",
     "output_type": "stream",
     "text": [
      "Processed 41637 (100.0%) in 0.37 sec. BPR loss is 3.67E+00. Sample per second: 111342\n"
     ]
    },
    {
     "name": "stdout",
     "output_type": "stream",
     "text": [
      "SLIM_BPR_Recommender: Epoch 127 of 650. Elapsed time 38.30 sec\n"
     ]
    },
    {
     "name": "stdout",
     "output_type": "stream",
     "text": [
      "Processed 41637 (100.0%) in 0.66 sec. BPR loss is 3.90E+00. Sample per second: 63449\n"
     ]
    },
    {
     "name": "stdout",
     "output_type": "stream",
     "text": [
      "SLIM_BPR_Recommender: Epoch 128 of 650. Elapsed time 38.59 sec\n"
     ]
    },
    {
     "name": "stdout",
     "output_type": "stream",
     "text": [
      "Processed 41637 (100.0%) in 0.92 sec. BPR loss is 3.82E+00. Sample per second: 45256\n"
     ]
    },
    {
     "name": "stdout",
     "output_type": "stream",
     "text": [
      "SLIM_BPR_Recommender: Epoch 129 of 650. Elapsed time 38.85 sec\n"
     ]
    },
    {
     "name": "stdout",
     "output_type": "stream",
     "text": [
      "Processed 41637 (100.0%) in 1.19 sec. BPR loss is 3.84E+00. Sample per second: 35045\n"
     ]
    },
    {
     "name": "stdout",
     "output_type": "stream",
     "text": [
      "SLIM_BPR_Recommender: Epoch 130 of 650. Elapsed time 39.12 sec\n"
     ]
    },
    {
     "name": "stdout",
     "output_type": "stream",
     "text": [
      "Processed 41637 (100.0%) in 0.46 sec. BPR loss is 3.87E+00. Sample per second: 90137\n"
     ]
    },
    {
     "name": "stdout",
     "output_type": "stream",
     "text": [
      "SLIM_BPR_Recommender: Epoch 131 of 650. Elapsed time 39.39 sec\n"
     ]
    },
    {
     "name": "stdout",
     "output_type": "stream",
     "text": [
      "Processed 41637 (100.0%) in 0.73 sec. BPR loss is 3.96E+00. Sample per second: 57006\n"
     ]
    },
    {
     "name": "stdout",
     "output_type": "stream",
     "text": [
      "SLIM_BPR_Recommender: Epoch 132 of 650. Elapsed time 39.66 sec\n"
     ]
    },
    {
     "name": "stdout",
     "output_type": "stream",
     "text": [
      "Processed 41637 (100.0%) in 1.01 sec. BPR loss is 3.69E+00. Sample per second: 41307\n"
     ]
    },
    {
     "name": "stdout",
     "output_type": "stream",
     "text": [
      "SLIM_BPR_Recommender: Epoch 133 of 650. Elapsed time 39.94 sec\n"
     ]
    },
    {
     "name": "stdout",
     "output_type": "stream",
     "text": [
      "Processed 41637 (100.0%) in 0.28 sec. BPR loss is 3.95E+00. Sample per second: 148381\n"
     ]
    },
    {
     "name": "stdout",
     "output_type": "stream",
     "text": [
      "SLIM_BPR_Recommender: Epoch 134 of 650. Elapsed time 40.21 sec\n"
     ]
    },
    {
     "name": "stdout",
     "output_type": "stream",
     "text": [
      "Processed 41637 (100.0%) in 0.55 sec. BPR loss is 3.87E+00. Sample per second: 75197\n"
     ]
    },
    {
     "name": "stdout",
     "output_type": "stream",
     "text": [
      "SLIM_BPR_Recommender: Epoch 135 of 650. Elapsed time 40.48 sec\n"
     ]
    },
    {
     "name": "stdout",
     "output_type": "stream",
     "text": [
      "Processed 41637 (100.0%) in 0.82 sec. BPR loss is 4.03E+00. Sample per second: 50460\n"
     ]
    },
    {
     "name": "stdout",
     "output_type": "stream",
     "text": [
      "SLIM_BPR_Recommender: Epoch 136 of 650. Elapsed time 40.75 sec\n"
     ]
    },
    {
     "name": "stdout",
     "output_type": "stream",
     "text": [
      "Processed 41637 (100.0%) in 1.09 sec. BPR loss is 3.98E+00. Sample per second: 38198\n"
     ]
    },
    {
     "name": "stdout",
     "output_type": "stream",
     "text": [
      "SLIM_BPR_Recommender: Epoch 137 of 650. Elapsed time 41.02 sec\n"
     ]
    },
    {
     "name": "stdout",
     "output_type": "stream",
     "text": [
      "Processed 41637 (100.0%) in 0.35 sec. BPR loss is 4.19E+00. Sample per second: 117652\n"
     ]
    },
    {
     "name": "stdout",
     "output_type": "stream",
     "text": [
      "SLIM_BPR_Recommender: Epoch 138 of 650. Elapsed time 41.28 sec\n"
     ]
    },
    {
     "name": "stdout",
     "output_type": "stream",
     "text": [
      "Processed 41637 (100.0%) in 0.63 sec. BPR loss is 3.91E+00. Sample per second: 66537\n"
     ]
    },
    {
     "name": "stdout",
     "output_type": "stream",
     "text": [
      "SLIM_BPR_Recommender: Epoch 139 of 650. Elapsed time 41.56 sec\n"
     ]
    },
    {
     "name": "stdout",
     "output_type": "stream",
     "text": [
      "Processed 41637 (100.0%) in 0.90 sec. BPR loss is 4.11E+00. Sample per second: 46302"
     ]
    },
    {
     "name": "stdout",
     "output_type": "stream",
     "text": [
      "\n"
     ]
    },
    {
     "name": "stdout",
     "output_type": "stream",
     "text": [
      "SLIM_BPR_Recommender: Epoch 140 of 650. Elapsed time 41.83 sec\n"
     ]
    },
    {
     "name": "stdout",
     "output_type": "stream",
     "text": [
      "Processed 41637 (100.0%) in 1.18 sec. BPR loss is 4.03E+00. Sample per second: 35336\n"
     ]
    },
    {
     "name": "stdout",
     "output_type": "stream",
     "text": [
      "SLIM_BPR_Recommender: Epoch 141 of 650. Elapsed time 42.11 sec\n"
     ]
    },
    {
     "name": "stdout",
     "output_type": "stream",
     "text": [
      "Processed 41637 (100.0%) in 0.45 sec. BPR loss is 4.09E+00. Sample per second: 91739\n"
     ]
    },
    {
     "name": "stdout",
     "output_type": "stream",
     "text": [
      "SLIM_BPR_Recommender: Epoch 142 of 650. Elapsed time 42.38 sec\n"
     ]
    },
    {
     "name": "stdout",
     "output_type": "stream",
     "text": [
      "Processed 41637 (100.0%) in 0.73 sec. BPR loss is 4.16E+00. Sample per second: 57403\n"
     ]
    },
    {
     "name": "stdout",
     "output_type": "stream",
     "text": [
      "SLIM_BPR_Recommender: Epoch 143 of 650. Elapsed time 42.65 sec\n"
     ]
    },
    {
     "name": "stdout",
     "output_type": "stream",
     "text": [
      "Processed 41637 (100.0%) in 1.01 sec. BPR loss is 4.09E+00. Sample per second: 41350\n"
     ]
    },
    {
     "name": "stdout",
     "output_type": "stream",
     "text": [
      "SLIM_BPR_Recommender: Epoch 144 of 650. Elapsed time 42.94 sec\n"
     ]
    },
    {
     "name": "stdout",
     "output_type": "stream",
     "text": [
      "Processed 41637 (100.0%) in 0.28 sec. BPR loss is 4.18E+00. Sample per second: 146633\n"
     ]
    },
    {
     "name": "stdout",
     "output_type": "stream",
     "text": [
      "SLIM_BPR_Recommender: Epoch 145 of 650. Elapsed time 43.21 sec\n"
     ]
    },
    {
     "name": "stdout",
     "output_type": "stream",
     "text": [
      "Processed 41637 (100.0%) in 0.56 sec. BPR loss is 4.20E+00. Sample per second: 74383\n"
     ]
    },
    {
     "name": "stdout",
     "output_type": "stream",
     "text": [
      "SLIM_BPR_Recommender: Epoch 146 of 650. Elapsed time 43.49 sec\n"
     ]
    },
    {
     "name": "stdout",
     "output_type": "stream",
     "text": [
      "Processed 41637 (100.0%) in 0.83 sec. BPR loss is 4.38E+00. Sample per second: 50256\n"
     ]
    },
    {
     "name": "stdout",
     "output_type": "stream",
     "text": [
      "SLIM_BPR_Recommender: Epoch 147 of 650. Elapsed time 43.76 sec\n"
     ]
    },
    {
     "name": "stdout",
     "output_type": "stream",
     "text": [
      "Processed 41637 (100.0%) in 1.10 sec. BPR loss is 4.37E+00. Sample per second: 37694\n"
     ]
    },
    {
     "name": "stdout",
     "output_type": "stream",
     "text": [
      "SLIM_BPR_Recommender: Epoch 148 of 650. Elapsed time 44.04 sec\n"
     ]
    },
    {
     "name": "stdout",
     "output_type": "stream",
     "text": [
      "Processed 41637 (100.0%) in 0.37 sec. BPR loss is 4.24E+00. Sample per second: 111093\n"
     ]
    },
    {
     "name": "stdout",
     "output_type": "stream",
     "text": [
      "SLIM_BPR_Recommender: Epoch 149 of 650. Elapsed time 44.30 sec\n"
     ]
    },
    {
     "name": "stdout",
     "output_type": "stream",
     "text": [
      "Processed 41637 (100.0%) in 0.64 sec. BPR loss is 4.37E+00. Sample per second: 64706\n"
     ]
    },
    {
     "name": "stdout",
     "output_type": "stream",
     "text": [
      "SLIM_BPR_Recommender: Epoch 150 of 650. Elapsed time 44.57 sec\n"
     ]
    },
    {
     "name": "stdout",
     "output_type": "stream",
     "text": [
      "Processed 41637 (100.0%) in 0.91 sec. BPR loss is 4.08E+00. Sample per second: 45916\n"
     ]
    },
    {
     "name": "stdout",
     "output_type": "stream",
     "text": [
      "SLIM_BPR_Recommender: Epoch 151 of 650. Elapsed time 44.84 sec\n"
     ]
    },
    {
     "name": "stdout",
     "output_type": "stream",
     "text": [
      "Processed 41637 (100.0%) in 1.17 sec. BPR loss is 4.51E+00. Sample per second: 35559\n"
     ]
    },
    {
     "name": "stdout",
     "output_type": "stream",
     "text": [
      "SLIM_BPR_Recommender: Epoch 152 of 650. Elapsed time 45.10 sec\n"
     ]
    },
    {
     "name": "stdout",
     "output_type": "stream",
     "text": [
      "Processed 41637 (100.0%) in 0.44 sec. BPR loss is 4.31E+00. Sample per second: 94529\n"
     ]
    },
    {
     "name": "stdout",
     "output_type": "stream",
     "text": [
      "SLIM_BPR_Recommender: Epoch 153 of 650. Elapsed time 45.37 sec\n"
     ]
    },
    {
     "name": "stdout",
     "output_type": "stream",
     "text": [
      "Processed 41637 (100.0%) in 0.71 sec. BPR loss is 4.36E+00. Sample per second: 58592\n"
     ]
    },
    {
     "name": "stdout",
     "output_type": "stream",
     "text": [
      "SLIM_BPR_Recommender: Epoch 154 of 650. Elapsed time 45.64 sec\n"
     ]
    },
    {
     "name": "stdout",
     "output_type": "stream",
     "text": [
      "Processed 41637 (100.0%) in 1.02 sec. BPR loss is 4.69E+00. Sample per second: 40723\n"
     ]
    },
    {
     "name": "stdout",
     "output_type": "stream",
     "text": [
      "SLIM_BPR_Recommender: Epoch 155 of 650. Elapsed time 45.95 sec\n"
     ]
    },
    {
     "name": "stdout",
     "output_type": "stream",
     "text": [
      "Processed 41637 (100.0%) in 0.29 sec. BPR loss is 4.26E+00. Sample per second: 141221\n"
     ]
    },
    {
     "name": "stdout",
     "output_type": "stream",
     "text": [
      "SLIM_BPR_Recommender: Epoch 156 of 650. Elapsed time 46.22 sec\n"
     ]
    },
    {
     "name": "stdout",
     "output_type": "stream",
     "text": [
      "Processed 41637 (100.0%) in 0.56 sec. BPR loss is 4.36E+00. Sample per second: 73982\n"
     ]
    },
    {
     "name": "stdout",
     "output_type": "stream",
     "text": [
      "SLIM_BPR_Recommender: Epoch 157 of 650. Elapsed time 46.49 sec\n"
     ]
    },
    {
     "name": "stdout",
     "output_type": "stream",
     "text": [
      "Processed 41637 (100.0%) in 0.83 sec. BPR loss is 4.41E+00. Sample per second: 50386\n"
     ]
    },
    {
     "name": "stdout",
     "output_type": "stream",
     "text": [
      "SLIM_BPR_Recommender: Epoch 158 of 650. Elapsed time 46.76 sec\n"
     ]
    },
    {
     "name": "stdout",
     "output_type": "stream",
     "text": [
      "Processed 41637 (100.0%) in 1.10 sec. BPR loss is 4.47E+00. Sample per second: 37921\n"
     ]
    },
    {
     "name": "stdout",
     "output_type": "stream",
     "text": [
      "SLIM_BPR_Recommender: Epoch 159 of 650. Elapsed time 47.03 sec\n"
     ]
    },
    {
     "name": "stdout",
     "output_type": "stream",
     "text": [
      "Processed 41637 (100.0%) in 0.38 sec. BPR loss is 4.53E+00. Sample per second: 110084\n"
     ]
    },
    {
     "name": "stdout",
     "output_type": "stream",
     "text": [
      "SLIM_BPR_Recommender: Epoch 160 of 650. Elapsed time 47.31 sec\n"
     ]
    },
    {
     "name": "stdout",
     "output_type": "stream",
     "text": [
      "Processed 41637 (100.0%) in 0.64 sec. BPR loss is 4.30E+00. Sample per second: 65183\n"
     ]
    },
    {
     "name": "stdout",
     "output_type": "stream",
     "text": [
      "SLIM_BPR_Recommender: Epoch 161 of 650. Elapsed time 47.57 sec\n"
     ]
    },
    {
     "name": "stdout",
     "output_type": "stream",
     "text": [
      "Processed 41637 (100.0%) in 0.91 sec. BPR loss is 4.72E+00. Sample per second: 45971\n"
     ]
    },
    {
     "name": "stdout",
     "output_type": "stream",
     "text": [
      "SLIM_BPR_Recommender: Epoch 162 of 650. Elapsed time 47.84 sec\n"
     ]
    },
    {
     "name": "stdout",
     "output_type": "stream",
     "text": [
      "Processed 41637 (100.0%) in 1.18 sec. BPR loss is 4.55E+00. Sample per second: 35255\n"
     ]
    },
    {
     "name": "stdout",
     "output_type": "stream",
     "text": [
      "SLIM_BPR_Recommender: Epoch 163 of 650. Elapsed time 48.11 sec\n"
     ]
    },
    {
     "name": "stdout",
     "output_type": "stream",
     "text": [
      "Processed 41637 (100.0%) in 0.46 sec. BPR loss is 4.67E+00. Sample per second: 89822\n"
     ]
    },
    {
     "name": "stdout",
     "output_type": "stream",
     "text": [
      "SLIM_BPR_Recommender: Epoch 164 of 650. Elapsed time 48.39 sec\n"
     ]
    },
    {
     "name": "stdout",
     "output_type": "stream",
     "text": [
      "Processed 41637 (100.0%) in 0.74 sec. BPR loss is 4.81E+00. Sample per second: 56503\n"
     ]
    },
    {
     "name": "stdout",
     "output_type": "stream",
     "text": [
      "SLIM_BPR_Recommender: Epoch 165 of 650. Elapsed time 48.67 sec\n"
     ]
    },
    {
     "name": "stdout",
     "output_type": "stream",
     "text": [
      "Processed 41637 (100.0%) in 1.00 sec. BPR loss is 4.66E+00. Sample per second: 41607\n"
     ]
    },
    {
     "name": "stdout",
     "output_type": "stream",
     "text": [
      "SLIM_BPR_Recommender: Epoch 166 of 650. Elapsed time 48.93 sec\n"
     ]
    },
    {
     "name": "stdout",
     "output_type": "stream",
     "text": [
      "Processed 41637 (100.0%) in 0.27 sec. BPR loss is 4.70E+00. Sample per second: 153542\n"
     ]
    },
    {
     "name": "stdout",
     "output_type": "stream",
     "text": [
      "SLIM_BPR_Recommender: Epoch 167 of 650. Elapsed time 49.20 sec\n"
     ]
    },
    {
     "name": "stdout",
     "output_type": "stream",
     "text": [
      "Processed 41637 (100.0%) in 0.54 sec. BPR loss is 4.62E+00. Sample per second: 77249\n"
     ]
    },
    {
     "name": "stdout",
     "output_type": "stream",
     "text": [
      "SLIM_BPR_Recommender: Epoch 168 of 650. Elapsed time 49.47 sec\n"
     ]
    },
    {
     "name": "stdout",
     "output_type": "stream",
     "text": [
      "Processed 41637 (100.0%) in 0.81 sec. BPR loss is 4.66E+00. Sample per second: 51639\n"
     ]
    },
    {
     "name": "stdout",
     "output_type": "stream",
     "text": [
      "SLIM_BPR_Recommender: Epoch 169 of 650. Elapsed time 49.74 sec\n"
     ]
    },
    {
     "name": "stdout",
     "output_type": "stream",
     "text": [
      "Processed 41637 (100.0%) in 1.08 sec. BPR loss is 4.69E+00. Sample per second: 38437\n"
     ]
    },
    {
     "name": "stdout",
     "output_type": "stream",
     "text": [
      "SLIM_BPR_Recommender: Epoch 170 of 650. Elapsed time 50.01 sec\n"
     ]
    },
    {
     "name": "stdout",
     "output_type": "stream",
     "text": [
      "Processed 41637 (100.0%) in 0.36 sec. BPR loss is 4.70E+00. Sample per second: 115883\n"
     ]
    },
    {
     "name": "stdout",
     "output_type": "stream",
     "text": [
      "SLIM_BPR_Recommender: Epoch 171 of 650. Elapsed time 50.29 sec\n"
     ]
    },
    {
     "name": "stdout",
     "output_type": "stream",
     "text": [
      "Processed 41637 (100.0%) in 0.63 sec. BPR loss is 4.89E+00. Sample per second: 66155\n"
     ]
    },
    {
     "name": "stdout",
     "output_type": "stream",
     "text": [
      "SLIM_BPR_Recommender: Epoch 172 of 650. Elapsed time 50.56 sec\n"
     ]
    },
    {
     "name": "stdout",
     "output_type": "stream",
     "text": [
      "Processed 41637 (100.0%) in 0.89 sec. BPR loss is 4.86E+00. Sample per second: 46898\n"
     ]
    },
    {
     "name": "stdout",
     "output_type": "stream",
     "text": [
      "SLIM_BPR_Recommender: Epoch 173 of 650. Elapsed time 50.82 sec\n"
     ]
    },
    {
     "name": "stdout",
     "output_type": "stream",
     "text": [
      "Processed 41637 (100.0%) in 1.16 sec. BPR loss is 4.90E+00. Sample per second: 36025\n"
     ]
    },
    {
     "name": "stdout",
     "output_type": "stream",
     "text": [
      "SLIM_BPR_Recommender: Epoch 174 of 650. Elapsed time 51.09 sec\n"
     ]
    },
    {
     "name": "stdout",
     "output_type": "stream",
     "text": [
      "Processed 41637 (100.0%) in 0.43 sec. BPR loss is 4.54E+00. Sample per second: 97396\n"
     ]
    },
    {
     "name": "stdout",
     "output_type": "stream",
     "text": [
      "SLIM_BPR_Recommender: Epoch 175 of 650. Elapsed time 51.36 sec\n"
     ]
    },
    {
     "name": "stdout",
     "output_type": "stream",
     "text": [
      "Processed 41637 (100.0%) in 0.70 sec. BPR loss is 4.80E+00. Sample per second: 59624\n"
     ]
    },
    {
     "name": "stdout",
     "output_type": "stream",
     "text": [
      "SLIM_BPR_Recommender: Epoch 176 of 650. Elapsed time 51.63 sec\n"
     ]
    },
    {
     "name": "stdout",
     "output_type": "stream",
     "text": [
      "Processed 41637 (100.0%) in 0.96 sec. BPR loss is 4.72E+00. Sample per second: 43155\n"
     ]
    },
    {
     "name": "stdout",
     "output_type": "stream",
     "text": [
      "SLIM_BPR_Recommender: Epoch 177 of 650. Elapsed time 51.89 sec\n"
     ]
    },
    {
     "name": "stdout",
     "output_type": "stream",
     "text": [
      "Processed 41637 (100.0%) in 1.23 sec. BPR loss is 4.58E+00. Sample per second: 33768\n"
     ]
    },
    {
     "name": "stdout",
     "output_type": "stream",
     "text": [
      "SLIM_BPR_Recommender: Epoch 178 of 650. Elapsed time 52.16 sec\n"
     ]
    },
    {
     "name": "stdout",
     "output_type": "stream",
     "text": [
      "Processed 41637 (100.0%) in 0.51 sec. BPR loss is 4.92E+00. Sample per second: 81149\n"
     ]
    },
    {
     "name": "stdout",
     "output_type": "stream",
     "text": [
      "SLIM_BPR_Recommender: Epoch 179 of 650. Elapsed time 52.44 sec\n"
     ]
    },
    {
     "name": "stdout",
     "output_type": "stream",
     "text": [
      "Processed 41637 (100.0%) in 0.79 sec. BPR loss is 4.88E+00. Sample per second: 52568\n"
     ]
    },
    {
     "name": "stdout",
     "output_type": "stream",
     "text": [
      "SLIM_BPR_Recommender: Epoch 180 of 650. Elapsed time 52.72 sec\n"
     ]
    },
    {
     "name": "stdout",
     "output_type": "stream",
     "text": [
      "Processed 41637 (100.0%) in 1.06 sec. BPR loss is 4.77E+00. Sample per second: 39191\n"
     ]
    },
    {
     "name": "stdout",
     "output_type": "stream",
     "text": [
      "SLIM_BPR_Recommender: Epoch 181 of 650. Elapsed time 52.99 sec\n"
     ]
    },
    {
     "name": "stdout",
     "output_type": "stream",
     "text": [
      "Processed 41637 (100.0%) in 0.33 sec. BPR loss is 4.80E+00. Sample per second: 125672\n"
     ]
    },
    {
     "name": "stdout",
     "output_type": "stream",
     "text": [
      "SLIM_BPR_Recommender: Epoch 182 of 650. Elapsed time 53.26 sec\n"
     ]
    },
    {
     "name": "stdout",
     "output_type": "stream",
     "text": [
      "Processed 41637 (100.0%) in 0.60 sec. BPR loss is 4.97E+00. Sample per second: 69324\n"
     ]
    },
    {
     "name": "stdout",
     "output_type": "stream",
     "text": [
      "SLIM_BPR_Recommender: Epoch 183 of 650. Elapsed time 53.53 sec\n"
     ]
    },
    {
     "name": "stdout",
     "output_type": "stream",
     "text": [
      "Processed 41637 (100.0%) in 0.87 sec. BPR loss is 4.95E+00. Sample per second: 48013\n"
     ]
    },
    {
     "name": "stdout",
     "output_type": "stream",
     "text": [
      "SLIM_BPR_Recommender: Epoch 184 of 650. Elapsed time 53.80 sec\n"
     ]
    },
    {
     "name": "stdout",
     "output_type": "stream",
     "text": [
      "Processed 41637 (100.0%) in 1.14 sec. BPR loss is 4.91E+00. Sample per second: 36570\n"
     ]
    },
    {
     "name": "stdout",
     "output_type": "stream",
     "text": [
      "SLIM_BPR_Recommender: Epoch 185 of 650. Elapsed time 54.07 sec\n"
     ]
    },
    {
     "name": "stdout",
     "output_type": "stream",
     "text": [
      "Processed 41637 (100.0%) in 0.47 sec. BPR loss is 5.21E+00. Sample per second: 88651\n"
     ]
    },
    {
     "name": "stdout",
     "output_type": "stream",
     "text": [
      "SLIM_BPR_Recommender: Epoch 186 of 650. Elapsed time 54.40 sec\n"
     ]
    },
    {
     "name": "stdout",
     "output_type": "stream",
     "text": [
      "Processed 41637 (100.0%) in 0.77 sec. BPR loss is 5.22E+00. Sample per second: 54352\n"
     ]
    },
    {
     "name": "stdout",
     "output_type": "stream",
     "text": [
      "SLIM_BPR_Recommender: Epoch 187 of 650. Elapsed time 54.70 sec\n"
     ]
    },
    {
     "name": "stdout",
     "output_type": "stream",
     "text": [
      "Processed 41637 (100.0%) in 1.03 sec. BPR loss is 4.94E+00. Sample per second: 40399\n"
     ]
    },
    {
     "name": "stdout",
     "output_type": "stream",
     "text": [
      "SLIM_BPR_Recommender: Epoch 188 of 650. Elapsed time 54.96 sec\n"
     ]
    },
    {
     "name": "stdout",
     "output_type": "stream",
     "text": [
      "Processed 41637 (100.0%) in 0.31 sec. BPR loss is 4.97E+00. Sample per second: 133305\n"
     ]
    },
    {
     "name": "stdout",
     "output_type": "stream",
     "text": [
      "SLIM_BPR_Recommender: Epoch 189 of 650. Elapsed time 55.24 sec\n"
     ]
    },
    {
     "name": "stdout",
     "output_type": "stream",
     "text": [
      "Processed 41637 (100.0%) in 0.58 sec. BPR loss is 4.96E+00. Sample per second: 71616\n"
     ]
    },
    {
     "name": "stdout",
     "output_type": "stream",
     "text": [
      "SLIM_BPR_Recommender: Epoch 190 of 650. Elapsed time 55.51 sec\n"
     ]
    },
    {
     "name": "stdout",
     "output_type": "stream",
     "text": [
      "Processed 41637 (100.0%) in 0.85 sec. BPR loss is 5.21E+00. Sample per second: 48808\n"
     ]
    },
    {
     "name": "stdout",
     "output_type": "stream",
     "text": [
      "SLIM_BPR_Recommender: Epoch 191 of 650. Elapsed time 55.78 sec\n"
     ]
    },
    {
     "name": "stdout",
     "output_type": "stream",
     "text": [
      "Processed 41637 (100.0%) in 1.12 sec. BPR loss is 5.23E+00. Sample per second: 37234\n"
     ]
    },
    {
     "name": "stdout",
     "output_type": "stream",
     "text": [
      "SLIM_BPR_Recommender: Epoch 192 of 650. Elapsed time 56.05 sec\n"
     ]
    },
    {
     "name": "stdout",
     "output_type": "stream",
     "text": [
      "Processed 41637 (100.0%) in 0.39 sec. BPR loss is 5.26E+00. Sample per second: 106258\n"
     ]
    },
    {
     "name": "stdout",
     "output_type": "stream",
     "text": [
      "SLIM_BPR_Recommender: Epoch 193 of 650. Elapsed time 56.32 sec\n"
     ]
    },
    {
     "name": "stdout",
     "output_type": "stream",
     "text": [
      "Processed 41637 (100.0%) in 0.66 sec. BPR loss is 5.12E+00. Sample per second: 62929\n"
     ]
    },
    {
     "name": "stdout",
     "output_type": "stream",
     "text": [
      "SLIM_BPR_Recommender: Epoch 194 of 650. Elapsed time 56.59 sec\n"
     ]
    },
    {
     "name": "stdout",
     "output_type": "stream",
     "text": [
      "Processed 41637 (100.0%) in 0.96 sec. BPR loss is 5.39E+00. Sample per second: 43178\n"
     ]
    },
    {
     "name": "stdout",
     "output_type": "stream",
     "text": [
      "SLIM_BPR_Recommender: Epoch 195 of 650. Elapsed time 56.89 sec\n"
     ]
    },
    {
     "name": "stdout",
     "output_type": "stream",
     "text": [
      "Processed 41637 (100.0%) in 1.24 sec. BPR loss is 5.33E+00. Sample per second: 33647\n"
     ]
    },
    {
     "name": "stdout",
     "output_type": "stream",
     "text": [
      "SLIM_BPR_Recommender: Epoch 196 of 650. Elapsed time 57.17 sec\n"
     ]
    },
    {
     "name": "stdout",
     "output_type": "stream",
     "text": [
      "Processed 41637 (100.0%) in 0.52 sec. BPR loss is 5.24E+00. Sample per second: 80586\n"
     ]
    },
    {
     "name": "stdout",
     "output_type": "stream",
     "text": [
      "SLIM_BPR_Recommender: Epoch 197 of 650. Elapsed time 57.45 sec\n"
     ]
    },
    {
     "name": "stdout",
     "output_type": "stream",
     "text": [
      "Processed 41637 (100.0%) in 0.78 sec. BPR loss is 5.28E+00. Sample per second: 53052\n"
     ]
    },
    {
     "name": "stdout",
     "output_type": "stream",
     "text": [
      "SLIM_BPR_Recommender: Epoch 198 of 650. Elapsed time 57.71 sec\n"
     ]
    },
    {
     "name": "stdout",
     "output_type": "stream",
     "text": [
      "Processed 41637 (100.0%) in 1.06 sec. BPR loss is 5.28E+00. Sample per second: 39255\n"
     ]
    },
    {
     "name": "stdout",
     "output_type": "stream",
     "text": [
      "SLIM_BPR_Recommender: Epoch 199 of 650. Elapsed time 57.99 sec\n"
     ]
    },
    {
     "name": "stdout",
     "output_type": "stream",
     "text": [
      "Processed 41637 (100.0%) in 0.33 sec. BPR loss is 5.31E+00. Sample per second: 124721\n"
     ]
    },
    {
     "name": "stdout",
     "output_type": "stream",
     "text": [
      "SLIM_BPR_Recommender: Epoch 200 of 650. Elapsed time 58.26 sec\n"
     ]
    },
    {
     "name": "stdout",
     "output_type": "stream",
     "text": [
      "Processed 41637 (100.0%) in 0.60 sec. BPR loss is 5.26E+00. Sample per second: 68958\n"
     ]
    },
    {
     "name": "stdout",
     "output_type": "stream",
     "text": [
      "SLIM_BPR_Recommender: Epoch 201 of 650. Elapsed time 58.53 sec\n"
     ]
    },
    {
     "name": "stdout",
     "output_type": "stream",
     "text": [
      "Processed 41637 (100.0%) in 0.87 sec. BPR loss is 5.24E+00. Sample per second: 47666\n"
     ]
    },
    {
     "name": "stdout",
     "output_type": "stream",
     "text": [
      "SLIM_BPR_Recommender: Epoch 202 of 650. Elapsed time 58.80 sec\n"
     ]
    },
    {
     "name": "stdout",
     "output_type": "stream",
     "text": [
      "Processed 41637 (100.0%) in 1.14 sec. BPR loss is 5.51E+00. Sample per second: 36467\n"
     ]
    },
    {
     "name": "stdout",
     "output_type": "stream",
     "text": [
      "SLIM_BPR_Recommender: Epoch 203 of 650. Elapsed time 59.07 sec\n"
     ]
    },
    {
     "name": "stdout",
     "output_type": "stream",
     "text": [
      "Processed 41637 (100.0%) in 0.41 sec. BPR loss is 5.19E+00. Sample per second: 100426\n"
     ]
    },
    {
     "name": "stdout",
     "output_type": "stream",
     "text": [
      "SLIM_BPR_Recommender: Epoch 204 of 650. Elapsed time 59.34 sec\n"
     ]
    },
    {
     "name": "stdout",
     "output_type": "stream",
     "text": [
      "Processed 41637 (100.0%) in 0.68 sec. BPR loss is 5.40E+00. Sample per second: 61386\n"
     ]
    },
    {
     "name": "stdout",
     "output_type": "stream",
     "text": [
      "SLIM_BPR_Recommender: Epoch 205 of 650. Elapsed time 59.61 sec\n"
     ]
    },
    {
     "name": "stdout",
     "output_type": "stream",
     "text": [
      "Processed 41637 (100.0%) in 0.94 sec. BPR loss is 5.52E+00. Sample per second: 44268\n"
     ]
    },
    {
     "name": "stdout",
     "output_type": "stream",
     "text": [
      "SLIM_BPR_Recommender: Epoch 206 of 650. Elapsed time 59.87 sec\n"
     ]
    },
    {
     "name": "stdout",
     "output_type": "stream",
     "text": [
      "Processed 41637 (100.0%) in 1.21 sec. BPR loss is 5.39E+00. Sample per second: 34304\n"
     ]
    },
    {
     "name": "stdout",
     "output_type": "stream",
     "text": [
      "SLIM_BPR_Recommender: Epoch 207 of 650. Elapsed time 1.00 min\n"
     ]
    },
    {
     "name": "stdout",
     "output_type": "stream",
     "text": [
      "Processed 41637 (100.0%) in 0.48 sec. BPR loss is 5.33E+00. Sample per second: 86021\n"
     ]
    },
    {
     "name": "stdout",
     "output_type": "stream",
     "text": [
      "SLIM_BPR_Recommender: Epoch 208 of 650. Elapsed time 1.01 min\n"
     ]
    },
    {
     "name": "stdout",
     "output_type": "stream",
     "text": [
      "Processed 41637 (100.0%) in 0.75 sec. BPR loss is 5.43E+00. Sample per second: 55561\n"
     ]
    },
    {
     "name": "stdout",
     "output_type": "stream",
     "text": [
      "SLIM_BPR_Recommender: Epoch 209 of 650. Elapsed time 1.01 min\n"
     ]
    },
    {
     "name": "stdout",
     "output_type": "stream",
     "text": [
      "Processed 41637 (100.0%) in 1.01 sec. BPR loss is 5.65E+00. Sample per second: 41150\n"
     ]
    },
    {
     "name": "stdout",
     "output_type": "stream",
     "text": [
      "SLIM_BPR_Recommender: Epoch 210 of 650. Elapsed time 1.02 min\n"
     ]
    },
    {
     "name": "stdout",
     "output_type": "stream",
     "text": [
      "Processed 41637 (100.0%) in 0.28 sec. BPR loss is 5.53E+00. Sample per second: 147141\n"
     ]
    },
    {
     "name": "stdout",
     "output_type": "stream",
     "text": [
      "SLIM_BPR_Recommender: Epoch 211 of 650. Elapsed time 1.02 min\n"
     ]
    },
    {
     "name": "stdout",
     "output_type": "stream",
     "text": [
      "Processed 41637 (100.0%) in 0.55 sec. BPR loss is 5.38E+00. Sample per second: 75021\n"
     ]
    },
    {
     "name": "stdout",
     "output_type": "stream",
     "text": [
      "SLIM_BPR_Recommender: Epoch 212 of 650. Elapsed time 1.02 min\n"
     ]
    },
    {
     "name": "stdout",
     "output_type": "stream",
     "text": [
      "Processed 41637 (100.0%) in 0.82 sec. BPR loss is 5.22E+00. Sample per second: 50580\n"
     ]
    },
    {
     "name": "stdout",
     "output_type": "stream",
     "text": [
      "SLIM_BPR_Recommender: Epoch 213 of 650. Elapsed time 1.03 min\n"
     ]
    },
    {
     "name": "stdout",
     "output_type": "stream",
     "text": [
      "Processed 41637 (100.0%) in 1.09 sec. BPR loss is 5.53E+00. Sample per second: 38021\n"
     ]
    },
    {
     "name": "stdout",
     "output_type": "stream",
     "text": [
      "SLIM_BPR_Recommender: Epoch 214 of 650. Elapsed time 1.03 min\n"
     ]
    },
    {
     "name": "stdout",
     "output_type": "stream",
     "text": [
      "Processed 41637 (100.0%) in 0.36 sec. BPR loss is 5.53E+00. Sample per second: 115320\n"
     ]
    },
    {
     "name": "stdout",
     "output_type": "stream",
     "text": [
      "SLIM_BPR_Recommender: Epoch 215 of 650. Elapsed time 1.04 min\n"
     ]
    },
    {
     "name": "stdout",
     "output_type": "stream",
     "text": [
      "Processed 41637 (100.0%) in 0.63 sec. BPR loss is 5.41E+00. Sample per second: 65572\n"
     ]
    },
    {
     "name": "stdout",
     "output_type": "stream",
     "text": [
      "SLIM_BPR_Recommender: Epoch 216 of 650. Elapsed time 1.04 min\n"
     ]
    },
    {
     "name": "stdout",
     "output_type": "stream",
     "text": [
      "Processed 41637 (100.0%) in 0.90 sec. BPR loss is 5.65E+00. Sample per second: 46149\n"
     ]
    },
    {
     "name": "stdout",
     "output_type": "stream",
     "text": [
      "SLIM_BPR_Recommender: Epoch 217 of 650. Elapsed time 1.05 min\n"
     ]
    },
    {
     "name": "stdout",
     "output_type": "stream",
     "text": [
      "Processed 41637 (100.0%) in 1.18 sec. BPR loss is 5.71E+00. Sample per second: 35366\n"
     ]
    },
    {
     "name": "stdout",
     "output_type": "stream",
     "text": [
      "SLIM_BPR_Recommender: Epoch 218 of 650. Elapsed time 1.05 min\n"
     ]
    },
    {
     "name": "stdout",
     "output_type": "stream",
     "text": [
      "Processed 41637 (100.0%) in 0.45 sec. BPR loss is 5.44E+00. Sample per second: 92938\n"
     ]
    },
    {
     "name": "stdout",
     "output_type": "stream",
     "text": [
      "SLIM_BPR_Recommender: Epoch 219 of 650. Elapsed time 1.06 min\n"
     ]
    },
    {
     "name": "stdout",
     "output_type": "stream",
     "text": [
      "Processed 41637 (100.0%) in 0.71 sec. BPR loss is 5.40E+00. Sample per second: 58503\n"
     ]
    },
    {
     "name": "stdout",
     "output_type": "stream",
     "text": [
      "SLIM_BPR_Recommender: Epoch 220 of 650. Elapsed time 1.06 min\n"
     ]
    },
    {
     "name": "stdout",
     "output_type": "stream",
     "text": [
      "Processed 41637 (100.0%) in 0.98 sec. BPR loss is 5.86E+00. Sample per second: 42457\n"
     ]
    },
    {
     "name": "stdout",
     "output_type": "stream",
     "text": [
      "SLIM_BPR_Recommender: Epoch 221 of 650. Elapsed time 1.07 min\n"
     ]
    },
    {
     "name": "stdout",
     "output_type": "stream",
     "text": [
      "Processed 41637 (100.0%) in 1.25 sec. BPR loss is 5.76E+00. Sample per second: 33318\n"
     ]
    },
    {
     "name": "stdout",
     "output_type": "stream",
     "text": [
      "SLIM_BPR_Recommender: Epoch 222 of 650. Elapsed time 1.07 min\n"
     ]
    },
    {
     "name": "stdout",
     "output_type": "stream",
     "text": [
      "Processed 41637 (100.0%) in 0.52 sec. BPR loss is 5.70E+00. Sample per second: 80173\n"
     ]
    },
    {
     "name": "stdout",
     "output_type": "stream",
     "text": [
      "SLIM_BPR_Recommender: Epoch 223 of 650. Elapsed time 1.07 min\n"
     ]
    },
    {
     "name": "stdout",
     "output_type": "stream",
     "text": [
      "Processed 41637 (100.0%) in 0.78 sec. BPR loss is 5.74E+00. Sample per second: 53184\n"
     ]
    },
    {
     "name": "stdout",
     "output_type": "stream",
     "text": [
      "SLIM_BPR_Recommender: Epoch 224 of 650. Elapsed time 1.08 min\n"
     ]
    },
    {
     "name": "stdout",
     "output_type": "stream",
     "text": [
      "Processed 41637 (100.0%) in 1.05 sec. BPR loss is 5.96E+00. Sample per second: 39656\n"
     ]
    },
    {
     "name": "stdout",
     "output_type": "stream",
     "text": [
      "SLIM_BPR_Recommender: Epoch 225 of 650. Elapsed time 1.08 min\n"
     ]
    },
    {
     "name": "stdout",
     "output_type": "stream",
     "text": [
      "Processed 41637 (100.0%) in 0.33 sec. BPR loss is 5.87E+00. Sample per second: 126044\n"
     ]
    },
    {
     "name": "stdout",
     "output_type": "stream",
     "text": [
      "SLIM_BPR_Recommender: Epoch 226 of 650. Elapsed time 1.09 min\n"
     ]
    },
    {
     "name": "stdout",
     "output_type": "stream",
     "text": [
      "Processed 41637 (100.0%) in 0.60 sec. BPR loss is 5.75E+00. Sample per second: 68814\n"
     ]
    },
    {
     "name": "stdout",
     "output_type": "stream",
     "text": [
      "SLIM_BPR_Recommender: Epoch 227 of 650. Elapsed time 1.09 min\n"
     ]
    },
    {
     "name": "stdout",
     "output_type": "stream",
     "text": [
      "Processed 41637 (100.0%) in 0.88 sec. BPR loss is 5.83E+00. Sample per second: 47376\n"
     ]
    },
    {
     "name": "stdout",
     "output_type": "stream",
     "text": [
      "SLIM_BPR_Recommender: Epoch 228 of 650. Elapsed time 1.10 min\n"
     ]
    },
    {
     "name": "stdout",
     "output_type": "stream",
     "text": [
      "Processed 41637 (100.0%) in 1.14 sec. BPR loss is 5.75E+00. Sample per second: 36442\n"
     ]
    },
    {
     "name": "stdout",
     "output_type": "stream",
     "text": [
      "SLIM_BPR_Recommender: Epoch 229 of 650. Elapsed time 1.10 min\n"
     ]
    },
    {
     "name": "stdout",
     "output_type": "stream",
     "text": [
      "Processed 41637 (100.0%) in 0.43 sec. BPR loss is 5.84E+00. Sample per second: 97577\n"
     ]
    },
    {
     "name": "stdout",
     "output_type": "stream",
     "text": [
      "SLIM_BPR_Recommender: Epoch 230 of 650. Elapsed time 1.11 min\n"
     ]
    },
    {
     "name": "stdout",
     "output_type": "stream",
     "text": [
      "Processed 41637 (100.0%) in 0.70 sec. BPR loss is 5.84E+00. Sample per second: 59324\n"
     ]
    },
    {
     "name": "stdout",
     "output_type": "stream",
     "text": [
      "SLIM_BPR_Recommender: Epoch 231 of 650. Elapsed time 1.11 min\n"
     ]
    },
    {
     "name": "stdout",
     "output_type": "stream",
     "text": [
      "Processed 41637 (100.0%) in 0.97 sec. BPR loss is 5.74E+00. Sample per second: 43098\n"
     ]
    },
    {
     "name": "stdout",
     "output_type": "stream",
     "text": [
      "SLIM_BPR_Recommender: Epoch 232 of 650. Elapsed time 1.11 min\n"
     ]
    },
    {
     "name": "stdout",
     "output_type": "stream",
     "text": [
      "Processed 41637 (100.0%) in 1.24 sec. BPR loss is 6.10E+00. Sample per second: 33558\n"
     ]
    },
    {
     "name": "stdout",
     "output_type": "stream",
     "text": [
      "SLIM_BPR_Recommender: Epoch 233 of 650. Elapsed time 1.12 min\n"
     ]
    },
    {
     "name": "stdout",
     "output_type": "stream",
     "text": [
      "Processed 41637 (100.0%) in 0.52 sec. BPR loss is 5.94E+00. Sample per second: 79897\n"
     ]
    },
    {
     "name": "stdout",
     "output_type": "stream",
     "text": [
      "SLIM_BPR_Recommender: Epoch 234 of 650. Elapsed time 1.12 min\n"
     ]
    },
    {
     "name": "stdout",
     "output_type": "stream",
     "text": [
      "Processed 41637 (100.0%) in 0.82 sec. BPR loss is 5.87E+00. Sample per second: 50524"
     ]
    },
    {
     "name": "stdout",
     "output_type": "stream",
     "text": [
      "\n"
     ]
    },
    {
     "name": "stdout",
     "output_type": "stream",
     "text": [
      "SLIM_BPR_Recommender: Epoch 235 of 650. Elapsed time 1.13 min\n"
     ]
    },
    {
     "name": "stdout",
     "output_type": "stream",
     "text": [
      "Processed 41637 (100.0%) in 1.11 sec. BPR loss is 5.95E+00. Sample per second: 37574\n"
     ]
    },
    {
     "name": "stdout",
     "output_type": "stream",
     "text": [
      "SLIM_BPR_Recommender: Epoch 236 of 650. Elapsed time 1.13 min\n"
     ]
    },
    {
     "name": "stdout",
     "output_type": "stream",
     "text": [
      "Processed 41637 (100.0%) in 0.38 sec. BPR loss is 5.97E+00. Sample per second: 110061\n"
     ]
    },
    {
     "name": "stdout",
     "output_type": "stream",
     "text": [
      "SLIM_BPR_Recommender: Epoch 237 of 650. Elapsed time 1.14 min\n"
     ]
    },
    {
     "name": "stdout",
     "output_type": "stream",
     "text": [
      "Processed 41637 (100.0%) in 0.65 sec. BPR loss is 6.10E+00. Sample per second: 63565\n"
     ]
    },
    {
     "name": "stdout",
     "output_type": "stream",
     "text": [
      "SLIM_BPR_Recommender: Epoch 238 of 650. Elapsed time 1.14 min\n"
     ]
    },
    {
     "name": "stdout",
     "output_type": "stream",
     "text": [
      "Processed 41637 (100.0%) in 0.93 sec. BPR loss is 5.93E+00. Sample per second: 44943\n"
     ]
    },
    {
     "name": "stdout",
     "output_type": "stream",
     "text": [
      "SLIM_BPR_Recommender: Epoch 239 of 650. Elapsed time 1.15 min\n"
     ]
    },
    {
     "name": "stdout",
     "output_type": "stream",
     "text": [
      "Processed 41637 (100.0%) in 1.19 sec. BPR loss is 5.95E+00. Sample per second: 34958\n"
     ]
    },
    {
     "name": "stdout",
     "output_type": "stream",
     "text": [
      "SLIM_BPR_Recommender: Epoch 240 of 650. Elapsed time 1.15 min\n"
     ]
    },
    {
     "name": "stdout",
     "output_type": "stream",
     "text": [
      "Processed 41637 (100.0%) in 0.46 sec. BPR loss is 6.16E+00. Sample per second: 90088\n"
     ]
    },
    {
     "name": "stdout",
     "output_type": "stream",
     "text": [
      "SLIM_BPR_Recommender: Epoch 241 of 650. Elapsed time 1.16 min\n"
     ]
    },
    {
     "name": "stdout",
     "output_type": "stream",
     "text": [
      "Processed 41637 (100.0%) in 0.74 sec. BPR loss is 5.96E+00. Sample per second: 56450\n"
     ]
    },
    {
     "name": "stdout",
     "output_type": "stream",
     "text": [
      "SLIM_BPR_Recommender: Epoch 242 of 650. Elapsed time 1.16 min\n"
     ]
    },
    {
     "name": "stdout",
     "output_type": "stream",
     "text": [
      "Processed 41637 (100.0%) in 1.01 sec. BPR loss is 6.12E+00. Sample per second: 41021\n"
     ]
    },
    {
     "name": "stdout",
     "output_type": "stream",
     "text": [
      "SLIM_BPR_Recommender: Epoch 243 of 650. Elapsed time 1.17 min\n"
     ]
    },
    {
     "name": "stdout",
     "output_type": "stream",
     "text": [
      "Processed 41637 (100.0%) in 0.28 sec. BPR loss is 5.95E+00. Sample per second: 146606\n"
     ]
    },
    {
     "name": "stdout",
     "output_type": "stream",
     "text": [
      "SLIM_BPR_Recommender: Epoch 244 of 650. Elapsed time 1.17 min\n"
     ]
    },
    {
     "name": "stdout",
     "output_type": "stream",
     "text": [
      "Processed 41637 (100.0%) in 0.57 sec. BPR loss is 6.30E+00. Sample per second: 73347\n"
     ]
    },
    {
     "name": "stdout",
     "output_type": "stream",
     "text": [
      "SLIM_BPR_Recommender: Epoch 245 of 650. Elapsed time 1.17 min\n"
     ]
    },
    {
     "name": "stdout",
     "output_type": "stream",
     "text": [
      "Processed 41637 (100.0%) in 0.85 sec. BPR loss is 6.38E+00. Sample per second: 48883\n"
     ]
    },
    {
     "name": "stdout",
     "output_type": "stream",
     "text": [
      "SLIM_BPR_Recommender: Epoch 246 of 650. Elapsed time 1.18 min\n"
     ]
    },
    {
     "name": "stdout",
     "output_type": "stream",
     "text": [
      "Processed 41637 (100.0%) in 1.13 sec. BPR loss is 6.22E+00. Sample per second: 36858\n"
     ]
    },
    {
     "name": "stdout",
     "output_type": "stream",
     "text": [
      "SLIM_BPR_Recommender: Epoch 247 of 650. Elapsed time 1.18 min\n"
     ]
    },
    {
     "name": "stdout",
     "output_type": "stream",
     "text": [
      "Processed 41637 (100.0%) in 0.40 sec. BPR loss is 6.16E+00. Sample per second: 102873\n"
     ]
    },
    {
     "name": "stdout",
     "output_type": "stream",
     "text": [
      "SLIM_BPR_Recommender: Epoch 248 of 650. Elapsed time 1.19 min\n"
     ]
    },
    {
     "name": "stdout",
     "output_type": "stream",
     "text": [
      "Processed 41637 (100.0%) in 0.68 sec. BPR loss is 6.20E+00. Sample per second: 61419\n"
     ]
    },
    {
     "name": "stdout",
     "output_type": "stream",
     "text": [
      "SLIM_BPR_Recommender: Epoch 249 of 650. Elapsed time 1.19 min\n"
     ]
    },
    {
     "name": "stdout",
     "output_type": "stream",
     "text": [
      "Processed 41637 (100.0%) in 0.95 sec. BPR loss is 6.04E+00. Sample per second: 43970\n"
     ]
    },
    {
     "name": "stdout",
     "output_type": "stream",
     "text": [
      "SLIM_BPR_Recommender: Epoch 250 of 650. Elapsed time 1.20 min\n"
     ]
    },
    {
     "name": "stdout",
     "output_type": "stream",
     "text": [
      "Processed 41637 (100.0%) in 1.22 sec. BPR loss is 5.99E+00. Sample per second: 34073\n"
     ]
    },
    {
     "name": "stdout",
     "output_type": "stream",
     "text": [
      "SLIM_BPR_Recommender: Epoch 251 of 650. Elapsed time 1.20 min\n"
     ]
    },
    {
     "name": "stdout",
     "output_type": "stream",
     "text": [
      "Processed 41637 (100.0%) in 0.50 sec. BPR loss is 6.10E+00. Sample per second: 82465"
     ]
    },
    {
     "name": "stdout",
     "output_type": "stream",
     "text": [
      "\n"
     ]
    },
    {
     "name": "stdout",
     "output_type": "stream",
     "text": [
      "SLIM_BPR_Recommender: Epoch 252 of 650. Elapsed time 1.21 min\n"
     ]
    },
    {
     "name": "stdout",
     "output_type": "stream",
     "text": [
      "Processed 41637 (100.0%) in 0.79 sec. BPR loss is 6.19E+00. Sample per second: 53016\n"
     ]
    },
    {
     "name": "stdout",
     "output_type": "stream",
     "text": [
      "SLIM_BPR_Recommender: Epoch 253 of 650. Elapsed time 1.21 min\n"
     ]
    },
    {
     "name": "stdout",
     "output_type": "stream",
     "text": [
      "Processed 41637 (100.0%) in 1.06 sec. BPR loss is 5.94E+00. Sample per second: 39233\n"
     ]
    },
    {
     "name": "stdout",
     "output_type": "stream",
     "text": [
      "SLIM_BPR_Recommender: Epoch 254 of 650. Elapsed time 1.22 min\n"
     ]
    },
    {
     "name": "stdout",
     "output_type": "stream",
     "text": [
      "Processed 41637 (100.0%) in 0.34 sec. BPR loss is 6.19E+00. Sample per second: 122977\n"
     ]
    },
    {
     "name": "stdout",
     "output_type": "stream",
     "text": [
      "SLIM_BPR_Recommender: Epoch 255 of 650. Elapsed time 1.22 min\n"
     ]
    },
    {
     "name": "stdout",
     "output_type": "stream",
     "text": [
      "Processed 41637 (100.0%) in 0.63 sec. BPR loss is 6.15E+00. Sample per second: 65632\n"
     ]
    },
    {
     "name": "stdout",
     "output_type": "stream",
     "text": [
      "SLIM_BPR_Recommender: Epoch 256 of 650. Elapsed time 1.23 min\n"
     ]
    },
    {
     "name": "stdout",
     "output_type": "stream",
     "text": [
      "Processed 41637 (100.0%) in 0.91 sec. BPR loss is 6.05E+00. Sample per second: 45800\n"
     ]
    },
    {
     "name": "stdout",
     "output_type": "stream",
     "text": [
      "SLIM_BPR_Recommender: Epoch 257 of 650. Elapsed time 1.23 min\n"
     ]
    },
    {
     "name": "stdout",
     "output_type": "stream",
     "text": [
      "Processed 41637 (100.0%) in 1.18 sec. BPR loss is 6.46E+00. Sample per second: 35342\n"
     ]
    },
    {
     "name": "stdout",
     "output_type": "stream",
     "text": [
      "SLIM_BPR_Recommender: Epoch 258 of 650. Elapsed time 1.24 min\n"
     ]
    },
    {
     "name": "stdout",
     "output_type": "stream",
     "text": [
      "Processed 41637 (100.0%) in 0.46 sec. BPR loss is 6.18E+00. Sample per second: 89719\n"
     ]
    },
    {
     "name": "stdout",
     "output_type": "stream",
     "text": [
      "SLIM_BPR_Recommender: Epoch 259 of 650. Elapsed time 1.24 min\n"
     ]
    },
    {
     "name": "stdout",
     "output_type": "stream",
     "text": [
      "Processed 41637 (100.0%) in 0.75 sec. BPR loss is 6.28E+00. Sample per second: 55759\n"
     ]
    },
    {
     "name": "stdout",
     "output_type": "stream",
     "text": [
      "SLIM_BPR_Recommender: Epoch 260 of 650. Elapsed time 1.24 min\n"
     ]
    },
    {
     "name": "stdout",
     "output_type": "stream",
     "text": [
      "Processed 41637 (100.0%) in 1.03 sec. BPR loss is 6.51E+00. Sample per second: 40606\n"
     ]
    },
    {
     "name": "stdout",
     "output_type": "stream",
     "text": [
      "SLIM_BPR_Recommender: Epoch 261 of 650. Elapsed time 1.25 min\n"
     ]
    },
    {
     "name": "stdout",
     "output_type": "stream",
     "text": [
      "Processed 41637 (100.0%) in 0.30 sec. BPR loss is 6.29E+00. Sample per second: 140333\n"
     ]
    },
    {
     "name": "stdout",
     "output_type": "stream",
     "text": [
      "SLIM_BPR_Recommender: Epoch 262 of 650. Elapsed time 1.25 min\n"
     ]
    },
    {
     "name": "stdout",
     "output_type": "stream",
     "text": [
      "Processed 41637 (100.0%) in 0.57 sec. BPR loss is 6.33E+00. Sample per second: 72816\n"
     ]
    },
    {
     "name": "stdout",
     "output_type": "stream",
     "text": [
      "SLIM_BPR_Recommender: Epoch 263 of 650. Elapsed time 1.26 min\n"
     ]
    },
    {
     "name": "stdout",
     "output_type": "stream",
     "text": [
      "Processed 41637 (100.0%) in 0.85 sec. BPR loss is 6.47E+00. Sample per second: 49195\n"
     ]
    },
    {
     "name": "stdout",
     "output_type": "stream",
     "text": [
      "SLIM_BPR_Recommender: Epoch 264 of 650. Elapsed time 1.26 min\n"
     ]
    },
    {
     "name": "stdout",
     "output_type": "stream",
     "text": [
      "Processed 41637 (100.0%) in 1.12 sec. BPR loss is 6.31E+00. Sample per second: 37098\n"
     ]
    },
    {
     "name": "stdout",
     "output_type": "stream",
     "text": [
      "SLIM_BPR_Recommender: Epoch 265 of 650. Elapsed time 1.27 min\n"
     ]
    },
    {
     "name": "stdout",
     "output_type": "stream",
     "text": [
      "Processed 41637 (100.0%) in 0.40 sec. BPR loss is 6.39E+00. Sample per second: 103511\n"
     ]
    },
    {
     "name": "stdout",
     "output_type": "stream",
     "text": [
      "SLIM_BPR_Recommender: Epoch 266 of 650. Elapsed time 1.27 min\n"
     ]
    },
    {
     "name": "stdout",
     "output_type": "stream",
     "text": [
      "Processed 41637 (100.0%) in 0.67 sec. BPR loss is 6.44E+00. Sample per second: 61791\n"
     ]
    },
    {
     "name": "stdout",
     "output_type": "stream",
     "text": [
      "SLIM_BPR_Recommender: Epoch 267 of 650. Elapsed time 1.28 min\n"
     ]
    },
    {
     "name": "stdout",
     "output_type": "stream",
     "text": [
      "Processed 41637 (100.0%) in 0.94 sec. BPR loss is 6.65E+00. Sample per second: 44348\n"
     ]
    },
    {
     "name": "stdout",
     "output_type": "stream",
     "text": [
      "SLIM_BPR_Recommender: Epoch 268 of 650. Elapsed time 1.28 min\n"
     ]
    },
    {
     "name": "stdout",
     "output_type": "stream",
     "text": [
      "Processed 41637 (100.0%) in 1.20 sec. BPR loss is 6.42E+00. Sample per second: 34631\n"
     ]
    },
    {
     "name": "stdout",
     "output_type": "stream",
     "text": [
      "SLIM_BPR_Recommender: Epoch 269 of 650. Elapsed time 1.29 min\n"
     ]
    },
    {
     "name": "stdout",
     "output_type": "stream",
     "text": [
      "Processed 41637 (100.0%) in 0.47 sec. BPR loss is 6.25E+00. Sample per second: 88528\n"
     ]
    },
    {
     "name": "stdout",
     "output_type": "stream",
     "text": [
      "SLIM_BPR_Recommender: Epoch 270 of 650. Elapsed time 1.29 min\n"
     ]
    },
    {
     "name": "stdout",
     "output_type": "stream",
     "text": [
      "Processed 41637 (100.0%) in 0.74 sec. BPR loss is 6.48E+00. Sample per second: 56360\n"
     ]
    },
    {
     "name": "stdout",
     "output_type": "stream",
     "text": [
      "SLIM_BPR_Recommender: Epoch 271 of 650. Elapsed time 1.29 min\n"
     ]
    },
    {
     "name": "stdout",
     "output_type": "stream",
     "text": [
      "Processed 41637 (100.0%) in 1.01 sec. BPR loss is 6.32E+00. Sample per second: 41241\n"
     ]
    },
    {
     "name": "stdout",
     "output_type": "stream",
     "text": [
      "SLIM_BPR_Recommender: Epoch 272 of 650. Elapsed time 1.30 min\n"
     ]
    },
    {
     "name": "stdout",
     "output_type": "stream",
     "text": [
      "Processed 41637 (100.0%) in 0.28 sec. BPR loss is 6.75E+00. Sample per second: 147012\n"
     ]
    },
    {
     "name": "stdout",
     "output_type": "stream",
     "text": [
      "SLIM_BPR_Recommender: Epoch 273 of 650. Elapsed time 1.30 min\n"
     ]
    },
    {
     "name": "stdout",
     "output_type": "stream",
     "text": [
      "Processed 41637 (100.0%) in 0.55 sec. BPR loss is 6.45E+00. Sample per second: 75729\n"
     ]
    },
    {
     "name": "stdout",
     "output_type": "stream",
     "text": [
      "SLIM_BPR_Recommender: Epoch 274 of 650. Elapsed time 1.31 min\n"
     ]
    },
    {
     "name": "stdout",
     "output_type": "stream",
     "text": [
      "Processed 41637 (100.0%) in 0.83 sec. BPR loss is 6.41E+00. Sample per second: 50142\n"
     ]
    },
    {
     "name": "stdout",
     "output_type": "stream",
     "text": [
      "SLIM_BPR_Recommender: Epoch 275 of 650. Elapsed time 1.31 min\n"
     ]
    },
    {
     "name": "stdout",
     "output_type": "stream",
     "text": [
      "Processed 41637 (100.0%) in 1.11 sec. BPR loss is 6.48E+00. Sample per second: 37622\n"
     ]
    },
    {
     "name": "stdout",
     "output_type": "stream",
     "text": [
      "SLIM_BPR_Recommender: Epoch 276 of 650. Elapsed time 1.32 min\n"
     ]
    },
    {
     "name": "stdout",
     "output_type": "stream",
     "text": [
      "Processed 41637 (100.0%) in 0.38 sec. BPR loss is 6.61E+00. Sample per second: 110423\n"
     ]
    },
    {
     "name": "stdout",
     "output_type": "stream",
     "text": [
      "SLIM_BPR_Recommender: Epoch 277 of 650. Elapsed time 1.32 min\n"
     ]
    },
    {
     "name": "stdout",
     "output_type": "stream",
     "text": [
      "Processed 41637 (100.0%) in 0.64 sec. BPR loss is 6.91E+00. Sample per second: 64583\n"
     ]
    },
    {
     "name": "stdout",
     "output_type": "stream",
     "text": [
      "SLIM_BPR_Recommender: Epoch 278 of 650. Elapsed time 1.33 min\n"
     ]
    },
    {
     "name": "stdout",
     "output_type": "stream",
     "text": [
      "Processed 41637 (100.0%) in 0.91 sec. BPR loss is 6.79E+00. Sample per second: 45714\n"
     ]
    },
    {
     "name": "stdout",
     "output_type": "stream",
     "text": [
      "SLIM_BPR_Recommender: Epoch 279 of 650. Elapsed time 1.33 min\n"
     ]
    },
    {
     "name": "stdout",
     "output_type": "stream",
     "text": [
      "Processed 41637 (100.0%) in 1.18 sec. BPR loss is 6.87E+00. Sample per second: 35302\n"
     ]
    },
    {
     "name": "stdout",
     "output_type": "stream",
     "text": [
      "SLIM_BPR_Recommender: Epoch 280 of 650. Elapsed time 1.34 min\n"
     ]
    },
    {
     "name": "stdout",
     "output_type": "stream",
     "text": [
      "Processed 41637 (100.0%) in 0.45 sec. BPR loss is 6.59E+00. Sample per second: 91759\n"
     ]
    },
    {
     "name": "stdout",
     "output_type": "stream",
     "text": [
      "SLIM_BPR_Recommender: Epoch 281 of 650. Elapsed time 1.34 min\n"
     ]
    },
    {
     "name": "stdout",
     "output_type": "stream",
     "text": [
      "Processed 41637 (100.0%) in 0.73 sec. BPR loss is 6.65E+00. Sample per second: 57127\n"
     ]
    },
    {
     "name": "stdout",
     "output_type": "stream",
     "text": [
      "SLIM_BPR_Recommender: Epoch 282 of 650. Elapsed time 1.34 min\n"
     ]
    },
    {
     "name": "stdout",
     "output_type": "stream",
     "text": [
      "Processed 41637 (100.0%) in 1.01 sec. BPR loss is 6.78E+00. Sample per second: 41401\n"
     ]
    },
    {
     "name": "stdout",
     "output_type": "stream",
     "text": [
      "SLIM_BPR_Recommender: Epoch 283 of 650. Elapsed time 1.35 min\n"
     ]
    },
    {
     "name": "stdout",
     "output_type": "stream",
     "text": [
      "Processed 41637 (100.0%) in 0.28 sec. BPR loss is 6.41E+00. Sample per second: 149286\n"
     ]
    },
    {
     "name": "stdout",
     "output_type": "stream",
     "text": [
      "SLIM_BPR_Recommender: Epoch 284 of 650. Elapsed time 1.35 min\n"
     ]
    },
    {
     "name": "stdout",
     "output_type": "stream",
     "text": [
      "Processed 41637 (100.0%) in 0.54 sec. BPR loss is 6.67E+00. Sample per second: 76494\n"
     ]
    },
    {
     "name": "stdout",
     "output_type": "stream",
     "text": [
      "SLIM_BPR_Recommender: Epoch 285 of 650. Elapsed time 1.36 min\n"
     ]
    },
    {
     "name": "stdout",
     "output_type": "stream",
     "text": [
      "Processed 41637 (100.0%) in 0.82 sec. BPR loss is 6.63E+00. Sample per second: 50890\n"
     ]
    },
    {
     "name": "stdout",
     "output_type": "stream",
     "text": [
      "SLIM_BPR_Recommender: Epoch 286 of 650. Elapsed time 1.36 min\n"
     ]
    },
    {
     "name": "stdout",
     "output_type": "stream",
     "text": [
      "Processed 41637 (100.0%) in 1.09 sec. BPR loss is 6.70E+00. Sample per second: 38134\n"
     ]
    },
    {
     "name": "stdout",
     "output_type": "stream",
     "text": [
      "SLIM_BPR_Recommender: Epoch 287 of 650. Elapsed time 1.37 min\n"
     ]
    },
    {
     "name": "stdout",
     "output_type": "stream",
     "text": [
      "Processed 41637 (100.0%) in 0.39 sec. BPR loss is 6.66E+00. Sample per second: 107420\n"
     ]
    },
    {
     "name": "stdout",
     "output_type": "stream",
     "text": [
      "SLIM_BPR_Recommender: Epoch 288 of 650. Elapsed time 1.37 min\n"
     ]
    },
    {
     "name": "stdout",
     "output_type": "stream",
     "text": [
      "Processed 41637 (100.0%) in 0.66 sec. BPR loss is 6.65E+00. Sample per second: 63205\n"
     ]
    },
    {
     "name": "stdout",
     "output_type": "stream",
     "text": [
      "SLIM_BPR_Recommender: Epoch 289 of 650. Elapsed time 1.38 min\n"
     ]
    },
    {
     "name": "stdout",
     "output_type": "stream",
     "text": [
      "Processed 41637 (100.0%) in 0.93 sec. BPR loss is 6.88E+00. Sample per second: 44933\n"
     ]
    },
    {
     "name": "stdout",
     "output_type": "stream",
     "text": [
      "SLIM_BPR_Recommender: Epoch 290 of 650. Elapsed time 1.38 min\n"
     ]
    },
    {
     "name": "stdout",
     "output_type": "stream",
     "text": [
      "Processed 41637 (100.0%) in 1.21 sec. BPR loss is 6.83E+00. Sample per second: 34515\n"
     ]
    },
    {
     "name": "stdout",
     "output_type": "stream",
     "text": [
      "SLIM_BPR_Recommender: Epoch 291 of 650. Elapsed time 1.39 min\n"
     ]
    },
    {
     "name": "stdout",
     "output_type": "stream",
     "text": [
      "Processed 41637 (100.0%) in 0.49 sec. BPR loss is 6.77E+00. Sample per second: 84635\n"
     ]
    },
    {
     "name": "stdout",
     "output_type": "stream",
     "text": [
      "SLIM_BPR_Recommender: Epoch 292 of 650. Elapsed time 1.39 min\n"
     ]
    },
    {
     "name": "stdout",
     "output_type": "stream",
     "text": [
      "Processed 41637 (100.0%) in 0.75 sec. BPR loss is 6.80E+00. Sample per second: 55466\n"
     ]
    },
    {
     "name": "stdout",
     "output_type": "stream",
     "text": [
      "SLIM_BPR_Recommender: Epoch 293 of 650. Elapsed time 1.39 min\n"
     ]
    },
    {
     "name": "stdout",
     "output_type": "stream",
     "text": [
      "Processed 41637 (100.0%) in 1.01 sec. BPR loss is 6.84E+00. Sample per second: 41203\n"
     ]
    },
    {
     "name": "stdout",
     "output_type": "stream",
     "text": [
      "SLIM_BPR_Recommender: Epoch 294 of 650. Elapsed time 1.40 min\n"
     ]
    },
    {
     "name": "stdout",
     "output_type": "stream",
     "text": [
      "Processed 41637 (100.0%) in 0.28 sec. BPR loss is 6.89E+00. Sample per second: 147602\n"
     ]
    },
    {
     "name": "stdout",
     "output_type": "stream",
     "text": [
      "SLIM_BPR_Recommender: Epoch 295 of 650. Elapsed time 1.40 min\n"
     ]
    },
    {
     "name": "stdout",
     "output_type": "stream",
     "text": [
      "Processed 41637 (100.0%) in 0.55 sec. BPR loss is 6.84E+00. Sample per second: 75473\n"
     ]
    },
    {
     "name": "stdout",
     "output_type": "stream",
     "text": [
      "SLIM_BPR_Recommender: Epoch 296 of 650. Elapsed time 1.41 min\n"
     ]
    },
    {
     "name": "stdout",
     "output_type": "stream",
     "text": [
      "Processed 41637 (100.0%) in 0.81 sec. BPR loss is 7.01E+00. Sample per second: 51132\n"
     ]
    },
    {
     "name": "stdout",
     "output_type": "stream",
     "text": [
      "SLIM_BPR_Recommender: Epoch 297 of 650. Elapsed time 1.41 min\n"
     ]
    },
    {
     "name": "stdout",
     "output_type": "stream",
     "text": [
      "Processed 41637 (100.0%) in 1.09 sec. BPR loss is 6.72E+00. Sample per second: 38239\n"
     ]
    },
    {
     "name": "stdout",
     "output_type": "stream",
     "text": [
      "SLIM_BPR_Recommender: Epoch 298 of 650. Elapsed time 1.42 min\n"
     ]
    },
    {
     "name": "stdout",
     "output_type": "stream",
     "text": [
      "Processed 41637 (100.0%) in 0.36 sec. BPR loss is 7.12E+00. Sample per second: 114994\n"
     ]
    },
    {
     "name": "stdout",
     "output_type": "stream",
     "text": [
      "SLIM_BPR_Recommender: Epoch 299 of 650. Elapsed time 1.42 min\n"
     ]
    },
    {
     "name": "stdout",
     "output_type": "stream",
     "text": [
      "Processed 41637 (100.0%) in 0.67 sec. BPR loss is 6.92E+00. Sample per second: 62050\n"
     ]
    },
    {
     "name": "stdout",
     "output_type": "stream",
     "text": [
      "SLIM_BPR_Recommender: Epoch 300 of 650. Elapsed time 1.43 min\n"
     ]
    },
    {
     "name": "stdout",
     "output_type": "stream",
     "text": [
      "Processed 41637 (100.0%) in 0.97 sec. BPR loss is 6.87E+00. Sample per second: 42799\n"
     ]
    },
    {
     "name": "stdout",
     "output_type": "stream",
     "text": [
      "SLIM_BPR_Recommender: Epoch 301 of 650. Elapsed time 1.43 min\n"
     ]
    },
    {
     "name": "stdout",
     "output_type": "stream",
     "text": [
      "Processed 41637 (100.0%) in 1.24 sec. BPR loss is 7.19E+00. Sample per second: 33679\n"
     ]
    },
    {
     "name": "stdout",
     "output_type": "stream",
     "text": [
      "SLIM_BPR_Recommender: Epoch 302 of 650. Elapsed time 1.44 min\n"
     ]
    },
    {
     "name": "stdout",
     "output_type": "stream",
     "text": [
      "Processed 41637 (100.0%) in 0.51 sec. BPR loss is 7.14E+00. Sample per second: 81698\n"
     ]
    },
    {
     "name": "stdout",
     "output_type": "stream",
     "text": [
      "SLIM_BPR_Recommender: Epoch 303 of 650. Elapsed time 1.44 min\n"
     ]
    },
    {
     "name": "stdout",
     "output_type": "stream",
     "text": [
      "Processed 41637 (100.0%) in 0.78 sec. BPR loss is 6.98E+00. Sample per second: 53379\n"
     ]
    },
    {
     "name": "stdout",
     "output_type": "stream",
     "text": [
      "SLIM_BPR_Recommender: Epoch 304 of 650. Elapsed time 1.45 min\n"
     ]
    },
    {
     "name": "stdout",
     "output_type": "stream",
     "text": [
      "Processed 41637 (100.0%) in 1.04 sec. BPR loss is 6.87E+00. Sample per second: 39874\n"
     ]
    },
    {
     "name": "stdout",
     "output_type": "stream",
     "text": [
      "SLIM_BPR_Recommender: Epoch 305 of 650. Elapsed time 1.45 min\n"
     ]
    },
    {
     "name": "stdout",
     "output_type": "stream",
     "text": [
      "Processed 41637 (100.0%) in 0.32 sec. BPR loss is 7.09E+00. Sample per second: 127975\n"
     ]
    },
    {
     "name": "stdout",
     "output_type": "stream",
     "text": [
      "SLIM_BPR_Recommender: Epoch 306 of 650. Elapsed time 1.45 min\n"
     ]
    },
    {
     "name": "stdout",
     "output_type": "stream",
     "text": [
      "Processed 41637 (100.0%) in 0.60 sec. BPR loss is 7.00E+00. Sample per second: 69448\n"
     ]
    },
    {
     "name": "stdout",
     "output_type": "stream",
     "text": [
      "SLIM_BPR_Recommender: Epoch 307 of 650. Elapsed time 1.46 min\n"
     ]
    },
    {
     "name": "stdout",
     "output_type": "stream",
     "text": [
      "Processed 41637 (100.0%) in 0.86 sec. BPR loss is 6.92E+00. Sample per second: 48320\n"
     ]
    },
    {
     "name": "stdout",
     "output_type": "stream",
     "text": [
      "SLIM_BPR_Recommender: Epoch 308 of 650. Elapsed time 1.46 min\n"
     ]
    },
    {
     "name": "stdout",
     "output_type": "stream",
     "text": [
      "Processed 41637 (100.0%) in 1.12 sec. BPR loss is 7.14E+00. Sample per second: 37075\n"
     ]
    },
    {
     "name": "stdout",
     "output_type": "stream",
     "text": [
      "SLIM_BPR_Recommender: Epoch 309 of 650. Elapsed time 1.47 min\n"
     ]
    },
    {
     "name": "stdout",
     "output_type": "stream",
     "text": [
      "Processed 41637 (100.0%) in 0.39 sec. BPR loss is 6.98E+00. Sample per second: 106216\n"
     ]
    },
    {
     "name": "stdout",
     "output_type": "stream",
     "text": [
      "SLIM_BPR_Recommender: Epoch 310 of 650. Elapsed time 1.47 min\n"
     ]
    },
    {
     "name": "stdout",
     "output_type": "stream",
     "text": [
      "Processed 41637 (100.0%) in 0.66 sec. BPR loss is 6.74E+00. Sample per second: 62910\n"
     ]
    },
    {
     "name": "stdout",
     "output_type": "stream",
     "text": [
      "SLIM_BPR_Recommender: Epoch 311 of 650. Elapsed time 1.48 min\n"
     ]
    },
    {
     "name": "stdout",
     "output_type": "stream",
     "text": [
      "Processed 41637 (100.0%) in 0.94 sec. BPR loss is 7.19E+00. Sample per second: 44287\n"
     ]
    },
    {
     "name": "stdout",
     "output_type": "stream",
     "text": [
      "SLIM_BPR_Recommender: Epoch 312 of 650. Elapsed time 1.48 min\n"
     ]
    },
    {
     "name": "stdout",
     "output_type": "stream",
     "text": [
      "Processed 41637 (100.0%) in 1.21 sec. BPR loss is 7.08E+00. Sample per second: 34433\n"
     ]
    },
    {
     "name": "stdout",
     "output_type": "stream",
     "text": [
      "SLIM_BPR_Recommender: Epoch 313 of 650. Elapsed time 1.49 min\n"
     ]
    },
    {
     "name": "stdout",
     "output_type": "stream",
     "text": [
      "Processed 41637 (100.0%) in 0.48 sec. BPR loss is 6.98E+00. Sample per second: 86280\n"
     ]
    },
    {
     "name": "stdout",
     "output_type": "stream",
     "text": [
      "SLIM_BPR_Recommender: Epoch 314 of 650. Elapsed time 1.49 min\n"
     ]
    },
    {
     "name": "stdout",
     "output_type": "stream",
     "text": [
      "Processed 41637 (100.0%) in 0.75 sec. BPR loss is 7.00E+00. Sample per second: 55439\n"
     ]
    },
    {
     "name": "stdout",
     "output_type": "stream",
     "text": [
      "SLIM_BPR_Recommender: Epoch 315 of 650. Elapsed time 1.49 min\n"
     ]
    },
    {
     "name": "stdout",
     "output_type": "stream",
     "text": [
      "Processed 41637 (100.0%) in 1.05 sec. BPR loss is 7.14E+00. Sample per second: 39785\n"
     ]
    },
    {
     "name": "stdout",
     "output_type": "stream",
     "text": [
      "SLIM_BPR_Recommender: Epoch 316 of 650. Elapsed time 1.50 min\n"
     ]
    },
    {
     "name": "stdout",
     "output_type": "stream",
     "text": [
      "Processed 41637 (100.0%) in 0.32 sec. BPR loss is 6.95E+00. Sample per second: 131613\n"
     ]
    },
    {
     "name": "stdout",
     "output_type": "stream",
     "text": [
      "SLIM_BPR_Recommender: Epoch 317 of 650. Elapsed time 1.50 min\n"
     ]
    },
    {
     "name": "stdout",
     "output_type": "stream",
     "text": [
      "Processed 41637 (100.0%) in 0.59 sec. BPR loss is 6.88E+00. Sample per second: 70668\n"
     ]
    },
    {
     "name": "stdout",
     "output_type": "stream",
     "text": [
      "SLIM_BPR_Recommender: Epoch 318 of 650. Elapsed time 1.51 min\n"
     ]
    },
    {
     "name": "stdout",
     "output_type": "stream",
     "text": [
      "Processed 41637 (100.0%) in 0.86 sec. BPR loss is 7.19E+00. Sample per second: 48434\n"
     ]
    },
    {
     "name": "stdout",
     "output_type": "stream",
     "text": [
      "SLIM_BPR_Recommender: Epoch 319 of 650. Elapsed time 1.51 min\n"
     ]
    },
    {
     "name": "stdout",
     "output_type": "stream",
     "text": [
      "Processed 41637 (100.0%) in 1.13 sec. BPR loss is 7.29E+00. Sample per second: 36985\n"
     ]
    },
    {
     "name": "stdout",
     "output_type": "stream",
     "text": [
      "SLIM_BPR_Recommender: Epoch 320 of 650. Elapsed time 1.52 min\n"
     ]
    },
    {
     "name": "stdout",
     "output_type": "stream",
     "text": [
      "Processed 41637 (100.0%) in 0.39 sec. BPR loss is 7.29E+00. Sample per second: 107032\n"
     ]
    },
    {
     "name": "stdout",
     "output_type": "stream",
     "text": [
      "SLIM_BPR_Recommender: Epoch 321 of 650. Elapsed time 1.52 min\n"
     ]
    },
    {
     "name": "stdout",
     "output_type": "stream",
     "text": [
      "Processed 41637 (100.0%) in 0.67 sec. BPR loss is 7.43E+00. Sample per second: 62222\n"
     ]
    },
    {
     "name": "stdout",
     "output_type": "stream",
     "text": [
      "SLIM_BPR_Recommender: Epoch 322 of 650. Elapsed time 1.53 min\n"
     ]
    },
    {
     "name": "stdout",
     "output_type": "stream",
     "text": [
      "Processed 41637 (100.0%) in 0.94 sec. BPR loss is 7.26E+00. Sample per second: 44324\n"
     ]
    },
    {
     "name": "stdout",
     "output_type": "stream",
     "text": [
      "SLIM_BPR_Recommender: Epoch 323 of 650. Elapsed time 1.53 min\n"
     ]
    },
    {
     "name": "stdout",
     "output_type": "stream",
     "text": [
      "Processed 41637 (100.0%) in 1.22 sec. BPR loss is 7.28E+00. Sample per second: 34219\n"
     ]
    },
    {
     "name": "stdout",
     "output_type": "stream",
     "text": [
      "SLIM_BPR_Recommender: Epoch 324 of 650. Elapsed time 1.54 min\n"
     ]
    },
    {
     "name": "stdout",
     "output_type": "stream",
     "text": [
      "Processed 41637 (100.0%) in 0.48 sec. BPR loss is 6.96E+00. Sample per second: 86275\n"
     ]
    },
    {
     "name": "stdout",
     "output_type": "stream",
     "text": [
      "SLIM_BPR_Recommender: Epoch 325 of 650. Elapsed time 1.54 min\n"
     ]
    },
    {
     "name": "stdout",
     "output_type": "stream",
     "text": [
      "Processed 41637 (100.0%) in 0.76 sec. BPR loss is 7.26E+00. Sample per second: 54894\n"
     ]
    },
    {
     "name": "stdout",
     "output_type": "stream",
     "text": [
      "SLIM_BPR_Recommender: Epoch 326 of 650. Elapsed time 1.54 min\n"
     ]
    },
    {
     "name": "stdout",
     "output_type": "stream",
     "text": [
      "Processed 41637 (100.0%) in 1.02 sec. BPR loss is 7.30E+00. Sample per second: 40934\n"
     ]
    },
    {
     "name": "stdout",
     "output_type": "stream",
     "text": [
      "SLIM_BPR_Recommender: Epoch 327 of 650. Elapsed time 1.55 min\n"
     ]
    },
    {
     "name": "stdout",
     "output_type": "stream",
     "text": [
      "Processed 41637 (100.0%) in 0.30 sec. BPR loss is 7.13E+00. Sample per second: 141013"
     ]
    },
    {
     "name": "stdout",
     "output_type": "stream",
     "text": [
      "\n"
     ]
    },
    {
     "name": "stdout",
     "output_type": "stream",
     "text": [
      "SLIM_BPR_Recommender: Epoch 328 of 650. Elapsed time 1.55 min\n"
     ]
    },
    {
     "name": "stdout",
     "output_type": "stream",
     "text": [
      "Processed 41637 (100.0%) in 0.57 sec. BPR loss is 7.47E+00. Sample per second: 73389\n"
     ]
    },
    {
     "name": "stdout",
     "output_type": "stream",
     "text": [
      "SLIM_BPR_Recommender: Epoch 329 of 650. Elapsed time 1.56 min\n"
     ]
    },
    {
     "name": "stdout",
     "output_type": "stream",
     "text": [
      "Processed 41637 (100.0%) in 0.83 sec. BPR loss is 7.47E+00. Sample per second: 50026\n"
     ]
    },
    {
     "name": "stdout",
     "output_type": "stream",
     "text": [
      "SLIM_BPR_Recommender: Epoch 330 of 650. Elapsed time 1.56 min\n"
     ]
    },
    {
     "name": "stdout",
     "output_type": "stream",
     "text": [
      "Processed 41637 (100.0%) in 1.09 sec. BPR loss is 7.16E+00. Sample per second: 38055\n"
     ]
    },
    {
     "name": "stdout",
     "output_type": "stream",
     "text": [
      "SLIM_BPR_Recommender: Epoch 331 of 650. Elapsed time 1.57 min\n"
     ]
    },
    {
     "name": "stdout",
     "output_type": "stream",
     "text": [
      "Processed 41637 (100.0%) in 0.36 sec. BPR loss is 7.56E+00. Sample per second: 116913\n"
     ]
    },
    {
     "name": "stdout",
     "output_type": "stream",
     "text": [
      "SLIM_BPR_Recommender: Epoch 332 of 650. Elapsed time 1.57 min\n"
     ]
    },
    {
     "name": "stdout",
     "output_type": "stream",
     "text": [
      "Processed 41637 (100.0%) in 0.62 sec. BPR loss is 7.42E+00. Sample per second: 66996\n"
     ]
    },
    {
     "name": "stdout",
     "output_type": "stream",
     "text": [
      "SLIM_BPR_Recommender: Epoch 333 of 650. Elapsed time 1.58 min\n"
     ]
    },
    {
     "name": "stdout",
     "output_type": "stream",
     "text": [
      "Processed 41637 (100.0%) in 0.88 sec. BPR loss is 7.44E+00. Sample per second: 47253\n"
     ]
    },
    {
     "name": "stdout",
     "output_type": "stream",
     "text": [
      "SLIM_BPR_Recommender: Epoch 334 of 650. Elapsed time 1.58 min\n"
     ]
    },
    {
     "name": "stdout",
     "output_type": "stream",
     "text": [
      "Processed 41637 (100.0%) in 1.15 sec. BPR loss is 7.50E+00. Sample per second: 36217\n"
     ]
    },
    {
     "name": "stdout",
     "output_type": "stream",
     "text": [
      "SLIM_BPR_Recommender: Epoch 335 of 650. Elapsed time 1.58 min\n"
     ]
    },
    {
     "name": "stdout",
     "output_type": "stream",
     "text": [
      "Processed 41637 (100.0%) in 0.43 sec. BPR loss is 7.33E+00. Sample per second: 97129\n"
     ]
    },
    {
     "name": "stdout",
     "output_type": "stream",
     "text": [
      "SLIM_BPR_Recommender: Epoch 336 of 650. Elapsed time 1.59 min\n"
     ]
    },
    {
     "name": "stdout",
     "output_type": "stream",
     "text": [
      "Processed 41637 (100.0%) in 0.70 sec. BPR loss is 7.50E+00. Sample per second: 59893\n"
     ]
    },
    {
     "name": "stdout",
     "output_type": "stream",
     "text": [
      "SLIM_BPR_Recommender: Epoch 337 of 650. Elapsed time 1.59 min\n"
     ]
    },
    {
     "name": "stdout",
     "output_type": "stream",
     "text": [
      "Processed 41637 (100.0%) in 0.96 sec. BPR loss is 7.51E+00. Sample per second: 43176\n"
     ]
    },
    {
     "name": "stdout",
     "output_type": "stream",
     "text": [
      "SLIM_BPR_Recommender: Epoch 338 of 650. Elapsed time 1.60 min\n"
     ]
    },
    {
     "name": "stdout",
     "output_type": "stream",
     "text": [
      "Processed 41637 (100.0%) in 1.24 sec. BPR loss is 7.51E+00. Sample per second: 33577\n"
     ]
    },
    {
     "name": "stdout",
     "output_type": "stream",
     "text": [
      "SLIM_BPR_Recommender: Epoch 339 of 650. Elapsed time 1.60 min\n"
     ]
    },
    {
     "name": "stdout",
     "output_type": "stream",
     "text": [
      "Processed 41637 (100.0%) in 0.51 sec. BPR loss is 7.34E+00. Sample per second: 81397\n"
     ]
    },
    {
     "name": "stdout",
     "output_type": "stream",
     "text": [
      "SLIM_BPR_Recommender: Epoch 340 of 650. Elapsed time 1.61 min\n"
     ]
    },
    {
     "name": "stdout",
     "output_type": "stream",
     "text": [
      "Processed 41637 (100.0%) in 0.78 sec. BPR loss is 7.45E+00. Sample per second: 53327\n"
     ]
    },
    {
     "name": "stdout",
     "output_type": "stream",
     "text": [
      "SLIM_BPR_Recommender: Epoch 341 of 650. Elapsed time 1.61 min\n"
     ]
    },
    {
     "name": "stdout",
     "output_type": "stream",
     "text": [
      "Processed 41637 (100.0%) in 1.04 sec. BPR loss is 7.63E+00. Sample per second: 40071\n"
     ]
    },
    {
     "name": "stdout",
     "output_type": "stream",
     "text": [
      "SLIM_BPR_Recommender: Epoch 342 of 650. Elapsed time 1.62 min\n"
     ]
    },
    {
     "name": "stdout",
     "output_type": "stream",
     "text": [
      "Processed 41637 (100.0%) in 0.30 sec. BPR loss is 7.42E+00. Sample per second: 137553\n"
     ]
    },
    {
     "name": "stdout",
     "output_type": "stream",
     "text": [
      "SLIM_BPR_Recommender: Epoch 343 of 650. Elapsed time 1.62 min\n"
     ]
    },
    {
     "name": "stdout",
     "output_type": "stream",
     "text": [
      "Processed 41637 (100.0%) in 0.58 sec. BPR loss is 7.54E+00. Sample per second: 72309\n"
     ]
    },
    {
     "name": "stdout",
     "output_type": "stream",
     "text": [
      "SLIM_BPR_Recommender: Epoch 344 of 650. Elapsed time 1.63 min\n"
     ]
    },
    {
     "name": "stdout",
     "output_type": "stream",
     "text": [
      "Processed 41637 (100.0%) in 0.84 sec. BPR loss is 7.80E+00. Sample per second: 49468\n"
     ]
    },
    {
     "name": "stdout",
     "output_type": "stream",
     "text": [
      "SLIM_BPR_Recommender: Epoch 345 of 650. Elapsed time 1.63 min\n"
     ]
    },
    {
     "name": "stdout",
     "output_type": "stream",
     "text": [
      "Processed 41637 (100.0%) in 1.11 sec. BPR loss is 7.68E+00. Sample per second: 37477\n"
     ]
    },
    {
     "name": "stdout",
     "output_type": "stream",
     "text": [
      "SLIM_BPR_Recommender: Epoch 346 of 650. Elapsed time 1.63 min\n"
     ]
    },
    {
     "name": "stdout",
     "output_type": "stream",
     "text": [
      "Processed 41637 (100.0%) in 0.38 sec. BPR loss is 7.38E+00. Sample per second: 109613\n"
     ]
    },
    {
     "name": "stdout",
     "output_type": "stream",
     "text": [
      "SLIM_BPR_Recommender: Epoch 347 of 650. Elapsed time 1.64 min\n"
     ]
    },
    {
     "name": "stdout",
     "output_type": "stream",
     "text": [
      "Processed 41637 (100.0%) in 0.65 sec. BPR loss is 7.47E+00. Sample per second: 63848\n"
     ]
    },
    {
     "name": "stdout",
     "output_type": "stream",
     "text": [
      "SLIM_BPR_Recommender: Epoch 348 of 650. Elapsed time 1.64 min\n"
     ]
    },
    {
     "name": "stdout",
     "output_type": "stream",
     "text": [
      "Processed 41637 (100.0%) in 0.92 sec. BPR loss is 7.47E+00. Sample per second: 45467\n"
     ]
    },
    {
     "name": "stdout",
     "output_type": "stream",
     "text": [
      "SLIM_BPR_Recommender: Epoch 349 of 650. Elapsed time 1.65 min\n"
     ]
    },
    {
     "name": "stdout",
     "output_type": "stream",
     "text": [
      "Processed 41637 (100.0%) in 1.18 sec. BPR loss is 7.57E+00. Sample per second: 35220\n"
     ]
    },
    {
     "name": "stdout",
     "output_type": "stream",
     "text": [
      "SLIM_BPR_Recommender: Epoch 350 of 650. Elapsed time 1.65 min\n"
     ]
    },
    {
     "name": "stdout",
     "output_type": "stream",
     "text": [
      "Processed 41637 (100.0%) in 0.46 sec. BPR loss is 7.61E+00. Sample per second: 91167\n"
     ]
    },
    {
     "name": "stdout",
     "output_type": "stream",
     "text": [
      "SLIM_BPR_Recommender: Epoch 351 of 650. Elapsed time 1.66 min\n"
     ]
    },
    {
     "name": "stdout",
     "output_type": "stream",
     "text": [
      "Processed 41637 (100.0%) in 0.73 sec. BPR loss is 7.64E+00. Sample per second: 57278\n"
     ]
    },
    {
     "name": "stdout",
     "output_type": "stream",
     "text": [
      "SLIM_BPR_Recommender: Epoch 352 of 650. Elapsed time 1.66 min\n"
     ]
    },
    {
     "name": "stdout",
     "output_type": "stream",
     "text": [
      "Processed 41637 (100.0%) in 0.99 sec. BPR loss is 7.63E+00. Sample per second: 41833\n"
     ]
    },
    {
     "name": "stdout",
     "output_type": "stream",
     "text": [
      "SLIM_BPR_Recommender: Epoch 353 of 650. Elapsed time 1.67 min\n"
     ]
    },
    {
     "name": "stdout",
     "output_type": "stream",
     "text": [
      "Processed 41637 (100.0%) in 1.26 sec. BPR loss is 7.82E+00. Sample per second: 33056\n"
     ]
    },
    {
     "name": "stdout",
     "output_type": "stream",
     "text": [
      "SLIM_BPR_Recommender: Epoch 354 of 650. Elapsed time 1.67 min\n"
     ]
    },
    {
     "name": "stdout",
     "output_type": "stream",
     "text": [
      "Processed 41637 (100.0%) in 0.53 sec. BPR loss is 7.70E+00. Sample per second: 77880\n"
     ]
    },
    {
     "name": "stdout",
     "output_type": "stream",
     "text": [
      "SLIM_BPR_Recommender: Epoch 355 of 650. Elapsed time 1.67 min\n"
     ]
    },
    {
     "name": "stdout",
     "output_type": "stream",
     "text": [
      "Processed 41637 (100.0%) in 0.85 sec. BPR loss is 7.76E+00. Sample per second: 49068\n"
     ]
    },
    {
     "name": "stdout",
     "output_type": "stream",
     "text": [
      "SLIM_BPR_Recommender: Epoch 356 of 650. Elapsed time 1.68 min\n"
     ]
    },
    {
     "name": "stdout",
     "output_type": "stream",
     "text": [
      "Processed 41637 (100.0%) in 1.13 sec. BPR loss is 7.53E+00. Sample per second: 36924\n"
     ]
    },
    {
     "name": "stdout",
     "output_type": "stream",
     "text": [
      "SLIM_BPR_Recommender: Epoch 357 of 650. Elapsed time 1.68 min\n"
     ]
    },
    {
     "name": "stdout",
     "output_type": "stream",
     "text": [
      "Processed 41637 (100.0%) in 0.40 sec. BPR loss is 7.62E+00. Sample per second: 104060\n"
     ]
    },
    {
     "name": "stdout",
     "output_type": "stream",
     "text": [
      "SLIM_BPR_Recommender: Epoch 358 of 650. Elapsed time 1.69 min\n"
     ]
    },
    {
     "name": "stdout",
     "output_type": "stream",
     "text": [
      "Processed 41637 (100.0%) in 0.66 sec. BPR loss is 7.78E+00. Sample per second: 62674\n"
     ]
    },
    {
     "name": "stdout",
     "output_type": "stream",
     "text": [
      "SLIM_BPR_Recommender: Epoch 359 of 650. Elapsed time 1.69 min\n"
     ]
    },
    {
     "name": "stdout",
     "output_type": "stream",
     "text": [
      "Processed 41637 (100.0%) in 0.93 sec. BPR loss is 7.57E+00. Sample per second: 44613"
     ]
    },
    {
     "name": "stdout",
     "output_type": "stream",
     "text": [
      "\n"
     ]
    },
    {
     "name": "stdout",
     "output_type": "stream",
     "text": [
      "SLIM_BPR_Recommender: Epoch 360 of 650. Elapsed time 1.70 min\n"
     ]
    },
    {
     "name": "stdout",
     "output_type": "stream",
     "text": [
      "Processed 41637 (100.0%) in 1.21 sec. BPR loss is 7.89E+00. Sample per second: 34430\n"
     ]
    },
    {
     "name": "stdout",
     "output_type": "stream",
     "text": [
      "SLIM_BPR_Recommender: Epoch 361 of 650. Elapsed time 1.70 min\n"
     ]
    },
    {
     "name": "stdout",
     "output_type": "stream",
     "text": [
      "Processed 41637 (100.0%) in 0.48 sec. BPR loss is 8.02E+00. Sample per second: 85854\n"
     ]
    },
    {
     "name": "stdout",
     "output_type": "stream",
     "text": [
      "SLIM_BPR_Recommender: Epoch 362 of 650. Elapsed time 1.71 min\n"
     ]
    },
    {
     "name": "stdout",
     "output_type": "stream",
     "text": [
      "Processed 41637 (100.0%) in 0.76 sec. BPR loss is 7.66E+00. Sample per second: 55090\n"
     ]
    },
    {
     "name": "stdout",
     "output_type": "stream",
     "text": [
      "SLIM_BPR_Recommender: Epoch 363 of 650. Elapsed time 1.71 min\n"
     ]
    },
    {
     "name": "stdout",
     "output_type": "stream",
     "text": [
      "Processed 41637 (100.0%) in 1.03 sec. BPR loss is 7.82E+00. Sample per second: 40484\n"
     ]
    },
    {
     "name": "stdout",
     "output_type": "stream",
     "text": [
      "SLIM_BPR_Recommender: Epoch 364 of 650. Elapsed time 1.72 min\n"
     ]
    },
    {
     "name": "stdout",
     "output_type": "stream",
     "text": [
      "Processed 41637 (100.0%) in 0.31 sec. BPR loss is 7.80E+00. Sample per second: 134493\n"
     ]
    },
    {
     "name": "stdout",
     "output_type": "stream",
     "text": [
      "SLIM_BPR_Recommender: Epoch 365 of 650. Elapsed time 1.72 min\n"
     ]
    },
    {
     "name": "stdout",
     "output_type": "stream",
     "text": [
      "Processed 41637 (100.0%) in 0.59 sec. BPR loss is 7.75E+00. Sample per second: 70878\n"
     ]
    },
    {
     "name": "stdout",
     "output_type": "stream",
     "text": [
      "SLIM_BPR_Recommender: Epoch 366 of 650. Elapsed time 1.73 min\n"
     ]
    },
    {
     "name": "stdout",
     "output_type": "stream",
     "text": [
      "Processed 41637 (100.0%) in 0.85 sec. BPR loss is 7.89E+00. Sample per second: 48736\n"
     ]
    },
    {
     "name": "stdout",
     "output_type": "stream",
     "text": [
      "SLIM_BPR_Recommender: Epoch 367 of 650. Elapsed time 1.73 min\n"
     ]
    },
    {
     "name": "stdout",
     "output_type": "stream",
     "text": [
      "Processed 41637 (100.0%) in 1.13 sec. BPR loss is 7.89E+00. Sample per second: 36923\n"
     ]
    },
    {
     "name": "stdout",
     "output_type": "stream",
     "text": [
      "SLIM_BPR_Recommender: Epoch 368 of 650. Elapsed time 1.73 min\n"
     ]
    },
    {
     "name": "stdout",
     "output_type": "stream",
     "text": [
      "Processed 41637 (100.0%) in 0.41 sec. BPR loss is 7.86E+00. Sample per second: 101356\n"
     ]
    },
    {
     "name": "stdout",
     "output_type": "stream",
     "text": [
      "SLIM_BPR_Recommender: Epoch 369 of 650. Elapsed time 1.74 min\n"
     ]
    },
    {
     "name": "stdout",
     "output_type": "stream",
     "text": [
      "Processed 41637 (100.0%) in 0.68 sec. BPR loss is 7.48E+00. Sample per second: 61228\n"
     ]
    },
    {
     "name": "stdout",
     "output_type": "stream",
     "text": [
      "SLIM_BPR_Recommender: Epoch 370 of 650. Elapsed time 1.74 min\n"
     ]
    },
    {
     "name": "stdout",
     "output_type": "stream",
     "text": [
      "Processed 41637 (100.0%) in 0.95 sec. BPR loss is 7.86E+00. Sample per second: 44010\n"
     ]
    },
    {
     "name": "stdout",
     "output_type": "stream",
     "text": [
      "SLIM_BPR_Recommender: Epoch 371 of 650. Elapsed time 1.75 min\n"
     ]
    },
    {
     "name": "stdout",
     "output_type": "stream",
     "text": [
      "Processed 41637 (100.0%) in 1.21 sec. BPR loss is 7.61E+00. Sample per second: 34411\n"
     ]
    },
    {
     "name": "stdout",
     "output_type": "stream",
     "text": [
      "SLIM_BPR_Recommender: Epoch 372 of 650. Elapsed time 1.75 min\n"
     ]
    },
    {
     "name": "stdout",
     "output_type": "stream",
     "text": [
      "Processed 41637 (100.0%) in 0.49 sec. BPR loss is 7.85E+00. Sample per second: 84968\n"
     ]
    },
    {
     "name": "stdout",
     "output_type": "stream",
     "text": [
      "SLIM_BPR_Recommender: Epoch 373 of 650. Elapsed time 1.76 min\n"
     ]
    },
    {
     "name": "stdout",
     "output_type": "stream",
     "text": [
      "Processed 41637 (100.0%) in 0.76 sec. BPR loss is 8.01E+00. Sample per second: 54553\n"
     ]
    },
    {
     "name": "stdout",
     "output_type": "stream",
     "text": [
      "SLIM_BPR_Recommender: Epoch 374 of 650. Elapsed time 1.76 min\n"
     ]
    },
    {
     "name": "stdout",
     "output_type": "stream",
     "text": [
      "Processed 41637 (100.0%) in 1.03 sec. BPR loss is 7.69E+00. Sample per second: 40357\n"
     ]
    },
    {
     "name": "stdout",
     "output_type": "stream",
     "text": [
      "SLIM_BPR_Recommender: Epoch 375 of 650. Elapsed time 1.77 min\n"
     ]
    },
    {
     "name": "stdout",
     "output_type": "stream",
     "text": [
      "Processed 41637 (100.0%) in 0.29 sec. BPR loss is 7.97E+00. Sample per second: 143432\n"
     ]
    },
    {
     "name": "stdout",
     "output_type": "stream",
     "text": [
      "SLIM_BPR_Recommender: Epoch 376 of 650. Elapsed time 1.77 min\n"
     ]
    },
    {
     "name": "stdout",
     "output_type": "stream",
     "text": [
      "Processed 41637 (100.0%) in 0.56 sec. BPR loss is 7.73E+00. Sample per second: 74264\n"
     ]
    },
    {
     "name": "stdout",
     "output_type": "stream",
     "text": [
      "SLIM_BPR_Recommender: Epoch 377 of 650. Elapsed time 1.77 min\n"
     ]
    },
    {
     "name": "stdout",
     "output_type": "stream",
     "text": [
      "Processed 41637 (100.0%) in 0.82 sec. BPR loss is 7.84E+00. Sample per second: 50481\n"
     ]
    },
    {
     "name": "stdout",
     "output_type": "stream",
     "text": [
      "SLIM_BPR_Recommender: Epoch 378 of 650. Elapsed time 1.78 min\n"
     ]
    },
    {
     "name": "stdout",
     "output_type": "stream",
     "text": [
      "Processed 41637 (100.0%) in 1.09 sec. BPR loss is 7.85E+00. Sample per second: 38032\n"
     ]
    },
    {
     "name": "stdout",
     "output_type": "stream",
     "text": [
      "SLIM_BPR_Recommender: Epoch 379 of 650. Elapsed time 1.78 min\n"
     ]
    },
    {
     "name": "stdout",
     "output_type": "stream",
     "text": [
      "Processed 41637 (100.0%) in 0.37 sec. BPR loss is 8.19E+00. Sample per second: 113007\n"
     ]
    },
    {
     "name": "stdout",
     "output_type": "stream",
     "text": [
      "SLIM_BPR_Recommender: Epoch 380 of 650. Elapsed time 1.79 min\n"
     ]
    },
    {
     "name": "stdout",
     "output_type": "stream",
     "text": [
      "Processed 41637 (100.0%) in 0.63 sec. BPR loss is 8.14E+00. Sample per second: 65670\n"
     ]
    },
    {
     "name": "stdout",
     "output_type": "stream",
     "text": [
      "SLIM_BPR_Recommender: Epoch 381 of 650. Elapsed time 1.79 min\n"
     ]
    },
    {
     "name": "stdout",
     "output_type": "stream",
     "text": [
      "Processed 41637 (100.0%) in 0.90 sec. BPR loss is 8.16E+00. Sample per second: 46238\n"
     ]
    },
    {
     "name": "stdout",
     "output_type": "stream",
     "text": [
      "SLIM_BPR_Recommender: Epoch 382 of 650. Elapsed time 1.80 min\n"
     ]
    },
    {
     "name": "stdout",
     "output_type": "stream",
     "text": [
      "Processed 41637 (100.0%) in 1.17 sec. BPR loss is 8.07E+00. Sample per second: 35614\n"
     ]
    },
    {
     "name": "stdout",
     "output_type": "stream",
     "text": [
      "SLIM_BPR_Recommender: Epoch 383 of 650. Elapsed time 1.80 min\n"
     ]
    },
    {
     "name": "stdout",
     "output_type": "stream",
     "text": [
      "Processed 41637 (100.0%) in 0.46 sec. BPR loss is 8.01E+00. Sample per second: 91430"
     ]
    },
    {
     "name": "stdout",
     "output_type": "stream",
     "text": [
      "\n"
     ]
    },
    {
     "name": "stdout",
     "output_type": "stream",
     "text": [
      "SLIM_BPR_Recommender: Epoch 384 of 650. Elapsed time 1.81 min\n"
     ]
    },
    {
     "name": "stdout",
     "output_type": "stream",
     "text": [
      "Processed 41637 (100.0%) in 0.72 sec. BPR loss is 7.98E+00. Sample per second: 57504\n"
     ]
    },
    {
     "name": "stdout",
     "output_type": "stream",
     "text": [
      "SLIM_BPR_Recommender: Epoch 385 of 650. Elapsed time 1.81 min\n"
     ]
    },
    {
     "name": "stdout",
     "output_type": "stream",
     "text": [
      "Processed 41637 (100.0%) in 0.98 sec. BPR loss is 8.15E+00. Sample per second: 42298\n"
     ]
    },
    {
     "name": "stdout",
     "output_type": "stream",
     "text": [
      "SLIM_BPR_Recommender: Epoch 386 of 650. Elapsed time 1.82 min\n"
     ]
    },
    {
     "name": "stdout",
     "output_type": "stream",
     "text": [
      "Processed 41637 (100.0%) in 1.25 sec. BPR loss is 8.25E+00. Sample per second: 33416\n"
     ]
    },
    {
     "name": "stdout",
     "output_type": "stream",
     "text": [
      "SLIM_BPR_Recommender: Epoch 387 of 650. Elapsed time 1.82 min\n"
     ]
    },
    {
     "name": "stdout",
     "output_type": "stream",
     "text": [
      "Processed 41637 (100.0%) in 0.52 sec. BPR loss is 8.45E+00. Sample per second: 79930\n"
     ]
    },
    {
     "name": "stdout",
     "output_type": "stream",
     "text": [
      "SLIM_BPR_Recommender: Epoch 388 of 650. Elapsed time 1.82 min\n"
     ]
    },
    {
     "name": "stdout",
     "output_type": "stream",
     "text": [
      "Processed 41637 (100.0%) in 0.80 sec. BPR loss is 8.09E+00. Sample per second: 52223\n"
     ]
    },
    {
     "name": "stdout",
     "output_type": "stream",
     "text": [
      "SLIM_BPR_Recommender: Epoch 389 of 650. Elapsed time 1.83 min\n"
     ]
    },
    {
     "name": "stdout",
     "output_type": "stream",
     "text": [
      "Processed 41637 (100.0%) in 1.07 sec. BPR loss is 8.56E+00. Sample per second: 39045\n"
     ]
    },
    {
     "name": "stdout",
     "output_type": "stream",
     "text": [
      "SLIM_BPR_Recommender: Epoch 390 of 650. Elapsed time 1.83 min\n"
     ]
    },
    {
     "name": "stdout",
     "output_type": "stream",
     "text": [
      "Processed 41637 (100.0%) in 0.34 sec. BPR loss is 8.28E+00. Sample per second: 123397\n"
     ]
    },
    {
     "name": "stdout",
     "output_type": "stream",
     "text": [
      "SLIM_BPR_Recommender: Epoch 391 of 650. Elapsed time 1.84 min\n"
     ]
    },
    {
     "name": "stdout",
     "output_type": "stream",
     "text": [
      "Processed 41637 (100.0%) in 0.61 sec. BPR loss is 7.77E+00. Sample per second: 68138\n"
     ]
    },
    {
     "name": "stdout",
     "output_type": "stream",
     "text": [
      "SLIM_BPR_Recommender: Epoch 392 of 650. Elapsed time 1.84 min\n"
     ]
    },
    {
     "name": "stdout",
     "output_type": "stream",
     "text": [
      "Processed 41637 (100.0%) in 0.88 sec. BPR loss is 8.12E+00. Sample per second: 47219\n"
     ]
    },
    {
     "name": "stdout",
     "output_type": "stream",
     "text": [
      "SLIM_BPR_Recommender: Epoch 393 of 650. Elapsed time 1.85 min\n"
     ]
    },
    {
     "name": "stdout",
     "output_type": "stream",
     "text": [
      "Processed 41637 (100.0%) in 1.15 sec. BPR loss is 8.09E+00. Sample per second: 36115\n"
     ]
    },
    {
     "name": "stdout",
     "output_type": "stream",
     "text": [
      "SLIM_BPR_Recommender: Epoch 394 of 650. Elapsed time 1.85 min\n"
     ]
    },
    {
     "name": "stdout",
     "output_type": "stream",
     "text": [
      "Processed 41637 (100.0%) in 0.43 sec. BPR loss is 8.22E+00. Sample per second: 97716\n"
     ]
    },
    {
     "name": "stdout",
     "output_type": "stream",
     "text": [
      "SLIM_BPR_Recommender: Epoch 395 of 650. Elapsed time 1.86 min\n"
     ]
    },
    {
     "name": "stdout",
     "output_type": "stream",
     "text": [
      "Processed 41637 (100.0%) in 0.70 sec. BPR loss is 8.35E+00. Sample per second: 59847\n"
     ]
    },
    {
     "name": "stdout",
     "output_type": "stream",
     "text": [
      "SLIM_BPR_Recommender: Epoch 396 of 650. Elapsed time 1.86 min\n"
     ]
    },
    {
     "name": "stdout",
     "output_type": "stream",
     "text": [
      "Processed 41637 (100.0%) in 0.99 sec. BPR loss is 8.45E+00. Sample per second: 41866\n"
     ]
    },
    {
     "name": "stdout",
     "output_type": "stream",
     "text": [
      "SLIM_BPR_Recommender: Epoch 397 of 650. Elapsed time 1.87 min\n"
     ]
    },
    {
     "name": "stdout",
     "output_type": "stream",
     "text": [
      "Processed 41637 (100.0%) in 1.26 sec. BPR loss is 8.26E+00. Sample per second: 32985\n"
     ]
    },
    {
     "name": "stdout",
     "output_type": "stream",
     "text": [
      "SLIM_BPR_Recommender: Epoch 398 of 650. Elapsed time 1.87 min\n"
     ]
    },
    {
     "name": "stdout",
     "output_type": "stream",
     "text": [
      "Processed 41637 (100.0%) in 0.53 sec. BPR loss is 7.94E+00. Sample per second: 77944\n"
     ]
    },
    {
     "name": "stdout",
     "output_type": "stream",
     "text": [
      "SLIM_BPR_Recommender: Epoch 399 of 650. Elapsed time 1.87 min\n"
     ]
    },
    {
     "name": "stdout",
     "output_type": "stream",
     "text": [
      "Processed 41637 (100.0%) in 0.81 sec. BPR loss is 8.68E+00. Sample per second: 51124\n"
     ]
    },
    {
     "name": "stdout",
     "output_type": "stream",
     "text": [
      "SLIM_BPR_Recommender: Epoch 400 of 650. Elapsed time 1.88 min\n"
     ]
    },
    {
     "name": "stdout",
     "output_type": "stream",
     "text": [
      "Processed 41637 (100.0%) in 1.07 sec. BPR loss is 8.18E+00. Sample per second: 38734\n"
     ]
    },
    {
     "name": "stdout",
     "output_type": "stream",
     "text": [
      "SLIM_BPR_Recommender: Epoch 401 of 650. Elapsed time 1.88 min\n"
     ]
    },
    {
     "name": "stdout",
     "output_type": "stream",
     "text": [
      "Processed 41637 (100.0%) in 0.35 sec. BPR loss is 8.05E+00. Sample per second: 117444\n"
     ]
    },
    {
     "name": "stdout",
     "output_type": "stream",
     "text": [
      "SLIM_BPR_Recommender: Epoch 402 of 650. Elapsed time 1.89 min\n"
     ]
    },
    {
     "name": "stdout",
     "output_type": "stream",
     "text": [
      "Processed 41637 (100.0%) in 0.63 sec. BPR loss is 8.42E+00. Sample per second: 66530\n"
     ]
    },
    {
     "name": "stdout",
     "output_type": "stream",
     "text": [
      "SLIM_BPR_Recommender: Epoch 403 of 650. Elapsed time 1.89 min\n"
     ]
    },
    {
     "name": "stdout",
     "output_type": "stream",
     "text": [
      "Processed 41637 (100.0%) in 0.89 sec. BPR loss is 8.41E+00. Sample per second: 46754\n"
     ]
    },
    {
     "name": "stdout",
     "output_type": "stream",
     "text": [
      "SLIM_BPR_Recommender: Epoch 404 of 650. Elapsed time 1.90 min\n"
     ]
    },
    {
     "name": "stdout",
     "output_type": "stream",
     "text": [
      "Processed 41637 (100.0%) in 1.17 sec. BPR loss is 8.17E+00. Sample per second: 35687\n"
     ]
    },
    {
     "name": "stdout",
     "output_type": "stream",
     "text": [
      "SLIM_BPR_Recommender: Epoch 405 of 650. Elapsed time 1.90 min\n"
     ]
    },
    {
     "name": "stdout",
     "output_type": "stream",
     "text": [
      "Processed 41637 (100.0%) in 0.43 sec. BPR loss is 8.38E+00. Sample per second: 97333\n"
     ]
    },
    {
     "name": "stdout",
     "output_type": "stream",
     "text": [
      "SLIM_BPR_Recommender: Epoch 406 of 650. Elapsed time 1.91 min\n"
     ]
    },
    {
     "name": "stdout",
     "output_type": "stream",
     "text": [
      "Processed 41637 (100.0%) in 0.69 sec. BPR loss is 8.12E+00. Sample per second: 60285\n"
     ]
    },
    {
     "name": "stdout",
     "output_type": "stream",
     "text": [
      "SLIM_BPR_Recommender: Epoch 407 of 650. Elapsed time 1.91 min\n"
     ]
    },
    {
     "name": "stdout",
     "output_type": "stream",
     "text": [
      "Processed 41637 (100.0%) in 0.95 sec. BPR loss is 8.12E+00. Sample per second: 43648\n"
     ]
    },
    {
     "name": "stdout",
     "output_type": "stream",
     "text": [
      "SLIM_BPR_Recommender: Epoch 408 of 650. Elapsed time 1.91 min\n"
     ]
    },
    {
     "name": "stdout",
     "output_type": "stream",
     "text": [
      "Processed 41637 (100.0%) in 1.21 sec. BPR loss is 8.37E+00. Sample per second: 34366\n"
     ]
    },
    {
     "name": "stdout",
     "output_type": "stream",
     "text": [
      "SLIM_BPR_Recommender: Epoch 409 of 650. Elapsed time 1.92 min\n"
     ]
    },
    {
     "name": "stdout",
     "output_type": "stream",
     "text": [
      "Processed 41637 (100.0%) in 0.48 sec. BPR loss is 8.51E+00. Sample per second: 86686\n"
     ]
    },
    {
     "name": "stdout",
     "output_type": "stream",
     "text": [
      "SLIM_BPR_Recommender: Epoch 410 of 650. Elapsed time 1.92 min\n"
     ]
    },
    {
     "name": "stdout",
     "output_type": "stream",
     "text": [
      "Processed 41637 (100.0%) in 0.75 sec. BPR loss is 8.64E+00. Sample per second: 55405\n"
     ]
    },
    {
     "name": "stdout",
     "output_type": "stream",
     "text": [
      "SLIM_BPR_Recommender: Epoch 411 of 650. Elapsed time 1.93 min\n"
     ]
    },
    {
     "name": "stdout",
     "output_type": "stream",
     "text": [
      "Processed 41637 (100.0%) in 1.01 sec. BPR loss is 8.52E+00. Sample per second: 41395\n"
     ]
    },
    {
     "name": "stdout",
     "output_type": "stream",
     "text": [
      "SLIM_BPR_Recommender: Epoch 412 of 650. Elapsed time 1.93 min\n"
     ]
    },
    {
     "name": "stdout",
     "output_type": "stream",
     "text": [
      "Processed 41637 (100.0%) in 0.26 sec. BPR loss is 8.14E+00. Sample per second: 158132\n"
     ]
    },
    {
     "name": "stdout",
     "output_type": "stream",
     "text": [
      "SLIM_BPR_Recommender: Epoch 413 of 650. Elapsed time 1.94 min\n"
     ]
    },
    {
     "name": "stdout",
     "output_type": "stream",
     "text": [
      "Processed 41637 (100.0%) in 0.55 sec. BPR loss is 8.33E+00. Sample per second: 75906\n"
     ]
    },
    {
     "name": "stdout",
     "output_type": "stream",
     "text": [
      "SLIM_BPR_Recommender: Epoch 414 of 650. Elapsed time 1.94 min\n"
     ]
    },
    {
     "name": "stdout",
     "output_type": "stream",
     "text": [
      "Processed 41637 (100.0%) in 0.84 sec. BPR loss is 8.38E+00. Sample per second: 49414\n"
     ]
    },
    {
     "name": "stdout",
     "output_type": "stream",
     "text": [
      "SLIM_BPR_Recommender: Epoch 415 of 650. Elapsed time 1.95 min\n"
     ]
    },
    {
     "name": "stdout",
     "output_type": "stream",
     "text": [
      "Processed 41637 (100.0%) in 1.11 sec. BPR loss is 8.21E+00. Sample per second: 37389\n"
     ]
    },
    {
     "name": "stdout",
     "output_type": "stream",
     "text": [
      "SLIM_BPR_Recommender: Epoch 416 of 650. Elapsed time 1.95 min\n"
     ]
    },
    {
     "name": "stdout",
     "output_type": "stream",
     "text": [
      "Processed 41637 (100.0%) in 0.37 sec. BPR loss is 8.25E+00. Sample per second: 111163\n"
     ]
    },
    {
     "name": "stdout",
     "output_type": "stream",
     "text": [
      "SLIM_BPR_Recommender: Epoch 417 of 650. Elapsed time 1.96 min\n"
     ]
    },
    {
     "name": "stdout",
     "output_type": "stream",
     "text": [
      "Processed 41637 (100.0%) in 0.65 sec. BPR loss is 8.47E+00. Sample per second: 63810\n"
     ]
    },
    {
     "name": "stdout",
     "output_type": "stream",
     "text": [
      "SLIM_BPR_Recommender: Epoch 418 of 650. Elapsed time 1.96 min\n"
     ]
    },
    {
     "name": "stdout",
     "output_type": "stream",
     "text": [
      "Processed 41637 (100.0%) in 0.92 sec. BPR loss is 8.33E+00. Sample per second: 45265\n"
     ]
    },
    {
     "name": "stdout",
     "output_type": "stream",
     "text": [
      "SLIM_BPR_Recommender: Epoch 419 of 650. Elapsed time 1.96 min\n"
     ]
    },
    {
     "name": "stdout",
     "output_type": "stream",
     "text": [
      "Processed 41637 (100.0%) in 1.18 sec. BPR loss is 8.27E+00. Sample per second: 35246\n"
     ]
    },
    {
     "name": "stdout",
     "output_type": "stream",
     "text": [
      "SLIM_BPR_Recommender: Epoch 420 of 650. Elapsed time 1.97 min\n"
     ]
    },
    {
     "name": "stdout",
     "output_type": "stream",
     "text": [
      "Processed 41637 (100.0%) in 0.45 sec. BPR loss is 8.28E+00. Sample per second: 92199\n"
     ]
    },
    {
     "name": "stdout",
     "output_type": "stream",
     "text": [
      "SLIM_BPR_Recommender: Epoch 421 of 650. Elapsed time 1.97 min\n"
     ]
    },
    {
     "name": "stdout",
     "output_type": "stream",
     "text": [
      "Processed 41637 (100.0%) in 0.72 sec. BPR loss is 8.51E+00. Sample per second: 57725\n"
     ]
    },
    {
     "name": "stdout",
     "output_type": "stream",
     "text": [
      "SLIM_BPR_Recommender: Epoch 422 of 650. Elapsed time 1.98 min\n"
     ]
    },
    {
     "name": "stdout",
     "output_type": "stream",
     "text": [
      "Processed 41637 (100.0%) in 1.00 sec. BPR loss is 8.43E+00. Sample per second: 41646\n"
     ]
    },
    {
     "name": "stdout",
     "output_type": "stream",
     "text": [
      "SLIM_BPR_Recommender: Epoch 423 of 650. Elapsed time 1.98 min\n"
     ]
    },
    {
     "name": "stdout",
     "output_type": "stream",
     "text": [
      "Processed 41637 (100.0%) in 0.27 sec. BPR loss is 8.92E+00. Sample per second: 154934"
     ]
    },
    {
     "name": "stdout",
     "output_type": "stream",
     "text": [
      "\n"
     ]
    },
    {
     "name": "stdout",
     "output_type": "stream",
     "text": [
      "SLIM_BPR_Recommender: Epoch 424 of 650. Elapsed time 1.99 min\n"
     ]
    },
    {
     "name": "stdout",
     "output_type": "stream",
     "text": [
      "Processed 41637 (100.0%) in 0.54 sec. BPR loss is 8.51E+00. Sample per second: 77162\n"
     ]
    },
    {
     "name": "stdout",
     "output_type": "stream",
     "text": [
      "SLIM_BPR_Recommender: Epoch 425 of 650. Elapsed time 1.99 min\n"
     ]
    },
    {
     "name": "stdout",
     "output_type": "stream",
     "text": [
      "Processed 41637 (100.0%) in 0.81 sec. BPR loss is 8.46E+00. Sample per second: 51543\n"
     ]
    },
    {
     "name": "stdout",
     "output_type": "stream",
     "text": [
      "SLIM_BPR_Recommender: Epoch 426 of 650. Elapsed time 2.00 min\n"
     ]
    },
    {
     "name": "stdout",
     "output_type": "stream",
     "text": [
      "Processed 41637 (100.0%) in 1.08 sec. BPR loss is 8.43E+00. Sample per second: 38648\n"
     ]
    },
    {
     "name": "stdout",
     "output_type": "stream",
     "text": [
      "SLIM_BPR_Recommender: Epoch 427 of 650. Elapsed time 2.00 min\n"
     ]
    },
    {
     "name": "stdout",
     "output_type": "stream",
     "text": [
      "Processed 41637 (100.0%) in 0.34 sec. BPR loss is 8.58E+00. Sample per second: 120603\n"
     ]
    },
    {
     "name": "stdout",
     "output_type": "stream",
     "text": [
      "SLIM_BPR_Recommender: Epoch 428 of 650. Elapsed time 2.00 min\n"
     ]
    },
    {
     "name": "stdout",
     "output_type": "stream",
     "text": [
      "Processed 41637 (100.0%) in 0.61 sec. BPR loss is 8.52E+00. Sample per second: 68373\n"
     ]
    },
    {
     "name": "stdout",
     "output_type": "stream",
     "text": [
      "SLIM_BPR_Recommender: Epoch 429 of 650. Elapsed time 2.01 min\n"
     ]
    },
    {
     "name": "stdout",
     "output_type": "stream",
     "text": [
      "Processed 41637 (100.0%) in 0.87 sec. BPR loss is 8.29E+00. Sample per second: 47778\n"
     ]
    },
    {
     "name": "stdout",
     "output_type": "stream",
     "text": [
      "SLIM_BPR_Recommender: Epoch 430 of 650. Elapsed time 2.01 min\n"
     ]
    },
    {
     "name": "stdout",
     "output_type": "stream",
     "text": [
      "Processed 41637 (100.0%) in 1.13 sec. BPR loss is 8.48E+00. Sample per second: 36971\n"
     ]
    },
    {
     "name": "stdout",
     "output_type": "stream",
     "text": [
      "SLIM_BPR_Recommender: Epoch 431 of 650. Elapsed time 2.02 min\n"
     ]
    },
    {
     "name": "stdout",
     "output_type": "stream",
     "text": [
      "Processed 41637 (100.0%) in 0.39 sec. BPR loss is 8.46E+00. Sample per second: 106786\n"
     ]
    },
    {
     "name": "stdout",
     "output_type": "stream",
     "text": [
      "SLIM_BPR_Recommender: Epoch 432 of 650. Elapsed time 2.02 min\n"
     ]
    },
    {
     "name": "stdout",
     "output_type": "stream",
     "text": [
      "Processed 41637 (100.0%) in 0.65 sec. BPR loss is 8.65E+00. Sample per second: 64217\n"
     ]
    },
    {
     "name": "stdout",
     "output_type": "stream",
     "text": [
      "SLIM_BPR_Recommender: Epoch 433 of 650. Elapsed time 2.03 min\n"
     ]
    },
    {
     "name": "stdout",
     "output_type": "stream",
     "text": [
      "Processed 41637 (100.0%) in 0.91 sec. BPR loss is 8.39E+00. Sample per second: 45923\n"
     ]
    },
    {
     "name": "stdout",
     "output_type": "stream",
     "text": [
      "SLIM_BPR_Recommender: Epoch 434 of 650. Elapsed time 2.03 min\n"
     ]
    },
    {
     "name": "stdout",
     "output_type": "stream",
     "text": [
      "Processed 41637 (100.0%) in 1.18 sec. BPR loss is 8.86E+00. Sample per second: 35380\n"
     ]
    },
    {
     "name": "stdout",
     "output_type": "stream",
     "text": [
      "SLIM_BPR_Recommender: Epoch 435 of 650. Elapsed time 2.04 min\n"
     ]
    },
    {
     "name": "stdout",
     "output_type": "stream",
     "text": [
      "Processed 41637 (100.0%) in 0.44 sec. BPR loss is 8.51E+00. Sample per second: 94974"
     ]
    },
    {
     "name": "stdout",
     "output_type": "stream",
     "text": [
      "\n"
     ]
    },
    {
     "name": "stdout",
     "output_type": "stream",
     "text": [
      "SLIM_BPR_Recommender: Epoch 436 of 650. Elapsed time 2.04 min\n"
     ]
    },
    {
     "name": "stdout",
     "output_type": "stream",
     "text": [
      "Processed 41637 (100.0%) in 0.71 sec. BPR loss is 8.43E+00. Sample per second: 58743\n"
     ]
    },
    {
     "name": "stdout",
     "output_type": "stream",
     "text": [
      "SLIM_BPR_Recommender: Epoch 437 of 650. Elapsed time 2.04 min\n"
     ]
    },
    {
     "name": "stdout",
     "output_type": "stream",
     "text": [
      "Processed 41637 (100.0%) in 1.00 sec. BPR loss is 8.95E+00. Sample per second: 41569\n"
     ]
    },
    {
     "name": "stdout",
     "output_type": "stream",
     "text": [
      "SLIM_BPR_Recommender: Epoch 438 of 650. Elapsed time 2.05 min\n"
     ]
    },
    {
     "name": "stdout",
     "output_type": "stream",
     "text": [
      "Processed 41637 (100.0%) in 0.27 sec. BPR loss is 8.69E+00. Sample per second: 153886\n"
     ]
    },
    {
     "name": "stdout",
     "output_type": "stream",
     "text": [
      "SLIM_BPR_Recommender: Epoch 439 of 650. Elapsed time 2.05 min\n"
     ]
    },
    {
     "name": "stdout",
     "output_type": "stream",
     "text": [
      "Processed 41637 (100.0%) in 0.54 sec. BPR loss is 8.49E+00. Sample per second: 76565"
     ]
    },
    {
     "name": "stdout",
     "output_type": "stream",
     "text": [
      "\n"
     ]
    },
    {
     "name": "stdout",
     "output_type": "stream",
     "text": [
      "SLIM_BPR_Recommender: Epoch 440 of 650. Elapsed time 2.06 min\n"
     ]
    },
    {
     "name": "stdout",
     "output_type": "stream",
     "text": [
      "Processed 41637 (100.0%) in 0.81 sec. BPR loss is 8.50E+00. Sample per second: 51297\n"
     ]
    },
    {
     "name": "stdout",
     "output_type": "stream",
     "text": [
      "SLIM_BPR_Recommender: Epoch 441 of 650. Elapsed time 2.06 min\n"
     ]
    },
    {
     "name": "stdout",
     "output_type": "stream",
     "text": [
      "Processed 41637 (100.0%) in 1.07 sec. BPR loss is 8.73E+00. Sample per second: 38960\n"
     ]
    },
    {
     "name": "stdout",
     "output_type": "stream",
     "text": [
      "SLIM_BPR_Recommender: Epoch 442 of 650. Elapsed time 2.07 min\n"
     ]
    },
    {
     "name": "stdout",
     "output_type": "stream",
     "text": [
      "Processed 41637 (100.0%) in 0.33 sec. BPR loss is 8.57E+00. Sample per second: 126552\n"
     ]
    },
    {
     "name": "stdout",
     "output_type": "stream",
     "text": [
      "SLIM_BPR_Recommender: Epoch 443 of 650. Elapsed time 2.07 min\n"
     ]
    },
    {
     "name": "stdout",
     "output_type": "stream",
     "text": [
      "Processed 41637 (100.0%) in 0.60 sec. BPR loss is 8.62E+00. Sample per second: 69574\n"
     ]
    },
    {
     "name": "stdout",
     "output_type": "stream",
     "text": [
      "SLIM_BPR_Recommender: Epoch 444 of 650. Elapsed time 2.08 min\n"
     ]
    },
    {
     "name": "stdout",
     "output_type": "stream",
     "text": [
      "Processed 41637 (100.0%) in 0.86 sec. BPR loss is 8.59E+00. Sample per second: 48542\n"
     ]
    },
    {
     "name": "stdout",
     "output_type": "stream",
     "text": [
      "SLIM_BPR_Recommender: Epoch 445 of 650. Elapsed time 2.08 min\n"
     ]
    },
    {
     "name": "stdout",
     "output_type": "stream",
     "text": [
      "Processed 41637 (100.0%) in 1.11 sec. BPR loss is 8.78E+00. Sample per second: 37345\n"
     ]
    },
    {
     "name": "stdout",
     "output_type": "stream",
     "text": [
      "SLIM_BPR_Recommender: Epoch 446 of 650. Elapsed time 2.08 min\n"
     ]
    },
    {
     "name": "stdout",
     "output_type": "stream",
     "text": [
      "Processed 41637 (100.0%) in 0.38 sec. BPR loss is 8.59E+00. Sample per second: 109856\n"
     ]
    },
    {
     "name": "stdout",
     "output_type": "stream",
     "text": [
      "SLIM_BPR_Recommender: Epoch 447 of 650. Elapsed time 2.09 min\n"
     ]
    },
    {
     "name": "stdout",
     "output_type": "stream",
     "text": [
      "Processed 41637 (100.0%) in 0.64 sec. BPR loss is 8.64E+00. Sample per second: 64662\n"
     ]
    },
    {
     "name": "stdout",
     "output_type": "stream",
     "text": [
      "SLIM_BPR_Recommender: Epoch 448 of 650. Elapsed time 2.09 min\n"
     ]
    },
    {
     "name": "stdout",
     "output_type": "stream",
     "text": [
      "Processed 41637 (100.0%) in 0.92 sec. BPR loss is 8.56E+00. Sample per second: 45369\n"
     ]
    },
    {
     "name": "stdout",
     "output_type": "stream",
     "text": [
      "SLIM_BPR_Recommender: Epoch 449 of 650. Elapsed time 2.10 min\n"
     ]
    },
    {
     "name": "stdout",
     "output_type": "stream",
     "text": [
      "Processed 41637 (100.0%) in 1.18 sec. BPR loss is 8.82E+00. Sample per second: 35353\n"
     ]
    },
    {
     "name": "stdout",
     "output_type": "stream",
     "text": [
      "SLIM_BPR_Recommender: Epoch 450 of 650. Elapsed time 2.10 min\n"
     ]
    },
    {
     "name": "stdout",
     "output_type": "stream",
     "text": [
      "Processed 41637 (100.0%) in 0.44 sec. BPR loss is 8.80E+00. Sample per second: 94377\n"
     ]
    },
    {
     "name": "stdout",
     "output_type": "stream",
     "text": [
      "SLIM_BPR_Recommender: Epoch 451 of 650. Elapsed time 2.11 min\n"
     ]
    },
    {
     "name": "stdout",
     "output_type": "stream",
     "text": [
      "Processed 41637 (100.0%) in 0.71 sec. BPR loss is 8.71E+00. Sample per second: 58861\n"
     ]
    },
    {
     "name": "stdout",
     "output_type": "stream",
     "text": [
      "SLIM_BPR_Recommender: Epoch 452 of 650. Elapsed time 2.11 min\n"
     ]
    },
    {
     "name": "stdout",
     "output_type": "stream",
     "text": [
      "Processed 41637 (100.0%) in 0.97 sec. BPR loss is 8.70E+00. Sample per second: 43031\n"
     ]
    },
    {
     "name": "stdout",
     "output_type": "stream",
     "text": [
      "SLIM_BPR_Recommender: Epoch 453 of 650. Elapsed time 2.11 min\n"
     ]
    },
    {
     "name": "stdout",
     "output_type": "stream",
     "text": [
      "Processed 41637 (100.0%) in 1.23 sec. BPR loss is 8.77E+00. Sample per second: 33767\n"
     ]
    },
    {
     "name": "stdout",
     "output_type": "stream",
     "text": [
      "SLIM_BPR_Recommender: Epoch 454 of 650. Elapsed time 2.12 min\n"
     ]
    },
    {
     "name": "stdout",
     "output_type": "stream",
     "text": [
      "Processed 41637 (100.0%) in 0.51 sec. BPR loss is 9.19E+00. Sample per second: 82235\n"
     ]
    },
    {
     "name": "stdout",
     "output_type": "stream",
     "text": [
      "SLIM_BPR_Recommender: Epoch 455 of 650. Elapsed time 2.12 min\n"
     ]
    },
    {
     "name": "stdout",
     "output_type": "stream",
     "text": [
      "Processed 41637 (100.0%) in 0.78 sec. BPR loss is 9.15E+00. Sample per second: 53334\n"
     ]
    },
    {
     "name": "stdout",
     "output_type": "stream",
     "text": [
      "SLIM_BPR_Recommender: Epoch 456 of 650. Elapsed time 2.13 min\n"
     ]
    },
    {
     "name": "stdout",
     "output_type": "stream",
     "text": [
      "Processed 41637 (100.0%) in 1.04 sec. BPR loss is 8.83E+00. Sample per second: 39958\n"
     ]
    },
    {
     "name": "stdout",
     "output_type": "stream",
     "text": [
      "SLIM_BPR_Recommender: Epoch 457 of 650. Elapsed time 2.13 min\n"
     ]
    },
    {
     "name": "stdout",
     "output_type": "stream",
     "text": [
      "Processed 41637 (100.0%) in 0.31 sec. BPR loss is 8.78E+00. Sample per second: 135141\n"
     ]
    },
    {
     "name": "stdout",
     "output_type": "stream",
     "text": [
      "SLIM_BPR_Recommender: Epoch 458 of 650. Elapsed time 2.14 min\n"
     ]
    },
    {
     "name": "stdout",
     "output_type": "stream",
     "text": [
      "Processed 41637 (100.0%) in 0.57 sec. BPR loss is 8.83E+00. Sample per second: 72463\n"
     ]
    },
    {
     "name": "stdout",
     "output_type": "stream",
     "text": [
      "SLIM_BPR_Recommender: Epoch 459 of 650. Elapsed time 2.14 min\n"
     ]
    },
    {
     "name": "stdout",
     "output_type": "stream",
     "text": [
      "Processed 41637 (100.0%) in 0.85 sec. BPR loss is 8.86E+00. Sample per second: 48872"
     ]
    },
    {
     "name": "stdout",
     "output_type": "stream",
     "text": [
      "\n"
     ]
    },
    {
     "name": "stdout",
     "output_type": "stream",
     "text": [
      "SLIM_BPR_Recommender: Epoch 460 of 650. Elapsed time 2.15 min\n"
     ]
    },
    {
     "name": "stdout",
     "output_type": "stream",
     "text": [
      "Processed 41637 (100.0%) in 1.12 sec. BPR loss is 8.94E+00. Sample per second: 37239\n"
     ]
    },
    {
     "name": "stdout",
     "output_type": "stream",
     "text": [
      "SLIM_BPR_Recommender: Epoch 461 of 650. Elapsed time 2.15 min\n"
     ]
    },
    {
     "name": "stdout",
     "output_type": "stream",
     "text": [
      "Processed 41637 (100.0%) in 0.38 sec. BPR loss is 8.65E+00. Sample per second: 110499\n"
     ]
    },
    {
     "name": "stdout",
     "output_type": "stream",
     "text": [
      "SLIM_BPR_Recommender: Epoch 462 of 650. Elapsed time 2.16 min\n"
     ]
    },
    {
     "name": "stdout",
     "output_type": "stream",
     "text": [
      "Processed 41637 (100.0%) in 0.64 sec. BPR loss is 8.63E+00. Sample per second: 65473\n"
     ]
    },
    {
     "name": "stdout",
     "output_type": "stream",
     "text": [
      "SLIM_BPR_Recommender: Epoch 463 of 650. Elapsed time 2.16 min\n"
     ]
    },
    {
     "name": "stdout",
     "output_type": "stream",
     "text": [
      "Processed 41637 (100.0%) in 0.89 sec. BPR loss is 8.49E+00. Sample per second: 46541\n"
     ]
    },
    {
     "name": "stdout",
     "output_type": "stream",
     "text": [
      "SLIM_BPR_Recommender: Epoch 464 of 650. Elapsed time 2.16 min\n"
     ]
    },
    {
     "name": "stdout",
     "output_type": "stream",
     "text": [
      "Processed 41637 (100.0%) in 1.16 sec. BPR loss is 8.72E+00. Sample per second: 35917\n"
     ]
    },
    {
     "name": "stdout",
     "output_type": "stream",
     "text": [
      "SLIM_BPR_Recommender: Epoch 465 of 650. Elapsed time 2.17 min\n"
     ]
    },
    {
     "name": "stdout",
     "output_type": "stream",
     "text": [
      "Processed 41637 (100.0%) in 0.42 sec. BPR loss is 9.03E+00. Sample per second: 99667\n"
     ]
    },
    {
     "name": "stdout",
     "output_type": "stream",
     "text": [
      "SLIM_BPR_Recommender: Epoch 466 of 650. Elapsed time 2.17 min\n"
     ]
    },
    {
     "name": "stdout",
     "output_type": "stream",
     "text": [
      "Processed 41637 (100.0%) in 0.69 sec. BPR loss is 9.13E+00. Sample per second: 60289\n"
     ]
    },
    {
     "name": "stdout",
     "output_type": "stream",
     "text": [
      "SLIM_BPR_Recommender: Epoch 467 of 650. Elapsed time 2.18 min\n"
     ]
    },
    {
     "name": "stdout",
     "output_type": "stream",
     "text": [
      "Processed 41637 (100.0%) in 0.95 sec. BPR loss is 8.65E+00. Sample per second: 43725\n"
     ]
    },
    {
     "name": "stdout",
     "output_type": "stream",
     "text": [
      "SLIM_BPR_Recommender: Epoch 468 of 650. Elapsed time 2.18 min\n"
     ]
    },
    {
     "name": "stdout",
     "output_type": "stream",
     "text": [
      "Processed 41637 (100.0%) in 1.22 sec. BPR loss is 8.90E+00. Sample per second: 34223\n"
     ]
    },
    {
     "name": "stdout",
     "output_type": "stream",
     "text": [
      "SLIM_BPR_Recommender: Epoch 469 of 650. Elapsed time 2.19 min\n"
     ]
    },
    {
     "name": "stdout",
     "output_type": "stream",
     "text": [
      "Processed 41637 (100.0%) in 0.49 sec. BPR loss is 8.95E+00. Sample per second: 85167\n"
     ]
    },
    {
     "name": "stdout",
     "output_type": "stream",
     "text": [
      "SLIM_BPR_Recommender: Epoch 470 of 650. Elapsed time 2.19 min\n"
     ]
    },
    {
     "name": "stdout",
     "output_type": "stream",
     "text": [
      "Processed 41637 (100.0%) in 0.76 sec. BPR loss is 9.17E+00. Sample per second: 54847\n"
     ]
    },
    {
     "name": "stdout",
     "output_type": "stream",
     "text": [
      "SLIM_BPR_Recommender: Epoch 471 of 650. Elapsed time 2.19 min\n"
     ]
    },
    {
     "name": "stdout",
     "output_type": "stream",
     "text": [
      "Processed 41637 (100.0%) in 1.02 sec. BPR loss is 9.17E+00. Sample per second: 40613\n"
     ]
    },
    {
     "name": "stdout",
     "output_type": "stream",
     "text": [
      "SLIM_BPR_Recommender: Epoch 472 of 650. Elapsed time 2.20 min\n"
     ]
    },
    {
     "name": "stdout",
     "output_type": "stream",
     "text": [
      "Processed 41637 (100.0%) in 0.29 sec. BPR loss is 8.92E+00. Sample per second: 141728\n"
     ]
    },
    {
     "name": "stdout",
     "output_type": "stream",
     "text": [
      "SLIM_BPR_Recommender: Epoch 473 of 650. Elapsed time 2.20 min\n"
     ]
    },
    {
     "name": "stdout",
     "output_type": "stream",
     "text": [
      "Processed 41637 (100.0%) in 0.56 sec. BPR loss is 9.10E+00. Sample per second: 74076\n"
     ]
    },
    {
     "name": "stdout",
     "output_type": "stream",
     "text": [
      "SLIM_BPR_Recommender: Epoch 474 of 650. Elapsed time 2.21 min\n"
     ]
    },
    {
     "name": "stdout",
     "output_type": "stream",
     "text": [
      "Processed 41637 (100.0%) in 0.83 sec. BPR loss is 8.89E+00. Sample per second: 50341\n"
     ]
    },
    {
     "name": "stdout",
     "output_type": "stream",
     "text": [
      "SLIM_BPR_Recommender: Epoch 475 of 650. Elapsed time 2.21 min\n"
     ]
    },
    {
     "name": "stdout",
     "output_type": "stream",
     "text": [
      "Processed 41637 (100.0%) in 1.09 sec. BPR loss is 8.99E+00. Sample per second: 38040\n"
     ]
    },
    {
     "name": "stdout",
     "output_type": "stream",
     "text": [
      "SLIM_BPR_Recommender: Epoch 476 of 650. Elapsed time 2.22 min\n"
     ]
    },
    {
     "name": "stdout",
     "output_type": "stream",
     "text": [
      "Processed 41637 (100.0%) in 0.36 sec. BPR loss is 8.89E+00. Sample per second: 115792\n"
     ]
    },
    {
     "name": "stdout",
     "output_type": "stream",
     "text": [
      "SLIM_BPR_Recommender: Epoch 477 of 650. Elapsed time 2.22 min\n"
     ]
    },
    {
     "name": "stdout",
     "output_type": "stream",
     "text": [
      "Processed 41637 (100.0%) in 0.64 sec. BPR loss is 8.81E+00. Sample per second: 64917\n"
     ]
    },
    {
     "name": "stdout",
     "output_type": "stream",
     "text": [
      "SLIM_BPR_Recommender: Epoch 478 of 650. Elapsed time 2.23 min\n"
     ]
    },
    {
     "name": "stdout",
     "output_type": "stream",
     "text": [
      "Processed 41637 (100.0%) in 0.93 sec. BPR loss is 9.00E+00. Sample per second: 44652\n"
     ]
    },
    {
     "name": "stdout",
     "output_type": "stream",
     "text": [
      "SLIM_BPR_Recommender: Epoch 479 of 650. Elapsed time 2.23 min\n"
     ]
    },
    {
     "name": "stdout",
     "output_type": "stream",
     "text": [
      "Processed 41637 (100.0%) in 1.19 sec. BPR loss is 9.23E+00. Sample per second: 34995\n"
     ]
    },
    {
     "name": "stdout",
     "output_type": "stream",
     "text": [
      "SLIM_BPR_Recommender: Epoch 480 of 650. Elapsed time 2.24 min\n"
     ]
    },
    {
     "name": "stdout",
     "output_type": "stream",
     "text": [
      "Processed 41637 (100.0%) in 0.45 sec. BPR loss is 9.04E+00. Sample per second: 91816\n"
     ]
    },
    {
     "name": "stdout",
     "output_type": "stream",
     "text": [
      "SLIM_BPR_Recommender: Epoch 481 of 650. Elapsed time 2.24 min\n"
     ]
    },
    {
     "name": "stdout",
     "output_type": "stream",
     "text": [
      "Processed 41637 (100.0%) in 0.71 sec. BPR loss is 9.15E+00. Sample per second: 58827\n"
     ]
    },
    {
     "name": "stdout",
     "output_type": "stream",
     "text": [
      "SLIM_BPR_Recommender: Epoch 482 of 650. Elapsed time 2.24 min\n"
     ]
    },
    {
     "name": "stdout",
     "output_type": "stream",
     "text": [
      "Processed 41637 (100.0%) in 0.96 sec. BPR loss is 9.01E+00. Sample per second: 43188\n"
     ]
    },
    {
     "name": "stdout",
     "output_type": "stream",
     "text": [
      "SLIM_BPR_Recommender: Epoch 483 of 650. Elapsed time 2.25 min\n"
     ]
    },
    {
     "name": "stdout",
     "output_type": "stream",
     "text": [
      "Processed 41637 (100.0%) in 1.23 sec. BPR loss is 9.14E+00. Sample per second: 33923\n"
     ]
    },
    {
     "name": "stdout",
     "output_type": "stream",
     "text": [
      "SLIM_BPR_Recommender: Epoch 484 of 650. Elapsed time 2.25 min\n"
     ]
    },
    {
     "name": "stdout",
     "output_type": "stream",
     "text": [
      "Processed 41637 (100.0%) in 0.50 sec. BPR loss is 8.98E+00. Sample per second: 82825\n"
     ]
    },
    {
     "name": "stdout",
     "output_type": "stream",
     "text": [
      "SLIM_BPR_Recommender: Epoch 485 of 650. Elapsed time 2.26 min\n"
     ]
    },
    {
     "name": "stdout",
     "output_type": "stream",
     "text": [
      "Processed 41637 (100.0%) in 0.77 sec. BPR loss is 9.30E+00. Sample per second: 54252\n"
     ]
    },
    {
     "name": "stdout",
     "output_type": "stream",
     "text": [
      "SLIM_BPR_Recommender: Epoch 486 of 650. Elapsed time 2.26 min\n"
     ]
    },
    {
     "name": "stdout",
     "output_type": "stream",
     "text": [
      "Processed 41637 (100.0%) in 1.03 sec. BPR loss is 9.06E+00. Sample per second: 40529\n"
     ]
    },
    {
     "name": "stdout",
     "output_type": "stream",
     "text": [
      "SLIM_BPR_Recommender: Epoch 487 of 650. Elapsed time 2.27 min\n"
     ]
    },
    {
     "name": "stdout",
     "output_type": "stream",
     "text": [
      "Processed 41637 (100.0%) in 0.29 sec. BPR loss is 8.91E+00. Sample per second: 142944\n"
     ]
    },
    {
     "name": "stdout",
     "output_type": "stream",
     "text": [
      "SLIM_BPR_Recommender: Epoch 488 of 650. Elapsed time 2.27 min\n"
     ]
    },
    {
     "name": "stdout",
     "output_type": "stream",
     "text": [
      "Processed 41637 (100.0%) in 0.56 sec. BPR loss is 8.87E+00. Sample per second: 74674\n"
     ]
    },
    {
     "name": "stdout",
     "output_type": "stream",
     "text": [
      "SLIM_BPR_Recommender: Epoch 489 of 650. Elapsed time 2.27 min\n"
     ]
    },
    {
     "name": "stdout",
     "output_type": "stream",
     "text": [
      "Processed 41637 (100.0%) in 0.82 sec. BPR loss is 9.14E+00. Sample per second: 50549\n"
     ]
    },
    {
     "name": "stdout",
     "output_type": "stream",
     "text": [
      "SLIM_BPR_Recommender: Epoch 490 of 650. Elapsed time 2.28 min\n"
     ]
    },
    {
     "name": "stdout",
     "output_type": "stream",
     "text": [
      "Processed 41637 (100.0%) in 1.09 sec. BPR loss is 9.53E+00. Sample per second: 38180\n"
     ]
    },
    {
     "name": "stdout",
     "output_type": "stream",
     "text": [
      "SLIM_BPR_Recommender: Epoch 491 of 650. Elapsed time 2.28 min\n"
     ]
    },
    {
     "name": "stdout",
     "output_type": "stream",
     "text": [
      "Processed 41637 (100.0%) in 0.36 sec. BPR loss is 9.59E+00. Sample per second: 115295\n"
     ]
    },
    {
     "name": "stdout",
     "output_type": "stream",
     "text": [
      "SLIM_BPR_Recommender: Epoch 492 of 650. Elapsed time 2.29 min\n"
     ]
    },
    {
     "name": "stdout",
     "output_type": "stream",
     "text": [
      "Processed 41637 (100.0%) in 0.63 sec. BPR loss is 8.95E+00. Sample per second: 66300\n"
     ]
    },
    {
     "name": "stdout",
     "output_type": "stream",
     "text": [
      "SLIM_BPR_Recommender: Epoch 493 of 650. Elapsed time 2.29 min\n"
     ]
    },
    {
     "name": "stdout",
     "output_type": "stream",
     "text": [
      "Processed 41637 (100.0%) in 0.90 sec. BPR loss is 9.16E+00. Sample per second: 46228\n"
     ]
    },
    {
     "name": "stdout",
     "output_type": "stream",
     "text": [
      "SLIM_BPR_Recommender: Epoch 494 of 650. Elapsed time 2.30 min\n"
     ]
    },
    {
     "name": "stdout",
     "output_type": "stream",
     "text": [
      "Processed 41637 (100.0%) in 1.16 sec. BPR loss is 9.53E+00. Sample per second: 35741\n"
     ]
    },
    {
     "name": "stdout",
     "output_type": "stream",
     "text": [
      "SLIM_BPR_Recommender: Epoch 495 of 650. Elapsed time 2.30 min\n"
     ]
    },
    {
     "name": "stdout",
     "output_type": "stream",
     "text": [
      "Processed 41637 (100.0%) in 0.42 sec. BPR loss is 9.49E+00. Sample per second: 98420\n"
     ]
    },
    {
     "name": "stdout",
     "output_type": "stream",
     "text": [
      "SLIM_BPR_Recommender: Epoch 496 of 650. Elapsed time 2.31 min\n"
     ]
    },
    {
     "name": "stdout",
     "output_type": "stream",
     "text": [
      "Processed 41637 (100.0%) in 0.69 sec. BPR loss is 9.51E+00. Sample per second: 60203\n"
     ]
    },
    {
     "name": "stdout",
     "output_type": "stream",
     "text": [
      "SLIM_BPR_Recommender: Epoch 497 of 650. Elapsed time 2.31 min\n"
     ]
    },
    {
     "name": "stdout",
     "output_type": "stream",
     "text": [
      "Processed 41637 (100.0%) in 0.95 sec. BPR loss is 9.18E+00. Sample per second: 43641"
     ]
    },
    {
     "name": "stdout",
     "output_type": "stream",
     "text": [
      "\n"
     ]
    },
    {
     "name": "stdout",
     "output_type": "stream",
     "text": [
      "SLIM_BPR_Recommender: Epoch 498 of 650. Elapsed time 2.31 min\n"
     ]
    },
    {
     "name": "stdout",
     "output_type": "stream",
     "text": [
      "Processed 41637 (100.0%) in 1.22 sec. BPR loss is 9.59E+00. Sample per second: 34156\n"
     ]
    },
    {
     "name": "stdout",
     "output_type": "stream",
     "text": [
      "SLIM_BPR_Recommender: Epoch 499 of 650. Elapsed time 2.32 min\n"
     ]
    },
    {
     "name": "stdout",
     "output_type": "stream",
     "text": [
      "Processed 41637 (100.0%) in 0.48 sec. BPR loss is 9.30E+00. Sample per second: 86930\n"
     ]
    },
    {
     "name": "stdout",
     "output_type": "stream",
     "text": [
      "SLIM_BPR_Recommender: Epoch 500 of 650. Elapsed time 2.32 min\n"
     ]
    },
    {
     "name": "stdout",
     "output_type": "stream",
     "text": [
      "Processed 41637 (100.0%) in 0.74 sec. BPR loss is 9.61E+00. Sample per second: 56194\n"
     ]
    },
    {
     "name": "stdout",
     "output_type": "stream",
     "text": [
      "SLIM_BPR_Recommender: Epoch 501 of 650. Elapsed time 2.33 min\n"
     ]
    },
    {
     "name": "stdout",
     "output_type": "stream",
     "text": [
      "Processed 41637 (100.0%) in 1.00 sec. BPR loss is 9.46E+00. Sample per second: 41421\n"
     ]
    },
    {
     "name": "stdout",
     "output_type": "stream",
     "text": [
      "SLIM_BPR_Recommender: Epoch 502 of 650. Elapsed time 2.33 min\n"
     ]
    },
    {
     "name": "stdout",
     "output_type": "stream",
     "text": [
      "Processed 41637 (100.0%) in 0.27 sec. BPR loss is 9.50E+00. Sample per second: 154579\n"
     ]
    },
    {
     "name": "stdout",
     "output_type": "stream",
     "text": [
      "SLIM_BPR_Recommender: Epoch 503 of 650. Elapsed time 2.34 min\n"
     ]
    },
    {
     "name": "stdout",
     "output_type": "stream",
     "text": [
      "Processed 41637 (100.0%) in 0.54 sec. BPR loss is 9.40E+00. Sample per second: 77651\n"
     ]
    },
    {
     "name": "stdout",
     "output_type": "stream",
     "text": [
      "SLIM_BPR_Recommender: Epoch 504 of 650. Elapsed time 2.34 min\n"
     ]
    },
    {
     "name": "stdout",
     "output_type": "stream",
     "text": [
      "Processed 41637 (100.0%) in 0.80 sec. BPR loss is 9.03E+00. Sample per second: 52228\n"
     ]
    },
    {
     "name": "stdout",
     "output_type": "stream",
     "text": [
      "SLIM_BPR_Recommender: Epoch 505 of 650. Elapsed time 2.35 min\n"
     ]
    },
    {
     "name": "stdout",
     "output_type": "stream",
     "text": [
      "Processed 41637 (100.0%) in 1.06 sec. BPR loss is 9.22E+00. Sample per second: 39126\n"
     ]
    },
    {
     "name": "stdout",
     "output_type": "stream",
     "text": [
      "SLIM_BPR_Recommender: Epoch 506 of 650. Elapsed time 2.35 min\n"
     ]
    },
    {
     "name": "stdout",
     "output_type": "stream",
     "text": [
      "Processed 41637 (100.0%) in 0.33 sec. BPR loss is 9.66E+00. Sample per second: 127034\n"
     ]
    },
    {
     "name": "stdout",
     "output_type": "stream",
     "text": [
      "SLIM_BPR_Recommender: Epoch 507 of 650. Elapsed time 2.35 min\n"
     ]
    },
    {
     "name": "stdout",
     "output_type": "stream",
     "text": [
      "Processed 41637 (100.0%) in 0.60 sec. BPR loss is 9.80E+00. Sample per second: 69084\n"
     ]
    },
    {
     "name": "stdout",
     "output_type": "stream",
     "text": [
      "SLIM_BPR_Recommender: Epoch 508 of 650. Elapsed time 2.36 min\n"
     ]
    },
    {
     "name": "stdout",
     "output_type": "stream",
     "text": [
      "Processed 41637 (100.0%) in 0.87 sec. BPR loss is 9.04E+00. Sample per second: 47786\n"
     ]
    },
    {
     "name": "stdout",
     "output_type": "stream",
     "text": [
      "SLIM_BPR_Recommender: Epoch 509 of 650. Elapsed time 2.36 min\n"
     ]
    },
    {
     "name": "stdout",
     "output_type": "stream",
     "text": [
      "Processed 41637 (100.0%) in 1.13 sec. BPR loss is 8.81E+00. Sample per second: 36727\n"
     ]
    },
    {
     "name": "stdout",
     "output_type": "stream",
     "text": [
      "SLIM_BPR_Recommender: Epoch 510 of 650. Elapsed time 2.37 min\n"
     ]
    },
    {
     "name": "stdout",
     "output_type": "stream",
     "text": [
      "Processed 41637 (100.0%) in 0.40 sec. BPR loss is 9.56E+00. Sample per second: 103351\n"
     ]
    },
    {
     "name": "stdout",
     "output_type": "stream",
     "text": [
      "SLIM_BPR_Recommender: Epoch 511 of 650. Elapsed time 2.37 min\n"
     ]
    },
    {
     "name": "stdout",
     "output_type": "stream",
     "text": [
      "Processed 41637 (100.0%) in 0.67 sec. BPR loss is 9.26E+00. Sample per second: 62226\n"
     ]
    },
    {
     "name": "stdout",
     "output_type": "stream",
     "text": [
      "SLIM_BPR_Recommender: Epoch 512 of 650. Elapsed time 2.38 min\n"
     ]
    },
    {
     "name": "stdout",
     "output_type": "stream",
     "text": [
      "Processed 41637 (100.0%) in 0.94 sec. BPR loss is 9.02E+00. Sample per second: 44512\n"
     ]
    },
    {
     "name": "stdout",
     "output_type": "stream",
     "text": [
      "SLIM_BPR_Recommender: Epoch 513 of 650. Elapsed time 2.38 min\n"
     ]
    },
    {
     "name": "stdout",
     "output_type": "stream",
     "text": [
      "Processed 41637 (100.0%) in 1.20 sec. BPR loss is 9.36E+00. Sample per second: 34754\n"
     ]
    },
    {
     "name": "stdout",
     "output_type": "stream",
     "text": [
      "SLIM_BPR_Recommender: Epoch 514 of 650. Elapsed time 2.39 min\n"
     ]
    },
    {
     "name": "stdout",
     "output_type": "stream",
     "text": [
      "Processed 41637 (100.0%) in 0.46 sec. BPR loss is 9.27E+00. Sample per second: 90796\n"
     ]
    },
    {
     "name": "stdout",
     "output_type": "stream",
     "text": [
      "SLIM_BPR_Recommender: Epoch 515 of 650. Elapsed time 2.39 min\n"
     ]
    },
    {
     "name": "stdout",
     "output_type": "stream",
     "text": [
      "Processed 41637 (100.0%) in 0.72 sec. BPR loss is 9.14E+00. Sample per second: 57910\n"
     ]
    },
    {
     "name": "stdout",
     "output_type": "stream",
     "text": [
      "SLIM_BPR_Recommender: Epoch 516 of 650. Elapsed time 2.39 min\n"
     ]
    },
    {
     "name": "stdout",
     "output_type": "stream",
     "text": [
      "Processed 41637 (100.0%) in 0.99 sec. BPR loss is 9.45E+00. Sample per second: 42142\n"
     ]
    },
    {
     "name": "stdout",
     "output_type": "stream",
     "text": [
      "SLIM_BPR_Recommender: Epoch 517 of 650. Elapsed time 2.40 min\n"
     ]
    },
    {
     "name": "stdout",
     "output_type": "stream",
     "text": [
      "Processed 41637 (100.0%) in 1.25 sec. BPR loss is 9.78E+00. Sample per second: 33234\n"
     ]
    },
    {
     "name": "stdout",
     "output_type": "stream",
     "text": [
      "SLIM_BPR_Recommender: Epoch 518 of 650. Elapsed time 2.40 min\n"
     ]
    },
    {
     "name": "stdout",
     "output_type": "stream",
     "text": [
      "Processed 41637 (100.0%) in 0.51 sec. BPR loss is 9.20E+00. Sample per second: 81502\n"
     ]
    },
    {
     "name": "stdout",
     "output_type": "stream",
     "text": [
      "SLIM_BPR_Recommender: Epoch 519 of 650. Elapsed time 2.41 min\n"
     ]
    },
    {
     "name": "stdout",
     "output_type": "stream",
     "text": [
      "Processed 41637 (100.0%) in 0.79 sec. BPR loss is 9.24E+00. Sample per second: 52712\n"
     ]
    },
    {
     "name": "stdout",
     "output_type": "stream",
     "text": [
      "SLIM_BPR_Recommender: Epoch 520 of 650. Elapsed time 2.41 min\n"
     ]
    },
    {
     "name": "stdout",
     "output_type": "stream",
     "text": [
      "Processed 41637 (100.0%) in 1.07 sec. BPR loss is 9.42E+00. Sample per second: 39032\n"
     ]
    },
    {
     "name": "stdout",
     "output_type": "stream",
     "text": [
      "SLIM_BPR_Recommender: Epoch 521 of 650. Elapsed time 2.42 min\n"
     ]
    },
    {
     "name": "stdout",
     "output_type": "stream",
     "text": [
      "Processed 41637 (100.0%) in 0.33 sec. BPR loss is 9.87E+00. Sample per second: 127542\n"
     ]
    },
    {
     "name": "stdout",
     "output_type": "stream",
     "text": [
      "SLIM_BPR_Recommender: Epoch 522 of 650. Elapsed time 2.42 min\n"
     ]
    },
    {
     "name": "stdout",
     "output_type": "stream",
     "text": [
      "Processed 41637 (100.0%) in 0.60 sec. BPR loss is 9.56E+00. Sample per second: 69589\n"
     ]
    },
    {
     "name": "stdout",
     "output_type": "stream",
     "text": [
      "SLIM_BPR_Recommender: Epoch 523 of 650. Elapsed time 2.43 min\n"
     ]
    },
    {
     "name": "stdout",
     "output_type": "stream",
     "text": [
      "Processed 41637 (100.0%) in 0.88 sec. BPR loss is 9.33E+00. Sample per second: 47385\n"
     ]
    },
    {
     "name": "stdout",
     "output_type": "stream",
     "text": [
      "SLIM_BPR_Recommender: Epoch 524 of 650. Elapsed time 2.43 min\n"
     ]
    },
    {
     "name": "stdout",
     "output_type": "stream",
     "text": [
      "Processed 41637 (100.0%) in 1.14 sec. BPR loss is 9.34E+00. Sample per second: 36552\n"
     ]
    },
    {
     "name": "stdout",
     "output_type": "stream",
     "text": [
      "SLIM_BPR_Recommender: Epoch 525 of 650. Elapsed time 2.43 min\n"
     ]
    },
    {
     "name": "stdout",
     "output_type": "stream",
     "text": [
      "Processed 41637 (100.0%) in 0.40 sec. BPR loss is 9.30E+00. Sample per second: 104340\n"
     ]
    },
    {
     "name": "stdout",
     "output_type": "stream",
     "text": [
      "SLIM_BPR_Recommender: Epoch 526 of 650. Elapsed time 2.44 min\n"
     ]
    },
    {
     "name": "stdout",
     "output_type": "stream",
     "text": [
      "Processed 41637 (100.0%) in 0.66 sec. BPR loss is 9.58E+00. Sample per second: 62763\n"
     ]
    },
    {
     "name": "stdout",
     "output_type": "stream",
     "text": [
      "SLIM_BPR_Recommender: Epoch 527 of 650. Elapsed time 2.44 min\n"
     ]
    },
    {
     "name": "stdout",
     "output_type": "stream",
     "text": [
      "Processed 41637 (100.0%) in 0.92 sec. BPR loss is 9.39E+00. Sample per second: 45025\n"
     ]
    },
    {
     "name": "stdout",
     "output_type": "stream",
     "text": [
      "SLIM_BPR_Recommender: Epoch 528 of 650. Elapsed time 2.45 min\n"
     ]
    },
    {
     "name": "stdout",
     "output_type": "stream",
     "text": [
      "Processed 41637 (100.0%) in 1.18 sec. BPR loss is 9.93E+00. Sample per second: 35138\n"
     ]
    },
    {
     "name": "stdout",
     "output_type": "stream",
     "text": [
      "SLIM_BPR_Recommender: Epoch 529 of 650. Elapsed time 2.45 min\n"
     ]
    },
    {
     "name": "stdout",
     "output_type": "stream",
     "text": [
      "Processed 41637 (100.0%) in 0.45 sec. BPR loss is 9.37E+00. Sample per second: 92483\n"
     ]
    },
    {
     "name": "stdout",
     "output_type": "stream",
     "text": [
      "SLIM_BPR_Recommender: Epoch 530 of 650. Elapsed time 2.46 min\n"
     ]
    },
    {
     "name": "stdout",
     "output_type": "stream",
     "text": [
      "Processed 41637 (100.0%) in 0.72 sec. BPR loss is 9.51E+00. Sample per second: 57679\n"
     ]
    },
    {
     "name": "stdout",
     "output_type": "stream",
     "text": [
      "SLIM_BPR_Recommender: Epoch 531 of 650. Elapsed time 2.46 min\n"
     ]
    },
    {
     "name": "stdout",
     "output_type": "stream",
     "text": [
      "Processed 41637 (100.0%) in 1.12 sec. BPR loss is 9.58E+00. Sample per second: 37022\n"
     ]
    },
    {
     "name": "stdout",
     "output_type": "stream",
     "text": [
      "SLIM_BPR_Recommender: Epoch 532 of 650. Elapsed time 2.47 min\n"
     ]
    },
    {
     "name": "stdout",
     "output_type": "stream",
     "text": [
      "Processed 41637 (100.0%) in 0.39 sec. BPR loss is 9.36E+00. Sample per second: 106543\n"
     ]
    },
    {
     "name": "stdout",
     "output_type": "stream",
     "text": [
      "SLIM_BPR_Recommender: Epoch 533 of 650. Elapsed time 2.47 min\n"
     ]
    },
    {
     "name": "stdout",
     "output_type": "stream",
     "text": [
      "Processed 41637 (100.0%) in 0.66 sec. BPR loss is 9.54E+00. Sample per second: 63061\n"
     ]
    },
    {
     "name": "stdout",
     "output_type": "stream",
     "text": [
      "SLIM_BPR_Recommender: Epoch 534 of 650. Elapsed time 2.48 min\n"
     ]
    },
    {
     "name": "stdout",
     "output_type": "stream",
     "text": [
      "Processed 41637 (100.0%) in 0.91 sec. BPR loss is 9.72E+00. Sample per second: 45539\n"
     ]
    },
    {
     "name": "stdout",
     "output_type": "stream",
     "text": [
      "SLIM_BPR_Recommender: Epoch 535 of 650. Elapsed time 2.48 min\n"
     ]
    },
    {
     "name": "stdout",
     "output_type": "stream",
     "text": [
      "Processed 41637 (100.0%) in 1.17 sec. BPR loss is 9.63E+00. Sample per second: 35492\n"
     ]
    },
    {
     "name": "stdout",
     "output_type": "stream",
     "text": [
      "SLIM_BPR_Recommender: Epoch 536 of 650. Elapsed time 2.49 min\n"
     ]
    },
    {
     "name": "stdout",
     "output_type": "stream",
     "text": [
      "Processed 41637 (100.0%) in 0.44 sec. BPR loss is 9.86E+00. Sample per second: 95590\n"
     ]
    },
    {
     "name": "stdout",
     "output_type": "stream",
     "text": [
      "SLIM_BPR_Recommender: Epoch 537 of 650. Elapsed time 2.49 min\n"
     ]
    },
    {
     "name": "stdout",
     "output_type": "stream",
     "text": [
      "Processed 41637 (100.0%) in 0.71 sec. BPR loss is 9.11E+00. Sample per second: 58816\n"
     ]
    },
    {
     "name": "stdout",
     "output_type": "stream",
     "text": [
      "SLIM_BPR_Recommender: Epoch 538 of 650. Elapsed time 2.49 min\n"
     ]
    },
    {
     "name": "stdout",
     "output_type": "stream",
     "text": [
      "Processed 41637 (100.0%) in 0.97 sec. BPR loss is 9.59E+00. Sample per second: 42731\n"
     ]
    },
    {
     "name": "stdout",
     "output_type": "stream",
     "text": [
      "SLIM_BPR_Recommender: Epoch 539 of 650. Elapsed time 2.50 min\n"
     ]
    },
    {
     "name": "stdout",
     "output_type": "stream",
     "text": [
      "Processed 41637 (100.0%) in 1.24 sec. BPR loss is 9.81E+00. Sample per second: 33684\n"
     ]
    },
    {
     "name": "stdout",
     "output_type": "stream",
     "text": [
      "SLIM_BPR_Recommender: Epoch 540 of 650. Elapsed time 2.50 min\n"
     ]
    },
    {
     "name": "stdout",
     "output_type": "stream",
     "text": [
      "Processed 41637 (100.0%) in 0.50 sec. BPR loss is 9.58E+00. Sample per second: 82828\n"
     ]
    },
    {
     "name": "stdout",
     "output_type": "stream",
     "text": [
      "SLIM_BPR_Recommender: Epoch 541 of 650. Elapsed time 2.51 min\n"
     ]
    },
    {
     "name": "stdout",
     "output_type": "stream",
     "text": [
      "Processed 41637 (100.0%) in 0.78 sec. BPR loss is 9.64E+00. Sample per second: 53546\n"
     ]
    },
    {
     "name": "stdout",
     "output_type": "stream",
     "text": [
      "SLIM_BPR_Recommender: Epoch 542 of 650. Elapsed time 2.51 min\n"
     ]
    },
    {
     "name": "stdout",
     "output_type": "stream",
     "text": [
      "Processed 41637 (100.0%) in 1.04 sec. BPR loss is 9.44E+00. Sample per second: 40029\n"
     ]
    },
    {
     "name": "stdout",
     "output_type": "stream",
     "text": [
      "SLIM_BPR_Recommender: Epoch 543 of 650. Elapsed time 2.52 min\n"
     ]
    },
    {
     "name": "stdout",
     "output_type": "stream",
     "text": [
      "Processed 41637 (100.0%) in 0.32 sec. BPR loss is 9.63E+00. Sample per second: 130696\n"
     ]
    },
    {
     "name": "stdout",
     "output_type": "stream",
     "text": [
      "SLIM_BPR_Recommender: Epoch 544 of 650. Elapsed time 2.52 min\n"
     ]
    },
    {
     "name": "stdout",
     "output_type": "stream",
     "text": [
      "Processed 41637 (100.0%) in 0.58 sec. BPR loss is 9.65E+00. Sample per second: 71284\n"
     ]
    },
    {
     "name": "stdout",
     "output_type": "stream",
     "text": [
      "SLIM_BPR_Recommender: Epoch 545 of 650. Elapsed time 2.53 min\n"
     ]
    },
    {
     "name": "stdout",
     "output_type": "stream",
     "text": [
      "Processed 41637 (100.0%) in 0.84 sec. BPR loss is 9.39E+00. Sample per second: 49554\n"
     ]
    },
    {
     "name": "stdout",
     "output_type": "stream",
     "text": [
      "SLIM_BPR_Recommender: Epoch 546 of 650. Elapsed time 2.53 min\n"
     ]
    },
    {
     "name": "stdout",
     "output_type": "stream",
     "text": [
      "Processed 41637 (100.0%) in 1.10 sec. BPR loss is 9.71E+00. Sample per second: 37760\n"
     ]
    },
    {
     "name": "stdout",
     "output_type": "stream",
     "text": [
      "SLIM_BPR_Recommender: Epoch 547 of 650. Elapsed time 2.53 min\n"
     ]
    },
    {
     "name": "stdout",
     "output_type": "stream",
     "text": [
      "Processed 41637 (100.0%) in 0.37 sec. BPR loss is 1.00E+01. Sample per second: 112240\n"
     ]
    },
    {
     "name": "stdout",
     "output_type": "stream",
     "text": [
      "SLIM_BPR_Recommender: Epoch 548 of 650. Elapsed time 2.54 min\n"
     ]
    },
    {
     "name": "stdout",
     "output_type": "stream",
     "text": [
      "Processed 41637 (100.0%) in 0.64 sec. BPR loss is 9.50E+00. Sample per second: 65307\n"
     ]
    },
    {
     "name": "stdout",
     "output_type": "stream",
     "text": [
      "SLIM_BPR_Recommender: Epoch 549 of 650. Elapsed time 2.54 min\n"
     ]
    },
    {
     "name": "stdout",
     "output_type": "stream",
     "text": [
      "Processed 41637 (100.0%) in 0.90 sec. BPR loss is 9.84E+00. Sample per second: 46425\n"
     ]
    },
    {
     "name": "stdout",
     "output_type": "stream",
     "text": [
      "SLIM_BPR_Recommender: Epoch 550 of 650. Elapsed time 2.55 min\n"
     ]
    },
    {
     "name": "stdout",
     "output_type": "stream",
     "text": [
      "Processed 41637 (100.0%) in 1.16 sec. BPR loss is 9.50E+00. Sample per second: 35778\n"
     ]
    },
    {
     "name": "stdout",
     "output_type": "stream",
     "text": [
      "SLIM_BPR_Recommender: Epoch 551 of 650. Elapsed time 2.55 min\n"
     ]
    },
    {
     "name": "stdout",
     "output_type": "stream",
     "text": [
      "Processed 41637 (100.0%) in 0.44 sec. BPR loss is 9.76E+00. Sample per second: 95441\n"
     ]
    },
    {
     "name": "stdout",
     "output_type": "stream",
     "text": [
      "SLIM_BPR_Recommender: Epoch 552 of 650. Elapsed time 2.56 min\n"
     ]
    },
    {
     "name": "stdout",
     "output_type": "stream",
     "text": [
      "Processed 41637 (100.0%) in 0.71 sec. BPR loss is 9.72E+00. Sample per second: 58909\n"
     ]
    },
    {
     "name": "stdout",
     "output_type": "stream",
     "text": [
      "SLIM_BPR_Recommender: Epoch 553 of 650. Elapsed time 2.56 min\n"
     ]
    },
    {
     "name": "stdout",
     "output_type": "stream",
     "text": [
      "Processed 41637 (100.0%) in 0.98 sec. BPR loss is 1.02E+01. Sample per second: 42685\n"
     ]
    },
    {
     "name": "stdout",
     "output_type": "stream",
     "text": [
      "SLIM_BPR_Recommender: Epoch 554 of 650. Elapsed time 2.57 min\n"
     ]
    },
    {
     "name": "stdout",
     "output_type": "stream",
     "text": [
      "Processed 41637 (100.0%) in 1.24 sec. BPR loss is 9.75E+00. Sample per second: 33521\n"
     ]
    },
    {
     "name": "stdout",
     "output_type": "stream",
     "text": [
      "SLIM_BPR_Recommender: Epoch 555 of 650. Elapsed time 2.57 min\n"
     ]
    },
    {
     "name": "stdout",
     "output_type": "stream",
     "text": [
      "Processed 41637 (100.0%) in 0.51 sec. BPR loss is 9.69E+00. Sample per second: 81619"
     ]
    },
    {
     "name": "stdout",
     "output_type": "stream",
     "text": [
      "\n"
     ]
    },
    {
     "name": "stdout",
     "output_type": "stream",
     "text": [
      "SLIM_BPR_Recommender: Epoch 556 of 650. Elapsed time 2.57 min\n"
     ]
    },
    {
     "name": "stdout",
     "output_type": "stream",
     "text": [
      "Processed 41637 (100.0%) in 0.77 sec. BPR loss is 9.46E+00. Sample per second: 53843\n"
     ]
    },
    {
     "name": "stdout",
     "output_type": "stream",
     "text": [
      "SLIM_BPR_Recommender: Epoch 557 of 650. Elapsed time 2.58 min\n"
     ]
    },
    {
     "name": "stdout",
     "output_type": "stream",
     "text": [
      "Processed 41637 (100.0%) in 1.05 sec. BPR loss is 9.73E+00. Sample per second: 39750\n"
     ]
    },
    {
     "name": "stdout",
     "output_type": "stream",
     "text": [
      "SLIM_BPR_Recommender: Epoch 558 of 650. Elapsed time 2.58 min\n"
     ]
    },
    {
     "name": "stdout",
     "output_type": "stream",
     "text": [
      "Processed 41637 (100.0%) in 0.32 sec. BPR loss is 9.41E+00. Sample per second: 129502\n"
     ]
    },
    {
     "name": "stdout",
     "output_type": "stream",
     "text": [
      "SLIM_BPR_Recommender: Epoch 559 of 650. Elapsed time 2.59 min\n"
     ]
    },
    {
     "name": "stdout",
     "output_type": "stream",
     "text": [
      "Processed 41637 (100.0%) in 0.60 sec. BPR loss is 9.66E+00. Sample per second: 69940\n"
     ]
    },
    {
     "name": "stdout",
     "output_type": "stream",
     "text": [
      "SLIM_BPR_Recommender: Epoch 560 of 650. Elapsed time 2.59 min\n"
     ]
    },
    {
     "name": "stdout",
     "output_type": "stream",
     "text": [
      "Processed 41637 (100.0%) in 0.89 sec. BPR loss is 9.73E+00. Sample per second: 46543\n"
     ]
    },
    {
     "name": "stdout",
     "output_type": "stream",
     "text": [
      "SLIM_BPR_Recommender: Epoch 561 of 650. Elapsed time 2.60 min\n"
     ]
    },
    {
     "name": "stdout",
     "output_type": "stream",
     "text": [
      "Processed 41637 (100.0%) in 1.16 sec. BPR loss is 9.98E+00. Sample per second: 35782\n"
     ]
    },
    {
     "name": "stdout",
     "output_type": "stream",
     "text": [
      "SLIM_BPR_Recommender: Epoch 562 of 650. Elapsed time 2.60 min\n"
     ]
    },
    {
     "name": "stdout",
     "output_type": "stream",
     "text": [
      "Processed 41637 (100.0%) in 0.44 sec. BPR loss is 9.91E+00. Sample per second: 95573\n"
     ]
    },
    {
     "name": "stdout",
     "output_type": "stream",
     "text": [
      "SLIM_BPR_Recommender: Epoch 563 of 650. Elapsed time 2.61 min\n"
     ]
    },
    {
     "name": "stdout",
     "output_type": "stream",
     "text": [
      "Processed 41637 (100.0%) in 0.70 sec. BPR loss is 9.93E+00. Sample per second: 59486"
     ]
    },
    {
     "name": "stdout",
     "output_type": "stream",
     "text": [
      "\n"
     ]
    },
    {
     "name": "stdout",
     "output_type": "stream",
     "text": [
      "SLIM_BPR_Recommender: Epoch 564 of 650. Elapsed time 2.61 min\n"
     ]
    },
    {
     "name": "stdout",
     "output_type": "stream",
     "text": [
      "Processed 41637 (100.0%) in 0.97 sec. BPR loss is 9.57E+00. Sample per second: 42769\n"
     ]
    },
    {
     "name": "stdout",
     "output_type": "stream",
     "text": [
      "SLIM_BPR_Recommender: Epoch 565 of 650. Elapsed time 2.62 min\n"
     ]
    },
    {
     "name": "stdout",
     "output_type": "stream",
     "text": [
      "Processed 41637 (100.0%) in 1.25 sec. BPR loss is 1.02E+01. Sample per second: 33366\n"
     ]
    },
    {
     "name": "stdout",
     "output_type": "stream",
     "text": [
      "SLIM_BPR_Recommender: Epoch 566 of 650. Elapsed time 2.62 min\n"
     ]
    },
    {
     "name": "stdout",
     "output_type": "stream",
     "text": [
      "Processed 41637 (100.0%) in 0.51 sec. BPR loss is 9.66E+00. Sample per second: 81650\n"
     ]
    },
    {
     "name": "stdout",
     "output_type": "stream",
     "text": [
      "SLIM_BPR_Recommender: Epoch 567 of 650. Elapsed time 2.62 min\n"
     ]
    },
    {
     "name": "stdout",
     "output_type": "stream",
     "text": [
      "Processed 41637 (100.0%) in 0.77 sec. BPR loss is 1.01E+01. Sample per second: 53932\n"
     ]
    },
    {
     "name": "stdout",
     "output_type": "stream",
     "text": [
      "SLIM_BPR_Recommender: Epoch 568 of 650. Elapsed time 2.63 min\n"
     ]
    },
    {
     "name": "stdout",
     "output_type": "stream",
     "text": [
      "Processed 41637 (100.0%) in 1.03 sec. BPR loss is 9.92E+00. Sample per second: 40265\n"
     ]
    },
    {
     "name": "stdout",
     "output_type": "stream",
     "text": [
      "SLIM_BPR_Recommender: Epoch 569 of 650. Elapsed time 2.63 min\n"
     ]
    },
    {
     "name": "stdout",
     "output_type": "stream",
     "text": [
      "Processed 41637 (100.0%) in 0.31 sec. BPR loss is 9.83E+00. Sample per second: 132866\n"
     ]
    },
    {
     "name": "stdout",
     "output_type": "stream",
     "text": [
      "SLIM_BPR_Recommender: Epoch 570 of 650. Elapsed time 2.64 min\n"
     ]
    },
    {
     "name": "stdout",
     "output_type": "stream",
     "text": [
      "Processed 41637 (100.0%) in 0.58 sec. BPR loss is 1.03E+01. Sample per second: 71622\n"
     ]
    },
    {
     "name": "stdout",
     "output_type": "stream",
     "text": [
      "SLIM_BPR_Recommender: Epoch 571 of 650. Elapsed time 2.64 min\n"
     ]
    },
    {
     "name": "stdout",
     "output_type": "stream",
     "text": [
      "Processed 41637 (100.0%) in 0.85 sec. BPR loss is 9.83E+00. Sample per second: 49130\n"
     ]
    },
    {
     "name": "stdout",
     "output_type": "stream",
     "text": [
      "SLIM_BPR_Recommender: Epoch 572 of 650. Elapsed time 2.65 min\n"
     ]
    },
    {
     "name": "stdout",
     "output_type": "stream",
     "text": [
      "Processed 41637 (100.0%) in 1.11 sec. BPR loss is 1.01E+01. Sample per second: 37510\n"
     ]
    },
    {
     "name": "stdout",
     "output_type": "stream",
     "text": [
      "SLIM_BPR_Recommender: Epoch 573 of 650. Elapsed time 2.65 min\n"
     ]
    },
    {
     "name": "stdout",
     "output_type": "stream",
     "text": [
      "Processed 41637 (100.0%) in 0.37 sec. BPR loss is 9.79E+00. Sample per second: 111673\n"
     ]
    },
    {
     "name": "stdout",
     "output_type": "stream",
     "text": [
      "SLIM_BPR_Recommender: Epoch 574 of 650. Elapsed time 2.66 min\n"
     ]
    },
    {
     "name": "stdout",
     "output_type": "stream",
     "text": [
      "Processed 41637 (100.0%) in 0.64 sec. BPR loss is 9.80E+00. Sample per second: 64560\n"
     ]
    },
    {
     "name": "stdout",
     "output_type": "stream",
     "text": [
      "SLIM_BPR_Recommender: Epoch 575 of 650. Elapsed time 2.66 min\n"
     ]
    },
    {
     "name": "stdout",
     "output_type": "stream",
     "text": [
      "Processed 41637 (100.0%) in 0.91 sec. BPR loss is 1.00E+01. Sample per second: 45970\n"
     ]
    },
    {
     "name": "stdout",
     "output_type": "stream",
     "text": [
      "SLIM_BPR_Recommender: Epoch 576 of 650. Elapsed time 2.66 min\n"
     ]
    },
    {
     "name": "stdout",
     "output_type": "stream",
     "text": [
      "Processed 41637 (100.0%) in 1.17 sec. BPR loss is 9.99E+00. Sample per second: 35622\n"
     ]
    },
    {
     "name": "stdout",
     "output_type": "stream",
     "text": [
      "SLIM_BPR_Recommender: Epoch 577 of 650. Elapsed time 2.67 min\n"
     ]
    },
    {
     "name": "stdout",
     "output_type": "stream",
     "text": [
      "Processed 41637 (100.0%) in 0.44 sec. BPR loss is 9.88E+00. Sample per second: 94364\n"
     ]
    },
    {
     "name": "stdout",
     "output_type": "stream",
     "text": [
      "SLIM_BPR_Recommender: Epoch 578 of 650. Elapsed time 2.67 min\n"
     ]
    },
    {
     "name": "stdout",
     "output_type": "stream",
     "text": [
      "Processed 41637 (100.0%) in 0.71 sec. BPR loss is 1.01E+01. Sample per second: 58313\n"
     ]
    },
    {
     "name": "stdout",
     "output_type": "stream",
     "text": [
      "SLIM_BPR_Recommender: Epoch 579 of 650. Elapsed time 2.68 min\n"
     ]
    },
    {
     "name": "stdout",
     "output_type": "stream",
     "text": [
      "Processed 41637 (100.0%) in 0.99 sec. BPR loss is 1.01E+01. Sample per second: 42219\n"
     ]
    },
    {
     "name": "stdout",
     "output_type": "stream",
     "text": [
      "SLIM_BPR_Recommender: Epoch 580 of 650. Elapsed time 2.68 min\n"
     ]
    },
    {
     "name": "stdout",
     "output_type": "stream",
     "text": [
      "Processed 41637 (100.0%) in 1.25 sec. BPR loss is 1.02E+01. Sample per second: 33331\n"
     ]
    },
    {
     "name": "stdout",
     "output_type": "stream",
     "text": [
      "SLIM_BPR_Recommender: Epoch 581 of 650. Elapsed time 2.69 min\n"
     ]
    },
    {
     "name": "stdout",
     "output_type": "stream",
     "text": [
      "Processed 41637 (100.0%) in 0.51 sec. BPR loss is 9.74E+00. Sample per second: 81336\n"
     ]
    },
    {
     "name": "stdout",
     "output_type": "stream",
     "text": [
      "SLIM_BPR_Recommender: Epoch 582 of 650. Elapsed time 2.69 min\n"
     ]
    },
    {
     "name": "stdout",
     "output_type": "stream",
     "text": [
      "Processed 41637 (100.0%) in 0.78 sec. BPR loss is 9.84E+00. Sample per second: 53201\n"
     ]
    },
    {
     "name": "stdout",
     "output_type": "stream",
     "text": [
      "SLIM_BPR_Recommender: Epoch 583 of 650. Elapsed time 2.70 min\n"
     ]
    },
    {
     "name": "stdout",
     "output_type": "stream",
     "text": [
      "Processed 41637 (100.0%) in 1.05 sec. BPR loss is 1.01E+01. Sample per second: 39756\n"
     ]
    },
    {
     "name": "stdout",
     "output_type": "stream",
     "text": [
      "SLIM_BPR_Recommender: Epoch 584 of 650. Elapsed time 2.70 min\n"
     ]
    },
    {
     "name": "stdout",
     "output_type": "stream",
     "text": [
      "Processed 41637 (100.0%) in 0.31 sec. BPR loss is 9.59E+00. Sample per second: 135609\n"
     ]
    },
    {
     "name": "stdout",
     "output_type": "stream",
     "text": [
      "SLIM_BPR_Recommender: Epoch 585 of 650. Elapsed time 2.70 min\n"
     ]
    },
    {
     "name": "stdout",
     "output_type": "stream",
     "text": [
      "Processed 41637 (100.0%) in 0.57 sec. BPR loss is 1.00E+01. Sample per second: 72462\n"
     ]
    },
    {
     "name": "stdout",
     "output_type": "stream",
     "text": [
      "SLIM_BPR_Recommender: Epoch 586 of 650. Elapsed time 2.71 min\n"
     ]
    },
    {
     "name": "stdout",
     "output_type": "stream",
     "text": [
      "Processed 41637 (100.0%) in 0.84 sec. BPR loss is 9.97E+00. Sample per second: 49807\n"
     ]
    },
    {
     "name": "stdout",
     "output_type": "stream",
     "text": [
      "SLIM_BPR_Recommender: Epoch 587 of 650. Elapsed time 2.71 min\n"
     ]
    },
    {
     "name": "stdout",
     "output_type": "stream",
     "text": [
      "Processed 41637 (100.0%) in 1.10 sec. BPR loss is 1.03E+01. Sample per second: 37902\n"
     ]
    },
    {
     "name": "stdout",
     "output_type": "stream",
     "text": [
      "SLIM_BPR_Recommender: Epoch 588 of 650. Elapsed time 2.72 min\n"
     ]
    },
    {
     "name": "stdout",
     "output_type": "stream",
     "text": [
      "Processed 41637 (100.0%) in 0.37 sec. BPR loss is 1.02E+01. Sample per second: 112543\n"
     ]
    },
    {
     "name": "stdout",
     "output_type": "stream",
     "text": [
      "SLIM_BPR_Recommender: Epoch 589 of 650. Elapsed time 2.72 min\n"
     ]
    },
    {
     "name": "stdout",
     "output_type": "stream",
     "text": [
      "Processed 41637 (100.0%) in 0.65 sec. BPR loss is 1.03E+01. Sample per second: 64484\n"
     ]
    },
    {
     "name": "stdout",
     "output_type": "stream",
     "text": [
      "SLIM_BPR_Recommender: Epoch 590 of 650. Elapsed time 2.73 min\n"
     ]
    },
    {
     "name": "stdout",
     "output_type": "stream",
     "text": [
      "Processed 41637 (100.0%) in 0.91 sec. BPR loss is 1.01E+01. Sample per second: 45955\n"
     ]
    },
    {
     "name": "stdout",
     "output_type": "stream",
     "text": [
      "SLIM_BPR_Recommender: Epoch 591 of 650. Elapsed time 2.73 min\n"
     ]
    },
    {
     "name": "stdout",
     "output_type": "stream",
     "text": [
      "Processed 41637 (100.0%) in 1.18 sec. BPR loss is 9.87E+00. Sample per second: 35379\n"
     ]
    },
    {
     "name": "stdout",
     "output_type": "stream",
     "text": [
      "SLIM_BPR_Recommender: Epoch 592 of 650. Elapsed time 2.74 min\n"
     ]
    },
    {
     "name": "stdout",
     "output_type": "stream",
     "text": [
      "Processed 41637 (100.0%) in 0.45 sec. BPR loss is 1.03E+01. Sample per second: 92090\n"
     ]
    },
    {
     "name": "stdout",
     "output_type": "stream",
     "text": [
      "SLIM_BPR_Recommender: Epoch 593 of 650. Elapsed time 2.74 min\n"
     ]
    },
    {
     "name": "stdout",
     "output_type": "stream",
     "text": [
      "Processed 41637 (100.0%) in 0.72 sec. BPR loss is 1.02E+01. Sample per second: 57981\n"
     ]
    },
    {
     "name": "stdout",
     "output_type": "stream",
     "text": [
      "SLIM_BPR_Recommender: Epoch 594 of 650. Elapsed time 2.74 min\n"
     ]
    },
    {
     "name": "stdout",
     "output_type": "stream",
     "text": [
      "Processed 41637 (100.0%) in 0.98 sec. BPR loss is 1.00E+01. Sample per second: 42511\n"
     ]
    },
    {
     "name": "stdout",
     "output_type": "stream",
     "text": [
      "SLIM_BPR_Recommender: Epoch 595 of 650. Elapsed time 2.75 min\n"
     ]
    },
    {
     "name": "stdout",
     "output_type": "stream",
     "text": [
      "Processed 41637 (100.0%) in 1.24 sec. BPR loss is 1.02E+01. Sample per second: 33574\n"
     ]
    },
    {
     "name": "stdout",
     "output_type": "stream",
     "text": [
      "SLIM_BPR_Recommender: Epoch 596 of 650. Elapsed time 2.75 min\n"
     ]
    },
    {
     "name": "stdout",
     "output_type": "stream",
     "text": [
      "Processed 41637 (100.0%) in 0.51 sec. BPR loss is 1.01E+01. Sample per second: 82373\n"
     ]
    },
    {
     "name": "stdout",
     "output_type": "stream",
     "text": [
      "SLIM_BPR_Recommender: Epoch 597 of 650. Elapsed time 2.76 min\n"
     ]
    },
    {
     "name": "stdout",
     "output_type": "stream",
     "text": [
      "Processed 41637 (100.0%) in 0.78 sec. BPR loss is 9.97E+00. Sample per second: 53553\n"
     ]
    },
    {
     "name": "stdout",
     "output_type": "stream",
     "text": [
      "SLIM_BPR_Recommender: Epoch 598 of 650. Elapsed time 2.76 min\n"
     ]
    },
    {
     "name": "stdout",
     "output_type": "stream",
     "text": [
      "Processed 41637 (100.0%) in 1.05 sec. BPR loss is 1.02E+01. Sample per second: 39762\n"
     ]
    },
    {
     "name": "stdout",
     "output_type": "stream",
     "text": [
      "SLIM_BPR_Recommender: Epoch 599 of 650. Elapsed time 2.77 min\n"
     ]
    },
    {
     "name": "stdout",
     "output_type": "stream",
     "text": [
      "Processed 41637 (100.0%) in 0.30 sec. BPR loss is 1.02E+01. Sample per second: 137328\n"
     ]
    },
    {
     "name": "stdout",
     "output_type": "stream",
     "text": [
      "SLIM_BPR_Recommender: Epoch 600 of 650. Elapsed time 2.77 min\n"
     ]
    },
    {
     "name": "stdout",
     "output_type": "stream",
     "text": [
      "Processed 41637 (100.0%) in 0.57 sec. BPR loss is 1.00E+01. Sample per second: 73578\n"
     ]
    },
    {
     "name": "stdout",
     "output_type": "stream",
     "text": [
      "SLIM_BPR_Recommender: Epoch 601 of 650. Elapsed time 2.77 min\n"
     ]
    },
    {
     "name": "stdout",
     "output_type": "stream",
     "text": [
      "Processed 41637 (100.0%) in 0.85 sec. BPR loss is 1.04E+01. Sample per second: 49094\n"
     ]
    },
    {
     "name": "stdout",
     "output_type": "stream",
     "text": [
      "SLIM_BPR_Recommender: Epoch 602 of 650. Elapsed time 2.78 min\n"
     ]
    },
    {
     "name": "stdout",
     "output_type": "stream",
     "text": [
      "Processed 41637 (100.0%) in 1.12 sec. BPR loss is 1.01E+01. Sample per second: 37283\n"
     ]
    },
    {
     "name": "stdout",
     "output_type": "stream",
     "text": [
      "SLIM_BPR_Recommender: Epoch 603 of 650. Elapsed time 2.78 min\n"
     ]
    },
    {
     "name": "stdout",
     "output_type": "stream",
     "text": [
      "Processed 41637 (100.0%) in 0.39 sec. BPR loss is 1.01E+01. Sample per second: 107814\n"
     ]
    },
    {
     "name": "stdout",
     "output_type": "stream",
     "text": [
      "SLIM_BPR_Recommender: Epoch 604 of 650. Elapsed time 2.79 min\n"
     ]
    },
    {
     "name": "stdout",
     "output_type": "stream",
     "text": [
      "Processed 41637 (100.0%) in 0.65 sec. BPR loss is 1.02E+01. Sample per second: 64172\n"
     ]
    },
    {
     "name": "stdout",
     "output_type": "stream",
     "text": [
      "SLIM_BPR_Recommender: Epoch 605 of 650. Elapsed time 2.79 min\n"
     ]
    },
    {
     "name": "stdout",
     "output_type": "stream",
     "text": [
      "Processed 41637 (100.0%) in 0.91 sec. BPR loss is 9.98E+00. Sample per second: 45518\n"
     ]
    },
    {
     "name": "stdout",
     "output_type": "stream",
     "text": [
      "SLIM_BPR_Recommender: Epoch 606 of 650. Elapsed time 2.80 min\n"
     ]
    },
    {
     "name": "stdout",
     "output_type": "stream",
     "text": [
      "Processed 41637 (100.0%) in 1.17 sec. BPR loss is 1.02E+01. Sample per second: 35461\n"
     ]
    },
    {
     "name": "stdout",
     "output_type": "stream",
     "text": [
      "SLIM_BPR_Recommender: Epoch 607 of 650. Elapsed time 2.80 min\n"
     ]
    },
    {
     "name": "stdout",
     "output_type": "stream",
     "text": [
      "Processed 41637 (100.0%) in 0.44 sec. BPR loss is 1.04E+01. Sample per second: 94654\n"
     ]
    },
    {
     "name": "stdout",
     "output_type": "stream",
     "text": [
      "SLIM_BPR_Recommender: Epoch 608 of 650. Elapsed time 2.81 min\n"
     ]
    },
    {
     "name": "stdout",
     "output_type": "stream",
     "text": [
      "Processed 41637 (100.0%) in 0.71 sec. BPR loss is 1.05E+01. Sample per second: 58685\n"
     ]
    },
    {
     "name": "stdout",
     "output_type": "stream",
     "text": [
      "SLIM_BPR_Recommender: Epoch 609 of 650. Elapsed time 2.81 min\n"
     ]
    },
    {
     "name": "stdout",
     "output_type": "stream",
     "text": [
      "Processed 41637 (100.0%) in 0.98 sec. BPR loss is 1.02E+01. Sample per second: 42594\n"
     ]
    },
    {
     "name": "stdout",
     "output_type": "stream",
     "text": [
      "SLIM_BPR_Recommender: Epoch 610 of 650. Elapsed time 2.82 min\n"
     ]
    },
    {
     "name": "stdout",
     "output_type": "stream",
     "text": [
      "Processed 41637 (100.0%) in 1.25 sec. BPR loss is 1.05E+01. Sample per second: 33423\n"
     ]
    },
    {
     "name": "stdout",
     "output_type": "stream",
     "text": [
      "SLIM_BPR_Recommender: Epoch 611 of 650. Elapsed time 2.82 min\n"
     ]
    },
    {
     "name": "stdout",
     "output_type": "stream",
     "text": [
      "Processed 41637 (100.0%) in 0.52 sec. BPR loss is 1.03E+01. Sample per second: 79242\n"
     ]
    },
    {
     "name": "stdout",
     "output_type": "stream",
     "text": [
      "SLIM_BPR_Recommender: Epoch 612 of 650. Elapsed time 2.82 min\n"
     ]
    },
    {
     "name": "stdout",
     "output_type": "stream",
     "text": [
      "Processed 41637 (100.0%) in 0.79 sec. BPR loss is 1.06E+01. Sample per second: 52814\n"
     ]
    },
    {
     "name": "stdout",
     "output_type": "stream",
     "text": [
      "SLIM_BPR_Recommender: Epoch 613 of 650. Elapsed time 2.83 min\n"
     ]
    },
    {
     "name": "stdout",
     "output_type": "stream",
     "text": [
      "Processed 41637 (100.0%) in 1.05 sec. BPR loss is 1.02E+01. Sample per second: 39612\n"
     ]
    },
    {
     "name": "stdout",
     "output_type": "stream",
     "text": [
      "SLIM_BPR_Recommender: Epoch 614 of 650. Elapsed time 2.83 min\n"
     ]
    },
    {
     "name": "stdout",
     "output_type": "stream",
     "text": [
      "Processed 41637 (100.0%) in 0.32 sec. BPR loss is 1.01E+01. Sample per second: 130906\n"
     ]
    },
    {
     "name": "stdout",
     "output_type": "stream",
     "text": [
      "SLIM_BPR_Recommender: Epoch 615 of 650. Elapsed time 2.84 min\n"
     ]
    },
    {
     "name": "stdout",
     "output_type": "stream",
     "text": [
      "Processed 41637 (100.0%) in 0.59 sec. BPR loss is 1.02E+01. Sample per second: 70353"
     ]
    },
    {
     "name": "stdout",
     "output_type": "stream",
     "text": [
      "\n"
     ]
    },
    {
     "name": "stdout",
     "output_type": "stream",
     "text": [
      "SLIM_BPR_Recommender: Epoch 616 of 650. Elapsed time 2.84 min\n"
     ]
    },
    {
     "name": "stdout",
     "output_type": "stream",
     "text": [
      "Processed 41637 (100.0%) in 0.86 sec. BPR loss is 1.03E+01. Sample per second: 48639\n"
     ]
    },
    {
     "name": "stdout",
     "output_type": "stream",
     "text": [
      "SLIM_BPR_Recommender: Epoch 617 of 650. Elapsed time 2.85 min\n"
     ]
    },
    {
     "name": "stdout",
     "output_type": "stream",
     "text": [
      "Processed 41637 (100.0%) in 1.13 sec. BPR loss is 1.00E+01. Sample per second: 36908\n"
     ]
    },
    {
     "name": "stdout",
     "output_type": "stream",
     "text": [
      "SLIM_BPR_Recommender: Epoch 618 of 650. Elapsed time 2.85 min\n"
     ]
    },
    {
     "name": "stdout",
     "output_type": "stream",
     "text": [
      "Processed 41637 (100.0%) in 0.40 sec. BPR loss is 1.01E+01. Sample per second: 104471\n"
     ]
    },
    {
     "name": "stdout",
     "output_type": "stream",
     "text": [
      "SLIM_BPR_Recommender: Epoch 619 of 650. Elapsed time 2.86 min\n"
     ]
    },
    {
     "name": "stdout",
     "output_type": "stream",
     "text": [
      "Processed 41637 (100.0%) in 0.66 sec. BPR loss is 1.05E+01. Sample per second: 62911\n"
     ]
    },
    {
     "name": "stdout",
     "output_type": "stream",
     "text": [
      "SLIM_BPR_Recommender: Epoch 620 of 650. Elapsed time 2.86 min\n"
     ]
    },
    {
     "name": "stdout",
     "output_type": "stream",
     "text": [
      "Processed 41637 (100.0%) in 0.93 sec. BPR loss is 1.07E+01. Sample per second: 44951\n"
     ]
    },
    {
     "name": "stdout",
     "output_type": "stream",
     "text": [
      "SLIM_BPR_Recommender: Epoch 621 of 650. Elapsed time 2.86 min\n"
     ]
    },
    {
     "name": "stdout",
     "output_type": "stream",
     "text": [
      "Processed 41637 (100.0%) in 1.19 sec. BPR loss is 1.01E+01. Sample per second: 34917\n"
     ]
    },
    {
     "name": "stdout",
     "output_type": "stream",
     "text": [
      "SLIM_BPR_Recommender: Epoch 622 of 650. Elapsed time 2.87 min\n"
     ]
    },
    {
     "name": "stdout",
     "output_type": "stream",
     "text": [
      "Processed 41637 (100.0%) in 0.46 sec. BPR loss is 1.03E+01. Sample per second: 90968\n"
     ]
    },
    {
     "name": "stdout",
     "output_type": "stream",
     "text": [
      "SLIM_BPR_Recommender: Epoch 623 of 650. Elapsed time 2.87 min\n"
     ]
    },
    {
     "name": "stdout",
     "output_type": "stream",
     "text": [
      "Processed 41637 (100.0%) in 0.73 sec. BPR loss is 1.03E+01. Sample per second: 57055\n"
     ]
    },
    {
     "name": "stdout",
     "output_type": "stream",
     "text": [
      "SLIM_BPR_Recommender: Epoch 624 of 650. Elapsed time 2.88 min\n"
     ]
    },
    {
     "name": "stdout",
     "output_type": "stream",
     "text": [
      "Processed 41637 (100.0%) in 0.99 sec. BPR loss is 1.04E+01. Sample per second: 42218\n"
     ]
    },
    {
     "name": "stdout",
     "output_type": "stream",
     "text": [
      "SLIM_BPR_Recommender: Epoch 625 of 650. Elapsed time 2.88 min\n"
     ]
    },
    {
     "name": "stdout",
     "output_type": "stream",
     "text": [
      "Processed 41637 (100.0%) in 1.25 sec. BPR loss is 1.03E+01. Sample per second: 33376\n"
     ]
    },
    {
     "name": "stdout",
     "output_type": "stream",
     "text": [
      "SLIM_BPR_Recommender: Epoch 626 of 650. Elapsed time 2.89 min\n"
     ]
    },
    {
     "name": "stdout",
     "output_type": "stream",
     "text": [
      "Processed 41637 (100.0%) in 0.51 sec. BPR loss is 1.02E+01. Sample per second: 81982\n"
     ]
    },
    {
     "name": "stdout",
     "output_type": "stream",
     "text": [
      "SLIM_BPR_Recommender: Epoch 627 of 650. Elapsed time 2.89 min\n"
     ]
    },
    {
     "name": "stdout",
     "output_type": "stream",
     "text": [
      "Processed 41637 (100.0%) in 0.77 sec. BPR loss is 1.02E+01. Sample per second: 54076\n"
     ]
    },
    {
     "name": "stdout",
     "output_type": "stream",
     "text": [
      "SLIM_BPR_Recommender: Epoch 628 of 650. Elapsed time 2.90 min\n"
     ]
    },
    {
     "name": "stdout",
     "output_type": "stream",
     "text": [
      "Processed 41637 (100.0%) in 1.04 sec. BPR loss is 1.04E+01. Sample per second: 39983\n"
     ]
    },
    {
     "name": "stdout",
     "output_type": "stream",
     "text": [
      "SLIM_BPR_Recommender: Epoch 629 of 650. Elapsed time 2.90 min\n"
     ]
    },
    {
     "name": "stdout",
     "output_type": "stream",
     "text": [
      "Processed 41637 (100.0%) in 0.31 sec. BPR loss is 1.03E+01. Sample per second: 135419\n"
     ]
    },
    {
     "name": "stdout",
     "output_type": "stream",
     "text": [
      "SLIM_BPR_Recommender: Epoch 630 of 650. Elapsed time 2.90 min\n"
     ]
    },
    {
     "name": "stdout",
     "output_type": "stream",
     "text": [
      "Processed 41637 (100.0%) in 0.57 sec. BPR loss is 1.05E+01. Sample per second: 72934\n"
     ]
    },
    {
     "name": "stdout",
     "output_type": "stream",
     "text": [
      "SLIM_BPR_Recommender: Epoch 631 of 650. Elapsed time 2.91 min\n"
     ]
    },
    {
     "name": "stdout",
     "output_type": "stream",
     "text": [
      "Processed 41637 (100.0%) in 0.84 sec. BPR loss is 1.02E+01. Sample per second: 49665\n"
     ]
    },
    {
     "name": "stdout",
     "output_type": "stream",
     "text": [
      "SLIM_BPR_Recommender: Epoch 632 of 650. Elapsed time 2.91 min\n"
     ]
    },
    {
     "name": "stdout",
     "output_type": "stream",
     "text": [
      "Processed 41637 (100.0%) in 1.10 sec. BPR loss is 1.04E+01. Sample per second: 37937\n"
     ]
    },
    {
     "name": "stdout",
     "output_type": "stream",
     "text": [
      "SLIM_BPR_Recommender: Epoch 633 of 650. Elapsed time 2.92 min\n"
     ]
    },
    {
     "name": "stdout",
     "output_type": "stream",
     "text": [
      "Processed 41637 (100.0%) in 0.35 sec. BPR loss is 1.07E+01. Sample per second: 117430\n"
     ]
    },
    {
     "name": "stdout",
     "output_type": "stream",
     "text": [
      "SLIM_BPR_Recommender: Epoch 634 of 650. Elapsed time 2.92 min\n"
     ]
    },
    {
     "name": "stdout",
     "output_type": "stream",
     "text": [
      "Processed 41637 (100.0%) in 0.63 sec. BPR loss is 1.05E+01. Sample per second: 66159\n"
     ]
    },
    {
     "name": "stdout",
     "output_type": "stream",
     "text": [
      "SLIM_BPR_Recommender: Epoch 635 of 650. Elapsed time 2.93 min\n"
     ]
    },
    {
     "name": "stdout",
     "output_type": "stream",
     "text": [
      "Processed 41637 (100.0%) in 0.90 sec. BPR loss is 1.02E+01. Sample per second: 46034"
     ]
    },
    {
     "name": "stdout",
     "output_type": "stream",
     "text": [
      "\n"
     ]
    },
    {
     "name": "stdout",
     "output_type": "stream",
     "text": [
      "SLIM_BPR_Recommender: Epoch 636 of 650. Elapsed time 2.93 min\n"
     ]
    },
    {
     "name": "stdout",
     "output_type": "stream",
     "text": [
      "Processed 41637 (100.0%) in 1.17 sec. BPR loss is 1.05E+01. Sample per second: 35670\n"
     ]
    },
    {
     "name": "stdout",
     "output_type": "stream",
     "text": [
      "SLIM_BPR_Recommender: Epoch 637 of 650. Elapsed time 2.93 min\n"
     ]
    },
    {
     "name": "stdout",
     "output_type": "stream",
     "text": [
      "Processed 41637 (100.0%) in 0.43 sec. BPR loss is 1.06E+01. Sample per second: 96511\n"
     ]
    },
    {
     "name": "stdout",
     "output_type": "stream",
     "text": [
      "SLIM_BPR_Recommender: Epoch 638 of 650. Elapsed time 2.94 min\n"
     ]
    },
    {
     "name": "stdout",
     "output_type": "stream",
     "text": [
      "Processed 41637 (100.0%) in 0.69 sec. BPR loss is 1.06E+01. Sample per second: 60474\n"
     ]
    },
    {
     "name": "stdout",
     "output_type": "stream",
     "text": [
      "SLIM_BPR_Recommender: Epoch 639 of 650. Elapsed time 2.94 min\n"
     ]
    },
    {
     "name": "stdout",
     "output_type": "stream",
     "text": [
      "Processed 41637 (100.0%) in 0.95 sec. BPR loss is 1.09E+01. Sample per second: 43807\n"
     ]
    },
    {
     "name": "stdout",
     "output_type": "stream",
     "text": [
      "SLIM_BPR_Recommender: Epoch 640 of 650. Elapsed time 2.95 min\n"
     ]
    },
    {
     "name": "stdout",
     "output_type": "stream",
     "text": [
      "Processed 41637 (100.0%) in 1.21 sec. BPR loss is 1.07E+01. Sample per second: 34275\n"
     ]
    },
    {
     "name": "stdout",
     "output_type": "stream",
     "text": [
      "SLIM_BPR_Recommender: Epoch 641 of 650. Elapsed time 2.95 min\n"
     ]
    },
    {
     "name": "stdout",
     "output_type": "stream",
     "text": [
      "Processed 41637 (100.0%) in 0.49 sec. BPR loss is 1.01E+01. Sample per second: 84640\n"
     ]
    },
    {
     "name": "stdout",
     "output_type": "stream",
     "text": [
      "SLIM_BPR_Recommender: Epoch 642 of 650. Elapsed time 2.96 min\n"
     ]
    },
    {
     "name": "stdout",
     "output_type": "stream",
     "text": [
      "Processed 41637 (100.0%) in 0.77 sec. BPR loss is 1.04E+01. Sample per second: 54220\n"
     ]
    },
    {
     "name": "stdout",
     "output_type": "stream",
     "text": [
      "SLIM_BPR_Recommender: Epoch 643 of 650. Elapsed time 2.96 min\n"
     ]
    },
    {
     "name": "stdout",
     "output_type": "stream",
     "text": [
      "Processed 41637 (100.0%) in 1.04 sec. BPR loss is 1.07E+01. Sample per second: 39841\n"
     ]
    },
    {
     "name": "stdout",
     "output_type": "stream",
     "text": [
      "SLIM_BPR_Recommender: Epoch 644 of 650. Elapsed time 2.97 min\n"
     ]
    },
    {
     "name": "stdout",
     "output_type": "stream",
     "text": [
      "Processed 41637 (100.0%) in 0.31 sec. BPR loss is 1.03E+01. Sample per second: 132021\n"
     ]
    },
    {
     "name": "stdout",
     "output_type": "stream",
     "text": [
      "SLIM_BPR_Recommender: Epoch 645 of 650. Elapsed time 2.97 min\n"
     ]
    },
    {
     "name": "stdout",
     "output_type": "stream",
     "text": [
      "Processed 41637 (100.0%) in 0.59 sec. BPR loss is 1.07E+01. Sample per second: 71135\n"
     ]
    },
    {
     "name": "stdout",
     "output_type": "stream",
     "text": [
      "SLIM_BPR_Recommender: Epoch 646 of 650. Elapsed time 2.98 min\n"
     ]
    },
    {
     "name": "stdout",
     "output_type": "stream",
     "text": [
      "Processed 41637 (100.0%) in 0.85 sec. BPR loss is 1.06E+01. Sample per second: 48974\n"
     ]
    },
    {
     "name": "stdout",
     "output_type": "stream",
     "text": [
      "SLIM_BPR_Recommender: Epoch 647 of 650. Elapsed time 2.98 min\n"
     ]
    },
    {
     "name": "stdout",
     "output_type": "stream",
     "text": [
      "Processed 41637 (100.0%) in 1.14 sec. BPR loss is 1.03E+01. Sample per second: 36486\n"
     ]
    },
    {
     "name": "stdout",
     "output_type": "stream",
     "text": [
      "SLIM_BPR_Recommender: Epoch 648 of 650. Elapsed time 2.98 min\n"
     ]
    },
    {
     "name": "stdout",
     "output_type": "stream",
     "text": [
      "Processed 41637 (100.0%) in 0.43 sec. BPR loss is 1.07E+01. Sample per second: 96244\n"
     ]
    },
    {
     "name": "stdout",
     "output_type": "stream",
     "text": [
      "SLIM_BPR_Recommender: Epoch 649 of 650. Elapsed time 2.99 min\n"
     ]
    },
    {
     "name": "stdout",
     "output_type": "stream",
     "text": [
      "Processed 41637 (100.0%) in 0.70 sec. BPR loss is 1.08E+01. Sample per second: 59610\n"
     ]
    },
    {
     "name": "stdout",
     "output_type": "stream",
     "text": [
      "SLIM_BPR_Recommender: Epoch 650 of 650. Elapsed time 2.99 min\n"
     ]
    },
    {
     "name": "stdout",
     "output_type": "stream",
     "text": [
      "SLIM_BPR_Recommender: Terminating at epoch 650. Elapsed time 3.72 min\n"
     ]
    },
    {
     "name": "stdout",
     "output_type": "stream",
     "text": [
      "Deallocating Cython objects\n"
     ]
    }
   ],
   "source": [
    "from Recommenders.SLIM.Cython.SLIM_BPR_Cython import SLIM_BPR_Cython\n",
    "\n",
    "slim_bpr = SLIM_BPR_Cython(URM_train_stacked)\n",
    "slim_bpr.fit(epochs=650, sgd_mode = \"sgd\", topK = 483, lambda_i = 0.0006712905081189398, lambda_j = 0.06584150350451998, learning_rate = 0.0036482363905043207)"
   ]
  },
  {
   "cell_type": "code",
   "execution_count": 18,
   "id": "bcd13f23",
   "metadata": {
    "execution": {
     "iopub.execute_input": "2023-01-18T12:18:21.712467Z",
     "iopub.status.busy": "2023-01-18T12:18:21.711897Z",
     "iopub.status.idle": "2023-01-18T12:23:29.008385Z",
     "shell.execute_reply": "2023-01-18T12:23:29.006591Z"
    },
    "papermill": {
     "duration": 307.46578,
     "end_time": "2023-01-18T12:23:29.086489",
     "exception": false,
     "start_time": "2023-01-18T12:18:21.620709",
     "status": "completed"
    },
    "tags": []
   },
   "outputs": [
    {
     "name": "stdout",
     "output_type": "stream",
     "text": [
      "EvaluatorHoldout: Processed 40666 (100.0%) in 49.08 sec. Users per second: 829\n"
     ]
    },
    {
     "name": "stdout",
     "output_type": "stream",
     "text": [
      "Slim_bpr: 0.019032847142692925\n"
     ]
    },
    {
     "name": "stdout",
     "output_type": "stream",
     "text": [
      "EvaluatorHoldout: Processed 40666 (100.0%) in 51.86 sec. Users per second: 784\n"
     ]
    },
    {
     "name": "stdout",
     "output_type": "stream",
     "text": [
      "Slim_en2: 0.027726415694557482\n"
     ]
    },
    {
     "name": "stdout",
     "output_type": "stream",
     "text": [
      "EvaluatorHoldout: Processed 40666 (100.0%) in 38.02 sec. Users per second: 1069\n"
     ]
    },
    {
     "name": "stdout",
     "output_type": "stream",
     "text": [
      "Ials: 0.01997157349964324\n"
     ]
    },
    {
     "name": "stdout",
     "output_type": "stream",
     "text": [
      "EvaluatorHoldout: Processed 40666 (100.0%) in 53.64 sec. Users per second: 758\n"
     ]
    },
    {
     "name": "stdout",
     "output_type": "stream",
     "text": [
      "Slim_en: 0.027838680415524987\n"
     ]
    },
    {
     "name": "stdout",
     "output_type": "stream",
     "text": [
      "EvaluatorHoldout: Processed 40666 (100.0%) in 33.07 sec. Users per second: 1230\n"
     ]
    },
    {
     "name": "stdout",
     "output_type": "stream",
     "text": [
      "Rp3: 0.025709229034979467\n"
     ]
    },
    {
     "name": "stdout",
     "output_type": "stream",
     "text": [
      "EvaluatorHoldout: Processed 40666 (100.0%) in 1.36 min. Users per second: 499\n"
     ]
    },
    {
     "name": "stdout",
     "output_type": "stream",
     "text": [
      "Ease: 0.027119162375026283\n"
     ]
    }
   ],
   "source": [
    "result_dict, _ = evaluator_valid.evaluateRecommender(slim_bpr)\n",
    "print(f\"Slim_bpr: {result_dict['MAP'][10]}\")\n",
    "\n",
    "result_dict, _ = evaluator_valid.evaluateRecommender(recommender_SLIMElasticNet2)\n",
    "print(f\"Slim_en2: {result_dict['MAP'][10]}\")\n",
    "\n",
    "result_dict, _ = evaluator_valid.evaluateRecommender(recommender_implicitAls)\n",
    "print(f\"Ials: {result_dict['MAP'][10]}\")\n",
    "\n",
    "result_dict, _ = evaluator_valid.evaluateRecommender(recommender_SLIMElasticNet1)\n",
    "print(f\"Slim_en: {result_dict['MAP'][10]}\")\n",
    "\n",
    "result_dict, _ = evaluator_valid.evaluateRecommender(RP3beta_all)\n",
    "print(f\"Rp3: {result_dict['MAP'][10]}\")\n",
    "\n",
    "result_dict, _ = evaluator_valid.evaluateRecommender(EASE_R)\n",
    "print(f\"Ease: {result_dict['MAP'][10]}\")"
   ]
  },
  {
   "cell_type": "code",
   "execution_count": 19,
   "id": "f63a7186",
   "metadata": {
    "execution": {
     "iopub.execute_input": "2023-01-18T12:23:29.272418Z",
     "iopub.status.busy": "2023-01-18T12:23:29.271922Z",
     "iopub.status.idle": "2023-01-18T12:23:29.285141Z",
     "shell.execute_reply": "2023-01-18T12:23:29.283944Z"
    },
    "papermill": {
     "duration": 0.109706,
     "end_time": "2023-01-18T12:23:29.287920",
     "exception": false,
     "start_time": "2023-01-18T12:23:29.178214",
     "status": "completed"
    },
    "tags": []
   },
   "outputs": [],
   "source": [
    "from numpy import linalg as LA\n",
    "from Recommenders.BaseRecommender import BaseRecommender\n",
    "\n",
    "class DifferentLossScoresHybridRecommender(BaseRecommender):\n",
    "\n",
    "    RECOMMENDER_NAME = \"DifferentLossScoresHybridRecommender\"\n",
    "\n",
    "\n",
    "    def __init__(self, URM_train, recommender_1, recommender_2, recommender_3, recommender_4, recommender_5, recommender_6):\n",
    "        super(DifferentLossScoresHybridRecommender, self).__init__(URM_train)\n",
    "\n",
    "        self.URM_train = sps.csr_matrix(URM_train)\n",
    "        self.recommender_1 = recommender_1\n",
    "        self.recommender_2 = recommender_2\n",
    "        self.recommender_3 = recommender_3\n",
    "        self.recommender_4 = recommender_4\n",
    "        self.recommender_5 = recommender_5\n",
    "        self.recommender_6 = recommender_6\n",
    "\n",
    "        \n",
    "        \n",
    "        \n",
    "    def fit(self, alpha = 0.5, beta = 0, gamma = 0, theta = 0, sigma=0, epsilon=0):\n",
    "\n",
    "        self.alpha = alpha\n",
    "        self.beta = beta\n",
    "        self.gamma = gamma\n",
    "        self.theta = theta\n",
    "        self.sigma = sigma\n",
    "        self.epsilon = epsilon\n",
    "\n",
    "\n",
    "\n",
    "    def _compute_item_score(self, user_id_array, items_to_compute):\n",
    "        \n",
    "        item_weights_1 = self.recommender_1._compute_item_score(user_id_array)\n",
    "        item_weights_2 = self.recommender_2._compute_item_score(user_id_array)\n",
    "        item_weights_3 = self.recommender_3._compute_item_score(user_id_array)\n",
    "        item_weights_4 = self.recommender_4._compute_item_score(user_id_array)\n",
    "        item_weights_5 = self.recommender_5._compute_item_score(user_id_array)\n",
    "        item_weights_6 = self.recommender_6._compute_item_score(user_id_array)\n",
    "            \n",
    "        item_weights = item_weights_1 * self.alpha + item_weights_2 * self.beta + item_weights_3 * self.gamma + item_weights_4 * self.theta + item_weights_5 * self.sigma + item_weights_6 * self.epsilon\n",
    "\n",
    "        return item_weights"
   ]
  },
  {
   "cell_type": "code",
   "execution_count": 20,
   "id": "78b140af",
   "metadata": {
    "execution": {
     "iopub.execute_input": "2023-01-18T12:23:29.472008Z",
     "iopub.status.busy": "2023-01-18T12:23:29.471563Z",
     "iopub.status.idle": "2023-01-18T12:23:29.478378Z",
     "shell.execute_reply": "2023-01-18T12:23:29.477031Z"
    },
    "papermill": {
     "duration": 0.101754,
     "end_time": "2023-01-18T12:23:29.480959",
     "exception": false,
     "start_time": "2023-01-18T12:23:29.379205",
     "status": "completed"
    },
    "tags": []
   },
   "outputs": [],
   "source": [
    "recommender_class = DifferentLossScoresHybridRecommender\n",
    "\n",
    "import os\n",
    "\n",
    "output_folder_path = \"result_experiments/\"\n",
    "\n",
    "# If directory does not exist, create\n",
    "if not os.path.exists(output_folder_path):\n",
    "    os.makedirs(output_folder_path)\n",
    "    \n",
    "n_cases = 1000\n",
    "n_random_starts = int(n_cases*0.3)\n",
    "metric_to_optimize = \"MAP\"   \n",
    "cutoff_to_optimize = 10"
   ]
  },
  {
   "cell_type": "code",
   "execution_count": 21,
   "id": "e19630ad",
   "metadata": {
    "execution": {
     "iopub.execute_input": "2023-01-18T12:23:29.666492Z",
     "iopub.status.busy": "2023-01-18T12:23:29.666057Z",
     "iopub.status.idle": "2023-01-18T12:23:36.227855Z",
     "shell.execute_reply": "2023-01-18T12:23:36.226484Z"
    },
    "papermill": {
     "duration": 6.658188,
     "end_time": "2023-01-18T12:23:36.231031",
     "exception": false,
     "start_time": "2023-01-18T12:23:29.572843",
     "status": "completed"
    },
    "tags": []
   },
   "outputs": [],
   "source": [
    "from skopt.space import Real, Integer, Categorical\n",
    "#RP3 beta\n",
    "#to tuning hyperparam are typical of ML models to drive the learning process\n",
    "\n",
    "hyperparameters_range_dictionary = {\n",
    "    \"alpha\": Real(low=0, high=100, prior='uniform'),\n",
    "    \"beta\": Real(low=0, high=100, prior='uniform'),\n",
    "    \"gamma\": Real(low=0, high=100, prior='uniform'),\n",
    "    \"theta\": Real(low=0, high=100, prior='uniform'),\n",
    "    \"sigma\": Real(low=0, high=100, prior='uniform'),\n",
    "    \"epsilon\": Real(low=0, high=100, prior='uniform')\n",
    "\n",
    "}\n",
    "\n",
    "from HyperparameterTuning.SearchBayesianSkopt import SearchBayesianSkopt\n",
    "\n",
    "#create a bayesian optimizer object, we pass the recommender and the evaluator\n",
    "hyperparameterSearch = SearchBayesianSkopt(recommender_class,\n",
    "                                         evaluator_validation=evaluator_valid)\n",
    "from HyperparameterTuning.SearchAbstractClass import SearchInputRecommenderArgs\n",
    "  \n",
    "#provide data needed to create instance of model (one on URM_train, the other on URM_all)\n",
    "recommender_input_args = SearchInputRecommenderArgs(\n",
    "    CONSTRUCTOR_POSITIONAL_ARGS = [URM_train, recommender_SLIMElasticNet1, recommender_SLIMElasticNet2, RP3beta_all, EASE_R, slim_bpr, recommender_implicitAls],     # For a CBF model simply put [URM_train, ICM_train]\n",
    "    CONSTRUCTOR_KEYWORD_ARGS = {},\n",
    "    FIT_POSITIONAL_ARGS = [],\n",
    "    FIT_KEYWORD_ARGS = {}\n",
    ")"
   ]
  },
  {
   "cell_type": "code",
   "execution_count": 22,
   "id": "38b0c539",
   "metadata": {
    "execution": {
     "iopub.execute_input": "2023-01-18T12:23:36.413938Z",
     "iopub.status.busy": "2023-01-18T12:23:36.413230Z"
    },
    "papermill": {
     "duration": null,
     "end_time": null,
     "exception": false,
     "start_time": "2023-01-18T12:23:36.321568",
     "status": "running"
    },
    "tags": []
   },
   "outputs": [
    {
     "name": "stdout",
     "output_type": "stream",
     "text": [
      "SearchBayesianSkopt: argument save_model is 'last' but no recommender_input_args_last_test provided, saving best model on train data alone.\n",
      "Iteration No: 1 started. Evaluating function at random point.\n",
      "SearchBayesianSkopt: Testing config: {'alpha': 40.912537024376064, 'beta': 87.34182241062916, 'gamma': 85.31870695281964, 'theta': 99.30246831440216, 'sigma': 16.031119709904175, 'epsilon': 72.19630215229657}\n",
      "DifferentLossScoresHybridRecommender: URM Detected 3461 (12.4%) items with no interactions.\n"
     ]
    },
    {
     "name": "stdout",
     "output_type": "stream",
     "text": [
      "EvaluatorHoldout: Processed 40666 (100.0%) in 2.45 min. Users per second: 277\n"
     ]
    },
    {
     "name": "stdout",
     "output_type": "stream",
     "text": [
      "SearchBayesianSkopt: New best config found. Config 0: {'alpha': 40.912537024376064, 'beta': 87.34182241062916, 'gamma': 85.31870695281964, 'theta': 99.30246831440216, 'sigma': 16.031119709904175, 'epsilon': 72.19630215229657} - results: PRECISION: 0.0530492, PRECISION_RECALL_MIN_DEN: 0.0895367, RECALL: 0.0840453, MAP: 0.0256555, MAP_MIN_DEN: 0.0424203, MRR: 0.1751561, NDCG: 0.0852554, F1: 0.0650433, HIT_RATE: 0.3564649, ARHR_ALL_HITS: 0.2105074, NOVELTY: 0.0036083, AVERAGE_POPULARITY: 0.2421886, DIVERSITY_MEAN_INTER_LIST: 0.9116923, DIVERSITY_HERFINDAHL: 0.9911670, COVERAGE_ITEM: 0.1351187, COVERAGE_ITEM_HIT: 0.0384368, ITEMS_IN_GT: 0.8701015, COVERAGE_USER: 0.9768671, COVERAGE_USER_HIT: 0.3482188, USERS_IN_GT: 0.9768671, DIVERSITY_GINI: 0.0111545, SHANNON_ENTROPY: 8.2719554, RATIO_DIVERSITY_HERFINDAHL: 0.9914939, RATIO_DIVERSITY_GINI: 0.0250407, RATIO_SHANNON_ENTROPY: 0.6130131, RATIO_AVERAGE_POPULARITY: 4.7536867, RATIO_NOVELTY: 0.2355972, \n",
      "\n",
      "SearchBayesianSkopt: Saving model in result_experiments/DifferentLossScoresHybridRecommender\n",
      "\n",
      "SearchBayesianSkopt: Config 0 Exception. Config: {'alpha': 40.912537024376064, 'beta': 87.34182241062916, 'gamma': 85.31870695281964, 'theta': 99.30246831440216, 'sigma': 16.031119709904175, 'epsilon': 72.19630215229657} - Exception: Traceback (most recent call last):\n",
      "  File \"/kaggle/working/HyperparameterTuning/SearchAbstractClass.py\", line 534, in _objective_function\n",
      "    recommender_instance.save_model(self.output_folder_path, file_name =self.output_file_name_root + \"_best_model\")\n",
      "  File \"/kaggle/working/Recommenders/BaseRecommender.py\", line 215, in save_model\n",
      "    raise NotImplementedError(\"BaseRecommender: save_model not implemented\")\n",
      "NotImplementedError: BaseRecommender: save_model not implemented\n",
      "\n",
      "\n"
     ]
    },
    {
     "name": "stderr",
     "output_type": "stream",
     "text": [
      "Traceback (most recent call last):\n",
      "  File \"/kaggle/working/HyperparameterTuning/SearchAbstractClass.py\", line 534, in _objective_function\n",
      "    recommender_instance.save_model(self.output_folder_path, file_name =self.output_file_name_root + \"_best_model\")\n",
      "  File \"/kaggle/working/Recommenders/BaseRecommender.py\", line 215, in save_model\n",
      "    raise NotImplementedError(\"BaseRecommender: save_model not implemented\")\n",
      "NotImplementedError: BaseRecommender: save_model not implemented\n"
     ]
    },
    {
     "name": "stdout",
     "output_type": "stream",
     "text": [
      "Iteration No: 1 ended. Evaluation done at random point.\n",
      "Time taken: 147.1274\n",
      "Function value obtained: 65504.0000\n",
      "Current minimum: 65504.0000\n",
      "Iteration No: 2 started. Evaluating function at random point.\n",
      "SearchBayesianSkopt: Testing config: {'alpha': 28.231519238485177, 'beta': 18.837148035316726, 'gamma': 3.784812035956809, 'theta': 25.028665351412275, 'sigma': 29.93602885406182, 'epsilon': 54.74797511242063}\n",
      "DifferentLossScoresHybridRecommender: URM Detected 3461 (12.4%) items with no interactions.\n"
     ]
    },
    {
     "name": "stdout",
     "output_type": "stream",
     "text": [
      "EvaluatorHoldout: Processed 40666 (100.0%) in 2.46 min. Users per second: 275\n"
     ]
    },
    {
     "name": "stdout",
     "output_type": "stream",
     "text": [
      "SearchBayesianSkopt: Config 1 is suboptimal. Config: {'alpha': 28.231519238485177, 'beta': 18.837148035316726, 'gamma': 3.784812035956809, 'theta': 25.028665351412275, 'sigma': 29.93602885406182, 'epsilon': 54.74797511242063} - results: PRECISION: 0.0473368, PRECISION_RECALL_MIN_DEN: 0.0813451, RECALL: 0.0767296, MAP: 0.0219858, MAP_MIN_DEN: 0.0372223, MRR: 0.1572169, NDCG: 0.0762152, F1: 0.0585515, HIT_RATE: 0.3347022, ARHR_ALL_HITS: 0.1849711, NOVELTY: 0.0034770, AVERAGE_POPULARITY: 0.2948630, DIVERSITY_MEAN_INTER_LIST: 0.8502678, DIVERSITY_HERFINDAHL: 0.9850247, COVERAGE_ITEM: 0.1459883, COVERAGE_ITEM_HIT: 0.0289259, ITEMS_IN_GT: 0.8701015, COVERAGE_USER: 0.9768671, COVERAGE_USER_HIT: 0.3269596, USERS_IN_GT: 0.9768671, DIVERSITY_GINI: 0.0080714, SHANNON_ENTROPY: 7.5899544, RATIO_DIVERSITY_HERFINDAHL: 0.9853495, RATIO_DIVERSITY_GINI: 0.0181195, RATIO_SHANNON_ENTROPY: 0.5624717, RATIO_AVERAGE_POPULARITY: 5.7875809, RATIO_NOVELTY: 0.2270246, \n",
      "\n",
      "Iteration No: 2 ended. Evaluation done at random point.\n",
      "Time taken: 148.0848\n",
      "Function value obtained: -0.0220\n",
      "Current minimum: -0.0220\n",
      "Iteration No: 3 started. Evaluating function at random point.\n",
      "SearchBayesianSkopt: Testing config: {'alpha': 57.60317847435904, 'beta': 55.98243216363975, 'gamma': 63.9454875596996, 'theta': 28.095163203478407, 'sigma': 34.05595020105673, 'epsilon': 55.891121435467205}\n",
      "DifferentLossScoresHybridRecommender: URM Detected 3461 (12.4%) items with no interactions.\n"
     ]
    },
    {
     "name": "stdout",
     "output_type": "stream",
     "text": [
      "EvaluatorHoldout: Processed 40666 (100.0%) in 2.46 min. Users per second: 276\n"
     ]
    },
    {
     "name": "stdout",
     "output_type": "stream",
     "text": [
      "SearchBayesianSkopt: Config 2 is suboptimal. Config: {'alpha': 57.60317847435904, 'beta': 55.98243216363975, 'gamma': 63.9454875596996, 'theta': 28.095163203478407, 'sigma': 34.05595020105673, 'epsilon': 55.891121435467205} - results: PRECISION: 0.0488049, PRECISION_RECALL_MIN_DEN: 0.0835065, RECALL: 0.0786794, MAP: 0.0228555, MAP_MIN_DEN: 0.0385064, MRR: 0.1617013, NDCG: 0.0785273, F1: 0.0602418, HIT_RATE: 0.3408253, ARHR_ALL_HITS: 0.1911988, NOVELTY: 0.0035013, AVERAGE_POPULARITY: 0.2887083, DIVERSITY_MEAN_INTER_LIST: 0.8577597, DIVERSITY_HERFINDAHL: 0.9857739, COVERAGE_ITEM: 0.1578947, COVERAGE_ITEM_HIT: 0.0318936, ITEMS_IN_GT: 0.8701015, COVERAGE_USER: 0.9768671, COVERAGE_USER_HIT: 0.3329410, USERS_IN_GT: 0.9768671, DIVERSITY_GINI: 0.0091910, SHANNON_ENTROPY: 7.7273142, RATIO_DIVERSITY_HERFINDAHL: 0.9860990, RATIO_DIVERSITY_GINI: 0.0206328, RATIO_SHANNON_ENTROPY: 0.5726511, RATIO_AVERAGE_POPULARITY: 5.6667759, RATIO_NOVELTY: 0.2286130, \n",
      "\n",
      "Iteration No: 3 ended. Evaluation done at random point.\n",
      "Time taken: 147.6470\n",
      "Function value obtained: -0.0229\n",
      "Current minimum: -0.0229\n",
      "Iteration No: 4 started. Evaluating function at random point.\n",
      "SearchBayesianSkopt: Testing config: {'alpha': 51.05951141314006, 'beta': 1.3210985249684786, 'gamma': 16.13885800415559, 'theta': 39.22242629155733, 'sigma': 17.06189367787121, 'epsilon': 53.33175095802899}\n",
      "DifferentLossScoresHybridRecommender: URM Detected 3461 (12.4%) items with no interactions.\n"
     ]
    },
    {
     "name": "stdout",
     "output_type": "stream",
     "text": [
      "EvaluatorHoldout: Processed 40666 (100.0%) in 2.78 min. Users per second: 244\n"
     ]
    },
    {
     "name": "stdout",
     "output_type": "stream",
     "text": [
      "SearchBayesianSkopt: Config 3 is suboptimal. Config: {'alpha': 51.05951141314006, 'beta': 1.3210985249684786, 'gamma': 16.13885800415559, 'theta': 39.22242629155733, 'sigma': 17.06189367787121, 'epsilon': 53.33175095802899} - results: PRECISION: 0.0495943, PRECISION_RECALL_MIN_DEN: 0.0844687, RECALL: 0.0795087, MAP: 0.0235251, MAP_MIN_DEN: 0.0393364, MRR: 0.1648488, NDCG: 0.0798889, F1: 0.0610857, HIT_RATE: 0.3432597, ARHR_ALL_HITS: 0.1957865, NOVELTY: 0.0035352, AVERAGE_POPULARITY: 0.2686066, DIVERSITY_MEAN_INTER_LIST: 0.8845271, DIVERSITY_HERFINDAHL: 0.9884505, COVERAGE_ITEM: 0.1348684, COVERAGE_ITEM_HIT: 0.0317506, ITEMS_IN_GT: 0.8701015, COVERAGE_USER: 0.9768671, COVERAGE_USER_HIT: 0.3353191, USERS_IN_GT: 0.9768671, DIVERSITY_GINI: 0.0090697, SHANNON_ENTROPY: 7.9073370, RATIO_DIVERSITY_HERFINDAHL: 0.9887765, RATIO_DIVERSITY_GINI: 0.0203606, RATIO_SHANNON_ENTROPY: 0.5859921, RATIO_AVERAGE_POPULARITY: 5.2722203, RATIO_NOVELTY: 0.2308261, \n",
      "\n",
      "Iteration No: 4 ended. Evaluation done at random point.\n",
      "Time taken: 167.0370\n",
      "Function value obtained: -0.0235\n",
      "Current minimum: -0.0235\n",
      "Iteration No: 5 started. Evaluating function at random point.\n",
      "SearchBayesianSkopt: Testing config: {'alpha': 10.456826575015423, 'beta': 44.77528594231934, 'gamma': 49.631171822214704, 'theta': 16.036694900188223, 'sigma': 64.94661670916962, 'epsilon': 63.39714493001748}\n",
      "DifferentLossScoresHybridRecommender: URM Detected 3461 (12.4%) items with no interactions.\n"
     ]
    },
    {
     "name": "stdout",
     "output_type": "stream",
     "text": [
      "EvaluatorHoldout: Processed 40666 (100.0%) in 2.47 min. Users per second: 275\n"
     ]
    },
    {
     "name": "stdout",
     "output_type": "stream",
     "text": [
      "SearchBayesianSkopt: Config 4 is suboptimal. Config: {'alpha': 10.456826575015423, 'beta': 44.77528594231934, 'gamma': 49.631171822214704, 'theta': 16.036694900188223, 'sigma': 64.94661670916962, 'epsilon': 63.39714493001748} - results: PRECISION: 0.0456450, PRECISION_RECALL_MIN_DEN: 0.0788765, RECALL: 0.0744780, MAP: 0.0209303, MAP_MIN_DEN: 0.0356482, MRR: 0.1512261, NDCG: 0.0734116, F1: 0.0566011, HIT_RATE: 0.3267103, ARHR_ALL_HITS: 0.1770784, NOVELTY: 0.0034448, AVERAGE_POPULARITY: 0.3120260, DIVERSITY_MEAN_INTER_LIST: 0.8233673, DIVERSITY_HERFINDAHL: 0.9823347, COVERAGE_ITEM: 0.1785612, COVERAGE_ITEM_HIT: 0.0274600, ITEMS_IN_GT: 0.8701015, COVERAGE_USER: 0.9768671, COVERAGE_USER_HIT: 0.3191525, USERS_IN_GT: 0.9768671, DIVERSITY_GINI: 0.0082146, SHANNON_ENTROPY: 7.3958443, RATIO_DIVERSITY_HERFINDAHL: 0.9826587, RATIO_DIVERSITY_GINI: 0.0184409, RATIO_SHANNON_ENTROPY: 0.5480867, RATIO_AVERAGE_POPULARITY: 6.1244578, RATIO_NOVELTY: 0.2249226, \n",
      "\n",
      "Iteration No: 5 ended. Evaluation done at random point.\n",
      "Time taken: 148.1803\n",
      "Function value obtained: -0.0209\n",
      "Current minimum: -0.0235\n",
      "Iteration No: 6 started. Evaluating function at random point.\n",
      "SearchBayesianSkopt: Testing config: {'alpha': 77.61595900674621, 'beta': 62.9512580245585, 'gamma': 5.8636978614034065, 'theta': 13.210509062034296, 'sigma': 10.120565507065674, 'epsilon': 17.726029271010916}\n",
      "DifferentLossScoresHybridRecommender: URM Detected 3461 (12.4%) items with no interactions.\n"
     ]
    },
    {
     "name": "stdout",
     "output_type": "stream",
     "text": [
      "EvaluatorHoldout: Processed 40666 (100.0%) in 2.47 min. Users per second: 274\n"
     ]
    },
    {
     "name": "stdout",
     "output_type": "stream",
     "text": [
      "SearchBayesianSkopt: Config 5 is suboptimal. Config: {'alpha': 77.61595900674621, 'beta': 62.9512580245585, 'gamma': 5.8636978614034065, 'theta': 13.210509062034296, 'sigma': 10.120565507065674, 'epsilon': 17.726029271010916} - results: PRECISION: 0.0522746, PRECISION_RECALL_MIN_DEN: 0.0887824, RECALL: 0.0835109, MAP: 0.0250274, MAP_MIN_DEN: 0.0417802, MRR: 0.1727199, NDCG: 0.0841938, F1: 0.0643000, HIT_RATE: 0.3553829, ARHR_ALL_HITS: 0.2065904, NOVELTY: 0.0035642, AVERAGE_POPULARITY: 0.2694887, DIVERSITY_MEAN_INTER_LIST: 0.8806230, DIVERSITY_HERFINDAHL: 0.9880601, COVERAGE_ITEM: 0.1357623, COVERAGE_ITEM_HIT: 0.0392949, ITEMS_IN_GT: 0.8701015, COVERAGE_USER: 0.9768671, COVERAGE_USER_HIT: 0.3471618, USERS_IN_GT: 0.9768671, DIVERSITY_GINI: 0.0112305, SHANNON_ENTROPY: 8.0711735, RATIO_DIVERSITY_HERFINDAHL: 0.9883860, RATIO_DIVERSITY_GINI: 0.0252113, RATIO_SHANNON_ENTROPY: 0.5981336, RATIO_AVERAGE_POPULARITY: 5.2895329, RATIO_NOVELTY: 0.2327214, \n",
      "\n",
      "Iteration No: 6 ended. Evaluation done at random point.\n",
      "Time taken: 148.5178\n",
      "Function value obtained: -0.0250\n",
      "Current minimum: -0.0250\n",
      "Iteration No: 7 started. Evaluating function at random point.\n",
      "SearchBayesianSkopt: Testing config: {'alpha': 51.22593651181061, 'beta': 22.982961468143966, 'gamma': 88.75015374539909, 'theta': 15.92044711206452, 'sigma': 57.53657021164638, 'epsilon': 85.88024904621324}\n",
      "DifferentLossScoresHybridRecommender: URM Detected 3461 (12.4%) items with no interactions.\n"
     ]
    },
    {
     "name": "stdout",
     "output_type": "stream",
     "text": [
      "EvaluatorHoldout: Processed 40666 (100.0%) in 2.48 min. Users per second: 273\n"
     ]
    },
    {
     "name": "stdout",
     "output_type": "stream",
     "text": [
      "SearchBayesianSkopt: Config 6 is suboptimal. Config: {'alpha': 51.22593651181061, 'beta': 22.982961468143966, 'gamma': 88.75015374539909, 'theta': 15.92044711206452, 'sigma': 57.53657021164638, 'epsilon': 85.88024904621324} - results: PRECISION: 0.0470319, PRECISION_RECALL_MIN_DEN: 0.0808776, RECALL: 0.0762871, MAP: 0.0217964, MAP_MIN_DEN: 0.0369792, MRR: 0.1560635, NDCG: 0.0757248, F1: 0.0581894, HIT_RATE: 0.3330055, ARHR_ALL_HITS: 0.1835056, NOVELTY: 0.0034742, AVERAGE_POPULARITY: 0.2985676, DIVERSITY_MEAN_INTER_LIST: 0.8441962, DIVERSITY_HERFINDAHL: 0.9844175, COVERAGE_ITEM: 0.1739488, COVERAGE_ITEM_HIT: 0.0291762, ITEMS_IN_GT: 0.8701015, COVERAGE_USER: 0.9768671, COVERAGE_USER_HIT: 0.3253021, USERS_IN_GT: 0.9768671, DIVERSITY_GINI: 0.0086452, SHANNON_ENTROPY: 7.5687744, RATIO_DIVERSITY_HERFINDAHL: 0.9847422, RATIO_DIVERSITY_GINI: 0.0194075, RATIO_SHANNON_ENTROPY: 0.5609021, RATIO_AVERAGE_POPULARITY: 5.8602955, RATIO_NOVELTY: 0.2268442, \n",
      "\n",
      "Iteration No: 7 ended. Evaluation done at random point.\n",
      "Time taken: 149.0139\n",
      "Function value obtained: -0.0218\n",
      "Current minimum: -0.0250\n",
      "Iteration No: 8 started. Evaluating function at random point.\n",
      "SearchBayesianSkopt: Testing config: {'alpha': 54.533957282005055, 'beta': 41.782473722149746, 'gamma': 88.2570682123908, 'theta': 90.11438098382146, 'sigma': 83.58060712114846, 'epsilon': 14.482028474470345}\n",
      "DifferentLossScoresHybridRecommender: URM Detected 3461 (12.4%) items with no interactions.\n"
     ]
    },
    {
     "name": "stdout",
     "output_type": "stream",
     "text": [
      "EvaluatorHoldout: Processed 40666 (100.0%) in 2.78 min. Users per second: 243\n"
     ]
    },
    {
     "name": "stdout",
     "output_type": "stream",
     "text": [
      "SearchBayesianSkopt: Config 7 is suboptimal. Config: {'alpha': 54.533957282005055, 'beta': 41.782473722149746, 'gamma': 88.2570682123908, 'theta': 90.11438098382146, 'sigma': 83.58060712114846, 'epsilon': 14.482028474470345} - results: PRECISION: 0.0454163, PRECISION_RECALL_MIN_DEN: 0.0785241, RECALL: 0.0741319, MAP: 0.0208079, MAP_MIN_DEN: 0.0354936, MRR: 0.1507734, NDCG: 0.0731123, F1: 0.0563254, HIT_RATE: 0.3259234, ARHR_ALL_HITS: 0.1762950, NOVELTY: 0.0034356, AVERAGE_POPULARITY: 0.3203928, DIVERSITY_MEAN_INTER_LIST: 0.8080993, DIVERSITY_HERFINDAHL: 0.9808079, COVERAGE_ITEM: 0.2008367, COVERAGE_ITEM_HIT: 0.0285684, ITEMS_IN_GT: 0.8701015, COVERAGE_USER: 0.9768671, COVERAGE_USER_HIT: 0.3183838, USERS_IN_GT: 0.9768671, DIVERSITY_GINI: 0.0089665, SHANNON_ENTROPY: 7.3354056, RATIO_DIVERSITY_HERFINDAHL: 0.9811314, RATIO_DIVERSITY_GINI: 0.0201288, RATIO_SHANNON_ENTROPY: 0.5436078, RATIO_AVERAGE_POPULARITY: 6.2886819, RATIO_NOVELTY: 0.2243198, \n",
      "\n"
     ]
    },
    {
     "name": "stdout",
     "output_type": "stream",
     "text": [
      "Iteration No: 8 ended. Evaluation done at random point.\n",
      "Time taken: 167.5415\n",
      "Function value obtained: -0.0208\n",
      "Current minimum: -0.0250\n",
      "Iteration No: 9 started. Evaluating function at random point.\n",
      "SearchBayesianSkopt: Testing config: {'alpha': 7.124783240906009, 'beta': 9.652021334516894, 'gamma': 0.7374559800321647, 'theta': 76.98149718127543, 'sigma': 46.820188786100125, 'epsilon': 73.10116715756966}\n",
      "DifferentLossScoresHybridRecommender: URM Detected 3461 (12.4%) items with no interactions.\n"
     ]
    },
    {
     "name": "stdout",
     "output_type": "stream",
     "text": [
      "EvaluatorHoldout: Processed 40666 (100.0%) in 2.54 min. Users per second: 267\n"
     ]
    },
    {
     "name": "stdout",
     "output_type": "stream",
     "text": [
      "SearchBayesianSkopt: Config 8 is suboptimal. Config: {'alpha': 7.124783240906009, 'beta': 9.652021334516894, 'gamma': 0.7374559800321647, 'theta': 76.98149718127543, 'sigma': 46.820188786100125, 'epsilon': 73.10116715756966} - results: PRECISION: 0.0466458, PRECISION_RECALL_MIN_DEN: 0.0803029, RECALL: 0.0757716, MAP: 0.0215782, MAP_MIN_DEN: 0.0366006, MRR: 0.1548973, NDCG: 0.0750873, F1: 0.0577439, HIT_RATE: 0.3312841, ARHR_ALL_HITS: 0.1819222, NOVELTY: 0.0034677, AVERAGE_POPULARITY: 0.2991970, DIVERSITY_MEAN_INTER_LIST: 0.8438588, DIVERSITY_HERFINDAHL: 0.9843838, COVERAGE_ITEM: 0.1597540, COVERAGE_ITEM_HIT: 0.0278533, ITEMS_IN_GT: 0.8701015, COVERAGE_USER: 0.9768671, COVERAGE_USER_HIT: 0.3236206, USERS_IN_GT: 0.9768671, DIVERSITY_GINI: 0.0080949, SHANNON_ENTROPY: 7.5342484, RATIO_DIVERSITY_HERFINDAHL: 0.9847085, RATIO_DIVERSITY_GINI: 0.0181722, RATIO_SHANNON_ENTROPY: 0.5583435, RATIO_AVERAGE_POPULARITY: 5.8726483, RATIO_NOVELTY: 0.2264198, \n",
      "\n",
      "Iteration No: 9 ended. Evaluation done at random point.\n",
      "Time taken: 152.4468\n",
      "Function value obtained: -0.0216\n",
      "Current minimum: -0.0250\n",
      "Iteration No: 10 started. Evaluating function at random point.\n",
      "SearchBayesianSkopt: Testing config: {'alpha': 0.8084908903466583, 'beta': 0.4434355420771864, 'gamma': 64.41311111715589, 'theta': 29.985039612170343, 'sigma': 59.22918900110028, 'epsilon': 47.25521206798635}\n",
      "DifferentLossScoresHybridRecommender: URM Detected 3461 (12.4%) items with no interactions.\n"
     ]
    },
    {
     "name": "stdout",
     "output_type": "stream",
     "text": [
      "EvaluatorHoldout: Processed 40666 (100.0%) in 2.48 min. Users per second: 274\n"
     ]
    },
    {
     "name": "stdout",
     "output_type": "stream",
     "text": [
      "SearchBayesianSkopt: Config 9 is suboptimal. Config: {'alpha': 0.8084908903466583, 'beta': 0.4434355420771864, 'gamma': 64.41311111715589, 'theta': 29.985039612170343, 'sigma': 59.22918900110028, 'epsilon': 47.25521206798635} - results: PRECISION: 0.0451016, PRECISION_RECALL_MIN_DEN: 0.0779040, RECALL: 0.0735432, MAP: 0.0205933, MAP_MIN_DEN: 0.0351025, MRR: 0.1492681, NDCG: 0.0724318, F1: 0.0559133, HIT_RATE: 0.3239069, ARHR_ALL_HITS: 0.1745136, NOVELTY: 0.0034400, AVERAGE_POPULARITY: 0.3149760, DIVERSITY_MEAN_INTER_LIST: 0.8182324, DIVERSITY_HERFINDAHL: 0.9818212, COVERAGE_ITEM: 0.1998355, COVERAGE_ITEM_HIT: 0.0266733, ITEMS_IN_GT: 0.8701015, COVERAGE_USER: 0.9768671, COVERAGE_USER_HIT: 0.3164140, USERS_IN_GT: 0.9768671, DIVERSITY_GINI: 0.0086012, SHANNON_ENTROPY: 7.3605976, RATIO_DIVERSITY_HERFINDAHL: 0.9821450, RATIO_DIVERSITY_GINI: 0.0193088, RATIO_SHANNON_ENTROPY: 0.5454747, RATIO_AVERAGE_POPULARITY: 6.1823593, RATIO_NOVELTY: 0.2246077, \n",
      "\n",
      "Iteration No: 10 ended. Evaluation done at random point.\n",
      "Time taken: 148.7078\n",
      "Function value obtained: -0.0206\n",
      "Current minimum: -0.0250\n",
      "Iteration No: 11 started. Evaluating function at random point.\n",
      "SearchBayesianSkopt: Testing config: {'alpha': 22.475836859933867, 'beta': 23.110060210033073, 'gamma': 70.75375914686379, 'theta': 84.40495259542716, 'sigma': 50.759948854559966, 'epsilon': 31.85266956268334}\n",
      "DifferentLossScoresHybridRecommender: URM Detected 3461 (12.4%) items with no interactions.\n"
     ]
    },
    {
     "name": "stdout",
     "output_type": "stream",
     "text": [
      "EvaluatorHoldout: Processed 40666 (100.0%) in 2.47 min. Users per second: 275\n"
     ]
    },
    {
     "name": "stdout",
     "output_type": "stream",
     "text": [
      "SearchBayesianSkopt: Config 10 is suboptimal. Config: {'alpha': 22.475836859933867, 'beta': 23.110060210033073, 'gamma': 70.75375914686379, 'theta': 84.40495259542716, 'sigma': 50.759948854559966, 'epsilon': 31.85266956268334} - results: PRECISION: 0.0466360, PRECISION_RECALL_MIN_DEN: 0.0803729, RECALL: 0.0758443, MAP: 0.0214999, MAP_MIN_DEN: 0.0365635, MRR: 0.1544274, NDCG: 0.0750258, F1: 0.0577575, HIT_RATE: 0.3314317, ARHR_ALL_HITS: 0.1813133, NOVELTY: 0.0034592, AVERAGE_POPULARITY: 0.3088201, DIVERSITY_MEAN_INTER_LIST: 0.8274966, DIVERSITY_HERFINDAHL: 0.9827476, COVERAGE_ITEM: 0.1940789, COVERAGE_ITEM_HIT: 0.0297840, ITEMS_IN_GT: 0.8701015, COVERAGE_USER: 0.9768671, COVERAGE_USER_HIT: 0.3237647, USERS_IN_GT: 0.9768671, DIVERSITY_GINI: 0.0091250, SHANNON_ENTROPY: 7.4793334, RATIO_DIVERSITY_HERFINDAHL: 0.9830717, RATIO_DIVERSITY_GINI: 0.0204846, RATIO_SHANNON_ENTROPY: 0.5542739, RATIO_AVERAGE_POPULARITY: 6.0615323, RATIO_NOVELTY: 0.2258627, \n",
      "\n",
      "Iteration No: 11 ended. Evaluation done at random point.\n",
      "Time taken: 148.0791\n",
      "Function value obtained: -0.0215\n",
      "Current minimum: -0.0250\n",
      "Iteration No: 12 started. Evaluating function at random point.\n",
      "SearchBayesianSkopt: Testing config: {'alpha': 47.52725721293426, 'beta': 51.59041346142818, 'gamma': 36.19142006203136, 'theta': 53.79764553558514, 'sigma': 60.3890913192917, 'epsilon': 35.15117371374176}\n",
      "DifferentLossScoresHybridRecommender: URM Detected 3461 (12.4%) items with no interactions.\n"
     ]
    },
    {
     "name": "stdout",
     "output_type": "stream",
     "text": [
      "EvaluatorHoldout: Processed 40666 (100.0%) in 2.46 min. Users per second: 276\n"
     ]
    },
    {
     "name": "stdout",
     "output_type": "stream",
     "text": [
      "SearchBayesianSkopt: Config 11 is suboptimal. Config: {'alpha': 47.52725721293426, 'beta': 51.59041346142818, 'gamma': 36.19142006203136, 'theta': 53.79764553558514, 'sigma': 60.3890913192917, 'epsilon': 35.15117371374176} - results: PRECISION: 0.0461270, PRECISION_RECALL_MIN_DEN: 0.0796446, RECALL: 0.0751744, MAP: 0.0212278, MAP_MIN_DEN: 0.0361716, MRR: 0.1530588, NDCG: 0.0742972, F1: 0.0571728, HIT_RATE: 0.3291693, ARHR_ALL_HITS: 0.1793973, NOVELTY: 0.0034455, AVERAGE_POPULARITY: 0.3139888, DIVERSITY_MEAN_INTER_LIST: 0.8195058, DIVERSITY_HERFINDAHL: 0.9819486, COVERAGE_ITEM: 0.1773098, COVERAGE_ITEM_HIT: 0.0291762, ITEMS_IN_GT: 0.8701015, COVERAGE_USER: 0.9768671, COVERAGE_USER_HIT: 0.3215547, USERS_IN_GT: 0.9768671, DIVERSITY_GINI: 0.0085103, SHANNON_ENTROPY: 7.4036133, RATIO_DIVERSITY_HERFINDAHL: 0.9822724, RATIO_DIVERSITY_GINI: 0.0191047, RATIO_SHANNON_ENTROPY: 0.5486625, RATIO_AVERAGE_POPULARITY: 6.1629838, RATIO_NOVELTY: 0.2249716, \n",
      "\n",
      "Iteration No: 12 ended. Evaluation done at random point.\n",
      "Time taken: 147.5465\n",
      "Function value obtained: -0.0212\n",
      "Current minimum: -0.0250\n",
      "Iteration No: 13 started. Evaluating function at random point.\n",
      "SearchBayesianSkopt: Testing config: {'alpha': 6.481270252536921, 'beta': 8.963363660712199, 'gamma': 11.969274787310539, 'theta': 55.46937809422538, 'sigma': 58.8014879894605, 'epsilon': 72.58347950745811}\n",
      "DifferentLossScoresHybridRecommender: URM Detected 3461 (12.4%) items with no interactions.\n"
     ]
    },
    {
     "name": "stdout",
     "output_type": "stream",
     "text": [
      "EvaluatorHoldout: Processed 40666 (100.0%) in 2.75 min. Users per second: 247\n"
     ]
    },
    {
     "name": "stdout",
     "output_type": "stream",
     "text": [
      "SearchBayesianSkopt: Config 12 is suboptimal. Config: {'alpha': 6.481270252536921, 'beta': 8.963363660712199, 'gamma': 11.969274787310539, 'theta': 55.46937809422538, 'sigma': 58.8014879894605, 'epsilon': 72.58347950745811} - results: PRECISION: 0.0457950, PRECISION_RECALL_MIN_DEN: 0.0791300, RECALL: 0.0747056, MAP: 0.0210273, MAP_MIN_DEN: 0.0357489, MRR: 0.1518444, NDCG: 0.0736423, F1: 0.0567822, HIT_RATE: 0.3273988, ARHR_ALL_HITS: 0.1778459, NOVELTY: 0.0034511, AVERAGE_POPULARITY: 0.3074482, DIVERSITY_MEAN_INTER_LIST: 0.8310754, DIVERSITY_HERFINDAHL: 0.9831055, COVERAGE_ITEM: 0.1720180, COVERAGE_ITEM_HIT: 0.0271739, ITEMS_IN_GT: 0.8701015, COVERAGE_USER: 0.9768671, COVERAGE_USER_HIT: 0.3198251, USERS_IN_GT: 0.9768671, DIVERSITY_GINI: 0.0080546, SHANNON_ENTROPY: 7.4352244, RATIO_DIVERSITY_HERFINDAHL: 0.9834297, RATIO_DIVERSITY_GINI: 0.0180819, RATIO_SHANNON_ENTROPY: 0.5510051, RATIO_AVERAGE_POPULARITY: 6.0346045, RATIO_NOVELTY: 0.2253370, \n",
      "\n",
      "Iteration No: 13 ended. Evaluation done at random point.\n",
      "Time taken: 165.0558\n",
      "Function value obtained: -0.0210\n",
      "Current minimum: -0.0250\n",
      "Iteration No: 14 started. Evaluating function at random point.\n",
      "SearchBayesianSkopt: Testing config: {'alpha': 93.21734614930743, 'beta': 58.38104880556052, 'gamma': 59.15411983706298, 'theta': 80.00975826995196, 'sigma': 26.33587390744106, 'epsilon': 77.31314343695799}\n",
      "DifferentLossScoresHybridRecommender: URM Detected 3461 (12.4%) items with no interactions.\n"
     ]
    },
    {
     "name": "stdout",
     "output_type": "stream",
     "text": [
      "EvaluatorHoldout: Processed 40666 (100.0%) in 2.51 min. Users per second: 270\n"
     ]
    },
    {
     "name": "stdout",
     "output_type": "stream",
     "text": [
      "SearchBayesianSkopt: Config 13 is suboptimal. Config: {'alpha': 93.21734614930743, 'beta': 58.38104880556052, 'gamma': 59.15411983706298, 'theta': 80.00975826995196, 'sigma': 26.33587390744106, 'epsilon': 77.31314343695799} - results: PRECISION: 0.0510992, PRECISION_RECALL_MIN_DEN: 0.0868577, RECALL: 0.0817025, MAP: 0.0243992, MAP_MIN_DEN: 0.0407427, MRR: 0.1693604, NDCG: 0.0823432, F1: 0.0628747, HIT_RATE: 0.3497762, ARHR_ALL_HITS: 0.2020489, NOVELTY: 0.0035577, AVERAGE_POPULARITY: 0.2632952, DIVERSITY_MEAN_INTER_LIST: 0.8897555, DIVERSITY_HERFINDAHL: 0.9889734, COVERAGE_ITEM: 0.1382294, COVERAGE_ITEM_HIT: 0.0356121, ITEMS_IN_GT: 0.8701015, COVERAGE_USER: 0.9768671, COVERAGE_USER_HIT: 0.3416849, USERS_IN_GT: 0.9768671, DIVERSITY_GINI: 0.0100591, SHANNON_ENTROPY: 8.0277787, RATIO_DIVERSITY_HERFINDAHL: 0.9892995, RATIO_DIVERSITY_GINI: 0.0225816, RATIO_SHANNON_ENTROPY: 0.5949178, RATIO_AVERAGE_POPULARITY: 5.1679677, RATIO_NOVELTY: 0.2322951, \n",
      "\n",
      "Iteration No: 14 ended. Evaluation done at random point.\n",
      "Time taken: 151.0327\n",
      "Function value obtained: -0.0244\n",
      "Current minimum: -0.0250\n",
      "Iteration No: 15 started. Evaluating function at random point.\n",
      "SearchBayesianSkopt: Testing config: {'alpha': 2.1350893698974476, 'beta': 4.785193188889949, 'gamma': 59.30392868616098, 'theta': 78.10983572928617, 'sigma': 9.565918000406374, 'epsilon': 63.5812998655066}\n",
      "DifferentLossScoresHybridRecommender: URM Detected 3461 (12.4%) items with no interactions.\n"
     ]
    },
    {
     "name": "stdout",
     "output_type": "stream",
     "text": [
      "EvaluatorHoldout: Processed 40666 (100.0%) in 2.51 min. Users per second: 270\n"
     ]
    },
    {
     "name": "stdout",
     "output_type": "stream",
     "text": [
      "SearchBayesianSkopt: Config 14 is suboptimal. Config: {'alpha': 2.1350893698974476, 'beta': 4.785193188889949, 'gamma': 59.30392868616098, 'theta': 78.10983572928617, 'sigma': 9.565918000406374, 'epsilon': 63.5812998655066} - results: PRECISION: 0.0517853, PRECISION_RECALL_MIN_DEN: 0.0872817, RECALL: 0.0818881, MAP: 0.0250313, MAP_MIN_DEN: 0.0412071, MRR: 0.1713621, NDCG: 0.0831078, F1: 0.0634472, HIT_RATE: 0.3498008, ARHR_ALL_HITS: 0.2056829, NOVELTY: 0.0036144, AVERAGE_POPULARITY: 0.2311413, DIVERSITY_MEAN_INTER_LIST: 0.9227642, DIVERSITY_HERFINDAHL: 0.9922741, COVERAGE_ITEM: 0.1341891, COVERAGE_ITEM_HIT: 0.0343607, ITEMS_IN_GT: 0.8701015, COVERAGE_USER: 0.9768671, COVERAGE_USER_HIT: 0.3417089, USERS_IN_GT: 0.9768671, DIVERSITY_GINI: 0.0103174, SHANNON_ENTROPY: 8.2774444, RATIO_DIVERSITY_HERFINDAHL: 0.9926014, RATIO_DIVERSITY_GINI: 0.0231614, RATIO_SHANNON_ENTROPY: 0.6134198, RATIO_AVERAGE_POPULARITY: 4.5368503, RATIO_NOVELTY: 0.2359975, \n",
      "\n",
      "Iteration No: 15 ended. Evaluation done at random point.\n",
      "Time taken: 150.9973\n",
      "Function value obtained: -0.0250\n",
      "Current minimum: -0.0250\n",
      "Iteration No: 16 started. Evaluating function at random point.\n",
      "SearchBayesianSkopt: Testing config: {'alpha': 30.307496562285447, 'beta': 38.918886928500974, 'gamma': 98.03875594611236, 'theta': 76.91307076687245, 'sigma': 27.174558847575252, 'epsilon': 51.38122701900242}\n",
      "DifferentLossScoresHybridRecommender: URM Detected 3461 (12.4%) items with no interactions.\n"
     ]
    },
    {
     "name": "stdout",
     "output_type": "stream",
     "text": [
      "EvaluatorHoldout: Processed 40666 (100.0%) in 2.51 min. Users per second: 270\n"
     ]
    },
    {
     "name": "stdout",
     "output_type": "stream",
     "text": [
      "SearchBayesianSkopt: Config 15 is suboptimal. Config: {'alpha': 30.307496562285447, 'beta': 38.918886928500974, 'gamma': 98.03875594611236, 'theta': 76.91307076687245, 'sigma': 27.174558847575252, 'epsilon': 51.38122701900242} - results: PRECISION: 0.0498795, PRECISION_RECALL_MIN_DEN: 0.0850815, RECALL: 0.0800823, MAP: 0.0235987, MAP_MIN_DEN: 0.0396198, MRR: 0.1655122, NDCG: 0.0803833, F1: 0.0614714, HIT_RATE: 0.3453007, ARHR_ALL_HITS: 0.1964702, NOVELTY: 0.0035316, AVERAGE_POPULARITY: 0.2764026, DIVERSITY_MEAN_INTER_LIST: 0.8735582, DIVERSITY_HERFINDAHL: 0.9873537, COVERAGE_ITEM: 0.1695509, COVERAGE_ITEM_HIT: 0.0335741, ITEMS_IN_GT: 0.8701015, COVERAGE_USER: 0.9768671, COVERAGE_USER_HIT: 0.3373129, USERS_IN_GT: 0.9768671, DIVERSITY_GINI: 0.0100525, SHANNON_ENTROPY: 7.8857444, RATIO_DIVERSITY_HERFINDAHL: 0.9876793, RATIO_DIVERSITY_GINI: 0.0225667, RATIO_SHANNON_ENTROPY: 0.5843920, RATIO_AVERAGE_POPULARITY: 5.4252397, RATIO_NOVELTY: 0.2305883, \n",
      "\n",
      "Iteration No: 16 ended. Evaluation done at random point.\n",
      "Time taken: 150.9394\n",
      "Function value obtained: -0.0236\n",
      "Current minimum: -0.0250\n",
      "Iteration No: 17 started. Evaluating function at random point.\n",
      "SearchBayesianSkopt: Testing config: {'alpha': 92.79801123803156, 'beta': 72.71046710219076, 'gamma': 33.69587109987741, 'theta': 58.19052663286423, 'sigma': 28.934862358110163, 'epsilon': 18.1402087627788}\n",
      "DifferentLossScoresHybridRecommender: URM Detected 3461 (12.4%) items with no interactions.\n"
     ]
    },
    {
     "name": "stdout",
     "output_type": "stream",
     "text": [
      "EvaluatorHoldout: Processed 40666 (100.0%) in 2.85 min. Users per second: 238\n"
     ]
    },
    {
     "name": "stdout",
     "output_type": "stream",
     "text": [
      "SearchBayesianSkopt: Config 16 is suboptimal. Config: {'alpha': 92.79801123803156, 'beta': 72.71046710219076, 'gamma': 33.69587109987741, 'theta': 58.19052663286423, 'sigma': 28.934862358110163, 'epsilon': 18.1402087627788} - results: PRECISION: 0.0494197, PRECISION_RECALL_MIN_DEN: 0.0845051, RECALL: 0.0796269, MAP: 0.0232807, MAP_MIN_DEN: 0.0392338, MRR: 0.1643094, NDCG: 0.0797299, F1: 0.0609878, HIT_RATE: 0.3438499, ARHR_ALL_HITS: 0.1944975, NOVELTY: 0.0035015, AVERAGE_POPULARITY: 0.2942897, DIVERSITY_MEAN_INTER_LIST: 0.8482907, DIVERSITY_HERFINDAHL: 0.9848270, COVERAGE_ITEM: 0.1543192, COVERAGE_ITEM_HIT: 0.0350043, ITEMS_IN_GT: 0.8701015, COVERAGE_USER: 0.9768671, COVERAGE_USER_HIT: 0.3358956, USERS_IN_GT: 0.9768671, DIVERSITY_GINI: 0.0098459, SHANNON_ENTROPY: 7.7308860, RATIO_DIVERSITY_HERFINDAHL: 0.9851518, RATIO_DIVERSITY_GINI: 0.0221030, RATIO_SHANNON_ENTROPY: 0.5729158, RATIO_AVERAGE_POPULARITY: 5.7763288, RATIO_NOVELTY: 0.2286232, \n",
      "\n",
      "Iteration No: 17 ended. Evaluation done at random point.\n",
      "Time taken: 171.2144\n",
      "Function value obtained: -0.0233\n",
      "Current minimum: -0.0250\n",
      "Iteration No: 18 started. Evaluating function at random point.\n",
      "SearchBayesianSkopt: Testing config: {'alpha': 97.56713065000582, 'beta': 17.15817037653124, 'gamma': 51.189675061317644, 'theta': 6.483308442534698, 'sigma': 78.40438892910579, 'epsilon': 75.47612714794532}\n",
      "DifferentLossScoresHybridRecommender: URM Detected 3461 (12.4%) items with no interactions.\n"
     ]
    },
    {
     "name": "stdout",
     "output_type": "stream",
     "text": [
      "EvaluatorHoldout: Processed 40666 (100.0%) in 2.52 min. Users per second: 269\n"
     ]
    },
    {
     "name": "stdout",
     "output_type": "stream",
     "text": [
      "SearchBayesianSkopt: Config 17 is suboptimal. Config: {'alpha': 97.56713065000582, 'beta': 17.15817037653124, 'gamma': 51.189675061317644, 'theta': 6.483308442534698, 'sigma': 78.40438892910579, 'epsilon': 75.47612714794532} - results: PRECISION: 0.0460114, PRECISION_RECALL_MIN_DEN: 0.0794836, RECALL: 0.0750429, MAP: 0.0211253, MAP_MIN_DEN: 0.0359456, MRR: 0.1523062, NDCG: 0.0739809, F1: 0.0570460, HIT_RATE: 0.3287021, ARHR_ALL_HITS: 0.1785157, NOVELTY: 0.0034488, AVERAGE_POPULARITY: 0.3107657, DIVERSITY_MEAN_INTER_LIST: 0.8252162, DIVERSITY_HERFINDAHL: 0.9825196, COVERAGE_ITEM: 0.1756293, COVERAGE_ITEM_HIT: 0.0281035, ITEMS_IN_GT: 0.8701015, COVERAGE_USER: 0.9768671, COVERAGE_USER_HIT: 0.3210983, USERS_IN_GT: 0.9768671, DIVERSITY_GINI: 0.0083244, SHANNON_ENTROPY: 7.4222595, RATIO_DIVERSITY_HERFINDAHL: 0.9828436, RATIO_DIVERSITY_GINI: 0.0186874, RATIO_SHANNON_ENTROPY: 0.5500443, RATIO_AVERAGE_POPULARITY: 6.0997192, RATIO_NOVELTY: 0.2251824, \n",
      "\n",
      "Iteration No: 18 ended. Evaluation done at random point.\n",
      "Time taken: 151.2325\n",
      "Function value obtained: -0.0211\n",
      "Current minimum: -0.0250\n",
      "Iteration No: 19 started. Evaluating function at random point.\n",
      "SearchBayesianSkopt: Testing config: {'alpha': 58.149045103261635, 'beta': 55.39525707864199, 'gamma': 13.893946403158678, 'theta': 80.14181980224289, 'sigma': 56.105686842152615, 'epsilon': 17.6888451238227}\n",
      "DifferentLossScoresHybridRecommender: URM Detected 3461 (12.4%) items with no interactions.\n"
     ]
    },
    {
     "name": "stdout",
     "output_type": "stream",
     "text": [
      "EvaluatorHoldout: Processed 40666 (100.0%) in 2.54 min. Users per second: 266\n"
     ]
    },
    {
     "name": "stdout",
     "output_type": "stream",
     "text": [
      "SearchBayesianSkopt: Config 18 is suboptimal. Config: {'alpha': 58.149045103261635, 'beta': 55.39525707864199, 'gamma': 13.893946403158678, 'theta': 80.14181980224289, 'sigma': 56.105686842152615, 'epsilon': 17.6888451238227} - results: PRECISION: 0.0462450, PRECISION_RECALL_MIN_DEN: 0.0798689, RECALL: 0.0754042, MAP: 0.0212663, MAP_MIN_DEN: 0.0362197, MRR: 0.1534120, NDCG: 0.0744552, F1: 0.0573299, HIT_RATE: 0.3301038, ARHR_ALL_HITS: 0.1797524, NOVELTY: 0.0034430, AVERAGE_POPULARITY: 0.3162365, DIVERSITY_MEAN_INTER_LIST: 0.8154393, DIVERSITY_HERFINDAHL: 0.9815419, COVERAGE_ITEM: 0.1745209, COVERAGE_ITEM_HIT: 0.0294980, ITEMS_IN_GT: 0.8701015, COVERAGE_USER: 0.9768671, COVERAGE_USER_HIT: 0.3224675, USERS_IN_GT: 0.9768671, DIVERSITY_GINI: 0.0085639, SHANNON_ENTROPY: 7.3898424, RATIO_DIVERSITY_HERFINDAHL: 0.9818656, RATIO_DIVERSITY_GINI: 0.0192250, RATIO_SHANNON_ENTROPY: 0.5476420, RATIO_AVERAGE_POPULARITY: 6.2071002, RATIO_NOVELTY: 0.2248030, \n",
      "\n",
      "Iteration No: 19 ended. Evaluation done at random point.\n",
      "Time taken: 152.8706\n",
      "Function value obtained: -0.0213\n",
      "Current minimum: -0.0250\n",
      "Iteration No: 20 started. Evaluating function at random point.\n",
      "SearchBayesianSkopt: Testing config: {'alpha': 5.198109780472827, 'beta': 77.20888289123504, 'gamma': 53.79483134743421, 'theta': 85.53433393606643, 'sigma': 36.35639485564986, 'epsilon': 84.04664406828604}\n",
      "DifferentLossScoresHybridRecommender: URM Detected 3461 (12.4%) items with no interactions.\n"
     ]
    },
    {
     "name": "stdout",
     "output_type": "stream",
     "text": [
      "EvaluatorHoldout: Processed 40666 (100.0%) in 2.52 min. Users per second: 269\n"
     ]
    },
    {
     "name": "stdout",
     "output_type": "stream",
     "text": [
      "SearchBayesianSkopt: Config 19 is suboptimal. Config: {'alpha': 5.198109780472827, 'beta': 77.20888289123504, 'gamma': 53.79483134743421, 'theta': 85.53433393606643, 'sigma': 36.35639485564986, 'epsilon': 84.04664406828604} - results: PRECISION: 0.0491787, PRECISION_RECALL_MIN_DEN: 0.0839945, RECALL: 0.0791030, MAP: 0.0231699, MAP_MIN_DEN: 0.0389187, MRR: 0.1631411, NDCG: 0.0791840, F1: 0.0606506, HIT_RATE: 0.3418827, ARHR_ALL_HITS: 0.1933257, NOVELTY: 0.0035156, AVERAGE_POPULARITY: 0.2791750, DIVERSITY_MEAN_INTER_LIST: 0.8711658, DIVERSITY_HERFINDAHL: 0.9871144, COVERAGE_ITEM: 0.1447368, COVERAGE_ITEM_HIT: 0.0315003, ITEMS_IN_GT: 0.8701015, COVERAGE_USER: 0.9768671, COVERAGE_USER_HIT: 0.3339739, USERS_IN_GT: 0.9768671, DIVERSITY_GINI: 0.0089450, SHANNON_ENTROPY: 7.8036320, RATIO_DIVERSITY_HERFINDAHL: 0.9874400, RATIO_DIVERSITY_GINI: 0.0200805, RATIO_SHANNON_ENTROPY: 0.5783068, RATIO_AVERAGE_POPULARITY: 5.4796563, RATIO_NOVELTY: 0.2295490, \n",
      "\n"
     ]
    },
    {
     "name": "stdout",
     "output_type": "stream",
     "text": [
      "Iteration No: 20 ended. Evaluation done at random point.\n",
      "Time taken: 151.1858\n",
      "Function value obtained: -0.0232\n",
      "Current minimum: -0.0250\n",
      "Iteration No: 21 started. Evaluating function at random point.\n",
      "SearchBayesianSkopt: Testing config: {'alpha': 71.07282370703771, 'beta': 60.93042551598463, 'gamma': 19.96950414783945, 'theta': 27.439815155020238, 'sigma': 65.8156297025061, 'epsilon': 69.35319364803271}\n"
     ]
    },
    {
     "name": "stdout",
     "output_type": "stream",
     "text": [
      "DifferentLossScoresHybridRecommender: URM Detected 3461 (12.4%) items with no interactions.\n"
     ]
    },
    {
     "name": "stdout",
     "output_type": "stream",
     "text": [
      "EvaluatorHoldout: Processed 40666 (100.0%) in 2.75 min. Users per second: 246\n"
     ]
    },
    {
     "name": "stdout",
     "output_type": "stream",
     "text": [
      "SearchBayesianSkopt: Config 20 is suboptimal. Config: {'alpha': 71.07282370703771, 'beta': 60.93042551598463, 'gamma': 19.96950414783945, 'theta': 27.439815155020238, 'sigma': 65.8156297025061, 'epsilon': 69.35319364803271} - results: PRECISION: 0.0466237, PRECISION_RECALL_MIN_DEN: 0.0803337, RECALL: 0.0758223, MAP: 0.0215129, MAP_MIN_DEN: 0.0365164, MRR: 0.1545385, NDCG: 0.0749968, F1: 0.0577416, HIT_RATE: 0.3313333, ARHR_ALL_HITS: 0.1814281, NOVELTY: 0.0034552, AVERAGE_POPULARITY: 0.3076555, DIVERSITY_MEAN_INTER_LIST: 0.8302859, DIVERSITY_HERFINDAHL: 0.9830265, COVERAGE_ITEM: 0.1602188, COVERAGE_ITEM_HIT: 0.0288186, ITEMS_IN_GT: 0.8701015, COVERAGE_USER: 0.9768671, COVERAGE_USER_HIT: 0.3236686, USERS_IN_GT: 0.9768671, DIVERSITY_GINI: 0.0081904, SHANNON_ENTROPY: 7.4642985, RATIO_DIVERSITY_HERFINDAHL: 0.9833508, RATIO_DIVERSITY_GINI: 0.0183867, RATIO_SHANNON_ENTROPY: 0.5531597, RATIO_AVERAGE_POPULARITY: 6.0386729, RATIO_NOVELTY: 0.2255992, \n",
      "\n",
      "Iteration No: 21 ended. Evaluation done at random point.\n",
      "Time taken: 165.4374\n",
      "Function value obtained: -0.0215\n",
      "Current minimum: -0.0250\n",
      "Iteration No: 22 started. Evaluating function at random point.\n",
      "SearchBayesianSkopt: Testing config: {'alpha': 92.07261993442539, 'beta': 82.83114025148056, 'gamma': 15.728213926096371, 'theta': 85.70483388785071, 'sigma': 23.84001173975248, 'epsilon': 7.559092898023713}\n",
      "DifferentLossScoresHybridRecommender: URM Detected 3461 (12.4%) items with no interactions.\n"
     ]
    },
    {
     "name": "stdout",
     "output_type": "stream",
     "text": [
      "EvaluatorHoldout: Processed 40666 (100.0%) in 2.40 min. Users per second: 283\n"
     ]
    },
    {
     "name": "stdout",
     "output_type": "stream",
     "text": [
      "SearchBayesianSkopt: Config 21 is suboptimal. Config: {'alpha': 92.07261993442539, 'beta': 82.83114025148056, 'gamma': 15.728213926096371, 'theta': 85.70483388785071, 'sigma': 23.84001173975248, 'epsilon': 7.559092898023713} - results: PRECISION: 0.0503541, PRECISION_RECALL_MIN_DEN: 0.0860238, RECALL: 0.0810313, MAP: 0.0238122, MAP_MIN_DEN: 0.0400222, MRR: 0.1668887, NDCG: 0.0811616, F1: 0.0621113, HIT_RATE: 0.3478090, ARHR_ALL_HITS: 0.1982210, NOVELTY: 0.0035167, AVERAGE_POPULARITY: 0.2900801, DIVERSITY_MEAN_INTER_LIST: 0.8535526, DIVERSITY_HERFINDAHL: 0.9853532, COVERAGE_ITEM: 0.1478475, COVERAGE_ITEM_HIT: 0.0368993, ITEMS_IN_GT: 0.8701015, COVERAGE_USER: 0.9768671, COVERAGE_USER_HIT: 0.3397631, USERS_IN_GT: 0.9768671, DIVERSITY_GINI: 0.0103872, SHANNON_ENTROPY: 7.8147867, RATIO_DIVERSITY_HERFINDAHL: 0.9856781, RATIO_DIVERSITY_GINI: 0.0233182, RATIO_SHANNON_ENTROPY: 0.5791335, RATIO_AVERAGE_POPULARITY: 5.6937024, RATIO_NOVELTY: 0.2296204, \n",
      "\n",
      "Iteration No: 22 ended. Evaluation done at random point.\n",
      "Time taken: 144.0333\n",
      "Function value obtained: -0.0238\n",
      "Current minimum: -0.0250\n",
      "Iteration No: 23 started. Evaluating function at random point.\n",
      "SearchBayesianSkopt: Testing config: {'alpha': 93.4187391695114, 'beta': 70.36567588224852, 'gamma': 98.9116410439303, 'theta': 69.74683792154568, 'sigma': 22.08265370789963, 'epsilon': 7.970845317604438}\n",
      "DifferentLossScoresHybridRecommender: URM Detected 3461 (12.4%) items with no interactions.\n"
     ]
    },
    {
     "name": "stdout",
     "output_type": "stream",
     "text": [
      "EvaluatorHoldout: Processed 40666 (100.0%) in 2.39 min. Users per second: 283\n"
     ]
    },
    {
     "name": "stdout",
     "output_type": "stream",
     "text": [
      "SearchBayesianSkopt: Config 22 is suboptimal. Config: {'alpha': 93.4187391695114, 'beta': 70.36567588224852, 'gamma': 98.9116410439303, 'theta': 69.74683792154568, 'sigma': 22.08265370789963, 'epsilon': 7.970845317604438} - results: PRECISION: 0.0510795, PRECISION_RECALL_MIN_DEN: 0.0872241, RECALL: 0.0820983, MAP: 0.0242672, MAP_MIN_DEN: 0.0407300, MRR: 0.1688779, NDCG: 0.0823490, F1: 0.0629766, HIT_RATE: 0.3505385, ARHR_ALL_HITS: 0.2012203, NOVELTY: 0.0035456, AVERAGE_POPULARITY: 0.2804327, DIVERSITY_MEAN_INTER_LIST: 0.8656763, DIVERSITY_HERFINDAHL: 0.9865655, COVERAGE_ITEM: 0.1708739, COVERAGE_ITEM_HIT: 0.0389374, ITEMS_IN_GT: 0.8701015, COVERAGE_USER: 0.9768671, COVERAGE_USER_HIT: 0.3424296, USERS_IN_GT: 0.9768671, DIVERSITY_GINI: 0.0115922, SHANNON_ENTROPY: 7.9583895, RATIO_DIVERSITY_HERFINDAHL: 0.9868909, RATIO_DIVERSITY_GINI: 0.0260233, RATIO_SHANNON_ENTROPY: 0.5897755, RATIO_AVERAGE_POPULARITY: 5.5043422, RATIO_NOVELTY: 0.2315020, \n",
      "\n",
      "Iteration No: 23 ended. Evaluation done at random point.\n",
      "Time taken: 143.7564\n",
      "Function value obtained: -0.0243\n",
      "Current minimum: -0.0250\n",
      "Iteration No: 24 started. Evaluating function at random point.\n",
      "SearchBayesianSkopt: Testing config: {'alpha': 52.97848095870072, 'beta': 64.36980026846169, 'gamma': 59.117821091803165, 'theta': 56.934857021868865, 'sigma': 74.18248974121808, 'epsilon': 92.46448002153538}\n",
      "DifferentLossScoresHybridRecommender: URM Detected 3461 (12.4%) items with no interactions.\n"
     ]
    },
    {
     "name": "stdout",
     "output_type": "stream",
     "text": [
      "EvaluatorHoldout: Processed 40666 (100.0%) in 2.41 min. Users per second: 281\n"
     ]
    },
    {
     "name": "stdout",
     "output_type": "stream",
     "text": [
      "SearchBayesianSkopt: Config 23 is suboptimal. Config: {'alpha': 52.97848095870072, 'beta': 64.36980026846169, 'gamma': 59.117821091803165, 'theta': 56.934857021868865, 'sigma': 74.18248974121808, 'epsilon': 92.46448002153538} - results: PRECISION: 0.0470024, PRECISION_RECALL_MIN_DEN: 0.0808895, RECALL: 0.0763163, MAP: 0.0217548, MAP_MIN_DEN: 0.0369133, MRR: 0.1558882, NDCG: 0.0756556, F1: 0.0581753, HIT_RATE: 0.3331038, ARHR_ALL_HITS: 0.1832296, NOVELTY: 0.0034663, AVERAGE_POPULARITY: 0.3025359, DIVERSITY_MEAN_INTER_LIST: 0.8381977, DIVERSITY_HERFINDAHL: 0.9838177, COVERAGE_ITEM: 0.1654033, COVERAGE_ITEM_HIT: 0.0293550, ITEMS_IN_GT: 0.8701015, COVERAGE_USER: 0.9768671, COVERAGE_USER_HIT: 0.3253982, USERS_IN_GT: 0.9768671, DIVERSITY_GINI: 0.0084361, SHANNON_ENTROPY: 7.5268524, RATIO_DIVERSITY_HERFINDAHL: 0.9841422, RATIO_DIVERSITY_GINI: 0.0189381, RATIO_SHANNON_ENTROPY: 0.5577954, RATIO_AVERAGE_POPULARITY: 5.9381855, RATIO_NOVELTY: 0.2263244, \n",
      "\n",
      "Iteration No: 24 ended. Evaluation done at random point.\n",
      "Time taken: 144.8750\n",
      "Function value obtained: -0.0218\n",
      "Current minimum: -0.0250\n",
      "Iteration No: 25 started. Evaluating function at random point.\n",
      "SearchBayesianSkopt: Testing config: {'alpha': 95.41719296010345, 'beta': 6.146336494383188, 'gamma': 61.26922862233247, 'theta': 85.78452088649291, 'sigma': 46.24038656492569, 'epsilon': 21.575131338963576}\n",
      "DifferentLossScoresHybridRecommender: URM Detected 3461 (12.4%) items with no interactions.\n"
     ]
    },
    {
     "name": "stdout",
     "output_type": "stream",
     "text": [
      "EvaluatorHoldout: Processed 40666 (100.0%) in 2.78 min. Users per second: 243\n"
     ]
    },
    {
     "name": "stdout",
     "output_type": "stream",
     "text": [
      "SearchBayesianSkopt: Config 24 is suboptimal. Config: {'alpha': 95.41719296010345, 'beta': 6.146336494383188, 'gamma': 61.26922862233247, 'theta': 85.78452088649291, 'sigma': 46.24038656492569, 'epsilon': 21.575131338963576} - results: PRECISION: 0.0473811, PRECISION_RECALL_MIN_DEN: 0.0816101, RECALL: 0.0770038, MAP: 0.0219742, MAP_MIN_DEN: 0.0373177, MRR: 0.1571779, NDCG: 0.0763541, F1: 0.0586651, HIT_RATE: 0.3349481, ARHR_ALL_HITS: 0.1848830, NOVELTY: 0.0034695, AVERAGE_POPULARITY: 0.3060189, DIVERSITY_MEAN_INTER_LIST: 0.8313368, DIVERSITY_HERFINDAHL: 0.9831316, COVERAGE_ITEM: 0.1862128, COVERAGE_ITEM_HIT: 0.0316433, ITEMS_IN_GT: 0.8701015, COVERAGE_USER: 0.9768671, COVERAGE_USER_HIT: 0.3271998, USERS_IN_GT: 0.9768671, DIVERSITY_GINI: 0.0094328, SHANNON_ENTROPY: 7.5434630, RATIO_DIVERSITY_HERFINDAHL: 0.9834559, RATIO_DIVERSITY_GINI: 0.0211757, RATIO_SHANNON_ENTROPY: 0.5590264, RATIO_AVERAGE_POPULARITY: 6.0065497, RATIO_NOVELTY: 0.2265359, \n",
      "\n",
      "Iteration No: 25 ended. Evaluation done at random point.\n",
      "Time taken: 167.2733\n",
      "Function value obtained: -0.0220\n",
      "Current minimum: -0.0250\n",
      "Iteration No: 26 started. Evaluating function at random point.\n",
      "SearchBayesianSkopt: Testing config: {'alpha': 50.47322393880974, 'beta': 75.04481180927917, 'gamma': 85.71587205083642, 'theta': 57.97172527287924, 'sigma': 15.045945912832574, 'epsilon': 77.57549128779007}\n",
      "DifferentLossScoresHybridRecommender: URM Detected 3461 (12.4%) items with no interactions.\n"
     ]
    },
    {
     "name": "stdout",
     "output_type": "stream",
     "text": [
      "EvaluatorHoldout: Processed 40666 (100.0%) in 2.51 min. Users per second: 270\n"
     ]
    },
    {
     "name": "stdout",
     "output_type": "stream",
     "text": [
      "SearchBayesianSkopt: Config 25 is suboptimal. Config: {'alpha': 50.47322393880974, 'beta': 75.04481180927917, 'gamma': 85.71587205083642, 'theta': 57.97172527287924, 'sigma': 15.045945912832574, 'epsilon': 77.57549128779007} - results: PRECISION: 0.0528574, PRECISION_RECALL_MIN_DEN: 0.0892179, RECALL: 0.0837539, MAP: 0.0255559, MAP_MIN_DEN: 0.0422052, MRR: 0.1745389, NDCG: 0.0849116, F1: 0.0648118, HIT_RATE: 0.3553337, ARHR_ALL_HITS: 0.2097492, NOVELTY: 0.0036069, AVERAGE_POPULARITY: 0.2409574, DIVERSITY_MEAN_INTER_LIST: 0.9132204, DIVERSITY_HERFINDAHL: 0.9913198, COVERAGE_ITEM: 0.1324013, COVERAGE_ITEM_HIT: 0.0377217, ITEMS_IN_GT: 0.8701015, COVERAGE_USER: 0.9768671, COVERAGE_USER_HIT: 0.3471138, USERS_IN_GT: 0.9768671, DIVERSITY_GINI: 0.0108895, SHANNON_ENTROPY: 8.2629811, RATIO_DIVERSITY_HERFINDAHL: 0.9916467, RATIO_DIVERSITY_GINI: 0.0244458, RATIO_SHANNON_ENTROPY: 0.6123480, RATIO_AVERAGE_POPULARITY: 4.7295208, RATIO_NOVELTY: 0.2355071, \n",
      "\n",
      "Iteration No: 26 ended. Evaluation done at random point.\n",
      "Time taken: 150.7152\n",
      "Function value obtained: -0.0256\n",
      "Current minimum: -0.0256\n",
      "Iteration No: 27 started. Evaluating function at random point.\n",
      "SearchBayesianSkopt: Testing config: {'alpha': 15.816714487928587, 'beta': 43.77788421850391, 'gamma': 29.68249045393235, 'theta': 90.61760727744104, 'sigma': 53.51859863580071, 'epsilon': 96.25302548399638}\n",
      "DifferentLossScoresHybridRecommender: URM Detected 3461 (12.4%) items with no interactions.\n"
     ]
    },
    {
     "name": "stdout",
     "output_type": "stream",
     "text": [
      "EvaluatorHoldout: Processed 40666 (100.0%) in 2.51 min. Users per second: 270\n"
     ]
    },
    {
     "name": "stdout",
     "output_type": "stream",
     "text": [
      "SearchBayesianSkopt: Config 26 is suboptimal. Config: {'alpha': 15.816714487928587, 'beta': 43.77788421850391, 'gamma': 29.68249045393235, 'theta': 90.61760727744104, 'sigma': 53.51859863580071, 'epsilon': 96.25302548399638} - results: PRECISION: 0.0476516, PRECISION_RECALL_MIN_DEN: 0.0817987, RECALL: 0.0771356, MAP: 0.0222026, MAP_MIN_DEN: 0.0375660, MRR: 0.1583995, NDCG: 0.0767800, F1: 0.0589104, HIT_RATE: 0.3360547, ARHR_ALL_HITS: 0.1865711, NOVELTY: 0.0034843, AVERAGE_POPULARITY: 0.2923192, DIVERSITY_MEAN_INTER_LIST: 0.8536951, DIVERSITY_HERFINDAHL: 0.9853674, COVERAGE_ITEM: 0.1529963, COVERAGE_ITEM_HIT: 0.0292835, ITEMS_IN_GT: 0.8701015, COVERAGE_USER: 0.9768671, COVERAGE_USER_HIT: 0.3282808, USERS_IN_GT: 0.9768671, DIVERSITY_GINI: 0.0083594, SHANNON_ENTROPY: 7.6300132, RATIO_DIVERSITY_HERFINDAHL: 0.9856924, RATIO_DIVERSITY_GINI: 0.0187660, RATIO_SHANNON_ENTROPY: 0.5654404, RATIO_AVERAGE_POPULARITY: 5.7376510, RATIO_NOVELTY: 0.2275019, \n",
      "\n",
      "Iteration No: 27 ended. Evaluation done at random point.\n",
      "Time taken: 151.0256\n",
      "Function value obtained: -0.0222\n",
      "Current minimum: -0.0256\n",
      "Iteration No: 28 started. Evaluating function at random point.\n",
      "SearchBayesianSkopt: Testing config: {'alpha': 42.157662814468864, 'beta': 98.3643186479956, 'gamma': 14.361521351303477, 'theta': 31.91849520347895, 'sigma': 68.80656976553428, 'epsilon': 26.48400678563812}\n",
      "DifferentLossScoresHybridRecommender: URM Detected 3461 (12.4%) items with no interactions.\n"
     ]
    },
    {
     "name": "stdout",
     "output_type": "stream",
     "text": [
      "EvaluatorHoldout: Processed 40666 (100.0%) in 2.50 min. Users per second: 271\n"
     ]
    },
    {
     "name": "stdout",
     "output_type": "stream",
     "text": [
      "SearchBayesianSkopt: Config 27 is suboptimal. Config: {'alpha': 42.157662814468864, 'beta': 98.3643186479956, 'gamma': 14.361521351303477, 'theta': 31.91849520347895, 'sigma': 68.80656976553428, 'epsilon': 26.48400678563812} - results: PRECISION: 0.0456180, PRECISION_RECALL_MIN_DEN: 0.0788812, RECALL: 0.0744756, MAP: 0.0208760, MAP_MIN_DEN: 0.0356045, MRR: 0.1511184, NDCG: 0.0733707, F1: 0.0565796, HIT_RATE: 0.3272021, ARHR_ALL_HITS: 0.1768018, NOVELTY: 0.0034313, AVERAGE_POPULARITY: 0.3204704, DIVERSITY_MEAN_INTER_LIST: 0.8086984, DIVERSITY_HERFINDAHL: 0.9808679, COVERAGE_ITEM: 0.1700872, COVERAGE_ITEM_HIT: 0.0283181, ITEMS_IN_GT: 0.8701015, COVERAGE_USER: 0.9768671, COVERAGE_USER_HIT: 0.3196329, USERS_IN_GT: 0.9768671, DIVERSITY_GINI: 0.0081548, SHANNON_ENTROPY: 7.3190264, RATIO_DIVERSITY_HERFINDAHL: 0.9811913, RATIO_DIVERSITY_GINI: 0.0183067, RATIO_SHANNON_ENTROPY: 0.5423940, RATIO_AVERAGE_POPULARITY: 6.2902040, RATIO_NOVELTY: 0.2240384, \n",
      "\n",
      "Iteration No: 28 ended. Evaluation done at random point.\n",
      "Time taken: 150.1294\n",
      "Function value obtained: -0.0209\n",
      "Current minimum: -0.0256\n",
      "Iteration No: 29 started. Evaluating function at random point.\n",
      "SearchBayesianSkopt: Testing config: {'alpha': 35.654756771495194, 'beta': 82.59063177787841, 'gamma': 55.65111628516003, 'theta': 27.000884867975877, 'sigma': 9.182419356920391, 'epsilon': 99.82821143045743}\n",
      "DifferentLossScoresHybridRecommender: URM Detected 3461 (12.4%) items with no interactions.\n"
     ]
    },
    {
     "name": "stdout",
     "output_type": "stream",
     "text": [
      "EvaluatorHoldout: Processed 40666 (100.0%) in 2.51 min. Users per second: 270\n"
     ]
    },
    {
     "name": "stdout",
     "output_type": "stream",
     "text": [
      "SearchBayesianSkopt: New best config found. Config 28: {'alpha': 35.654756771495194, 'beta': 82.59063177787841, 'gamma': 55.65111628516003, 'theta': 27.000884867975877, 'sigma': 9.182419356920391, 'epsilon': 99.82821143045743} - results: PRECISION: 0.0527910, PRECISION_RECALL_MIN_DEN: 0.0883670, RECALL: 0.0828041, MAP: 0.0257011, MAP_MIN_DEN: 0.0420988, MRR: 0.1742309, NDCG: 0.0845611, F1: 0.0644760, HIT_RATE: 0.3525550, ARHR_ALL_HITS: 0.2101053, NOVELTY: 0.0036381, AVERAGE_POPULARITY: 0.2204916, DIVERSITY_MEAN_INTER_LIST: 0.9318188, DIVERSITY_HERFINDAHL: 0.9931796, COVERAGE_ITEM: 0.1055850, COVERAGE_ITEM_HIT: 0.0367205, ITEMS_IN_GT: 0.8701015, COVERAGE_USER: 0.9768671, COVERAGE_USER_HIT: 0.3443993, USERS_IN_GT: 0.9768671, DIVERSITY_GINI: 0.0105962, SHANNON_ENTROPY: 8.3907846, RATIO_DIVERSITY_HERFINDAHL: 0.9935071, RATIO_DIVERSITY_GINI: 0.0237873, RATIO_SHANNON_ENTROPY: 0.6218192, RATIO_AVERAGE_POPULARITY: 4.3278176, RATIO_NOVELTY: 0.2375462, \n",
      "\n",
      "SearchBayesianSkopt: Saving model in result_experiments/DifferentLossScoresHybridRecommender\n",
      "\n",
      "SearchBayesianSkopt: Config 28 Exception. Config: {'alpha': 35.654756771495194, 'beta': 82.59063177787841, 'gamma': 55.65111628516003, 'theta': 27.000884867975877, 'sigma': 9.182419356920391, 'epsilon': 99.82821143045743} - Exception: Traceback (most recent call last):\n",
      "  File \"/kaggle/working/HyperparameterTuning/SearchAbstractClass.py\", line 534, in _objective_function\n",
      "    recommender_instance.save_model(self.output_folder_path, file_name =self.output_file_name_root + \"_best_model\")\n",
      "  File \"/kaggle/working/Recommenders/BaseRecommender.py\", line 215, in save_model\n",
      "    raise NotImplementedError(\"BaseRecommender: save_model not implemented\")\n",
      "NotImplementedError: BaseRecommender: save_model not implemented\n",
      "\n",
      "\n",
      "Iteration No: 29 ended. Evaluation done at random point.\n",
      "Time taken: 150.8629\n",
      "Function value obtained: 65504.0000\n",
      "Current minimum: -0.0256\n",
      "Iteration No: 30 started. Evaluating function at random point.\n",
      "SearchBayesianSkopt: Testing config: {'alpha': 53.439180533771435, 'beta': 81.20823837847796, 'gamma': 77.0463273165801, 'theta': 60.38015626573934, 'sigma': 79.9055331485929, 'epsilon': 11.392761891982142}\n",
      "DifferentLossScoresHybridRecommender: URM Detected 3461 (12.4%) items with no interactions.\n"
     ]
    },
    {
     "name": "stderr",
     "output_type": "stream",
     "text": [
      "Traceback (most recent call last):\n",
      "  File \"/kaggle/working/HyperparameterTuning/SearchAbstractClass.py\", line 534, in _objective_function\n",
      "    recommender_instance.save_model(self.output_folder_path, file_name =self.output_file_name_root + \"_best_model\")\n",
      "  File \"/kaggle/working/Recommenders/BaseRecommender.py\", line 215, in save_model\n",
      "    raise NotImplementedError(\"BaseRecommender: save_model not implemented\")\n",
      "NotImplementedError: BaseRecommender: save_model not implemented\n"
     ]
    },
    {
     "name": "stdout",
     "output_type": "stream",
     "text": [
      "EvaluatorHoldout: Processed 40666 (100.0%) in 2.51 min. Users per second: 270\n"
     ]
    },
    {
     "name": "stdout",
     "output_type": "stream",
     "text": [
      "SearchBayesianSkopt: Config 29 is suboptimal. Config: {'alpha': 53.439180533771435, 'beta': 81.20823837847796, 'gamma': 77.0463273165801, 'theta': 60.38015626573934, 'sigma': 79.9055331485929, 'epsilon': 11.392761891982142} - results: PRECISION: 0.0455811, PRECISION_RECALL_MIN_DEN: 0.0788331, RECALL: 0.0744357, MAP: 0.0208430, MAP_MIN_DEN: 0.0355573, MRR: 0.1509037, NDCG: 0.0732859, F1: 0.0565397, HIT_RATE: 0.3270300, ARHR_ALL_HITS: 0.1765166, NOVELTY: 0.0034333, AVERAGE_POPULARITY: 0.3215342, DIVERSITY_MEAN_INTER_LIST: 0.8061536, DIVERSITY_HERFINDAHL: 0.9806134, COVERAGE_ITEM: 0.1926130, COVERAGE_ITEM_HIT: 0.0289259, ITEMS_IN_GT: 0.8701015, COVERAGE_USER: 0.9768671, COVERAGE_USER_HIT: 0.3194648, USERS_IN_GT: 0.9768671, DIVERSITY_GINI: 0.0087886, SHANNON_ENTROPY: 7.3242856, RATIO_DIVERSITY_HERFINDAHL: 0.9809368, RATIO_DIVERSITY_GINI: 0.0197294, RATIO_SHANNON_ENTROPY: 0.5427837, RATIO_AVERAGE_POPULARITY: 6.3110843, RATIO_NOVELTY: 0.2241725, \n",
      "\n",
      "Iteration No: 30 ended. Evaluation done at random point.\n",
      "Time taken: 150.5838\n",
      "Function value obtained: -0.0208\n",
      "Current minimum: -0.0256\n",
      "Iteration No: 31 started. Evaluating function at random point.\n",
      "SearchBayesianSkopt: Testing config: {'alpha': 9.625846155687547, 'beta': 39.060984319174906, 'gamma': 7.715164415861688, 'theta': 4.674804173072134, 'sigma': 49.02209607085941, 'epsilon': 70.54415285237846}\n",
      "DifferentLossScoresHybridRecommender: URM Detected 3461 (12.4%) items with no interactions.\n"
     ]
    },
    {
     "name": "stdout",
     "output_type": "stream",
     "text": [
      "EvaluatorHoldout: Processed 40666 (100.0%) in 2.51 min. Users per second: 270\n"
     ]
    },
    {
     "name": "stdout",
     "output_type": "stream",
     "text": [
      "SearchBayesianSkopt: Config 30 is suboptimal. Config: {'alpha': 9.625846155687547, 'beta': 39.060984319174906, 'gamma': 7.715164415861688, 'theta': 4.674804173072134, 'sigma': 49.02209607085941, 'epsilon': 70.54415285237846} - results: PRECISION: 0.0459844, PRECISION_RECALL_MIN_DEN: 0.0793684, RECALL: 0.0749199, MAP: 0.0211472, MAP_MIN_DEN: 0.0359546, MRR: 0.1524617, NDCG: 0.0739652, F1: 0.0569896, HIT_RATE: 0.3281611, ARHR_ALL_HITS: 0.1787049, NOVELTY: 0.0034523, AVERAGE_POPULARITY: 0.3060659, DIVERSITY_MEAN_INTER_LIST: 0.8334975, DIVERSITY_HERFINDAHL: 0.9833477, COVERAGE_ITEM: 0.1557852, COVERAGE_ITEM_HIT: 0.0272097, ITEMS_IN_GT: 0.8701015, COVERAGE_USER: 0.9768671, COVERAGE_USER_HIT: 0.3205698, USERS_IN_GT: 0.9768671, DIVERSITY_GINI: 0.0077386, SHANNON_ENTROPY: 7.4440932, RATIO_DIVERSITY_HERFINDAHL: 0.9836720, RATIO_DIVERSITY_GINI: 0.0173725, RATIO_SHANNON_ENTROPY: 0.5516623, RATIO_AVERAGE_POPULARITY: 6.0074725, RATIO_NOVELTY: 0.2254126, \n",
      "\n",
      "Iteration No: 31 ended. Evaluation done at random point.\n",
      "Time taken: 150.6249\n",
      "Function value obtained: -0.0211\n",
      "Current minimum: -0.0256\n",
      "Iteration No: 32 started. Evaluating function at random point.\n",
      "SearchBayesianSkopt: Testing config: {'alpha': 28.0338019407464, 'beta': 61.78087963611145, 'gamma': 94.0409858094182, 'theta': 36.85513708567649, 'sigma': 46.95393352886449, 'epsilon': 38.69025494082836}\n",
      "DifferentLossScoresHybridRecommender: URM Detected 3461 (12.4%) items with no interactions.\n"
     ]
    },
    {
     "name": "stdout",
     "output_type": "stream",
     "text": [
      "EvaluatorHoldout: Processed 40666 (100.0%) in 2.54 min. Users per second: 267\n"
     ]
    },
    {
     "name": "stdout",
     "output_type": "stream",
     "text": [
      "SearchBayesianSkopt: Config 31 is suboptimal. Config: {'alpha': 28.0338019407464, 'beta': 61.78087963611145, 'gamma': 94.0409858094182, 'theta': 36.85513708567649, 'sigma': 46.95393352886449, 'epsilon': 38.69025494082836} - results: PRECISION: 0.0473590, PRECISION_RECALL_MIN_DEN: 0.0814981, RECALL: 0.0768891, MAP: 0.0219277, MAP_MIN_DEN: 0.0372011, MRR: 0.1567350, NDCG: 0.0761834, F1: 0.0586148, HIT_RATE: 0.3347022, ARHR_ALL_HITS: 0.1844216, NOVELTY: 0.0034693, AVERAGE_POPULARITY: 0.3046239, DIVERSITY_MEAN_INTER_LIST: 0.8340315, DIVERSITY_HERFINDAHL: 0.9834011, COVERAGE_ITEM: 0.1846396, COVERAGE_ITEM_HIT: 0.0306422, ITEMS_IN_GT: 0.8701015, COVERAGE_USER: 0.9768671, COVERAGE_USER_HIT: 0.3269596, USERS_IN_GT: 0.9768671, DIVERSITY_GINI: 0.0091637, SHANNON_ENTROPY: 7.5399655, RATIO_DIVERSITY_HERFINDAHL: 0.9837254, RATIO_DIVERSITY_GINI: 0.0205715, RATIO_SHANNON_ENTROPY: 0.5587672, RATIO_AVERAGE_POPULARITY: 5.9791685, RATIO_NOVELTY: 0.2265251, \n",
      "\n",
      "Iteration No: 32 ended. Evaluation done at random point.\n",
      "Time taken: 152.7511\n",
      "Function value obtained: -0.0219\n",
      "Current minimum: -0.0256\n",
      "Iteration No: 33 started. Evaluating function at random point.\n",
      "SearchBayesianSkopt: Testing config: {'alpha': 48.70088873372722, 'beta': 76.30177280774676, 'gamma': 74.4986200714975, 'theta': 66.71887986061061, 'sigma': 70.74219669364, 'epsilon': 99.26752387617968}\n"
     ]
    },
    {
     "name": "stdout",
     "output_type": "stream",
     "text": [
      "DifferentLossScoresHybridRecommender: URM Detected 3461 (12.4%) items with no interactions.\n"
     ]
    },
    {
     "name": "stdout",
     "output_type": "stream",
     "text": [
      "EvaluatorHoldout: Processed 40666 (100.0%) in 2.52 min. Users per second: 269\n"
     ]
    },
    {
     "name": "stdout",
     "output_type": "stream",
     "text": [
      "SearchBayesianSkopt: Config 32 is suboptimal. Config: {'alpha': 48.70088873372722, 'beta': 76.30177280774676, 'gamma': 74.4986200714975, 'theta': 66.71887986061061, 'sigma': 70.74219669364, 'epsilon': 99.26752387617968} - results: PRECISION: 0.0474991, PRECISION_RECALL_MIN_DEN: 0.0816325, RECALL: 0.0769964, MAP: 0.0220353, MAP_MIN_DEN: 0.0373386, MRR: 0.1574496, NDCG: 0.0764382, F1: 0.0587533, HIT_RATE: 0.3356858, ARHR_ALL_HITS: 0.1853143, NOVELTY: 0.0034761, AVERAGE_POPULARITY: 0.2981521, DIVERSITY_MEAN_INTER_LIST: 0.8447766, DIVERSITY_HERFINDAHL: 0.9844756, COVERAGE_ITEM: 0.1627217, COVERAGE_ITEM_HIT: 0.0299271, ITEMS_IN_GT: 0.8701015, COVERAGE_USER: 0.9768671, COVERAGE_USER_HIT: 0.3279204, USERS_IN_GT: 0.9768671, DIVERSITY_GINI: 0.0085785, SHANNON_ENTROPY: 7.5838728, RATIO_DIVERSITY_HERFINDAHL: 0.9848003, RATIO_DIVERSITY_GINI: 0.0192578, RATIO_SHANNON_ENTROPY: 0.5620210, RATIO_AVERAGE_POPULARITY: 5.8521405, RATIO_NOVELTY: 0.2269670, \n",
      "\n",
      "Iteration No: 33 ended. Evaluation done at random point.\n",
      "Time taken: 151.3989\n",
      "Function value obtained: -0.0220\n",
      "Current minimum: -0.0256\n",
      "Iteration No: 34 started. Evaluating function at random point.\n",
      "SearchBayesianSkopt: Testing config: {'alpha': 40.86528637189708, 'beta': 56.4428512524675, 'gamma': 77.78537126984718, 'theta': 92.17619445234077, 'sigma': 72.53027742436046, 'epsilon': 29.399517113899005}\n",
      "DifferentLossScoresHybridRecommender: URM Detected 3461 (12.4%) items with no interactions.\n"
     ]
    },
    {
     "name": "stdout",
     "output_type": "stream",
     "text": [
      "EvaluatorHoldout: Processed 40666 (100.0%) in 2.50 min. Users per second: 271\n"
     ]
    },
    {
     "name": "stdout",
     "output_type": "stream",
     "text": [
      "SearchBayesianSkopt: Config 33 is suboptimal. Config: {'alpha': 40.86528637189708, 'beta': 56.4428512524675, 'gamma': 77.78537126984718, 'theta': 92.17619445234077, 'sigma': 72.53027742436046, 'epsilon': 29.399517113899005} - results: PRECISION: 0.0461737, PRECISION_RECALL_MIN_DEN: 0.0796443, RECALL: 0.0751684, MAP: 0.0212300, MAP_MIN_DEN: 0.0361594, MRR: 0.1530298, NDCG: 0.0742986, F1: 0.0572069, HIT_RATE: 0.3291693, ARHR_ALL_HITS: 0.1793815, NOVELTY: 0.0034472, AVERAGE_POPULARITY: 0.3145671, DIVERSITY_MEAN_INTER_LIST: 0.8181198, DIVERSITY_HERFINDAHL: 0.9818100, COVERAGE_ITEM: 0.1907895, COVERAGE_ITEM_HIT: 0.0292835, ITEMS_IN_GT: 0.8701015, COVERAGE_USER: 0.9768671, COVERAGE_USER_HIT: 0.3215547, USERS_IN_GT: 0.9768671, DIVERSITY_GINI: 0.0089111, SHANNON_ENTROPY: 7.4096489, RATIO_DIVERSITY_HERFINDAHL: 0.9821338, RATIO_DIVERSITY_GINI: 0.0200046, RATIO_SHANNON_ENTROPY: 0.5491098, RATIO_AVERAGE_POPULARITY: 6.1743332, RATIO_NOVELTY: 0.2250777, \n",
      "\n",
      "Iteration No: 34 ended. Evaluation done at random point.\n",
      "Time taken: 150.2900\n",
      "Function value obtained: -0.0212\n",
      "Current minimum: -0.0256\n",
      "Iteration No: 35 started. Evaluating function at random point.\n",
      "SearchBayesianSkopt: Testing config: {'alpha': 98.1161970498581, 'beta': 88.10147582370156, 'gamma': 68.24673342463208, 'theta': 96.94861639562906, 'sigma': 67.84789066173539, 'epsilon': 84.60649952606444}\n",
      "DifferentLossScoresHybridRecommender: URM Detected 3461 (12.4%) items with no interactions.\n"
     ]
    },
    {
     "name": "stdout",
     "output_type": "stream",
     "text": [
      "EvaluatorHoldout: Processed 40666 (100.0%) in 2.50 min. Users per second: 271\n"
     ]
    },
    {
     "name": "stdout",
     "output_type": "stream",
     "text": [
      "SearchBayesianSkopt: Config 34 is suboptimal. Config: {'alpha': 98.1161970498581, 'beta': 88.10147582370156, 'gamma': 68.24673342463208, 'theta': 96.94861639562906, 'sigma': 67.84789066173539, 'epsilon': 84.60649952606444} - results: PRECISION: 0.0481975, PRECISION_RECALL_MIN_DEN: 0.0828007, RECALL: 0.0780825, MAP: 0.0224511, MAP_MIN_DEN: 0.0379371, MRR: 0.1595350, NDCG: 0.0775458, F1: 0.0596038, HIT_RATE: 0.3384892, ARHR_ALL_HITS: 0.1882488, NOVELTY: 0.0034849, AVERAGE_POPULARITY: 0.2960776, DIVERSITY_MEAN_INTER_LIST: 0.8473238, DIVERSITY_HERFINDAHL: 0.9847303, COVERAGE_ITEM: 0.1590389, COVERAGE_ITEM_HIT: 0.0313930, ITEMS_IN_GT: 0.8701015, COVERAGE_USER: 0.9768671, COVERAGE_USER_HIT: 0.3306589, USERS_IN_GT: 0.9768671, DIVERSITY_GINI: 0.0089176, SHANNON_ENTROPY: 7.6367356, RATIO_DIVERSITY_HERFINDAHL: 0.9850551, RATIO_DIVERSITY_GINI: 0.0200191, RATIO_SHANNON_ENTROPY: 0.5659386, RATIO_AVERAGE_POPULARITY: 5.8114212, RATIO_NOVELTY: 0.2275394, \n",
      "\n",
      "Iteration No: 35 ended. Evaluation done at random point.\n",
      "Time taken: 150.3418\n",
      "Function value obtained: -0.0225\n",
      "Current minimum: -0.0256\n",
      "Iteration No: 36 started. Evaluating function at random point.\n",
      "SearchBayesianSkopt: Testing config: {'alpha': 45.518548405896006, 'beta': 27.791034077734416, 'gamma': 43.038042730673745, 'theta': 65.6617510723823, 'sigma': 65.57638674616398, 'epsilon': 48.97934613506395}\n",
      "DifferentLossScoresHybridRecommender: URM Detected 3461 (12.4%) items with no interactions.\n"
     ]
    },
    {
     "name": "stdout",
     "output_type": "stream",
     "text": [
      "EvaluatorHoldout: Processed 40666 (100.0%) in 2.51 min. Users per second: 270\n"
     ]
    },
    {
     "name": "stdout",
     "output_type": "stream",
     "text": [
      "SearchBayesianSkopt: Config 35 is suboptimal. Config: {'alpha': 45.518548405896006, 'beta': 27.791034077734416, 'gamma': 43.038042730673745, 'theta': 65.6617510723823, 'sigma': 65.57638674616398, 'epsilon': 48.97934613506395} - results: PRECISION: 0.0460680, PRECISION_RECALL_MIN_DEN: 0.0795343, RECALL: 0.0750779, MAP: 0.0211713, MAP_MIN_DEN: 0.0360434, MRR: 0.1525885, NDCG: 0.0741126, F1: 0.0570995, HIT_RATE: 0.3287021, ARHR_ALL_HITS: 0.1788962, NOVELTY: 0.0034486, AVERAGE_POPULARITY: 0.3117753, DIVERSITY_MEAN_INTER_LIST: 0.8233344, DIVERSITY_HERFINDAHL: 0.9823314, COVERAGE_ITEM: 0.1816004, COVERAGE_ITEM_HIT: 0.0284969, ITEMS_IN_GT: 0.8701015, COVERAGE_USER: 0.9768671, COVERAGE_USER_HIT: 0.3210983, USERS_IN_GT: 0.9768671, DIVERSITY_GINI: 0.0085290, SHANNON_ENTROPY: 7.4204914, RATIO_DIVERSITY_HERFINDAHL: 0.9826554, RATIO_DIVERSITY_GINI: 0.0191467, RATIO_SHANNON_ENTROPY: 0.5499133, RATIO_AVERAGE_POPULARITY: 6.1195374, RATIO_NOVELTY: 0.2251731, \n",
      "\n",
      "Iteration No: 36 ended. Evaluation done at random point.\n",
      "Time taken: 150.6327\n",
      "Function value obtained: -0.0212\n",
      "Current minimum: -0.0256\n",
      "Iteration No: 37 started. Evaluating function at random point.\n",
      "SearchBayesianSkopt: Testing config: {'alpha': 51.77651817929354, 'beta': 75.49611984527257, 'gamma': 46.98010758243507, 'theta': 17.335542409812845, 'sigma': 18.049903334704656, 'epsilon': 41.95539401741107}\n",
      "DifferentLossScoresHybridRecommender: URM Detected 3461 (12.4%) items with no interactions.\n"
     ]
    },
    {
     "name": "stdout",
     "output_type": "stream",
     "text": [
      "EvaluatorHoldout: Processed 40666 (100.0%) in 2.53 min. Users per second: 268\n"
     ]
    },
    {
     "name": "stdout",
     "output_type": "stream",
     "text": [
      "SearchBayesianSkopt: Config 36 is suboptimal. Config: {'alpha': 51.77651817929354, 'beta': 75.49611984527257, 'gamma': 46.98010758243507, 'theta': 17.335542409812845, 'sigma': 18.049903334704656, 'epsilon': 41.95539401741107} - results: PRECISION: 0.0508926, PRECISION_RECALL_MIN_DEN: 0.0866576, RECALL: 0.0815573, MAP: 0.0242044, MAP_MIN_DEN: 0.0405284, MRR: 0.1686498, NDCG: 0.0820161, F1: 0.0626752, HIT_RATE: 0.3494565, ARHR_ALL_HITS: 0.2008322, NOVELTY: 0.0035421, AVERAGE_POPULARITY: 0.2725701, DIVERSITY_MEAN_INTER_LIST: 0.8783611, DIVERSITY_HERFINDAHL: 0.9878339, COVERAGE_ITEM: 0.1408395, COVERAGE_ITEM_HIT: 0.0357909, ITEMS_IN_GT: 0.8701015, COVERAGE_USER: 0.9768671, COVERAGE_USER_HIT: 0.3413726, USERS_IN_GT: 0.9768671, DIVERSITY_GINI: 0.0100048, SHANNON_ENTROPY: 7.9494095, RATIO_DIVERSITY_HERFINDAHL: 0.9881597, RATIO_DIVERSITY_GINI: 0.0224597, RATIO_SHANNON_ENTROPY: 0.5891100, RATIO_AVERAGE_POPULARITY: 5.3500155, RATIO_NOVELTY: 0.2312788, \n",
      "\n",
      "Iteration No: 37 ended. Evaluation done at random point.\n",
      "Time taken: 151.9764\n",
      "Function value obtained: -0.0242\n",
      "Current minimum: -0.0256\n",
      "Iteration No: 38 started. Evaluating function at random point.\n",
      "SearchBayesianSkopt: Testing config: {'alpha': 3.0862724689678442, 'beta': 17.34854493857162, 'gamma': 59.25429127392727, 'theta': 78.20193808002593, 'sigma': 48.560028896016505, 'epsilon': 80.91479248418023}\n",
      "DifferentLossScoresHybridRecommender: URM Detected 3461 (12.4%) items with no interactions.\n"
     ]
    },
    {
     "name": "stdout",
     "output_type": "stream",
     "text": [
      "EvaluatorHoldout: Processed 40666 (100.0%) in 2.79 min. Users per second: 243\n"
     ]
    },
    {
     "name": "stdout",
     "output_type": "stream",
     "text": [
      "SearchBayesianSkopt: Config 37 is suboptimal. Config: {'alpha': 3.0862724689678442, 'beta': 17.34854493857162, 'gamma': 59.25429127392727, 'theta': 78.20193808002593, 'sigma': 48.560028896016505, 'epsilon': 80.91479248418023} - results: PRECISION: 0.0473024, PRECISION_RECALL_MIN_DEN: 0.0812187, RECALL: 0.0765828, MAP: 0.0219669, MAP_MIN_DEN: 0.0371654, MRR: 0.1569949, NDCG: 0.0761094, F1: 0.0584824, HIT_RATE: 0.3343579, ARHR_ALL_HITS: 0.1847493, NOVELTY: 0.0034823, AVERAGE_POPULARITY: 0.2939248, DIVERSITY_MEAN_INTER_LIST: 0.8511763, DIVERSITY_HERFINDAHL: 0.9851155, COVERAGE_ITEM: 0.1709096, COVERAGE_ITEM_HIT: 0.0290689, ITEMS_IN_GT: 0.8701015, COVERAGE_USER: 0.9768671, COVERAGE_USER_HIT: 0.3266233, USERS_IN_GT: 0.9768671, DIVERSITY_GINI: 0.0086361, SHANNON_ENTROPY: 7.6144870, RATIO_DIVERSITY_HERFINDAHL: 0.9854404, RATIO_DIVERSITY_GINI: 0.0193871, RATIO_SHANNON_ENTROPY: 0.5642898, RATIO_AVERAGE_POPULARITY: 5.7691661, RATIO_NOVELTY: 0.2273728, \n",
      "\n",
      "Iteration No: 38 ended. Evaluation done at random point.\n",
      "Time taken: 167.3077\n",
      "Function value obtained: -0.0220\n",
      "Current minimum: -0.0256\n",
      "Iteration No: 39 started. Evaluating function at random point.\n",
      "SearchBayesianSkopt: Testing config: {'alpha': 20.502346935780707, 'beta': 51.315194553128464, 'gamma': 46.41832747086394, 'theta': 28.271804351897252, 'sigma': 82.1380703932036, 'epsilon': 65.82065130653723}\n",
      "DifferentLossScoresHybridRecommender: URM Detected 3461 (12.4%) items with no interactions.\n"
     ]
    },
    {
     "name": "stdout",
     "output_type": "stream",
     "text": [
      "EvaluatorHoldout: Processed 40666 (100.0%) in 2.52 min. Users per second: 269\n"
     ]
    },
    {
     "name": "stdout",
     "output_type": "stream",
     "text": [
      "SearchBayesianSkopt: Config 38 is suboptimal. Config: {'alpha': 20.502346935780707, 'beta': 51.315194553128464, 'gamma': 46.41832747086394, 'theta': 28.271804351897252, 'sigma': 82.1380703932036, 'epsilon': 65.82065130653723} - results: PRECISION: 0.0454262, PRECISION_RECALL_MIN_DEN: 0.0785505, RECALL: 0.0741672, MAP: 0.0207798, MAP_MIN_DEN: 0.0353978, MRR: 0.1504273, NDCG: 0.0730116, F1: 0.0563431, HIT_RATE: 0.3257758, ARHR_ALL_HITS: 0.1759759, NOVELTY: 0.0034382, AVERAGE_POPULARITY: 0.3153898, DIVERSITY_MEAN_INTER_LIST: 0.8177350, DIVERSITY_HERFINDAHL: 0.9817715, COVERAGE_ITEM: 0.1802417, COVERAGE_ITEM_HIT: 0.0272097, ITEMS_IN_GT: 0.8701015, COVERAGE_USER: 0.9768671, COVERAGE_USER_HIT: 0.3182397, USERS_IN_GT: 0.9768671, DIVERSITY_GINI: 0.0081840, SHANNON_ENTROPY: 7.3565320, RATIO_DIVERSITY_HERFINDAHL: 0.9820953, RATIO_DIVERSITY_GINI: 0.0183723, RATIO_SHANNON_ENTROPY: 0.5451734, RATIO_AVERAGE_POPULARITY: 6.1904827, RATIO_NOVELTY: 0.2244905, \n",
      "\n",
      "Iteration No: 39 ended. Evaluation done at random point.\n",
      "Time taken: 151.2880\n",
      "Function value obtained: -0.0208\n",
      "Current minimum: -0.0256\n",
      "Iteration No: 40 started. Evaluating function at random point.\n",
      "SearchBayesianSkopt: Testing config: {'alpha': 67.68938730737563, 'beta': 95.070447864364, 'gamma': 33.485305899167415, 'theta': 86.13379527247683, 'sigma': 18.120951918295116, 'epsilon': 46.41981583771759}\n"
     ]
    },
    {
     "name": "stdout",
     "output_type": "stream",
     "text": [
      "DifferentLossScoresHybridRecommender: URM Detected 3461 (12.4%) items with no interactions.\n"
     ]
    },
    {
     "name": "stdout",
     "output_type": "stream",
     "text": [
      "EvaluatorHoldout: Processed 40666 (100.0%) in 2.39 min. Users per second: 284\n"
     ]
    },
    {
     "name": "stdout",
     "output_type": "stream",
     "text": [
      "SearchBayesianSkopt: Config 39 is suboptimal. Config: {'alpha': 67.68938730737563, 'beta': 95.070447864364, 'gamma': 33.485305899167415, 'theta': 86.13379527247683, 'sigma': 18.120951918295116, 'epsilon': 46.41981583771759} - results: PRECISION: 0.0523017, PRECISION_RECALL_MIN_DEN: 0.0886637, RECALL: 0.0833326, MAP: 0.0250700, MAP_MIN_DEN: 0.0417408, MRR: 0.1725232, NDCG: 0.0841145, F1: 0.0642675, HIT_RATE: 0.3549648, ARHR_ALL_HITS: 0.2066293, NOVELTY: 0.0035735, AVERAGE_POPULARITY: 0.2604319, DIVERSITY_MEAN_INTER_LIST: 0.8921524, DIVERSITY_HERFINDAHL: 0.9892130, COVERAGE_ITEM: 0.1335455, COVERAGE_ITEM_HIT: 0.0382580, ITEMS_IN_GT: 0.8701015, COVERAGE_USER: 0.9768671, COVERAGE_USER_HIT: 0.3467535, USERS_IN_GT: 0.9768671, DIVERSITY_GINI: 0.0107930, SHANNON_ENTROPY: 8.1114429, RATIO_DIVERSITY_HERFINDAHL: 0.9895393, RATIO_DIVERSITY_GINI: 0.0242292, RATIO_SHANNON_ENTROPY: 0.6011179, RATIO_AVERAGE_POPULARITY: 5.1117655, RATIO_NOVELTY: 0.2333280, \n",
      "\n",
      "Iteration No: 40 ended. Evaluation done at random point.\n",
      "Time taken: 143.3660\n",
      "Function value obtained: -0.0251\n",
      "Current minimum: -0.0256\n",
      "Iteration No: 41 started. Evaluating function at random point.\n",
      "SearchBayesianSkopt: Testing config: {'alpha': 38.859536172116215, 'beta': 52.351120160754995, 'gamma': 41.75763538898135, 'theta': 24.402654736999548, 'sigma': 64.24006950816748, 'epsilon': 55.42759122368638}\n",
      "DifferentLossScoresHybridRecommender: URM Detected 3461 (12.4%) items with no interactions.\n"
     ]
    },
    {
     "name": "stdout",
     "output_type": "stream",
     "text": [
      "EvaluatorHoldout: Processed 40666 (100.0%) in 2.38 min. Users per second: 285\n"
     ]
    },
    {
     "name": "stdout",
     "output_type": "stream",
     "text": [
      "SearchBayesianSkopt: Config 40 is suboptimal. Config: {'alpha': 38.859536172116215, 'beta': 52.351120160754995, 'gamma': 41.75763538898135, 'theta': 24.402654736999548, 'sigma': 64.24006950816748, 'epsilon': 55.42759122368638} - results: PRECISION: 0.0460163, PRECISION_RECALL_MIN_DEN: 0.0794236, RECALL: 0.0749794, MAP: 0.0211409, MAP_MIN_DEN: 0.0359846, MRR: 0.1524385, NDCG: 0.0740164, F1: 0.0570314, HIT_RATE: 0.3286283, ARHR_ALL_HITS: 0.1786632, NOVELTY: 0.0034466, AVERAGE_POPULARITY: 0.3120014, DIVERSITY_MEAN_INTER_LIST: 0.8232069, DIVERSITY_HERFINDAHL: 0.9823187, COVERAGE_ITEM: 0.1744136, COVERAGE_ITEM_HIT: 0.0282823, ITEMS_IN_GT: 0.8701015, COVERAGE_USER: 0.9768671, COVERAGE_USER_HIT: 0.3210262, USERS_IN_GT: 0.9768671, DIVERSITY_GINI: 0.0082954, SHANNON_ENTROPY: 7.4098973, RATIO_DIVERSITY_HERFINDAHL: 0.9826426, RATIO_DIVERSITY_GINI: 0.0186224, RATIO_SHANNON_ENTROPY: 0.5491282, RATIO_AVERAGE_POPULARITY: 6.1239745, RATIO_NOVELTY: 0.2250434, \n",
      "\n",
      "Iteration No: 41 ended. Evaluation done at random point.\n",
      "Time taken: 143.1059\n",
      "Function value obtained: -0.0211\n",
      "Current minimum: -0.0256\n",
      "Iteration No: 42 started. Evaluating function at random point.\n",
      "SearchBayesianSkopt: Testing config: {'alpha': 71.80794517733328, 'beta': 96.20539085567898, 'gamma': 58.53427155660329, 'theta': 98.92856620245318, 'sigma': 23.02240645468579, 'epsilon': 93.57078691966082}\n",
      "DifferentLossScoresHybridRecommender: URM Detected 3461 (12.4%) items with no interactions.\n"
     ]
    },
    {
     "name": "stdout",
     "output_type": "stream",
     "text": [
      "EvaluatorHoldout: Processed 40666 (100.0%) in 2.38 min. Users per second: 285\n"
     ]
    },
    {
     "name": "stdout",
     "output_type": "stream",
     "text": [
      "SearchBayesianSkopt: Config 41 is suboptimal. Config: {'alpha': 71.80794517733328, 'beta': 96.20539085567898, 'gamma': 58.53427155660329, 'theta': 98.92856620245318, 'sigma': 23.02240645468579, 'epsilon': 93.57078691966082} - results: PRECISION: 0.0521959, PRECISION_RECALL_MIN_DEN: 0.0883461, RECALL: 0.0830020, MAP: 0.0250690, MAP_MIN_DEN: 0.0415882, MRR: 0.1722555, NDCG: 0.0838674, F1: 0.0640892, HIT_RATE: 0.3535878, ARHR_ALL_HITS: 0.2064336, NOVELTY: 0.0035832, AVERAGE_POPULARITY: 0.2510789, DIVERSITY_MEAN_INTER_LIST: 0.9032471, DIVERSITY_HERFINDAHL: 0.9903225, COVERAGE_ITEM: 0.1276101, COVERAGE_ITEM_HIT: 0.0366848, ITEMS_IN_GT: 0.8701015, COVERAGE_USER: 0.9768671, COVERAGE_USER_HIT: 0.3454082, USERS_IN_GT: 0.9768671, DIVERSITY_GINI: 0.0103560, SHANNON_ENTROPY: 8.1531415, RATIO_DIVERSITY_HERFINDAHL: 0.9906491, RATIO_DIVERSITY_GINI: 0.0232481, RATIO_SHANNON_ENTROPY: 0.6042081, RATIO_AVERAGE_POPULARITY: 4.9281845, RATIO_NOVELTY: 0.2339609, \n",
      "\n",
      "Iteration No: 42 ended. Evaluation done at random point.\n",
      "Time taken: 143.0808\n",
      "Function value obtained: -0.0251\n",
      "Current minimum: -0.0256\n",
      "Iteration No: 43 started. Evaluating function at random point.\n",
      "SearchBayesianSkopt: Testing config: {'alpha': 40.94599208671488, 'beta': 48.94177832163482, 'gamma': 25.243692621966744, 'theta': 15.493704362087692, 'sigma': 53.16885119596334, 'epsilon': 44.80187187416763}\n",
      "DifferentLossScoresHybridRecommender: URM Detected 3461 (12.4%) items with no interactions.\n"
     ]
    },
    {
     "name": "stdout",
     "output_type": "stream",
     "text": [
      "EvaluatorHoldout: Processed 40666 (100.0%) in 2.38 min. Users per second: 284\n"
     ]
    },
    {
     "name": "stdout",
     "output_type": "stream",
     "text": [
      "SearchBayesianSkopt: Config 42 is suboptimal. Config: {'alpha': 40.94599208671488, 'beta': 48.94177832163482, 'gamma': 25.243692621966744, 'theta': 15.493704362087692, 'sigma': 53.16885119596334, 'epsilon': 44.80187187416763} - results: PRECISION: 0.0460532, PRECISION_RECALL_MIN_DEN: 0.0795117, RECALL: 0.0750687, MAP: 0.0211604, MAP_MIN_DEN: 0.0360133, MRR: 0.1526028, NDCG: 0.0740876, F1: 0.0570855, HIT_RATE: 0.3289726, ARHR_ALL_HITS: 0.1788465, NOVELTY: 0.0034453, AVERAGE_POPULARITY: 0.3126319, DIVERSITY_MEAN_INTER_LIST: 0.8221964, DIVERSITY_HERFINDAHL: 0.9822176, COVERAGE_ITEM: 0.1701230, COVERAGE_ITEM_HIT: 0.0284969, ITEMS_IN_GT: 0.8701015, COVERAGE_USER: 0.9768671, COVERAGE_USER_HIT: 0.3213625, USERS_IN_GT: 0.9768671, DIVERSITY_GINI: 0.0082180, SHANNON_ENTROPY: 7.4038790, RATIO_DIVERSITY_HERFINDAHL: 0.9825416, RATIO_DIVERSITY_GINI: 0.0184485, RATIO_SHANNON_ENTROPY: 0.5486822, RATIO_AVERAGE_POPULARITY: 6.1363491, RATIO_NOVELTY: 0.2249573, \n",
      "\n",
      "Iteration No: 43 ended. Evaluation done at random point.\n",
      "Time taken: 143.3226\n",
      "Function value obtained: -0.0212\n",
      "Current minimum: -0.0256\n",
      "Iteration No: 44 started. Evaluating function at random point.\n",
      "SearchBayesianSkopt: Testing config: {'alpha': 39.45372981109099, 'beta': 99.25885751928402, 'gamma': 7.783802317588042, 'theta': 47.438595852155174, 'sigma': 82.77236936671778, 'epsilon': 73.69347098722868}\n"
     ]
    },
    {
     "name": "stdout",
     "output_type": "stream",
     "text": [
      "DifferentLossScoresHybridRecommender: URM Detected 3461 (12.4%) items with no interactions.\n"
     ]
    },
    {
     "name": "stdout",
     "output_type": "stream",
     "text": [
      "EvaluatorHoldout: Processed 40666 (100.0%) in 2.38 min. Users per second: 285\n"
     ]
    },
    {
     "name": "stdout",
     "output_type": "stream",
     "text": [
      "SearchBayesianSkopt: Config 43 is suboptimal. Config: {'alpha': 39.45372981109099, 'beta': 99.25885751928402, 'gamma': 7.783802317588042, 'theta': 47.438595852155174, 'sigma': 82.77236936671778, 'epsilon': 73.69347098722868} - results: PRECISION: 0.0461147, PRECISION_RECALL_MIN_DEN: 0.0795891, RECALL: 0.0751405, MAP: 0.0212017, MAP_MIN_DEN: 0.0360645, MRR: 0.1528604, NDCG: 0.0741849, F1: 0.0571535, HIT_RATE: 0.3289726, ARHR_ALL_HITS: 0.1791686, NOVELTY: 0.0034448, AVERAGE_POPULARITY: 0.3122256, DIVERSITY_MEAN_INTER_LIST: 0.8230798, DIVERSITY_HERFINDAHL: 0.9823060, COVERAGE_ITEM: 0.1618636, COVERAGE_ITEM_HIT: 0.0283538, ITEMS_IN_GT: 0.8701015, COVERAGE_USER: 0.9768671, COVERAGE_USER_HIT: 0.3213625, USERS_IN_GT: 0.9768671, DIVERSITY_GINI: 0.0080133, SHANNON_ENTROPY: 7.4026082, RATIO_DIVERSITY_HERFINDAHL: 0.9826299, RATIO_DIVERSITY_GINI: 0.0179891, RATIO_SHANNON_ENTROPY: 0.5485880, RATIO_AVERAGE_POPULARITY: 6.1283746, RATIO_NOVELTY: 0.2249199, \n",
      "\n",
      "Iteration No: 44 ended. Evaluation done at random point.\n",
      "Time taken: 143.0650\n",
      "Function value obtained: -0.0212\n",
      "Current minimum: -0.0256\n",
      "Iteration No: 45 started. Evaluating function at random point.\n",
      "SearchBayesianSkopt: Testing config: {'alpha': 10.673096004541197, 'beta': 51.688889628143066, 'gamma': 62.69417124017414, 'theta': 59.40041051032977, 'sigma': 24.013083674274842, 'epsilon': 91.97582648438897}\n",
      "DifferentLossScoresHybridRecommender: URM Detected 3461 (12.4%) items with no interactions.\n"
     ]
    },
    {
     "name": "stdout",
     "output_type": "stream",
     "text": [
      "EvaluatorHoldout: Processed 40666 (100.0%) in 2.40 min. Users per second: 282\n"
     ]
    },
    {
     "name": "stdout",
     "output_type": "stream",
     "text": [
      "SearchBayesianSkopt: Config 44 is suboptimal. Config: {'alpha': 10.673096004541197, 'beta': 51.688889628143066, 'gamma': 62.69417124017414, 'theta': 59.40041051032977, 'sigma': 24.013083674274842, 'epsilon': 91.97582648438897} - results: PRECISION: 0.0501402, PRECISION_RECALL_MIN_DEN: 0.0851368, RECALL: 0.0800844, MAP: 0.0238984, MAP_MIN_DEN: 0.0398287, MRR: 0.1664586, NDCG: 0.0807057, F1: 0.0616696, HIT_RATE: 0.3451040, ARHR_ALL_HITS: 0.1982450, NOVELTY: 0.0035513, AVERAGE_POPULARITY: 0.2605173, DIVERSITY_MEAN_INTER_LIST: 0.8939415, DIVERSITY_HERFINDAHL: 0.9893920, COVERAGE_ITEM: 0.1319365, COVERAGE_ITEM_HIT: 0.0325014, ITEMS_IN_GT: 0.8701015, COVERAGE_USER: 0.9768671, COVERAGE_USER_HIT: 0.3371208, USERS_IN_GT: 0.9768671, DIVERSITY_GINI: 0.0092003, SHANNON_ENTROPY: 7.9830084, RATIO_DIVERSITY_HERFINDAHL: 0.9897183, RATIO_DIVERSITY_GINI: 0.0206537, RATIO_SHANNON_ENTROPY: 0.5915999, RATIO_AVERAGE_POPULARITY: 5.1134417, RATIO_NOVELTY: 0.2318787, \n",
      "\n",
      "Iteration No: 45 ended. Evaluation done at random point.\n",
      "Time taken: 144.1594\n",
      "Function value obtained: -0.0239\n",
      "Current minimum: -0.0256\n",
      "Iteration No: 46 started. Evaluating function at random point.\n",
      "SearchBayesianSkopt: Testing config: {'alpha': 12.134015677731838, 'beta': 57.89481792918656, 'gamma': 56.44761116229097, 'theta': 66.92994892149507, 'sigma': 35.619903237444454, 'epsilon': 92.02440235485105}\n",
      "DifferentLossScoresHybridRecommender: URM Detected 3461 (12.4%) items with no interactions.\n"
     ]
    },
    {
     "name": "stdout",
     "output_type": "stream",
     "text": [
      "EvaluatorHoldout: Processed 40666 (100.0%) in 2.38 min. Users per second: 285\n"
     ]
    },
    {
     "name": "stdout",
     "output_type": "stream",
     "text": [
      "SearchBayesianSkopt: Config 45 is suboptimal. Config: {'alpha': 12.134015677731838, 'beta': 57.89481792918656, 'gamma': 56.44761116229097, 'theta': 66.92994892149507, 'sigma': 35.619903237444454, 'epsilon': 92.02440235485105} - results: PRECISION: 0.0490065, PRECISION_RECALL_MIN_DEN: 0.0836597, RECALL: 0.0787727, MAP: 0.0230886, MAP_MIN_DEN: 0.0387629, MRR: 0.1627244, NDCG: 0.0788971, F1: 0.0604226, HIT_RATE: 0.3410712, ARHR_ALL_HITS: 0.1927362, NOVELTY: 0.0035172, AVERAGE_POPULARITY: 0.2773294, DIVERSITY_MEAN_INTER_LIST: 0.8737416, DIVERSITY_HERFINDAHL: 0.9873720, COVERAGE_ITEM: 0.1436284, COVERAGE_ITEM_HIT: 0.0311785, ITEMS_IN_GT: 0.8701015, COVERAGE_USER: 0.9768671, COVERAGE_USER_HIT: 0.3331812, USERS_IN_GT: 0.9768671, DIVERSITY_GINI: 0.0088271, SHANNON_ENTROPY: 7.8090667, RATIO_DIVERSITY_HERFINDAHL: 0.9876976, RATIO_DIVERSITY_GINI: 0.0198158, RATIO_SHANNON_ENTROPY: 0.5787096, RATIO_AVERAGE_POPULARITY: 5.4434310, RATIO_NOVELTY: 0.2296495, \n",
      "\n",
      "Iteration No: 46 ended. Evaluation done at random point.\n",
      "Time taken: 142.7379\n",
      "Function value obtained: -0.0231\n",
      "Current minimum: -0.0256\n",
      "Iteration No: 47 started. Evaluating function at random point.\n",
      "SearchBayesianSkopt: Testing config: {'alpha': 17.119819977112385, 'beta': 51.455646989408734, 'gamma': 54.94780420869585, 'theta': 56.19235548350198, 'sigma': 91.3650973104636, 'epsilon': 1.0714331312338568}\n",
      "DifferentLossScoresHybridRecommender: URM Detected 3461 (12.4%) items with no interactions.\n"
     ]
    },
    {
     "name": "stdout",
     "output_type": "stream",
     "text": [
      "EvaluatorHoldout: Processed 40666 (100.0%) in 2.37 min. Users per second: 286\n"
     ]
    },
    {
     "name": "stdout",
     "output_type": "stream",
     "text": [
      "SearchBayesianSkopt: Config 46 is suboptimal. Config: {'alpha': 17.119819977112385, 'beta': 51.455646989408734, 'gamma': 54.94780420869585, 'theta': 56.19235548350198, 'sigma': 91.3650973104636, 'epsilon': 1.0714331312338568} - results: PRECISION: 0.0441892, PRECISION_RECALL_MIN_DEN: 0.0766608, RECALL: 0.0724029, MAP: 0.0200513, MAP_MIN_DEN: 0.0342815, MRR: 0.1464464, NDCG: 0.0709989, F1: 0.0548824, HIT_RATE: 0.3199479, ARHR_ALL_HITS: 0.1706046, NOVELTY: 0.0034124, AVERAGE_POPULARITY: 0.3299549, DIVERSITY_MEAN_INTER_LIST: 0.7915086, DIVERSITY_HERFINDAHL: 0.9791489, COVERAGE_ITEM: 0.2060212, COVERAGE_ITEM_HIT: 0.0266018, ITEMS_IN_GT: 0.8701015, COVERAGE_USER: 0.9768671, COVERAGE_USER_HIT: 0.3125465, USERS_IN_GT: 0.9768671, DIVERSITY_GINI: 0.0085921, SHANNON_ENTROPY: 7.1903345, RATIO_DIVERSITY_HERFINDAHL: 0.9794718, RATIO_DIVERSITY_GINI: 0.0192883, RATIO_SHANNON_ENTROPY: 0.5328570, RATIO_AVERAGE_POPULARITY: 6.4763671, RATIO_NOVELTY: 0.2228104, \n",
      "\n",
      "Iteration No: 47 ended. Evaluation done at random point.\n",
      "Time taken: 142.1853\n",
      "Function value obtained: -0.0201\n",
      "Current minimum: -0.0256\n",
      "Iteration No: 48 started. Evaluating function at random point.\n",
      "SearchBayesianSkopt: Testing config: {'alpha': 18.976784561694675, 'beta': 25.792094261891247, 'gamma': 92.71998710869572, 'theta': 96.36575615887955, 'sigma': 78.99273030734759, 'epsilon': 62.96301549621046}\n",
      "DifferentLossScoresHybridRecommender: URM Detected 3461 (12.4%) items with no interactions.\n"
     ]
    },
    {
     "name": "stdout",
     "output_type": "stream",
     "text": [
      "EvaluatorHoldout: Processed 40666 (100.0%) in 2.37 min. Users per second: 286\n"
     ]
    },
    {
     "name": "stdout",
     "output_type": "stream",
     "text": [
      "SearchBayesianSkopt: Config 47 is suboptimal. Config: {'alpha': 18.976784561694675, 'beta': 25.792094261891247, 'gamma': 92.71998710869572, 'theta': 96.36575615887955, 'sigma': 78.99273030734759, 'epsilon': 62.96301549621046} - results: PRECISION: 0.0461171, PRECISION_RECALL_MIN_DEN: 0.0795594, RECALL: 0.0750839, MAP: 0.0212080, MAP_MIN_DEN: 0.0360632, MRR: 0.1527526, NDCG: 0.0741626, F1: 0.0571390, HIT_RATE: 0.3289726, ARHR_ALL_HITS: 0.1791227, NOVELTY: 0.0034537, AVERAGE_POPULARITY: 0.3097567, DIVERSITY_MEAN_INTER_LIST: 0.8264812, DIVERSITY_HERFINDAHL: 0.9826461, COVERAGE_ITEM: 0.1910755, COVERAGE_ITEM_HIT: 0.0283896, ITEMS_IN_GT: 0.8701015, COVERAGE_USER: 0.9768671, COVERAGE_USER_HIT: 0.3213625, USERS_IN_GT: 0.9768671, DIVERSITY_GINI: 0.0087992, SHANNON_ENTROPY: 7.4469062, RATIO_DIVERSITY_HERFINDAHL: 0.9829702, RATIO_DIVERSITY_GINI: 0.0197533, RATIO_SHANNON_ENTROPY: 0.5518708, RATIO_AVERAGE_POPULARITY: 6.0799153, RATIO_NOVELTY: 0.2255042, \n",
      "\n",
      "Iteration No: 48 ended. Evaluation done at random point.\n",
      "Time taken: 142.1742\n",
      "Function value obtained: -0.0212\n",
      "Current minimum: -0.0256\n",
      "Iteration No: 49 started. Evaluating function at random point.\n",
      "SearchBayesianSkopt: Testing config: {'alpha': 8.044954936013028, 'beta': 22.01872055250887, 'gamma': 23.00178077874568, 'theta': 36.948071070884744, 'sigma': 20.556542259303296, 'epsilon': 20.475951609077832}\n",
      "DifferentLossScoresHybridRecommender: URM Detected 3461 (12.4%) items with no interactions.\n"
     ]
    },
    {
     "name": "stdout",
     "output_type": "stream",
     "text": [
      "EvaluatorHoldout: Processed 40666 (100.0%) in 2.38 min. Users per second: 285\n"
     ]
    },
    {
     "name": "stdout",
     "output_type": "stream",
     "text": [
      "SearchBayesianSkopt: Config 48 is suboptimal. Config: {'alpha': 8.044954936013028, 'beta': 22.01872055250887, 'gamma': 23.00178077874568, 'theta': 36.948071070884744, 'sigma': 20.556542259303296, 'epsilon': 20.475951609077832} - results: PRECISION: 0.0474868, PRECISION_RECALL_MIN_DEN: 0.0817407, RECALL: 0.0771248, MAP: 0.0219860, MAP_MIN_DEN: 0.0372520, MRR: 0.1571630, NDCG: 0.0763544, F1: 0.0587812, HIT_RATE: 0.3357596, ARHR_ALL_HITS: 0.1849295, NOVELTY: 0.0034720, AVERAGE_POPULARITY: 0.3017733, DIVERSITY_MEAN_INTER_LIST: 0.8388650, DIVERSITY_HERFINDAHL: 0.9838844, COVERAGE_ITEM: 0.1739488, COVERAGE_ITEM_HIT: 0.0304634, ITEMS_IN_GT: 0.8701015, COVERAGE_USER: 0.9768671, COVERAGE_USER_HIT: 0.3279925, USERS_IN_GT: 0.9768671, DIVERSITY_GINI: 0.0088701, SHANNON_ENTROPY: 7.5593258, RATIO_DIVERSITY_HERFINDAHL: 0.9842089, RATIO_DIVERSITY_GINI: 0.0199125, RATIO_SHANNON_ENTROPY: 0.5602019, RATIO_AVERAGE_POPULARITY: 5.9232162, RATIO_NOVELTY: 0.2266987, \n",
      "\n",
      "Iteration No: 49 ended. Evaluation done at random point.\n",
      "Time taken: 142.7355\n",
      "Function value obtained: -0.0220\n",
      "Current minimum: -0.0256\n",
      "Iteration No: 50 started. Evaluating function at random point.\n",
      "SearchBayesianSkopt: Testing config: {'alpha': 67.38608924013006, 'beta': 99.43393445288915, 'gamma': 32.948957002893636, 'theta': 79.92493931641323, 'sigma': 63.22076074515047, 'epsilon': 76.03903747133037}\n",
      "DifferentLossScoresHybridRecommender: URM Detected 3461 (12.4%) items with no interactions.\n"
     ]
    },
    {
     "name": "stdout",
     "output_type": "stream",
     "text": [
      "EvaluatorHoldout: Processed 40666 (100.0%) in 2.38 min. Users per second: 285\n"
     ]
    },
    {
     "name": "stdout",
     "output_type": "stream",
     "text": [
      "SearchBayesianSkopt: Config 49 is suboptimal. Config: {'alpha': 67.38608924013006, 'beta': 99.43393445288915, 'gamma': 32.948957002893636, 'theta': 79.92493931641323, 'sigma': 63.22076074515047, 'epsilon': 76.03903747133037} - results: PRECISION: 0.0478114, PRECISION_RECALL_MIN_DEN: 0.0822185, RECALL: 0.0775517, MAP: 0.0222342, MAP_MIN_DEN: 0.0376459, MRR: 0.1586095, NDCG: 0.0770035, F1: 0.0591539, HIT_RATE: 0.3374318, ARHR_ALL_HITS: 0.1868271, NOVELTY: 0.0034753, AVERAGE_POPULARITY: 0.2995532, DIVERSITY_MEAN_INTER_LIST: 0.8424710, DIVERSITY_HERFINDAHL: 0.9842450, COVERAGE_ITEM: 0.1533538, COVERAGE_ITEM_HIT: 0.0306779, ITEMS_IN_GT: 0.8701015, COVERAGE_USER: 0.9768671, COVERAGE_USER_HIT: 0.3296260, USERS_IN_GT: 0.9768671, DIVERSITY_GINI: 0.0085775, SHANNON_ENTROPY: 7.5836706, RATIO_DIVERSITY_HERFINDAHL: 0.9845696, RATIO_DIVERSITY_GINI: 0.0192556, RATIO_SHANNON_ENTROPY: 0.5620061, RATIO_AVERAGE_POPULARITY: 5.8796410, RATIO_NOVELTY: 0.2269172, \n",
      "\n",
      "Iteration No: 50 ended. Evaluation done at random point.\n",
      "Time taken: 143.1508\n",
      "Function value obtained: -0.0222\n",
      "Current minimum: -0.0256\n",
      "Iteration No: 51 started. Evaluating function at random point.\n",
      "SearchBayesianSkopt: Testing config: {'alpha': 89.84751685323428, 'beta': 29.510222026575423, 'gamma': 66.4181556899046, 'theta': 60.38969879563694, 'sigma': 36.762389625507915, 'epsilon': 54.08597075409155}\n"
     ]
    },
    {
     "name": "stdout",
     "output_type": "stream",
     "text": [
      "DifferentLossScoresHybridRecommender: URM Detected 3461 (12.4%) items with no interactions.\n"
     ]
    },
    {
     "name": "stdout",
     "output_type": "stream",
     "text": [
      "EvaluatorHoldout: Processed 40666 (100.0%) in 2.37 min. Users per second: 286\n"
     ]
    },
    {
     "name": "stdout",
     "output_type": "stream",
     "text": [
      "SearchBayesianSkopt: Config 50 is suboptimal. Config: {'alpha': 89.84751685323428, 'beta': 29.510222026575423, 'gamma': 66.4181556899046, 'theta': 60.38969879563694, 'sigma': 36.762389625507915, 'epsilon': 54.08597075409155} - results: PRECISION: 0.0489869, PRECISION_RECALL_MIN_DEN: 0.0838914, RECALL: 0.0790346, MAP: 0.0229688, MAP_MIN_DEN: 0.0387034, MRR: 0.1622368, NDCG: 0.0788556, F1: 0.0604845, HIT_RATE: 0.3413417, ARHR_ALL_HITS: 0.1919782, NOVELTY: 0.0035055, AVERAGE_POPULARITY: 0.2877875, DIVERSITY_MEAN_INTER_LIST: 0.8586990, DIVERSITY_HERFINDAHL: 0.9858678, COVERAGE_ITEM: 0.1629720, COVERAGE_ITEM_HIT: 0.0324299, ITEMS_IN_GT: 0.8701015, COVERAGE_USER: 0.9768671, COVERAGE_USER_HIT: 0.3334454, USERS_IN_GT: 0.9768671, DIVERSITY_GINI: 0.0094780, SHANNON_ENTROPY: 7.7511650, RATIO_DIVERSITY_HERFINDAHL: 0.9861929, RATIO_DIVERSITY_GINI: 0.0212772, RATIO_SHANNON_ENTROPY: 0.5744186, RATIO_AVERAGE_POPULARITY: 5.6487021, RATIO_NOVELTY: 0.2288888, \n",
      "\n",
      "Iteration No: 51 ended. Evaluation done at random point.\n",
      "Time taken: 142.2620\n",
      "Function value obtained: -0.0230\n",
      "Current minimum: -0.0256\n",
      "Iteration No: 52 started. Evaluating function at random point.\n",
      "SearchBayesianSkopt: Testing config: {'alpha': 82.51037346776894, 'beta': 96.84281494830532, 'gamma': 22.22669891366979, 'theta': 74.87304139133508, 'sigma': 13.629501904264577, 'epsilon': 64.50273834687692}\n",
      "DifferentLossScoresHybridRecommender: URM Detected 3461 (12.4%) items with no interactions.\n"
     ]
    },
    {
     "name": "stdout",
     "output_type": "stream",
     "text": [
      "EvaluatorHoldout: Processed 40666 (100.0%) in 2.37 min. Users per second: 286\n"
     ]
    },
    {
     "name": "stdout",
     "output_type": "stream",
     "text": [
      "SearchBayesianSkopt: New best config found. Config 51: {'alpha': 82.51037346776894, 'beta': 96.84281494830532, 'gamma': 22.22669891366979, 'theta': 74.87304139133508, 'sigma': 13.629501904264577, 'epsilon': 64.50273834687692} - results: PRECISION: 0.0534107, PRECISION_RECALL_MIN_DEN: 0.0900898, RECALL: 0.0845556, MAP: 0.0258602, MAP_MIN_DEN: 0.0427319, MRR: 0.1761187, NDCG: 0.0858123, F1: 0.0654678, HIT_RATE: 0.3582600, ARHR_ALL_HITS: 0.2119563, NOVELTY: 0.0036093, AVERAGE_POPULARITY: 0.2427113, DIVERSITY_MEAN_INTER_LIST: 0.9112261, DIVERSITY_HERFINDAHL: 0.9911204, COVERAGE_ITEM: 0.1234983, COVERAGE_ITEM_HIT: 0.0392949, ITEMS_IN_GT: 0.8701015, COVERAGE_USER: 0.9768671, COVERAGE_USER_HIT: 0.3499724, USERS_IN_GT: 0.9768671, DIVERSITY_GINI: 0.0112290, SHANNON_ENTROPY: 8.2854109, RATIO_DIVERSITY_HERFINDAHL: 0.9914472, RATIO_DIVERSITY_GINI: 0.0252080, RATIO_SHANNON_ENTROPY: 0.6140102, RATIO_AVERAGE_POPULARITY: 4.7639466, RATIO_NOVELTY: 0.2356638, \n",
      "\n",
      "SearchBayesianSkopt: Saving model in result_experiments/DifferentLossScoresHybridRecommender\n",
      "\n",
      "SearchBayesianSkopt: Config 51 Exception. Config: {'alpha': 82.51037346776894, 'beta': 96.84281494830532, 'gamma': 22.22669891366979, 'theta': 74.87304139133508, 'sigma': 13.629501904264577, 'epsilon': 64.50273834687692} - Exception: Traceback (most recent call last):\n",
      "  File \"/kaggle/working/HyperparameterTuning/SearchAbstractClass.py\", line 534, in _objective_function\n",
      "    recommender_instance.save_model(self.output_folder_path, file_name =self.output_file_name_root + \"_best_model\")\n",
      "  File \"/kaggle/working/Recommenders/BaseRecommender.py\", line 215, in save_model\n",
      "    raise NotImplementedError(\"BaseRecommender: save_model not implemented\")\n",
      "NotImplementedError: BaseRecommender: save_model not implemented\n",
      "\n",
      "\n",
      "Iteration No: 52 ended. Evaluation done at random point.\n",
      "Time taken: 142.6179\n",
      "Function value obtained: 65504.0000\n",
      "Current minimum: -0.0256\n",
      "Iteration No: 53 started. Evaluating function at random point.\n",
      "SearchBayesianSkopt: Testing config: {'alpha': 3.357798900115173, 'beta': 96.88668566623114, 'gamma': 47.20353368498094, 'theta': 58.867246182025745, 'sigma': 27.680908314145096, 'epsilon': 42.56947545314448}\n",
      "DifferentLossScoresHybridRecommender: URM Detected 3461 (12.4%) items with no interactions.\n"
     ]
    },
    {
     "name": "stderr",
     "output_type": "stream",
     "text": [
      "Traceback (most recent call last):\n",
      "  File \"/kaggle/working/HyperparameterTuning/SearchAbstractClass.py\", line 534, in _objective_function\n",
      "    recommender_instance.save_model(self.output_folder_path, file_name =self.output_file_name_root + \"_best_model\")\n",
      "  File \"/kaggle/working/Recommenders/BaseRecommender.py\", line 215, in save_model\n",
      "    raise NotImplementedError(\"BaseRecommender: save_model not implemented\")\n",
      "NotImplementedError: BaseRecommender: save_model not implemented\n"
     ]
    },
    {
     "name": "stdout",
     "output_type": "stream",
     "text": [
      "EvaluatorHoldout: Processed 40666 (100.0%) in 2.38 min. Users per second: 284\n"
     ]
    },
    {
     "name": "stdout",
     "output_type": "stream",
     "text": [
      "SearchBayesianSkopt: Config 52 is suboptimal. Config: {'alpha': 3.357798900115173, 'beta': 96.88668566623114, 'gamma': 47.20353368498094, 'theta': 58.867246182025745, 'sigma': 27.680908314145096, 'epsilon': 42.56947545314448} - results: PRECISION: 0.0493606, PRECISION_RECALL_MIN_DEN: 0.0844135, RECALL: 0.0795016, MAP: 0.0232338, MAP_MIN_DEN: 0.0391143, MRR: 0.1637579, NDCG: 0.0795405, F1: 0.0609061, HIT_RATE: 0.3431614, ARHR_ALL_HITS: 0.1939688, NOVELTY: 0.0035067, AVERAGE_POPULARITY: 0.2870440, DIVERSITY_MEAN_INTER_LIST: 0.8599095, DIVERSITY_HERFINDAHL: 0.9859888, COVERAGE_ITEM: 0.1490990, COVERAGE_ITEM_HIT: 0.0331450, ITEMS_IN_GT: 0.8701015, COVERAGE_USER: 0.9768671, COVERAGE_USER_HIT: 0.3352230, USERS_IN_GT: 0.9768671, DIVERSITY_GINI: 0.0092460, SHANNON_ENTROPY: 7.7581405, RATIO_DIVERSITY_HERFINDAHL: 0.9863140, RATIO_DIVERSITY_GINI: 0.0207564, RATIO_SHANNON_ENTROPY: 0.5749356, RATIO_AVERAGE_POPULARITY: 5.6341091, RATIO_NOVELTY: 0.2289616, \n",
      "\n",
      "Iteration No: 53 ended. Evaluation done at random point.\n",
      "Time taken: 143.1439\n",
      "Function value obtained: -0.0232\n",
      "Current minimum: -0.0256\n",
      "Iteration No: 54 started. Evaluating function at random point.\n",
      "SearchBayesianSkopt: Testing config: {'alpha': 25.581985822840753, 'beta': 50.07804894897699, 'gamma': 8.305277060879469, 'theta': 77.98765769934147, 'sigma': 34.2221405339401, 'epsilon': 9.072594642429745}\n"
     ]
    },
    {
     "name": "stdout",
     "output_type": "stream",
     "text": [
      "DifferentLossScoresHybridRecommender: URM Detected 3461 (12.4%) items with no interactions.\n"
     ]
    },
    {
     "name": "stdout",
     "output_type": "stream",
     "text": [
      "EvaluatorHoldout: Processed 40666 (100.0%) in 2.38 min. Users per second: 285\n"
     ]
    },
    {
     "name": "stdout",
     "output_type": "stream",
     "text": [
      "SearchBayesianSkopt: Config 53 is suboptimal. Config: {'alpha': 25.581985822840753, 'beta': 50.07804894897699, 'gamma': 8.305277060879469, 'theta': 77.98765769934147, 'sigma': 34.2221405339401, 'epsilon': 9.072594642429745} - results: PRECISION: 0.0469360, PRECISION_RECALL_MIN_DEN: 0.0808939, RECALL: 0.0763467, MAP: 0.0216682, MAP_MIN_DEN: 0.0368304, MRR: 0.1556745, NDCG: 0.0755598, F1: 0.0581332, HIT_RATE: 0.3334235, ARHR_ALL_HITS: 0.1827377, NOVELTY: 0.0034522, AVERAGE_POPULARITY: 0.3127929, DIVERSITY_MEAN_INTER_LIST: 0.8209450, DIVERSITY_HERFINDAHL: 0.9820925, COVERAGE_ITEM: 0.1701588, COVERAGE_ITEM_HIT: 0.0309282, ITEMS_IN_GT: 0.8701015, COVERAGE_USER: 0.9768671, COVERAGE_USER_HIT: 0.3257104, USERS_IN_GT: 0.9768671, DIVERSITY_GINI: 0.0087443, SHANNON_ENTROPY: 7.4465852, RATIO_DIVERSITY_HERFINDAHL: 0.9824164, RATIO_DIVERSITY_GINI: 0.0196301, RATIO_SHANNON_ENTROPY: 0.5518470, RATIO_AVERAGE_POPULARITY: 6.1395102, RATIO_NOVELTY: 0.2254054, \n",
      "\n",
      "Iteration No: 54 ended. Evaluation done at random point.\n",
      "Time taken: 143.0997\n",
      "Function value obtained: -0.0217\n",
      "Current minimum: -0.0256\n",
      "Iteration No: 55 started. Evaluating function at random point.\n",
      "SearchBayesianSkopt: Testing config: {'alpha': 66.81228515003278, 'beta': 33.90897469420123, 'gamma': 20.84039879270841, 'theta': 98.94605752842787, 'sigma': 94.08058308671386, 'epsilon': 63.139626843807726}\n",
      "DifferentLossScoresHybridRecommender: URM Detected 3461 (12.4%) items with no interactions.\n"
     ]
    },
    {
     "name": "stdout",
     "output_type": "stream",
     "text": [
      "EvaluatorHoldout: Processed 40666 (100.0%) in 2.38 min. Users per second: 284\n"
     ]
    },
    {
     "name": "stdout",
     "output_type": "stream",
     "text": [
      "SearchBayesianSkopt: Config 54 is suboptimal. Config: {'alpha': 66.81228515003278, 'beta': 33.90897469420123, 'gamma': 20.84039879270841, 'theta': 98.94605752842787, 'sigma': 94.08058308671386, 'epsilon': 63.139626843807726} - results: PRECISION: 0.0456770, PRECISION_RECALL_MIN_DEN: 0.0789264, RECALL: 0.0745124, MAP: 0.0209658, MAP_MIN_DEN: 0.0357066, MRR: 0.1516236, NDCG: 0.0735277, F1: 0.0566356, HIT_RATE: 0.3272267, ARHR_ALL_HITS: 0.1774692, NOVELTY: 0.0034414, AVERAGE_POPULARITY: 0.3146378, DIVERSITY_MEAN_INTER_LIST: 0.8187889, DIVERSITY_HERFINDAHL: 0.9818769, COVERAGE_ITEM: 0.1788830, COVERAGE_ITEM_HIT: 0.0278175, ITEMS_IN_GT: 0.8701015, COVERAGE_USER: 0.9768671, COVERAGE_USER_HIT: 0.3196570, USERS_IN_GT: 0.9768671, DIVERSITY_GINI: 0.0083253, SHANNON_ENTROPY: 7.3786708, RATIO_DIVERSITY_HERFINDAHL: 0.9822007, RATIO_DIVERSITY_GINI: 0.0186894, RATIO_SHANNON_ENTROPY: 0.5468141, RATIO_AVERAGE_POPULARITY: 6.1757220, RATIO_NOVELTY: 0.2246995, \n",
      "\n",
      "Iteration No: 55 ended. Evaluation done at random point.\n",
      "Time taken: 143.1639\n",
      "Function value obtained: -0.0210\n",
      "Current minimum: -0.0256\n",
      "Iteration No: 56 started. Evaluating function at random point.\n",
      "SearchBayesianSkopt: Testing config: {'alpha': 7.379737990488057, 'beta': 11.03983260491234, 'gamma': 35.96119948110187, 'theta': 56.25805591061982, 'sigma': 58.67795339488525, 'epsilon': 18.053631012570495}\n",
      "DifferentLossScoresHybridRecommender: URM Detected 3461 (12.4%) items with no interactions.\n"
     ]
    },
    {
     "name": "stdout",
     "output_type": "stream",
     "text": [
      "EvaluatorHoldout: Processed 40666 (100.0%) in 2.38 min. Users per second: 284\n"
     ]
    },
    {
     "name": "stdout",
     "output_type": "stream",
     "text": [
      "SearchBayesianSkopt: Config 55 is suboptimal. Config: {'alpha': 7.379737990488057, 'beta': 11.03983260491234, 'gamma': 35.96119948110187, 'theta': 56.25805591061982, 'sigma': 58.67795339488525, 'epsilon': 18.053631012570495} - results: PRECISION: 0.0445852, PRECISION_RECALL_MIN_DEN: 0.0772028, RECALL: 0.0729075, MAP: 0.0203486, MAP_MIN_DEN: 0.0347321, MRR: 0.1482786, NDCG: 0.0717609, F1: 0.0553327, HIT_RATE: 0.3218413, ARHR_ALL_HITS: 0.1729358, NOVELTY: 0.0034249, AVERAGE_POPULARITY: 0.3233022, DIVERSITY_MEAN_INTER_LIST: 0.8036506, DIVERSITY_HERFINDAHL: 0.9803631, COVERAGE_ITEM: 0.2035898, COVERAGE_ITEM_HIT: 0.0266733, ITEMS_IN_GT: 0.8701015, COVERAGE_USER: 0.9768671, COVERAGE_USER_HIT: 0.3143962, USERS_IN_GT: 0.9768671, DIVERSITY_GINI: 0.0086155, SHANNON_ENTROPY: 7.2690369, RATIO_DIVERSITY_HERFINDAHL: 0.9806864, RATIO_DIVERSITY_GINI: 0.0193409, RATIO_SHANNON_ENTROPY: 0.5386894, RATIO_AVERAGE_POPULARITY: 6.3457865, RATIO_NOVELTY: 0.2236240, \n",
      "\n",
      "Iteration No: 56 ended. Evaluation done at random point.\n",
      "Time taken: 143.1346\n",
      "Function value obtained: -0.0203\n",
      "Current minimum: -0.0256\n",
      "Iteration No: 57 started. Evaluating function at random point.\n",
      "SearchBayesianSkopt: Testing config: {'alpha': 78.28539323596232, 'beta': 96.84650219688177, 'gamma': 63.25059654822568, 'theta': 89.84125657111062, 'sigma': 75.04268386242296, 'epsilon': 37.661695718456215}\n",
      "DifferentLossScoresHybridRecommender: URM Detected 3461 (12.4%) items with no interactions.\n"
     ]
    },
    {
     "name": "stdout",
     "output_type": "stream",
     "text": [
      "EvaluatorHoldout: Processed 40666 (100.0%) in 2.38 min. Users per second: 285\n"
     ]
    },
    {
     "name": "stdout",
     "output_type": "stream",
     "text": [
      "SearchBayesianSkopt: Config 56 is suboptimal. Config: {'alpha': 78.28539323596232, 'beta': 96.84650219688177, 'gamma': 63.25059654822568, 'theta': 89.84125657111062, 'sigma': 75.04268386242296, 'epsilon': 37.661695718456215} - results: PRECISION: 0.0469139, PRECISION_RECALL_MIN_DEN: 0.0808083, RECALL: 0.0762553, MAP: 0.0216586, MAP_MIN_DEN: 0.0368275, MRR: 0.1555137, NDCG: 0.0755159, F1: 0.0580897, HIT_RATE: 0.3330300, ARHR_ALL_HITS: 0.1826018, NOVELTY: 0.0034556, AVERAGE_POPULARITY: 0.3109405, DIVERSITY_MEAN_INTER_LIST: 0.8240012, DIVERSITY_HERFINDAHL: 0.9823981, COVERAGE_ITEM: 0.1742706, COVERAGE_ITEM_HIT: 0.0306779, ITEMS_IN_GT: 0.8701015, COVERAGE_USER: 0.9768671, COVERAGE_USER_HIT: 0.3253261, USERS_IN_GT: 0.9768671, DIVERSITY_GINI: 0.0088109, SHANNON_ENTROPY: 7.4641907, RATIO_DIVERSITY_HERFINDAHL: 0.9827221, RATIO_DIVERSITY_GINI: 0.0197797, RATIO_SHANNON_ENTROPY: 0.5531517, RATIO_AVERAGE_POPULARITY: 6.1031509, RATIO_NOVELTY: 0.2256268, \n",
      "\n",
      "Iteration No: 57 ended. Evaluation done at random point.\n",
      "Time taken: 142.7732\n",
      "Function value obtained: -0.0217\n",
      "Current minimum: -0.0256\n",
      "Iteration No: 58 started. Evaluating function at random point.\n",
      "SearchBayesianSkopt: Testing config: {'alpha': 43.76069135256326, 'beta': 31.46532696493946, 'gamma': 40.09424632098143, 'theta': 6.78660806608067, 'sigma': 91.5070521502917, 'epsilon': 0.8697482756100274}\n"
     ]
    },
    {
     "name": "stdout",
     "output_type": "stream",
     "text": [
      "DifferentLossScoresHybridRecommender: URM Detected 3461 (12.4%) items with no interactions.\n"
     ]
    },
    {
     "name": "stdout",
     "output_type": "stream",
     "text": [
      "EvaluatorHoldout: Processed 40666 (100.0%) in 2.36 min. Users per second: 287\n"
     ]
    },
    {
     "name": "stdout",
     "output_type": "stream",
     "text": [
      "SearchBayesianSkopt: Config 57 is suboptimal. Config: {'alpha': 43.76069135256326, 'beta': 31.46532696493946, 'gamma': 40.09424632098143, 'theta': 6.78660806608067, 'sigma': 91.5070521502917, 'epsilon': 0.8697482756100274} - results: PRECISION: 0.0437565, PRECISION_RECALL_MIN_DEN: 0.0759575, RECALL: 0.0717587, MAP: 0.0197535, MAP_MIN_DEN: 0.0338127, MRR: 0.1446464, NDCG: 0.0701828, F1: 0.0543635, HIT_RATE: 0.3179806, ARHR_ALL_HITS: 0.1682993, NOVELTY: 0.0034040, AVERAGE_POPULARITY: 0.3331641, DIVERSITY_MEAN_INTER_LIST: 0.7856921, DIVERSITY_HERFINDAHL: 0.9785673, COVERAGE_ITEM: 0.2059854, COVERAGE_ITEM_HIT: 0.0259940, ITEMS_IN_GT: 0.8701015, COVERAGE_USER: 0.9768671, COVERAGE_USER_HIT: 0.3106248, USERS_IN_GT: 0.9768671, DIVERSITY_GINI: 0.0083972, SHANNON_ENTROPY: 7.1359870, RATIO_DIVERSITY_HERFINDAHL: 0.9788900, RATIO_DIVERSITY_GINI: 0.0188509, RATIO_SHANNON_ENTROPY: 0.5288294, RATIO_AVERAGE_POPULARITY: 6.5393558, RATIO_NOVELTY: 0.2222599, \n",
      "\n",
      "Iteration No: 58 ended. Evaluation done at random point.\n",
      "Time taken: 142.0588\n",
      "Function value obtained: -0.0198\n",
      "Current minimum: -0.0256\n",
      "Iteration No: 59 started. Evaluating function at random point.\n",
      "SearchBayesianSkopt: Testing config: {'alpha': 31.789451611813007, 'beta': 7.8836359016515996, 'gamma': 81.67824641413915, 'theta': 10.790890850409799, 'sigma': 11.012787469024346, 'epsilon': 57.19739750196447}\n",
      "DifferentLossScoresHybridRecommender: URM Detected 3461 (12.4%) items with no interactions.\n"
     ]
    },
    {
     "name": "stdout",
     "output_type": "stream",
     "text": [
      "EvaluatorHoldout: Processed 40666 (100.0%) in 2.37 min. Users per second: 286\n"
     ]
    },
    {
     "name": "stdout",
     "output_type": "stream",
     "text": [
      "SearchBayesianSkopt: Config 58 is suboptimal. Config: {'alpha': 31.789451611813007, 'beta': 7.8836359016515996, 'gamma': 81.67824641413915, 'theta': 10.790890850409799, 'sigma': 11.012787469024346, 'epsilon': 57.19739750196447} - results: PRECISION: 0.0514361, PRECISION_RECALL_MIN_DEN: 0.0869365, RECALL: 0.0816227, MAP: 0.0246245, MAP_MIN_DEN: 0.0407260, MRR: 0.1693200, NDCG: 0.0823957, F1: 0.0631052, HIT_RATE: 0.3493582, ARHR_ALL_HITS: 0.2028553, NOVELTY: 0.0035917, AVERAGE_POPULARITY: 0.2439058, DIVERSITY_MEAN_INTER_LIST: 0.9108104, DIVERSITY_HERFINDAHL: 0.9910788, COVERAGE_ITEM: 0.1508152, COVERAGE_ITEM_HIT: 0.0345037, ITEMS_IN_GT: 0.8701015, COVERAGE_USER: 0.9768671, COVERAGE_USER_HIT: 0.3412765, USERS_IN_GT: 0.9768671, DIVERSITY_GINI: 0.0103163, SHANNON_ENTROPY: 8.1764583, RATIO_DIVERSITY_HERFINDAHL: 0.9914057, RATIO_DIVERSITY_GINI: 0.0231591, RATIO_SHANNON_ENTROPY: 0.6059360, RATIO_AVERAGE_POPULARITY: 4.7873924, RATIO_NOVELTY: 0.2345116, \n",
      "\n",
      "Iteration No: 59 ended. Evaluation done at random point.\n",
      "Time taken: 142.6156\n",
      "Function value obtained: -0.0246\n",
      "Current minimum: -0.0256\n",
      "Iteration No: 60 started. Evaluating function at random point.\n",
      "SearchBayesianSkopt: Testing config: {'alpha': 62.92536242912025, 'beta': 91.13787591554336, 'gamma': 27.838915337193633, 'theta': 63.120885574351334, 'sigma': 99.32753371979749, 'epsilon': 92.73238855946893}\n",
      "DifferentLossScoresHybridRecommender: URM Detected 3461 (12.4%) items with no interactions.\n"
     ]
    },
    {
     "name": "stdout",
     "output_type": "stream",
     "text": [
      "EvaluatorHoldout: Processed 40666 (100.0%) in 2.39 min. Users per second: 283\n"
     ]
    },
    {
     "name": "stdout",
     "output_type": "stream",
     "text": [
      "SearchBayesianSkopt: Config 59 is suboptimal. Config: {'alpha': 62.92536242912025, 'beta': 91.13787591554336, 'gamma': 27.838915337193633, 'theta': 63.120885574351334, 'sigma': 99.32753371979749, 'epsilon': 92.73238855946893} - results: PRECISION: 0.0462155, PRECISION_RECALL_MIN_DEN: 0.0797544, RECALL: 0.0752949, MAP: 0.0212612, MAP_MIN_DEN: 0.0361508, MRR: 0.1531384, NDCG: 0.0743417, F1: 0.0572756, HIT_RATE: 0.3294644, ARHR_ALL_HITS: 0.1795817, NOVELTY: 0.0034489, AVERAGE_POPULARITY: 0.3104574, DIVERSITY_MEAN_INTER_LIST: 0.8258390, DIVERSITY_HERFINDAHL: 0.9825819, COVERAGE_ITEM: 0.1656178, COVERAGE_ITEM_HIT: 0.0284611, ITEMS_IN_GT: 0.8701015, COVERAGE_USER: 0.9768671, COVERAGE_USER_HIT: 0.3218429, USERS_IN_GT: 0.9768671, DIVERSITY_GINI: 0.0081539, SHANNON_ENTROPY: 7.4261209, RATIO_DIVERSITY_HERFINDAHL: 0.9829059, RATIO_DIVERSITY_GINI: 0.0183047, RATIO_SHANNON_ENTROPY: 0.5503305, RATIO_AVERAGE_POPULARITY: 6.0936678, RATIO_NOVELTY: 0.2251929, \n",
      "\n",
      "Iteration No: 60 ended. Evaluation done at random point.\n",
      "Time taken: 143.6830\n",
      "Function value obtained: -0.0213\n",
      "Current minimum: -0.0256\n",
      "Iteration No: 61 started. Evaluating function at random point.\n",
      "SearchBayesianSkopt: Testing config: {'alpha': 76.46563558572717, 'beta': 36.309506594519256, 'gamma': 12.91459816628461, 'theta': 42.44617404236464, 'sigma': 92.59318557421258, 'epsilon': 1.1108803449982332}\n",
      "DifferentLossScoresHybridRecommender: URM Detected 3461 (12.4%) items with no interactions.\n"
     ]
    },
    {
     "name": "stdout",
     "output_type": "stream",
     "text": [
      "EvaluatorHoldout: Processed 40666 (100.0%) in 2.38 min. Users per second: 284\n"
     ]
    },
    {
     "name": "stdout",
     "output_type": "stream",
     "text": [
      "SearchBayesianSkopt: Config 60 is suboptimal. Config: {'alpha': 76.46563558572717, 'beta': 36.309506594519256, 'gamma': 12.91459816628461, 'theta': 42.44617404236464, 'sigma': 92.59318557421258, 'epsilon': 1.1108803449982332} - results: PRECISION: 0.0442458, PRECISION_RECALL_MIN_DEN: 0.0767856, RECALL: 0.0725369, MAP: 0.0200658, MAP_MIN_DEN: 0.0343265, MRR: 0.1465461, NDCG: 0.0710885, F1: 0.0549645, HIT_RATE: 0.3202921, ARHR_ALL_HITS: 0.1707346, NOVELTY: 0.0034101, AVERAGE_POPULARITY: 0.3305664, DIVERSITY_MEAN_INTER_LIST: 0.7904977, DIVERSITY_HERFINDAHL: 0.9790478, COVERAGE_ITEM: 0.1946868, COVERAGE_ITEM_HIT: 0.0267449, ITEMS_IN_GT: 0.8701015, COVERAGE_USER: 0.9768671, COVERAGE_USER_HIT: 0.3128828, USERS_IN_GT: 0.9768671, DIVERSITY_GINI: 0.0083032, SHANNON_ENTROPY: 7.1797374, RATIO_DIVERSITY_HERFINDAHL: 0.9793707, RATIO_DIVERSITY_GINI: 0.0186399, RATIO_SHANNON_ENTROPY: 0.5320716, RATIO_AVERAGE_POPULARITY: 6.4883685, RATIO_NOVELTY: 0.2226565, \n",
      "\n",
      "Iteration No: 61 ended. Evaluation done at random point.\n",
      "Time taken: 143.1930\n",
      "Function value obtained: -0.0201\n",
      "Current minimum: -0.0256\n",
      "Iteration No: 62 started. Evaluating function at random point.\n",
      "SearchBayesianSkopt: Testing config: {'alpha': 77.22199592732343, 'beta': 78.95479567509047, 'gamma': 41.424738268199455, 'theta': 73.07656887239669, 'sigma': 36.90952475804804, 'epsilon': 23.860084202307537}\n",
      "DifferentLossScoresHybridRecommender: URM Detected 3461 (12.4%) items with no interactions.\n"
     ]
    },
    {
     "name": "stdout",
     "output_type": "stream",
     "text": [
      "EvaluatorHoldout: Processed 40666 (100.0%) in 2.37 min. Users per second: 285\n"
     ]
    },
    {
     "name": "stdout",
     "output_type": "stream",
     "text": [
      "SearchBayesianSkopt: Config 61 is suboptimal. Config: {'alpha': 77.22199592732343, 'beta': 78.95479567509047, 'gamma': 41.424738268199455, 'theta': 73.07656887239669, 'sigma': 36.90952475804804, 'epsilon': 23.860084202307537} - results: PRECISION: 0.0487164, PRECISION_RECALL_MIN_DEN: 0.0834438, RECALL: 0.0786718, MAP: 0.0228170, MAP_MIN_DEN: 0.0385363, MRR: 0.1616720, NDCG: 0.0785071, F1: 0.0601721, HIT_RATE: 0.3406777, ARHR_ALL_HITS: 0.1910241, NOVELTY: 0.0034880, AVERAGE_POPULARITY: 0.2986025, DIVERSITY_MEAN_INTER_LIST: 0.8424869, DIVERSITY_HERFINDAHL: 0.9842466, COVERAGE_ITEM: 0.1588244, COVERAGE_ITEM_HIT: 0.0335383, ITEMS_IN_GT: 0.8701015, COVERAGE_USER: 0.9768671, COVERAGE_USER_HIT: 0.3327968, USERS_IN_GT: 0.9768671, DIVERSITY_GINI: 0.0094368, SHANNON_ENTROPY: 7.6546902, RATIO_DIVERSITY_HERFINDAHL: 0.9845712, RATIO_DIVERSITY_GINI: 0.0211847, RATIO_SHANNON_ENTROPY: 0.5672691, RATIO_AVERAGE_POPULARITY: 5.8609794, RATIO_NOVELTY: 0.2277431, \n",
      "\n",
      "Iteration No: 62 ended. Evaluation done at random point.\n",
      "Time taken: 142.6852\n",
      "Function value obtained: -0.0228\n",
      "Current minimum: -0.0256\n",
      "Iteration No: 63 started. Evaluating function at random point.\n",
      "SearchBayesianSkopt: Testing config: {'alpha': 16.799143858450297, 'beta': 11.678817313051063, 'gamma': 52.40138616607054, 'theta': 12.572051999674564, 'sigma': 54.24149195267499, 'epsilon': 11.389716640099392}\n",
      "DifferentLossScoresHybridRecommender: URM Detected 3461 (12.4%) items with no interactions.\n"
     ]
    },
    {
     "name": "stdout",
     "output_type": "stream",
     "text": [
      "EvaluatorHoldout: Processed 40666 (100.0%) in 2.37 min. Users per second: 286\n"
     ]
    },
    {
     "name": "stdout",
     "output_type": "stream",
     "text": [
      "SearchBayesianSkopt: Config 62 is suboptimal. Config: {'alpha': 16.799143858450297, 'beta': 11.678817313051063, 'gamma': 52.40138616607054, 'theta': 12.572051999674564, 'sigma': 54.24149195267499, 'epsilon': 11.389716640099392} - results: PRECISION: 0.0441892, PRECISION_RECALL_MIN_DEN: 0.0765300, RECALL: 0.0722783, MAP: 0.0200662, MAP_MIN_DEN: 0.0342609, MRR: 0.1464846, NDCG: 0.0709665, F1: 0.0548466, HIT_RATE: 0.3198495, ARHR_ALL_HITS: 0.1706928, NOVELTY: 0.0034183, AVERAGE_POPULARITY: 0.3269365, DIVERSITY_MEAN_INTER_LIST: 0.7970397, DIVERSITY_HERFINDAHL: 0.9797020, COVERAGE_ITEM: 0.2103833, COVERAGE_ITEM_HIT: 0.0263515, ITEMS_IN_GT: 0.8701015, COVERAGE_USER: 0.9768671, COVERAGE_USER_HIT: 0.3124505, USERS_IN_GT: 0.9768671, DIVERSITY_GINI: 0.0087154, SHANNON_ENTROPY: 7.2240240, RATIO_DIVERSITY_HERFINDAHL: 0.9800251, RATIO_DIVERSITY_GINI: 0.0195652, RATIO_SHANNON_ENTROPY: 0.5353536, RATIO_AVERAGE_POPULARITY: 6.4171201, RATIO_NOVELTY: 0.2231902, \n",
      "\n",
      "Iteration No: 63 ended. Evaluation done at random point.\n",
      "Time taken: 142.4050\n",
      "Function value obtained: -0.0201\n",
      "Current minimum: -0.0256\n",
      "Iteration No: 64 started. Evaluating function at random point.\n",
      "SearchBayesianSkopt: Testing config: {'alpha': 11.241606703264331, 'beta': 79.36317969436124, 'gamma': 24.162532629125984, 'theta': 48.740254808608974, 'sigma': 71.05098171064387, 'epsilon': 23.12450799019054}\n",
      "DifferentLossScoresHybridRecommender: URM Detected 3461 (12.4%) items with no interactions.\n"
     ]
    },
    {
     "name": "stdout",
     "output_type": "stream",
     "text": [
      "EvaluatorHoldout: Processed 40666 (100.0%) in 2.38 min. Users per second: 285\n"
     ]
    },
    {
     "name": "stdout",
     "output_type": "stream",
     "text": [
      "SearchBayesianSkopt: Config 63 is suboptimal. Config: {'alpha': 11.241606703264331, 'beta': 79.36317969436124, 'gamma': 24.162532629125984, 'theta': 48.740254808608974, 'sigma': 71.05098171064387, 'epsilon': 23.12450799019054} - results: PRECISION: 0.0451212, PRECISION_RECALL_MIN_DEN: 0.0780661, RECALL: 0.0737264, MAP: 0.0205922, MAP_MIN_DEN: 0.0351287, MRR: 0.1496038, NDCG: 0.0725428, F1: 0.0559813, HIT_RATE: 0.3247922, ARHR_ALL_HITS: 0.1747509, NOVELTY: 0.0034259, AVERAGE_POPULARITY: 0.3227426, DIVERSITY_MEAN_INTER_LIST: 0.8047558, DIVERSITY_HERFINDAHL: 0.9804736, COVERAGE_ITEM: 0.1825658, COVERAGE_ITEM_HIT: 0.0276030, ITEMS_IN_GT: 0.8701015, COVERAGE_USER: 0.9768671, COVERAGE_USER_HIT: 0.3172788, USERS_IN_GT: 0.9768671, DIVERSITY_GINI: 0.0082346, SHANNON_ENTROPY: 7.2820386, RATIO_DIVERSITY_HERFINDAHL: 0.9807970, RATIO_DIVERSITY_GINI: 0.0184857, RATIO_SHANNON_ENTROPY: 0.5396529, RATIO_AVERAGE_POPULARITY: 6.3348024, RATIO_NOVELTY: 0.2236891, \n",
      "\n",
      "Iteration No: 64 ended. Evaluation done at random point.\n",
      "Time taken: 142.8924\n",
      "Function value obtained: -0.0206\n",
      "Current minimum: -0.0256\n",
      "Iteration No: 65 started. Evaluating function at random point.\n",
      "SearchBayesianSkopt: Testing config: {'alpha': 78.60490356847227, 'beta': 5.157580969334121, 'gamma': 83.30363288474811, 'theta': 33.43213204025773, 'sigma': 60.04189723599288, 'epsilon': 17.044783611332207}\n",
      "DifferentLossScoresHybridRecommender: URM Detected 3461 (12.4%) items with no interactions.\n"
     ]
    },
    {
     "name": "stdout",
     "output_type": "stream",
     "text": [
      "EvaluatorHoldout: Processed 40666 (100.0%) in 2.38 min. Users per second: 285\n"
     ]
    },
    {
     "name": "stdout",
     "output_type": "stream",
     "text": [
      "SearchBayesianSkopt: Config 64 is suboptimal. Config: {'alpha': 78.60490356847227, 'beta': 5.157580969334121, 'gamma': 83.30363288474811, 'theta': 33.43213204025773, 'sigma': 60.04189723599288, 'epsilon': 17.044783611332207} - results: PRECISION: 0.0456155, PRECISION_RECALL_MIN_DEN: 0.0788131, RECALL: 0.0743907, MAP: 0.0208999, MAP_MIN_DEN: 0.0356374, MRR: 0.1511741, NDCG: 0.0733764, F1: 0.0565532, HIT_RATE: 0.3269316, ARHR_ALL_HITS: 0.1768984, NOVELTY: 0.0034410, AVERAGE_POPULARITY: 0.3181379, DIVERSITY_MEAN_INTER_LIST: 0.8118258, DIVERSITY_HERFINDAHL: 0.9811806, COVERAGE_ITEM: 0.2033038, COVERAGE_ITEM_HIT: 0.0289259, ITEMS_IN_GT: 0.8701015, COVERAGE_USER: 0.9768671, COVERAGE_USER_HIT: 0.3193687, USERS_IN_GT: 0.9768671, DIVERSITY_GINI: 0.0091306, SHANNON_ENTROPY: 7.3677013, RATIO_DIVERSITY_HERFINDAHL: 0.9815042, RATIO_DIVERSITY_GINI: 0.0204973, RATIO_SHANNON_ENTROPY: 0.5460011, RATIO_AVERAGE_POPULARITY: 6.2444213, RATIO_NOVELTY: 0.2246759, \n",
      "\n",
      "Iteration No: 65 ended. Evaluation done at random point.\n",
      "Time taken: 142.8495\n",
      "Function value obtained: -0.0209\n",
      "Current minimum: -0.0256\n",
      "Iteration No: 66 started. Evaluating function at random point.\n",
      "SearchBayesianSkopt: Testing config: {'alpha': 28.45215511995108, 'beta': 63.0907839926488, 'gamma': 44.126419058163115, 'theta': 66.33386959561413, 'sigma': 99.28535992912731, 'epsilon': 39.64974324498336}\n",
      "DifferentLossScoresHybridRecommender: URM Detected 3461 (12.4%) items with no interactions.\n"
     ]
    },
    {
     "name": "stdout",
     "output_type": "stream",
     "text": [
      "EvaluatorHoldout: Processed 40666 (100.0%) in 2.39 min. Users per second: 284\n"
     ]
    },
    {
     "name": "stdout",
     "output_type": "stream",
     "text": [
      "SearchBayesianSkopt: Config 65 is suboptimal. Config: {'alpha': 28.45215511995108, 'beta': 63.0907839926488, 'gamma': 44.126419058163115, 'theta': 66.33386959561413, 'sigma': 99.28535992912731, 'epsilon': 39.64974324498336} - results: PRECISION: 0.0449270, PRECISION_RECALL_MIN_DEN: 0.0777331, RECALL: 0.0733997, MAP: 0.0205251, MAP_MIN_DEN: 0.0349939, MRR: 0.1492715, NDCG: 0.0722799, F1: 0.0557377, HIT_RATE: 0.3236610, ARHR_ALL_HITS: 0.1742621, NOVELTY: 0.0034275, AVERAGE_POPULARITY: 0.3217244, DIVERSITY_MEAN_INTER_LIST: 0.8065354, DIVERSITY_HERFINDAHL: 0.9806516, COVERAGE_ITEM: 0.1889302, COVERAGE_ITEM_HIT: 0.0269236, ITEMS_IN_GT: 0.8701015, COVERAGE_USER: 0.9768671, COVERAGE_USER_HIT: 0.3161738, USERS_IN_GT: 0.9768671, DIVERSITY_GINI: 0.0083399, SHANNON_ENTROPY: 7.2896942, RATIO_DIVERSITY_HERFINDAHL: 0.9809750, RATIO_DIVERSITY_GINI: 0.0187221, RATIO_SHANNON_ENTROPY: 0.5402202, RATIO_AVERAGE_POPULARITY: 6.3148186, RATIO_NOVELTY: 0.2237928, \n",
      "\n",
      "Iteration No: 66 ended. Evaluation done at random point.\n",
      "Time taken: 143.5038\n",
      "Function value obtained: -0.0205\n",
      "Current minimum: -0.0256\n",
      "Iteration No: 67 started. Evaluating function at random point.\n",
      "SearchBayesianSkopt: Testing config: {'alpha': 13.049435217527519, 'beta': 41.64444386047844, 'gamma': 27.789025710906618, 'theta': 39.888210034813234, 'sigma': 38.292778130719775, 'epsilon': 80.37536438002823}\n",
      "DifferentLossScoresHybridRecommender: URM Detected 3461 (12.4%) items with no interactions.\n"
     ]
    },
    {
     "name": "stdout",
     "output_type": "stream",
     "text": [
      "EvaluatorHoldout: Processed 40666 (100.0%) in 2.38 min. Users per second: 285\n"
     ]
    },
    {
     "name": "stdout",
     "output_type": "stream",
     "text": [
      "SearchBayesianSkopt: Config 66 is suboptimal. Config: {'alpha': 13.049435217527519, 'beta': 41.64444386047844, 'gamma': 27.789025710906618, 'theta': 39.888210034813234, 'sigma': 38.292778130719775, 'epsilon': 80.37536438002823} - results: PRECISION: 0.0478705, PRECISION_RECALL_MIN_DEN: 0.0820662, RECALL: 0.0773696, MAP: 0.0223107, MAP_MIN_DEN: 0.0376981, MRR: 0.1589006, NDCG: 0.0770457, F1: 0.0591459, HIT_RATE: 0.3367924, ARHR_ALL_HITS: 0.1873091, NOVELTY: 0.0034890, AVERAGE_POPULARITY: 0.2893220, DIVERSITY_MEAN_INTER_LIST: 0.8581129, DIVERSITY_HERFINDAHL: 0.9858092, COVERAGE_ITEM: 0.1456665, COVERAGE_ITEM_HIT: 0.0295338, ITEMS_IN_GT: 0.8701015, COVERAGE_USER: 0.9768671, COVERAGE_USER_HIT: 0.3290014, USERS_IN_GT: 0.9768671, DIVERSITY_GINI: 0.0082412, SHANNON_ENTROPY: 7.6550377, RATIO_DIVERSITY_HERFINDAHL: 0.9861343, RATIO_DIVERSITY_GINI: 0.0185006, RATIO_SHANNON_ENTROPY: 0.5672949, RATIO_AVERAGE_POPULARITY: 5.6788233, RATIO_NOVELTY: 0.2278080, \n",
      "\n",
      "Iteration No: 67 ended. Evaluation done at random point.\n",
      "Time taken: 142.7339\n",
      "Function value obtained: -0.0223\n",
      "Current minimum: -0.0256\n",
      "Iteration No: 68 started. Evaluating function at random point.\n",
      "SearchBayesianSkopt: Testing config: {'alpha': 17.963650630288143, 'beta': 33.62725413002569, 'gamma': 28.75043551540412, 'theta': 20.34103327024665, 'sigma': 43.86460630640916, 'epsilon': 73.89395489630382}\n",
      "DifferentLossScoresHybridRecommender: URM Detected 3461 (12.4%) items with no interactions.\n"
     ]
    },
    {
     "name": "stdout",
     "output_type": "stream",
     "text": [
      "EvaluatorHoldout: Processed 40666 (100.0%) in 2.39 min. Users per second: 284\n"
     ]
    },
    {
     "name": "stdout",
     "output_type": "stream",
     "text": [
      "SearchBayesianSkopt: Config 67 is suboptimal. Config: {'alpha': 17.963650630288143, 'beta': 33.62725413002569, 'gamma': 28.75043551540412, 'theta': 20.34103327024665, 'sigma': 43.86460630640916, 'epsilon': 73.89395489630382} - results: PRECISION: 0.0468622, PRECISION_RECALL_MIN_DEN: 0.0806243, RECALL: 0.0760587, MAP: 0.0217027, MAP_MIN_DEN: 0.0367967, MRR: 0.1556017, NDCG: 0.0754385, F1: 0.0579931, HIT_RATE: 0.3324153, ARHR_ALL_HITS: 0.1828358, NOVELTY: 0.0034707, AVERAGE_POPULARITY: 0.2981819, DIVERSITY_MEAN_INTER_LIST: 0.8453288, DIVERSITY_HERFINDAHL: 0.9845308, COVERAGE_ITEM: 0.1566433, COVERAGE_ITEM_HIT: 0.0284611, ITEMS_IN_GT: 0.8701015, COVERAGE_USER: 0.9768671, COVERAGE_USER_HIT: 0.3247256, USERS_IN_GT: 0.9768671, DIVERSITY_GINI: 0.0081221, SHANNON_ENTROPY: 7.5509850, RATIO_DIVERSITY_HERFINDAHL: 0.9848555, RATIO_DIVERSITY_GINI: 0.0182333, RATIO_SHANNON_ENTROPY: 0.5595838, RATIO_AVERAGE_POPULARITY: 5.8527238, RATIO_NOVELTY: 0.2266112, \n",
      "\n",
      "Iteration No: 68 ended. Evaluation done at random point.\n",
      "Time taken: 143.5277\n",
      "Function value obtained: -0.0217\n",
      "Current minimum: -0.0256\n",
      "Iteration No: 69 started. Evaluating function at random point.\n",
      "SearchBayesianSkopt: Testing config: {'alpha': 28.41402369038058, 'beta': 92.90228887309806, 'gamma': 42.80423764663339, 'theta': 63.81818580857769, 'sigma': 14.230625799935451, 'epsilon': 70.44231630596151}\n",
      "DifferentLossScoresHybridRecommender: URM Detected 3461 (12.4%) items with no interactions.\n"
     ]
    },
    {
     "name": "stdout",
     "output_type": "stream",
     "text": [
      "EvaluatorHoldout: Processed 40666 (100.0%) in 2.38 min. Users per second: 285\n"
     ]
    },
    {
     "name": "stdout",
     "output_type": "stream",
     "text": [
      "SearchBayesianSkopt: Config 68 is suboptimal. Config: {'alpha': 28.41402369038058, 'beta': 92.90228887309806, 'gamma': 42.80423764663339, 'theta': 63.81818580857769, 'sigma': 14.230625799935451, 'epsilon': 70.44231630596151} - results: PRECISION: 0.0526582, PRECISION_RECALL_MIN_DEN: 0.0889080, RECALL: 0.0834706, MAP: 0.0254076, MAP_MIN_DEN: 0.0419923, MRR: 0.1737961, NDCG: 0.0845550, F1: 0.0645773, HIT_RATE: 0.3546697, ARHR_ALL_HITS: 0.2087011, NOVELTY: 0.0035954, AVERAGE_POPULARITY: 0.2449237, DIVERSITY_MEAN_INTER_LIST: 0.9096458, DIVERSITY_HERFINDAHL: 0.9909623, COVERAGE_ITEM: 0.1209239, COVERAGE_ITEM_HIT: 0.0373284, ITEMS_IN_GT: 0.8701015, COVERAGE_USER: 0.9768671, COVERAGE_USER_HIT: 0.3464652, USERS_IN_GT: 0.9768671, DIVERSITY_GINI: 0.0104334, SHANNON_ENTROPY: 8.2097667, RATIO_DIVERSITY_HERFINDAHL: 0.9912892, RATIO_DIVERSITY_GINI: 0.0234218, RATIO_SHANNON_ENTROPY: 0.6084044, RATIO_AVERAGE_POPULARITY: 4.8073717, RATIO_NOVELTY: 0.2347540, \n",
      "\n",
      "Iteration No: 69 ended. Evaluation done at random point.\n",
      "Time taken: 142.7987\n",
      "Function value obtained: -0.0254\n",
      "Current minimum: -0.0256\n",
      "Iteration No: 70 started. Evaluating function at random point.\n",
      "SearchBayesianSkopt: Testing config: {'alpha': 57.449662174997826, 'beta': 39.7665869614096, 'gamma': 74.81481386647889, 'theta': 74.66083244926836, 'sigma': 56.95437998034662, 'epsilon': 82.49217067666665}\n",
      "DifferentLossScoresHybridRecommender: URM Detected 3461 (12.4%) items with no interactions.\n"
     ]
    },
    {
     "name": "stdout",
     "output_type": "stream",
     "text": [
      "EvaluatorHoldout: Processed 40666 (100.0%) in 2.37 min. Users per second: 286\n"
     ]
    },
    {
     "name": "stdout",
     "output_type": "stream",
     "text": [
      "SearchBayesianSkopt: Config 69 is suboptimal. Config: {'alpha': 57.449662174997826, 'beta': 39.7665869614096, 'gamma': 74.81481386647889, 'theta': 74.66083244926836, 'sigma': 56.95437998034662, 'epsilon': 82.49217067666665} - results: PRECISION: 0.0478754, PRECISION_RECALL_MIN_DEN: 0.0821265, RECALL: 0.0774327, MAP: 0.0222576, MAP_MIN_DEN: 0.0376579, MRR: 0.1584815, NDCG: 0.0769898, F1: 0.0591681, HIT_RATE: 0.3371121, ARHR_ALL_HITS: 0.1868215, NOVELTY: 0.0034842, AVERAGE_POPULARITY: 0.2949818, DIVERSITY_MEAN_INTER_LIST: 0.8492342, DIVERSITY_HERFINDAHL: 0.9849213, COVERAGE_ITEM: 0.1667620, COVERAGE_ITEM_HIT: 0.0303561, ITEMS_IN_GT: 0.8701015, COVERAGE_USER: 0.9768671, COVERAGE_USER_HIT: 0.3293137, USERS_IN_GT: 0.9768671, DIVERSITY_GINI: 0.0088464, SHANNON_ENTROPY: 7.6294643, RATIO_DIVERSITY_HERFINDAHL: 0.9852462, RATIO_DIVERSITY_GINI: 0.0198592, RATIO_SHANNON_ENTROPY: 0.5653997, RATIO_AVERAGE_POPULARITY: 5.7899138, RATIO_NOVELTY: 0.2274959, \n",
      "\n",
      "Iteration No: 70 ended. Evaluation done at random point.\n",
      "Time taken: 142.5702\n",
      "Function value obtained: -0.0223\n",
      "Current minimum: -0.0256\n",
      "Iteration No: 71 started. Evaluating function at random point.\n",
      "SearchBayesianSkopt: Testing config: {'alpha': 67.53910133064574, 'beta': 2.7783912661580876, 'gamma': 55.36077045404386, 'theta': 51.4088228464399, 'sigma': 87.65547923924127, 'epsilon': 98.24501426278704}\n",
      "DifferentLossScoresHybridRecommender: URM Detected 3461 (12.4%) items with no interactions.\n"
     ]
    },
    {
     "name": "stdout",
     "output_type": "stream",
     "text": [
      "EvaluatorHoldout: Processed 40666 (100.0%) in 2.37 min. Users per second: 286\n"
     ]
    },
    {
     "name": "stdout",
     "output_type": "stream",
     "text": [
      "SearchBayesianSkopt: Config 70 is suboptimal. Config: {'alpha': 67.53910133064574, 'beta': 2.7783912661580876, 'gamma': 55.36077045404386, 'theta': 51.4088228464399, 'sigma': 87.65547923924127, 'epsilon': 98.24501426278704} - results: PRECISION: 0.0460335, PRECISION_RECALL_MIN_DEN: 0.0795211, RECALL: 0.0750748, MAP: 0.0211538, MAP_MIN_DEN: 0.0359673, MRR: 0.1525590, NDCG: 0.0740346, F1: 0.0570722, HIT_RATE: 0.3287759, ARHR_ALL_HITS: 0.1787790, NOVELTY: 0.0034535, AVERAGE_POPULARITY: 0.3077448, DIVERSITY_MEAN_INTER_LIST: 0.8302224, DIVERSITY_HERFINDAHL: 0.9830202, COVERAGE_ITEM: 0.1767019, COVERAGE_ITEM_HIT: 0.0276387, ITEMS_IN_GT: 0.8701015, COVERAGE_USER: 0.9768671, COVERAGE_USER_HIT: 0.3211703, USERS_IN_GT: 0.9768671, DIVERSITY_GINI: 0.0083172, SHANNON_ENTROPY: 7.4488112, RATIO_DIVERSITY_HERFINDAHL: 0.9833444, RATIO_DIVERSITY_GINI: 0.0186713, RATIO_SHANNON_ENTROPY: 0.5520120, RATIO_AVERAGE_POPULARITY: 6.0404266, RATIO_NOVELTY: 0.2254922, \n",
      "\n",
      "Iteration No: 71 ended. Evaluation done at random point.\n",
      "Time taken: 142.2197\n",
      "Function value obtained: -0.0212\n",
      "Current minimum: -0.0256\n",
      "Iteration No: 72 started. Evaluating function at random point.\n",
      "SearchBayesianSkopt: Testing config: {'alpha': 88.48088465860523, 'beta': 29.459386299692397, 'gamma': 32.70734464582164, 'theta': 68.6286250874781, 'sigma': 88.2666278786946, 'epsilon': 46.98031944868064}\n",
      "DifferentLossScoresHybridRecommender: URM Detected 3461 (12.4%) items with no interactions.\n"
     ]
    },
    {
     "name": "stdout",
     "output_type": "stream",
     "text": [
      "EvaluatorHoldout: Processed 40666 (100.0%) in 2.39 min. Users per second: 283\n"
     ]
    },
    {
     "name": "stdout",
     "output_type": "stream",
     "text": [
      "SearchBayesianSkopt: Config 71 is suboptimal. Config: {'alpha': 88.48088465860523, 'beta': 29.459386299692397, 'gamma': 32.70734464582164, 'theta': 68.6286250874781, 'sigma': 88.2666278786946, 'epsilon': 46.98031944868064} - results: PRECISION: 0.0455466, PRECISION_RECALL_MIN_DEN: 0.0786456, RECALL: 0.0742339, MAP: 0.0208942, MAP_MIN_DEN: 0.0355825, MRR: 0.1511991, NDCG: 0.0732947, F1: 0.0564550, HIT_RATE: 0.3264398, ARHR_ALL_HITS: 0.1769152, NOVELTY: 0.0034381, AVERAGE_POPULARITY: 0.3169323, DIVERSITY_MEAN_INTER_LIST: 0.8147177, DIVERSITY_HERFINDAHL: 0.9814698, COVERAGE_ITEM: 0.1822440, COVERAGE_ITEM_HIT: 0.0282823, ITEMS_IN_GT: 0.8701015, COVERAGE_USER: 0.9768671, COVERAGE_USER_HIT: 0.3188883, USERS_IN_GT: 0.9768671, DIVERSITY_GINI: 0.0084199, SHANNON_ENTROPY: 7.3581115, RATIO_DIVERSITY_HERFINDAHL: 0.9817935, RATIO_DIVERSITY_GINI: 0.0189019, RATIO_SHANNON_ENTROPY: 0.5452905, RATIO_AVERAGE_POPULARITY: 6.2207575, RATIO_NOVELTY: 0.2244880, \n",
      "\n",
      "Iteration No: 72 ended. Evaluation done at random point.\n",
      "Time taken: 143.7648\n",
      "Function value obtained: -0.0209\n",
      "Current minimum: -0.0256\n",
      "Iteration No: 73 started. Evaluating function at random point.\n",
      "SearchBayesianSkopt: Testing config: {'alpha': 58.16149023005613, 'beta': 58.16757475285339, 'gamma': 71.27398555931327, 'theta': 88.64211629122245, 'sigma': 27.37365197875727, 'epsilon': 39.991299466856645}\n",
      "DifferentLossScoresHybridRecommender: URM Detected 3461 (12.4%) items with no interactions.\n"
     ]
    },
    {
     "name": "stdout",
     "output_type": "stream",
     "text": [
      "EvaluatorHoldout: Processed 40666 (100.0%) in 2.38 min. Users per second: 284\n"
     ]
    },
    {
     "name": "stdout",
     "output_type": "stream",
     "text": [
      "SearchBayesianSkopt: Config 72 is suboptimal. Config: {'alpha': 58.16149023005613, 'beta': 58.16757475285339, 'gamma': 71.27398555931327, 'theta': 88.64211629122245, 'sigma': 27.37365197875727, 'epsilon': 39.991299466856645} - results: PRECISION: 0.0502336, PRECISION_RECALL_MIN_DEN: 0.0855510, RECALL: 0.0805181, MAP: 0.0237650, MAP_MIN_DEN: 0.0398696, MRR: 0.1662308, NDCG: 0.0808553, F1: 0.0618686, HIT_RATE: 0.3465549, ARHR_ALL_HITS: 0.1975928, NOVELTY: 0.0035299, AVERAGE_POPULARITY: 0.2792003, DIVERSITY_MEAN_INTER_LIST: 0.8695057, DIVERSITY_HERFINDAHL: 0.9869484, COVERAGE_ITEM: 0.1594322, COVERAGE_ITEM_HIT: 0.0349685, ITEMS_IN_GT: 0.8701015, COVERAGE_USER: 0.9768671, COVERAGE_USER_HIT: 0.3385380, USERS_IN_GT: 0.9768671, DIVERSITY_GINI: 0.0101495, SHANNON_ENTROPY: 7.8822048, RATIO_DIVERSITY_HERFINDAHL: 0.9872739, RATIO_DIVERSITY_GINI: 0.0227846, RATIO_SHANNON_ENTROPY: 0.5841297, RATIO_AVERAGE_POPULARITY: 5.4801534, RATIO_NOVELTY: 0.2304822, \n",
      "\n",
      "Iteration No: 73 ended. Evaluation done at random point.\n",
      "Time taken: 143.1578\n",
      "Function value obtained: -0.0238\n",
      "Current minimum: -0.0256\n",
      "Iteration No: 74 started. Evaluating function at random point.\n",
      "SearchBayesianSkopt: Testing config: {'alpha': 29.63297381866842, 'beta': 19.551302903322306, 'gamma': 30.02054358630672, 'theta': 0.37238996562983806, 'sigma': 65.41749877893139, 'epsilon': 65.320694464967}\n",
      "DifferentLossScoresHybridRecommender: URM Detected 3461 (12.4%) items with no interactions.\n"
     ]
    },
    {
     "name": "stdout",
     "output_type": "stream",
     "text": [
      "EvaluatorHoldout: Processed 40666 (100.0%) in 2.38 min. Users per second: 285\n"
     ]
    },
    {
     "name": "stdout",
     "output_type": "stream",
     "text": [
      "SearchBayesianSkopt: Config 73 is suboptimal. Config: {'alpha': 29.63297381866842, 'beta': 19.551302903322306, 'gamma': 30.02054358630672, 'theta': 0.37238996562983806, 'sigma': 65.41749877893139, 'epsilon': 65.320694464967} - results: PRECISION: 0.0452860, PRECISION_RECALL_MIN_DEN: 0.0782478, RECALL: 0.0738705, MAP: 0.0207165, MAP_MIN_DEN: 0.0353057, MRR: 0.1501836, NDCG: 0.0728074, F1: 0.0561497, HIT_RATE: 0.3251119, ARHR_ALL_HITS: 0.1755669, NOVELTY: 0.0034392, AVERAGE_POPULARITY: 0.3137812, DIVERSITY_MEAN_INTER_LIST: 0.8206473, DIVERSITY_HERFINDAHL: 0.9820627, COVERAGE_ITEM: 0.1768807, COVERAGE_ITEM_HIT: 0.0267449, ITEMS_IN_GT: 0.8701015, COVERAGE_USER: 0.9768671, COVERAGE_USER_HIT: 0.3175911, USERS_IN_GT: 0.9768671, DIVERSITY_GINI: 0.0080205, SHANNON_ENTROPY: 7.3627797, RATIO_DIVERSITY_HERFINDAHL: 0.9823866, RATIO_DIVERSITY_GINI: 0.0180052, RATIO_SHANNON_ENTROPY: 0.5456364, RATIO_AVERAGE_POPULARITY: 6.1589093, RATIO_NOVELTY: 0.2245591, \n",
      "\n",
      "Iteration No: 74 ended. Evaluation done at random point.\n",
      "Time taken: 142.9239\n",
      "Function value obtained: -0.0207\n",
      "Current minimum: -0.0256\n",
      "Iteration No: 75 started. Evaluating function at random point.\n",
      "SearchBayesianSkopt: Testing config: {'alpha': 58.06944047619347, 'beta': 37.580944775490835, 'gamma': 57.39101558895767, 'theta': 43.65716509942301, 'sigma': 55.459425432567265, 'epsilon': 1.0192553633905923}\n",
      "DifferentLossScoresHybridRecommender: URM Detected 3461 (12.4%) items with no interactions.\n"
     ]
    },
    {
     "name": "stdout",
     "output_type": "stream",
     "text": [
      "EvaluatorHoldout: Processed 40666 (100.0%) in 2.38 min. Users per second: 285\n"
     ]
    },
    {
     "name": "stdout",
     "output_type": "stream",
     "text": [
      "SearchBayesianSkopt: Config 74 is suboptimal. Config: {'alpha': 58.06944047619347, 'beta': 37.580944775490835, 'gamma': 57.39101558895767, 'theta': 43.65716509942301, 'sigma': 55.459425432567265, 'epsilon': 1.0192553633905923} - results: PRECISION: 0.0454753, PRECISION_RECALL_MIN_DEN: 0.0786972, RECALL: 0.0743058, MAP: 0.0207848, MAP_MIN_DEN: 0.0354558, MRR: 0.1506335, NDCG: 0.0731264, F1: 0.0564209, HIT_RATE: 0.3265627, ARHR_ALL_HITS: 0.1761068, NOVELTY: 0.0034320, AVERAGE_POPULARITY: 0.3228341, DIVERSITY_MEAN_INTER_LIST: 0.8036378, DIVERSITY_HERFINDAHL: 0.9803618, COVERAGE_ITEM: 0.1986556, COVERAGE_ITEM_HIT: 0.0290332, ITEMS_IN_GT: 0.8701015, COVERAGE_USER: 0.9768671, COVERAGE_USER_HIT: 0.3190084, USERS_IN_GT: 0.9768671, DIVERSITY_GINI: 0.0089702, SHANNON_ENTROPY: 7.3140404, RATIO_DIVERSITY_HERFINDAHL: 0.9806851, RATIO_DIVERSITY_GINI: 0.0201373, RATIO_SHANNON_ENTROPY: 0.5420245, RATIO_AVERAGE_POPULARITY: 6.3365994, RATIO_NOVELTY: 0.2240857, \n",
      "\n",
      "Iteration No: 75 ended. Evaluation done at random point.\n",
      "Time taken: 143.0685\n",
      "Function value obtained: -0.0208\n",
      "Current minimum: -0.0256\n",
      "Iteration No: 76 started. Evaluating function at random point.\n",
      "SearchBayesianSkopt: Testing config: {'alpha': 33.52839446697044, 'beta': 55.844040225987456, 'gamma': 31.105329720131675, 'theta': 37.24107459882707, 'sigma': 62.27074728789056, 'epsilon': 3.0640342177760913}\n"
     ]
    },
    {
     "name": "stdout",
     "output_type": "stream",
     "text": [
      "DifferentLossScoresHybridRecommender: URM Detected 3461 (12.4%) items with no interactions.\n"
     ]
    },
    {
     "name": "stdout",
     "output_type": "stream",
     "text": [
      "EvaluatorHoldout: Processed 40666 (100.0%) in 2.38 min. Users per second: 285\n"
     ]
    },
    {
     "name": "stdout",
     "output_type": "stream",
     "text": [
      "SearchBayesianSkopt: Config 75 is suboptimal. Config: {'alpha': 33.52839446697044, 'beta': 55.844040225987456, 'gamma': 31.105329720131675, 'theta': 37.24107459882707, 'sigma': 62.27074728789056, 'epsilon': 3.0640342177760913} - results: PRECISION: 0.0448557, PRECISION_RECALL_MIN_DEN: 0.0777148, RECALL: 0.0733984, MAP: 0.0204163, MAP_MIN_DEN: 0.0348533, MRR: 0.1485730, NDCG: 0.0720764, F1: 0.0556824, HIT_RATE: 0.3233905, ARHR_ALL_HITS: 0.1733931, NOVELTY: 0.0034193, AVERAGE_POPULARITY: 0.3270751, DIVERSITY_MEAN_INTER_LIST: 0.7966586, DIVERSITY_HERFINDAHL: 0.9796639, COVERAGE_ITEM: 0.1924342, COVERAGE_ITEM_HIT: 0.0277818, ITEMS_IN_GT: 0.8701015, COVERAGE_USER: 0.9768671, COVERAGE_USER_HIT: 0.3159096, USERS_IN_GT: 0.9768671, DIVERSITY_GINI: 0.0084660, SHANNON_ENTROPY: 7.2375085, RATIO_DIVERSITY_HERFINDAHL: 0.9799870, RATIO_DIVERSITY_GINI: 0.0190053, RATIO_SHANNON_ENTROPY: 0.5363529, RATIO_AVERAGE_POPULARITY: 6.4198422, RATIO_NOVELTY: 0.2232583, \n",
      "\n",
      "Iteration No: 76 ended. Evaluation done at random point.\n",
      "Time taken: 143.0687\n",
      "Function value obtained: -0.0204\n",
      "Current minimum: -0.0256\n",
      "Iteration No: 77 started. Evaluating function at random point.\n",
      "SearchBayesianSkopt: Testing config: {'alpha': 84.08212705609824, 'beta': 19.832754452750162, 'gamma': 10.189229945689119, 'theta': 68.10281277329376, 'sigma': 9.905180667068029, 'epsilon': 83.04365454273209}\n",
      "DifferentLossScoresHybridRecommender: URM Detected 3461 (12.4%) items with no interactions.\n"
     ]
    },
    {
     "name": "stdout",
     "output_type": "stream",
     "text": [
      "EvaluatorHoldout: Processed 40666 (100.0%) in 2.38 min. Users per second: 285\n"
     ]
    },
    {
     "name": "stdout",
     "output_type": "stream",
     "text": [
      "SearchBayesianSkopt: Config 76 is suboptimal. Config: {'alpha': 84.08212705609824, 'beta': 19.832754452750162, 'gamma': 10.189229945689119, 'theta': 68.10281277329376, 'sigma': 9.905180667068029, 'epsilon': 83.04365454273209} - results: PRECISION: 0.0527541, PRECISION_RECALL_MIN_DEN: 0.0886139, RECALL: 0.0830801, MAP: 0.0256087, MAP_MIN_DEN: 0.0420551, MRR: 0.1742193, NDCG: 0.0845877, F1: 0.0645319, HIT_RATE: 0.3535386, ARHR_ALL_HITS: 0.2097666, NOVELTY: 0.0036264, AVERAGE_POPULARITY: 0.2267126, DIVERSITY_MEAN_INTER_LIST: 0.9267078, DIVERSITY_HERFINDAHL: 0.9926685, COVERAGE_ITEM: 0.1098756, COVERAGE_ITEM_HIT: 0.0363987, ITEMS_IN_GT: 0.8701015, COVERAGE_USER: 0.9768671, COVERAGE_USER_HIT: 0.3453602, USERS_IN_GT: 0.9768671, DIVERSITY_GINI: 0.0105648, SHANNON_ENTROPY: 8.3476235, RATIO_DIVERSITY_HERFINDAHL: 0.9929959, RATIO_DIVERSITY_GINI: 0.0237168, RATIO_SHANNON_ENTROPY: 0.6186206, RATIO_AVERAGE_POPULARITY: 4.4499226, RATIO_NOVELTY: 0.2367828, \n",
      "\n",
      "Iteration No: 77 ended. Evaluation done at random point.\n",
      "Time taken: 143.0929\n",
      "Function value obtained: -0.0256\n",
      "Current minimum: -0.0256\n",
      "Iteration No: 78 started. Evaluating function at random point.\n",
      "SearchBayesianSkopt: Testing config: {'alpha': 50.41021008921894, 'beta': 93.23386210855278, 'gamma': 96.12996750180145, 'theta': 70.1717314159367, 'sigma': 41.00793307375034, 'epsilon': 36.04152232008113}\n",
      "DifferentLossScoresHybridRecommender: URM Detected 3461 (12.4%) items with no interactions.\n"
     ]
    },
    {
     "name": "stdout",
     "output_type": "stream",
     "text": [
      "EvaluatorHoldout: Processed 40666 (100.0%) in 2.39 min. Users per second: 283\n"
     ]
    },
    {
     "name": "stdout",
     "output_type": "stream",
     "text": [
      "SearchBayesianSkopt: Config 77 is suboptimal. Config: {'alpha': 50.41021008921894, 'beta': 93.23386210855278, 'gamma': 96.12996750180145, 'theta': 70.1717314159367, 'sigma': 41.00793307375034, 'epsilon': 36.04152232008113} - results: PRECISION: 0.0488295, PRECISION_RECALL_MIN_DEN: 0.0836215, RECALL: 0.0788121, MAP: 0.0228800, MAP_MIN_DEN: 0.0386255, MRR: 0.1619700, NDCG: 0.0786718, F1: 0.0602994, HIT_RATE: 0.3413663, ARHR_ALL_HITS: 0.1914534, NOVELTY: 0.0034957, AVERAGE_POPULARITY: 0.2948737, DIVERSITY_MEAN_INTER_LIST: 0.8480542, DIVERSITY_HERFINDAHL: 0.9848033, COVERAGE_ITEM: 0.1690503, COVERAGE_ITEM_HIT: 0.0332523, ITEMS_IN_GT: 0.8701015, COVERAGE_USER: 0.9768671, COVERAGE_USER_HIT: 0.3334695, USERS_IN_GT: 0.9768671, DIVERSITY_GINI: 0.0096507, SHANNON_ENTROPY: 7.6937383, RATIO_DIVERSITY_HERFINDAHL: 0.9851281, RATIO_DIVERSITY_GINI: 0.0216648, RATIO_SHANNON_ENTROPY: 0.5701629, RATIO_AVERAGE_POPULARITY: 5.7877908, RATIO_NOVELTY: 0.2282441, \n",
      "\n",
      "Iteration No: 78 ended. Evaluation done at random point.\n",
      "Time taken: 143.8209\n",
      "Function value obtained: -0.0229\n",
      "Current minimum: -0.0256\n",
      "Iteration No: 79 started. Evaluating function at random point.\n",
      "SearchBayesianSkopt: Testing config: {'alpha': 64.09670973550897, 'beta': 82.7763175069025, 'gamma': 71.93745744132907, 'theta': 54.864074827807464, 'sigma': 8.10983636781756, 'epsilon': 85.81540408196977}\n"
     ]
    },
    {
     "name": "stdout",
     "output_type": "stream",
     "text": [
      "DifferentLossScoresHybridRecommender: URM Detected 3461 (12.4%) items with no interactions.\n"
     ]
    },
    {
     "name": "stdout",
     "output_type": "stream",
     "text": [
      "EvaluatorHoldout: Processed 40666 (100.0%) in 2.39 min. Users per second: 283\n"
     ]
    },
    {
     "name": "stdout",
     "output_type": "stream",
     "text": [
      "SearchBayesianSkopt: New best config found. Config 78: {'alpha': 64.09670973550897, 'beta': 82.7763175069025, 'gamma': 71.93745744132907, 'theta': 54.864074827807464, 'sigma': 8.10983636781756, 'epsilon': 85.81540408196977} - results: PRECISION: 0.0539689, PRECISION_RECALL_MIN_DEN: 0.0903597, RECALL: 0.0846452, MAP: 0.0264036, MAP_MIN_DEN: 0.0431633, MRR: 0.1780949, NDCG: 0.0865172, F1: 0.0659126, HIT_RATE: 0.3584075, ARHR_ALL_HITS: 0.2153064, NOVELTY: 0.0036604, AVERAGE_POPULARITY: 0.2170824, DIVERSITY_MEAN_INTER_LIST: 0.9338167, DIVERSITY_HERFINDAHL: 0.9933794, COVERAGE_ITEM: 0.1206736, COVERAGE_ITEM_HIT: 0.0403318, ITEMS_IN_GT: 0.8701015, COVERAGE_USER: 0.9768671, COVERAGE_USER_HIT: 0.3501165, USERS_IN_GT: 0.9768671, DIVERSITY_GINI: 0.0118710, SHANNON_ENTROPY: 8.5053536, RATIO_DIVERSITY_HERFINDAHL: 0.9937070, RATIO_DIVERSITY_GINI: 0.0266492, RATIO_SHANNON_ENTROPY: 0.6303096, RATIO_AVERAGE_POPULARITY: 4.2609014, RATIO_NOVELTY: 0.2390016, \n",
      "\n",
      "SearchBayesianSkopt: Saving model in result_experiments/DifferentLossScoresHybridRecommender\n",
      "\n",
      "SearchBayesianSkopt: Config 78 Exception. Config: {'alpha': 64.09670973550897, 'beta': 82.7763175069025, 'gamma': 71.93745744132907, 'theta': 54.864074827807464, 'sigma': 8.10983636781756, 'epsilon': 85.81540408196977} - Exception: Traceback (most recent call last):\n",
      "  File \"/kaggle/working/HyperparameterTuning/SearchAbstractClass.py\", line 534, in _objective_function\n",
      "    recommender_instance.save_model(self.output_folder_path, file_name =self.output_file_name_root + \"_best_model\")\n",
      "  File \"/kaggle/working/Recommenders/BaseRecommender.py\", line 215, in save_model\n",
      "    raise NotImplementedError(\"BaseRecommender: save_model not implemented\")\n",
      "NotImplementedError: BaseRecommender: save_model not implemented\n",
      "\n",
      "\n",
      "Iteration No: 79 ended. Evaluation done at random point.\n",
      "Time taken: 143.7842\n",
      "Function value obtained: 65504.0000\n",
      "Current minimum: -0.0256\n",
      "Iteration No: 80 started. Evaluating function at random point.\n",
      "SearchBayesianSkopt: Testing config: {'alpha': 76.80382959275691, 'beta': 67.24813614523895, 'gamma': 48.64287364036453, 'theta': 39.17347911088201, 'sigma': 69.59794466156481, 'epsilon': 61.22683983316155}\n",
      "DifferentLossScoresHybridRecommender: URM Detected 3461 (12.4%) items with no interactions.\n"
     ]
    },
    {
     "name": "stderr",
     "output_type": "stream",
     "text": [
      "Traceback (most recent call last):\n",
      "  File \"/kaggle/working/HyperparameterTuning/SearchAbstractClass.py\", line 534, in _objective_function\n",
      "    recommender_instance.save_model(self.output_folder_path, file_name =self.output_file_name_root + \"_best_model\")\n",
      "  File \"/kaggle/working/Recommenders/BaseRecommender.py\", line 215, in save_model\n",
      "    raise NotImplementedError(\"BaseRecommender: save_model not implemented\")\n",
      "NotImplementedError: BaseRecommender: save_model not implemented\n"
     ]
    },
    {
     "name": "stdout",
     "output_type": "stream",
     "text": [
      "EvaluatorHoldout: Processed 40666 (100.0%) in 2.39 min. Users per second: 283\n"
     ]
    },
    {
     "name": "stdout",
     "output_type": "stream",
     "text": [
      "SearchBayesianSkopt: Config 79 is suboptimal. Config: {'alpha': 76.80382959275691, 'beta': 67.24813614523895, 'gamma': 48.64287364036453, 'theta': 39.17347911088201, 'sigma': 69.59794466156481, 'epsilon': 61.22683983316155} - results: PRECISION: 0.0467540, PRECISION_RECALL_MIN_DEN: 0.0806301, RECALL: 0.0760965, MAP: 0.0215790, MAP_MIN_DEN: 0.0366504, MRR: 0.1549823, NDCG: 0.0752434, F1: 0.0579211, HIT_RATE: 0.3322432, ARHR_ALL_HITS: 0.1819717, NOVELTY: 0.0034564, AVERAGE_POPULARITY: 0.3084220, DIVERSITY_MEAN_INTER_LIST: 0.8286681, DIVERSITY_HERFINDAHL: 0.9828648, COVERAGE_ITEM: 0.1683710, COVERAGE_ITEM_HIT: 0.0295338, ITEMS_IN_GT: 0.8701015, COVERAGE_USER: 0.9768671, COVERAGE_USER_HIT: 0.3245574, USERS_IN_GT: 0.9768671, DIVERSITY_GINI: 0.0084781, SHANNON_ENTROPY: 7.4700099, RATIO_DIVERSITY_HERFINDAHL: 0.9831889, RATIO_DIVERSITY_GINI: 0.0190324, RATIO_SHANNON_ENTROPY: 0.5535830, RATIO_AVERAGE_POPULARITY: 6.0537171, RATIO_NOVELTY: 0.2256828, \n",
      "\n",
      "Iteration No: 80 ended. Evaluation done at random point.\n",
      "Time taken: 143.6862\n",
      "Function value obtained: -0.0216\n",
      "Current minimum: -0.0256\n",
      "Iteration No: 81 started. Evaluating function at random point.\n",
      "SearchBayesianSkopt: Testing config: {'alpha': 72.66344207096557, 'beta': 13.510967052629, 'gamma': 39.935013090730784, 'theta': 47.95058272646544, 'sigma': 48.12977480180558, 'epsilon': 46.508353556222026}\n"
     ]
    },
    {
     "name": "stdout",
     "output_type": "stream",
     "text": [
      "DifferentLossScoresHybridRecommender: URM Detected 3461 (12.4%) items with no interactions.\n"
     ]
    },
    {
     "name": "stdout",
     "output_type": "stream",
     "text": [
      "EvaluatorHoldout: Processed 40666 (100.0%) in 2.40 min. Users per second: 282\n"
     ]
    },
    {
     "name": "stdout",
     "output_type": "stream",
     "text": [
      "SearchBayesianSkopt: Config 80 is suboptimal. Config: {'alpha': 72.66344207096557, 'beta': 13.510967052629, 'gamma': 39.935013090730784, 'theta': 47.95058272646544, 'sigma': 48.12977480180558, 'epsilon': 46.508353556222026} - results: PRECISION: 0.0470393, PRECISION_RECALL_MIN_DEN: 0.0810301, RECALL: 0.0764640, MAP: 0.0217473, MAP_MIN_DEN: 0.0369109, MRR: 0.1559028, NDCG: 0.0756943, F1: 0.0582464, HIT_RATE: 0.3336694, ARHR_ALL_HITS: 0.1832002, NOVELTY: 0.0034646, AVERAGE_POPULARITY: 0.3048289, DIVERSITY_MEAN_INTER_LIST: 0.8342124, DIVERSITY_HERFINDAHL: 0.9834192, COVERAGE_ITEM: 0.1736270, COVERAGE_ITEM_HIT: 0.0298555, ITEMS_IN_GT: 0.8701015, COVERAGE_USER: 0.9768671, COVERAGE_USER_HIT: 0.3259507, USERS_IN_GT: 0.9768671, DIVERSITY_GINI: 0.0087251, SHANNON_ENTROPY: 7.5172996, RATIO_DIVERSITY_HERFINDAHL: 0.9837435, RATIO_DIVERSITY_GINI: 0.0195870, RATIO_SHANNON_ENTROPY: 0.5570875, RATIO_AVERAGE_POPULARITY: 5.9831925, RATIO_NOVELTY: 0.2262184, \n",
      "\n",
      "Iteration No: 81 ended. Evaluation done at random point.\n",
      "Time taken: 144.1838\n",
      "Function value obtained: -0.0217\n",
      "Current minimum: -0.0256\n",
      "Iteration No: 82 started. Evaluating function at random point.\n",
      "SearchBayesianSkopt: Testing config: {'alpha': 14.427458767480065, 'beta': 84.2425572870738, 'gamma': 32.61347386059889, 'theta': 7.765237514900438, 'sigma': 33.80996668707759, 'epsilon': 84.10768428225353}\n",
      "DifferentLossScoresHybridRecommender: URM Detected 3461 (12.4%) items with no interactions.\n"
     ]
    },
    {
     "name": "stdout",
     "output_type": "stream",
     "text": [
      "EvaluatorHoldout: Processed 40666 (100.0%) in 2.38 min. Users per second: 285\n"
     ]
    },
    {
     "name": "stdout",
     "output_type": "stream",
     "text": [
      "SearchBayesianSkopt: Config 81 is suboptimal. Config: {'alpha': 14.427458767480065, 'beta': 84.2425572870738, 'gamma': 32.61347386059889, 'theta': 7.765237514900438, 'sigma': 33.80996668707759, 'epsilon': 84.10768428225353} - results: PRECISION: 0.0485418, PRECISION_RECALL_MIN_DEN: 0.0830258, RECALL: 0.0782206, MAP: 0.0227650, MAP_MIN_DEN: 0.0383069, MRR: 0.1611072, NDCG: 0.0781342, F1: 0.0599068, HIT_RATE: 0.3396941, ARHR_ALL_HITS: 0.1904580, NOVELTY: 0.0035006, AVERAGE_POPULARITY: 0.2840382, DIVERSITY_MEAN_INTER_LIST: 0.8653576, DIVERSITY_HERFINDAHL: 0.9865336, COVERAGE_ITEM: 0.1317220, COVERAGE_ITEM_HIT: 0.0304276, ITEMS_IN_GT: 0.8701015, COVERAGE_USER: 0.9768671, COVERAGE_USER_HIT: 0.3318360, USERS_IN_GT: 0.9768671, DIVERSITY_GINI: 0.0082930, SHANNON_ENTROPY: 7.7213238, RATIO_DIVERSITY_HERFINDAHL: 0.9868590, RATIO_DIVERSITY_GINI: 0.0186169, RATIO_SHANNON_ENTROPY: 0.5722072, RATIO_AVERAGE_POPULARITY: 5.5751110, RATIO_NOVELTY: 0.2285650, \n",
      "\n",
      "Iteration No: 82 ended. Evaluation done at random point.\n",
      "Time taken: 142.9287\n",
      "Function value obtained: -0.0228\n",
      "Current minimum: -0.0256\n",
      "Iteration No: 83 started. Evaluating function at random point.\n",
      "SearchBayesianSkopt: Testing config: {'alpha': 61.52601056995479, 'beta': 53.22049337963012, 'gamma': 30.733015215444244, 'theta': 26.051255067126096, 'sigma': 98.42996150754736, 'epsilon': 73.20387887043903}\n",
      "DifferentLossScoresHybridRecommender: URM Detected 3461 (12.4%) items with no interactions.\n"
     ]
    },
    {
     "name": "stdout",
     "output_type": "stream",
     "text": [
      "EvaluatorHoldout: Processed 40666 (100.0%) in 2.38 min. Users per second: 285\n"
     ]
    },
    {
     "name": "stdout",
     "output_type": "stream",
     "text": [
      "SearchBayesianSkopt: Config 82 is suboptimal. Config: {'alpha': 61.52601056995479, 'beta': 53.22049337963012, 'gamma': 30.733015215444244, 'theta': 26.051255067126096, 'sigma': 98.42996150754736, 'epsilon': 73.20387887043903} - results: PRECISION: 0.0453352, PRECISION_RECALL_MIN_DEN: 0.0783806, RECALL: 0.0740016, MAP: 0.0207674, MAP_MIN_DEN: 0.0354022, MRR: 0.1505483, NDCG: 0.0729689, F1: 0.0562253, HIT_RATE: 0.3255299, ARHR_ALL_HITS: 0.1760022, NOVELTY: 0.0034355, AVERAGE_POPULARITY: 0.3166523, DIVERSITY_MEAN_INTER_LIST: 0.8156324, DIVERSITY_HERFINDAHL: 0.9815612, COVERAGE_ITEM: 0.1759153, COVERAGE_ITEM_HIT: 0.0272097, ITEMS_IN_GT: 0.8701015, COVERAGE_USER: 0.9768671, COVERAGE_USER_HIT: 0.3179995, USERS_IN_GT: 0.9768671, DIVERSITY_GINI: 0.0080852, SHANNON_ENTROPY: 7.3420444, RATIO_DIVERSITY_HERFINDAHL: 0.9818850, RATIO_DIVERSITY_GINI: 0.0181504, RATIO_SHANNON_ENTROPY: 0.5440998, RATIO_AVERAGE_POPULARITY: 6.2152615, RATIO_NOVELTY: 0.2243144, \n",
      "\n",
      "Iteration No: 83 ended. Evaluation done at random point.\n",
      "Time taken: 143.0305\n",
      "Function value obtained: -0.0208\n",
      "Current minimum: -0.0256\n",
      "Iteration No: 84 started. Evaluating function at random point.\n",
      "SearchBayesianSkopt: Testing config: {'alpha': 18.146321381315005, 'beta': 8.991476509791365, 'gamma': 84.48113576219463, 'theta': 78.88399162014879, 'sigma': 34.11475757865156, 'epsilon': 47.71936293014991}\n",
      "DifferentLossScoresHybridRecommender: URM Detected 3461 (12.4%) items with no interactions.\n"
     ]
    },
    {
     "name": "stdout",
     "output_type": "stream",
     "text": [
      "EvaluatorHoldout: Processed 40666 (100.0%) in 2.38 min. Users per second: 284\n"
     ]
    },
    {
     "name": "stdout",
     "output_type": "stream",
     "text": [
      "SearchBayesianSkopt: Config 83 is suboptimal. Config: {'alpha': 18.146321381315005, 'beta': 8.991476509791365, 'gamma': 84.48113576219463, 'theta': 78.88399162014879, 'sigma': 34.11475757865156, 'epsilon': 47.71936293014991} - results: PRECISION: 0.0481532, PRECISION_RECALL_MIN_DEN: 0.0823668, RECALL: 0.0776157, MAP: 0.0224599, MAP_MIN_DEN: 0.0379092, MRR: 0.1592791, NDCG: 0.0773917, F1: 0.0594336, HIT_RATE: 0.3374318, ARHR_ALL_HITS: 0.1881172, NOVELTY: 0.0034974, AVERAGE_POPULARITY: 0.2904193, DIVERSITY_MEAN_INTER_LIST: 0.8552858, DIVERSITY_HERFINDAHL: 0.9855265, COVERAGE_ITEM: 0.1859268, COVERAGE_ITEM_HIT: 0.0307852, ITEMS_IN_GT: 0.8701015, COVERAGE_USER: 0.9768671, COVERAGE_USER_HIT: 0.3296260, USERS_IN_GT: 0.9768671, DIVERSITY_GINI: 0.0095220, SHANNON_ENTROPY: 7.6978879, RATIO_DIVERSITY_HERFINDAHL: 0.9858515, RATIO_DIVERSITY_GINI: 0.0213760, RATIO_SHANNON_ENTROPY: 0.5704704, RATIO_AVERAGE_POPULARITY: 5.7003593, RATIO_NOVELTY: 0.2283593, \n",
      "\n",
      "Iteration No: 84 ended. Evaluation done at random point.\n",
      "Time taken: 143.2422\n",
      "Function value obtained: -0.0225\n",
      "Current minimum: -0.0256\n",
      "Iteration No: 85 started. Evaluating function at random point.\n",
      "SearchBayesianSkopt: Testing config: {'alpha': 43.907769640261506, 'beta': 61.00128181662377, 'gamma': 30.529829502563917, 'theta': 56.30623110348165, 'sigma': 13.775701373893748, 'epsilon': 43.320010878142845}\n",
      "DifferentLossScoresHybridRecommender: URM Detected 3461 (12.4%) items with no interactions.\n"
     ]
    },
    {
     "name": "stdout",
     "output_type": "stream",
     "text": [
      "EvaluatorHoldout: Processed 40666 (100.0%) in 2.39 min. Users per second: 284\n"
     ]
    },
    {
     "name": "stdout",
     "output_type": "stream",
     "text": [
      "SearchBayesianSkopt: Config 84 is suboptimal. Config: {'alpha': 43.907769640261506, 'beta': 61.00128181662377, 'gamma': 30.529829502563917, 'theta': 56.30623110348165, 'sigma': 13.775701373893748, 'epsilon': 43.320010878142845} - results: PRECISION: 0.0519771, PRECISION_RECALL_MIN_DEN: 0.0882571, RECALL: 0.0829698, MAP: 0.0249195, MAP_MIN_DEN: 0.0414930, MRR: 0.1717817, NDCG: 0.0836786, F1: 0.0639145, HIT_RATE: 0.3531943, ARHR_ALL_HITS: 0.2055824, NOVELTY: 0.0035721, AVERAGE_POPULARITY: 0.2583469, DIVERSITY_MEAN_INTER_LIST: 0.8950603, DIVERSITY_HERFINDAHL: 0.9895038, COVERAGE_ITEM: 0.1320438, COVERAGE_ITEM_HIT: 0.0370423, ITEMS_IN_GT: 0.8701015, COVERAGE_USER: 0.9768671, COVERAGE_USER_HIT: 0.3450239, USERS_IN_GT: 0.9768671, DIVERSITY_GINI: 0.0104388, SHANNON_ENTROPY: 8.1020840, RATIO_DIVERSITY_HERFINDAHL: 0.9898302, RATIO_DIVERSITY_GINI: 0.0234340, RATIO_SHANNON_ENTROPY: 0.6004243, RATIO_AVERAGE_POPULARITY: 5.0708428, RATIO_NOVELTY: 0.2332377, \n",
      "\n",
      "Iteration No: 85 ended. Evaluation done at random point.\n",
      "Time taken: 143.3528\n",
      "Function value obtained: -0.0249\n",
      "Current minimum: -0.0256\n",
      "Iteration No: 86 started. Evaluating function at random point.\n",
      "SearchBayesianSkopt: Testing config: {'alpha': 45.622240400352965, 'beta': 81.41599468493365, 'gamma': 22.05849361969305, 'theta': 58.905625681845095, 'sigma': 90.82608873666622, 'epsilon': 9.386461654118763}\n",
      "DifferentLossScoresHybridRecommender: URM Detected 3461 (12.4%) items with no interactions.\n"
     ]
    },
    {
     "name": "stdout",
     "output_type": "stream",
     "text": [
      "EvaluatorHoldout: Processed 40666 (100.0%) in 2.39 min. Users per second: 284\n"
     ]
    },
    {
     "name": "stdout",
     "output_type": "stream",
     "text": [
      "SearchBayesianSkopt: Config 85 is suboptimal. Config: {'alpha': 45.622240400352965, 'beta': 81.41599468493365, 'gamma': 22.05849361969305, 'theta': 58.905625681845095, 'sigma': 90.82608873666622, 'epsilon': 9.386461654118763} - results: PRECISION: 0.0447966, PRECISION_RECALL_MIN_DEN: 0.0776292, RECALL: 0.0733354, MAP: 0.0203999, MAP_MIN_DEN: 0.0348687, MRR: 0.1486006, NDCG: 0.0720543, F1: 0.0556188, HIT_RATE: 0.3231201, ARHR_ALL_HITS: 0.1733449, NOVELTY: 0.0034182, AVERAGE_POPULARITY: 0.3269415, DIVERSITY_MEAN_INTER_LIST: 0.7971095, DIVERSITY_HERFINDAHL: 0.9797090, COVERAGE_ITEM: 0.1874642, COVERAGE_ITEM_HIT: 0.0273884, ITEMS_IN_GT: 0.8701015, COVERAGE_USER: 0.9768671, COVERAGE_USER_HIT: 0.3156453, USERS_IN_GT: 0.9768671, DIVERSITY_GINI: 0.0082947, SHANNON_ENTROPY: 7.2330971, RATIO_DIVERSITY_HERFINDAHL: 0.9800321, RATIO_DIVERSITY_GINI: 0.0186207, RATIO_SHANNON_ENTROPY: 0.5360260, RATIO_AVERAGE_POPULARITY: 6.4172191, RATIO_NOVELTY: 0.2231894, \n",
      "\n",
      "Iteration No: 86 ended. Evaluation done at random point.\n",
      "Time taken: 143.3258\n",
      "Function value obtained: -0.0204\n",
      "Current minimum: -0.0256\n",
      "Iteration No: 87 started. Evaluating function at random point.\n",
      "SearchBayesianSkopt: Testing config: {'alpha': 51.45903244693846, 'beta': 51.882890659361315, 'gamma': 53.7385449995819, 'theta': 12.988740734525797, 'sigma': 15.607095554224607, 'epsilon': 40.006126610330504}\n",
      "DifferentLossScoresHybridRecommender: URM Detected 3461 (12.4%) items with no interactions.\n"
     ]
    },
    {
     "name": "stdout",
     "output_type": "stream",
     "text": [
      "EvaluatorHoldout: Processed 40666 (100.0%) in 2.39 min. Users per second: 283\n"
     ]
    },
    {
     "name": "stdout",
     "output_type": "stream",
     "text": [
      "SearchBayesianSkopt: Config 86 is suboptimal. Config: {'alpha': 51.45903244693846, 'beta': 51.882890659361315, 'gamma': 53.7385449995819, 'theta': 12.988740734525797, 'sigma': 15.607095554224607, 'epsilon': 40.006126610330504} - results: PRECISION: 0.0509172, PRECISION_RECALL_MIN_DEN: 0.0866256, RECALL: 0.0815028, MAP: 0.0242808, MAP_MIN_DEN: 0.0406013, MRR: 0.1689583, NDCG: 0.0821025, F1: 0.0626778, HIT_RATE: 0.3493336, ARHR_ALL_HITS: 0.2013300, NOVELTY: 0.0035492, AVERAGE_POPULARITY: 0.2690069, DIVERSITY_MEAN_INTER_LIST: 0.8827296, DIVERSITY_HERFINDAHL: 0.9882708, COVERAGE_ITEM: 0.1453089, COVERAGE_ITEM_HIT: 0.0357909, ITEMS_IN_GT: 0.8701015, COVERAGE_USER: 0.9768671, COVERAGE_USER_HIT: 0.3412525, USERS_IN_GT: 0.9768671, DIVERSITY_GINI: 0.0101476, SHANNON_ENTROPY: 7.9837772, RATIO_DIVERSITY_HERFINDAHL: 0.9885967, RATIO_DIVERSITY_GINI: 0.0227802, RATIO_SHANNON_ENTROPY: 0.5916569, RATIO_AVERAGE_POPULARITY: 5.2800771, RATIO_NOVELTY: 0.2317406, \n",
      "\n",
      "Iteration No: 87 ended. Evaluation done at random point.\n",
      "Time taken: 143.8930\n",
      "Function value obtained: -0.0243\n",
      "Current minimum: -0.0256\n",
      "Iteration No: 88 started. Evaluating function at random point.\n",
      "SearchBayesianSkopt: Testing config: {'alpha': 50.63519088234768, 'beta': 38.34162382547092, 'gamma': 38.664150258883225, 'theta': 38.81033761488843, 'sigma': 11.245912757545664, 'epsilon': 19.326479471878116}\n",
      "DifferentLossScoresHybridRecommender: URM Detected 3461 (12.4%) items with no interactions.\n"
     ]
    },
    {
     "name": "stdout",
     "output_type": "stream",
     "text": [
      "EvaluatorHoldout: Processed 40666 (100.0%) in 2.40 min. Users per second: 283\n"
     ]
    },
    {
     "name": "stdout",
     "output_type": "stream",
     "text": [
      "SearchBayesianSkopt: Config 87 is suboptimal. Config: {'alpha': 50.63519088234768, 'beta': 38.34162382547092, 'gamma': 38.664150258883225, 'theta': 38.81033761488843, 'sigma': 11.245912757545664, 'epsilon': 19.326479471878116} - results: PRECISION: 0.0517164, PRECISION_RECALL_MIN_DEN: 0.0878377, RECALL: 0.0826110, MAP: 0.0247190, MAP_MIN_DEN: 0.0412867, MRR: 0.1710819, NDCG: 0.0832965, F1: 0.0636109, HIT_RATE: 0.3524320, ARHR_ALL_HITS: 0.2043482, NOVELTY: 0.0035625, AVERAGE_POPULARITY: 0.2679504, DIVERSITY_MEAN_INTER_LIST: 0.8827453, DIVERSITY_HERFINDAHL: 0.9882724, COVERAGE_ITEM: 0.1508510, COVERAGE_ITEM_HIT: 0.0381150, ITEMS_IN_GT: 0.8701015, COVERAGE_USER: 0.9768671, COVERAGE_USER_HIT: 0.3442792, USERS_IN_GT: 0.9768671, DIVERSITY_GINI: 0.0110668, SHANNON_ENTROPY: 8.0533545, RATIO_DIVERSITY_HERFINDAHL: 0.9885983, RATIO_DIVERSITY_GINI: 0.0248439, RATIO_SHANNON_ENTROPY: 0.5968131, RATIO_AVERAGE_POPULARITY: 5.2593390, RATIO_NOVELTY: 0.2326068, \n",
      "\n",
      "Iteration No: 88 ended. Evaluation done at random point.\n",
      "Time taken: 143.9733\n",
      "Function value obtained: -0.0247\n",
      "Current minimum: -0.0256\n",
      "Iteration No: 89 started. Evaluating function at random point.\n",
      "SearchBayesianSkopt: Testing config: {'alpha': 92.16617121854472, 'beta': 29.25865181702139, 'gamma': 75.83186854274096, 'theta': 43.27251078419808, 'sigma': 67.41067809070591, 'epsilon': 42.34601029744006}\n",
      "DifferentLossScoresHybridRecommender: URM Detected 3461 (12.4%) items with no interactions.\n"
     ]
    },
    {
     "name": "stdout",
     "output_type": "stream",
     "text": [
      "EvaluatorHoldout: Processed 40666 (100.0%) in 2.40 min. Users per second: 282\n"
     ]
    },
    {
     "name": "stdout",
     "output_type": "stream",
     "text": [
      "SearchBayesianSkopt: Config 88 is suboptimal. Config: {'alpha': 92.16617121854472, 'beta': 29.25865181702139, 'gamma': 75.83186854274096, 'theta': 43.27251078419808, 'sigma': 67.41067809070591, 'epsilon': 42.34601029744006} - results: PRECISION: 0.0464663, PRECISION_RECALL_MIN_DEN: 0.0802090, RECALL: 0.0757119, MAP: 0.0213959, MAP_MIN_DEN: 0.0364268, MRR: 0.1539278, NDCG: 0.0747940, F1: 0.0575889, HIT_RATE: 0.3308169, ARHR_ALL_HITS: 0.1806067, NOVELTY: 0.0034532, AVERAGE_POPULARITY: 0.3113149, DIVERSITY_MEAN_INTER_LIST: 0.8235593, DIVERSITY_HERFINDAHL: 0.9823539, COVERAGE_ITEM: 0.1848184, COVERAGE_ITEM_HIT: 0.0297483, ITEMS_IN_GT: 0.8701015, COVERAGE_USER: 0.9768671, COVERAGE_USER_HIT: 0.3231641, USERS_IN_GT: 0.9768671, DIVERSITY_GINI: 0.0088557, SHANNON_ENTROPY: 7.4471973, RATIO_DIVERSITY_HERFINDAHL: 0.9826779, RATIO_DIVERSITY_GINI: 0.0198802, RATIO_SHANNON_ENTROPY: 0.5518924, RATIO_AVERAGE_POPULARITY: 6.1104989, RATIO_NOVELTY: 0.2254717, \n",
      "\n",
      "Iteration No: 89 ended. Evaluation done at random point.\n",
      "Time taken: 144.3503\n",
      "Function value obtained: -0.0214\n",
      "Current minimum: -0.0256\n",
      "Iteration No: 90 started. Evaluating function at random point.\n",
      "SearchBayesianSkopt: Testing config: {'alpha': 13.314588348991055, 'beta': 12.54187810981179, 'gamma': 85.31577571855709, 'theta': 39.48411858984508, 'sigma': 4.3799841414197465, 'epsilon': 37.835187615439125}\n"
     ]
    },
    {
     "name": "stdout",
     "output_type": "stream",
     "text": [
      "DifferentLossScoresHybridRecommender: URM Detected 3461 (12.4%) items with no interactions.\n"
     ]
    },
    {
     "name": "stdout",
     "output_type": "stream",
     "text": [
      "EvaluatorHoldout: Processed 40666 (100.0%) in 2.42 min. Users per second: 280\n"
     ]
    },
    {
     "name": "stdout",
     "output_type": "stream",
     "text": [
      "SearchBayesianSkopt: Config 89 is suboptimal. Config: {'alpha': 13.314588348991055, 'beta': 12.54187810981179, 'gamma': 85.31577571855709, 'theta': 39.48411858984508, 'sigma': 4.3799841414197465, 'epsilon': 37.835187615439125} - results: PRECISION: 0.0535681, PRECISION_RECALL_MIN_DEN: 0.0897172, RECALL: 0.0840076, MAP: 0.0261773, MAP_MIN_DEN: 0.0428278, MRR: 0.1768710, NDCG: 0.0858832, F1: 0.0654204, HIT_RATE: 0.3566124, ARHR_ALL_HITS: 0.2136290, NOVELTY: 0.0036690, AVERAGE_POPULARITY: 0.2152942, DIVERSITY_MEAN_INTER_LIST: 0.9345361, DIVERSITY_HERFINDAHL: 0.9934513, COVERAGE_ITEM: 0.1622569, COVERAGE_ITEM_HIT: 0.0397955, ITEMS_IN_GT: 0.8701015, COVERAGE_USER: 0.9768671, COVERAGE_USER_HIT: 0.3483629, USERS_IN_GT: 0.9768671, DIVERSITY_GINI: 0.0125873, SHANNON_ENTROPY: 8.5315931, RATIO_DIVERSITY_HERFINDAHL: 0.9937790, RATIO_DIVERSITY_GINI: 0.0282572, RATIO_SHANNON_ENTROPY: 0.6322541, RATIO_AVERAGE_POPULARITY: 4.2258030, RATIO_NOVELTY: 0.2395589, \n",
      "\n",
      "Iteration No: 90 ended. Evaluation done at random point.\n",
      "Time taken: 145.2666\n",
      "Function value obtained: -0.0262\n",
      "Current minimum: -0.0262\n",
      "Iteration No: 91 started. Evaluating function at random point.\n",
      "SearchBayesianSkopt: Testing config: {'alpha': 47.351182834585224, 'beta': 14.730401602272783, 'gamma': 56.6415802560055, 'theta': 11.328795613096313, 'sigma': 16.090298218115766, 'epsilon': 90.87481570982952}\n",
      "DifferentLossScoresHybridRecommender: URM Detected 3461 (12.4%) items with no interactions.\n"
     ]
    },
    {
     "name": "stdout",
     "output_type": "stream",
     "text": [
      "EvaluatorHoldout: Processed 40666 (100.0%) in 2.38 min. Users per second: 285\n"
     ]
    },
    {
     "name": "stdout",
     "output_type": "stream",
     "text": [
      "SearchBayesianSkopt: Config 90 is suboptimal. Config: {'alpha': 47.351182834585224, 'beta': 14.730401602272783, 'gamma': 56.6415802560055, 'theta': 11.328795613096313, 'sigma': 16.090298218115766, 'epsilon': 90.87481570982952} - results: PRECISION: 0.0506443, PRECISION_RECALL_MIN_DEN: 0.0857206, RECALL: 0.0805160, MAP: 0.0241956, MAP_MIN_DEN: 0.0400482, MRR: 0.1671792, NDCG: 0.0811805, F1: 0.0621785, HIT_RATE: 0.3462352, ARHR_ALL_HITS: 0.1998198, NOVELTY: 0.0035759, AVERAGE_POPULARITY: 0.2464854, DIVERSITY_MEAN_INTER_LIST: 0.9090478, DIVERSITY_HERFINDAHL: 0.9909025, COVERAGE_ITEM: 0.1185283, COVERAGE_ITEM_HIT: 0.0326445, ITEMS_IN_GT: 0.8701015, COVERAGE_USER: 0.9768671, COVERAGE_USER_HIT: 0.3382258, USERS_IN_GT: 0.9768671, DIVERSITY_GINI: 0.0092492, SHANNON_ENTROPY: 8.0972228, RATIO_DIVERSITY_HERFINDAHL: 0.9912293, RATIO_DIVERSITY_GINI: 0.0207635, RATIO_SHANNON_ENTROPY: 0.6000641, RATIO_AVERAGE_POPULARITY: 4.8380245, RATIO_NOVELTY: 0.2334816, \n",
      "\n",
      "Iteration No: 91 ended. Evaluation done at random point.\n",
      "Time taken: 142.8234\n",
      "Function value obtained: -0.0242\n",
      "Current minimum: -0.0262\n",
      "Iteration No: 92 started. Evaluating function at random point.\n",
      "SearchBayesianSkopt: Testing config: {'alpha': 37.289519582477645, 'beta': 5.853731321363255, 'gamma': 98.49570632992851, 'theta': 41.92778233466813, 'sigma': 70.51879291071873, 'epsilon': 96.67924800722817}\n"
     ]
    },
    {
     "name": "stdout",
     "output_type": "stream",
     "text": [
      "DifferentLossScoresHybridRecommender: URM Detected 3461 (12.4%) items with no interactions.\n"
     ]
    },
    {
     "name": "stdout",
     "output_type": "stream",
     "text": [
      "EvaluatorHoldout: Processed 40666 (100.0%) in 2.38 min. Users per second: 285\n"
     ]
    },
    {
     "name": "stdout",
     "output_type": "stream",
     "text": [
      "SearchBayesianSkopt: Config 91 is suboptimal. Config: {'alpha': 37.289519582477645, 'beta': 5.853731321363255, 'gamma': 98.49570632992851, 'theta': 41.92778233466813, 'sigma': 70.51879291071873, 'epsilon': 96.67924800722817} - results: PRECISION: 0.0464983, PRECISION_RECALL_MIN_DEN: 0.0800640, RECALL: 0.0755323, MAP: 0.0214892, MAP_MIN_DEN: 0.0364830, MRR: 0.1542519, NDCG: 0.0748432, F1: 0.0575614, HIT_RATE: 0.3306202, ARHR_ALL_HITS: 0.1811666, NOVELTY: 0.0034678, AVERAGE_POPULARITY: 0.3013602, DIVERSITY_MEAN_INTER_LIST: 0.8400244, DIVERSITY_HERFINDAHL: 0.9840004, COVERAGE_ITEM: 0.1807423, COVERAGE_ITEM_HIT: 0.0283538, ITEMS_IN_GT: 0.8701015, COVERAGE_USER: 0.9768671, COVERAGE_USER_HIT: 0.3229720, USERS_IN_GT: 0.9768671, DIVERSITY_GINI: 0.0086208, SHANNON_ENTROPY: 7.5291022, RATIO_DIVERSITY_HERFINDAHL: 0.9843249, RATIO_DIVERSITY_GINI: 0.0193528, RATIO_SHANNON_ENTROPY: 0.5579621, RATIO_AVERAGE_POPULARITY: 5.9151086, RATIO_NOVELTY: 0.2264225, \n",
      "\n",
      "Iteration No: 92 ended. Evaluation done at random point.\n",
      "Time taken: 142.8485\n",
      "Function value obtained: -0.0215\n",
      "Current minimum: -0.0262\n",
      "Iteration No: 93 started. Evaluating function at random point.\n",
      "SearchBayesianSkopt: Testing config: {'alpha': 24.978271168209513, 'beta': 40.59893956273002, 'gamma': 31.39568678688048, 'theta': 27.67270634943874, 'sigma': 77.32356636899561, 'epsilon': 76.21241970398533}\n",
      "DifferentLossScoresHybridRecommender: URM Detected 3461 (12.4%) items with no interactions.\n"
     ]
    },
    {
     "name": "stdout",
     "output_type": "stream",
     "text": [
      "EvaluatorHoldout: Processed 40666 (100.0%) in 2.39 min. Users per second: 284\n"
     ]
    },
    {
     "name": "stdout",
     "output_type": "stream",
     "text": [
      "SearchBayesianSkopt: Config 92 is suboptimal. Config: {'alpha': 24.978271168209513, 'beta': 40.59893956273002, 'gamma': 31.39568678688048, 'theta': 27.67270634943874, 'sigma': 77.32356636899561, 'epsilon': 76.21241970398533} - results: PRECISION: 0.0455885, PRECISION_RECALL_MIN_DEN: 0.0787820, RECALL: 0.0743879, MAP: 0.0208918, MAP_MIN_DEN: 0.0355835, MRR: 0.1511310, NDCG: 0.0733166, F1: 0.0565316, HIT_RATE: 0.3264890, ARHR_ALL_HITS: 0.1768618, NOVELTY: 0.0034427, AVERAGE_POPULARITY: 0.3124772, DIVERSITY_MEAN_INTER_LIST: 0.8227565, DIVERSITY_HERFINDAHL: 0.9822736, COVERAGE_ITEM: 0.1749142, COVERAGE_ITEM_HIT: 0.0271024, ITEMS_IN_GT: 0.8701015, COVERAGE_USER: 0.9768671, COVERAGE_USER_HIT: 0.3189363, USERS_IN_GT: 0.9768671, DIVERSITY_GINI: 0.0080805, SHANNON_ENTROPY: 7.3851097, RATIO_DIVERSITY_HERFINDAHL: 0.9825976, RATIO_DIVERSITY_GINI: 0.0181398, RATIO_SHANNON_ENTROPY: 0.5472912, RATIO_AVERAGE_POPULARITY: 6.1333135, RATIO_NOVELTY: 0.2247848, \n",
      "\n",
      "Iteration No: 93 ended. Evaluation done at random point.\n",
      "Time taken: 143.5112\n",
      "Function value obtained: -0.0209\n",
      "Current minimum: -0.0262\n",
      "Iteration No: 94 started. Evaluating function at random point.\n",
      "SearchBayesianSkopt: Testing config: {'alpha': 72.69004696252223, 'beta': 37.7391587618225, 'gamma': 5.888770453373972, 'theta': 84.34716364639581, 'sigma': 79.7824080118931, 'epsilon': 56.23578367688585}\n",
      "DifferentLossScoresHybridRecommender: URM Detected 3461 (12.4%) items with no interactions.\n"
     ]
    },
    {
     "name": "stdout",
     "output_type": "stream",
     "text": [
      "EvaluatorHoldout: Processed 40666 (100.0%) in 2.39 min. Users per second: 284\n"
     ]
    },
    {
     "name": "stdout",
     "output_type": "stream",
     "text": [
      "SearchBayesianSkopt: Config 93 is suboptimal. Config: {'alpha': 72.69004696252223, 'beta': 37.7391587618225, 'gamma': 5.888770453373972, 'theta': 84.34716364639581, 'sigma': 79.7824080118931, 'epsilon': 56.23578367688585} - results: PRECISION: 0.0459426, PRECISION_RECALL_MIN_DEN: 0.0793384, RECALL: 0.0748987, MAP: 0.0211155, MAP_MIN_DEN: 0.0359274, MRR: 0.1524288, NDCG: 0.0739425, F1: 0.0569514, HIT_RATE: 0.3282841, ARHR_ALL_HITS: 0.1785787, NOVELTY: 0.0034438, AVERAGE_POPULARITY: 0.3135099, DIVERSITY_MEAN_INTER_LIST: 0.8206574, DIVERSITY_HERFINDAHL: 0.9820637, COVERAGE_ITEM: 0.1729477, COVERAGE_ITEM_HIT: 0.0284253, ITEMS_IN_GT: 0.8701015, COVERAGE_USER: 0.9768671, COVERAGE_USER_HIT: 0.3206899, USERS_IN_GT: 0.9768671, DIVERSITY_GINI: 0.0082750, SHANNON_ENTROPY: 7.3950603, RATIO_DIVERSITY_HERFINDAHL: 0.9823876, RATIO_DIVERSITY_GINI: 0.0185766, RATIO_SHANNON_ENTROPY: 0.5480286, RATIO_AVERAGE_POPULARITY: 6.1535834, RATIO_NOVELTY: 0.2248557, \n",
      "\n",
      "Iteration No: 94 ended. Evaluation done at random point.\n",
      "Time taken: 143.4858\n",
      "Function value obtained: -0.0211\n",
      "Current minimum: -0.0262\n",
      "Iteration No: 95 started. Evaluating function at random point.\n",
      "SearchBayesianSkopt: Testing config: {'alpha': 70.96788410850564, 'beta': 48.06670176008191, 'gamma': 18.319819734632485, 'theta': 93.93519406329646, 'sigma': 43.34715690816594, 'epsilon': 30.12754375962588}\n"
     ]
    },
    {
     "name": "stdout",
     "output_type": "stream",
     "text": [
      "DifferentLossScoresHybridRecommender: URM Detected 3461 (12.4%) items with no interactions.\n"
     ]
    },
    {
     "name": "stdout",
     "output_type": "stream",
     "text": [
      "EvaluatorHoldout: Processed 40666 (100.0%) in 2.38 min. Users per second: 284\n"
     ]
    },
    {
     "name": "stdout",
     "output_type": "stream",
     "text": [
      "SearchBayesianSkopt: Config 94 is suboptimal. Config: {'alpha': 70.96788410850564, 'beta': 48.06670176008191, 'gamma': 18.319819734632485, 'theta': 93.93519406329646, 'sigma': 43.34715690816594, 'epsilon': 30.12754375962588} - results: PRECISION: 0.0478262, PRECISION_RECALL_MIN_DEN: 0.0822915, RECALL: 0.0776341, MAP: 0.0222576, MAP_MIN_DEN: 0.0377237, MRR: 0.1588152, NDCG: 0.0771019, F1: 0.0591891, HIT_RATE: 0.3372596, ARHR_ALL_HITS: 0.1870438, NOVELTY: 0.0034724, AVERAGE_POPULARITY: 0.3031471, DIVERSITY_MEAN_INTER_LIST: 0.8363117, DIVERSITY_HERFINDAHL: 0.9836291, COVERAGE_ITEM: 0.1622926, COVERAGE_ITEM_HIT: 0.0317148, ITEMS_IN_GT: 0.8701015, COVERAGE_USER: 0.9768671, COVERAGE_USER_HIT: 0.3294578, USERS_IN_GT: 0.9768671, DIVERSITY_GINI: 0.0089302, SHANNON_ENTROPY: 7.5662777, RATIO_DIVERSITY_HERFINDAHL: 0.9839535, RATIO_DIVERSITY_GINI: 0.0200473, RATIO_SHANNON_ENTROPY: 0.5607171, RATIO_AVERAGE_POPULARITY: 5.9501810, RATIO_NOVELTY: 0.2267245, \n",
      "\n",
      "Iteration No: 95 ended. Evaluation done at random point.\n",
      "Time taken: 143.2681\n",
      "Function value obtained: -0.0223\n",
      "Current minimum: -0.0262\n",
      "Iteration No: 96 started. Evaluating function at random point.\n",
      "SearchBayesianSkopt: Testing config: {'alpha': 92.62699373896517, 'beta': 96.33384124628718, 'gamma': 87.92067679461216, 'theta': 43.29618522521928, 'sigma': 22.541107173344415, 'epsilon': 53.082907192951765}\n",
      "DifferentLossScoresHybridRecommender: URM Detected 3461 (12.4%) items with no interactions.\n"
     ]
    },
    {
     "name": "stdout",
     "output_type": "stream",
     "text": [
      "EvaluatorHoldout: Processed 40666 (100.0%) in 2.39 min. Users per second: 283\n"
     ]
    },
    {
     "name": "stdout",
     "output_type": "stream",
     "text": [
      "SearchBayesianSkopt: Config 95 is suboptimal. Config: {'alpha': 92.62699373896517, 'beta': 96.33384124628718, 'gamma': 87.92067679461216, 'theta': 43.29618522521928, 'sigma': 22.541107173344415, 'epsilon': 53.082907192951765} - results: PRECISION: 0.0518000, PRECISION_RECALL_MIN_DEN: 0.0880114, RECALL: 0.0827704, MAP: 0.0248005, MAP_MIN_DEN: 0.0413669, MRR: 0.1714438, NDCG: 0.0834523, F1: 0.0637214, HIT_RATE: 0.3530714, ARHR_ALL_HITS: 0.2048958, NOVELTY: 0.0035652, AVERAGE_POPULARITY: 0.2649069, DIVERSITY_MEAN_INTER_LIST: 0.8868457, DIVERSITY_HERFINDAHL: 0.9886824, COVERAGE_ITEM: 0.1460598, COVERAGE_ITEM_HIT: 0.0376859, ITEMS_IN_GT: 0.8701015, COVERAGE_USER: 0.9768671, COVERAGE_USER_HIT: 0.3449038, USERS_IN_GT: 0.9768671, DIVERSITY_GINI: 0.0108249, SHANNON_ENTROPY: 8.0667976, RATIO_DIVERSITY_HERFINDAHL: 0.9890085, RATIO_DIVERSITY_GINI: 0.0243008, RATIO_SHANNON_ENTROPY: 0.5978093, RATIO_AVERAGE_POPULARITY: 5.1996021, RATIO_NOVELTY: 0.2327829, \n",
      "\n",
      "Iteration No: 96 ended. Evaluation done at random point.\n",
      "Time taken: 143.8362\n",
      "Function value obtained: -0.0248\n",
      "Current minimum: -0.0262\n",
      "Iteration No: 97 started. Evaluating function at random point.\n",
      "SearchBayesianSkopt: Testing config: {'alpha': 70.88459810267508, 'beta': 35.729233724340574, 'gamma': 55.88134500218618, 'theta': 25.356283154301025, 'sigma': 78.05161242588275, 'epsilon': 81.18341724108382}\n"
     ]
    },
    {
     "name": "stdout",
     "output_type": "stream",
     "text": [
      "DifferentLossScoresHybridRecommender: URM Detected 3461 (12.4%) items with no interactions.\n"
     ]
    },
    {
     "name": "stdout",
     "output_type": "stream",
     "text": [
      "EvaluatorHoldout: Processed 40666 (100.0%) in 2.41 min. Users per second: 282\n"
     ]
    },
    {
     "name": "stdout",
     "output_type": "stream",
     "text": [
      "SearchBayesianSkopt: Config 96 is suboptimal. Config: {'alpha': 70.88459810267508, 'beta': 35.729233724340574, 'gamma': 55.88134500218618, 'theta': 25.356283154301025, 'sigma': 78.05161242588275, 'epsilon': 81.18341724108382} - results: PRECISION: 0.0462401, PRECISION_RECALL_MIN_DEN: 0.0797810, RECALL: 0.0753173, MAP: 0.0212613, MAP_MIN_DEN: 0.0361357, MRR: 0.1530406, NDCG: 0.0743305, F1: 0.0573010, HIT_RATE: 0.3296611, ARHR_ALL_HITS: 0.1795145, NOVELTY: 0.0034530, AVERAGE_POPULARITY: 0.3086365, DIVERSITY_MEAN_INTER_LIST: 0.8286866, DIVERSITY_HERFINDAHL: 0.9828666, COVERAGE_ITEM: 0.1737700, COVERAGE_ITEM_HIT: 0.0284253, ITEMS_IN_GT: 0.8701015, COVERAGE_USER: 0.9768671, COVERAGE_USER_HIT: 0.3220351, USERS_IN_GT: 0.9768671, DIVERSITY_GINI: 0.0083371, SHANNON_ENTROPY: 7.4475040, RATIO_DIVERSITY_HERFINDAHL: 0.9831908, RATIO_DIVERSITY_GINI: 0.0187160, RATIO_SHANNON_ENTROPY: 0.5519151, RATIO_AVERAGE_POPULARITY: 6.0579279, RATIO_NOVELTY: 0.2254601, \n",
      "\n",
      "Iteration No: 97 ended. Evaluation done at random point.\n",
      "Time taken: 144.5302\n",
      "Function value obtained: -0.0213\n",
      "Current minimum: -0.0262\n",
      "Iteration No: 98 started. Evaluating function at random point.\n",
      "SearchBayesianSkopt: Testing config: {'alpha': 53.63837741425712, 'beta': 2.938575826960411, 'gamma': 20.39966309450923, 'theta': 92.1543264459049, 'sigma': 84.37030847531298, 'epsilon': 81.90087020045182}\n"
     ]
    },
    {
     "name": "stdout",
     "output_type": "stream",
     "text": [
      "DifferentLossScoresHybridRecommender: URM Detected 3461 (12.4%) items with no interactions.\n"
     ]
    },
    {
     "name": "stdout",
     "output_type": "stream",
     "text": [
      "EvaluatorHoldout: Processed 40666 (100.0%) in 2.40 min. Users per second: 282\n"
     ]
    },
    {
     "name": "stdout",
     "output_type": "stream",
     "text": [
      "SearchBayesianSkopt: Config 97 is suboptimal. Config: {'alpha': 53.63837741425712, 'beta': 2.938575826960411, 'gamma': 20.39966309450923, 'theta': 92.1543264459049, 'sigma': 84.37030847531298, 'epsilon': 81.90087020045182} - results: PRECISION: 0.0458688, PRECISION_RECALL_MIN_DEN: 0.0792190, RECALL: 0.0747951, MAP: 0.0210665, MAP_MIN_DEN: 0.0358249, MRR: 0.1520090, NDCG: 0.0737647, F1: 0.0568647, HIT_RATE: 0.3276939, ARHR_ALL_HITS: 0.1781054, NOVELTY: 0.0034488, AVERAGE_POPULARITY: 0.3099958, DIVERSITY_MEAN_INTER_LIST: 0.8266152, DIVERSITY_HERFINDAHL: 0.9826595, COVERAGE_ITEM: 0.1763801, COVERAGE_ITEM_HIT: 0.0274957, ITEMS_IN_GT: 0.8701015, COVERAGE_USER: 0.9768671, COVERAGE_USER_HIT: 0.3201134, USERS_IN_GT: 0.9768671, DIVERSITY_GINI: 0.0082614, SHANNON_ENTROPY: 7.4225813, RATIO_DIVERSITY_HERFINDAHL: 0.9829836, RATIO_DIVERSITY_GINI: 0.0185459, RATIO_SHANNON_ENTROPY: 0.5500682, RATIO_AVERAGE_POPULARITY: 6.0846080, RATIO_NOVELTY: 0.2251872, \n",
      "\n",
      "Iteration No: 98 ended. Evaluation done at random point.\n",
      "Time taken: 144.3653\n",
      "Function value obtained: -0.0211\n",
      "Current minimum: -0.0262\n",
      "Iteration No: 99 started. Evaluating function at random point.\n",
      "SearchBayesianSkopt: Testing config: {'alpha': 90.35418853378617, 'beta': 32.410911794793634, 'gamma': 30.668020940131317, 'theta': 38.830215215403776, 'sigma': 48.453712895544435, 'epsilon': 88.35212787737139}\n",
      "DifferentLossScoresHybridRecommender: URM Detected 3461 (12.4%) items with no interactions.\n"
     ]
    },
    {
     "name": "stdout",
     "output_type": "stream",
     "text": [
      "EvaluatorHoldout: Processed 40666 (100.0%) in 2.39 min. Users per second: 283\n"
     ]
    },
    {
     "name": "stdout",
     "output_type": "stream",
     "text": [
      "SearchBayesianSkopt: Config 98 is suboptimal. Config: {'alpha': 90.35418853378617, 'beta': 32.410911794793634, 'gamma': 30.668020940131317, 'theta': 38.830215215403776, 'sigma': 48.453712895544435, 'epsilon': 88.35212787737139} - results: PRECISION: 0.0480918, PRECISION_RECALL_MIN_DEN: 0.0824515, RECALL: 0.0777388, MAP: 0.0224304, MAP_MIN_DEN: 0.0378731, MRR: 0.1594646, NDCG: 0.0773969, F1: 0.0594227, HIT_RATE: 0.3380465, ARHR_ALL_HITS: 0.1881434, NOVELTY: 0.0034891, AVERAGE_POPULARITY: 0.2912011, DIVERSITY_MEAN_INTER_LIST: 0.8550291, DIVERSITY_HERFINDAHL: 0.9855008, COVERAGE_ITEM: 0.1489202, COVERAGE_ITEM_HIT: 0.0302131, ITEMS_IN_GT: 0.8701015, COVERAGE_USER: 0.9768671, COVERAGE_USER_HIT: 0.3302265, USERS_IN_GT: 0.9768671, DIVERSITY_GINI: 0.0085393, SHANNON_ENTROPY: 7.6603680, RATIO_DIVERSITY_HERFINDAHL: 0.9858258, RATIO_DIVERSITY_GINI: 0.0191699, RATIO_SHANNON_ENTROPY: 0.5676899, RATIO_AVERAGE_POPULARITY: 5.7157056, RATIO_NOVELTY: 0.2278136, \n",
      "\n",
      "Iteration No: 99 ended. Evaluation done at random point.\n",
      "Time taken: 143.8814\n",
      "Function value obtained: -0.0224\n",
      "Current minimum: -0.0262\n",
      "Iteration No: 100 started. Evaluating function at random point.\n",
      "SearchBayesianSkopt: Testing config: {'alpha': 79.46942560137624, 'beta': 43.878588012205114, 'gamma': 10.926660739640463, 'theta': 59.21962024896219, 'sigma': 77.56811632313662, 'epsilon': 44.70325506756577}\n",
      "DifferentLossScoresHybridRecommender: URM Detected 3461 (12.4%) items with no interactions.\n"
     ]
    },
    {
     "name": "stdout",
     "output_type": "stream",
     "text": [
      "EvaluatorHoldout: Processed 40666 (100.0%) in 2.38 min. Users per second: 285\n"
     ]
    },
    {
     "name": "stdout",
     "output_type": "stream",
     "text": [
      "SearchBayesianSkopt: Config 99 is suboptimal. Config: {'alpha': 79.46942560137624, 'beta': 43.878588012205114, 'gamma': 10.926660739640463, 'theta': 59.21962024896219, 'sigma': 77.56811632313662, 'epsilon': 44.70325506756577} - results: PRECISION: 0.0457286, PRECISION_RECALL_MIN_DEN: 0.0789782, RECALL: 0.0745651, MAP: 0.0209811, MAP_MIN_DEN: 0.0357147, MRR: 0.1517453, NDCG: 0.0735763, F1: 0.0566905, HIT_RATE: 0.3275218, ARHR_ALL_HITS: 0.1776044, NOVELTY: 0.0034386, AVERAGE_POPULARITY: 0.3163692, DIVERSITY_MEAN_INTER_LIST: 0.8157966, DIVERSITY_HERFINDAHL: 0.9815777, COVERAGE_ITEM: 0.1740203, COVERAGE_ITEM_HIT: 0.0284611, ITEMS_IN_GT: 0.8701015, COVERAGE_USER: 0.9768671, COVERAGE_USER_HIT: 0.3199452, USERS_IN_GT: 0.9768671, DIVERSITY_GINI: 0.0082603, SHANNON_ENTROPY: 7.3631970, RATIO_DIVERSITY_HERFINDAHL: 0.9819014, RATIO_DIVERSITY_GINI: 0.0185436, RATIO_SHANNON_ENTROPY: 0.5456673, RATIO_AVERAGE_POPULARITY: 6.2097050, RATIO_NOVELTY: 0.2245168, \n",
      "\n",
      "Iteration No: 100 ended. Evaluation done at random point.\n",
      "Time taken: 142.7983\n",
      "Function value obtained: -0.0210\n",
      "Current minimum: -0.0262\n",
      "Iteration No: 101 started. Evaluating function at random point.\n",
      "SearchBayesianSkopt: Testing config: {'alpha': 58.99327311281278, 'beta': 43.505655499663334, 'gamma': 46.83569935713044, 'theta': 5.702691082679902, 'sigma': 26.879870758044383, 'epsilon': 30.846407193716935}\n"
     ]
    },
    {
     "name": "stdout",
     "output_type": "stream",
     "text": [
      "DifferentLossScoresHybridRecommender: URM Detected 3461 (12.4%) items with no interactions.\n"
     ]
    },
    {
     "name": "stdout",
     "output_type": "stream",
     "text": [
      "EvaluatorHoldout: Processed 40666 (100.0%) in 2.38 min. Users per second: 285\n"
     ]
    },
    {
     "name": "stdout",
     "output_type": "stream",
     "text": [
      "SearchBayesianSkopt: Config 100 is suboptimal. Config: {'alpha': 58.99327311281278, 'beta': 43.505655499663334, 'gamma': 46.83569935713044, 'theta': 5.702691082679902, 'sigma': 26.879870758044383, 'epsilon': 30.846407193716935} - results: PRECISION: 0.0484114, PRECISION_RECALL_MIN_DEN: 0.0831625, RECALL: 0.0784280, MAP: 0.0225488, MAP_MIN_DEN: 0.0381299, MRR: 0.1601545, NDCG: 0.0778960, F1: 0.0598680, HIT_RATE: 0.3395711, ARHR_ALL_HITS: 0.1890161, NOVELTY: 0.0034861, AVERAGE_POPULARITY: 0.2971957, DIVERSITY_MEAN_INTER_LIST: 0.8452334, DIVERSITY_HERFINDAHL: 0.9845213, COVERAGE_ITEM: 0.1628289, COVERAGE_ITEM_HIT: 0.0324299, ITEMS_IN_GT: 0.8701015, COVERAGE_USER: 0.9768671, COVERAGE_USER_HIT: 0.3317159, USERS_IN_GT: 0.9768671, DIVERSITY_GINI: 0.0091765, SHANNON_ENTROPY: 7.6428700, RATIO_DIVERSITY_HERFINDAHL: 0.9848460, RATIO_DIVERSITY_GINI: 0.0206002, RATIO_SHANNON_ENTROPY: 0.5663932, RATIO_AVERAGE_POPULARITY: 5.8333686, RATIO_NOVELTY: 0.2276201, \n",
      "\n",
      "Iteration No: 101 ended. Evaluation done at random point.\n",
      "Time taken: 142.7833\n",
      "Function value obtained: -0.0225\n",
      "Current minimum: -0.0262\n",
      "Iteration No: 102 started. Evaluating function at random point.\n",
      "SearchBayesianSkopt: Testing config: {'alpha': 44.07400635067407, 'beta': 83.90496819618735, 'gamma': 83.55396276581398, 'theta': 16.105841210680108, 'sigma': 63.26594792790122, 'epsilon': 67.1020539373864}\n",
      "DifferentLossScoresHybridRecommender: URM Detected 3461 (12.4%) items with no interactions.\n"
     ]
    },
    {
     "name": "stdout",
     "output_type": "stream",
     "text": [
      "EvaluatorHoldout: Processed 40666 (100.0%) in 2.39 min. Users per second: 283\n"
     ]
    },
    {
     "name": "stdout",
     "output_type": "stream",
     "text": [
      "SearchBayesianSkopt: Config 101 is suboptimal. Config: {'alpha': 44.07400635067407, 'beta': 83.90496819618735, 'gamma': 83.55396276581398, 'theta': 16.105841210680108, 'sigma': 63.26594792790122, 'epsilon': 67.1020539373864} - results: PRECISION: 0.0470368, PRECISION_RECALL_MIN_DEN: 0.0809799, RECALL: 0.0764130, MAP: 0.0217461, MAP_MIN_DEN: 0.0368976, MRR: 0.1558197, NDCG: 0.0756637, F1: 0.0582297, HIT_RATE: 0.3333743, ARHR_ALL_HITS: 0.1831431, NOVELTY: 0.0034637, AVERAGE_POPULARITY: 0.3051254, DIVERSITY_MEAN_INTER_LIST: 0.8338776, DIVERSITY_HERFINDAHL: 0.9833857, COVERAGE_ITEM: 0.1709096, COVERAGE_ITEM_HIT: 0.0299271, ITEMS_IN_GT: 0.8701015, COVERAGE_USER: 0.9768671, COVERAGE_USER_HIT: 0.3256624, USERS_IN_GT: 0.9768671, DIVERSITY_GINI: 0.0086169, SHANNON_ENTROPY: 7.5103390, RATIO_DIVERSITY_HERFINDAHL: 0.9837100, RATIO_DIVERSITY_GINI: 0.0193440, RATIO_SHANNON_ENTROPY: 0.5565717, RATIO_AVERAGE_POPULARITY: 5.9890123, RATIO_NOVELTY: 0.2261548, \n",
      "\n",
      "Iteration No: 102 ended. Evaluation done at random point.\n",
      "Time taken: 143.6711\n",
      "Function value obtained: -0.0217\n",
      "Current minimum: -0.0262\n",
      "Iteration No: 103 started. Evaluating function at random point.\n",
      "SearchBayesianSkopt: Testing config: {'alpha': 26.5816662219547, 'beta': 5.693074075898509, 'gamma': 8.05906875603867, 'theta': 63.28953576862922, 'sigma': 37.256424423692984, 'epsilon': 85.00202568427258}\n",
      "DifferentLossScoresHybridRecommender: URM Detected 3461 (12.4%) items with no interactions.\n"
     ]
    },
    {
     "name": "stdout",
     "output_type": "stream",
     "text": [
      "EvaluatorHoldout: Processed 40666 (100.0%) in 2.39 min. Users per second: 283\n"
     ]
    },
    {
     "name": "stdout",
     "output_type": "stream",
     "text": [
      "SearchBayesianSkopt: Config 102 is suboptimal. Config: {'alpha': 26.5816662219547, 'beta': 5.693074075898509, 'gamma': 8.05906875603867, 'theta': 63.28953576862922, 'sigma': 37.256424423692984, 'epsilon': 85.00202568427258} - results: PRECISION: 0.0477696, PRECISION_RECALL_MIN_DEN: 0.0818433, RECALL: 0.0771508, MAP: 0.0222917, MAP_MIN_DEN: 0.0376181, MRR: 0.1587420, NDCG: 0.0768958, F1: 0.0590050, HIT_RATE: 0.3359809, ARHR_ALL_HITS: 0.1871273, NOVELTY: 0.0034931, AVERAGE_POPULARITY: 0.2862538, DIVERSITY_MEAN_INTER_LIST: 0.8624949, DIVERSITY_HERFINDAHL: 0.9862474, COVERAGE_ITEM: 0.1432351, COVERAGE_ITEM_HIT: 0.0290332, ITEMS_IN_GT: 0.8701015, COVERAGE_USER: 0.9768671, COVERAGE_USER_HIT: 0.3282087, USERS_IN_GT: 0.9768671, DIVERSITY_GINI: 0.0081858, SHANNON_ENTROPY: 7.6771367, RATIO_DIVERSITY_HERFINDAHL: 0.9865726, RATIO_DIVERSITY_GINI: 0.0183764, RATIO_SHANNON_ENTROPY: 0.5689326, RATIO_AVERAGE_POPULARITY: 5.6185990, RATIO_NOVELTY: 0.2280755, \n",
      "\n",
      "Iteration No: 103 ended. Evaluation done at random point.\n",
      "Time taken: 143.8559\n",
      "Function value obtained: -0.0223\n",
      "Current minimum: -0.0262\n",
      "Iteration No: 104 started. Evaluating function at random point.\n",
      "SearchBayesianSkopt: Testing config: {'alpha': 98.12817694362187, 'beta': 76.57313667978906, 'gamma': 49.970286952233614, 'theta': 75.1451959087948, 'sigma': 26.917331548423878, 'epsilon': 10.21428169233172}\n"
     ]
    },
    {
     "name": "stdout",
     "output_type": "stream",
     "text": [
      "DifferentLossScoresHybridRecommender: URM Detected 3461 (12.4%) items with no interactions.\n"
     ]
    },
    {
     "name": "stdout",
     "output_type": "stream",
     "text": [
      "EvaluatorHoldout: Processed 40666 (100.0%) in 2.40 min. Users per second: 283\n"
     ]
    },
    {
     "name": "stdout",
     "output_type": "stream",
     "text": [
      "SearchBayesianSkopt: Config 103 is suboptimal. Config: {'alpha': 98.12817694362187, 'beta': 76.57313667978906, 'gamma': 49.970286952233614, 'theta': 75.1451959087948, 'sigma': 26.917331548423878, 'epsilon': 10.21428169233172} - results: PRECISION: 0.0500295, PRECISION_RECALL_MIN_DEN: 0.0854306, RECALL: 0.0804754, MAP: 0.0236375, MAP_MIN_DEN: 0.0397449, MRR: 0.1658981, NDCG: 0.0806418, F1: 0.0617010, HIT_RATE: 0.3464319, ARHR_ALL_HITS: 0.1969184, NOVELTY: 0.0035152, AVERAGE_POPULARITY: 0.2907507, DIVERSITY_MEAN_INTER_LIST: 0.8525610, DIVERSITY_HERFINDAHL: 0.9852540, COVERAGE_ITEM: 0.1587886, COVERAGE_ITEM_HIT: 0.0366133, ITEMS_IN_GT: 0.8701015, COVERAGE_USER: 0.9768671, COVERAGE_USER_HIT: 0.3384179, USERS_IN_GT: 0.9768671, DIVERSITY_GINI: 0.0104664, SHANNON_ENTROPY: 7.8027438, RATIO_DIVERSITY_HERFINDAHL: 0.9855789, RATIO_DIVERSITY_GINI: 0.0234959, RATIO_SHANNON_ENTROPY: 0.5782410, RATIO_AVERAGE_POPULARITY: 5.7068655, RATIO_NOVELTY: 0.2295190, \n",
      "\n",
      "Iteration No: 104 ended. Evaluation done at random point.\n",
      "Time taken: 144.0267\n",
      "Function value obtained: -0.0236\n",
      "Current minimum: -0.0262\n",
      "Iteration No: 105 started. Evaluating function at random point.\n",
      "SearchBayesianSkopt: Testing config: {'alpha': 41.19348225907571, 'beta': 71.75169633337633, 'gamma': 43.246855445384234, 'theta': 31.22115932723519, 'sigma': 81.8590444840439, 'epsilon': 95.90299835498502}\n"
     ]
    },
    {
     "name": "stdout",
     "output_type": "stream",
     "text": [
      "DifferentLossScoresHybridRecommender: URM Detected 3461 (12.4%) items with no interactions.\n"
     ]
    },
    {
     "name": "stdout",
     "output_type": "stream",
     "text": [
      "EvaluatorHoldout: Processed 40666 (100.0%) in 2.41 min. Users per second: 282\n"
     ]
    },
    {
     "name": "stdout",
     "output_type": "stream",
     "text": [
      "SearchBayesianSkopt: Config 104 is suboptimal. Config: {'alpha': 41.19348225907571, 'beta': 71.75169633337633, 'gamma': 43.246855445384234, 'theta': 31.22115932723519, 'sigma': 81.8590444840439, 'epsilon': 95.90299835498502} - results: PRECISION: 0.0463286, PRECISION_RECALL_MIN_DEN: 0.0799137, RECALL: 0.0754301, MAP: 0.0213444, MAP_MIN_DEN: 0.0362738, MRR: 0.1535719, NDCG: 0.0745406, F1: 0.0574016, HIT_RATE: 0.3300546, ARHR_ALL_HITS: 0.1801745, NOVELTY: 0.0034546, AVERAGE_POPULARITY: 0.3071053, DIVERSITY_MEAN_INTER_LIST: 0.8313628, DIVERSITY_HERFINDAHL: 0.9831342, COVERAGE_ITEM: 0.1650458, COVERAGE_ITEM_HIT: 0.0282466, ITEMS_IN_GT: 0.8701015, COVERAGE_USER: 0.9768671, COVERAGE_USER_HIT: 0.3224195, USERS_IN_GT: 0.9768671, DIVERSITY_GINI: 0.0081393, SHANNON_ENTROPY: 7.4583498, RATIO_DIVERSITY_HERFINDAHL: 0.9834585, RATIO_DIVERSITY_GINI: 0.0182719, RATIO_SHANNON_ENTROPY: 0.5527189, RATIO_AVERAGE_POPULARITY: 6.0278735, RATIO_NOVELTY: 0.2255642, \n",
      "\n",
      "Iteration No: 105 ended. Evaluation done at random point.\n",
      "Time taken: 144.6186\n",
      "Function value obtained: -0.0213\n",
      "Current minimum: -0.0262\n",
      "Iteration No: 106 started. Evaluating function at random point.\n",
      "SearchBayesianSkopt: Testing config: {'alpha': 70.27095931709091, 'beta': 86.25568157323022, 'gamma': 77.71335119319482, 'theta': 21.535774625646635, 'sigma': 72.81917288865097, 'epsilon': 84.95595832722279}\n",
      "DifferentLossScoresHybridRecommender: URM Detected 3461 (12.4%) items with no interactions.\n"
     ]
    },
    {
     "name": "stdout",
     "output_type": "stream",
     "text": [
      "EvaluatorHoldout: Processed 40666 (100.0%) in 2.40 min. Users per second: 283\n"
     ]
    },
    {
     "name": "stdout",
     "output_type": "stream",
     "text": [
      "SearchBayesianSkopt: Config 105 is suboptimal. Config: {'alpha': 70.27095931709091, 'beta': 86.25568157323022, 'gamma': 77.71335119319482, 'theta': 21.535774625646635, 'sigma': 72.81917288865097, 'epsilon': 84.95595832722279} - results: PRECISION: 0.0471327, PRECISION_RECALL_MIN_DEN: 0.0810728, RECALL: 0.0764888, MAP: 0.0218202, MAP_MIN_DEN: 0.0370139, MRR: 0.1563050, NDCG: 0.0758529, F1: 0.0583252, HIT_RATE: 0.3338661, ARHR_ALL_HITS: 0.1837442, NOVELTY: 0.0034660, AVERAGE_POPULARITY: 0.3035232, DIVERSITY_MEAN_INTER_LIST: 0.8365110, DIVERSITY_HERFINDAHL: 0.9836490, COVERAGE_ITEM: 0.1647240, COVERAGE_ITEM_HIT: 0.0299271, ITEMS_IN_GT: 0.8701015, COVERAGE_USER: 0.9768671, COVERAGE_USER_HIT: 0.3261428, USERS_IN_GT: 0.9768671, DIVERSITY_GINI: 0.0085186, SHANNON_ENTROPY: 7.5258805, RATIO_DIVERSITY_HERFINDAHL: 0.9839735, RATIO_DIVERSITY_GINI: 0.0191235, RATIO_SHANNON_ENTROPY: 0.5577234, RATIO_AVERAGE_POPULARITY: 5.9575641, RATIO_NOVELTY: 0.2263103, \n",
      "\n",
      "Iteration No: 106 ended. Evaluation done at random point.\n",
      "Time taken: 143.9452\n",
      "Function value obtained: -0.0218\n",
      "Current minimum: -0.0262\n",
      "Iteration No: 107 started. Evaluating function at random point.\n",
      "SearchBayesianSkopt: Testing config: {'alpha': 81.14866067839031, 'beta': 46.13030997433618, 'gamma': 57.21615905080063, 'theta': 59.96078390857732, 'sigma': 40.118086441485545, 'epsilon': 64.1500718266355}\n"
     ]
    },
    {
     "name": "stdout",
     "output_type": "stream",
     "text": [
      "DifferentLossScoresHybridRecommender: URM Detected 3461 (12.4%) items with no interactions.\n"
     ]
    },
    {
     "name": "stdout",
     "output_type": "stream",
     "text": [
      "EvaluatorHoldout: Processed 40666 (100.0%) in 2.39 min. Users per second: 283\n"
     ]
    },
    {
     "name": "stdout",
     "output_type": "stream",
     "text": [
      "SearchBayesianSkopt: Config 106 is suboptimal. Config: {'alpha': 81.14866067839031, 'beta': 46.13030997433618, 'gamma': 57.21615905080063, 'theta': 59.96078390857732, 'sigma': 40.118086441485545, 'epsilon': 64.1500718266355} - results: PRECISION: 0.0488074, PRECISION_RECALL_MIN_DEN: 0.0835498, RECALL: 0.0787294, MAP: 0.0228801, MAP_MIN_DEN: 0.0385468, MRR: 0.1618472, NDCG: 0.0785836, F1: 0.0602583, HIT_RATE: 0.3407269, ARHR_ALL_HITS: 0.1913999, NOVELTY: 0.0035023, AVERAGE_POPULARITY: 0.2881415, DIVERSITY_MEAN_INTER_LIST: 0.8585404, DIVERSITY_HERFINDAHL: 0.9858519, COVERAGE_ITEM: 0.1561427, COVERAGE_ITEM_HIT: 0.0320009, ITEMS_IN_GT: 0.8701015, COVERAGE_USER: 0.9768671, COVERAGE_USER_HIT: 0.3328449, USERS_IN_GT: 0.9768671, DIVERSITY_GINI: 0.0091945, SHANNON_ENTROPY: 7.7341475, RATIO_DIVERSITY_HERFINDAHL: 0.9861771, RATIO_DIVERSITY_GINI: 0.0206408, RATIO_SHANNON_ENTROPY: 0.5731575, RATIO_AVERAGE_POPULARITY: 5.6556505, RATIO_NOVELTY: 0.2286799, \n",
      "\n",
      "Iteration No: 107 ended. Evaluation done at random point.\n",
      "Time taken: 143.7775\n",
      "Function value obtained: -0.0229\n",
      "Current minimum: -0.0262\n",
      "Iteration No: 108 started. Evaluating function at random point.\n",
      "SearchBayesianSkopt: Testing config: {'alpha': 95.22006631292321, 'beta': 24.34831879392781, 'gamma': 74.6545274239549, 'theta': 74.42626061486621, 'sigma': 79.56779232056624, 'epsilon': 95.35226845997504}\n"
     ]
    },
    {
     "name": "stdout",
     "output_type": "stream",
     "text": [
      "DifferentLossScoresHybridRecommender: URM Detected 3461 (12.4%) items with no interactions.\n"
     ]
    },
    {
     "name": "stdout",
     "output_type": "stream",
     "text": [
      "EvaluatorHoldout: Processed 40666 (100.0%) in 2.38 min. Users per second: 285\n"
     ]
    },
    {
     "name": "stdout",
     "output_type": "stream",
     "text": [
      "SearchBayesianSkopt: Config 107 is suboptimal. Config: {'alpha': 95.22006631292321, 'beta': 24.34831879392781, 'gamma': 74.6545274239549, 'theta': 74.42626061486621, 'sigma': 79.56779232056624, 'epsilon': 95.35226845997504} - results: PRECISION: 0.0470319, PRECISION_RECALL_MIN_DEN: 0.0809648, RECALL: 0.0763921, MAP: 0.0217863, MAP_MIN_DEN: 0.0369628, MRR: 0.1560465, NDCG: 0.0757328, F1: 0.0582199, HIT_RATE: 0.3331776, ARHR_ALL_HITS: 0.1834587, NOVELTY: 0.0034691, AVERAGE_POPULARITY: 0.3018196, DIVERSITY_MEAN_INTER_LIST: 0.8390972, DIVERSITY_HERFINDAHL: 0.9839077, COVERAGE_ITEM: 0.1715890, COVERAGE_ITEM_HIT: 0.0294980, ITEMS_IN_GT: 0.8701015, COVERAGE_USER: 0.9768671, COVERAGE_USER_HIT: 0.3254702, USERS_IN_GT: 0.9768671, DIVERSITY_GINI: 0.0086505, SHANNON_ENTROPY: 7.5425398, RATIO_DIVERSITY_HERFINDAHL: 0.9842321, RATIO_DIVERSITY_GINI: 0.0194195, RATIO_SHANNON_ENTROPY: 0.5589580, RATIO_AVERAGE_POPULARITY: 5.9241262, RATIO_NOVELTY: 0.2265095, \n",
      "\n",
      "Iteration No: 108 ended. Evaluation done at random point.\n",
      "Time taken: 143.1379\n",
      "Function value obtained: -0.0218\n",
      "Current minimum: -0.0262\n",
      "Iteration No: 109 started. Evaluating function at random point.\n",
      "SearchBayesianSkopt: Testing config: {'alpha': 81.23147204750629, 'beta': 36.4968442321227, 'gamma': 8.008613418503565, 'theta': 13.70969797742442, 'sigma': 25.06416971825283, 'epsilon': 17.261800503978833}\n",
      "DifferentLossScoresHybridRecommender: URM Detected 3461 (12.4%) items with no interactions.\n"
     ]
    },
    {
     "name": "stdout",
     "output_type": "stream",
     "text": [
      "EvaluatorHoldout: Processed 40666 (100.0%) in 2.39 min. Users per second: 283\n"
     ]
    },
    {
     "name": "stdout",
     "output_type": "stream",
     "text": [
      "SearchBayesianSkopt: Config 108 is suboptimal. Config: {'alpha': 81.23147204750629, 'beta': 36.4968442321227, 'gamma': 8.008613418503565, 'theta': 13.70969797742442, 'sigma': 25.06416971825283, 'epsilon': 17.261800503978833} - results: PRECISION: 0.0480426, PRECISION_RECALL_MIN_DEN: 0.0825080, RECALL: 0.0778327, MAP: 0.0223922, MAP_MIN_DEN: 0.0379442, MRR: 0.1596731, NDCG: 0.0774705, F1: 0.0594125, HIT_RATE: 0.3382678, ARHR_ALL_HITS: 0.1880995, NOVELTY: 0.0034722, AVERAGE_POPULARITY: 0.3044078, DIVERSITY_MEAN_INTER_LIST: 0.8340780, DIVERSITY_HERFINDAHL: 0.9834057, COVERAGE_ITEM: 0.1534611, COVERAGE_ITEM_HIT: 0.0324657, ITEMS_IN_GT: 0.8701015, COVERAGE_USER: 0.9768671, COVERAGE_USER_HIT: 0.3304427, USERS_IN_GT: 0.9768671, DIVERSITY_GINI: 0.0089586, SHANNON_ENTROPY: 7.5679748, RATIO_DIVERSITY_HERFINDAHL: 0.9837301, RATIO_DIVERSITY_GINI: 0.0201111, RATIO_SHANNON_ENTROPY: 0.5608429, RATIO_AVERAGE_POPULARITY: 5.9749264, RATIO_NOVELTY: 0.2267139, \n",
      "\n",
      "Iteration No: 109 ended. Evaluation done at random point.\n",
      "Time taken: 143.8304\n",
      "Function value obtained: -0.0224\n",
      "Current minimum: -0.0262\n",
      "Iteration No: 110 started. Evaluating function at random point.\n",
      "SearchBayesianSkopt: Testing config: {'alpha': 60.91924424120597, 'beta': 84.26526810284051, 'gamma': 6.76336735686044, 'theta': 14.62426415530889, 'sigma': 60.4309523967917, 'epsilon': 63.83919153238098}\n"
     ]
    },
    {
     "name": "stdout",
     "output_type": "stream",
     "text": [
      "DifferentLossScoresHybridRecommender: URM Detected 3461 (12.4%) items with no interactions.\n"
     ]
    },
    {
     "name": "stdout",
     "output_type": "stream",
     "text": [
      "EvaluatorHoldout: Processed 40666 (100.0%) in 2.39 min. Users per second: 283\n"
     ]
    },
    {
     "name": "stdout",
     "output_type": "stream",
     "text": [
      "SearchBayesianSkopt: Config 109 is suboptimal. Config: {'alpha': 60.91924424120597, 'beta': 84.26526810284051, 'gamma': 6.76336735686044, 'theta': 14.62426415530889, 'sigma': 60.4309523967917, 'epsilon': 63.83919153238098} - results: PRECISION: 0.0467344, PRECISION_RECALL_MIN_DEN: 0.0805271, RECALL: 0.0760077, MAP: 0.0215708, MAP_MIN_DEN: 0.0366420, MRR: 0.1549186, NDCG: 0.0752034, F1: 0.0578803, HIT_RATE: 0.3317513, ARHR_ALL_HITS: 0.1819080, NOVELTY: 0.0034536, AVERAGE_POPULARITY: 0.3082640, DIVERSITY_MEAN_INTER_LIST: 0.8294247, DIVERSITY_HERFINDAHL: 0.9829404, COVERAGE_ITEM: 0.1525672, COVERAGE_ITEM_HIT: 0.0290332, ITEMS_IN_GT: 0.8701015, COVERAGE_USER: 0.9768671, COVERAGE_USER_HIT: 0.3240770, USERS_IN_GT: 0.9768671, DIVERSITY_GINI: 0.0080496, SHANNON_ENTROPY: 7.4568028, RATIO_DIVERSITY_HERFINDAHL: 0.9832646, RATIO_DIVERSITY_GINI: 0.0180706, RATIO_SHANNON_ENTROPY: 0.5526042, RATIO_AVERAGE_POPULARITY: 6.0506175, RATIO_NOVELTY: 0.2254965, \n",
      "\n",
      "Iteration No: 110 ended. Evaluation done at random point.\n",
      "Time taken: 143.7276\n",
      "Function value obtained: -0.0216\n",
      "Current minimum: -0.0262\n",
      "Iteration No: 111 started. Evaluating function at random point.\n",
      "SearchBayesianSkopt: Testing config: {'alpha': 10.945205244065928, 'beta': 17.321611095040094, 'gamma': 1.2533955263571377, 'theta': 43.18585866799768, 'sigma': 31.317715203238976, 'epsilon': 66.43252877980667}\n"
     ]
    },
    {
     "name": "stdout",
     "output_type": "stream",
     "text": [
      "DifferentLossScoresHybridRecommender: URM Detected 3461 (12.4%) items with no interactions.\n"
     ]
    },
    {
     "name": "stdout",
     "output_type": "stream",
     "text": [
      "EvaluatorHoldout: Processed 40666 (100.0%) in 2.39 min. Users per second: 283\n"
     ]
    },
    {
     "name": "stdout",
     "output_type": "stream",
     "text": [
      "SearchBayesianSkopt: Config 110 is suboptimal. Config: {'alpha': 10.945205244065928, 'beta': 17.321611095040094, 'gamma': 1.2533955263571377, 'theta': 43.18585866799768, 'sigma': 31.317715203238976, 'epsilon': 66.43252877980667} - results: PRECISION: 0.0474204, PRECISION_RECALL_MIN_DEN: 0.0813151, RECALL: 0.0766818, MAP: 0.0220691, MAP_MIN_DEN: 0.0373067, MRR: 0.1576611, NDCG: 0.0763365, F1: 0.0586014, HIT_RATE: 0.3346530, ARHR_ALL_HITS: 0.1855821, NOVELTY: 0.0034837, AVERAGE_POPULARITY: 0.2904690, DIVERSITY_MEAN_INTER_LIST: 0.8567952, DIVERSITY_HERFINDAHL: 0.9856774, COVERAGE_ITEM: 0.1416619, COVERAGE_ITEM_HIT: 0.0286041, ITEMS_IN_GT: 0.8701015, COVERAGE_USER: 0.9768671, COVERAGE_USER_HIT: 0.3269115, USERS_IN_GT: 0.9768671, DIVERSITY_GINI: 0.0079914, SHANNON_ENTROPY: 7.6258220, RATIO_DIVERSITY_HERFINDAHL: 0.9860025, RATIO_DIVERSITY_GINI: 0.0179400, RATIO_SHANNON_ENTROPY: 0.5651298, RATIO_AVERAGE_POPULARITY: 5.7013349, RATIO_NOVELTY: 0.2274629, \n",
      "\n",
      "Iteration No: 111 ended. Evaluation done at random point.\n",
      "Time taken: 143.8646\n",
      "Function value obtained: -0.0221\n",
      "Current minimum: -0.0262\n",
      "Iteration No: 112 started. Evaluating function at random point.\n",
      "SearchBayesianSkopt: Testing config: {'alpha': 19.951263040548334, 'beta': 47.363704990898235, 'gamma': 96.69748070227384, 'theta': 92.15399778937817, 'sigma': 2.7981906364881635, 'epsilon': 39.70262745804526}\n",
      "DifferentLossScoresHybridRecommender: URM Detected 3461 (12.4%) items with no interactions.\n"
     ]
    },
    {
     "name": "stdout",
     "output_type": "stream",
     "text": [
      "EvaluatorHoldout: Processed 40666 (100.0%) in 2.40 min. Users per second: 282\n"
     ]
    },
    {
     "name": "stdout",
     "output_type": "stream",
     "text": [
      "SearchBayesianSkopt: New best config found. Config 111: {'alpha': 19.951263040548334, 'beta': 47.363704990898235, 'gamma': 96.69748070227384, 'theta': 92.15399778937817, 'sigma': 2.7981906364881635, 'epsilon': 39.70262745804526} - results: PRECISION: 0.0553583, PRECISION_RECALL_MIN_DEN: 0.0922502, RECALL: 0.0862805, MAP: 0.0271962, MAP_MIN_DEN: 0.0443029, MRR: 0.1811892, NDCG: 0.0884399, F1: 0.0674439, HIT_RATE: 0.3631535, ARHR_ALL_HITS: 0.2203006, NOVELTY: 0.0037232, AVERAGE_POPULARITY: 0.2001534, DIVERSITY_MEAN_INTER_LIST: 0.9445403, DIVERSITY_HERFINDAHL: 0.9944517, COVERAGE_ITEM: 0.1480978, COVERAGE_ITEM_HIT: 0.0458381, ITEMS_IN_GT: 0.8701015, COVERAGE_USER: 0.9768671, COVERAGE_USER_HIT: 0.3547527, USERS_IN_GT: 0.9768671, DIVERSITY_GINI: 0.0145724, SHANNON_ENTROPY: 8.7769346, RATIO_DIVERSITY_HERFINDAHL: 0.9947797, RATIO_DIVERSITY_GINI: 0.0327137, RATIO_SHANNON_ENTROPY: 0.6504358, RATIO_AVERAGE_POPULARITY: 3.9286186, RATIO_NOVELTY: 0.2431006, \n",
      "\n",
      "SearchBayesianSkopt: Saving model in result_experiments/DifferentLossScoresHybridRecommender\n",
      "\n",
      "SearchBayesianSkopt: Config 111 Exception. Config: {'alpha': 19.951263040548334, 'beta': 47.363704990898235, 'gamma': 96.69748070227384, 'theta': 92.15399778937817, 'sigma': 2.7981906364881635, 'epsilon': 39.70262745804526} - Exception: Traceback (most recent call last):\n",
      "  File \"/kaggle/working/HyperparameterTuning/SearchAbstractClass.py\", line 534, in _objective_function\n",
      "    recommender_instance.save_model(self.output_folder_path, file_name =self.output_file_name_root + \"_best_model\")\n",
      "  File \"/kaggle/working/Recommenders/BaseRecommender.py\", line 215, in save_model\n",
      "    raise NotImplementedError(\"BaseRecommender: save_model not implemented\")\n",
      "NotImplementedError: BaseRecommender: save_model not implemented\n",
      "\n",
      "\n",
      "Iteration No: 112 ended. Evaluation done at random point.\n",
      "Time taken: 144.2402\n",
      "Function value obtained: 65504.0000\n",
      "Current minimum: -0.0262\n",
      "Iteration No: 113 started. Evaluating function at random point.\n",
      "SearchBayesianSkopt: Testing config: {'alpha': 0.6201525426061119, 'beta': 39.016985438277985, 'gamma': 36.489183781823925, 'theta': 82.8006106338617, 'sigma': 52.99016250370735, 'epsilon': 70.35891048205598}\n"
     ]
    },
    {
     "name": "stdout",
     "output_type": "stream",
     "text": [
      "DifferentLossScoresHybridRecommender: URM Detected 3461 (12.4%) items with no interactions.\n"
     ]
    },
    {
     "name": "stderr",
     "output_type": "stream",
     "text": [
      "Traceback (most recent call last):\n",
      "  File \"/kaggle/working/HyperparameterTuning/SearchAbstractClass.py\", line 534, in _objective_function\n",
      "    recommender_instance.save_model(self.output_folder_path, file_name =self.output_file_name_root + \"_best_model\")\n",
      "  File \"/kaggle/working/Recommenders/BaseRecommender.py\", line 215, in save_model\n",
      "    raise NotImplementedError(\"BaseRecommender: save_model not implemented\")\n",
      "NotImplementedError: BaseRecommender: save_model not implemented\n"
     ]
    },
    {
     "name": "stdout",
     "output_type": "stream",
     "text": [
      "EvaluatorHoldout: Processed 40666 (100.0%) in 2.38 min. Users per second: 284\n"
     ]
    },
    {
     "name": "stdout",
     "output_type": "stream",
     "text": [
      "SearchBayesianSkopt: Config 112 is suboptimal. Config: {'alpha': 0.6201525426061119, 'beta': 39.016985438277985, 'gamma': 36.489183781823925, 'theta': 82.8006106338617, 'sigma': 52.99016250370735, 'epsilon': 70.35891048205598} - results: PRECISION: 0.0469459, PRECISION_RECALL_MIN_DEN: 0.0807480, RECALL: 0.0761757, MAP: 0.0217537, MAP_MIN_DEN: 0.0369085, MRR: 0.1558726, NDCG: 0.0756024, F1: 0.0580911, HIT_RATE: 0.3326366, ARHR_ALL_HITS: 0.1832262, NOVELTY: 0.0034687, AVERAGE_POPULARITY: 0.3006287, DIVERSITY_MEAN_INTER_LIST: 0.8412759, DIVERSITY_HERFINDAHL: 0.9841255, COVERAGE_ITEM: 0.1683352, COVERAGE_ITEM_HIT: 0.0287829, ITEMS_IN_GT: 0.8701015, COVERAGE_USER: 0.9768671, COVERAGE_USER_HIT: 0.3249417, USERS_IN_GT: 0.9768671, DIVERSITY_GINI: 0.0084208, SHANNON_ENTROPY: 7.5394739, RATIO_DIVERSITY_HERFINDAHL: 0.9844501, RATIO_DIVERSITY_GINI: 0.0189039, RATIO_SHANNON_ENTROPY: 0.5587308, RATIO_AVERAGE_POPULARITY: 5.9007502, RATIO_NOVELTY: 0.2264859, \n",
      "\n",
      "Iteration No: 113 ended. Evaluation done at random point.\n",
      "Time taken: 143.2911\n",
      "Function value obtained: -0.0218\n",
      "Current minimum: -0.0262\n",
      "Iteration No: 114 started. Evaluating function at random point.\n",
      "SearchBayesianSkopt: Testing config: {'alpha': 63.25155458309829, 'beta': 5.125119945701042, 'gamma': 26.333214605207573, 'theta': 64.43756896509242, 'sigma': 6.839125128786063, 'epsilon': 24.612170147000782}\n",
      "DifferentLossScoresHybridRecommender: URM Detected 3461 (12.4%) items with no interactions.\n"
     ]
    },
    {
     "name": "stdout",
     "output_type": "stream",
     "text": [
      "EvaluatorHoldout: Processed 40666 (100.0%) in 2.39 min. Users per second: 283\n"
     ]
    },
    {
     "name": "stdout",
     "output_type": "stream",
     "text": [
      "SearchBayesianSkopt: Config 113 is suboptimal. Config: {'alpha': 63.25155458309829, 'beta': 5.125119945701042, 'gamma': 26.333214605207573, 'theta': 64.43756896509242, 'sigma': 6.839125128786063, 'epsilon': 24.612170147000782} - results: PRECISION: 0.0534501, PRECISION_RECALL_MIN_DEN: 0.0901132, RECALL: 0.0845507, MAP: 0.0259457, MAP_MIN_DEN: 0.0428845, MRR: 0.1764587, NDCG: 0.0859662, F1: 0.0654959, HIT_RATE: 0.3579649, ARHR_ALL_HITS: 0.2124790, NOVELTY: 0.0036209, AVERAGE_POPULARITY: 0.2407487, DIVERSITY_MEAN_INTER_LIST: 0.9122870, DIVERSITY_HERFINDAHL: 0.9912265, COVERAGE_ITEM: 0.1437357, COVERAGE_ITEM_HIT: 0.0401173, ITEMS_IN_GT: 0.8701015, COVERAGE_USER: 0.9768671, COVERAGE_USER_HIT: 0.3496841, USERS_IN_GT: 0.9768671, DIVERSITY_GINI: 0.0120664, SHANNON_ENTROPY: 8.3392132, RATIO_DIVERSITY_HERFINDAHL: 0.9915534, RATIO_DIVERSITY_GINI: 0.0270878, RATIO_SHANNON_ENTROPY: 0.6179974, RATIO_AVERAGE_POPULARITY: 4.7254247, RATIO_NOVELTY: 0.2364196, \n",
      "\n",
      "Iteration No: 114 ended. Evaluation done at random point.\n",
      "Time taken: 143.8073\n",
      "Function value obtained: -0.0259\n",
      "Current minimum: -0.0262\n",
      "Iteration No: 115 started. Evaluating function at random point.\n",
      "SearchBayesianSkopt: Testing config: {'alpha': 11.485722372933752, 'beta': 17.923385666500906, 'gamma': 0.6992665935875, 'theta': 88.35184429711404, 'sigma': 94.18725937487568, 'epsilon': 11.534104163479267}\n",
      "DifferentLossScoresHybridRecommender: URM Detected 3461 (12.4%) items with no interactions.\n"
     ]
    },
    {
     "name": "stdout",
     "output_type": "stream",
     "text": [
      "EvaluatorHoldout: Processed 40666 (100.0%) in 2.38 min. Users per second: 284\n"
     ]
    },
    {
     "name": "stdout",
     "output_type": "stream",
     "text": [
      "SearchBayesianSkopt: Config 114 is suboptimal. Config: {'alpha': 11.485722372933752, 'beta': 17.923385666500906, 'gamma': 0.6992665935875, 'theta': 88.35184429711404, 'sigma': 94.18725937487568, 'epsilon': 11.534104163479267} - results: PRECISION: 0.0439040, PRECISION_RECALL_MIN_DEN: 0.0761843, RECALL: 0.0719658, MAP: 0.0198936, MAP_MIN_DEN: 0.0340096, MRR: 0.1455339, NDCG: 0.0705155, F1: 0.0545368, HIT_RATE: 0.3184478, ARHR_ALL_HITS: 0.1694131, NOVELTY: 0.0034095, AVERAGE_POPULARITY: 0.3298785, DIVERSITY_MEAN_INTER_LIST: 0.7920705, DIVERSITY_HERFINDAHL: 0.9792051, COVERAGE_ITEM: 0.2034468, COVERAGE_ITEM_HIT: 0.0256364, ITEMS_IN_GT: 0.8701015, COVERAGE_USER: 0.9768671, COVERAGE_USER_HIT: 0.3110812, USERS_IN_GT: 0.9768671, DIVERSITY_GINI: 0.0083384, SHANNON_ENTROPY: 7.1745209, RATIO_DIVERSITY_HERFINDAHL: 0.9795280, RATIO_DIVERSITY_GINI: 0.0187189, RATIO_SHANNON_ENTROPY: 0.5316850, RATIO_AVERAGE_POPULARITY: 6.4748669, RATIO_NOVELTY: 0.2226154, \n",
      "\n",
      "Iteration No: 115 ended. Evaluation done at random point.\n",
      "Time taken: 143.2641\n",
      "Function value obtained: -0.0199\n",
      "Current minimum: -0.0262\n",
      "Iteration No: 116 started. Evaluating function at random point.\n",
      "SearchBayesianSkopt: Testing config: {'alpha': 70.10444927679845, 'beta': 21.224248105743577, 'gamma': 39.85622538723873, 'theta': 60.57997056179537, 'sigma': 74.95640011081687, 'epsilon': 81.43786780833834}\n",
      "DifferentLossScoresHybridRecommender: URM Detected 3461 (12.4%) items with no interactions.\n"
     ]
    },
    {
     "name": "stdout",
     "output_type": "stream",
     "text": [
      "EvaluatorHoldout: Processed 40666 (100.0%) in 2.40 min. Users per second: 283\n"
     ]
    },
    {
     "name": "stdout",
     "output_type": "stream",
     "text": [
      "SearchBayesianSkopt: Config 115 is suboptimal. Config: {'alpha': 70.10444927679845, 'beta': 21.224248105743577, 'gamma': 39.85622538723873, 'theta': 60.57997056179537, 'sigma': 74.95640011081687, 'epsilon': 81.43786780833834} - results: PRECISION: 0.0464663, PRECISION_RECALL_MIN_DEN: 0.0800581, RECALL: 0.0755638, MAP: 0.0214218, MAP_MIN_DEN: 0.0364102, MRR: 0.1540127, NDCG: 0.0747554, F1: 0.0575460, HIT_RATE: 0.3305710, ARHR_ALL_HITS: 0.1807526, NOVELTY: 0.0034572, AVERAGE_POPULARITY: 0.3065822, DIVERSITY_MEAN_INTER_LIST: 0.8319551, DIVERSITY_HERFINDAHL: 0.9831935, COVERAGE_ITEM: 0.1719465, COVERAGE_ITEM_HIT: 0.0284253, ITEMS_IN_GT: 0.8701015, COVERAGE_USER: 0.9768671, COVERAGE_USER_HIT: 0.3229239, USERS_IN_GT: 0.9768671, DIVERSITY_GINI: 0.0083710, SHANNON_ENTROPY: 7.4730889, RATIO_DIVERSITY_HERFINDAHL: 0.9835177, RATIO_DIVERSITY_GINI: 0.0187921, RATIO_SHANNON_ENTROPY: 0.5538111, RATIO_AVERAGE_POPULARITY: 6.0176069, RATIO_NOVELTY: 0.2257321, \n",
      "\n",
      "Iteration No: 116 ended. Evaluation done at random point.\n",
      "Time taken: 143.9820\n",
      "Function value obtained: -0.0214\n",
      "Current minimum: -0.0262\n",
      "Iteration No: 117 started. Evaluating function at random point.\n",
      "SearchBayesianSkopt: Testing config: {'alpha': 61.51938393413213, 'beta': 65.0291083676667, 'gamma': 2.883584210708424, 'theta': 68.63364445629963, 'sigma': 99.48907197552411, 'epsilon': 75.34681705803715}\n"
     ]
    },
    {
     "name": "stdout",
     "output_type": "stream",
     "text": [
      "DifferentLossScoresHybridRecommender: URM Detected 3461 (12.4%) items with no interactions.\n"
     ]
    },
    {
     "name": "stdout",
     "output_type": "stream",
     "text": [
      "EvaluatorHoldout: Processed 40666 (100.0%) in 2.39 min. Users per second: 284\n"
     ]
    },
    {
     "name": "stdout",
     "output_type": "stream",
     "text": [
      "SearchBayesianSkopt: Config 116 is suboptimal. Config: {'alpha': 61.51938393413213, 'beta': 65.0291083676667, 'gamma': 2.883584210708424, 'theta': 68.63364445629963, 'sigma': 99.48907197552411, 'epsilon': 75.34681705803715} - results: PRECISION: 0.0455958, PRECISION_RECALL_MIN_DEN: 0.0787884, RECALL: 0.0743949, MAP: 0.0208988, MAP_MIN_DEN: 0.0355792, MRR: 0.1512309, NDCG: 0.0733425, F1: 0.0565393, HIT_RATE: 0.3268332, ARHR_ALL_HITS: 0.1769596, NOVELTY: 0.0034386, AVERAGE_POPULARITY: 0.3151326, DIVERSITY_MEAN_INTER_LIST: 0.8181924, DIVERSITY_HERFINDAHL: 0.9818172, COVERAGE_ITEM: 0.1702660, COVERAGE_ITEM_HIT: 0.0274242, ITEMS_IN_GT: 0.8701015, COVERAGE_USER: 0.9768671, COVERAGE_USER_HIT: 0.3192726, USERS_IN_GT: 0.9768671, DIVERSITY_GINI: 0.0080519, SHANNON_ENTROPY: 7.3637117, RATIO_DIVERSITY_HERFINDAHL: 0.9821410, RATIO_DIVERSITY_GINI: 0.0180758, RATIO_SHANNON_ENTROPY: 0.5457055, RATIO_AVERAGE_POPULARITY: 6.1854337, RATIO_NOVELTY: 0.2245194, \n",
      "\n",
      "Iteration No: 117 ended. Evaluation done at random point.\n",
      "Time taken: 143.4445\n",
      "Function value obtained: -0.0209\n",
      "Current minimum: -0.0262\n",
      "Iteration No: 118 started. Evaluating function at random point.\n",
      "SearchBayesianSkopt: Testing config: {'alpha': 55.587531682976234, 'beta': 92.24614408940526, 'gamma': 1.824149346866211, 'theta': 90.47909761802353, 'sigma': 98.1723453568278, 'epsilon': 59.03278460655799}\n"
     ]
    },
    {
     "name": "stdout",
     "output_type": "stream",
     "text": [
      "DifferentLossScoresHybridRecommender: URM Detected 3461 (12.4%) items with no interactions.\n"
     ]
    },
    {
     "name": "stdout",
     "output_type": "stream",
     "text": [
      "EvaluatorHoldout: Processed 40666 (100.0%) in 2.39 min. Users per second: 283\n"
     ]
    },
    {
     "name": "stdout",
     "output_type": "stream",
     "text": [
      "SearchBayesianSkopt: Config 117 is suboptimal. Config: {'alpha': 55.587531682976234, 'beta': 92.24614408940526, 'gamma': 1.824149346866211, 'theta': 90.47909761802353, 'sigma': 98.1723453568278, 'epsilon': 59.03278460655799} - results: PRECISION: 0.0457139, PRECISION_RECALL_MIN_DEN: 0.0789444, RECALL: 0.0745260, MAP: 0.0209839, MAP_MIN_DEN: 0.0357286, MRR: 0.1517403, NDCG: 0.0735753, F1: 0.0566679, HIT_RATE: 0.3272513, ARHR_ALL_HITS: 0.1776143, NOVELTY: 0.0034378, AVERAGE_POPULARITY: 0.3163142, DIVERSITY_MEAN_INTER_LIST: 0.8160623, DIVERSITY_HERFINDAHL: 0.9816042, COVERAGE_ITEM: 0.1700872, COVERAGE_ITEM_HIT: 0.0282108, ITEMS_IN_GT: 0.8701015, COVERAGE_USER: 0.9768671, COVERAGE_USER_HIT: 0.3196810, USERS_IN_GT: 0.9768671, DIVERSITY_GINI: 0.0081310, SHANNON_ENTROPY: 7.3594052, RATIO_DIVERSITY_HERFINDAHL: 0.9819280, RATIO_DIVERSITY_GINI: 0.0182532, RATIO_SHANNON_ENTROPY: 0.5453863, RATIO_AVERAGE_POPULARITY: 6.2086271, RATIO_NOVELTY: 0.2244635, \n",
      "\n",
      "Iteration No: 118 ended. Evaluation done at random point.\n",
      "Time taken: 143.6756\n",
      "Function value obtained: -0.0210\n",
      "Current minimum: -0.0262\n",
      "Iteration No: 119 started. Evaluating function at random point.\n",
      "SearchBayesianSkopt: Testing config: {'alpha': 84.92042245114119, 'beta': 38.08558132835241, 'gamma': 69.36264856671534, 'theta': 51.90641406245331, 'sigma': 37.31960074628163, 'epsilon': 16.7391881304411}\n"
     ]
    },
    {
     "name": "stdout",
     "output_type": "stream",
     "text": [
      "DifferentLossScoresHybridRecommender: URM Detected 3461 (12.4%) items with no interactions.\n"
     ]
    },
    {
     "name": "stdout",
     "output_type": "stream",
     "text": [
      "EvaluatorHoldout: Processed 40666 (100.0%) in 2.39 min. Users per second: 284\n"
     ]
    },
    {
     "name": "stdout",
     "output_type": "stream",
     "text": [
      "SearchBayesianSkopt: Config 118 is suboptimal. Config: {'alpha': 84.92042245114119, 'beta': 38.08558132835241, 'gamma': 69.36264856671534, 'theta': 51.90641406245331, 'sigma': 37.31960074628163, 'epsilon': 16.7391881304411} - results: PRECISION: 0.0479491, PRECISION_RECALL_MIN_DEN: 0.0823933, RECALL: 0.0777121, MAP: 0.0223558, MAP_MIN_DEN: 0.0378762, MRR: 0.1592156, NDCG: 0.0773149, F1: 0.0593059, HIT_RATE: 0.3374809, ARHR_ALL_HITS: 0.1876653, NOVELTY: 0.0034780, AVERAGE_POPULARITY: 0.3036068, DIVERSITY_MEAN_INTER_LIST: 0.8347103, DIVERSITY_HERFINDAHL: 0.9834690, COVERAGE_ITEM: 0.1786327, COVERAGE_ITEM_HIT: 0.0327517, ITEMS_IN_GT: 0.8701015, COVERAGE_USER: 0.9768671, COVERAGE_USER_HIT: 0.3296740, USERS_IN_GT: 0.9768671, DIVERSITY_GINI: 0.0096066, SHANNON_ENTROPY: 7.5921176, RATIO_DIVERSITY_HERFINDAHL: 0.9837933, RATIO_DIVERSITY_GINI: 0.0215658, RATIO_SHANNON_ENTROPY: 0.5626320, RATIO_AVERAGE_POPULARITY: 5.9592041, RATIO_NOVELTY: 0.2270889, \n",
      "\n",
      "Iteration No: 119 ended. Evaluation done at random point.\n",
      "Time taken: 143.5598\n",
      "Function value obtained: -0.0224\n",
      "Current minimum: -0.0262\n",
      "Iteration No: 120 started. Evaluating function at random point.\n",
      "SearchBayesianSkopt: Testing config: {'alpha': 85.4512088438263, 'beta': 40.70232813381601, 'gamma': 85.68007898104759, 'theta': 10.347680100869608, 'sigma': 36.72439770295414, 'epsilon': 78.35609096669964}\n"
     ]
    },
    {
     "name": "stdout",
     "output_type": "stream",
     "text": [
      "DifferentLossScoresHybridRecommender: URM Detected 3461 (12.4%) items with no interactions.\n"
     ]
    },
    {
     "name": "stdout",
     "output_type": "stream",
     "text": [
      "EvaluatorHoldout: Processed 40666 (100.0%) in 2.39 min. Users per second: 284\n"
     ]
    },
    {
     "name": "stdout",
     "output_type": "stream",
     "text": [
      "SearchBayesianSkopt: Config 119 is suboptimal. Config: {'alpha': 85.4512088438263, 'beta': 40.70232813381601, 'gamma': 85.68007898104759, 'theta': 10.347680100869608, 'sigma': 36.72439770295414, 'epsilon': 78.35609096669964} - results: PRECISION: 0.0490803, PRECISION_RECALL_MIN_DEN: 0.0838258, RECALL: 0.0789382, MAP: 0.0230703, MAP_MIN_DEN: 0.0387889, MRR: 0.1627058, NDCG: 0.0789831, F1: 0.0605274, HIT_RATE: 0.3416367, ARHR_ALL_HITS: 0.1926494, NOVELTY: 0.0035131, AVERAGE_POPULARITY: 0.2821501, DIVERSITY_MEAN_INTER_LIST: 0.8668896, DIVERSITY_HERFINDAHL: 0.9866868, COVERAGE_ITEM: 0.1566076, COVERAGE_ITEM_HIT: 0.0320366, ITEMS_IN_GT: 0.8701015, COVERAGE_USER: 0.9768671, COVERAGE_USER_HIT: 0.3337337, USERS_IN_GT: 0.9768671, DIVERSITY_GINI: 0.0092550, SHANNON_ENTROPY: 7.7903207, RATIO_DIVERSITY_HERFINDAHL: 0.9870122, RATIO_DIVERSITY_GINI: 0.0207765, RATIO_SHANNON_ENTROPY: 0.5773204, RATIO_AVERAGE_POPULARITY: 5.5380525, RATIO_NOVELTY: 0.2293826, \n",
      "\n",
      "Iteration No: 120 ended. Evaluation done at random point.\n",
      "Time taken: 143.4230\n",
      "Function value obtained: -0.0231\n",
      "Current minimum: -0.0262\n",
      "Iteration No: 121 started. Evaluating function at random point.\n",
      "SearchBayesianSkopt: Testing config: {'alpha': 11.882412224302422, 'beta': 5.634477671662654, 'gamma': 52.51757034620644, 'theta': 95.27621739684548, 'sigma': 99.1580396731654, 'epsilon': 84.97324591889048}\n"
     ]
    },
    {
     "name": "stdout",
     "output_type": "stream",
     "text": [
      "DifferentLossScoresHybridRecommender: URM Detected 3461 (12.4%) items with no interactions.\n"
     ]
    },
    {
     "name": "stdout",
     "output_type": "stream",
     "text": [
      "EvaluatorHoldout: Processed 40666 (100.0%) in 2.38 min. Users per second: 285\n"
     ]
    },
    {
     "name": "stdout",
     "output_type": "stream",
     "text": [
      "SearchBayesianSkopt: Config 120 is suboptimal. Config: {'alpha': 11.882412224302422, 'beta': 5.634477671662654, 'gamma': 52.51757034620644, 'theta': 95.27621739684548, 'sigma': 99.1580396731654, 'epsilon': 84.97324591889048} - results: PRECISION: 0.0453844, PRECISION_RECALL_MIN_DEN: 0.0784573, RECALL: 0.0740796, MAP: 0.0207587, MAP_MIN_DEN: 0.0353531, MRR: 0.1502568, NDCG: 0.0729250, F1: 0.0562857, HIT_RATE: 0.3252594, ARHR_ALL_HITS: 0.1757963, NOVELTY: 0.0034419, AVERAGE_POPULARITY: 0.3133813, DIVERSITY_MEAN_INTER_LIST: 0.8210721, DIVERSITY_HERFINDAHL: 0.9821052, COVERAGE_ITEM: 0.1871782, COVERAGE_ITEM_HIT: 0.0268521, ITEMS_IN_GT: 0.8701015, COVERAGE_USER: 0.9768671, COVERAGE_USER_HIT: 0.3177352, USERS_IN_GT: 0.9768671, DIVERSITY_GINI: 0.0083380, SHANNON_ENTROPY: 7.3772123, RATIO_DIVERSITY_HERFINDAHL: 0.9824291, RATIO_DIVERSITY_GINI: 0.0187179, RATIO_SHANNON_ENTROPY: 0.5467060, RATIO_AVERAGE_POPULARITY: 6.1510589, RATIO_NOVELTY: 0.2247332, \n",
      "\n",
      "Iteration No: 121 ended. Evaluation done at random point.\n",
      "Time taken: 142.8580\n",
      "Function value obtained: -0.0208\n",
      "Current minimum: -0.0262\n",
      "Iteration No: 122 started. Evaluating function at random point.\n",
      "SearchBayesianSkopt: Testing config: {'alpha': 71.46027002370366, 'beta': 39.40178739165342, 'gamma': 59.85151260934518, 'theta': 68.11983683262747, 'sigma': 23.351743005404785, 'epsilon': 90.24917786208708}\n",
      "DifferentLossScoresHybridRecommender: URM Detected 3461 (12.4%) items with no interactions.\n"
     ]
    },
    {
     "name": "stdout",
     "output_type": "stream",
     "text": [
      "EvaluatorHoldout: Processed 40666 (100.0%) in 2.37 min. Users per second: 286\n"
     ]
    },
    {
     "name": "stdout",
     "output_type": "stream",
     "text": [
      "SearchBayesianSkopt: Config 121 is suboptimal. Config: {'alpha': 71.46027002370366, 'beta': 39.40178739165342, 'gamma': 59.85151260934518, 'theta': 68.11983683262747, 'sigma': 23.351743005404785, 'epsilon': 90.24917786208708} - results: PRECISION: 0.0510869, PRECISION_RECALL_MIN_DEN: 0.0866807, RECALL: 0.0815035, MAP: 0.0244262, MAP_MIN_DEN: 0.0406424, MRR: 0.1692475, NDCG: 0.0821989, F1: 0.0628064, HIT_RATE: 0.3495057, ARHR_ALL_HITS: 0.2020517, NOVELTY: 0.0035661, AVERAGE_POPULARITY: 0.2563302, DIVERSITY_MEAN_INTER_LIST: 0.8981006, DIVERSITY_HERFINDAHL: 0.9898079, COVERAGE_ITEM: 0.1334740, COVERAGE_ITEM_HIT: 0.0343249, ITEMS_IN_GT: 0.8701015, COVERAGE_USER: 0.9768671, COVERAGE_USER_HIT: 0.3414206, USERS_IN_GT: 0.9768671, DIVERSITY_GINI: 0.0098017, SHANNON_ENTROPY: 8.0641319, RATIO_DIVERSITY_HERFINDAHL: 0.9901343, RATIO_DIVERSITY_GINI: 0.0220039, RATIO_SHANNON_ENTROPY: 0.5976118, RATIO_AVERAGE_POPULARITY: 5.0312589, RATIO_NOVELTY: 0.2328404, \n",
      "\n",
      "Iteration No: 122 ended. Evaluation done at random point.\n",
      "Time taken: 142.4198\n",
      "Function value obtained: -0.0244\n",
      "Current minimum: -0.0262\n",
      "Iteration No: 123 started. Evaluating function at random point.\n",
      "SearchBayesianSkopt: Testing config: {'alpha': 60.658129875549946, 'beta': 86.12229465481485, 'gamma': 9.498720939857721, 'theta': 69.97515906167476, 'sigma': 91.57889199844907, 'epsilon': 37.89994925388388}\n"
     ]
    },
    {
     "name": "stdout",
     "output_type": "stream",
     "text": [
      "DifferentLossScoresHybridRecommender: URM Detected 3461 (12.4%) items with no interactions.\n"
     ]
    },
    {
     "name": "stdout",
     "output_type": "stream",
     "text": [
      "EvaluatorHoldout: Processed 40666 (100.0%) in 2.38 min. Users per second: 285\n"
     ]
    },
    {
     "name": "stdout",
     "output_type": "stream",
     "text": [
      "SearchBayesianSkopt: Config 122 is suboptimal. Config: {'alpha': 60.658129875549946, 'beta': 86.12229465481485, 'gamma': 9.498720939857721, 'theta': 69.97515906167476, 'sigma': 91.57889199844907, 'epsilon': 37.89994925388388} - results: PRECISION: 0.0454458, PRECISION_RECALL_MIN_DEN: 0.0785685, RECALL: 0.0741866, MAP: 0.0207915, MAP_MIN_DEN: 0.0354502, MRR: 0.1505840, NDCG: 0.0730860, F1: 0.0563638, HIT_RATE: 0.3261939, ARHR_ALL_HITS: 0.1761412, NOVELTY: 0.0034316, AVERAGE_POPULARITY: 0.3199190, DIVERSITY_MEAN_INTER_LIST: 0.8096894, DIVERSITY_HERFINDAHL: 0.9809670, COVERAGE_ITEM: 0.1747712, COVERAGE_ITEM_HIT: 0.0279605, ITEMS_IN_GT: 0.8701015, COVERAGE_USER: 0.9768671, COVERAGE_USER_HIT: 0.3186481, USERS_IN_GT: 0.9768671, DIVERSITY_GINI: 0.0081944, SHANNON_ENTROPY: 7.3204305, RATIO_DIVERSITY_HERFINDAHL: 0.9812905, RATIO_DIVERSITY_GINI: 0.0183957, RATIO_SHANNON_ENTROPY: 0.5424980, RATIO_AVERAGE_POPULARITY: 6.2793820, RATIO_NOVELTY: 0.2240631, \n",
      "\n",
      "Iteration No: 123 ended. Evaluation done at random point.\n",
      "Time taken: 142.8129\n",
      "Function value obtained: -0.0208\n",
      "Current minimum: -0.0262\n",
      "Iteration No: 124 started. Evaluating function at random point.\n",
      "SearchBayesianSkopt: Testing config: {'alpha': 26.612504927125, 'beta': 90.75409553885707, 'gamma': 50.45058604734665, 'theta': 83.38415122224151, 'sigma': 93.2832221035128, 'epsilon': 91.45416661198145}\n"
     ]
    },
    {
     "name": "stdout",
     "output_type": "stream",
     "text": [
      "DifferentLossScoresHybridRecommender: URM Detected 3461 (12.4%) items with no interactions.\n"
     ]
    },
    {
     "name": "stdout",
     "output_type": "stream",
     "text": [
      "EvaluatorHoldout: Processed 40666 (100.0%) in 2.37 min. Users per second: 286\n"
     ]
    },
    {
     "name": "stdout",
     "output_type": "stream",
     "text": [
      "SearchBayesianSkopt: Config 123 is suboptimal. Config: {'alpha': 26.612504927125, 'beta': 90.75409553885707, 'gamma': 50.45058604734665, 'theta': 83.38415122224151, 'sigma': 93.2832221035128, 'epsilon': 91.45416661198145} - results: PRECISION: 0.0463827, PRECISION_RECALL_MIN_DEN: 0.0799865, RECALL: 0.0755034, MAP: 0.0213799, MAP_MIN_DEN: 0.0363381, MRR: 0.1538206, NDCG: 0.0746435, F1: 0.0574644, HIT_RATE: 0.3300792, ARHR_ALL_HITS: 0.1804580, NOVELTY: 0.0034533, AVERAGE_POPULARITY: 0.3085994, DIVERSITY_MEAN_INTER_LIST: 0.8287655, DIVERSITY_HERFINDAHL: 0.9828745, COVERAGE_ITEM: 0.1699800, COVERAGE_ITEM_HIT: 0.0285684, ITEMS_IN_GT: 0.8701015, COVERAGE_USER: 0.9768671, COVERAGE_USER_HIT: 0.3224435, USERS_IN_GT: 0.9768671, DIVERSITY_GINI: 0.0082980, SHANNON_ENTROPY: 7.4506516, RATIO_DIVERSITY_HERFINDAHL: 0.9831987, RATIO_DIVERSITY_GINI: 0.0186281, RATIO_SHANNON_ENTROPY: 0.5521484, RATIO_AVERAGE_POPULARITY: 6.0571992, RATIO_NOVELTY: 0.2254796, \n",
      "\n",
      "Iteration No: 124 ended. Evaluation done at random point.\n",
      "Time taken: 142.3251\n",
      "Function value obtained: -0.0214\n",
      "Current minimum: -0.0262\n",
      "Iteration No: 125 started. Evaluating function at random point.\n",
      "SearchBayesianSkopt: Testing config: {'alpha': 99.91449241409806, 'beta': 2.8239895744873853, 'gamma': 45.3680859958365, 'theta': 82.57184755447629, 'sigma': 8.377657958412922, 'epsilon': 82.93525617547625}\n"
     ]
    },
    {
     "name": "stdout",
     "output_type": "stream",
     "text": [
      "DifferentLossScoresHybridRecommender: URM Detected 3461 (12.4%) items with no interactions.\n"
     ]
    },
    {
     "name": "stdout",
     "output_type": "stream",
     "text": [
      "EvaluatorHoldout: Processed 40666 (100.0%) in 2.38 min. Users per second: 285\n"
     ]
    },
    {
     "name": "stdout",
     "output_type": "stream",
     "text": [
      "SearchBayesianSkopt: Config 124 is suboptimal. Config: {'alpha': 99.91449241409806, 'beta': 2.8239895744873853, 'gamma': 45.3680859958365, 'theta': 82.57184755447629, 'sigma': 8.377657958412922, 'epsilon': 82.93525617547625} - results: PRECISION: 0.0533615, PRECISION_RECALL_MIN_DEN: 0.0894235, RECALL: 0.0837914, MAP: 0.0260753, MAP_MIN_DEN: 0.0426409, MRR: 0.1763549, NDCG: 0.0855775, F1: 0.0652008, HIT_RATE: 0.3557026, ARHR_ALL_HITS: 0.2129343, NOVELTY: 0.0036537, AVERAGE_POPULARITY: 0.2173140, DIVERSITY_MEAN_INTER_LIST: 0.9338151, DIVERSITY_HERFINDAHL: 0.9933792, COVERAGE_ITEM: 0.1202446, COVERAGE_ITEM_HIT: 0.0386156, ITEMS_IN_GT: 0.8701015, COVERAGE_USER: 0.9768671, COVERAGE_USER_HIT: 0.3474741, USERS_IN_GT: 0.9768671, DIVERSITY_GINI: 0.0114868, SHANNON_ENTROPY: 8.4719957, RATIO_DIVERSITY_HERFINDAHL: 0.9937068, RATIO_DIVERSITY_GINI: 0.0257867, RATIO_SHANNON_ENTROPY: 0.6278375, RATIO_AVERAGE_POPULARITY: 4.2654464, RATIO_NOVELTY: 0.2385656, \n",
      "\n",
      "Iteration No: 125 ended. Evaluation done at random point.\n",
      "Time taken: 142.7830\n",
      "Function value obtained: -0.0261\n",
      "Current minimum: -0.0262\n",
      "Iteration No: 126 started. Evaluating function at random point.\n",
      "SearchBayesianSkopt: Testing config: {'alpha': 20.180922357830482, 'beta': 4.4800726881912505, 'gamma': 80.6224291109047, 'theta': 53.15377857602832, 'sigma': 59.3542028392479, 'epsilon': 24.822671426280845}\n",
      "DifferentLossScoresHybridRecommender: URM Detected 3461 (12.4%) items with no interactions.\n"
     ]
    },
    {
     "name": "stdout",
     "output_type": "stream",
     "text": [
      "EvaluatorHoldout: Processed 40666 (100.0%) in 2.37 min. Users per second: 286\n"
     ]
    },
    {
     "name": "stdout",
     "output_type": "stream",
     "text": [
      "SearchBayesianSkopt: Config 125 is suboptimal. Config: {'alpha': 20.180922357830482, 'beta': 4.4800726881912505, 'gamma': 80.6224291109047, 'theta': 53.15377857602832, 'sigma': 59.3542028392479, 'epsilon': 24.822671426280845} - results: PRECISION: 0.0452466, PRECISION_RECALL_MIN_DEN: 0.0781586, RECALL: 0.0737674, MAP: 0.0207111, MAP_MIN_DEN: 0.0353092, MRR: 0.1500538, NDCG: 0.0727720, F1: 0.0560896, HIT_RATE: 0.3249152, ARHR_ALL_HITS: 0.1754715, NOVELTY: 0.0034390, AVERAGE_POPULARITY: 0.3178929, DIVERSITY_MEAN_INTER_LIST: 0.8126601, DIVERSITY_HERFINDAHL: 0.9812640, COVERAGE_ITEM: 0.2087386, COVERAGE_ITEM_HIT: 0.0278175, ITEMS_IN_GT: 0.8701015, COVERAGE_USER: 0.9768671, COVERAGE_USER_HIT: 0.3173989, USERS_IN_GT: 0.9768671, DIVERSITY_GINI: 0.0090546, SHANNON_ENTROPY: 7.3530954, RATIO_DIVERSITY_HERFINDAHL: 0.9815876, RATIO_DIVERSITY_GINI: 0.0203267, RATIO_SHANNON_ENTROPY: 0.5449187, RATIO_AVERAGE_POPULARITY: 6.2396134, RATIO_NOVELTY: 0.2245427, \n",
      "\n",
      "Iteration No: 126 ended. Evaluation done at random point.\n",
      "Time taken: 142.5525\n",
      "Function value obtained: -0.0207\n",
      "Current minimum: -0.0262\n",
      "Iteration No: 127 started. Evaluating function at random point.\n",
      "SearchBayesianSkopt: Testing config: {'alpha': 28.645338316157837, 'beta': 61.580370370252204, 'gamma': 46.95793504780562, 'theta': 35.89436362095109, 'sigma': 10.023999459986946, 'epsilon': 27.71206344803395}\n"
     ]
    },
    {
     "name": "stdout",
     "output_type": "stream",
     "text": [
      "DifferentLossScoresHybridRecommender: URM Detected 3461 (12.4%) items with no interactions.\n"
     ]
    },
    {
     "name": "stdout",
     "output_type": "stream",
     "text": [
      "EvaluatorHoldout: Processed 40666 (100.0%) in 2.37 min. Users per second: 286\n"
     ]
    },
    {
     "name": "stdout",
     "output_type": "stream",
     "text": [
      "SearchBayesianSkopt: Config 126 is suboptimal. Config: {'alpha': 28.645338316157837, 'beta': 61.580370370252204, 'gamma': 46.95793504780562, 'theta': 35.89436362095109, 'sigma': 10.023999459986946, 'epsilon': 27.71206344803395} - results: PRECISION: 0.0525476, PRECISION_RECALL_MIN_DEN: 0.0890195, RECALL: 0.0836366, MAP: 0.0252433, MAP_MIN_DEN: 0.0419714, MRR: 0.1732188, NDCG: 0.0844929, F1: 0.0645435, HIT_RATE: 0.3555058, ARHR_ALL_HITS: 0.2077267, NOVELTY: 0.0035834, AVERAGE_POPULARITY: 0.2571553, DIVERSITY_MEAN_INTER_LIST: 0.8955394, DIVERSITY_HERFINDAHL: 0.9895517, COVERAGE_ITEM: 0.1422697, COVERAGE_ITEM_HIT: 0.0389016, ITEMS_IN_GT: 0.8701015, COVERAGE_USER: 0.9768671, COVERAGE_USER_HIT: 0.3472819, USERS_IN_GT: 0.9768671, DIVERSITY_GINI: 0.0111588, SHANNON_ENTROPY: 8.1559654, RATIO_DIVERSITY_HERFINDAHL: 0.9898781, RATIO_DIVERSITY_GINI: 0.0250503, RATIO_SHANNON_ENTROPY: 0.6044173, RATIO_AVERAGE_POPULARITY: 5.0474522, RATIO_NOVELTY: 0.2339729, \n",
      "\n",
      "Iteration No: 127 ended. Evaluation done at random point.\n",
      "Time taken: 142.4995\n",
      "Function value obtained: -0.0252\n",
      "Current minimum: -0.0262\n",
      "Iteration No: 128 started. Evaluating function at random point.\n",
      "SearchBayesianSkopt: Testing config: {'alpha': 10.230984544947788, 'beta': 39.35195354195658, 'gamma': 44.3786026915167, 'theta': 10.220548677036625, 'sigma': 91.87151785757344, 'epsilon': 2.0378025784493885}\n",
      "DifferentLossScoresHybridRecommender: URM Detected 3461 (12.4%) items with no interactions.\n"
     ]
    },
    {
     "name": "stdout",
     "output_type": "stream",
     "text": [
      "EvaluatorHoldout: Processed 40666 (100.0%) in 2.37 min. Users per second: 286\n"
     ]
    },
    {
     "name": "stdout",
     "output_type": "stream",
     "text": [
      "SearchBayesianSkopt: Config 127 is suboptimal. Config: {'alpha': 10.230984544947788, 'beta': 39.35195354195658, 'gamma': 44.3786026915167, 'theta': 10.220548677036625, 'sigma': 91.87151785757344, 'epsilon': 2.0378025784493885} - results: PRECISION: 0.0435573, PRECISION_RECALL_MIN_DEN: 0.0756081, RECALL: 0.0714234, MAP: 0.0196572, MAP_MIN_DEN: 0.0336791, MRR: 0.1441160, NDCG: 0.0698902, F1: 0.0541136, HIT_RATE: 0.3167757, ARHR_ALL_HITS: 0.1675870, NOVELTY: 0.0034019, AVERAGE_POPULARITY: 0.3339098, DIVERSITY_MEAN_INTER_LIST: 0.7843907, DIVERSITY_HERFINDAHL: 0.9784371, COVERAGE_ITEM: 0.2099900, COVERAGE_ITEM_HIT: 0.0255649, ITEMS_IN_GT: 0.8701015, COVERAGE_USER: 0.9768671, COVERAGE_USER_HIT: 0.3094477, USERS_IN_GT: 0.9768671, DIVERSITY_GINI: 0.0084140, SHANNON_ENTROPY: 7.1210243, RATIO_DIVERSITY_HERFINDAHL: 0.9787598, RATIO_DIVERSITY_GINI: 0.0188887, RATIO_SHANNON_ENTROPY: 0.5277206, RATIO_AVERAGE_POPULARITY: 6.5539924, RATIO_NOVELTY: 0.2221217, \n",
      "\n",
      "Iteration No: 128 ended. Evaluation done at random point.\n",
      "Time taken: 142.5605\n",
      "Function value obtained: -0.0197\n",
      "Current minimum: -0.0262\n",
      "Iteration No: 129 started. Evaluating function at random point.\n",
      "SearchBayesianSkopt: Testing config: {'alpha': 8.719556812272469, 'beta': 68.20594861203573, 'gamma': 26.9031934187916, 'theta': 51.55762329584641, 'sigma': 88.04810004488658, 'epsilon': 62.89587582684707}\n"
     ]
    },
    {
     "name": "stdout",
     "output_type": "stream",
     "text": [
      "DifferentLossScoresHybridRecommender: URM Detected 3461 (12.4%) items with no interactions.\n"
     ]
    },
    {
     "name": "stdout",
     "output_type": "stream",
     "text": [
      "EvaluatorHoldout: Processed 40666 (100.0%) in 2.38 min. Users per second: 285\n"
     ]
    },
    {
     "name": "stdout",
     "output_type": "stream",
     "text": [
      "SearchBayesianSkopt: Config 128 is suboptimal. Config: {'alpha': 8.719556812272469, 'beta': 68.20594861203573, 'gamma': 26.9031934187916, 'theta': 51.55762329584641, 'sigma': 88.04810004488658, 'epsilon': 62.89587582684707} - results: PRECISION: 0.0452688, PRECISION_RECALL_MIN_DEN: 0.0782246, RECALL: 0.0738534, MAP: 0.0207294, MAP_MIN_DEN: 0.0353280, MRR: 0.1502229, NDCG: 0.0728272, F1: 0.0561315, HIT_RATE: 0.3249152, ARHR_ALL_HITS: 0.1756616, NOVELTY: 0.0034348, AVERAGE_POPULARITY: 0.3169184, DIVERSITY_MEAN_INTER_LIST: 0.8152054, DIVERSITY_HERFINDAHL: 0.9815185, COVERAGE_ITEM: 0.1777031, COVERAGE_ITEM_HIT: 0.0270309, ITEMS_IN_GT: 0.8701015, COVERAGE_USER: 0.9768671, COVERAGE_USER_HIT: 0.3173989, USERS_IN_GT: 0.9768671, DIVERSITY_GINI: 0.0080875, SHANNON_ENTROPY: 7.3370431, RATIO_DIVERSITY_HERFINDAHL: 0.9818422, RATIO_DIVERSITY_GINI: 0.0181555, RATIO_SHANNON_ENTROPY: 0.5437291, RATIO_AVERAGE_POPULARITY: 6.2204853, RATIO_NOVELTY: 0.2242686, \n",
      "\n",
      "Iteration No: 129 ended. Evaluation done at random point.\n",
      "Time taken: 142.9250\n",
      "Function value obtained: -0.0207\n",
      "Current minimum: -0.0262\n",
      "Iteration No: 130 started. Evaluating function at random point.\n",
      "SearchBayesianSkopt: Testing config: {'alpha': 48.56154444646923, 'beta': 6.118391064775166, 'gamma': 66.84288701869117, 'theta': 28.19702764543846, 'sigma': 49.631699350678346, 'epsilon': 43.264766241231776}\n"
     ]
    },
    {
     "name": "stdout",
     "output_type": "stream",
     "text": [
      "DifferentLossScoresHybridRecommender: URM Detected 3461 (12.4%) items with no interactions.\n"
     ]
    },
    {
     "name": "stdout",
     "output_type": "stream",
     "text": [
      "EvaluatorHoldout: Processed 40666 (100.0%) in 2.37 min. Users per second: 286\n"
     ]
    },
    {
     "name": "stdout",
     "output_type": "stream",
     "text": [
      "SearchBayesianSkopt: Config 129 is suboptimal. Config: {'alpha': 48.56154444646923, 'beta': 6.118391064775166, 'gamma': 66.84288701869117, 'theta': 28.19702764543846, 'sigma': 49.631699350678346, 'epsilon': 43.264766241231776} - results: PRECISION: 0.0463532, PRECISION_RECALL_MIN_DEN: 0.0799923, RECALL: 0.0754989, MAP: 0.0213109, MAP_MIN_DEN: 0.0362342, MRR: 0.1532880, NDCG: 0.0744963, F1: 0.0574404, HIT_RATE: 0.3302513, ARHR_ALL_HITS: 0.1798561, NOVELTY: 0.0034564, AVERAGE_POPULARITY: 0.3087009, DIVERSITY_MEAN_INTER_LIST: 0.8280673, DIVERSITY_HERFINDAHL: 0.9828047, COVERAGE_ITEM: 0.1891447, COVERAGE_ITEM_HIT: 0.0288902, ITEMS_IN_GT: 0.8701015, COVERAGE_USER: 0.9768671, COVERAGE_USER_HIT: 0.3226116, USERS_IN_GT: 0.9768671, DIVERSITY_GINI: 0.0088288, SHANNON_ENTROPY: 7.4632217, RATIO_DIVERSITY_HERFINDAHL: 0.9831288, RATIO_DIVERSITY_GINI: 0.0198198, RATIO_SHANNON_ENTROPY: 0.5530799, RATIO_AVERAGE_POPULARITY: 6.0591918, RATIO_NOVELTY: 0.2256827, \n",
      "\n",
      "Iteration No: 130 ended. Evaluation done at random point.\n",
      "Time taken: 142.4829\n",
      "Function value obtained: -0.0213\n",
      "Current minimum: -0.0262\n",
      "Iteration No: 131 started. Evaluating function at random point.\n",
      "SearchBayesianSkopt: Testing config: {'alpha': 15.227100036771526, 'beta': 84.7395464305441, 'gamma': 60.25148960756361, 'theta': 72.86479767607119, 'sigma': 91.34155340018589, 'epsilon': 4.3594785478725315}\n",
      "DifferentLossScoresHybridRecommender: URM Detected 3461 (12.4%) items with no interactions.\n"
     ]
    },
    {
     "name": "stdout",
     "output_type": "stream",
     "text": [
      "EvaluatorHoldout: Processed 40666 (100.0%) in 2.38 min. Users per second: 284\n"
     ]
    },
    {
     "name": "stdout",
     "output_type": "stream",
     "text": [
      "SearchBayesianSkopt: Config 130 is suboptimal. Config: {'alpha': 15.227100036771526, 'beta': 84.7395464305441, 'gamma': 60.25148960756361, 'theta': 72.86479767607119, 'sigma': 91.34155340018589, 'epsilon': 4.3594785478725315} - results: PRECISION: 0.0447647, PRECISION_RECALL_MIN_DEN: 0.0775791, RECALL: 0.0732697, MAP: 0.0203960, MAP_MIN_DEN: 0.0348405, MRR: 0.1485012, NDCG: 0.0720008, F1: 0.0555752, HIT_RATE: 0.3229233, ARHR_ALL_HITS: 0.1732697, NOVELTY: 0.0034201, AVERAGE_POPULARITY: 0.3268197, DIVERSITY_MEAN_INTER_LIST: 0.7971043, DIVERSITY_HERFINDAHL: 0.9797085, COVERAGE_ITEM: 0.1978332, COVERAGE_ITEM_HIT: 0.0276387, ITEMS_IN_GT: 0.8701015, COVERAGE_USER: 0.9768671, COVERAGE_USER_HIT: 0.3154532, USERS_IN_GT: 0.9768671, DIVERSITY_GINI: 0.0085883, SHANNON_ENTROPY: 7.2404862, RATIO_DIVERSITY_HERFINDAHL: 0.9800316, RATIO_DIVERSITY_GINI: 0.0192799, RATIO_SHANNON_ENTROPY: 0.5365736, RATIO_AVERAGE_POPULARITY: 6.4148278, RATIO_NOVELTY: 0.2233075, \n",
      "\n",
      "Iteration No: 131 ended. Evaluation done at random point.\n",
      "Time taken: 143.2753\n",
      "Function value obtained: -0.0204\n",
      "Current minimum: -0.0262\n",
      "Iteration No: 132 started. Evaluating function at random point.\n",
      "SearchBayesianSkopt: Testing config: {'alpha': 45.22587828286218, 'beta': 29.005321677575076, 'gamma': 84.79118831790696, 'theta': 59.125124493754335, 'sigma': 91.49600430755186, 'epsilon': 83.4104960786933}\n"
     ]
    },
    {
     "name": "stdout",
     "output_type": "stream",
     "text": [
      "DifferentLossScoresHybridRecommender: URM Detected 3461 (12.4%) items with no interactions.\n"
     ]
    },
    {
     "name": "stdout",
     "output_type": "stream",
     "text": [
      "EvaluatorHoldout: Processed 40666 (100.0%) in 2.37 min. Users per second: 286\n"
     ]
    },
    {
     "name": "stdout",
     "output_type": "stream",
     "text": [
      "SearchBayesianSkopt: Config 131 is suboptimal. Config: {'alpha': 45.22587828286218, 'beta': 29.005321677575076, 'gamma': 84.79118831790696, 'theta': 59.125124493754335, 'sigma': 91.49600430755186, 'epsilon': 83.4104960786933} - results: PRECISION: 0.0459426, PRECISION_RECALL_MIN_DEN: 0.0793640, RECALL: 0.0749209, MAP: 0.0210817, MAP_MIN_DEN: 0.0358641, MRR: 0.1519465, NDCG: 0.0738349, F1: 0.0569578, HIT_RATE: 0.3280873, ARHR_ALL_HITS: 0.1781257, NOVELTY: 0.0034501, AVERAGE_POPULARITY: 0.3103955, DIVERSITY_MEAN_INTER_LIST: 0.8257271, DIVERSITY_HERFINDAHL: 0.9825707, COVERAGE_ITEM: 0.1836742, COVERAGE_ITEM_HIT: 0.0278890, ITEMS_IN_GT: 0.8701015, COVERAGE_USER: 0.9768671, COVERAGE_USER_HIT: 0.3204977, USERS_IN_GT: 0.9768671, DIVERSITY_GINI: 0.0084968, SHANNON_ENTROPY: 7.4273076, RATIO_DIVERSITY_HERFINDAHL: 0.9828947, RATIO_DIVERSITY_GINI: 0.0190744, RATIO_SHANNON_ENTROPY: 0.5504184, RATIO_AVERAGE_POPULARITY: 6.0924530, RATIO_NOVELTY: 0.2252723, \n",
      "\n",
      "Iteration No: 132 ended. Evaluation done at random point.\n",
      "Time taken: 142.4350\n",
      "Function value obtained: -0.0211\n",
      "Current minimum: -0.0262\n",
      "Iteration No: 133 started. Evaluating function at random point.\n",
      "SearchBayesianSkopt: Testing config: {'alpha': 15.688795994693509, 'beta': 67.64425614938388, 'gamma': 85.22225386737195, 'theta': 92.90766933029518, 'sigma': 44.82646981776399, 'epsilon': 18.711127492520788}\n"
     ]
    },
    {
     "name": "stdout",
     "output_type": "stream",
     "text": [
      "DifferentLossScoresHybridRecommender: URM Detected 3461 (12.4%) items with no interactions.\n"
     ]
    },
    {
     "name": "stdout",
     "output_type": "stream",
     "text": [
      "EvaluatorHoldout: Processed 40666 (100.0%) in 2.39 min. Users per second: 283\n"
     ]
    },
    {
     "name": "stdout",
     "output_type": "stream",
     "text": [
      "SearchBayesianSkopt: Config 132 is suboptimal. Config: {'alpha': 15.688795994693509, 'beta': 67.64425614938388, 'gamma': 85.22225386737195, 'theta': 92.90766933029518, 'sigma': 44.82646981776399, 'epsilon': 18.711127492520788} - results: PRECISION: 0.0474647, PRECISION_RECALL_MIN_DEN: 0.0816453, RECALL: 0.0770119, MAP: 0.0220263, MAP_MIN_DEN: 0.0373818, MRR: 0.1573739, NDCG: 0.0764535, F1: 0.0587315, HIT_RATE: 0.3352924, ARHR_ALL_HITS: 0.1852046, NOVELTY: 0.0034696, AVERAGE_POPULARITY: 0.3063796, DIVERSITY_MEAN_INTER_LIST: 0.8307304, DIVERSITY_HERFINDAHL: 0.9830710, COVERAGE_ITEM: 0.1883224, COVERAGE_ITEM_HIT: 0.0317506, ITEMS_IN_GT: 0.8701015, COVERAGE_USER: 0.9768671, COVERAGE_USER_HIT: 0.3275361, USERS_IN_GT: 0.9768671, DIVERSITY_GINI: 0.0094694, SHANNON_ENTROPY: 7.5410708, RATIO_DIVERSITY_HERFINDAHL: 0.9833952, RATIO_DIVERSITY_GINI: 0.0212578, RATIO_SHANNON_ENTROPY: 0.5588491, RATIO_AVERAGE_POPULARITY: 6.0136289, RATIO_NOVELTY: 0.2265403, \n",
      "\n",
      "Iteration No: 133 ended. Evaluation done at random point.\n",
      "Time taken: 143.6835\n",
      "Function value obtained: -0.0220\n",
      "Current minimum: -0.0262\n",
      "Iteration No: 134 started. Evaluating function at random point.\n",
      "SearchBayesianSkopt: Testing config: {'alpha': 28.34401933432628, 'beta': 69.13357023879934, 'gamma': 28.512891796129864, 'theta': 52.50287707188759, 'sigma': 33.064378045181904, 'epsilon': 34.26560974018317}\n"
     ]
    },
    {
     "name": "stdout",
     "output_type": "stream",
     "text": [
      "DifferentLossScoresHybridRecommender: URM Detected 3461 (12.4%) items with no interactions.\n"
     ]
    },
    {
     "name": "stdout",
     "output_type": "stream",
     "text": [
      "EvaluatorHoldout: Processed 40666 (100.0%) in 2.39 min. Users per second: 284\n"
     ]
    },
    {
     "name": "stdout",
     "output_type": "stream",
     "text": [
      "SearchBayesianSkopt: Config 133 is suboptimal. Config: {'alpha': 28.34401933432628, 'beta': 69.13357023879934, 'gamma': 28.512891796129864, 'theta': 52.50287707188759, 'sigma': 33.064378045181904, 'epsilon': 34.26560974018317} - results: PRECISION: 0.0481287, PRECISION_RECALL_MIN_DEN: 0.0826737, RECALL: 0.0779622, MAP: 0.0224447, MAP_MIN_DEN: 0.0379562, MRR: 0.1597084, NDCG: 0.0775356, F1: 0.0595161, HIT_RATE: 0.3383662, ARHR_ALL_HITS: 0.1883283, NOVELTY: 0.0034794, AVERAGE_POPULARITY: 0.2992060, DIVERSITY_MEAN_INTER_LIST: 0.8425819, DIVERSITY_HERFINDAHL: 0.9842561, COVERAGE_ITEM: 0.1566433, COVERAGE_ITEM_HIT: 0.0316433, ITEMS_IN_GT: 0.8701015, COVERAGE_USER: 0.9768671, COVERAGE_USER_HIT: 0.3305388, USERS_IN_GT: 0.9768671, DIVERSITY_GINI: 0.0088475, SHANNON_ENTROPY: 7.6059521, RATIO_DIVERSITY_HERFINDAHL: 0.9845807, RATIO_DIVERSITY_GINI: 0.0198617, RATIO_SHANNON_ENTROPY: 0.5636573, RATIO_AVERAGE_POPULARITY: 5.8728259, RATIO_NOVELTY: 0.2271792, \n",
      "\n",
      "Iteration No: 134 ended. Evaluation done at random point.\n",
      "Time taken: 143.3253\n",
      "Function value obtained: -0.0224\n",
      "Current minimum: -0.0262\n",
      "Iteration No: 135 started. Evaluating function at random point.\n",
      "SearchBayesianSkopt: Testing config: {'alpha': 65.9385326279168, 'beta': 86.1365034775505, 'gamma': 47.211997140703374, 'theta': 7.844581399405539, 'sigma': 11.579255236475975, 'epsilon': 2.1549230143779634}\n"
     ]
    },
    {
     "name": "stdout",
     "output_type": "stream",
     "text": [
      "DifferentLossScoresHybridRecommender: URM Detected 3461 (12.4%) items with no interactions.\n"
     ]
    },
    {
     "name": "stdout",
     "output_type": "stream",
     "text": [
      "EvaluatorHoldout: Processed 40666 (100.0%) in 2.39 min. Users per second: 284\n"
     ]
    },
    {
     "name": "stdout",
     "output_type": "stream",
     "text": [
      "SearchBayesianSkopt: Config 134 is suboptimal. Config: {'alpha': 65.9385326279168, 'beta': 86.1365034775505, 'gamma': 47.211997140703374, 'theta': 7.844581399405539, 'sigma': 11.579255236475975, 'epsilon': 2.1549230143779634} - results: PRECISION: 0.0519254, PRECISION_RECALL_MIN_DEN: 0.0884807, RECALL: 0.0832709, MAP: 0.0247925, MAP_MIN_DEN: 0.0415125, MRR: 0.1713799, NDCG: 0.0836886, F1: 0.0639644, HIT_RATE: 0.3536615, ARHR_ALL_HITS: 0.2048415, NOVELTY: 0.0035548, AVERAGE_POPULARITY: 0.2803646, DIVERSITY_MEAN_INTER_LIST: 0.8648903, DIVERSITY_HERFINDAHL: 0.9864869, COVERAGE_ITEM: 0.1545695, COVERAGE_ITEM_HIT: 0.0410469, ITEMS_IN_GT: 0.8701015, COVERAGE_USER: 0.9768671, COVERAGE_USER_HIT: 0.3454803, USERS_IN_GT: 0.9768671, DIVERSITY_GINI: 0.0120332, SHANNON_ENTROPY: 8.0084104, RATIO_DIVERSITY_HERFINDAHL: 0.9868122, RATIO_DIVERSITY_GINI: 0.0270134, RATIO_SHANNON_ENTROPY: 0.5934824, RATIO_AVERAGE_POPULARITY: 5.5030056, RATIO_NOVELTY: 0.2321044, \n",
      "\n",
      "Iteration No: 135 ended. Evaluation done at random point.\n",
      "Time taken: 143.6333\n",
      "Function value obtained: -0.0248\n",
      "Current minimum: -0.0262\n",
      "Iteration No: 136 started. Evaluating function at random point.\n",
      "SearchBayesianSkopt: Testing config: {'alpha': 18.308879033418894, 'beta': 99.25741692571656, 'gamma': 55.23802007578216, 'theta': 83.93954284720411, 'sigma': 3.1165130971792863, 'epsilon': 86.39703685312118}\n"
     ]
    },
    {
     "name": "stdout",
     "output_type": "stream",
     "text": [
      "DifferentLossScoresHybridRecommender: URM Detected 3461 (12.4%) items with no interactions.\n"
     ]
    },
    {
     "name": "stdout",
     "output_type": "stream",
     "text": [
      "EvaluatorHoldout: Processed 40666 (100.0%) in 2.39 min. Users per second: 283\n"
     ]
    },
    {
     "name": "stdout",
     "output_type": "stream",
     "text": [
      "SearchBayesianSkopt: Config 135 is suboptimal. Config: {'alpha': 18.308879033418894, 'beta': 99.25741692571656, 'gamma': 55.23802007578216, 'theta': 83.93954284720411, 'sigma': 3.1165130971792863, 'epsilon': 86.39703685312118} - results: PRECISION: 0.0542615, PRECISION_RECALL_MIN_DEN: 0.0903081, RECALL: 0.0844166, MAP: 0.0266281, MAP_MIN_DEN: 0.0432562, MRR: 0.1781652, NDCG: 0.0866307, F1: 0.0660605, HIT_RATE: 0.3581370, ARHR_ALL_HITS: 0.2162241, NOVELTY: 0.0037049, AVERAGE_POPULARITY: 0.1964915, DIVERSITY_MEAN_INTER_LIST: 0.9480343, DIVERSITY_HERFINDAHL: 0.9948011, COVERAGE_ITEM: 0.1098041, COVERAGE_ITEM_HIT: 0.0424056, ITEMS_IN_GT: 0.8701015, COVERAGE_USER: 0.9768671, COVERAGE_USER_HIT: 0.3498523, USERS_IN_GT: 0.9768671, DIVERSITY_GINI: 0.0125816, SHANNON_ENTROPY: 8.6851680, RATIO_DIVERSITY_HERFINDAHL: 0.9951292, RATIO_DIVERSITY_GINI: 0.0282444, RATIO_SHANNON_ENTROPY: 0.6436352, RATIO_AVERAGE_POPULARITY: 3.8567411, RATIO_NOVELTY: 0.2419066, \n",
      "\n",
      "Iteration No: 136 ended. Evaluation done at random point.\n",
      "Time taken: 143.7107\n",
      "Function value obtained: -0.0266\n",
      "Current minimum: -0.0266\n",
      "Iteration No: 137 started. Evaluating function at random point.\n",
      "SearchBayesianSkopt: Testing config: {'alpha': 33.523653457789734, 'beta': 6.407979882642602, 'gamma': 50.664272555466475, 'theta': 36.05962992160688, 'sigma': 2.126203321362508, 'epsilon': 57.42073820010779}\n",
      "DifferentLossScoresHybridRecommender: URM Detected 3461 (12.4%) items with no interactions.\n"
     ]
    },
    {
     "name": "stdout",
     "output_type": "stream",
     "text": [
      "EvaluatorHoldout: Processed 40666 (100.0%) in 2.39 min. Users per second: 284\n"
     ]
    },
    {
     "name": "stdout",
     "output_type": "stream",
     "text": [
      "SearchBayesianSkopt: Config 136 is suboptimal. Config: {'alpha': 33.523653457789734, 'beta': 6.407979882642602, 'gamma': 50.664272555466475, 'theta': 36.05962992160688, 'sigma': 2.126203321362508, 'epsilon': 57.42073820010779} - results: PRECISION: 0.0529730, PRECISION_RECALL_MIN_DEN: 0.0882765, RECALL: 0.0825143, MAP: 0.0259177, MAP_MIN_DEN: 0.0421160, MRR: 0.1740154, NDCG: 0.0845354, F1: 0.0645231, HIT_RATE: 0.3513008, ARHR_ALL_HITS: 0.2108627, NOVELTY: 0.0037020, AVERAGE_POPULARITY: 0.1925310, DIVERSITY_MEAN_INTER_LIST: 0.9503858, DIVERSITY_HERFINDAHL: 0.9950362, COVERAGE_ITEM: 0.1104119, COVERAGE_ITEM_HIT: 0.0396167, ITEMS_IN_GT: 0.8701015, COVERAGE_USER: 0.9768671, COVERAGE_USER_HIT: 0.3431742, USERS_IN_GT: 0.9768671, DIVERSITY_GINI: 0.0119429, SHANNON_ENTROPY: 8.6506934, RATIO_DIVERSITY_HERFINDAHL: 0.9953644, RATIO_DIVERSITY_GINI: 0.0268106, RATIO_SHANNON_ENTROPY: 0.6410803, RATIO_AVERAGE_POPULARITY: 3.7790048, RATIO_NOVELTY: 0.2417159, \n",
      "\n",
      "Iteration No: 137 ended. Evaluation done at random point.\n",
      "Time taken: 143.4371\n",
      "Function value obtained: -0.0259\n",
      "Current minimum: -0.0266\n",
      "Iteration No: 138 started. Evaluating function at random point.\n",
      "SearchBayesianSkopt: Testing config: {'alpha': 69.5231656818909, 'beta': 43.91730245255216, 'gamma': 1.5643261406921076, 'theta': 96.306396024633, 'sigma': 75.42078346840624, 'epsilon': 49.57340294479135}\n"
     ]
    },
    {
     "name": "stdout",
     "output_type": "stream",
     "text": [
      "DifferentLossScoresHybridRecommender: URM Detected 3461 (12.4%) items with no interactions.\n"
     ]
    },
    {
     "name": "stdout",
     "output_type": "stream",
     "text": [
      "EvaluatorHoldout: Processed 40666 (100.0%) in 2.38 min. Users per second: 285\n"
     ]
    },
    {
     "name": "stdout",
     "output_type": "stream",
     "text": [
      "SearchBayesianSkopt: Config 137 is suboptimal. Config: {'alpha': 69.5231656818909, 'beta': 43.91730245255216, 'gamma': 1.5643261406921076, 'theta': 96.306396024633, 'sigma': 75.42078346840624, 'epsilon': 49.57340294479135} - results: PRECISION: 0.0461245, PRECISION_RECALL_MIN_DEN: 0.0796183, RECALL: 0.0751589, MAP: 0.0212154, MAP_MIN_DEN: 0.0360871, MRR: 0.1529321, NDCG: 0.0742221, F1: 0.0571664, HIT_RATE: 0.3289234, ARHR_ALL_HITS: 0.1792807, NOVELTY: 0.0034454, AVERAGE_POPULARITY: 0.3131210, DIVERSITY_MEAN_INTER_LIST: 0.8211853, DIVERSITY_HERFINDAHL: 0.9821165, COVERAGE_ITEM: 0.1712672, COVERAGE_ITEM_HIT: 0.0287114, ITEMS_IN_GT: 0.8701015, COVERAGE_USER: 0.9768671, COVERAGE_USER_HIT: 0.3213145, USERS_IN_GT: 0.9768671, DIVERSITY_GINI: 0.0083190, SHANNON_ENTROPY: 7.4052981, RATIO_DIVERSITY_HERFINDAHL: 0.9824404, RATIO_DIVERSITY_GINI: 0.0186753, RATIO_SHANNON_ENTROPY: 0.5487873, RATIO_AVERAGE_POPULARITY: 6.1459494, RATIO_NOVELTY: 0.2249591, \n",
      "\n",
      "Iteration No: 138 ended. Evaluation done at random point.\n",
      "Time taken: 143.0344\n",
      "Function value obtained: -0.0212\n",
      "Current minimum: -0.0266\n",
      "Iteration No: 139 started. Evaluating function at random point.\n",
      "SearchBayesianSkopt: Testing config: {'alpha': 92.14206011389734, 'beta': 45.83116219933993, 'gamma': 12.79272317938446, 'theta': 69.91566496445928, 'sigma': 45.76397198695618, 'epsilon': 10.96884057385448}\n"
     ]
    },
    {
     "name": "stdout",
     "output_type": "stream",
     "text": [
      "DifferentLossScoresHybridRecommender: URM Detected 3461 (12.4%) items with no interactions.\n"
     ]
    },
    {
     "name": "stdout",
     "output_type": "stream",
     "text": [
      "EvaluatorHoldout: Processed 40666 (100.0%) in 2.39 min. Users per second: 283\n"
     ]
    },
    {
     "name": "stdout",
     "output_type": "stream",
     "text": [
      "SearchBayesianSkopt: Config 138 is suboptimal. Config: {'alpha': 92.14206011389734, 'beta': 45.83116219933993, 'gamma': 12.79272317938446, 'theta': 69.91566496445928, 'sigma': 45.76397198695618, 'epsilon': 10.96884057385448} - results: PRECISION: 0.0470221, PRECISION_RECALL_MIN_DEN: 0.0810605, RECALL: 0.0765074, MAP: 0.0217109, MAP_MIN_DEN: 0.0369101, MRR: 0.1559351, NDCG: 0.0757112, F1: 0.0582458, HIT_RATE: 0.3340137, ARHR_ALL_HITS: 0.1830715, NOVELTY: 0.0034531, AVERAGE_POPULARITY: 0.3131447, DIVERSITY_MEAN_INTER_LIST: 0.8200847, DIVERSITY_HERFINDAHL: 0.9820065, COVERAGE_ITEM: 0.1686213, COVERAGE_ITEM_HIT: 0.0314288, ITEMS_IN_GT: 0.8701015, COVERAGE_USER: 0.9768671, COVERAGE_USER_HIT: 0.3262870, USERS_IN_GT: 0.9768671, DIVERSITY_GINI: 0.0088435, SHANNON_ENTROPY: 7.4518541, RATIO_DIVERSITY_HERFINDAHL: 0.9823303, RATIO_DIVERSITY_GINI: 0.0198528, RATIO_SHANNON_ENTROPY: 0.5522375, RATIO_AVERAGE_POPULARITY: 6.1464149, RATIO_NOVELTY: 0.2254643, \n",
      "\n",
      "Iteration No: 139 ended. Evaluation done at random point.\n",
      "Time taken: 143.8463\n",
      "Function value obtained: -0.0217\n",
      "Current minimum: -0.0266\n",
      "Iteration No: 140 started. Evaluating function at random point.\n",
      "SearchBayesianSkopt: Testing config: {'alpha': 60.14976051268324, 'beta': 0.8764054156890635, 'gamma': 15.265703010194267, 'theta': 3.368433640548386, 'sigma': 39.22068395218642, 'epsilon': 61.95100941197018}\n"
     ]
    },
    {
     "name": "stdout",
     "output_type": "stream",
     "text": [
      "DifferentLossScoresHybridRecommender: URM Detected 3461 (12.4%) items with no interactions.\n"
     ]
    },
    {
     "name": "stdout",
     "output_type": "stream",
     "text": [
      "EvaluatorHoldout: Processed 40666 (100.0%) in 2.39 min. Users per second: 284\n"
     ]
    },
    {
     "name": "stdout",
     "output_type": "stream",
     "text": [
      "SearchBayesianSkopt: Config 139 is suboptimal. Config: {'alpha': 60.14976051268324, 'beta': 0.8764054156890635, 'gamma': 15.265703010194267, 'theta': 3.368433640548386, 'sigma': 39.22068395218642, 'epsilon': 61.95100941197018} - results: PRECISION: 0.0466877, PRECISION_RECALL_MIN_DEN: 0.0803965, RECALL: 0.0758556, MAP: 0.0215841, MAP_MIN_DEN: 0.0366342, MRR: 0.1549793, NDCG: 0.0751576, F1: 0.0578003, HIT_RATE: 0.3315546, ARHR_ALL_HITS: 0.1819880, NOVELTY: 0.0034664, AVERAGE_POPULARITY: 0.3003502, DIVERSITY_MEAN_INTER_LIST: 0.8419729, DIVERSITY_HERFINDAHL: 0.9841952, COVERAGE_ITEM: 0.1572511, COVERAGE_ITEM_HIT: 0.0283181, ITEMS_IN_GT: 0.8701015, COVERAGE_USER: 0.9768671, COVERAGE_USER_HIT: 0.3238848, USERS_IN_GT: 0.9768671, DIVERSITY_GINI: 0.0081073, SHANNON_ENTROPY: 7.5278386, RATIO_DIVERSITY_HERFINDAHL: 0.9845198, RATIO_DIVERSITY_GINI: 0.0182001, RATIO_SHANNON_ENTROPY: 0.5578685, RATIO_AVERAGE_POPULARITY: 5.8952834, RATIO_NOVELTY: 0.2263351, \n",
      "\n",
      "Iteration No: 140 ended. Evaluation done at random point.\n",
      "Time taken: 143.3124\n",
      "Function value obtained: -0.0216\n",
      "Current minimum: -0.0266\n",
      "Iteration No: 141 started. Evaluating function at random point.\n",
      "SearchBayesianSkopt: Testing config: {'alpha': 0.9899420856821941, 'beta': 69.8686125654289, 'gamma': 99.62305618696743, 'theta': 25.298716901433643, 'sigma': 88.70867214755434, 'epsilon': 25.89736853296077}\n"
     ]
    },
    {
     "name": "stdout",
     "output_type": "stream",
     "text": [
      "DifferentLossScoresHybridRecommender: URM Detected 3461 (12.4%) items with no interactions.\n"
     ]
    },
    {
     "name": "stdout",
     "output_type": "stream",
     "text": [
      "EvaluatorHoldout: Processed 40666 (100.0%) in 2.39 min. Users per second: 284\n"
     ]
    },
    {
     "name": "stdout",
     "output_type": "stream",
     "text": [
      "SearchBayesianSkopt: Config 140 is suboptimal. Config: {'alpha': 0.9899420856821941, 'beta': 69.8686125654289, 'gamma': 99.62305618696743, 'theta': 25.298716901433643, 'sigma': 88.70867214755434, 'epsilon': 25.89736853296077} - results: PRECISION: 0.0447868, PRECISION_RECALL_MIN_DEN: 0.0775171, RECALL: 0.0732037, MAP: 0.0204231, MAP_MIN_DEN: 0.0348348, MRR: 0.1485291, NDCG: 0.0719896, F1: 0.0555733, HIT_RATE: 0.3226528, ARHR_ALL_HITS: 0.1733992, NOVELTY: 0.0034254, AVERAGE_POPULARITY: 0.3237938, DIVERSITY_MEAN_INTER_LIST: 0.8026266, DIVERSITY_HERFINDAHL: 0.9802607, COVERAGE_ITEM: 0.2030535, COVERAGE_ITEM_HIT: 0.0272454, ITEMS_IN_GT: 0.8701015, COVERAGE_USER: 0.9768671, COVERAGE_USER_HIT: 0.3151889, USERS_IN_GT: 0.9768671, DIVERSITY_GINI: 0.0086808, SHANNON_ENTROPY: 7.2710589, RATIO_DIVERSITY_HERFINDAHL: 0.9805840, RATIO_DIVERSITY_GINI: 0.0194875, RATIO_SHANNON_ENTROPY: 0.5388392, RATIO_AVERAGE_POPULARITY: 6.3554363, RATIO_NOVELTY: 0.2236582, \n",
      "\n",
      "Iteration No: 141 ended. Evaluation done at random point.\n",
      "Time taken: 143.3833\n",
      "Function value obtained: -0.0204\n",
      "Current minimum: -0.0266\n",
      "Iteration No: 142 started. Evaluating function at random point.\n",
      "SearchBayesianSkopt: Testing config: {'alpha': 79.01359492643482, 'beta': 87.2143810550461, 'gamma': 6.717872611251876, 'theta': 32.15492292030874, 'sigma': 21.423078834363746, 'epsilon': 91.57708936448631}\n"
     ]
    },
    {
     "name": "stdout",
     "output_type": "stream",
     "text": [
      "DifferentLossScoresHybridRecommender: URM Detected 3461 (12.4%) items with no interactions.\n"
     ]
    },
    {
     "name": "stdout",
     "output_type": "stream",
     "text": [
      "EvaluatorHoldout: Processed 40666 (100.0%) in 2.38 min. Users per second: 285\n"
     ]
    },
    {
     "name": "stdout",
     "output_type": "stream",
     "text": [
      "SearchBayesianSkopt: Config 141 is suboptimal. Config: {'alpha': 79.01359492643482, 'beta': 87.2143810550461, 'gamma': 6.717872611251876, 'theta': 32.15492292030874, 'sigma': 21.423078834363746, 'epsilon': 91.57708936448631} - results: PRECISION: 0.0512320, PRECISION_RECALL_MIN_DEN: 0.0869227, RECALL: 0.0817342, MAP: 0.0245070, MAP_MIN_DEN: 0.0407264, MRR: 0.1697086, NDCG: 0.0824083, F1: 0.0629845, HIT_RATE: 0.3500959, ARHR_ALL_HITS: 0.2026651, NOVELTY: 0.0035617, AVERAGE_POPULARITY: 0.2574227, DIVERSITY_MEAN_INTER_LIST: 0.8972590, DIVERSITY_HERFINDAHL: 0.9897237, COVERAGE_ITEM: 0.1146668, COVERAGE_ITEM_HIT: 0.0346825, ITEMS_IN_GT: 0.8701015, COVERAGE_USER: 0.9768671, COVERAGE_USER_HIT: 0.3419972, USERS_IN_GT: 0.9768671, DIVERSITY_GINI: 0.0094740, SHANNON_ENTROPY: 8.0466461, RATIO_DIVERSITY_HERFINDAHL: 0.9900501, RATIO_DIVERSITY_GINI: 0.0212681, RATIO_SHANNON_ENTROPY: 0.5963160, RATIO_AVERAGE_POPULARITY: 5.0527010, RATIO_NOVELTY: 0.2325528, \n",
      "\n",
      "Iteration No: 142 ended. Evaluation done at random point.\n",
      "Time taken: 143.0198\n",
      "Function value obtained: -0.0245\n",
      "Current minimum: -0.0266\n",
      "Iteration No: 143 started. Evaluating function at random point.\n",
      "SearchBayesianSkopt: Testing config: {'alpha': 93.38852107389765, 'beta': 70.87483390212248, 'gamma': 40.77150577668159, 'theta': 19.254733197720924, 'sigma': 76.16647751678684, 'epsilon': 36.546035369517455}\n"
     ]
    },
    {
     "name": "stdout",
     "output_type": "stream",
     "text": [
      "DifferentLossScoresHybridRecommender: URM Detected 3461 (12.4%) items with no interactions.\n"
     ]
    },
    {
     "name": "stdout",
     "output_type": "stream",
     "text": [
      "EvaluatorHoldout: Processed 40666 (100.0%) in 2.37 min. Users per second: 286\n"
     ]
    },
    {
     "name": "stdout",
     "output_type": "stream",
     "text": [
      "SearchBayesianSkopt: Config 142 is suboptimal. Config: {'alpha': 93.38852107389765, 'beta': 70.87483390212248, 'gamma': 40.77150577668159, 'theta': 19.254733197720924, 'sigma': 76.16647751678684, 'epsilon': 36.546035369517455} - results: PRECISION: 0.0458737, PRECISION_RECALL_MIN_DEN: 0.0792685, RECALL: 0.0748320, MAP: 0.0210573, MAP_MIN_DEN: 0.0359023, MRR: 0.1521828, NDCG: 0.0738602, F1: 0.0568792, HIT_RATE: 0.3284562, ARHR_ALL_HITS: 0.1781704, NOVELTY: 0.0034388, AVERAGE_POPULARITY: 0.3174045, DIVERSITY_MEAN_INTER_LIST: 0.8137227, DIVERSITY_HERFINDAHL: 0.9813703, COVERAGE_ITEM: 0.1753790, COVERAGE_ITEM_HIT: 0.0290689, ITEMS_IN_GT: 0.8701015, COVERAGE_USER: 0.9768671, COVERAGE_USER_HIT: 0.3208581, USERS_IN_GT: 0.9768671, DIVERSITY_GINI: 0.0084085, SHANNON_ENTROPY: 7.3635641, RATIO_DIVERSITY_HERFINDAHL: 0.9816939, RATIO_DIVERSITY_GINI: 0.0188763, RATIO_SHANNON_ENTROPY: 0.5456945, RATIO_AVERAGE_POPULARITY: 6.2300263, RATIO_NOVELTY: 0.2245304, \n",
      "\n",
      "Iteration No: 143 ended. Evaluation done at random point.\n",
      "Time taken: 142.5799\n",
      "Function value obtained: -0.0211\n",
      "Current minimum: -0.0266\n",
      "Iteration No: 144 started. Evaluating function at random point.\n",
      "SearchBayesianSkopt: Testing config: {'alpha': 37.68073064920513, 'beta': 74.96230711806994, 'gamma': 88.64276142236045, 'theta': 13.107384507459832, 'sigma': 87.11102832504336, 'epsilon': 74.51552097667675}\n"
     ]
    },
    {
     "name": "stdout",
     "output_type": "stream",
     "text": [
      "DifferentLossScoresHybridRecommender: URM Detected 3461 (12.4%) items with no interactions.\n"
     ]
    },
    {
     "name": "stdout",
     "output_type": "stream",
     "text": [
      "EvaluatorHoldout: Processed 40666 (100.0%) in 2.39 min. Users per second: 283\n"
     ]
    },
    {
     "name": "stdout",
     "output_type": "stream",
     "text": [
      "SearchBayesianSkopt: Config 143 is suboptimal. Config: {'alpha': 37.68073064920513, 'beta': 74.96230711806994, 'gamma': 88.64276142236045, 'theta': 13.107384507459832, 'sigma': 87.11102832504336, 'epsilon': 74.51552097667675} - results: PRECISION: 0.0459426, PRECISION_RECALL_MIN_DEN: 0.0793833, RECALL: 0.0749512, MAP: 0.0210732, MAP_MIN_DEN: 0.0358933, MRR: 0.1520066, NDCG: 0.0738708, F1: 0.0569665, HIT_RATE: 0.3285300, ARHR_ALL_HITS: 0.1781289, NOVELTY: 0.0034466, AVERAGE_POPULARITY: 0.3123436, DIVERSITY_MEAN_INTER_LIST: 0.8225480, DIVERSITY_HERFINDAHL: 0.9822528, COVERAGE_ITEM: 0.1802417, COVERAGE_ITEM_HIT: 0.0281751, ITEMS_IN_GT: 0.8701015, COVERAGE_USER: 0.9768671, COVERAGE_USER_HIT: 0.3209301, USERS_IN_GT: 0.9768671, DIVERSITY_GINI: 0.0084093, SHANNON_ENTROPY: 7.4071162, RATIO_DIVERSITY_HERFINDAHL: 0.9825767, RATIO_DIVERSITY_GINI: 0.0188781, RATIO_SHANNON_ENTROPY: 0.5489221, RATIO_AVERAGE_POPULARITY: 6.1306916, RATIO_NOVELTY: 0.2250413, \n",
      "\n",
      "Iteration No: 144 ended. Evaluation done at random point.\n",
      "Time taken: 143.6714\n",
      "Function value obtained: -0.0211\n",
      "Current minimum: -0.0266\n",
      "Iteration No: 145 started. Evaluating function at random point.\n",
      "SearchBayesianSkopt: Testing config: {'alpha': 71.77272155585473, 'beta': 70.96047424819125, 'gamma': 43.380634281632155, 'theta': 10.92012367888682, 'sigma': 65.3270030409491, 'epsilon': 34.76875109669263}\n"
     ]
    },
    {
     "name": "stdout",
     "output_type": "stream",
     "text": [
      "DifferentLossScoresHybridRecommender: URM Detected 3461 (12.4%) items with no interactions.\n"
     ]
    },
    {
     "name": "stdout",
     "output_type": "stream",
     "text": [
      "EvaluatorHoldout: Processed 40666 (100.0%) in 2.39 min. Users per second: 284\n"
     ]
    },
    {
     "name": "stdout",
     "output_type": "stream",
     "text": [
      "SearchBayesianSkopt: Config 144 is suboptimal. Config: {'alpha': 71.77272155585473, 'beta': 70.96047424819125, 'gamma': 43.380634281632155, 'theta': 10.92012367888682, 'sigma': 65.3270030409491, 'epsilon': 34.76875109669263} - results: PRECISION: 0.0459942, PRECISION_RECALL_MIN_DEN: 0.0794485, RECALL: 0.0750000, MAP: 0.0211297, MAP_MIN_DEN: 0.0360269, MRR: 0.1526249, NDCG: 0.0740685, F1: 0.0570203, HIT_RATE: 0.3290464, ARHR_ALL_HITS: 0.1787326, NOVELTY: 0.0034407, AVERAGE_POPULARITY: 0.3164739, DIVERSITY_MEAN_INTER_LIST: 0.8153258, DIVERSITY_HERFINDAHL: 0.9815306, COVERAGE_ITEM: 0.1743421, COVERAGE_ITEM_HIT: 0.0291047, ITEMS_IN_GT: 0.8701015, COVERAGE_USER: 0.9768671, COVERAGE_USER_HIT: 0.3214346, USERS_IN_GT: 0.9768671, DIVERSITY_GINI: 0.0084127, SHANNON_ENTROPY: 7.3752568, RATIO_DIVERSITY_HERFINDAHL: 0.9818543, RATIO_DIVERSITY_GINI: 0.0188857, RATIO_SHANNON_ENTROPY: 0.5465611, RATIO_AVERAGE_POPULARITY: 6.2117615, RATIO_NOVELTY: 0.2246570, \n",
      "\n",
      "Iteration No: 145 ended. Evaluation done at random point.\n",
      "Time taken: 143.5639\n",
      "Function value obtained: -0.0211\n",
      "Current minimum: -0.0266\n",
      "Iteration No: 146 started. Evaluating function at random point.\n",
      "SearchBayesianSkopt: Testing config: {'alpha': 40.8915865287685, 'beta': 60.63781947864489, 'gamma': 47.02138249921995, 'theta': 79.79302610275248, 'sigma': 2.494824088733861, 'epsilon': 32.274573303915346}\n"
     ]
    },
    {
     "name": "stdout",
     "output_type": "stream",
     "text": [
      "DifferentLossScoresHybridRecommender: URM Detected 3461 (12.4%) items with no interactions.\n"
     ]
    },
    {
     "name": "stdout",
     "output_type": "stream",
     "text": [
      "EvaluatorHoldout: Processed 40666 (100.0%) in 2.38 min. Users per second: 285\n"
     ]
    },
    {
     "name": "stdout",
     "output_type": "stream",
     "text": [
      "SearchBayesianSkopt: New best config found. Config 145: {'alpha': 40.8915865287685, 'beta': 60.63781947864489, 'gamma': 47.02138249921995, 'theta': 79.79302610275248, 'sigma': 2.494824088733861, 'epsilon': 32.274573303915346} - results: PRECISION: 0.0557026, PRECISION_RECALL_MIN_DEN: 0.0927695, RECALL: 0.0867786, MAP: 0.0274064, MAP_MIN_DEN: 0.0446260, MRR: 0.1826364, NDCG: 0.0890405, F1: 0.0678516, HIT_RATE: 0.3647273, ARHR_ALL_HITS: 0.2220216, NOVELTY: 0.0037180, AVERAGE_POPULARITY: 0.2045428, DIVERSITY_MEAN_INTER_LIST: 0.9416450, DIVERSITY_HERFINDAHL: 0.9941622, COVERAGE_ITEM: 0.1348684, COVERAGE_ITEM_HIT: 0.0466962, ITEMS_IN_GT: 0.8701015, COVERAGE_USER: 0.9768671, COVERAGE_USER_HIT: 0.3562901, USERS_IN_GT: 0.9768671, DIVERSITY_GINI: 0.0147084, SHANNON_ENTROPY: 8.7704882, RATIO_DIVERSITY_HERFINDAHL: 0.9944901, RATIO_DIVERSITY_GINI: 0.0330190, RATIO_SHANNON_ENTROPY: 0.6499580, RATIO_AVERAGE_POPULARITY: 4.0147730, RATIO_NOVELTY: 0.2427587, \n",
      "\n",
      "SearchBayesianSkopt: Saving model in result_experiments/DifferentLossScoresHybridRecommender\n",
      "\n",
      "SearchBayesianSkopt: Config 145 Exception. Config: {'alpha': 40.8915865287685, 'beta': 60.63781947864489, 'gamma': 47.02138249921995, 'theta': 79.79302610275248, 'sigma': 2.494824088733861, 'epsilon': 32.274573303915346} - Exception: Traceback (most recent call last):\n",
      "  File \"/kaggle/working/HyperparameterTuning/SearchAbstractClass.py\", line 534, in _objective_function\n",
      "    recommender_instance.save_model(self.output_folder_path, file_name =self.output_file_name_root + \"_best_model\")\n",
      "  File \"/kaggle/working/Recommenders/BaseRecommender.py\", line 215, in save_model\n",
      "    raise NotImplementedError(\"BaseRecommender: save_model not implemented\")\n",
      "NotImplementedError: BaseRecommender: save_model not implemented\n",
      "\n",
      "\n",
      "Iteration No: 146 ended. Evaluation done at random point.\n",
      "Time taken: 142.8637\n",
      "Function value obtained: 65504.0000\n",
      "Current minimum: -0.0266\n",
      "Iteration No: 147 started. Evaluating function at random point.\n",
      "SearchBayesianSkopt: Testing config: {'alpha': 26.321499357075258, 'beta': 58.160035466914, 'gamma': 16.041534288858863, 'theta': 25.26122900174435, 'sigma': 1.2659596642800368, 'epsilon': 98.60550586375686}\n"
     ]
    },
    {
     "name": "stdout",
     "output_type": "stream",
     "text": [
      "DifferentLossScoresHybridRecommender: URM Detected 3461 (12.4%) items with no interactions.\n"
     ]
    },
    {
     "name": "stderr",
     "output_type": "stream",
     "text": [
      "Traceback (most recent call last):\n",
      "  File \"/kaggle/working/HyperparameterTuning/SearchAbstractClass.py\", line 534, in _objective_function\n",
      "    recommender_instance.save_model(self.output_folder_path, file_name =self.output_file_name_root + \"_best_model\")\n",
      "  File \"/kaggle/working/Recommenders/BaseRecommender.py\", line 215, in save_model\n",
      "    raise NotImplementedError(\"BaseRecommender: save_model not implemented\")\n",
      "NotImplementedError: BaseRecommender: save_model not implemented\n"
     ]
    },
    {
     "name": "stdout",
     "output_type": "stream",
     "text": [
      "EvaluatorHoldout: Processed 40666 (100.0%) in 2.40 min. Users per second: 282\n"
     ]
    },
    {
     "name": "stdout",
     "output_type": "stream",
     "text": [
      "SearchBayesianSkopt: Config 146 is suboptimal. Config: {'alpha': 26.321499357075258, 'beta': 58.160035466914, 'gamma': 16.041534288858863, 'theta': 25.26122900174435, 'sigma': 1.2659596642800368, 'epsilon': 98.60550586375686} - results: PRECISION: 0.0515787, PRECISION_RECALL_MIN_DEN: 0.0858330, RECALL: 0.0802082, MAP: 0.0250410, MAP_MIN_DEN: 0.0406682, MRR: 0.1691440, NDCG: 0.0820126, F1: 0.0627837, HIT_RATE: 0.3446368, ARHR_ALL_HITS: 0.2043580, NOVELTY: 0.0037054, AVERAGE_POPULARITY: 0.1847113, DIVERSITY_MEAN_INTER_LIST: 0.9549129, DIVERSITY_HERFINDAHL: 0.9954889, COVERAGE_ITEM: 0.0834883, COVERAGE_ITEM_HIT: 0.0381507, ITEMS_IN_GT: 0.8701015, COVERAGE_USER: 0.9768671, COVERAGE_USER_HIT: 0.3366643, USERS_IN_GT: 0.9768671, DIVERSITY_GINI: 0.0112830, SHANNON_ENTROPY: 8.6425667, RATIO_DIVERSITY_HERFINDAHL: 0.9958173, RATIO_DIVERSITY_GINI: 0.0253292, RATIO_SHANNON_ENTROPY: 0.6404781, RATIO_AVERAGE_POPULARITY: 3.6255204, RATIO_NOVELTY: 0.2419374, \n",
      "\n",
      "Iteration No: 147 ended. Evaluation done at random point.\n",
      "Time taken: 144.4961\n",
      "Function value obtained: -0.0250\n",
      "Current minimum: -0.0266\n",
      "Iteration No: 148 started. Evaluating function at random point.\n",
      "SearchBayesianSkopt: Testing config: {'alpha': 97.83111499067918, 'beta': 83.23719725246914, 'gamma': 40.963654208441945, 'theta': 98.3676783474082, 'sigma': 8.241578835858778, 'epsilon': 41.176442283987846}\n"
     ]
    },
    {
     "name": "stdout",
     "output_type": "stream",
     "text": [
      "DifferentLossScoresHybridRecommender: URM Detected 3461 (12.4%) items with no interactions.\n"
     ]
    },
    {
     "name": "stdout",
     "output_type": "stream",
     "text": [
      "EvaluatorHoldout: Processed 40666 (100.0%) in 2.37 min. Users per second: 285\n"
     ]
    },
    {
     "name": "stdout",
     "output_type": "stream",
     "text": [
      "SearchBayesianSkopt: Config 147 is suboptimal. Config: {'alpha': 97.83111499067918, 'beta': 83.23719725246914, 'gamma': 40.963654208441945, 'theta': 98.3676783474082, 'sigma': 8.241578835858778, 'epsilon': 41.176442283987846} - results: PRECISION: 0.0549599, PRECISION_RECALL_MIN_DEN: 0.0922225, RECALL: 0.0864441, MAP: 0.0268447, MAP_MIN_DEN: 0.0440896, MRR: 0.1805445, NDCG: 0.0881376, F1: 0.0671970, HIT_RATE: 0.3636453, ARHR_ALL_HITS: 0.2185602, NOVELTY: 0.0036599, AVERAGE_POPULARITY: 0.2284959, DIVERSITY_MEAN_INTER_LIST: 0.9230018, DIVERSITY_HERFINDAHL: 0.9922979, COVERAGE_ITEM: 0.1354047, COVERAGE_ITEM_HIT: 0.0440503, ITEMS_IN_GT: 0.8701015, COVERAGE_USER: 0.9768671, COVERAGE_USER_HIT: 0.3552331, USERS_IN_GT: 0.9768671, DIVERSITY_GINI: 0.0133655, SHANNON_ENTROPY: 8.5245649, RATIO_DIVERSITY_HERFINDAHL: 0.9926252, RATIO_DIVERSITY_GINI: 0.0300041, RATIO_SHANNON_ENTROPY: 0.6317333, RATIO_AVERAGE_POPULARITY: 4.4849245, RATIO_NOVELTY: 0.2389672, \n",
      "\n",
      "Iteration No: 148 ended. Evaluation done at random point.\n",
      "Time taken: 142.6633\n",
      "Function value obtained: -0.0268\n",
      "Current minimum: -0.0268\n",
      "Iteration No: 149 started. Evaluating function at random point.\n",
      "SearchBayesianSkopt: Testing config: {'alpha': 16.77338983179647, 'beta': 5.126126657706122, 'gamma': 18.364156341028973, 'theta': 32.17717365626557, 'sigma': 48.83158826880629, 'epsilon': 93.28482476082422}\n"
     ]
    },
    {
     "name": "stdout",
     "output_type": "stream",
     "text": [
      "DifferentLossScoresHybridRecommender: URM Detected 3461 (12.4%) items with no interactions.\n"
     ]
    },
    {
     "name": "stdout",
     "output_type": "stream",
     "text": [
      "EvaluatorHoldout: Processed 40666 (100.0%) in 2.37 min. Users per second: 286\n"
     ]
    },
    {
     "name": "stdout",
     "output_type": "stream",
     "text": [
      "SearchBayesianSkopt: Config 148 is suboptimal. Config: {'alpha': 16.77338983179647, 'beta': 5.126126657706122, 'gamma': 18.364156341028973, 'theta': 32.17717365626557, 'sigma': 48.83158826880629, 'epsilon': 93.28482476082422} - results: PRECISION: 0.0465008, PRECISION_RECALL_MIN_DEN: 0.0799564, RECALL: 0.0754262, MAP: 0.0215250, MAP_MIN_DEN: 0.0364394, MRR: 0.1545686, NDCG: 0.0748180, F1: 0.0575324, HIT_RATE: 0.3302021, ARHR_ALL_HITS: 0.1814970, NOVELTY: 0.0034719, AVERAGE_POPULARITY: 0.2960235, DIVERSITY_MEAN_INTER_LIST: 0.8487816, DIVERSITY_HERFINDAHL: 0.9848761, COVERAGE_ITEM: 0.1542477, COVERAGE_ITEM_HIT: 0.0274242, ITEMS_IN_GT: 0.8701015, COVERAGE_USER: 0.9768671, COVERAGE_USER_HIT: 0.3225636, USERS_IN_GT: 0.9768671, DIVERSITY_GINI: 0.0079404, SHANNON_ENTROPY: 7.5550348, RATIO_DIVERSITY_HERFINDAHL: 0.9852009, RATIO_DIVERSITY_GINI: 0.0178254, RATIO_SHANNON_ENTROPY: 0.5598839, RATIO_AVERAGE_POPULARITY: 5.8103595, RATIO_NOVELTY: 0.2266937, \n",
      "\n",
      "Iteration No: 149 ended. Evaluation done at random point.\n",
      "Time taken: 142.3754\n",
      "Function value obtained: -0.0215\n",
      "Current minimum: -0.0268\n",
      "Iteration No: 150 started. Evaluating function at random point.\n",
      "SearchBayesianSkopt: Testing config: {'alpha': 58.87576309102099, 'beta': 44.25152153784148, 'gamma': 51.289120195810334, 'theta': 58.5976828831535, 'sigma': 80.33657699104216, 'epsilon': 60.05688083569951}\n",
      "DifferentLossScoresHybridRecommender: URM Detected 3461 (12.4%) items with no interactions.\n"
     ]
    },
    {
     "name": "stdout",
     "output_type": "stream",
     "text": [
      "EvaluatorHoldout: Processed 40666 (100.0%) in 2.37 min. Users per second: 285\n"
     ]
    },
    {
     "name": "stdout",
     "output_type": "stream",
     "text": [
      "SearchBayesianSkopt: Config 149 is suboptimal. Config: {'alpha': 58.87576309102099, 'beta': 44.25152153784148, 'gamma': 51.289120195810334, 'theta': 58.5976828831535, 'sigma': 80.33657699104216, 'epsilon': 60.05688083569951} - results: PRECISION: 0.0460040, PRECISION_RECALL_MIN_DEN: 0.0794343, RECALL: 0.0749856, MAP: 0.0211269, MAP_MIN_DEN: 0.0359683, MRR: 0.1523844, NDCG: 0.0739960, F1: 0.0570237, HIT_RATE: 0.3285300, ARHR_ALL_HITS: 0.1785875, NOVELTY: 0.0034464, AVERAGE_POPULARITY: 0.3126759, DIVERSITY_MEAN_INTER_LIST: 0.8219111, DIVERSITY_HERFINDAHL: 0.9821891, COVERAGE_ITEM: 0.1788115, COVERAGE_ITEM_HIT: 0.0284969, ITEMS_IN_GT: 0.8701015, COVERAGE_USER: 0.9768671, COVERAGE_USER_HIT: 0.3209301, USERS_IN_GT: 0.9768671, DIVERSITY_GINI: 0.0084349, SHANNON_ENTROPY: 7.4078152, RATIO_DIVERSITY_HERFINDAHL: 0.9825130, RATIO_DIVERSITY_GINI: 0.0189355, RATIO_SHANNON_ENTROPY: 0.5489739, RATIO_AVERAGE_POPULARITY: 6.1372126, RATIO_NOVELTY: 0.2250305, \n",
      "\n",
      "Iteration No: 150 ended. Evaluation done at random point.\n",
      "Time taken: 142.6854\n",
      "Function value obtained: -0.0211\n",
      "Current minimum: -0.0268\n",
      "Iteration No: 151 started. Evaluating function at random point.\n",
      "SearchBayesianSkopt: Testing config: {'alpha': 2.558252488578917, 'beta': 42.59029872931465, 'gamma': 37.72060752293438, 'theta': 23.446659350301886, 'sigma': 99.07363352245179, 'epsilon': 78.92376916464536}\n",
      "DifferentLossScoresHybridRecommender: URM Detected 3461 (12.4%) items with no interactions.\n"
     ]
    },
    {
     "name": "stdout",
     "output_type": "stream",
     "text": [
      "EvaluatorHoldout: Processed 40666 (100.0%) in 2.40 min. Users per second: 283\n"
     ]
    },
    {
     "name": "stdout",
     "output_type": "stream",
     "text": [
      "SearchBayesianSkopt: Config 150 is suboptimal. Config: {'alpha': 2.558252488578917, 'beta': 42.59029872931465, 'gamma': 37.72060752293438, 'theta': 23.446659350301886, 'sigma': 99.07363352245179, 'epsilon': 78.92376916464536} - results: PRECISION: 0.0448434, PRECISION_RECALL_MIN_DEN: 0.0775679, RECALL: 0.0732534, MAP: 0.0204636, MAP_MIN_DEN: 0.0349121, MRR: 0.1486997, NDCG: 0.0720891, F1: 0.0556311, HIT_RATE: 0.3226282, ARHR_ALL_HITS: 0.1736499, NOVELTY: 0.0034307, AVERAGE_POPULARITY: 0.3180266, DIVERSITY_MEAN_INTER_LIST: 0.8134906, DIVERSITY_HERFINDAHL: 0.9813471, COVERAGE_ITEM: 0.1834239, COVERAGE_ITEM_HIT: 0.0261370, ITEMS_IN_GT: 0.8701015, COVERAGE_USER: 0.9768671, COVERAGE_USER_HIT: 0.3151649, USERS_IN_GT: 0.9768671, DIVERSITY_GINI: 0.0080285, SHANNON_ENTROPY: 7.3094031, RATIO_DIVERSITY_HERFINDAHL: 0.9816707, RATIO_DIVERSITY_GINI: 0.0180232, RATIO_SHANNON_ENTROPY: 0.5416808, RATIO_AVERAGE_POPULARITY: 6.2422377, RATIO_NOVELTY: 0.2240033, \n",
      "\n",
      "Iteration No: 151 ended. Evaluation done at random point.\n",
      "Time taken: 144.1392\n",
      "Function value obtained: -0.0205\n",
      "Current minimum: -0.0268\n",
      "Iteration No: 152 started. Evaluating function at random point.\n",
      "SearchBayesianSkopt: Testing config: {'alpha': 23.189677656297064, 'beta': 63.01709648859541, 'gamma': 27.365369840274816, 'theta': 31.952860465348927, 'sigma': 97.06647867397287, 'epsilon': 19.135445904215093}\n"
     ]
    },
    {
     "name": "stdout",
     "output_type": "stream",
     "text": [
      "DifferentLossScoresHybridRecommender: URM Detected 3461 (12.4%) items with no interactions.\n"
     ]
    },
    {
     "name": "stdout",
     "output_type": "stream",
     "text": [
      "EvaluatorHoldout: Processed 40666 (100.0%) in 2.39 min. Users per second: 284\n"
     ]
    },
    {
     "name": "stdout",
     "output_type": "stream",
     "text": [
      "SearchBayesianSkopt: Config 151 is suboptimal. Config: {'alpha': 23.189677656297064, 'beta': 63.01709648859541, 'gamma': 27.365369840274816, 'theta': 31.952860465348927, 'sigma': 97.06647867397287, 'epsilon': 19.135445904215093} - results: PRECISION: 0.0442138, PRECISION_RECALL_MIN_DEN: 0.0765915, RECALL: 0.0723433, MAP: 0.0200758, MAP_MIN_DEN: 0.0343036, MRR: 0.1465838, NDCG: 0.0710256, F1: 0.0548842, HIT_RATE: 0.3197266, ARHR_ALL_HITS: 0.1707985, NOVELTY: 0.0034124, AVERAGE_POPULARITY: 0.3286038, DIVERSITY_MEAN_INTER_LIST: 0.7943762, DIVERSITY_HERFINDAHL: 0.9794357, COVERAGE_ITEM: 0.1934711, COVERAGE_ITEM_HIT: 0.0261370, ITEMS_IN_GT: 0.8701015, COVERAGE_USER: 0.9768671, COVERAGE_USER_HIT: 0.3123303, USERS_IN_GT: 0.9768671, DIVERSITY_GINI: 0.0081889, SHANNON_ENTROPY: 7.1944261, RATIO_DIVERSITY_HERFINDAHL: 0.9797587, RATIO_DIVERSITY_GINI: 0.0183832, RATIO_SHANNON_ENTROPY: 0.5331602, RATIO_AVERAGE_POPULARITY: 6.4498460, RATIO_NOVELTY: 0.2228108, \n",
      "\n",
      "Iteration No: 152 ended. Evaluation done at random point.\n",
      "Time taken: 143.4720\n",
      "Function value obtained: -0.0201\n",
      "Current minimum: -0.0268\n",
      "Iteration No: 153 started. Evaluating function at random point.\n",
      "SearchBayesianSkopt: Testing config: {'alpha': 3.212742860959906, 'beta': 77.13012127860274, 'gamma': 26.127478494827578, 'theta': 97.93804448014411, 'sigma': 72.73423738838748, 'epsilon': 85.43999025051917}\n"
     ]
    },
    {
     "name": "stdout",
     "output_type": "stream",
     "text": [
      "DifferentLossScoresHybridRecommender: URM Detected 3461 (12.4%) items with no interactions.\n"
     ]
    },
    {
     "name": "stdout",
     "output_type": "stream",
     "text": [
      "EvaluatorHoldout: Processed 40666 (100.0%) in 2.39 min. Users per second: 283\n"
     ]
    },
    {
     "name": "stdout",
     "output_type": "stream",
     "text": [
      "SearchBayesianSkopt: Config 152 is suboptimal. Config: {'alpha': 3.212742860959906, 'beta': 77.13012127860274, 'gamma': 26.127478494827578, 'theta': 97.93804448014411, 'sigma': 72.73423738838748, 'epsilon': 85.43999025051917} - results: PRECISION: 0.0467516, PRECISION_RECALL_MIN_DEN: 0.0805075, RECALL: 0.0759731, MAP: 0.0216113, MAP_MIN_DEN: 0.0366745, MRR: 0.1550962, NDCG: 0.0752420, F1: 0.0578834, HIT_RATE: 0.3319481, ARHR_ALL_HITS: 0.1821695, NOVELTY: 0.0034607, AVERAGE_POPULARITY: 0.3044603, DIVERSITY_MEAN_INTER_LIST: 0.8354556, DIVERSITY_HERFINDAHL: 0.9835435, COVERAGE_ITEM: 0.1635441, COVERAGE_ITEM_HIT: 0.0285684, ITEMS_IN_GT: 0.8701015, COVERAGE_USER: 0.9768671, COVERAGE_USER_HIT: 0.3242691, USERS_IN_GT: 0.9768671, DIVERSITY_GINI: 0.0082415, SHANNON_ENTROPY: 7.4953037, RATIO_DIVERSITY_HERFINDAHL: 0.9838679, RATIO_DIVERSITY_GINI: 0.0185014, RATIO_SHANNON_ENTROPY: 0.5554574, RATIO_AVERAGE_POPULARITY: 5.9759567, RATIO_NOVELTY: 0.2259639, \n",
      "\n",
      "Iteration No: 153 ended. Evaluation done at random point.\n",
      "Time taken: 143.9089\n",
      "Function value obtained: -0.0216\n",
      "Current minimum: -0.0268\n",
      "Iteration No: 154 started. Evaluating function at random point.\n",
      "SearchBayesianSkopt: Testing config: {'alpha': 86.35321032788434, 'beta': 91.79424931853251, 'gamma': 60.9806968326559, 'theta': 58.31396424211468, 'sigma': 16.867108450612413, 'epsilon': 25.51446863666956}\n"
     ]
    },
    {
     "name": "stdout",
     "output_type": "stream",
     "text": [
      "DifferentLossScoresHybridRecommender: URM Detected 3461 (12.4%) items with no interactions.\n"
     ]
    },
    {
     "name": "stdout",
     "output_type": "stream",
     "text": [
      "EvaluatorHoldout: Processed 40666 (100.0%) in 2.38 min. Users per second: 284\n"
     ]
    },
    {
     "name": "stdout",
     "output_type": "stream",
     "text": [
      "SearchBayesianSkopt: Config 153 is suboptimal. Config: {'alpha': 86.35321032788434, 'beta': 91.79424931853251, 'gamma': 60.9806968326559, 'theta': 58.31396424211468, 'sigma': 16.867108450612413, 'epsilon': 25.51446863666956} - results: PRECISION: 0.0523164, PRECISION_RECALL_MIN_DEN: 0.0887425, RECALL: 0.0834099, MAP: 0.0251000, MAP_MIN_DEN: 0.0418568, MRR: 0.1728744, NDCG: 0.0842543, F1: 0.0643016, HIT_RATE: 0.3548911, ARHR_ALL_HITS: 0.2069284, NOVELTY: 0.0035732, AVERAGE_POPULARITY: 0.2660595, DIVERSITY_MEAN_INTER_LIST: 0.8843736, DIVERSITY_HERFINDAHL: 0.9884352, COVERAGE_ITEM: 0.1475973, COVERAGE_ITEM_HIT: 0.0394379, ITEMS_IN_GT: 0.8701015, COVERAGE_USER: 0.9768671, COVERAGE_USER_HIT: 0.3466814, USERS_IN_GT: 0.9768671, DIVERSITY_GINI: 0.0115716, SHANNON_ENTROPY: 8.1079353, RATIO_DIVERSITY_HERFINDAHL: 0.9887612, RATIO_DIVERSITY_GINI: 0.0259771, RATIO_SHANNON_ENTROPY: 0.6008580, RATIO_AVERAGE_POPULARITY: 5.2222244, RATIO_NOVELTY: 0.2333053, \n",
      "\n",
      "Iteration No: 154 ended. Evaluation done at random point.\n",
      "Time taken: 143.2499\n",
      "Function value obtained: -0.0251\n",
      "Current minimum: -0.0268\n",
      "Iteration No: 155 started. Evaluating function at random point.\n",
      "SearchBayesianSkopt: Testing config: {'alpha': 13.259429402305436, 'beta': 10.513888524533025, 'gamma': 2.7057197027733912, 'theta': 49.410492412664716, 'sigma': 81.25260246899713, 'epsilon': 36.53695745875565}\n"
     ]
    },
    {
     "name": "stdout",
     "output_type": "stream",
     "text": [
      "DifferentLossScoresHybridRecommender: URM Detected 3461 (12.4%) items with no interactions.\n"
     ]
    },
    {
     "name": "stdout",
     "output_type": "stream",
     "text": [
      "EvaluatorHoldout: Processed 40666 (100.0%) in 2.37 min. Users per second: 286\n"
     ]
    },
    {
     "name": "stdout",
     "output_type": "stream",
     "text": [
      "SearchBayesianSkopt: Config 154 is suboptimal. Config: {'alpha': 13.259429402305436, 'beta': 10.513888524533025, 'gamma': 2.7057197027733912, 'theta': 49.410492412664716, 'sigma': 81.25260246899713, 'epsilon': 36.53695745875565} - results: PRECISION: 0.0441671, PRECISION_RECALL_MIN_DEN: 0.0764486, RECALL: 0.0721985, MAP: 0.0200764, MAP_MIN_DEN: 0.0343068, MRR: 0.1465689, NDCG: 0.0709802, F1: 0.0548066, HIT_RATE: 0.3191856, ARHR_ALL_HITS: 0.1707764, NOVELTY: 0.0034178, AVERAGE_POPULARITY: 0.3247588, DIVERSITY_MEAN_INTER_LIST: 0.8015994, DIVERSITY_HERFINDAHL: 0.9801580, COVERAGE_ITEM: 0.1933996, COVERAGE_ITEM_HIT: 0.0256007, ITEMS_IN_GT: 0.8701015, COVERAGE_USER: 0.9768671, COVERAGE_USER_HIT: 0.3118019, USERS_IN_GT: 0.9768671, DIVERSITY_GINI: 0.0081108, SHANNON_ENTROPY: 7.2284711, RATIO_DIVERSITY_HERFINDAHL: 0.9804812, RATIO_DIVERSITY_GINI: 0.0182079, RATIO_SHANNON_ENTROPY: 0.5356832, RATIO_AVERAGE_POPULARITY: 6.3743769, RATIO_NOVELTY: 0.2231591, \n",
      "\n",
      "Iteration No: 155 ended. Evaluation done at random point.\n",
      "Time taken: 142.3546\n",
      "Function value obtained: -0.0201\n",
      "Current minimum: -0.0268\n",
      "Iteration No: 156 started. Evaluating function at random point.\n",
      "SearchBayesianSkopt: Testing config: {'alpha': 25.75407481612651, 'beta': 97.07159402727812, 'gamma': 3.6153853632174835, 'theta': 95.68731415874346, 'sigma': 96.96429460483078, 'epsilon': 96.56835603655772}\n",
      "DifferentLossScoresHybridRecommender: URM Detected 3461 (12.4%) items with no interactions.\n"
     ]
    },
    {
     "name": "stdout",
     "output_type": "stream",
     "text": [
      "EvaluatorHoldout: Processed 40666 (100.0%) in 2.39 min. Users per second: 284\n"
     ]
    },
    {
     "name": "stdout",
     "output_type": "stream",
     "text": [
      "SearchBayesianSkopt: Config 155 is suboptimal. Config: {'alpha': 25.75407481612651, 'beta': 97.07159402727812, 'gamma': 3.6153853632174835, 'theta': 95.68731415874346, 'sigma': 96.96429460483078, 'epsilon': 96.56835603655772} - results: PRECISION: 0.0462180, PRECISION_RECALL_MIN_DEN: 0.0797367, RECALL: 0.0752740, MAP: 0.0212840, MAP_MIN_DEN: 0.0361848, MRR: 0.1533092, NDCG: 0.0743781, F1: 0.0572715, HIT_RATE: 0.3291939, ARHR_ALL_HITS: 0.1797711, NOVELTY: 0.0034490, AVERAGE_POPULARITY: 0.3097582, DIVERSITY_MEAN_INTER_LIST: 0.8271692, DIVERSITY_HERFINDAHL: 0.9827149, COVERAGE_ITEM: 0.1627932, COVERAGE_ITEM_HIT: 0.0279605, ITEMS_IN_GT: 0.8701015, COVERAGE_USER: 0.9768671, COVERAGE_USER_HIT: 0.3215787, USERS_IN_GT: 0.9768671, DIVERSITY_GINI: 0.0080328, SHANNON_ENTROPY: 7.4268933, RATIO_DIVERSITY_HERFINDAHL: 0.9830390, RATIO_DIVERSITY_GINI: 0.0180328, RATIO_SHANNON_ENTROPY: 0.5503877, RATIO_AVERAGE_POPULARITY: 6.0799442, RATIO_NOVELTY: 0.2251941, \n",
      "\n",
      "Iteration No: 156 ended. Evaluation done at random point.\n",
      "Time taken: 143.3943\n",
      "Function value obtained: -0.0213\n",
      "Current minimum: -0.0268\n",
      "Iteration No: 157 started. Evaluating function at random point.\n",
      "SearchBayesianSkopt: Testing config: {'alpha': 23.468975501693194, 'beta': 1.075267121500423, 'gamma': 97.94879859059533, 'theta': 12.128261327503202, 'sigma': 20.10267238387066, 'epsilon': 81.8215105366846}\n"
     ]
    },
    {
     "name": "stdout",
     "output_type": "stream",
     "text": [
      "DifferentLossScoresHybridRecommender: URM Detected 3461 (12.4%) items with no interactions.\n"
     ]
    },
    {
     "name": "stdout",
     "output_type": "stream",
     "text": [
      "EvaluatorHoldout: Processed 40666 (100.0%) in 2.38 min. Users per second: 285\n"
     ]
    },
    {
     "name": "stdout",
     "output_type": "stream",
     "text": [
      "SearchBayesianSkopt: Config 156 is suboptimal. Config: {'alpha': 23.468975501693194, 'beta': 1.075267121500423, 'gamma': 97.94879859059533, 'theta': 12.128261327503202, 'sigma': 20.10267238387066, 'epsilon': 81.8215105366846} - results: PRECISION: 0.0496213, PRECISION_RECALL_MIN_DEN: 0.0842304, RECALL: 0.0791917, MAP: 0.0235746, MAP_MIN_DEN: 0.0392605, MRR: 0.1644925, NDCG: 0.0797215, F1: 0.0610124, HIT_RATE: 0.3421532, ARHR_ALL_HITS: 0.1957038, NOVELTY: 0.0035546, AVERAGE_POPULARITY: 0.2585564, DIVERSITY_MEAN_INTER_LIST: 0.8960550, DIVERSITY_HERFINDAHL: 0.9896033, COVERAGE_ITEM: 0.1547483, COVERAGE_ITEM_HIT: 0.0313930, ITEMS_IN_GT: 0.8701015, COVERAGE_USER: 0.9768671, COVERAGE_USER_HIT: 0.3342382, USERS_IN_GT: 0.9768671, DIVERSITY_GINI: 0.0094236, SHANNON_ENTROPY: 7.9903037, RATIO_DIVERSITY_HERFINDAHL: 0.9899297, RATIO_DIVERSITY_GINI: 0.0211551, RATIO_SHANNON_ENTROPY: 0.5921406, RATIO_AVERAGE_POPULARITY: 5.0749549, RATIO_NOVELTY: 0.2320933, \n",
      "\n",
      "Iteration No: 157 ended. Evaluation done at random point.\n",
      "Time taken: 143.1390\n",
      "Function value obtained: -0.0236\n",
      "Current minimum: -0.0268\n",
      "Iteration No: 158 started. Evaluating function at random point.\n",
      "SearchBayesianSkopt: Testing config: {'alpha': 67.99448457765216, 'beta': 17.417570598756107, 'gamma': 6.315340132663462, 'theta': 55.62153472904101, 'sigma': 95.65814959103307, 'epsilon': 19.971900469318864}\n"
     ]
    },
    {
     "name": "stdout",
     "output_type": "stream",
     "text": [
      "DifferentLossScoresHybridRecommender: URM Detected 3461 (12.4%) items with no interactions.\n"
     ]
    },
    {
     "name": "stdout",
     "output_type": "stream",
     "text": [
      "EvaluatorHoldout: Processed 40666 (100.0%) in 2.36 min. Users per second: 287\n"
     ]
    },
    {
     "name": "stdout",
     "output_type": "stream",
     "text": [
      "SearchBayesianSkopt: Config 157 is suboptimal. Config: {'alpha': 67.99448457765216, 'beta': 17.417570598756107, 'gamma': 6.315340132663462, 'theta': 55.62153472904101, 'sigma': 95.65814959103307, 'epsilon': 19.971900469318864} - results: PRECISION: 0.0443073, PRECISION_RECALL_MIN_DEN: 0.0767298, RECALL: 0.0724666, MAP: 0.0201636, MAP_MIN_DEN: 0.0344755, MRR: 0.1471969, NDCG: 0.0712721, F1: 0.0549917, HIT_RATE: 0.3202184, ARHR_ALL_HITS: 0.1715218, NOVELTY: 0.0034154, AVERAGE_POPULARITY: 0.3272874, DIVERSITY_MEAN_INTER_LIST: 0.7967081, DIVERSITY_HERFINDAHL: 0.9796689, COVERAGE_ITEM: 0.1932923, COVERAGE_ITEM_HIT: 0.0262085, ITEMS_IN_GT: 0.8701015, COVERAGE_USER: 0.9768671, COVERAGE_USER_HIT: 0.3128108, USERS_IN_GT: 0.9768671, DIVERSITY_GINI: 0.0082530, SHANNON_ENTROPY: 7.2141975, RATIO_DIVERSITY_HERFINDAHL: 0.9799920, RATIO_DIVERSITY_GINI: 0.0185272, RATIO_SHANNON_ENTROPY: 0.5346254, RATIO_AVERAGE_POPULARITY: 6.4240076, RATIO_NOVELTY: 0.2230026, \n",
      "\n",
      "Iteration No: 158 ended. Evaluation done at random point.\n",
      "Time taken: 142.0711\n",
      "Function value obtained: -0.0202\n",
      "Current minimum: -0.0268\n",
      "Iteration No: 159 started. Evaluating function at random point.\n",
      "SearchBayesianSkopt: Testing config: {'alpha': 66.36557717666004, 'beta': 96.60113545586461, 'gamma': 59.26773496186406, 'theta': 77.57533755554681, 'sigma': 72.3019613165558, 'epsilon': 6.171078863583358}\n"
     ]
    },
    {
     "name": "stdout",
     "output_type": "stream",
     "text": [
      "DifferentLossScoresHybridRecommender: URM Detected 3461 (12.4%) items with no interactions.\n"
     ]
    },
    {
     "name": "stdout",
     "output_type": "stream",
     "text": [
      "EvaluatorHoldout: Processed 40666 (100.0%) in 2.37 min. Users per second: 286\n"
     ]
    },
    {
     "name": "stdout",
     "output_type": "stream",
     "text": [
      "SearchBayesianSkopt: Config 158 is suboptimal. Config: {'alpha': 66.36557717666004, 'beta': 96.60113545586461, 'gamma': 59.26773496186406, 'theta': 77.57533755554681, 'sigma': 72.3019613165558, 'epsilon': 6.171078863583358} - results: PRECISION: 0.0461319, PRECISION_RECALL_MIN_DEN: 0.0797373, RECALL: 0.0752804, MAP: 0.0211573, MAP_MIN_DEN: 0.0360289, MRR: 0.1527664, NDCG: 0.0741830, F1: 0.0572072, HIT_RATE: 0.3296611, ARHR_ALL_HITS: 0.1789010, NOVELTY: 0.0034392, AVERAGE_POPULARITY: 0.3195127, DIVERSITY_MEAN_INTER_LIST: 0.8094100, DIVERSITY_HERFINDAHL: 0.9809390, COVERAGE_ITEM: 0.1832451, COVERAGE_ITEM_HIT: 0.0302489, ITEMS_IN_GT: 0.8701015, COVERAGE_USER: 0.9768671, COVERAGE_USER_HIT: 0.3220351, USERS_IN_GT: 0.9768671, DIVERSITY_GINI: 0.0088103, SHANNON_ENTROPY: 7.3624417, RATIO_DIVERSITY_HERFINDAHL: 0.9812625, RATIO_DIVERSITY_GINI: 0.0197782, RATIO_SHANNON_ENTROPY: 0.5456114, RATIO_AVERAGE_POPULARITY: 6.2714055, RATIO_NOVELTY: 0.2245544, \n",
      "\n",
      "Iteration No: 159 ended. Evaluation done at random point.\n",
      "Time taken: 142.5155\n",
      "Function value obtained: -0.0212\n",
      "Current minimum: -0.0268\n",
      "Iteration No: 160 started. Evaluating function at random point.\n",
      "SearchBayesianSkopt: Testing config: {'alpha': 41.36134267679158, 'beta': 79.37961164157326, 'gamma': 57.32394947758197, 'theta': 82.17068062984907, 'sigma': 6.982341729890098, 'epsilon': 51.05387190721713}\n"
     ]
    },
    {
     "name": "stdout",
     "output_type": "stream",
     "text": [
      "DifferentLossScoresHybridRecommender: URM Detected 3461 (12.4%) items with no interactions.\n"
     ]
    },
    {
     "name": "stdout",
     "output_type": "stream",
     "text": [
      "EvaluatorHoldout: Processed 40666 (100.0%) in 2.38 min. Users per second: 285\n"
     ]
    },
    {
     "name": "stdout",
     "output_type": "stream",
     "text": [
      "SearchBayesianSkopt: Config 159 is suboptimal. Config: {'alpha': 41.36134267679158, 'beta': 79.37961164157326, 'gamma': 57.32394947758197, 'theta': 82.17068062984907, 'sigma': 6.982341729890098, 'epsilon': 51.05387190721713} - results: PRECISION: 0.0545689, PRECISION_RECALL_MIN_DEN: 0.0913466, RECALL: 0.0855625, MAP: 0.0267157, MAP_MIN_DEN: 0.0438198, MRR: 0.1799500, NDCG: 0.0875742, F1: 0.0666382, HIT_RATE: 0.3615551, ARHR_ALL_HITS: 0.2176691, NOVELTY: 0.0036603, AVERAGE_POPULARITY: 0.2227194, DIVERSITY_MEAN_INTER_LIST: 0.9286180, DIVERSITY_HERFINDAHL: 0.9928595, COVERAGE_ITEM: 0.1296482, COVERAGE_ITEM_HIT: 0.0424056, ITEMS_IN_GT: 0.8701015, COVERAGE_USER: 0.9768671, COVERAGE_USER_HIT: 0.3531913, USERS_IN_GT: 0.9768671, DIVERSITY_GINI: 0.0125878, SHANNON_ENTROPY: 8.5149915, RATIO_DIVERSITY_HERFINDAHL: 0.9931870, RATIO_DIVERSITY_GINI: 0.0282583, RATIO_SHANNON_ENTROPY: 0.6310238, RATIO_AVERAGE_POPULARITY: 4.3715451, RATIO_NOVELTY: 0.2389969, \n",
      "\n",
      "Iteration No: 160 ended. Evaluation done at random point.\n",
      "Time taken: 143.0643\n",
      "Function value obtained: -0.0267\n",
      "Current minimum: -0.0268\n",
      "Iteration No: 161 started. Evaluating function at random point.\n",
      "SearchBayesianSkopt: Testing config: {'alpha': 34.0255208517963, 'beta': 59.12976726866124, 'gamma': 65.21946994293896, 'theta': 88.78266358653474, 'sigma': 23.260488269097028, 'epsilon': 0.7615115573943234}\n"
     ]
    },
    {
     "name": "stdout",
     "output_type": "stream",
     "text": [
      "DifferentLossScoresHybridRecommender: URM Detected 3461 (12.4%) items with no interactions.\n"
     ]
    },
    {
     "name": "stdout",
     "output_type": "stream",
     "text": [
      "EvaluatorHoldout: Processed 40666 (100.0%) in 2.38 min. Users per second: 285\n"
     ]
    },
    {
     "name": "stdout",
     "output_type": "stream",
     "text": [
      "SearchBayesianSkopt: Config 160 is suboptimal. Config: {'alpha': 34.0255208517963, 'beta': 59.12976726866124, 'gamma': 65.21946994293896, 'theta': 88.78266358653474, 'sigma': 23.260488269097028, 'epsilon': 0.7615115573943234} - results: PRECISION: 0.0492918, PRECISION_RECALL_MIN_DEN: 0.0843931, RECALL: 0.0795214, MAP: 0.0231855, MAP_MIN_DEN: 0.0391066, MRR: 0.1633949, NDCG: 0.0794725, F1: 0.0608595, HIT_RATE: 0.3429155, ARHR_ALL_HITS: 0.1935464, NOVELTY: 0.0035044, AVERAGE_POPULARITY: 0.2956181, DIVERSITY_MEAN_INTER_LIST: 0.8454193, DIVERSITY_HERFINDAHL: 0.9845398, COVERAGE_ITEM: 0.1773455, COVERAGE_ITEM_HIT: 0.0353261, ITEMS_IN_GT: 0.8701015, COVERAGE_USER: 0.9768671, COVERAGE_USER_HIT: 0.3349828, USERS_IN_GT: 0.9768671, DIVERSITY_GINI: 0.0105148, SHANNON_ENTROPY: 7.7368314, RATIO_DIVERSITY_HERFINDAHL: 0.9848646, RATIO_DIVERSITY_GINI: 0.0236046, RATIO_SHANNON_ENTROPY: 0.5733564, RATIO_AVERAGE_POPULARITY: 5.8024017, RATIO_NOVELTY: 0.2288179, \n",
      "\n",
      "Iteration No: 161 ended. Evaluation done at random point.\n",
      "Time taken: 142.7490\n",
      "Function value obtained: -0.0232\n",
      "Current minimum: -0.0268\n",
      "Iteration No: 162 started. Evaluating function at random point.\n",
      "SearchBayesianSkopt: Testing config: {'alpha': 18.00940544648181, 'beta': 41.4701970291509, 'gamma': 55.38569883478436, 'theta': 21.208008379573457, 'sigma': 32.13102601508515, 'epsilon': 87.45475512713004}\n"
     ]
    },
    {
     "name": "stdout",
     "output_type": "stream",
     "text": [
      "DifferentLossScoresHybridRecommender: URM Detected 3461 (12.4%) items with no interactions.\n"
     ]
    },
    {
     "name": "stdout",
     "output_type": "stream",
     "text": [
      "EvaluatorHoldout: Processed 40666 (100.0%) in 2.38 min. Users per second: 285\n"
     ]
    },
    {
     "name": "stdout",
     "output_type": "stream",
     "text": [
      "SearchBayesianSkopt: Config 161 is suboptimal. Config: {'alpha': 18.00940544648181, 'beta': 41.4701970291509, 'gamma': 55.38569883478436, 'theta': 21.208008379573457, 'sigma': 32.13102601508515, 'epsilon': 87.45475512713004} - results: PRECISION: 0.0485811, PRECISION_RECALL_MIN_DEN: 0.0829503, RECALL: 0.0781141, MAP: 0.0228200, MAP_MIN_DEN: 0.0383389, MRR: 0.1613103, NDCG: 0.0781591, F1: 0.0599055, HIT_RATE: 0.3391531, ARHR_ALL_HITS: 0.1907767, NOVELTY: 0.0035109, AVERAGE_POPULARITY: 0.2789874, DIVERSITY_MEAN_INTER_LIST: 0.8718643, DIVERSITY_HERFINDAHL: 0.9871843, COVERAGE_ITEM: 0.1433781, COVERAGE_ITEM_HIT: 0.0303919, ITEMS_IN_GT: 0.8701015, COVERAGE_USER: 0.9768671, COVERAGE_USER_HIT: 0.3313075, USERS_IN_GT: 0.9768671, DIVERSITY_GINI: 0.0085697, SHANNON_ENTROPY: 7.7724916, RATIO_DIVERSITY_HERFINDAHL: 0.9875099, RATIO_DIVERSITY_GINI: 0.0192381, RATIO_SHANNON_ENTROPY: 0.5759991, RATIO_AVERAGE_POPULARITY: 5.4759740, RATIO_NOVELTY: 0.2292389, \n",
      "\n",
      "Iteration No: 162 ended. Evaluation done at random point.\n",
      "Time taken: 142.9108\n",
      "Function value obtained: -0.0228\n",
      "Current minimum: -0.0268\n",
      "Iteration No: 163 started. Evaluating function at random point.\n",
      "SearchBayesianSkopt: Testing config: {'alpha': 29.06202486980452, 'beta': 29.083819888133238, 'gamma': 31.248167965117187, 'theta': 31.536462169263974, 'sigma': 82.20605691104825, 'epsilon': 18.971614979279167}\n"
     ]
    },
    {
     "name": "stdout",
     "output_type": "stream",
     "text": [
      "DifferentLossScoresHybridRecommender: URM Detected 3461 (12.4%) items with no interactions.\n"
     ]
    },
    {
     "name": "stdout",
     "output_type": "stream",
     "text": [
      "EvaluatorHoldout: Processed 40666 (100.0%) in 2.38 min. Users per second: 285\n"
     ]
    },
    {
     "name": "stdout",
     "output_type": "stream",
     "text": [
      "SearchBayesianSkopt: Config 162 is suboptimal. Config: {'alpha': 29.06202486980452, 'beta': 29.083819888133238, 'gamma': 31.248167965117187, 'theta': 31.536462169263974, 'sigma': 82.20605691104825, 'epsilon': 18.971614979279167} - results: PRECISION: 0.0441819, PRECISION_RECALL_MIN_DEN: 0.0765175, RECALL: 0.0722697, MAP: 0.0200745, MAP_MIN_DEN: 0.0342806, MRR: 0.1465592, NDCG: 0.0709831, F1: 0.0548384, HIT_RATE: 0.3195790, ARHR_ALL_HITS: 0.1707748, NOVELTY: 0.0034148, AVERAGE_POPULARITY: 0.3275949, DIVERSITY_MEAN_INTER_LIST: 0.7961496, DIVERSITY_HERFINDAHL: 0.9796130, COVERAGE_ITEM: 0.1987271, COVERAGE_ITEM_HIT: 0.0259940, ITEMS_IN_GT: 0.8701015, COVERAGE_USER: 0.9768671, COVERAGE_USER_HIT: 0.3121862, USERS_IN_GT: 0.9768671, DIVERSITY_GINI: 0.0083368, SHANNON_ENTROPY: 7.2081697, RATIO_DIVERSITY_HERFINDAHL: 0.9799361, RATIO_DIVERSITY_GINI: 0.0187152, RATIO_SHANNON_ENTROPY: 0.5341787, RATIO_AVERAGE_POPULARITY: 6.4300445, RATIO_NOVELTY: 0.2229673, \n",
      "\n",
      "Iteration No: 163 ended. Evaluation done at random point.\n",
      "Time taken: 143.0953\n",
      "Function value obtained: -0.0201\n",
      "Current minimum: -0.0268\n",
      "Iteration No: 164 started. Evaluating function at random point.\n",
      "SearchBayesianSkopt: Testing config: {'alpha': 37.543601442623974, 'beta': 33.67719199962817, 'gamma': 79.79456501260603, 'theta': 19.404084246255454, 'sigma': 96.82639747787972, 'epsilon': 93.44913750432767}\n"
     ]
    },
    {
     "name": "stdout",
     "output_type": "stream",
     "text": [
      "DifferentLossScoresHybridRecommender: URM Detected 3461 (12.4%) items with no interactions.\n"
     ]
    },
    {
     "name": "stdout",
     "output_type": "stream",
     "text": [
      "EvaluatorHoldout: Processed 40666 (100.0%) in 2.39 min. Users per second: 284\n"
     ]
    },
    {
     "name": "stdout",
     "output_type": "stream",
     "text": [
      "SearchBayesianSkopt: Config 163 is suboptimal. Config: {'alpha': 37.543601442623974, 'beta': 33.67719199962817, 'gamma': 79.79456501260603, 'theta': 19.404084246255454, 'sigma': 96.82639747787972, 'epsilon': 93.44913750432767} - results: PRECISION: 0.0455589, PRECISION_RECALL_MIN_DEN: 0.0787719, RECALL: 0.0743815, MAP: 0.0208598, MAP_MIN_DEN: 0.0355348, MRR: 0.1508479, NDCG: 0.0732390, F1: 0.0565071, HIT_RATE: 0.3263414, ARHR_ALL_HITS: 0.1765766, NOVELTY: 0.0034445, AVERAGE_POPULARITY: 0.3122120, DIVERSITY_MEAN_INTER_LIST: 0.8230107, DIVERSITY_HERFINDAHL: 0.9822990, COVERAGE_ITEM: 0.1826731, COVERAGE_ITEM_HIT: 0.0272812, ITEMS_IN_GT: 0.8701015, COVERAGE_USER: 0.9768671, COVERAGE_USER_HIT: 0.3187922, USERS_IN_GT: 0.9768671, DIVERSITY_GINI: 0.0082882, SHANNON_ENTROPY: 7.3929875, RATIO_DIVERSITY_HERFINDAHL: 0.9826230, RATIO_DIVERSITY_GINI: 0.0186061, RATIO_SHANNON_ENTROPY: 0.5478750, RATIO_AVERAGE_POPULARITY: 6.1281080, RATIO_NOVELTY: 0.2249031, \n",
      "\n",
      "Iteration No: 164 ended. Evaluation done at random point.\n",
      "Time taken: 143.5171\n",
      "Function value obtained: -0.0209\n",
      "Current minimum: -0.0268\n",
      "Iteration No: 165 started. Evaluating function at random point.\n",
      "SearchBayesianSkopt: Testing config: {'alpha': 91.5148838854752, 'beta': 37.78636087523791, 'gamma': 42.163646945877396, 'theta': 20.857150661250962, 'sigma': 65.52176385457493, 'epsilon': 40.35063069686583}\n"
     ]
    },
    {
     "name": "stdout",
     "output_type": "stream",
     "text": [
      "DifferentLossScoresHybridRecommender: URM Detected 3461 (12.4%) items with no interactions.\n"
     ]
    },
    {
     "name": "stdout",
     "output_type": "stream",
     "text": [
      "EvaluatorHoldout: Processed 40666 (100.0%) in 2.37 min. Users per second: 286\n"
     ]
    },
    {
     "name": "stdout",
     "output_type": "stream",
     "text": [
      "SearchBayesianSkopt: Config 164 is suboptimal. Config: {'alpha': 91.5148838854752, 'beta': 37.78636087523791, 'gamma': 42.163646945877396, 'theta': 20.857150661250962, 'sigma': 65.52176385457493, 'epsilon': 40.35063069686583} - results: PRECISION: 0.0460409, PRECISION_RECALL_MIN_DEN: 0.0795147, RECALL: 0.0750643, MAP: 0.0211640, MAP_MIN_DEN: 0.0360787, MRR: 0.1527194, NDCG: 0.0741414, F1: 0.0570748, HIT_RATE: 0.3290710, ARHR_ALL_HITS: 0.1789357, NOVELTY: 0.0034444, AVERAGE_POPULARITY: 0.3144890, DIVERSITY_MEAN_INTER_LIST: 0.8186598, DIVERSITY_HERFINDAHL: 0.9818640, COVERAGE_ITEM: 0.1768807, COVERAGE_ITEM_HIT: 0.0290689, ITEMS_IN_GT: 0.8701015, COVERAGE_USER: 0.9768671, COVERAGE_USER_HIT: 0.3214586, USERS_IN_GT: 0.9768671, DIVERSITY_GINI: 0.0084894, SHANNON_ENTROPY: 7.3972675, RATIO_DIVERSITY_HERFINDAHL: 0.9821878, RATIO_DIVERSITY_GINI: 0.0190579, RATIO_SHANNON_ENTROPY: 0.5481922, RATIO_AVERAGE_POPULARITY: 6.1728012, RATIO_NOVELTY: 0.2248981, \n",
      "\n",
      "Iteration No: 165 ended. Evaluation done at random point.\n",
      "Time taken: 142.3078\n",
      "Function value obtained: -0.0212\n",
      "Current minimum: -0.0268\n",
      "Iteration No: 166 started. Evaluating function at random point.\n",
      "SearchBayesianSkopt: Testing config: {'alpha': 26.736994554844024, 'beta': 73.37816713742413, 'gamma': 47.068361571875585, 'theta': 84.5168042137092, 'sigma': 6.507523664303163, 'epsilon': 63.296216305941854}\n"
     ]
    },
    {
     "name": "stdout",
     "output_type": "stream",
     "text": [
      "DifferentLossScoresHybridRecommender: URM Detected 3461 (12.4%) items with no interactions.\n"
     ]
    },
    {
     "name": "stdout",
     "output_type": "stream",
     "text": [
      "EvaluatorHoldout: Processed 40666 (100.0%) in 2.37 min. Users per second: 285\n"
     ]
    },
    {
     "name": "stdout",
     "output_type": "stream",
     "text": [
      "SearchBayesianSkopt: Config 165 is suboptimal. Config: {'alpha': 26.736994554844024, 'beta': 73.37816713742413, 'gamma': 47.068361571875585, 'theta': 84.5168042137092, 'sigma': 6.507523664303163, 'epsilon': 63.296216305941854} - results: PRECISION: 0.0541189, PRECISION_RECALL_MIN_DEN: 0.0906232, RECALL: 0.0848923, MAP: 0.0264903, MAP_MIN_DEN: 0.0433325, MRR: 0.1785991, NDCG: 0.0867917, F1: 0.0660994, HIT_RATE: 0.3590469, ARHR_ALL_HITS: 0.2159388, NOVELTY: 0.0036608, AVERAGE_POPULARITY: 0.2175359, DIVERSITY_MEAN_INTER_LIST: 0.9333212, DIVERSITY_HERFINDAHL: 0.9933298, COVERAGE_ITEM: 0.1195295, COVERAGE_ITEM_HIT: 0.0405463, ITEMS_IN_GT: 0.8701015, COVERAGE_USER: 0.9768671, COVERAGE_USER_HIT: 0.3507411, USERS_IN_GT: 0.9768671, DIVERSITY_GINI: 0.0119360, SHANNON_ENTROPY: 8.5073604, RATIO_DIVERSITY_HERFINDAHL: 0.9936574, RATIO_DIVERSITY_GINI: 0.0267950, RATIO_SHANNON_ENTROPY: 0.6304583, RATIO_AVERAGE_POPULARITY: 4.2698026, RATIO_NOVELTY: 0.2390248, \n",
      "\n",
      "Iteration No: 166 ended. Evaluation done at random point.\n",
      "Time taken: 142.7045\n",
      "Function value obtained: -0.0265\n",
      "Current minimum: -0.0268\n",
      "Iteration No: 167 started. Evaluating function at random point.\n",
      "SearchBayesianSkopt: Testing config: {'alpha': 45.676345422502095, 'beta': 6.862940111667849, 'gamma': 92.99636911820862, 'theta': 38.1915071355918, 'sigma': 52.653781787045375, 'epsilon': 47.837987273356276}\n"
     ]
    },
    {
     "name": "stdout",
     "output_type": "stream",
     "text": [
      "DifferentLossScoresHybridRecommender: URM Detected 3461 (12.4%) items with no interactions.\n"
     ]
    },
    {
     "name": "stdout",
     "output_type": "stream",
     "text": [
      "EvaluatorHoldout: Processed 40666 (100.0%) in 2.38 min. Users per second: 285\n"
     ]
    },
    {
     "name": "stdout",
     "output_type": "stream",
     "text": [
      "SearchBayesianSkopt: Config 166 is suboptimal. Config: {'alpha': 45.676345422502095, 'beta': 6.862940111667849, 'gamma': 92.99636911820862, 'theta': 38.1915071355918, 'sigma': 52.653781787045375, 'epsilon': 47.837987273356276} - results: PRECISION: 0.0466631, PRECISION_RECALL_MIN_DEN: 0.0804128, RECALL: 0.0758765, MAP: 0.0215000, MAP_MIN_DEN: 0.0364979, MRR: 0.1542660, NDCG: 0.0749691, F1: 0.0577875, HIT_RATE: 0.3314563, ARHR_ALL_HITS: 0.1812055, NOVELTY: 0.0034630, AVERAGE_POPULARITY: 0.3062376, DIVERSITY_MEAN_INTER_LIST: 0.8318067, DIVERSITY_HERFINDAHL: 0.9831786, COVERAGE_ITEM: 0.1933996, COVERAGE_ITEM_HIT: 0.0294265, ITEMS_IN_GT: 0.8701015, COVERAGE_USER: 0.9768671, COVERAGE_USER_HIT: 0.3237887, USERS_IN_GT: 0.9768671, DIVERSITY_GINI: 0.0090694, SHANNON_ENTROPY: 7.5003305, RATIO_DIVERSITY_HERFINDAHL: 0.9835029, RATIO_DIVERSITY_GINI: 0.0203598, RATIO_SHANNON_ENTROPY: 0.5558299, RATIO_AVERAGE_POPULARITY: 6.0108418, RATIO_NOVELTY: 0.2261111, \n",
      "\n",
      "Iteration No: 167 ended. Evaluation done at random point.\n",
      "Time taken: 142.8465\n",
      "Function value obtained: -0.0215\n",
      "Current minimum: -0.0268\n",
      "Iteration No: 168 started. Evaluating function at random point.\n",
      "SearchBayesianSkopt: Testing config: {'alpha': 5.832486747662237, 'beta': 44.168230159075364, 'gamma': 78.03313410689374, 'theta': 61.65334078286552, 'sigma': 5.0561003397500155, 'epsilon': 63.55203649047281}\n"
     ]
    },
    {
     "name": "stdout",
     "output_type": "stream",
     "text": [
      "DifferentLossScoresHybridRecommender: URM Detected 3461 (12.4%) items with no interactions.\n"
     ]
    },
    {
     "name": "stdout",
     "output_type": "stream",
     "text": [
      "EvaluatorHoldout: Processed 40666 (100.0%) in 2.38 min. Users per second: 285\n"
     ]
    },
    {
     "name": "stdout",
     "output_type": "stream",
     "text": [
      "SearchBayesianSkopt: Config 167 is suboptimal. Config: {'alpha': 5.832486747662237, 'beta': 44.168230159075364, 'gamma': 78.03313410689374, 'theta': 61.65334078286552, 'sigma': 5.0561003397500155, 'epsilon': 63.55203649047281} - results: PRECISION: 0.0535386, PRECISION_RECALL_MIN_DEN: 0.0893901, RECALL: 0.0836449, MAP: 0.0262164, MAP_MIN_DEN: 0.0427906, MRR: 0.1766982, NDCG: 0.0857402, F1: 0.0652882, HIT_RATE: 0.3553337, ARHR_ALL_HITS: 0.2136595, NOVELTY: 0.0036727, AVERAGE_POPULARITY: 0.2091487, DIVERSITY_MEAN_INTER_LIST: 0.9396073, DIVERSITY_HERFINDAHL: 0.9939584, COVERAGE_ITEM: 0.1251073, COVERAGE_ITEM_HIT: 0.0392949, ITEMS_IN_GT: 0.8701015, COVERAGE_USER: 0.9768671, COVERAGE_USER_HIT: 0.3471138, USERS_IN_GT: 0.9768671, DIVERSITY_GINI: 0.0118080, SHANNON_ENTROPY: 8.5420772, RATIO_DIVERSITY_HERFINDAHL: 0.9942862, RATIO_DIVERSITY_GINI: 0.0265078, RATIO_SHANNON_ENTROPY: 0.6330311, RATIO_AVERAGE_POPULARITY: 4.1051780, RATIO_NOVELTY: 0.2398014, \n",
      "\n",
      "Iteration No: 168 ended. Evaluation done at random point.\n",
      "Time taken: 142.8369\n",
      "Function value obtained: -0.0262\n",
      "Current minimum: -0.0268\n",
      "Iteration No: 169 started. Evaluating function at random point.\n",
      "SearchBayesianSkopt: Testing config: {'alpha': 17.6007301873276, 'beta': 34.60110695940756, 'gamma': 86.35013878591921, 'theta': 54.28393341044949, 'sigma': 76.47398577061567, 'epsilon': 61.17293683050805}\n"
     ]
    },
    {
     "name": "stdout",
     "output_type": "stream",
     "text": [
      "DifferentLossScoresHybridRecommender: URM Detected 3461 (12.4%) items with no interactions.\n"
     ]
    },
    {
     "name": "stdout",
     "output_type": "stream",
     "text": [
      "EvaluatorHoldout: Processed 40666 (100.0%) in 2.37 min. Users per second: 286\n"
     ]
    },
    {
     "name": "stdout",
     "output_type": "stream",
     "text": [
      "SearchBayesianSkopt: Config 168 is suboptimal. Config: {'alpha': 17.6007301873276, 'beta': 34.60110695940756, 'gamma': 86.35013878591921, 'theta': 54.28393341044949, 'sigma': 76.47398577061567, 'epsilon': 61.17293683050805} - results: PRECISION: 0.0457999, PRECISION_RECALL_MIN_DEN: 0.0791242, RECALL: 0.0746941, MAP: 0.0210073, MAP_MIN_DEN: 0.0357842, MRR: 0.1515909, NDCG: 0.0736466, F1: 0.0567826, HIT_RATE: 0.3275709, ARHR_ALL_HITS: 0.1776060, NOVELTY: 0.0034480, AVERAGE_POPULARITY: 0.3119737, DIVERSITY_MEAN_INTER_LIST: 0.8230156, DIVERSITY_HERFINDAHL: 0.9822995, COVERAGE_ITEM: 0.1895380, COVERAGE_ITEM_HIT: 0.0279248, ITEMS_IN_GT: 0.8701015, COVERAGE_USER: 0.9768671, COVERAGE_USER_HIT: 0.3199933, USERS_IN_GT: 0.9768671, DIVERSITY_GINI: 0.0086276, SHANNON_ENTROPY: 7.4130524, RATIO_DIVERSITY_HERFINDAHL: 0.9826235, RATIO_DIVERSITY_GINI: 0.0193681, RATIO_SHANNON_ENTROPY: 0.5493620, RATIO_AVERAGE_POPULARITY: 6.1234302, RATIO_NOVELTY: 0.2251344, \n",
      "\n",
      "Iteration No: 169 ended. Evaluation done at random point.\n",
      "Time taken: 142.3798\n",
      "Function value obtained: -0.0210\n",
      "Current minimum: -0.0268\n",
      "Iteration No: 170 started. Evaluating function at random point.\n",
      "SearchBayesianSkopt: Testing config: {'alpha': 36.651082754216354, 'beta': 61.546650304980766, 'gamma': 62.234166875306926, 'theta': 95.09391023230766, 'sigma': 71.33142222954478, 'epsilon': 79.39299757289436}\n"
     ]
    },
    {
     "name": "stdout",
     "output_type": "stream",
     "text": [
      "DifferentLossScoresHybridRecommender: URM Detected 3461 (12.4%) items with no interactions.\n"
     ]
    },
    {
     "name": "stdout",
     "output_type": "stream",
     "text": [
      "EvaluatorHoldout: Processed 40666 (100.0%) in 2.38 min. Users per second: 285\n"
     ]
    },
    {
     "name": "stdout",
     "output_type": "stream",
     "text": [
      "SearchBayesianSkopt: Config 169 is suboptimal. Config: {'alpha': 36.651082754216354, 'beta': 61.546650304980766, 'gamma': 62.234166875306926, 'theta': 95.09391023230766, 'sigma': 71.33142222954478, 'epsilon': 79.39299757289436} - results: PRECISION: 0.0471081, PRECISION_RECALL_MIN_DEN: 0.0811001, RECALL: 0.0765256, MAP: 0.0218062, MAP_MIN_DEN: 0.0369837, MRR: 0.1561526, NDCG: 0.0758048, F1: 0.0583171, HIT_RATE: 0.3338169, ARHR_ALL_HITS: 0.1835957, NOVELTY: 0.0034676, AVERAGE_POPULARITY: 0.3026997, DIVERSITY_MEAN_INTER_LIST: 0.8377666, DIVERSITY_HERFINDAHL: 0.9837746, COVERAGE_ITEM: 0.1709811, COVERAGE_ITEM_HIT: 0.0295695, ITEMS_IN_GT: 0.8701015, COVERAGE_USER: 0.9768671, COVERAGE_USER_HIT: 0.3260948, USERS_IN_GT: 0.9768671, DIVERSITY_GINI: 0.0086266, SHANNON_ENTROPY: 7.5341567, RATIO_DIVERSITY_HERFINDAHL: 0.9840991, RATIO_DIVERSITY_GINI: 0.0193659, RATIO_SHANNON_ENTROPY: 0.5583367, RATIO_AVERAGE_POPULARITY: 5.9414011, RATIO_NOVELTY: 0.2264112, \n",
      "\n",
      "Iteration No: 170 ended. Evaluation done at random point.\n",
      "Time taken: 142.9873\n",
      "Function value obtained: -0.0218\n",
      "Current minimum: -0.0268\n",
      "Iteration No: 171 started. Evaluating function at random point.\n",
      "SearchBayesianSkopt: Testing config: {'alpha': 54.732308997689735, 'beta': 79.39785342597064, 'gamma': 10.606439653157965, 'theta': 90.98806379675796, 'sigma': 64.64591149583711, 'epsilon': 13.780486967963181}\n"
     ]
    },
    {
     "name": "stdout",
     "output_type": "stream",
     "text": [
      "DifferentLossScoresHybridRecommender: URM Detected 3461 (12.4%) items with no interactions.\n"
     ]
    },
    {
     "name": "stdout",
     "output_type": "stream",
     "text": [
      "EvaluatorHoldout: Processed 40666 (100.0%) in 2.37 min. Users per second: 286\n"
     ]
    },
    {
     "name": "stdout",
     "output_type": "stream",
     "text": [
      "SearchBayesianSkopt: Config 170 is suboptimal. Config: {'alpha': 54.732308997689735, 'beta': 79.39785342597064, 'gamma': 10.606439653157965, 'theta': 90.98806379675796, 'sigma': 64.64591149583711, 'epsilon': 13.780486967963181} - results: PRECISION: 0.0460557, PRECISION_RECALL_MIN_DEN: 0.0795794, RECALL: 0.0751377, MAP: 0.0211306, MAP_MIN_DEN: 0.0360041, MRR: 0.1525541, NDCG: 0.0740881, F1: 0.0571074, HIT_RATE: 0.3291693, ARHR_ALL_HITS: 0.1786812, NOVELTY: 0.0034380, AVERAGE_POPULARITY: 0.3186323, DIVERSITY_MEAN_INTER_LIST: 0.8113650, DIVERSITY_HERFINDAHL: 0.9811345, COVERAGE_ITEM: 0.1740561, COVERAGE_ITEM_HIT: 0.0292835, ITEMS_IN_GT: 0.8701015, COVERAGE_USER: 0.9768671, COVERAGE_USER_HIT: 0.3215547, USERS_IN_GT: 0.9768671, DIVERSITY_GINI: 0.0084913, SHANNON_ENTROPY: 7.3602304, RATIO_DIVERSITY_HERFINDAHL: 0.9814581, RATIO_DIVERSITY_GINI: 0.0190622, RATIO_SHANNON_ENTROPY: 0.5454475, RATIO_AVERAGE_POPULARITY: 6.2541258, RATIO_NOVELTY: 0.2244812, \n",
      "\n",
      "Iteration No: 171 ended. Evaluation done at random point.\n",
      "Time taken: 142.2924\n",
      "Function value obtained: -0.0211\n",
      "Current minimum: -0.0268\n",
      "Iteration No: 172 started. Evaluating function at random point.\n",
      "SearchBayesianSkopt: Testing config: {'alpha': 1.805318556386582, 'beta': 31.131928430454774, 'gamma': 59.826096519124135, 'theta': 89.96918081352364, 'sigma': 67.96751729564764, 'epsilon': 78.6289173116735}\n"
     ]
    },
    {
     "name": "stdout",
     "output_type": "stream",
     "text": [
      "DifferentLossScoresHybridRecommender: URM Detected 3461 (12.4%) items with no interactions.\n"
     ]
    },
    {
     "name": "stdout",
     "output_type": "stream",
     "text": [
      "EvaluatorHoldout: Processed 40666 (100.0%) in 2.37 min. Users per second: 286\n"
     ]
    },
    {
     "name": "stdout",
     "output_type": "stream",
     "text": [
      "SearchBayesianSkopt: Config 171 is suboptimal. Config: {'alpha': 1.805318556386582, 'beta': 31.131928430454774, 'gamma': 59.826096519124135, 'theta': 89.96918081352364, 'sigma': 67.96751729564764, 'epsilon': 78.6289173116735} - results: PRECISION: 0.0464811, PRECISION_RECALL_MIN_DEN: 0.0800675, RECALL: 0.0755452, MAP: 0.0214451, MAP_MIN_DEN: 0.0364023, MRR: 0.1540282, NDCG: 0.0747551, F1: 0.0575519, HIT_RATE: 0.3304234, ARHR_ALL_HITS: 0.1808406, NOVELTY: 0.0034616, AVERAGE_POPULARITY: 0.3044041, DIVERSITY_MEAN_INTER_LIST: 0.8353731, DIVERSITY_HERFINDAHL: 0.9835353, COVERAGE_ITEM: 0.1787757, COVERAGE_ITEM_HIT: 0.0282823, ITEMS_IN_GT: 0.8701015, COVERAGE_USER: 0.9768671, COVERAGE_USER_HIT: 0.3227798, USERS_IN_GT: 0.9768671, DIVERSITY_GINI: 0.0085178, SHANNON_ENTROPY: 7.4960960, RATIO_DIVERSITY_HERFINDAHL: 0.9838596, RATIO_DIVERSITY_GINI: 0.0191216, RATIO_SHANNON_ENTROPY: 0.5555161, RATIO_AVERAGE_POPULARITY: 5.9748541, RATIO_NOVELTY: 0.2260234, \n",
      "\n",
      "Iteration No: 172 ended. Evaluation done at random point.\n",
      "Time taken: 142.4036\n",
      "Function value obtained: -0.0214\n",
      "Current minimum: -0.0268\n",
      "Iteration No: 173 started. Evaluating function at random point.\n",
      "SearchBayesianSkopt: Testing config: {'alpha': 16.970545069573653, 'beta': 41.56916314382364, 'gamma': 23.630783702908392, 'theta': 10.187208368138547, 'sigma': 16.576417675498302, 'epsilon': 11.06906540818903}\n"
     ]
    },
    {
     "name": "stdout",
     "output_type": "stream",
     "text": [
      "DifferentLossScoresHybridRecommender: URM Detected 3461 (12.4%) items with no interactions.\n"
     ]
    },
    {
     "name": "stdout",
     "output_type": "stream",
     "text": [
      "EvaluatorHoldout: Processed 40666 (100.0%) in 2.36 min. Users per second: 287\n"
     ]
    },
    {
     "name": "stdout",
     "output_type": "stream",
     "text": [
      "SearchBayesianSkopt: Config 172 is suboptimal. Config: {'alpha': 16.970545069573653, 'beta': 41.56916314382364, 'gamma': 23.630783702908392, 'theta': 10.187208368138547, 'sigma': 16.576417675498302, 'epsilon': 11.06906540818903} - results: PRECISION: 0.0478336, PRECISION_RECALL_MIN_DEN: 0.0821775, RECALL: 0.0775218, MAP: 0.0222288, MAP_MIN_DEN: 0.0376840, MRR: 0.1586270, NDCG: 0.0770352, F1: 0.0591621, HIT_RATE: 0.3372842, ARHR_ALL_HITS: 0.1867884, NOVELTY: 0.0034693, AVERAGE_POPULARITY: 0.3056849, DIVERSITY_MEAN_INTER_LIST: 0.8321574, DIVERSITY_HERFINDAHL: 0.9832137, COVERAGE_ITEM: 0.1636513, COVERAGE_ITEM_HIT: 0.0321796, ITEMS_IN_GT: 0.8701015, COVERAGE_USER: 0.9768671, COVERAGE_USER_HIT: 0.3294819, USERS_IN_GT: 0.9768671, DIVERSITY_GINI: 0.0089765, SHANNON_ENTROPY: 7.5450704, RATIO_DIVERSITY_HERFINDAHL: 0.9835380, RATIO_DIVERSITY_GINI: 0.0201513, RATIO_SHANNON_ENTROPY: 0.5591455, RATIO_AVERAGE_POPULARITY: 5.9999941, RATIO_NOVELTY: 0.2265197, \n",
      "\n",
      "Iteration No: 173 ended. Evaluation done at random point.\n",
      "Time taken: 142.0248\n",
      "Function value obtained: -0.0222\n",
      "Current minimum: -0.0268\n",
      "Iteration No: 174 started. Evaluating function at random point.\n",
      "SearchBayesianSkopt: Testing config: {'alpha': 91.95604058521509, 'beta': 95.23038255822182, 'gamma': 87.42321079448051, 'theta': 24.871880664905916, 'sigma': 28.117055357029425, 'epsilon': 50.11137725626889}\n"
     ]
    },
    {
     "name": "stdout",
     "output_type": "stream",
     "text": [
      "DifferentLossScoresHybridRecommender: URM Detected 3461 (12.4%) items with no interactions.\n"
     ]
    },
    {
     "name": "stdout",
     "output_type": "stream",
     "text": [
      "EvaluatorHoldout: Processed 40666 (100.0%) in 2.37 min. Users per second: 286\n"
     ]
    },
    {
     "name": "stdout",
     "output_type": "stream",
     "text": [
      "SearchBayesianSkopt: Config 173 is suboptimal. Config: {'alpha': 91.95604058521509, 'beta': 95.23038255822182, 'gamma': 87.42321079448051, 'theta': 24.871880664905916, 'sigma': 28.117055357029425, 'epsilon': 50.11137725626889} - results: PRECISION: 0.0506517, PRECISION_RECALL_MIN_DEN: 0.0863096, RECALL: 0.0812426, MAP: 0.0240121, MAP_MIN_DEN: 0.0402277, MRR: 0.1676336, NDCG: 0.0815521, F1: 0.0623996, HIT_RATE: 0.3483992, ARHR_ALL_HITS: 0.1994571, NOVELTY: 0.0035358, AVERAGE_POPULARITY: 0.2772542, DIVERSITY_MEAN_INTER_LIST: 0.8719641, DIVERSITY_HERFINDAHL: 0.9871943, COVERAGE_ITEM: 0.1512443, COVERAGE_ITEM_HIT: 0.0358982, ITEMS_IN_GT: 0.8701015, COVERAGE_USER: 0.9768671, COVERAGE_USER_HIT: 0.3403397, USERS_IN_GT: 0.9768671, DIVERSITY_GINI: 0.0102172, SHANNON_ENTROPY: 7.9148661, RATIO_DIVERSITY_HERFINDAHL: 0.9875198, RATIO_DIVERSITY_GINI: 0.0229365, RATIO_SHANNON_ENTROPY: 0.5865501, RATIO_AVERAGE_POPULARITY: 5.4419542, RATIO_NOVELTY: 0.2308673, \n",
      "\n",
      "Iteration No: 174 ended. Evaluation done at random point.\n",
      "Time taken: 142.4113\n",
      "Function value obtained: -0.0240\n",
      "Current minimum: -0.0268\n",
      "Iteration No: 175 started. Evaluating function at random point.\n",
      "SearchBayesianSkopt: Testing config: {'alpha': 95.27149160995299, 'beta': 64.33830916740676, 'gamma': 28.79907651543275, 'theta': 94.04371559953533, 'sigma': 50.656506788798715, 'epsilon': 80.88623844004363}\n"
     ]
    },
    {
     "name": "stdout",
     "output_type": "stream",
     "text": [
      "DifferentLossScoresHybridRecommender: URM Detected 3461 (12.4%) items with no interactions.\n"
     ]
    },
    {
     "name": "stdout",
     "output_type": "stream",
     "text": [
      "EvaluatorHoldout: Processed 40666 (100.0%) in 2.36 min. Users per second: 287\n"
     ]
    },
    {
     "name": "stdout",
     "output_type": "stream",
     "text": [
      "SearchBayesianSkopt: Config 174 is suboptimal. Config: {'alpha': 95.27149160995299, 'beta': 64.33830916740676, 'gamma': 28.79907651543275, 'theta': 94.04371559953533, 'sigma': 50.656506788798715, 'epsilon': 80.88623844004363} - results: PRECISION: 0.0486942, PRECISION_RECALL_MIN_DEN: 0.0833916, RECALL: 0.0785935, MAP: 0.0228062, MAP_MIN_DEN: 0.0384488, MRR: 0.1615560, NDCG: 0.0784140, F1: 0.0601323, HIT_RATE: 0.3404564, ARHR_ALL_HITS: 0.1909259, NOVELTY: 0.0034973, AVERAGE_POPULARITY: 0.2894970, DIVERSITY_MEAN_INTER_LIST: 0.8569338, DIVERSITY_HERFINDAHL: 0.9856913, COVERAGE_ITEM: 0.1473112, COVERAGE_ITEM_HIT: 0.0315718, ITEMS_IN_GT: 0.8701015, COVERAGE_USER: 0.9768671, COVERAGE_USER_HIT: 0.3325807, USERS_IN_GT: 0.9768671, DIVERSITY_GINI: 0.0089036, SHANNON_ENTROPY: 7.7086666, RATIO_DIVERSITY_HERFINDAHL: 0.9860164, RATIO_DIVERSITY_GINI: 0.0199877, RATIO_SHANNON_ENTROPY: 0.5712692, RATIO_AVERAGE_POPULARITY: 5.6822581, RATIO_NOVELTY: 0.2283514, \n",
      "\n"
     ]
    },
    {
     "name": "stdout",
     "output_type": "stream",
     "text": [
      "Iteration No: 175 ended. Evaluation done at random point.\n",
      "Time taken: 142.1664\n",
      "Function value obtained: -0.0228\n",
      "Current minimum: -0.0268\n",
      "Iteration No: 176 started. Evaluating function at random point.\n",
      "SearchBayesianSkopt: Testing config: {'alpha': 85.18210799225176, 'beta': 94.94412621946057, 'gamma': 39.84319964522407, 'theta': 93.58408462231431, 'sigma': 68.96477004076614, 'epsilon': 87.47150650134942}\n"
     ]
    },
    {
     "name": "stdout",
     "output_type": "stream",
     "text": [
      "DifferentLossScoresHybridRecommender: URM Detected 3461 (12.4%) items with no interactions.\n"
     ]
    },
    {
     "name": "stdout",
     "output_type": "stream",
     "text": [
      "EvaluatorHoldout: Processed 40666 (100.0%) in 2.36 min. Users per second: 287\n"
     ]
    },
    {
     "name": "stdout",
     "output_type": "stream",
     "text": [
      "SearchBayesianSkopt: Config 175 is suboptimal. Config: {'alpha': 85.18210799225176, 'beta': 94.94412621946057, 'gamma': 39.84319964522407, 'theta': 93.58408462231431, 'sigma': 68.96477004076614, 'epsilon': 87.47150650134942} - results: PRECISION: 0.0479614, PRECISION_RECALL_MIN_DEN: 0.0824394, RECALL: 0.0777439, MAP: 0.0222943, MAP_MIN_DEN: 0.0377284, MRR: 0.1588221, NDCG: 0.0771749, F1: 0.0593246, HIT_RATE: 0.3378744, ARHR_ALL_HITS: 0.1871945, NOVELTY: 0.0034788, AVERAGE_POPULARITY: 0.2979262, DIVERSITY_MEAN_INTER_LIST: 0.8448799, DIVERSITY_HERFINDAHL: 0.9844859, COVERAGE_ITEM: 0.1541047, COVERAGE_ITEM_HIT: 0.0308209, ITEMS_IN_GT: 0.8701015, COVERAGE_USER: 0.9768671, COVERAGE_USER_HIT: 0.3300584, USERS_IN_GT: 0.9768671, DIVERSITY_GINI: 0.0086468, SHANNON_ENTROPY: 7.6034231, RATIO_DIVERSITY_HERFINDAHL: 0.9848106, RATIO_DIVERSITY_GINI: 0.0194112, RATIO_SHANNON_ENTROPY: 0.5634699, RATIO_AVERAGE_POPULARITY: 5.8477050, RATIO_NOVELTY: 0.2271441, \n",
      "\n",
      "Iteration No: 176 ended. Evaluation done at random point.\n",
      "Time taken: 141.9459\n",
      "Function value obtained: -0.0223\n",
      "Current minimum: -0.0268\n",
      "Iteration No: 177 started. Evaluating function at random point.\n",
      "SearchBayesianSkopt: Testing config: {'alpha': 17.002615516628975, 'beta': 21.409778052587054, 'gamma': 56.563161435424306, 'theta': 97.3902678886752, 'sigma': 46.330964463424365, 'epsilon': 13.921025503438292}\n"
     ]
    },
    {
     "name": "stdout",
     "output_type": "stream",
     "text": [
      "DifferentLossScoresHybridRecommender: URM Detected 3461 (12.4%) items with no interactions.\n"
     ]
    },
    {
     "name": "stdout",
     "output_type": "stream",
     "text": [
      "EvaluatorHoldout: Processed 40666 (100.0%) in 2.37 min. Users per second: 285\n"
     ]
    },
    {
     "name": "stdout",
     "output_type": "stream",
     "text": [
      "SearchBayesianSkopt: Config 176 is suboptimal. Config: {'alpha': 17.002615516628975, 'beta': 21.409778052587054, 'gamma': 56.563161435424306, 'theta': 97.3902678886752, 'sigma': 46.330964463424365, 'epsilon': 13.921025503438292} - results: PRECISION: 0.0463237, PRECISION_RECALL_MIN_DEN: 0.0798208, RECALL: 0.0753220, MAP: 0.0212944, MAP_MIN_DEN: 0.0362381, MRR: 0.1533559, NDCG: 0.0744672, F1: 0.0573665, HIT_RATE: 0.3299808, ARHR_ALL_HITS: 0.1798212, NOVELTY: 0.0034513, AVERAGE_POPULARITY: 0.3134102, DIVERSITY_MEAN_INTER_LIST: 0.8197985, DIVERSITY_HERFINDAHL: 0.9819778, COVERAGE_ITEM: 0.2004434, COVERAGE_ITEM_HIT: 0.0296768, ITEMS_IN_GT: 0.8701015, COVERAGE_USER: 0.9768671, COVERAGE_USER_HIT: 0.3223474, USERS_IN_GT: 0.9768671, DIVERSITY_GINI: 0.0092427, SHANNON_ENTROPY: 7.4319419, RATIO_DIVERSITY_HERFINDAHL: 0.9823017, RATIO_DIVERSITY_GINI: 0.0207490, RATIO_SHANNON_ENTROPY: 0.5507618, RATIO_AVERAGE_POPULARITY: 6.1516258, RATIO_NOVELTY: 0.2253461, \n",
      "\n"
     ]
    },
    {
     "name": "stdout",
     "output_type": "stream",
     "text": [
      "Iteration No: 177 ended. Evaluation done at random point.\n",
      "Time taken: 142.7279\n",
      "Function value obtained: -0.0213\n",
      "Current minimum: -0.0268\n",
      "Iteration No: 178 started. Evaluating function at random point.\n",
      "SearchBayesianSkopt: Testing config: {'alpha': 35.083144293014925, 'beta': 18.56619830456491, 'gamma': 47.83682719990456, 'theta': 20.99323559810659, 'sigma': 38.3750029959435, 'epsilon': 20.230106749158765}\n"
     ]
    },
    {
     "name": "stdout",
     "output_type": "stream",
     "text": [
      "DifferentLossScoresHybridRecommender: URM Detected 3461 (12.4%) items with no interactions.\n"
     ]
    },
    {
     "name": "stdout",
     "output_type": "stream",
     "text": [
      "EvaluatorHoldout: Processed 40666 (100.0%) in 2.37 min. Users per second: 286\n"
     ]
    },
    {
     "name": "stdout",
     "output_type": "stream",
     "text": [
      "SearchBayesianSkopt: Config 177 is suboptimal. Config: {'alpha': 35.083144293014925, 'beta': 18.56619830456491, 'gamma': 47.83682719990456, 'theta': 20.99323559810659, 'sigma': 38.3750029959435, 'epsilon': 20.230106749158765} - results: PRECISION: 0.0459008, PRECISION_RECALL_MIN_DEN: 0.0792084, RECALL: 0.0747571, MAP: 0.0210961, MAP_MIN_DEN: 0.0359623, MRR: 0.1522954, NDCG: 0.0739028, F1: 0.0568783, HIT_RATE: 0.3282103, ARHR_ALL_HITS: 0.1783927, NOVELTY: 0.0034460, AVERAGE_POPULARITY: 0.3146702, DIVERSITY_MEAN_INTER_LIST: 0.8180797, DIVERSITY_HERFINDAHL: 0.9818060, COVERAGE_ITEM: 0.1925057, COVERAGE_ITEM_HIT: 0.0289259, ITEMS_IN_GT: 0.8701015, COVERAGE_USER: 0.9768671, COVERAGE_USER_HIT: 0.3206178, USERS_IN_GT: 0.9768671, DIVERSITY_GINI: 0.0088623, SHANNON_ENTROPY: 7.4012125, RATIO_DIVERSITY_HERFINDAHL: 0.9821298, RATIO_DIVERSITY_GINI: 0.0198950, RATIO_SHANNON_ENTROPY: 0.5484846, RATIO_AVERAGE_POPULARITY: 6.1763575, RATIO_NOVELTY: 0.2249988, \n",
      "\n",
      "Iteration No: 178 ended. Evaluation done at random point.\n",
      "Time taken: 142.3560\n",
      "Function value obtained: -0.0211\n",
      "Current minimum: -0.0268\n",
      "Iteration No: 179 started. Evaluating function at random point.\n",
      "SearchBayesianSkopt: Testing config: {'alpha': 40.70383723740969, 'beta': 20.21315752047142, 'gamma': 94.86426587907748, 'theta': 98.63814731387862, 'sigma': 23.046805941820107, 'epsilon': 0.1261142163854201}\n"
     ]
    },
    {
     "name": "stdout",
     "output_type": "stream",
     "text": [
      "DifferentLossScoresHybridRecommender: URM Detected 3461 (12.4%) items with no interactions.\n"
     ]
    },
    {
     "name": "stdout",
     "output_type": "stream",
     "text": [
      "EvaluatorHoldout: Processed 40666 (100.0%) in 2.37 min. Users per second: 286\n"
     ]
    },
    {
     "name": "stdout",
     "output_type": "stream",
     "text": [
      "SearchBayesianSkopt: Config 178 is suboptimal. Config: {'alpha': 40.70383723740969, 'beta': 20.21315752047142, 'gamma': 94.86426587907748, 'theta': 98.63814731387862, 'sigma': 23.046805941820107, 'epsilon': 0.1261142163854201} - results: PRECISION: 0.0492500, PRECISION_RECALL_MIN_DEN: 0.0843007, RECALL: 0.0794276, MAP: 0.0231308, MAP_MIN_DEN: 0.0390261, MRR: 0.1629084, NDCG: 0.0793331, F1: 0.0608002, HIT_RATE: 0.3427187, ARHR_ALL_HITS: 0.1930371, NOVELTY: 0.0035125, AVERAGE_POPULARITY: 0.2928205, DIVERSITY_MEAN_INTER_LIST: 0.8491386, DIVERSITY_HERFINDAHL: 0.9849118, COVERAGE_ITEM: 0.2046982, COVERAGE_ITEM_HIT: 0.0356479, ITEMS_IN_GT: 0.8701015, COVERAGE_USER: 0.9768671, COVERAGE_USER_HIT: 0.3347907, USERS_IN_GT: 0.9768671, DIVERSITY_GINI: 0.0112418, SHANNON_ENTROPY: 7.7749423, RATIO_DIVERSITY_HERFINDAHL: 0.9852366, RATIO_DIVERSITY_GINI: 0.0252367, RATIO_SHANNON_ENTROPY: 0.5761807, RATIO_AVERAGE_POPULARITY: 5.7474908, RATIO_NOVELTY: 0.2293462, \n",
      "\n",
      "Iteration No: 179 ended. Evaluation done at random point.\n",
      "Time taken: 142.4619\n",
      "Function value obtained: -0.0231\n",
      "Current minimum: -0.0268\n",
      "Iteration No: 180 started. Evaluating function at random point.\n",
      "SearchBayesianSkopt: Testing config: {'alpha': 64.29395448277637, 'beta': 21.069440463381888, 'gamma': 7.956481170889231, 'theta': 32.46990134479864, 'sigma': 93.99213912702123, 'epsilon': 81.69255463499042}\n"
     ]
    },
    {
     "name": "stdout",
     "output_type": "stream",
     "text": [
      "DifferentLossScoresHybridRecommender: URM Detected 3461 (12.4%) items with no interactions.\n"
     ]
    },
    {
     "name": "stdout",
     "output_type": "stream",
     "text": [
      "EvaluatorHoldout: Processed 40666 (100.0%) in 2.36 min. Users per second: 287\n"
     ]
    },
    {
     "name": "stdout",
     "output_type": "stream",
     "text": [
      "SearchBayesianSkopt: Config 179 is suboptimal. Config: {'alpha': 64.29395448277637, 'beta': 21.069440463381888, 'gamma': 7.956481170889231, 'theta': 32.46990134479864, 'sigma': 93.99213912702123, 'epsilon': 81.69255463499042} - results: PRECISION: 0.0452909, PRECISION_RECALL_MIN_DEN: 0.0782966, RECALL: 0.0739316, MAP: 0.0207157, MAP_MIN_DEN: 0.0352861, MRR: 0.1501414, NDCG: 0.0728077, F1: 0.0561711, HIT_RATE: 0.3250381, ARHR_ALL_HITS: 0.1755514, NOVELTY: 0.0034363, AVERAGE_POPULARITY: 0.3153663, DIVERSITY_MEAN_INTER_LIST: 0.8179782, DIVERSITY_HERFINDAHL: 0.9817958, COVERAGE_ITEM: 0.1740561, COVERAGE_ITEM_HIT: 0.0267449, ITEMS_IN_GT: 0.8701015, COVERAGE_USER: 0.9768671, COVERAGE_USER_HIT: 0.3175190, USERS_IN_GT: 0.9768671, DIVERSITY_GINI: 0.0079737, SHANNON_ENTROPY: 7.3476309, RATIO_DIVERSITY_HERFINDAHL: 0.9821196, RATIO_DIVERSITY_GINI: 0.0179001, RATIO_SHANNON_ENTROPY: 0.5445138, RATIO_AVERAGE_POPULARITY: 6.1900215, RATIO_NOVELTY: 0.2243658, \n",
      "\n",
      "Iteration No: 180 ended. Evaluation done at random point.\n",
      "Time taken: 141.9635\n",
      "Function value obtained: -0.0207\n",
      "Current minimum: -0.0268\n",
      "Iteration No: 181 started. Evaluating function at random point.\n",
      "SearchBayesianSkopt: Testing config: {'alpha': 47.54191633705172, 'beta': 50.13928232154142, 'gamma': 78.01175090431852, 'theta': 17.592811388321874, 'sigma': 49.7609083039695, 'epsilon': 92.62879077950406}\n"
     ]
    },
    {
     "name": "stdout",
     "output_type": "stream",
     "text": [
      "DifferentLossScoresHybridRecommender: URM Detected 3461 (12.4%) items with no interactions.\n"
     ]
    },
    {
     "name": "stdout",
     "output_type": "stream",
     "text": [
      "EvaluatorHoldout: Processed 40666 (100.0%) in 2.36 min. Users per second: 287\n"
     ]
    },
    {
     "name": "stdout",
     "output_type": "stream",
     "text": [
      "SearchBayesianSkopt: Config 180 is suboptimal. Config: {'alpha': 47.54191633705172, 'beta': 50.13928232154142, 'gamma': 78.01175090431852, 'theta': 17.592811388321874, 'sigma': 49.7609083039695, 'epsilon': 92.62879077950406} - results: PRECISION: 0.0478852, PRECISION_RECALL_MIN_DEN: 0.0821121, RECALL: 0.0774120, MAP: 0.0223158, MAP_MIN_DEN: 0.0377068, MRR: 0.1588214, NDCG: 0.0770680, F1: 0.0591696, HIT_RATE: 0.3369891, ARHR_ALL_HITS: 0.1872746, NOVELTY: 0.0034891, AVERAGE_POPULARITY: 0.2913048, DIVERSITY_MEAN_INTER_LIST: 0.8548361, DIVERSITY_HERFINDAHL: 0.9854815, COVERAGE_ITEM: 0.1591104, COVERAGE_ITEM_HIT: 0.0298555, ITEMS_IN_GT: 0.8701015, COVERAGE_USER: 0.9768671, COVERAGE_USER_HIT: 0.3291936, USERS_IN_GT: 0.9768671, DIVERSITY_GINI: 0.0086389, SHANNON_ENTROPY: 7.6556441, RATIO_DIVERSITY_HERFINDAHL: 0.9858065, RATIO_DIVERSITY_GINI: 0.0193933, RATIO_SHANNON_ENTROPY: 0.5673398, RATIO_AVERAGE_POPULARITY: 5.7177417, RATIO_NOVELTY: 0.2278145, \n",
      "\n",
      "Iteration No: 181 ended. Evaluation done at random point.\n",
      "Time taken: 141.9430\n",
      "Function value obtained: -0.0223\n",
      "Current minimum: -0.0268\n",
      "Iteration No: 182 started. Evaluating function at random point.\n",
      "SearchBayesianSkopt: Testing config: {'alpha': 40.234453087391366, 'beta': 81.28564788905149, 'gamma': 3.781082656999358, 'theta': 8.793829986598857, 'sigma': 53.95685031458988, 'epsilon': 60.97828226656738}\n"
     ]
    },
    {
     "name": "stdout",
     "output_type": "stream",
     "text": [
      "DifferentLossScoresHybridRecommender: URM Detected 3461 (12.4%) items with no interactions.\n"
     ]
    },
    {
     "name": "stdout",
     "output_type": "stream",
     "text": [
      "EvaluatorHoldout: Processed 40666 (100.0%) in 2.36 min. Users per second: 288\n"
     ]
    },
    {
     "name": "stdout",
     "output_type": "stream",
     "text": [
      "SearchBayesianSkopt: Config 181 is suboptimal. Config: {'alpha': 40.234453087391366, 'beta': 81.28564788905149, 'gamma': 3.781082656999358, 'theta': 8.793829986598857, 'sigma': 53.95685031458988, 'epsilon': 60.97828226656738} - results: PRECISION: 0.0465868, PRECISION_RECALL_MIN_DEN: 0.0802946, RECALL: 0.0757920, MAP: 0.0214826, MAP_MIN_DEN: 0.0364915, MRR: 0.1544062, NDCG: 0.0749493, F1: 0.0577046, HIT_RATE: 0.3312103, ARHR_ALL_HITS: 0.1812459, NOVELTY: 0.0034526, AVERAGE_POPULARITY: 0.3081379, DIVERSITY_MEAN_INTER_LIST: 0.8298008, DIVERSITY_HERFINDAHL: 0.9829780, COVERAGE_ITEM: 0.1510655, COVERAGE_ITEM_HIT: 0.0286041, ITEMS_IN_GT: 0.8701015, COVERAGE_USER: 0.9768671, COVERAGE_USER_HIT: 0.3235485, USERS_IN_GT: 0.9768671, DIVERSITY_GINI: 0.0079415, SHANNON_ENTROPY: 7.4510851, RATIO_DIVERSITY_HERFINDAHL: 0.9833022, RATIO_DIVERSITY_GINI: 0.0178278, RATIO_SHANNON_ENTROPY: 0.5521805, RATIO_AVERAGE_POPULARITY: 6.0481412, RATIO_NOVELTY: 0.2254322, \n",
      "\n",
      "Iteration No: 182 ended. Evaluation done at random point.\n",
      "Time taken: 141.6495\n",
      "Function value obtained: -0.0215\n",
      "Current minimum: -0.0268\n",
      "Iteration No: 183 started. Evaluating function at random point.\n",
      "SearchBayesianSkopt: Testing config: {'alpha': 42.26266848163267, 'beta': 25.99794038420456, 'gamma': 78.15018932863214, 'theta': 82.80351208177802, 'sigma': 1.8375286345620139, 'epsilon': 87.96542042498315}\n",
      "DifferentLossScoresHybridRecommender: URM Detected 3461 (12.4%) items with no interactions.\n"
     ]
    },
    {
     "name": "stdout",
     "output_type": "stream",
     "text": [
      "EvaluatorHoldout: Processed 40666 (100.0%) in 2.36 min. Users per second: 287\n"
     ]
    },
    {
     "name": "stdout",
     "output_type": "stream",
     "text": [
      "SearchBayesianSkopt: Config 182 is suboptimal. Config: {'alpha': 42.26266848163267, 'beta': 25.99794038420456, 'gamma': 78.15018932863214, 'theta': 82.80351208177802, 'sigma': 1.8375286345620139, 'epsilon': 87.96542042498315} - results: PRECISION: 0.0534697, PRECISION_RECALL_MIN_DEN: 0.0889267, RECALL: 0.0830835, MAP: 0.0262723, MAP_MIN_DEN: 0.0426530, MRR: 0.1758403, NDCG: 0.0853957, F1: 0.0650655, HIT_RATE: 0.3532927, ARHR_ALL_HITS: 0.2133586, NOVELTY: 0.0037241, AVERAGE_POPULARITY: 0.1856245, DIVERSITY_MEAN_INTER_LIST: 0.9541166, DIVERSITY_HERFINDAHL: 0.9954093, COVERAGE_ITEM: 0.1116991, COVERAGE_ITEM_HIT: 0.0417978, ITEMS_IN_GT: 0.8701015, COVERAGE_USER: 0.9768671, COVERAGE_USER_HIT: 0.3451200, USERS_IN_GT: 0.9768671, DIVERSITY_GINI: 0.0127005, SHANNON_ENTROPY: 8.7463091, RATIO_DIVERSITY_HERFINDAHL: 0.9957376, RATIO_DIVERSITY_GINI: 0.0285113, RATIO_SHANNON_ENTROPY: 0.6481662, RATIO_AVERAGE_POPULARITY: 3.6434432, RATIO_NOVELTY: 0.2431585, \n",
      "\n",
      "Iteration No: 183 ended. Evaluation done at random point.\n",
      "Time taken: 141.7240\n",
      "Function value obtained: -0.0263\n",
      "Current minimum: -0.0268\n",
      "Iteration No: 184 started. Evaluating function at random point.\n",
      "SearchBayesianSkopt: Testing config: {'alpha': 35.70635258731266, 'beta': 91.60186447885694, 'gamma': 45.08649551358764, 'theta': 68.36789238194623, 'sigma': 3.434896723624482, 'epsilon': 34.78349848046461}\n"
     ]
    },
    {
     "name": "stdout",
     "output_type": "stream",
     "text": [
      "DifferentLossScoresHybridRecommender: URM Detected 3461 (12.4%) items with no interactions.\n"
     ]
    },
    {
     "name": "stdout",
     "output_type": "stream",
     "text": [
      "EvaluatorHoldout: Processed 40666 (100.0%) in 2.37 min. Users per second: 287\n"
     ]
    },
    {
     "name": "stdout",
     "output_type": "stream",
     "text": [
      "SearchBayesianSkopt: Config 183 is suboptimal. Config: {'alpha': 35.70635258731266, 'beta': 91.60186447885694, 'gamma': 45.08649551358764, 'theta': 68.36789238194623, 'sigma': 3.434896723624482, 'epsilon': 34.78349848046461} - results: PRECISION: 0.0556337, PRECISION_RECALL_MIN_DEN: 0.0929672, RECALL: 0.0870222, MAP: 0.0273769, MAP_MIN_DEN: 0.0446841, MRR: 0.1830464, NDCG: 0.0891524, F1: 0.0678747, HIT_RATE: 0.3654896, ARHR_ALL_HITS: 0.2221495, NOVELTY: 0.0036996, AVERAGE_POPULARITY: 0.2121831, DIVERSITY_MEAN_INTER_LIST: 0.9362419, DIVERSITY_HERFINDAHL: 0.9936219, COVERAGE_ITEM: 0.1310784, COVERAGE_ITEM_HIT: 0.0460526, ITEMS_IN_GT: 0.8701015, COVERAGE_USER: 0.9768671, COVERAGE_USER_HIT: 0.3570348, USERS_IN_GT: 0.9768671, DIVERSITY_GINI: 0.0142181, SHANNON_ENTROPY: 8.6947018, RATIO_DIVERSITY_HERFINDAHL: 0.9939496, RATIO_DIVERSITY_GINI: 0.0319181, RATIO_SHANNON_ENTROPY: 0.6443417, RATIO_AVERAGE_POPULARITY: 4.1647377, RATIO_NOVELTY: 0.2415569, \n",
      "\n",
      "Iteration No: 184 ended. Evaluation done at random point.\n",
      "Time taken: 142.1209\n",
      "Function value obtained: -0.0274\n",
      "Current minimum: -0.0274\n",
      "Iteration No: 185 started. Evaluating function at random point.\n",
      "SearchBayesianSkopt: Testing config: {'alpha': 15.632013620538046, 'beta': 91.96393978838317, 'gamma': 69.92173284481467, 'theta': 21.63805028557107, 'sigma': 14.574997266687143, 'epsilon': 88.89169095818806}\n"
     ]
    },
    {
     "name": "stdout",
     "output_type": "stream",
     "text": [
      "DifferentLossScoresHybridRecommender: URM Detected 3461 (12.4%) items with no interactions.\n"
     ]
    },
    {
     "name": "stdout",
     "output_type": "stream",
     "text": [
      "EvaluatorHoldout: Processed 40666 (100.0%) in 2.37 min. Users per second: 286\n"
     ]
    }
   ],
   "source": [
    "#let's run the bayesian search\n",
    "hyperparameterSearch.search(recommender_input_args,\n",
    "                       hyperparameter_search_space = hyperparameters_range_dictionary,\n",
    "                       n_cases = n_cases,\n",
    "                       n_random_starts = n_random_starts,\n",
    "                       save_model = \"last\",\n",
    "                       output_folder_path = output_folder_path, # Where to save the results\n",
    "                       output_file_name_root = recommender_class.RECOMMENDER_NAME, # How to call the files\n",
    "                       metric_to_optimize = metric_to_optimize,\n",
    "                       cutoff_to_optimize = cutoff_to_optimize,\n",
    "                      )"
   ]
  }
 ],
 "metadata": {
  "kernelspec": {
   "display_name": "Python 3",
   "language": "python",
   "name": "python3"
  },
  "language_info": {
   "codemirror_mode": {
    "name": "ipython",
    "version": 3
   },
   "file_extension": ".py",
   "mimetype": "text/x-python",
   "name": "python",
   "nbconvert_exporter": "python",
   "pygments_lexer": "ipython3",
   "version": "3.6.4"
  },
  "papermill": {
   "default_parameters": {},
   "duration": null,
   "end_time": null,
   "environment_variables": {},
   "exception": null,
   "input_path": "__notebook__.ipynb",
   "output_path": "__notebook__.ipynb",
   "parameters": {},
   "start_time": "2023-01-18T09:35:19.937069",
   "version": "2.3.4"
  }
 },
 "nbformat": 4,
 "nbformat_minor": 5
}